{
 "cells": [
  {
   "cell_type": "code",
   "execution_count": 11,
   "metadata": {},
   "outputs": [
    {
     "name": "stdout",
     "output_type": "stream",
     "text": [
      "D:\\python_using\\text01\\stickman\\py数据处理、分析、可视化、数据化运营\\数据对象的读写练习\n",
      "D:\\python_using\\text01\\stickman\\py数据处理、分析、可视化、数据化运营\n"
     ]
    }
   ],
   "source": [
    "import os\n",
    "#获取当前目录\n",
    "print(os.getcwd())\n",
    "#获取上一级目录\n",
    "print(os.path.dirname(os.getcwd()))\n",
    "#更改工作目录\n",
    "os.chdir(r'D:\\python_using\\text01\\stickman\\py数据处理、分析、可视化、数据化运营\\数据对象的读写练习')"
   ]
  },
  {
   "cell_type": "code",
   "execution_count": 19,
   "metadata": {},
   "outputs": [],
   "source": [
    "# os.mkdir('simgle_path')\n",
    "#exist_ok判断是否已存在目录\n",
    "os.makedirs(\"simple_path\",exist_ok=True)\n",
    "os.makedirs(\"simple_path/path_1/path_2\",exist_ok=True)\n"
   ]
  },
  {
   "cell_type": "code",
   "execution_count": null,
   "metadata": {},
   "outputs": [],
   "source": []
  }
 ],
 "metadata": {
  "kernelspec": {
   "display_name": "Python 3",
   "language": "python",
   "name": "python3"
  },
  "language_info": {
   "codemirror_mode": {
    "name": "ipython",
    "version": 3
   },
   "file_extension": ".py",
   "mimetype": "text/x-python",
   "name": "python",
   "nbconvert_exporter": "python",
   "pygments_lexer": "ipython3",
   "version": "3.7.4"
  }
 },
 "nbformat": 4,
 "nbformat_minor": 2
}
