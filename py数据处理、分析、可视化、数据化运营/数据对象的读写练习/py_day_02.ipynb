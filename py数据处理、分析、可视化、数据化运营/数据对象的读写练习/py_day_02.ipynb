{
 "cells": [
  {
   "cell_type": "code",
   "execution_count": 11,
   "metadata": {},
   "outputs": [
    {
     "name": "stdout",
     "output_type": "stream",
     "text": [
      "D:\\python_using\\text01\\stickman\\py数据处理、分析、可视化、数据化运营\\数据对象的读写练习\n",
      "D:\\python_using\\text01\\stickman\\py数据处理、分析、可视化、数据化运营\n"
     ]
    }
   ],
   "source": [
    "import os\n",
    "#获取当前目录\n",
    "print(os.getcwd())\n",
    "#获取上一级目录\n",
    "print(os.path.dirname(os.getcwd()))\n",
    "#更改工作目录\n",
    "os.chdir(r'D:\\python_using\\text01\\stickman\\py数据处理、分析、可视化、数据化运营\\数据对象的读写练习')"
   ]
  },
  {
   "cell_type": "code",
   "execution_count": 19,
   "metadata": {},
   "outputs": [],
   "source": [
    "# os.mkdir('simgle_path')\n",
    "#exist_ok判断是否已存在目录\n",
    "os.makedirs(\"simple_path\",exist_ok=True)\n",
    "os.makedirs(\"simple_path/path_1/path_2\",exist_ok=True)\n"
   ]
  },
  {
   "cell_type": "code",
   "execution_count": 4,
   "metadata": {},
   "outputs": [],
   "source": [
    "data_file = open('row_data','w+')\n",
    "data_file.write(\"this is line1\\nthis is line2\")\n",
    "data_file.close()"
   ]
  },
  {
   "cell_type": "code",
   "execution_count": 12,
   "metadata": {},
   "outputs": [
    {
     "name": "stdout",
     "output_type": "stream",
     "text": [
      "<class 'str'>\n",
      "this is line1\n",
      "this is line2\n",
      "=========================\n",
      "this is line1\n",
      "\n",
      "=========================\n",
      "['this is line1\\n', 'this is line2']\n"
     ]
    }
   ],
   "source": [
    "data1='row_data'\n",
    "print(type(data1))\n",
    "with open(data1) as f:\n",
    "    data_test1=f.read()\n",
    "print(data_test1)\n",
    "print(\"=========================\")\n",
    "\n",
    "with open(data1) as f:\n",
    "    data_test2=f.readline()\n",
    "print(data_test2)\n",
    "print(\"=========================\")\n",
    "\n",
    "with open(data1) as f:\n",
    "    data_test3=f.readlines()\n",
    "print(data_test3)"
   ]
  },
  {
   "cell_type": "code",
   "execution_count": 13,
   "metadata": {},
   "outputs": [],
   "source": [
    "with open(\"raw_data_write\",'w+') as f:\n",
    "    f.write(data_test2)\n",
    "with open(\"raw_data_writelines\",'w+') as f:\n",
    "    f.writelines(data_test3)"
   ]
  },
  {
   "cell_type": "code",
   "execution_count": 30,
   "metadata": {},
   "outputs": [],
   "source": [
    "import pymysql \n",
    "import numpy as np\n",
    "import pandas as pd\n",
    "config ={\n",
    "    'host':'127.0.0.1',\n",
    "    'user':'root',\n",
    "    'password':\"\",\n",
    "    'port':3306,\n",
    "    'database':'o2o',\n",
    "    'charset':'utf8'\n",
    "}\n",
    "cnn = pymysql.connect(**config)\n",
    "cusor = cnn.cursor()"
   ]
  },
  {
   "cell_type": "code",
   "execution_count": 33,
   "metadata": {},
   "outputs": [
    {
     "name": "stdout",
     "output_type": "stream",
     "text": [
      "(3, 1, 2, 1, '测试的店铺：', '测试描述', '测试地址', '18819479538', 'test', None, datetime.datetime(2021, 4, 30, 8, 39, 59), datetime.datetime(2021, 4, 30, 8, 41, 55), 1, '--->审核中......')\n",
      "\n",
      "\n",
      "(9, 1, 2, 1, '测试的店铺1', 'test1', 'test1', '15625591467', '\\\\upload\\\\item\\\\shop\\\\9\\\\', None, datetime.datetime(2021, 5, 3, 9, 32, 11), datetime.datetime(2021, 5, 3, 9, 32, 11), 0, '--->审核中......')\n",
      "\n",
      "\n"
     ]
    }
   ],
   "source": [
    "sql = \"SELECT * FROM tb_shop\"\n",
    "cusor.execute(sql)\n",
    "data = cusor.fetchall()\n",
    "for i in data[:2]:\n",
    "    print(i)\n",
    "    print(\"\\n\")\n"
   ]
  },
  {
   "cell_type": "code",
   "execution_count": 25,
   "metadata": {},
   "outputs": [
    {
     "name": "stdout",
     "output_type": "stream",
     "text": [
      "Collecting pymysql\n",
      "  Using cached https://files.pythonhosted.org/packages/4f/52/a115fe175028b058df353c5a3d5290b71514a83f67078a6482cff24d6137/PyMySQL-1.0.2-py3-none-any.whl\n",
      "Installing collected packages: pymysql\n",
      "Successfully installed pymysql-1.0.2\n"
     ]
    }
   ],
   "source": [
    "\n"
   ]
  },
  {
   "cell_type": "code",
   "execution_count": null,
   "metadata": {},
   "outputs": [],
   "source": []
  }
 ],
 "metadata": {
  "kernelspec": {
   "display_name": "Python 3",
   "language": "python",
   "name": "python3"
  },
  "language_info": {
   "codemirror_mode": {
    "name": "ipython",
    "version": 3
   },
   "file_extension": ".py",
   "mimetype": "text/x-python",
   "name": "python",
   "nbconvert_exporter": "python",
   "pygments_lexer": "ipython3",
   "version": "3.7.4"
  }
 },
 "nbformat": 4,
 "nbformat_minor": 2
}
