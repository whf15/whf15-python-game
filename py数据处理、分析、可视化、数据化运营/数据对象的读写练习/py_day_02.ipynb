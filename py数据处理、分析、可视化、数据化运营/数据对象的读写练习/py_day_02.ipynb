{
 "cells": [
  {
   "cell_type": "code",
   "execution_count": 11,
   "metadata": {},
   "outputs": [
    {
     "name": "stdout",
     "output_type": "stream",
     "text": [
      "D:\\python_using\\text01\\stickman\\py数据处理、分析、可视化、数据化运营\\数据对象的读写练习\n",
      "D:\\python_using\\text01\\stickman\\py数据处理、分析、可视化、数据化运营\n"
     ]
    }
   ],
   "source": [
    "import os\n",
    "#获取当前目录\n",
    "print(os.getcwd())\n",
    "#获取上一级目录\n",
    "print(os.path.dirname(os.getcwd()))\n",
    "#更改工作目录\n",
    "os.chdir(r'D:\\python_using\\text01\\stickman\\py数据处理、分析、可视化、数据化运营\\数据对象的读写练习')"
   ]
  },
  {
   "cell_type": "code",
   "execution_count": 19,
   "metadata": {},
   "outputs": [],
   "source": [
    "# os.mkdir('simgle_path')\n",
    "#exist_ok判断是否已存在目录\n",
    "os.makedirs(\"simple_path\",exist_ok=True)\n",
    "os.makedirs(\"simple_path/path_1/path_2\",exist_ok=True)\n"
   ]
  },
  {
   "cell_type": "code",
   "execution_count": 4,
   "metadata": {},
   "outputs": [],
   "source": [
    "data_file = open('row_data','w+')\n",
    "data_file.write(\"this is line1\\nthis is line2\")\n",
    "data_file.close()"
   ]
  },
  {
   "cell_type": "code",
   "execution_count": 12,
   "metadata": {},
   "outputs": [
    {
     "name": "stdout",
     "output_type": "stream",
     "text": [
      "<class 'str'>\n",
      "this is line1\n",
      "this is line2\n",
      "=========================\n",
      "this is line1\n",
      "\n",
      "=========================\n",
      "['this is line1\\n', 'this is line2']\n"
     ]
    }
   ],
   "source": [
    "data1='row_data'\n",
    "print(type(data1))\n",
    "with open(data1) as f:\n",
    "    data_test1=f.read()\n",
    "print(data_test1)\n",
    "print(\"=========================\")\n",
    "\n",
    "with open(data1) as f:\n",
    "    data_test2=f.readline()\n",
    "print(data_test2)\n",
    "print(\"=========================\")\n",
    "\n",
    "with open(data1) as f:\n",
    "    data_test3=f.readlines()\n",
    "print(data_test3)"
   ]
  },
  {
   "cell_type": "code",
   "execution_count": 13,
   "metadata": {},
   "outputs": [],
   "source": [
    "with open(\"raw_data_write\",'w+') as f:\n",
    "    f.write(data_test2)\n",
    "with open(\"raw_data_writelines\",'w+') as f:\n",
    "    f.writelines(data_test3)"
   ]
  },
  {
   "cell_type": "code",
   "execution_count": 2,
   "metadata": {},
   "outputs": [],
   "source": [
    "import pymysql \n",
    "import numpy as np\n",
    "import pandas as pd\n",
    "config ={\n",
    "    'host':'127.0.0.1',\n",
    "    'user':'root',\n",
    "    'password':\"whfoxxx1999\",\n",
    "    'port':3306,\n",
    "    'database':'o2o',\n",
    "    'charset':'utf8'\n",
    "}\n",
    "cnn = pymysql.connect(**config)\n",
    "cusor = cnn.cursor()"
   ]
  },
  {
   "cell_type": "code",
   "execution_count": 7,
   "metadata": {},
   "outputs": [
    {
     "name": "stdout",
     "output_type": "stream",
     "text": [
      "(3, 1, 2, 1, '测试的店铺：', '测试描述', '测试地址', '18819479538', 'test', None, datetime.datetime(2021, 4, 30, 8, 39, 59), datetime.datetime(2021, 4, 30, 8, 41, 55), 1, '--->审核中......')\n",
      "\n",
      "\n",
      "(9, 1, 2, 1, '测试的店铺1', 'test1', 'test1', '15625591467', '\\\\upload\\\\item\\\\shop\\\\9\\\\', None, datetime.datetime(2021, 5, 3, 9, 32, 11), datetime.datetime(2021, 5, 3, 9, 32, 11), 0, '--->审核中......')\n",
      "\n",
      "\n",
      "(10, 1, 2, 1, '测试的店铺2', 'test1', 'test1', '15625591467', '\\\\upload\\\\item\\\\shop\\\\10\\\\2021050317401650225.jpg', None, datetime.datetime(2021, 5, 3, 9, 40, 17), datetime.datetime(2021, 5, 3, 9, 40, 17), 0, '--->审核中......')\n",
      "\n",
      "\n"
     ]
    }
   ],
   "source": [
    "sql = \"SELECT * FROM tb_shop\"\n",
    "cusor.execute(sql)\n",
    "data = cusor.fetchall()\n",
    "for i in data[:3]:\n",
    "    print(i)\n",
    "    print(\"\\n\")\n"
   ]
  },
  {
   "cell_type": "code",
   "execution_count": 4,
   "metadata": {},
   "outputs": [
    {
     "data": {
      "text/plain": [
       "3"
      ]
     },
     "execution_count": 4,
     "metadata": {},
     "output_type": "execute_result"
    }
   ],
   "source": [
    "cusor.execute(sql)"
   ]
  },
  {
   "cell_type": "code",
   "execution_count": 5,
   "metadata": {},
   "outputs": [],
   "source": [
    "#用pandas的方式读取\n",
    "df = pd.read_sql(sql,cnn)"
   ]
  },
  {
   "cell_type": "code",
   "execution_count": 6,
   "metadata": {},
   "outputs": [
    {
     "data": {
      "text/html": [
       "<div>\n",
       "<style scoped>\n",
       "    .dataframe tbody tr th:only-of-type {\n",
       "        vertical-align: middle;\n",
       "    }\n",
       "\n",
       "    .dataframe tbody tr th {\n",
       "        vertical-align: top;\n",
       "    }\n",
       "\n",
       "    .dataframe thead th {\n",
       "        text-align: right;\n",
       "    }\n",
       "</style>\n",
       "<table border=\"1\" class=\"dataframe\">\n",
       "  <thead>\n",
       "    <tr style=\"text-align: right;\">\n",
       "      <th></th>\n",
       "      <th>shop_id</th>\n",
       "      <th>owner_id</th>\n",
       "      <th>area_id</th>\n",
       "      <th>shop_category_id</th>\n",
       "      <th>shop_name</th>\n",
       "      <th>shop_desc</th>\n",
       "      <th>shop_addr</th>\n",
       "      <th>phone</th>\n",
       "      <th>shop_img</th>\n",
       "      <th>priority</th>\n",
       "      <th>create_time</th>\n",
       "      <th>last_edit_time</th>\n",
       "      <th>enable_status</th>\n",
       "      <th>advice</th>\n",
       "    </tr>\n",
       "  </thead>\n",
       "  <tbody>\n",
       "    <tr>\n",
       "      <td>0</td>\n",
       "      <td>3</td>\n",
       "      <td>1</td>\n",
       "      <td>2</td>\n",
       "      <td>1</td>\n",
       "      <td>测试的店铺：</td>\n",
       "      <td>测试描述</td>\n",
       "      <td>测试地址</td>\n",
       "      <td>18819479538</td>\n",
       "      <td>test</td>\n",
       "      <td>None</td>\n",
       "      <td>2021-04-30 08:39:59</td>\n",
       "      <td>2021-04-30 08:41:55</td>\n",
       "      <td>1</td>\n",
       "      <td>---&gt;审核中......</td>\n",
       "    </tr>\n",
       "    <tr>\n",
       "      <td>1</td>\n",
       "      <td>9</td>\n",
       "      <td>1</td>\n",
       "      <td>2</td>\n",
       "      <td>1</td>\n",
       "      <td>测试的店铺1</td>\n",
       "      <td>test1</td>\n",
       "      <td>test1</td>\n",
       "      <td>15625591467</td>\n",
       "      <td>\\upload\\item\\shop\\9\\</td>\n",
       "      <td>None</td>\n",
       "      <td>2021-05-03 09:32:11</td>\n",
       "      <td>2021-05-03 09:32:11</td>\n",
       "      <td>0</td>\n",
       "      <td>---&gt;审核中......</td>\n",
       "    </tr>\n",
       "    <tr>\n",
       "      <td>2</td>\n",
       "      <td>10</td>\n",
       "      <td>1</td>\n",
       "      <td>2</td>\n",
       "      <td>1</td>\n",
       "      <td>测试的店铺2</td>\n",
       "      <td>test1</td>\n",
       "      <td>test1</td>\n",
       "      <td>15625591467</td>\n",
       "      <td>\\upload\\item\\shop\\10\\2021050317401650225.jpg</td>\n",
       "      <td>None</td>\n",
       "      <td>2021-05-03 09:40:17</td>\n",
       "      <td>2021-05-03 09:40:17</td>\n",
       "      <td>0</td>\n",
       "      <td>---&gt;审核中......</td>\n",
       "    </tr>\n",
       "  </tbody>\n",
       "</table>\n",
       "</div>"
      ],
      "text/plain": [
       "   shop_id  owner_id  area_id  shop_category_id shop_name shop_desc shop_addr  \\\n",
       "0        3         1        2                 1    测试的店铺：      测试描述      测试地址   \n",
       "1        9         1        2                 1    测试的店铺1     test1     test1   \n",
       "2       10         1        2                 1    测试的店铺2     test1     test1   \n",
       "\n",
       "         phone                                      shop_img priority  \\\n",
       "0  18819479538                                          test     None   \n",
       "1  15625591467                          \\upload\\item\\shop\\9\\     None   \n",
       "2  15625591467  \\upload\\item\\shop\\10\\2021050317401650225.jpg     None   \n",
       "\n",
       "          create_time      last_edit_time  enable_status         advice  \n",
       "0 2021-04-30 08:39:59 2021-04-30 08:41:55              1  --->审核中......  \n",
       "1 2021-05-03 09:32:11 2021-05-03 09:32:11              0  --->审核中......  \n",
       "2 2021-05-03 09:40:17 2021-05-03 09:40:17              0  --->审核中......  "
      ]
     },
     "execution_count": 6,
     "metadata": {},
     "output_type": "execute_result"
    }
   ],
   "source": [
    "df.head(5)"
   ]
  },
  {
   "cell_type": "code",
   "execution_count": 9,
   "metadata": {},
   "outputs": [
    {
     "data": {
      "text/plain": [
       "(3, 14)"
      ]
     },
     "execution_count": 9,
     "metadata": {},
     "output_type": "execute_result"
    }
   ],
   "source": [
    "#读取的数据有多少行多少列\n",
    "df.shape"
   ]
  },
  {
   "cell_type": "markdown",
   "metadata": {},
   "source": [
    "# Create DataBase and Table"
   ]
  },
  {
   "cell_type": "code",
   "execution_count": 27,
   "metadata": {},
   "outputs": [],
   "source": [
    "import pymysql\n",
    "# Open database connection\n",
    "\n",
    "config ={\n",
    "    'host':'localhost',\n",
    "    'user':'root',\n",
    "    'password':\"whfoxxx1999\",\n",
    "}\n",
    "db = pymysql.connect(**config)\n",
    "\n",
    "# Prepare a cursor object using cursor() methor\n",
    "# 准备移动的游标（可以定位到结果的某一条数据，也可以对多条数据进行操作，\n",
    "# 还可以移动、定位到符合要求的操作数据）\n",
    "\n",
    "cursor = db.cursor()"
   ]
  },
  {
   "cell_type": "code",
   "execution_count": 29,
   "metadata": {},
   "outputs": [
    {
     "data": {
      "text/plain": [
       "1"
      ]
     },
     "execution_count": 29,
     "metadata": {},
     "output_type": "execute_result"
    }
   ],
   "source": [
    "# Create a DataBase to start\n",
    "cursor.execute(\"create database if not exists test\")"
   ]
  },
  {
   "cell_type": "code",
   "execution_count": 30,
   "metadata": {},
   "outputs": [
    {
     "data": {
      "text/plain": [
       "0"
      ]
     },
     "execution_count": 30,
     "metadata": {},
     "output_type": "execute_result"
    }
   ],
   "source": [
    "#Use the dataBase test\n",
    "cursor.execute(\"use test\")"
   ]
  },
  {
   "cell_type": "code",
   "execution_count": 31,
   "metadata": {},
   "outputs": [
    {
     "data": {
      "text/plain": [
       "0"
      ]
     },
     "execution_count": 31,
     "metadata": {},
     "output_type": "execute_result"
    }
   ],
   "source": [
    "# create table employee\n",
    "sql = '''\n",
    "    create table if not exists employee(\n",
    "    first_name char(20) not null,\n",
    "    last_name char(20) ,\n",
    "    age int,\n",
    "    gender char(1),\n",
    "    income float\n",
    "    );\n",
    "'''\n",
    "cursor.execute(sql)"
   ]
  },
  {
   "cell_type": "code",
   "execution_count": 33,
   "metadata": {},
   "outputs": [],
   "source": [
    "#disconnect from server\n",
    "db.close()"
   ]
  },
  {
   "cell_type": "code",
   "execution_count": null,
   "metadata": {},
   "outputs": [],
   "source": []
  },
  {
   "cell_type": "code",
   "execution_count": 16,
   "metadata": {},
   "outputs": [],
   "source": [
    "?pymysql.connect\n"
   ]
  },
  {
   "cell_type": "markdown",
   "metadata": {},
   "source": [
    "# insert into table"
   ]
  },
  {
   "cell_type": "code",
   "execution_count": 2,
   "metadata": {},
   "outputs": [],
   "source": [
    "import pymysql\n",
    "import pandas as pd\n",
    "#open database connection\n",
    "conf={\n",
    "    'host':'localhost',\n",
    "    'user':'root',\n",
    "    'password':'whfoxxx1999',\n",
    "    'port':3306,\n",
    "    'database':'test'\n",
    "}\n",
    "db=pymysql.connect(**conf)\n",
    "#prepare a cursor object using cursor() method\n",
    "cursor = db.cursor()\n",
    "\n",
    "#prepare SQL query INSERT a record into database\n",
    "sql =\"\"\"\n",
    "    INSERT INTO EMPLOYEE\n",
    "    VALUES('Whf','four',18,'M',5000)\n",
    "\"\"\"\n",
    "\n",
    "try:\n",
    "    #Excute the sql command\n",
    "    cursor.execute(sql)\n",
    "    #commit your changes in the database\n",
    "    db.commit()\n",
    "except:\n",
    "    #Rollback in case there is any error\n",
    "    db.rollback()\n",
    "    \n",
    "\n",
    "#disconnect from server\n",
    "db.close()"
   ]
  },
  {
   "cell_type": "code",
   "execution_count": 3,
   "metadata": {},
   "outputs": [],
   "source": [
    "db=pymysql.connect(**conf)\n",
    "#prepare a cursor object using cursor() method\n",
    "cursor = db.cursor()\n",
    "sql1 = \"SELECT * FROM EMPLOYEE\"\n",
    "df = pd.read_sql(sql1,db)\n",
    "df.head(5)\n",
    "db.close()"
   ]
  },
  {
   "cell_type": "code",
   "execution_count": 5,
   "metadata": {},
   "outputs": [
    {
     "name": "stdout",
     "output_type": "stream",
     "text": [
      "('Whf', 'fifteen', 21, 'M', 3000.0)\n",
      "fname = Whf,lname = fifteen,age = 21,gender = M,income = 3000 \n",
      "('Whf', 'fifteen', 21, 'M', 3000.0)\n",
      "fname = Whf,lname = fifteen,age = 21,gender = M,income = 3000 \n",
      "('Whf', 'four', 18, 'M', 5000.0)\n",
      "fname = Whf,lname = four,age = 18,gender = M,income = 5000 \n"
     ]
    }
   ],
   "source": [
    "db=pymysql.connect(**conf)\n",
    "#prepare a cursor object using cursor() method\n",
    "cursor = db.cursor()\n",
    "sql1 = \"SELECT * FROM EMPLOYEE\"\n",
    "try:\n",
    "    #execute the sql command\n",
    "    cursor.execute(sql1)\n",
    "    #fetch all the rows in a list of lists\n",
    "    results = cursor.fetchall()\n",
    "    for row in results:\n",
    "        print(row)\n",
    "        fname = row[0]\n",
    "        lname = row[1]\n",
    "        age = row[2]\n",
    "        gender = row[3]\n",
    "        income = row[4]\n",
    "    #print fetchall result    \n",
    "        print(f'fname = %s,lname = %s,age = %d,gender = %s,income = %d '\n",
    "              %(fname,lname,age,gender,income))\n",
    "except:\n",
    "    print(\"error: unable to fetch data\")\n",
    "db.close()"
   ]
  },
  {
   "cell_type": "markdown",
   "metadata": {},
   "source": [
    "# update database "
   ]
  },
  {
   "cell_type": "markdown",
   "metadata": {},
   "source": [
    "# delete database 省略......"
   ]
  },
  {
   "cell_type": "markdown",
   "metadata": {},
   "source": [
    "# numpy 初了解"
   ]
  },
  {
   "cell_type": "code",
   "execution_count": 6,
   "metadata": {},
   "outputs": [],
   "source": [
    "# 1. Create Arrays"
   ]
  },
  {
   "cell_type": "code",
   "execution_count": 7,
   "metadata": {},
   "outputs": [],
   "source": [
    "# 2. Basic Operations of Arrays"
   ]
  },
  {
   "cell_type": "code",
   "execution_count": 8,
   "metadata": {},
   "outputs": [],
   "source": [
    "# 3. Indexing,slicing and Iterating"
   ]
  },
  {
   "cell_type": "code",
   "execution_count": null,
   "metadata": {},
   "outputs": [],
   "source": [
    "#4. Simple Array Operations"
   ]
  }
 ],
 "metadata": {
  "kernelspec": {
   "display_name": "Python 3",
   "language": "python",
   "name": "python3"
  },
  "language_info": {
   "codemirror_mode": {
    "name": "ipython",
    "version": 3
   },
   "file_extension": ".py",
   "mimetype": "text/x-python",
   "name": "python",
   "nbconvert_exporter": "python",
   "pygments_lexer": "ipython3",
   "version": "3.7.4"
  }
 },
 "nbformat": 4,
 "nbformat_minor": 2
}
