{
 "cells": [
  {
   "cell_type": "code",
   "execution_count": 37,
   "metadata": {},
   "outputs": [],
   "source": [
    "#网页请求\n",
    "import requests\n",
    "#延时操作\n",
    "import time\n",
    "#分词操作\n",
    "import jieba\n",
    "#图片格式转换为数组\n",
    "import numpy as np\n",
    "#词云制作\n",
    "from wordcloud import WordCloud as wc\n"
   ]
  },
  {
   "cell_type": "code",
   "execution_count": 35,
   "metadata": {},
   "outputs": [],
   "source": [
    "#!pip install jieba"
   ]
  },
  {
   "cell_type": "code",
   "execution_count": 46,
   "metadata": {},
   "outputs": [],
   "source": [
    "#!pip install wordcloud"
   ]
  },
  {
   "cell_type": "markdown",
   "metadata": {},
   "source": [
    "#获取信息\n",
    "def get_page(self):\n",
    "    try:\n",
    "    # 延时操作，防止太快爬取\n",
    "        time.sleep(0.5)\n",
    "        response=requests.get(self.url,headers=self.headers)\n",
    "    except Exception as e:\n",
    "        print('获取xml内容失败,%s' % e)\n",
    "        return False\n",
    "    else:\n",
    "        if response.status_code == 200:\n",
    "        # 下载xml文件\n",
    "            with open('bilibili.xml','wb') as f:\n",
    "                f.write(response.content)\n",
    "            return True\n",
    "        else:\n",
    "            return False\n",
    " \n",
    "#解析网页\n",
    "def param_page(self):\n",
    "    time.sleep(1)\n",
    "    if  self.barrage_reault:\n",
    "    # 文件路径，html解析器\n",
    "        html=etree.parse('bilibili.xml',etree.HTMLParser())\n",
    "        # xpath解析，获取当前所有的d标签下的所有文本内容\n",
    "        results=html.xpath('//d//text()')\n",
    "        return results"
   ]
  },
  {
   "cell_type": "code",
   "execution_count": 1,
   "metadata": {},
   "outputs": [],
   "source": [
    "from bs4 import BeautifulSoup"
   ]
  },
  {
   "cell_type": "code",
   "execution_count": 24,
   "metadata": {},
   "outputs": [
    {
     "data": {
      "text/plain": [
       "['.\\\\data\\\\bikes.csv', '.\\\\data\\\\bilibli.xml', '.\\\\data\\\\popularity-contest']"
      ]
     },
     "execution_count": 24,
     "metadata": {},
     "output_type": "execute_result"
    }
   ],
   "source": [
    "import glob\n",
    "glob.glob('./*/*')"
   ]
  },
  {
   "cell_type": "code",
   "execution_count": 41,
   "metadata": {},
   "outputs": [
    {
     "name": "stdout",
     "output_type": "stream",
     "text": [
      "[<d p=\"244.96900,5,25,16777215,1619977527,0,2c4a3151,48672461522206727\">这哥们真是收放自如 哈哈哈</d>, <d p=\"256.79900,5,25,16776960,1619972717,0,925f0d6c,48669939621429251\">虽然很不地道，但up我很想看那个录像完整版</d>, <d p=\"391.45200,5,25,15138834,1619968738,0,13d38a53,48667853140787207\">《我把自己打包起来》</d>, <d p=\"383.84700,1,25,16777215,1619967542,0,26178af7,48667226179895303\">你这醉酒还带自我管理意识打</d>, <d p=\"229.93400,1,25,16777215,1619963930,0,c67ea894,48665332535525383\">这个“恐惧”笑死我了哈哈哈哈哈哈</d>, <d p=\"222.19900,5,25,16707842,1619963619,0,1483b443,48665169271717893\">《  幸  福  感  》</d>, <d p=\"143.76600,5,25,15772458,1619942125,0,3811fb3c,48653900539494405\">《买一个早餐店》</d>, <d p=\"103.80400,5,25,16777215,1619940062,0,9278564d,48652818866765827\">《 睡 着 了 ， 但 又 没 有 睡 着 》</d>, <d p=\"9.16300,4,25,16776960,1620377767,0,34844124,48882302377263109\">按照这个播放量，光B站一个地方播放就能赚3W多了，这太吊了</d>, <d p=\"0.65500,1,25,16646914,1620377731,0,b4047b1b,48882283237081095\">究 极 作 战 记 录</d>]\n"
     ]
    }
   ],
   "source": [
    "with open('.\\\\data\\\\bilibli.xml','r',encoding='utf-8') as f:\n",
    "    soup = BeautifulSoup(f,'lxml')\n",
    "    msg = soup.select('d')\n",
    "    print(msg[:10])"
   ]
  },
  {
   "cell_type": "code",
   "execution_count": 45,
   "metadata": {},
   "outputs": [
    {
     "name": "stdout",
     "output_type": "stream",
     "text": [
      "<class 'str'>\n",
      "博  卓  卡  斯  替\n"
     ]
    }
   ],
   "source": [
    "for text in msg:\n",
    "    t = text.get_text()\n",
    "print(type(t))\n",
    "print(t)"
   ]
  },
  {
   "cell_type": "code",
   "execution_count": null,
   "metadata": {},
   "outputs": [],
   "source": []
  }
 ],
 "metadata": {
  "kernelspec": {
   "display_name": "Python 3",
   "language": "python",
   "name": "python3"
  },
  "language_info": {
   "codemirror_mode": {
    "name": "ipython",
    "version": 3
   },
   "file_extension": ".py",
   "mimetype": "text/x-python",
   "name": "python",
   "nbconvert_exporter": "python",
   "pygments_lexer": "ipython3",
   "version": "3.7.4"
  }
 },
 "nbformat": 4,
 "nbformat_minor": 2
}
