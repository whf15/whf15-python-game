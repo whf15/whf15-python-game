{
 "cells": [
  {
   "cell_type": "code",
   "execution_count": 1,
   "metadata": {},
   "outputs": [],
   "source": [
    "#网页请求\n",
    "import requests\n",
    "#延时操作\n",
    "import time\n",
    "#分词操作\n",
    "import jieba\n",
    "#图片格式转换为数组\n",
    "import numpy as np\n",
    "#词云制作\n",
    "from wordcloud import WordCloud as wc\n"
   ]
  },
  {
   "cell_type": "code",
   "execution_count": 35,
   "metadata": {},
   "outputs": [],
   "source": [
    "#!pip install jieba"
   ]
  },
  {
   "cell_type": "code",
   "execution_count": 46,
   "metadata": {},
   "outputs": [],
   "source": [
    "#!pip install wordcloud"
   ]
  },
  {
   "cell_type": "markdown",
   "metadata": {},
   "source": [
    "#获取信息\n",
    "def get_page(self):\n",
    "    try:\n",
    "    # 延时操作，防止太快爬取\n",
    "        time.sleep(0.5)\n",
    "        response=requests.get(self.url,headers=self.headers)\n",
    "    except Exception as e:\n",
    "        print('获取xml内容失败,%s' % e)\n",
    "        return False\n",
    "    else:\n",
    "        if response.status_code == 200:\n",
    "        # 下载xml文件\n",
    "            with open('bilibili.xml','wb') as f:\n",
    "                f.write(response.content)\n",
    "            return True\n",
    "        else:\n",
    "            return False\n",
    " \n",
    "#解析网页\n",
    "def param_page(self):\n",
    "    time.sleep(1)\n",
    "    if  self.barrage_reault:\n",
    "    # 文件路径，html解析器\n",
    "        html=etree.parse('bilibili.xml',etree.HTMLParser())\n",
    "        # xpath解析，获取当前所有的d标签下的所有文本内容\n",
    "        results=html.xpath('//d//text()')\n",
    "        return results"
   ]
  },
  {
   "cell_type": "code",
   "execution_count": 2,
   "metadata": {},
   "outputs": [],
   "source": [
    "from bs4 import BeautifulSoup"
   ]
  },
  {
   "cell_type": "code",
   "execution_count": 3,
   "metadata": {},
   "outputs": [
    {
     "data": {
      "text/plain": [
       "['.\\\\data\\\\bikes.csv', '.\\\\data\\\\bilibli.xml', '.\\\\data\\\\popularity-contest']"
      ]
     },
     "execution_count": 3,
     "metadata": {},
     "output_type": "execute_result"
    }
   ],
   "source": [
    "import glob\n",
    "glob.glob('./*/*')"
   ]
  },
  {
   "cell_type": "code",
   "execution_count": 4,
   "metadata": {},
   "outputs": [
    {
     "name": "stdout",
     "output_type": "stream",
     "text": [
      "[<d p=\"244.96900,5,25,16777215,1619977527,0,2c4a3151,48672461522206727\">这哥们真是收放自如 哈哈哈</d>, <d p=\"256.79900,5,25,16776960,1619972717,0,925f0d6c,48669939621429251\">虽然很不地道，但up我很想看那个录像完整版</d>, <d p=\"391.45200,5,25,15138834,1619968738,0,13d38a53,48667853140787207\">《我把自己打包起来》</d>, <d p=\"383.84700,1,25,16777215,1619967542,0,26178af7,48667226179895303\">你这醉酒还带自我管理意识打</d>, <d p=\"229.93400,1,25,16777215,1619963930,0,c67ea894,48665332535525383\">这个“恐惧”笑死我了哈哈哈哈哈哈</d>, <d p=\"222.19900,5,25,16707842,1619963619,0,1483b443,48665169271717893\">《  幸  福  感  》</d>, <d p=\"143.76600,5,25,15772458,1619942125,0,3811fb3c,48653900539494405\">《买一个早餐店》</d>, <d p=\"103.80400,5,25,16777215,1619940062,0,9278564d,48652818866765827\">《 睡 着 了 ， 但 又 没 有 睡 着 》</d>, <d p=\"9.16300,4,25,16776960,1620377767,0,34844124,48882302377263109\">按照这个播放量，光B站一个地方播放就能赚3W多了，这太吊了</d>, <d p=\"0.65500,1,25,16646914,1620377731,0,b4047b1b,48882283237081095\">究 极 作 战 记 录</d>]\n"
     ]
    }
   ],
   "source": [
    "with open('.\\\\data\\\\bilibli.xml','r',encoding='utf-8') as f:\n",
    "    soup = BeautifulSoup(f,'lxml')\n",
    "    msg = soup.select('d')\n",
    "    print(msg[:10])"
   ]
  },
  {
   "cell_type": "code",
   "execution_count": 11,
   "metadata": {},
   "outputs": [
    {
     "name": "stdout",
     "output_type": "stream",
     "text": [
      "<class 'list'>\n",
      "<class 'str'>\n",
      "博  卓  卡  斯  替\n"
     ]
    }
   ],
   "source": [
    "print(type(msg))\n",
    "for text in msg:\n",
    "    t = text.get_text()\n",
    "    with open(\"test.txt\",\"a+\",encoding=\"utf-8\") as f:\n",
    "        f.write(t)\n",
    "print(type(t))\n",
    "print(t)"
   ]
  },
  {
   "cell_type": "code",
   "execution_count": 19,
   "metadata": {},
   "outputs": [
    {
     "ename": "NameError",
     "evalue": "name '__file__' is not defined",
     "output_type": "error",
     "traceback": [
      "\u001b[1;31m---------------------------------------------------------------------------\u001b[0m",
      "\u001b[1;31mNameError\u001b[0m                                 Traceback (most recent call last)",
      "\u001b[1;32m<ipython-input-19-a5718b8ea9fe>\u001b[0m in \u001b[0;36m<module>\u001b[1;34m\u001b[0m\n\u001b[0;32m      1\u001b[0m \u001b[1;32mfrom\u001b[0m \u001b[0mos\u001b[0m \u001b[1;32mimport\u001b[0m \u001b[0mpath\u001b[0m\u001b[1;33m\u001b[0m\u001b[1;33m\u001b[0m\u001b[0m\n\u001b[1;32m----> 2\u001b[1;33m \u001b[0mpath\u001b[0m\u001b[1;33m.\u001b[0m\u001b[0mdirname\u001b[0m\u001b[1;33m(\u001b[0m\u001b[0m__file__\u001b[0m\u001b[1;33m)\u001b[0m\u001b[1;33m\u001b[0m\u001b[1;33m\u001b[0m\u001b[0m\n\u001b[0m",
      "\u001b[1;31mNameError\u001b[0m: name '__file__' is not defined"
     ]
    }
   ],
   "source": [
    "from os import path\n",
    "path.dirname(__file__)"
   ]
  },
  {
   "cell_type": "code",
   "execution_count": 26,
   "metadata": {},
   "outputs": [
    {
     "ename": "AttributeError",
     "evalue": "'_io.TextIOWrapper' object has no attribute 'decode'",
     "output_type": "error",
     "traceback": [
      "\u001b[1;31m---------------------------------------------------------------------------\u001b[0m",
      "\u001b[1;31mAttributeError\u001b[0m                            Traceback (most recent call last)",
      "\u001b[1;32m<ipython-input-26-2883251902b7>\u001b[0m in \u001b[0;36m<module>\u001b[1;34m\u001b[0m\n\u001b[0;32m     17\u001b[0m \u001b[1;31m#刚开始是分完词放进txt再打开却总是显示不出中文很奇怪\u001b[0m\u001b[1;33m\u001b[0m\u001b[1;33m\u001b[0m\u001b[1;33m\u001b[0m\u001b[0m\n\u001b[0;32m     18\u001b[0m \u001b[0mdefault_mode\u001b[0m \u001b[1;33m=\u001b[0m\u001b[0mjieba\u001b[0m\u001b[1;33m.\u001b[0m\u001b[0mcut\u001b[0m\u001b[1;33m(\u001b[0m\u001b[0mfile\u001b[0m\u001b[1;33m)\u001b[0m\u001b[1;33m\u001b[0m\u001b[1;33m\u001b[0m\u001b[0m\n\u001b[1;32m---> 19\u001b[1;33m \u001b[0mtext\u001b[0m \u001b[1;33m=\u001b[0m \u001b[1;34m\" \"\u001b[0m\u001b[1;33m.\u001b[0m\u001b[0mjoin\u001b[0m\u001b[1;33m(\u001b[0m\u001b[0mdefault_mode\u001b[0m\u001b[1;33m)\u001b[0m\u001b[1;33m\u001b[0m\u001b[1;33m\u001b[0m\u001b[0m\n\u001b[0m\u001b[0;32m     20\u001b[0m \u001b[0malice_mask\u001b[0m \u001b[1;33m=\u001b[0m \u001b[0mnp\u001b[0m\u001b[1;33m.\u001b[0m\u001b[0marray\u001b[0m\u001b[1;33m(\u001b[0m\u001b[0mImage\u001b[0m\u001b[1;33m.\u001b[0m\u001b[0mopen\u001b[0m\u001b[1;33m(\u001b[0m\u001b[0mpath\u001b[0m\u001b[1;33m.\u001b[0m\u001b[0mjoin\u001b[0m\u001b[1;33m(\u001b[0m\u001b[0md\u001b[0m\u001b[1;33m,\u001b[0m \u001b[1;34m\"hanter.jpg\"\u001b[0m\u001b[1;33m)\u001b[0m\u001b[1;33m)\u001b[0m\u001b[1;33m)\u001b[0m\u001b[1;33m\u001b[0m\u001b[1;33m\u001b[0m\u001b[0m\n\u001b[0;32m     21\u001b[0m \u001b[0mstopwords\u001b[0m \u001b[1;33m=\u001b[0m \u001b[0mset\u001b[0m\u001b[1;33m(\u001b[0m\u001b[0mSTOPWORDS\u001b[0m\u001b[1;33m)\u001b[0m\u001b[1;33m\u001b[0m\u001b[1;33m\u001b[0m\u001b[0m\n",
      "\u001b[1;32mC:\\ProgramData\\Anaconda3\\lib\\site-packages\\jieba\\__init__.py\u001b[0m in \u001b[0;36mcut\u001b[1;34m(self, sentence, cut_all, HMM, use_paddle)\u001b[0m\n\u001b[0;32m    298\u001b[0m         \"\"\"\n\u001b[0;32m    299\u001b[0m         \u001b[0mis_paddle_installed\u001b[0m \u001b[1;33m=\u001b[0m \u001b[0mcheck_paddle_install\u001b[0m\u001b[1;33m[\u001b[0m\u001b[1;34m'is_paddle_installed'\u001b[0m\u001b[1;33m]\u001b[0m\u001b[1;33m\u001b[0m\u001b[1;33m\u001b[0m\u001b[0m\n\u001b[1;32m--> 300\u001b[1;33m         \u001b[0msentence\u001b[0m \u001b[1;33m=\u001b[0m \u001b[0mstrdecode\u001b[0m\u001b[1;33m(\u001b[0m\u001b[0msentence\u001b[0m\u001b[1;33m)\u001b[0m\u001b[1;33m\u001b[0m\u001b[1;33m\u001b[0m\u001b[0m\n\u001b[0m\u001b[0;32m    301\u001b[0m         \u001b[1;32mif\u001b[0m \u001b[0muse_paddle\u001b[0m \u001b[1;32mand\u001b[0m \u001b[0mis_paddle_installed\u001b[0m\u001b[1;33m:\u001b[0m\u001b[1;33m\u001b[0m\u001b[1;33m\u001b[0m\u001b[0m\n\u001b[0;32m    302\u001b[0m             \u001b[1;31m# if sentence is null, it will raise core exception in paddle.\u001b[0m\u001b[1;33m\u001b[0m\u001b[1;33m\u001b[0m\u001b[1;33m\u001b[0m\u001b[0m\n",
      "\u001b[1;32mC:\\ProgramData\\Anaconda3\\lib\\site-packages\\jieba\\_compat.py\u001b[0m in \u001b[0;36mstrdecode\u001b[1;34m(sentence)\u001b[0m\n\u001b[0;32m     77\u001b[0m     \u001b[1;32mif\u001b[0m \u001b[1;32mnot\u001b[0m \u001b[0misinstance\u001b[0m\u001b[1;33m(\u001b[0m\u001b[0msentence\u001b[0m\u001b[1;33m,\u001b[0m \u001b[0mtext_type\u001b[0m\u001b[1;33m)\u001b[0m\u001b[1;33m:\u001b[0m\u001b[1;33m\u001b[0m\u001b[1;33m\u001b[0m\u001b[0m\n\u001b[0;32m     78\u001b[0m         \u001b[1;32mtry\u001b[0m\u001b[1;33m:\u001b[0m\u001b[1;33m\u001b[0m\u001b[1;33m\u001b[0m\u001b[0m\n\u001b[1;32m---> 79\u001b[1;33m             \u001b[0msentence\u001b[0m \u001b[1;33m=\u001b[0m \u001b[0msentence\u001b[0m\u001b[1;33m.\u001b[0m\u001b[0mdecode\u001b[0m\u001b[1;33m(\u001b[0m\u001b[1;34m'utf-8'\u001b[0m\u001b[1;33m)\u001b[0m\u001b[1;33m\u001b[0m\u001b[1;33m\u001b[0m\u001b[0m\n\u001b[0m\u001b[0;32m     80\u001b[0m         \u001b[1;32mexcept\u001b[0m \u001b[0mUnicodeDecodeError\u001b[0m\u001b[1;33m:\u001b[0m\u001b[1;33m\u001b[0m\u001b[1;33m\u001b[0m\u001b[0m\n\u001b[0;32m     81\u001b[0m             \u001b[0msentence\u001b[0m \u001b[1;33m=\u001b[0m \u001b[0msentence\u001b[0m\u001b[1;33m.\u001b[0m\u001b[0mdecode\u001b[0m\u001b[1;33m(\u001b[0m\u001b[1;34m'gbk'\u001b[0m\u001b[1;33m,\u001b[0m \u001b[1;34m'ignore'\u001b[0m\u001b[1;33m)\u001b[0m\u001b[1;33m\u001b[0m\u001b[1;33m\u001b[0m\u001b[0m\n",
      "\u001b[1;31mAttributeError\u001b[0m: '_io.TextIOWrapper' object has no attribute 'decode'"
     ]
    }
   ],
   "source": [
    "#!/usr/bin/Python\n",
    "# -*- coding: utf-8 -*-\n",
    "import os\n",
    "from PIL import Image\n",
    "import numpy as np\n",
    "import matplotlib.pyplot as plt\n",
    "import jieba\n",
    "from wordcloud import WordCloud, STOPWORDS\n",
    "\n",
    "\n",
    "###当前文件路径\n",
    "d = os.getcwd()\n",
    "\n",
    "# Read the whole text.\n",
    "file = open('test.txt','r',encoding=\"utf-8\")\n",
    "##进行分词\n",
    "#刚开始是分完词放进txt再打开却总是显示不出中文很奇怪\n",
    "default_mode =jieba.cut(file)\n",
    "text = \" \".join(default_mode)\n",
    "alice_mask = np.array(Image.open(path.join(d, \"hanter.jpg\")))\n",
    "stopwords = set(STOPWORDS)\n",
    "stopwords.add(\"said\")\n",
    "wc = WordCloud(  \n",
    "    #设置字体，不指定就会出现乱码,这个字体文件需要下载\n",
    "    font_path=r'/usr/share/fonts/wqy-microhei/wqy-microhei.ttc',  \n",
    "    background_color=\"white\",   \n",
    "    max_words=2000,   \n",
    "    mask=alice_mask,  \n",
    "    stopwords=stopwords)  \n",
    "# generate word cloud\n",
    "wc.generate(text)\n",
    "\n",
    "# store to file\n",
    "wc.to_file(path.join(d, \"qq_result.jpg\"))\n",
    "\n",
    "# show\n",
    "plt.imshow(wc, interpolation='bilinear')\n",
    "plt.axis(\"off\")\n",
    "plt.figure()\n",
    "plt.imshow(alice_mask, cmap=plt.cm.gray, interpolation='bilinear')\n",
    "plt.axis(\"off\")\n",
    "plt.show()"
   ]
  },
  {
   "cell_type": "code",
   "execution_count": 29,
   "metadata": {},
   "outputs": [
    {
     "data": {
      "image/png": "[encoded data removed]",
      "text/plain": [
       "<Figure size 432x288 with 1 Axes>"
      ]
     },
     "metadata": {
      "needs_background": "light"
     },
     "output_type": "display_data"
    }
   ],
   "source": [
    "import matplotlib.pyplot as plt\n",
    "import jieba\n",
    "from wordcloud import WordCloud\n",
    "\n",
    "\n",
    "# 1.读入txt文本数据\n",
    "text = open(r'test.txt', \"r\",encoding=\"utf-8\").read()\n",
    "#print(text)\n",
    "# 2.结巴中文分词，生成字符串，默认精确模式，如果不通过分词，无法直接生成正确的中文词云\n",
    "cut_text = jieba.cut(text)\n",
    "# print(type(cut_text))\n",
    "# 必须给个符号分隔开分词结果来形成字符串,否则不能绘制词云\n",
    "result = \" \".join(cut_text)\n",
    "#print(result)\n",
    "# 3.生成词云图，这里需要注意的是WordCloud默认不支持中文，所以这里需已下载好的中文字库\n",
    "# 无自定义背景图：需要指定生成词云图的像素大小，默认背景颜色为黑色,统一文字颜色：mode='RGBA'和colormap='pink'\n",
    "wc = WordCloud(\n",
    "        # 设置字体，不指定就会出现乱码\n",
    "        # 设置背景色\n",
    "        background_color='white',\n",
    "        # 设置背景宽\n",
    "        width=800,\n",
    "        # 设置背景高\n",
    "        height=450,\n",
    "        # 最大字体\n",
    "        max_font_size=50,\n",
    "        # 最小字体\n",
    "        min_font_size=10,\n",
    "        mode='RGBA'\n",
    "        #colormap='pink'\n",
    "        )\n",
    "# 产生词云\n",
    "wc.generate(result)\n",
    "# 保存图片\n",
    "wc.to_file(r\"wordcloud.png\") # 按照设置的像素宽高度保存绘制好的词云图，比下面程序显示更清晰\n",
    "# 4.显示图片\n",
    "# 指定所绘图名称\n",
    "plt.figure(\"jay\")\n",
    "# 以图片的形式显示词云\n",
    "plt.imshow(wc)\n",
    "# 关闭图像坐标系\n",
    "plt.axis(\"off\")\n",
    "plt.show()"
   ]
  },
  {
   "cell_type": "code",
   "execution_count": 35,
   "metadata": {},
   "outputs": [
    {
     "ename": "ImportError",
     "evalue": "cannot import name 'imread' from 'scipy.misc' (C:\\ProgramData\\Anaconda3\\lib\\site-packages\\scipy\\misc\\__init__.py)",
     "output_type": "error",
     "traceback": [
      "\u001b[1;31m---------------------------------------------------------------------------\u001b[0m",
      "\u001b[1;31mImportError\u001b[0m                               Traceback (most recent call last)",
      "\u001b[1;32m<ipython-input-35-d7ee6a75110e>\u001b[0m in \u001b[0;36m<module>\u001b[1;34m\u001b[0m\n\u001b[0;32m      1\u001b[0m \u001b[1;32mfrom\u001b[0m \u001b[0mwordcloud\u001b[0m \u001b[1;32mimport\u001b[0m \u001b[0mWordCloud\u001b[0m\u001b[1;33m\u001b[0m\u001b[1;33m\u001b[0m\u001b[0m\n\u001b[1;32m----> 2\u001b[1;33m \u001b[1;32mfrom\u001b[0m \u001b[0mscipy\u001b[0m\u001b[1;33m.\u001b[0m\u001b[0mmisc\u001b[0m \u001b[1;32mimport\u001b[0m \u001b[0mimread\u001b[0m\u001b[1;33m\u001b[0m\u001b[1;33m\u001b[0m\u001b[0m\n\u001b[0m\u001b[0;32m      3\u001b[0m \u001b[1;32mimport\u001b[0m \u001b[0mmatplotlib\u001b[0m\u001b[1;33m.\u001b[0m\u001b[0mpyplot\u001b[0m \u001b[1;32mas\u001b[0m \u001b[0mplt\u001b[0m\u001b[1;33m\u001b[0m\u001b[1;33m\u001b[0m\u001b[0m\n\u001b[0;32m      4\u001b[0m \u001b[1;32mimport\u001b[0m \u001b[0mjieba\u001b[0m\u001b[1;33m\u001b[0m\u001b[1;33m\u001b[0m\u001b[0m\n\u001b[0;32m      5\u001b[0m \u001b[1;33m\u001b[0m\u001b[0m\n",
      "\u001b[1;31mImportError\u001b[0m: cannot import name 'imread' from 'scipy.misc' (C:\\ProgramData\\Anaconda3\\lib\\site-packages\\scipy\\misc\\__init__.py)"
     ]
    }
   ],
   "source": [
    "from wordcloud import WordCloud\n",
    "from scipy.misc import imread\n",
    "import matplotlib.pyplot as plt\n",
    "import jieba\n",
    " \n",
    "def read_deal_text():\n",
    "    with open(\"test.txt\",\"r\",encoding=\"utf-8\") as f:\n",
    "        txt=f.read()\n",
    "    re_move=[\"，\",\"。\",\" \",'\\n','\\xa0']\n",
    "       #去除无效数据\n",
    "    for i in re_move:\n",
    "        txt=txt.replace(i,\" \") \n",
    "    word=jieba.lcut(txt)  #使用精确分词模式\n",
    " \n",
    "    \n",
    "    with open(\"txt_save.txt\",'w',encoding=\"utf-8\") as file:\n",
    "        for i in word:    \n",
    "            file.write(str(i)+' ')\n",
    "    print(\"文本处理完成\")\n",
    " \n",
    "def img_grearte():\n",
    "    mask=imread(\"hanter.jpg\")\n",
    "    with open(\"txt_save.txt\",\"r\",encoding=\"utf-8\") as file:\n",
    "        txt=file.read()\n",
    "    word=WordCloud(background_color=\"white\",\\\n",
    "                    width=800,\\\n",
    "                   height=800,\n",
    "                   font_path='simhei.ttf',\n",
    "                   mask=mask,\n",
    "                   ).generate(txt)\n",
    "    word.to_file('test.png')\n",
    "    print(\"词云图片已保存\")\n",
    "    \n",
    "    plt.imshow(word)    #使用plt库显示图片\n",
    "    plt.axis(\"off\")\n",
    "    plt.show()\n",
    " \n",
    " \n"
   ]
  },
  {
   "cell_type": "code",
   "execution_count": null,
   "metadata": {},
   "outputs": [],
   "source": [
    "!pip uninstall scipy\n",
    "!pip uninstall pillow"
   ]
  },
  {
   "cell_type": "code",
   "execution_count": null,
   "metadata": {},
   "outputs": [],
   "source": [
    "!pip install pillow==5.2.0\n",
    "!pip install scipy==1.1.0"
   ]
  },
  {
   "cell_type": "code",
   "execution_count": 34,
   "metadata": {},
   "outputs": [
    {
     "name": "stdout",
     "output_type": "stream",
     "text": [
      "文本处理完成\n"
     ]
    },
    {
     "ename": "NameError",
     "evalue": "name 'imread' is not defined",
     "output_type": "error",
     "traceback": [
      "\u001b[1;31m---------------------------------------------------------------------------\u001b[0m",
      "\u001b[1;31mNameError\u001b[0m                                 Traceback (most recent call last)",
      "\u001b[1;32m<ipython-input-34-6cd86d7fb9fc>\u001b[0m in \u001b[0;36m<module>\u001b[1;34m\u001b[0m\n\u001b[0;32m      1\u001b[0m \u001b[0mread_deal_text\u001b[0m\u001b[1;33m(\u001b[0m\u001b[1;33m)\u001b[0m\u001b[1;33m\u001b[0m\u001b[1;33m\u001b[0m\u001b[0m\n\u001b[1;32m----> 2\u001b[1;33m \u001b[0mimg_grearte\u001b[0m\u001b[1;33m(\u001b[0m\u001b[1;33m)\u001b[0m\u001b[1;33m\u001b[0m\u001b[1;33m\u001b[0m\u001b[0m\n\u001b[0m",
      "\u001b[1;32m<ipython-input-33-07cd54992382>\u001b[0m in \u001b[0;36mimg_grearte\u001b[1;34m()\u001b[0m\n\u001b[0;32m     20\u001b[0m \u001b[1;33m\u001b[0m\u001b[0m\n\u001b[0;32m     21\u001b[0m \u001b[1;32mdef\u001b[0m \u001b[0mimg_grearte\u001b[0m\u001b[1;33m(\u001b[0m\u001b[1;33m)\u001b[0m\u001b[1;33m:\u001b[0m\u001b[1;33m\u001b[0m\u001b[1;33m\u001b[0m\u001b[0m\n\u001b[1;32m---> 22\u001b[1;33m     \u001b[0mmask\u001b[0m\u001b[1;33m=\u001b[0m\u001b[0mimread\u001b[0m\u001b[1;33m(\u001b[0m\u001b[1;34m\"hanter.jpg\"\u001b[0m\u001b[1;33m)\u001b[0m\u001b[1;33m\u001b[0m\u001b[1;33m\u001b[0m\u001b[0m\n\u001b[0m\u001b[0;32m     23\u001b[0m     \u001b[1;32mwith\u001b[0m \u001b[0mopen\u001b[0m\u001b[1;33m(\u001b[0m\u001b[1;34m\"txt_save.txt\"\u001b[0m\u001b[1;33m,\u001b[0m\u001b[1;34m\"r\"\u001b[0m\u001b[1;33m,\u001b[0m\u001b[0mencoding\u001b[0m\u001b[1;33m=\u001b[0m\u001b[1;34m\"utf-8\"\u001b[0m\u001b[1;33m)\u001b[0m \u001b[1;32mas\u001b[0m \u001b[0mfile\u001b[0m\u001b[1;33m:\u001b[0m\u001b[1;33m\u001b[0m\u001b[1;33m\u001b[0m\u001b[0m\n\u001b[0;32m     24\u001b[0m         \u001b[0mtxt\u001b[0m\u001b[1;33m=\u001b[0m\u001b[0mfile\u001b[0m\u001b[1;33m.\u001b[0m\u001b[0mread\u001b[0m\u001b[1;33m(\u001b[0m\u001b[1;33m)\u001b[0m\u001b[1;33m\u001b[0m\u001b[1;33m\u001b[0m\u001b[0m\n",
      "\u001b[1;31mNameError\u001b[0m: name 'imread' is not defined"
     ]
    }
   ],
   "source": [
    "read_deal_text()\n",
    "img_grearte()"
   ]
  },
  {
   "cell_type": "code",
   "execution_count": null,
   "metadata": {},
   "outputs": [],
   "source": []
  }
 ],
 "metadata": {
  "kernelspec": {
   "display_name": "Python 3",
   "language": "python",
   "name": "python3"
  },
  "language_info": {
   "codemirror_mode": {
    "name": "ipython",
    "version": 3
   },
   "file_extension": ".py",
   "mimetype": "text/x-python",
   "name": "python",
   "nbconvert_exporter": "python",
   "pygments_lexer": "ipython3",
   "version": "3.7.4"
  }
 },
 "nbformat": 4,
 "nbformat_minor": 2
}
