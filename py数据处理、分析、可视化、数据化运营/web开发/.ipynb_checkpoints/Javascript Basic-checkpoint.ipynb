{
 "cells": [
  {
   "cell_type": "code",
   "execution_count": 6,
   "metadata": {},
   "outputs": [],
   "source": [
    "import subprocess"
   ]
  },
  {
   "cell_type": "code",
   "execution_count": 21,
   "metadata": {},
   "outputs": [],
   "source": [
    "p = subprocess.Popen(\"python simple.py\", shell=True, \n",
    "          stdin=subprocess.PIPE, stdout=subprocess.PIPE)\n",
    "child_stdin, child_stdout = p.stdin, p.stdout"
   ]
  },
  {
   "cell_type": "code",
   "execution_count": 18,
   "metadata": {},
   "outputs": [],
   "source": [
    "result = subprocess.Popen(['python','simple.py']);"
   ]
  },
  {
   "cell_type": "code",
   "execution_count": 24,
   "metadata": {},
   "outputs": [
    {
     "ename": "UnsupportedOperation",
     "evalue": "read",
     "output_type": "error",
     "traceback": [
      "\u001b[1;31m---------------------------------------------------------------------------\u001b[0m",
      "\u001b[1;31mUnsupportedOperation\u001b[0m                      Traceback (most recent call last)",
      "\u001b[1;32m<ipython-input-24-fe88b13ebb7f>\u001b[0m in \u001b[0;36m<module>\u001b[1;34m()\u001b[0m\n\u001b[1;32m----> 1\u001b[1;33m \u001b[0mdata\u001b[0m \u001b[1;33m=\u001b[0m \u001b[0mchild_stdin\u001b[0m\u001b[1;33m.\u001b[0m\u001b[0mread\u001b[0m\u001b[1;33m(\u001b[0m\u001b[1;33m)\u001b[0m\u001b[1;33m\u001b[0m\u001b[0m\n\u001b[0m",
      "\u001b[1;31mUnsupportedOperation\u001b[0m: read"
     ]
    }
   ],
   "source": [
    "data = child_stdout.read()"
   ]
  },
  {
   "cell_type": "code",
   "execution_count": 23,
   "metadata": {},
   "outputs": [
    {
     "data": {
      "text/plain": [
       "b''"
      ]
     },
     "execution_count": 23,
     "metadata": {},
     "output_type": "execute_result"
    }
   ],
   "source": [
    "data"
   ]
  },
  {
   "cell_type": "code",
   "execution_count": 9,
   "metadata": {},
   "outputs": [],
   "source": [
    "try:\n",
    "    outs, errs = result.communicate(timeout=15)\n",
    "except TimeoutExpired:\n",
    "    proc.kill()\n",
    "    outs, errs = result.communicate()"
   ]
  },
  {
   "cell_type": "code",
   "execution_count": 13,
   "metadata": {},
   "outputs": [
    {
     "ename": "ModuleNotFoundError",
     "evalue": "No module named 'popen2'",
     "output_type": "error",
     "traceback": [
      "\u001b[1;31m---------------------------------------------------------------------------\u001b[0m",
      "\u001b[1;31mModuleNotFoundError\u001b[0m                       Traceback (most recent call last)",
      "\u001b[1;32m<ipython-input-13-cec725f783e8>\u001b[0m in \u001b[0;36m<module>\u001b[1;34m()\u001b[0m\n\u001b[1;32m----> 1\u001b[1;33m \u001b[1;32mimport\u001b[0m \u001b[0mpopen2\u001b[0m\u001b[1;33m\u001b[0m\u001b[0m\n\u001b[0m",
      "\u001b[1;31mModuleNotFoundError\u001b[0m: No module named 'popen2'"
     ]
    }
   ],
   "source": [
    "import popen2"
   ]
  },
  {
   "cell_type": "code",
   "execution_count": 12,
   "metadata": {},
   "outputs": [
    {
     "ename": "NameError",
     "evalue": "name 'popen2' is not defined",
     "output_type": "error",
     "traceback": [
      "\u001b[1;31m---------------------------------------------------------------------------\u001b[0m",
      "\u001b[1;31mNameError\u001b[0m                                 Traceback (most recent call last)",
      "\u001b[1;32m<ipython-input-12-db88b31eb5b5>\u001b[0m in \u001b[0;36m<module>\u001b[1;34m()\u001b[0m\n\u001b[1;32m----> 1\u001b[1;33m \u001b[0mpopen2\u001b[0m\u001b[1;33m.\u001b[0m\u001b[0mpopen2\u001b[0m\u001b[1;33m(\u001b[0m\u001b[1;33m[\u001b[0m\u001b[1;34m\"mycmd\"\u001b[0m\u001b[1;33m,\u001b[0m \u001b[1;34m\"myarg\"\u001b[0m\u001b[1;33m]\u001b[0m\u001b[1;33m,\u001b[0m \u001b[0mbufsize\u001b[0m\u001b[1;33m,\u001b[0m \u001b[0mmode\u001b[0m\u001b[1;33m)\u001b[0m\u001b[1;33m\u001b[0m\u001b[0m\n\u001b[0m",
      "\u001b[1;31mNameError\u001b[0m: name 'popen2' is not defined"
     ]
    }
   ],
   "source": [
    "popen2.popen2([\"mycmd\", \"myarg\"], bufsize, mode)"
   ]
  },
  {
   "cell_type": "code",
   "execution_count": 4,
   "metadata": {},
   "outputs": [
    {
     "data": {
      "application/javascript": [
       "\n",
       "console.log(\"hello\");"
      ],
      "text/plain": [
       "<IPython.core.display.Javascript object>"
      ]
     },
     "metadata": {},
     "output_type": "display_data"
    }
   ],
   "source": [
    "%%js\n",
    "\n",
    "console.log(\"hello\");"
   ]
  },
  {
   "cell_type": "markdown",
   "metadata": {},
   "source": [
    "### basic input and output"
   ]
  },
  {
   "cell_type": "code",
   "execution_count": 1,
   "metadata": {},
   "outputs": [
    {
     "data": {
      "application/javascript": [
       "\n",
       "//basic input and output\n",
       "alert(\"Hello, world.\");\n",
       "console.log(\"good\")\n"
      ],
      "text/plain": [
       "<IPython.core.display.Javascript object>"
      ]
     },
     "metadata": {},
     "output_type": "display_data"
    }
   ],
   "source": [
    "%%js\n",
    "\n",
    "//basic input and output\n",
    "alert(\"Hello, world.\");\n",
    "console.log(\"good\")"
   ]
  },
  {
   "cell_type": "code",
   "execution_count": 2,
   "metadata": {},
   "outputs": [
    {
     "data": {
      "text/plain": [
       "True"
      ]
     },
     "execution_count": 2,
     "metadata": {},
     "output_type": "execute_result"
    }
   ],
   "source": [
    "# python\n",
    "0==int('0')"
   ]
  },
  {
   "cell_type": "code",
   "execution_count": 18,
   "metadata": {},
   "outputs": [
    {
     "data": {
      "application/javascript": [
       "\n",
       "console.log(0 === 0);"
      ],
      "text/plain": [
       "<IPython.core.display.Javascript object>"
      ]
     },
     "metadata": {},
     "output_type": "display_data"
    }
   ],
   "source": [
    "%%js\n",
    "\n",
    "console.log(0 === 0);"
   ]
  },
  {
   "cell_type": "code",
   "execution_count": 19,
   "metadata": {},
   "outputs": [
    {
     "name": "stdout",
     "output_type": "stream",
     "text": [
      "hellogood\n"
     ]
    },
    {
     "data": {
      "text/plain": [
       "'good'"
      ]
     },
     "execution_count": 19,
     "metadata": {},
     "output_type": "execute_result"
    }
   ],
   "source": [
    "# python\n",
    "input(\"hello\")"
   ]
  },
  {
   "cell_type": "code",
   "execution_count": 22,
   "metadata": {},
   "outputs": [
    {
     "data": {
      "text/plain": [
       "False"
      ]
     },
     "execution_count": 22,
     "metadata": {},
     "output_type": "execute_result"
    }
   ],
   "source": [
    "False"
   ]
  },
  {
   "cell_type": "code",
   "execution_count": 28,
   "metadata": {},
   "outputs": [
    {
     "data": {
      "application/javascript": [
       "\n",
       "console.log(false === false)"
      ],
      "text/plain": [
       "<IPython.core.display.Javascript object>"
      ]
     },
     "metadata": {},
     "output_type": "display_data"
    }
   ],
   "source": [
    "%%js\n",
    "\n",
    "console.log(false === false)"
   ]
  },
  {
   "cell_type": "code",
   "execution_count": 21,
   "metadata": {},
   "outputs": [
    {
     "data": {
      "application/javascript": [
       "\n",
       "var surname = prompt('Greetings friend, may I enquire as to your surname?');\n",
       "console.log(surname)"
      ],
      "text/plain": [
       "<IPython.core.display.Javascript object>"
      ]
     },
     "metadata": {},
     "output_type": "display_data"
    }
   ],
   "source": [
    "%%js\n",
    "\n",
    "var surname = prompt('Greetings friend, may I enquire as to your surname?');\n",
    "console.log(surname)"
   ]
  },
  {
   "cell_type": "code",
   "execution_count": 32,
   "metadata": {},
   "outputs": [
    {
     "data": {
      "application/javascript": [
       "\n",
       "var surname;\n",
       "var age;\n",
       "var name = \"Tom\";\n",
       "var age = 20;\n",
       "name = \"Andy\";\n",
       "age = 43;\n",
       "\n",
       "var apples = 5, pears = 10;\n",
       "var piecesOfFruit = apples + pears;\n",
       "var piecesForEachPerson = piecesOfFruit / 3;\n",
       "console.log(piecesForEachPerson)"
      ],
      "text/plain": [
       "<IPython.core.display.Javascript object>"
      ]
     },
     "metadata": {},
     "output_type": "display_data"
    }
   ],
   "source": [
    "%%js\n",
    "\n",
    "var surname;\n",
    "var age;\n",
    "var name = \"Tom\";\n",
    "var age = 20;\n",
    "name = \"Andy\";\n",
    "age = 43;\n",
    "\n",
    "var apples = 5, pears = 10;\n",
    "var piecesOfFruit = apples + pears;\n",
    "var piecesForEachPerson = piecesOfFruit / 3;\n",
    "console.log(piecesForEachPerson);"
   ]
  },
  {
   "cell_type": "code",
   "execution_count": 35,
   "metadata": {},
   "outputs": [
    {
     "data": {
      "application/javascript": [
       "if(40 < 2){\n",
       "console.log(\"here\");\n",
       "}else{\n",
       "    console.log(\"hello\")\n",
       "    console.log(\"here\")\n",
       "}"
      ],
      "text/plain": [
       "<IPython.core.display.Javascript object>"
      ]
     },
     "metadata": {},
     "output_type": "display_data"
    }
   ],
   "source": [
    "%%js\n",
    "if(40 < 2){\n",
    "console.log(\"here\");\n",
    "}else{\n",
    "    console.log(\"hello\");\n",
    "}\n"
   ]
  },
  {
   "cell_type": "code",
   "execution_count": 37,
   "metadata": {},
   "outputs": [
    {
     "data": {
      "application/javascript": [
       "var i = 1;\n",
       "while(i < 10){\n",
       "    console.log(i);\n",
       "    i=i+1;\n",
       "}"
      ],
      "text/plain": [
       "<IPython.core.display.Javascript object>"
      ]
     },
     "metadata": {},
     "output_type": "display_data"
    }
   ],
   "source": [
    "%%js\n",
    "var i = 1;\n",
    "while(i < 10){\n",
    "    console.log(i);\n",
    "    i=i+1;\n",
    "}"
   ]
  },
  {
   "cell_type": "code",
   "execution_count": 42,
   "metadata": {},
   "outputs": [
    {
     "data": {
      "application/javascript": [
       "for(var i = 1;i < 11; i++){\n",
       "    console.log(i);\n",
       "}"
      ],
      "text/plain": [
       "<IPython.core.display.Javascript object>"
      ]
     },
     "metadata": {},
     "output_type": "display_data"
    }
   ],
   "source": [
    "%%js\n",
    "for(var i = 1;i < 11; i++){\n",
    "    console.log(i);\n",
    "}"
   ]
  },
  {
   "cell_type": "code",
   "execution_count": 44,
   "metadata": {},
   "outputs": [
    {
     "name": "stdout",
     "output_type": "stream",
     "text": [
      "hello world\n"
     ]
    }
   ],
   "source": [
    "def hello():\n",
    "    print(\"hello world\")\n",
    "\n",
    "hello()"
   ]
  },
  {
   "cell_type": "code",
   "execution_count": 46,
   "metadata": {},
   "outputs": [
    {
     "data": {
      "application/javascript": [
       "function hello(){\n",
       "    console.log(\"hello world\");    \n",
       "}\n",
       "\n",
       "hello();"
      ],
      "text/plain": [
       "<IPython.core.display.Javascript object>"
      ]
     },
     "metadata": {},
     "output_type": "display_data"
    }
   ],
   "source": [
    "%%js\n",
    "function hello(){\n",
    "    console.log(\"hello world\");    \n",
    "}\n",
    "\n",
    "hello();"
   ]
  },
  {
   "cell_type": "code",
   "execution_count": 51,
   "metadata": {},
   "outputs": [
    {
     "data": {
      "application/javascript": [
       "var hello = function(){console.log(\"hello world\");}\n",
       "console.log(hello)"
      ],
      "text/plain": [
       "<IPython.core.display.Javascript object>"
      ]
     },
     "metadata": {},
     "output_type": "display_data"
    }
   ],
   "source": [
    "%%js\n",
    "var hello = function(){console.log(\"hello world\");}\n",
    "console.log(hello)"
   ]
  },
  {
   "cell_type": "code",
   "execution_count": 65,
   "metadata": {},
   "outputs": [
    {
     "data": {
      "application/javascript": [
       "//object\n",
       "var jedi ={\n",
       "    name:\"Yoda\",\n",
       "    age:899,\n",
       "    talk: function(){alert(\"another...Sky...walk....\");}    \n",
       "}\n",
       "\n",
       "//jedi.talk();\n",
       "jedi.name = \"Mace Windu\";\n",
       "console.log(jedi.name);\n",
       "jedi.lightsaber = \"purple\";\n",
       "console.log(jedi.lightsaber)\n",
       "jedi.say= function(){ console.log(\"may the force be with you!\");}\n",
       "jedi.say();\n",
       "\n",
       "jedi.name = {\n",
       "    first: \"Jeanne\",\n",
       "    last: \"Calment\"\n",
       "}\n",
       "console.log(jedi.name);"
      ],
      "text/plain": [
       "<IPython.core.display.Javascript object>"
      ]
     },
     "metadata": {},
     "output_type": "display_data"
    }
   ],
   "source": [
    "%%js\n",
    "//object\n",
    "var jedi ={\n",
    "    name:\"Yoda\",\n",
    "    age:899,\n",
    "    talk: function(){alert(\"another...Sky...walk....\");}    \n",
    "}\n",
    "\n",
    "//jedi.talk();\n",
    "jedi.name = \"Mace Windu\";\n",
    "console.log(jedi.name);\n",
    "jedi.lightsaber = \"purple\";\n",
    "console.log(jedi.lightsaber)\n",
    "jedi.say= function(){ console.log(\"may the force be with you!\");}\n",
    "jedi.say();\n",
    "\n",
    "jedi.name = {\n",
    "    first: \"Jeanne\",\n",
    "    last: \"Calment\"\n",
    "}\n",
    "console.log(jedi.name);"
   ]
  },
  {
   "cell_type": "code",
   "execution_count": 66,
   "metadata": {},
   "outputs": [
    {
     "data": {
      "application/javascript": [
       "var dog ={};\n",
       "dog.bark = function() { alert(\"Woof!\");};\n",
       "dog.bark();"
      ],
      "text/plain": [
       "<IPython.core.display.Javascript object>"
      ]
     },
     "metadata": {},
     "output_type": "display_data"
    }
   ],
   "source": [
    "%%js\n",
    "var dog ={};\n",
    "dog.bark = function() { alert(\"Woof!\");};\n",
    "dog.bark();"
   ]
  },
  {
   "cell_type": "code",
   "execution_count": 78,
   "metadata": {},
   "outputs": [
    {
     "data": {
      "application/javascript": [
       "var emptyArray=[]\n",
       "var shoppingList = [\"Milk\",\"Bread\"];\n",
       "console.log(shoppingList[1])\n",
       "console.log(shoppingList.length)\n",
       "shoppingList.push(\"Cookies\");\n",
       "var whatisthis = shoppingList.pop();\n",
       "console.log(shoppingList);\n",
       "console.log(whatisthis);"
      ],
      "text/plain": [
       "<IPython.core.display.Javascript object>"
      ]
     },
     "metadata": {},
     "output_type": "display_data"
    }
   ],
   "source": [
    "%%js\n",
    "var emptyArray=[]\n",
    "var shoppingList = [\"Milk\",\"Bread\"];\n",
    "console.log(shoppingList[1])\n",
    "console.log(shoppingList.length)\n",
    "shoppingList.push(\"Cookies\");\n",
    "var whatisthis = shoppingList.pop();\n",
    "console.log(shoppingList);\n",
    "console.log(whatisthis);"
   ]
  },
  {
   "cell_type": "code",
   "execution_count": 82,
   "metadata": {},
   "outputs": [
    {
     "data": {
      "application/javascript": [
       "var people = ['Tom','Yoda','Joshua'];\n",
       "var helloFrom = function(personName){\n",
       "    return \"Hello From \" + personName;\n",
       "}\n",
       "\n",
       "console.log(\"for loop\");\n",
       "for (var i = 0; i< people.length; i++){\n",
       "    var greeting = helloFrom(people[i]);\n",
       "    console.log(greeting);\n",
       "}\n",
       "\n",
       "console.log(\"for each\");\n",
       "for(var key in people){\n",
       "    var greeting = helloFrom(people[key]);    \n",
       "    console.log(greeting);\n",
       "}    "
      ],
      "text/plain": [
       "<IPython.core.display.Javascript object>"
      ]
     },
     "metadata": {},
     "output_type": "display_data"
    }
   ],
   "source": [
    "%%js\n",
    "var people = ['Tom','Yoda','Joshua'];\n",
    "var helloFrom = function(personName){\n",
    "    return \"Hello From \" + personName;\n",
    "}\n",
    "\n",
    "console.log(\"for loop\");\n",
    "for (var i = 0; i< people.length; i++){\n",
    "    var greeting = helloFrom(people[i]);\n",
    "    console.log(greeting);\n",
    "}\n",
    "\n",
    "console.log(\"for each\");\n",
    "for(var key in people){\n",
    "    var greeting = helloFrom(people[key]);    \n",
    "    console.log(greeting);\n",
    "}    "
   ]
  },
  {
   "cell_type": "code",
   "execution_count": 90,
   "metadata": {},
   "outputs": [
    {
     "data": {
      "application/javascript": [
       "\n",
       "//{\"name\": \"Yoda\", age: 894, \"lightsaber\" : { \"color\": \"green\" } }\n",
       "\n",
       "var jsonString = JSON.stringify({\n",
       "    name:\"Yoda\",\n",
       "    age: 899,\n",
       "    lightsaber:{ color: \"green\" }\n",
       "})\n",
       "\n",
       "console.log(jsonString);\n",
       "\n",
       "var yoda = JSON.parse(jsonString);\n",
       "console.log(yoda.lightsaber.color);"
      ],
      "text/plain": [
       "<IPython.core.display.Javascript object>"
      ]
     },
     "metadata": {},
     "output_type": "display_data"
    }
   ],
   "source": [
    "%%js \n",
    "\n",
    "//{\"name\": \"Yoda\", age: 894, \"lightsaber\" : { \"color\": \"green\" } }\n",
    "\n",
    "var jsonString = JSON.stringify({\n",
    "    name:\"Yoda\",\n",
    "    age: 899,\n",
    "    lightsaber:{ color: \"green\" }\n",
    "})\n",
    "\n",
    "console.log(jsonString);\n",
    "\n",
    "var yoda = JSON.parse(jsonString);\n",
    "console.log(yoda.lightsaber.color);"
   ]
  },
  {
   "cell_type": "code",
   "execution_count": 92,
   "metadata": {},
   "outputs": [
    {
     "data": {
      "application/javascript": [
       "\n",
       "var regex = /^[a-z\\s]+$/;\n",
       "var lowerCaseString = 'some characters';\n",
       "if (lowerCaseString.match(regex)){\n",
       "    console.log(\"we found lower case!\");\n",
       "}"
      ],
      "text/plain": [
       "<IPython.core.display.Javascript object>"
      ]
     },
     "metadata": {},
     "output_type": "display_data"
    }
   ],
   "source": [
    "%%js\n",
    "\n",
    "var regex = /^[a-z\\s]+$/;\n",
    "var lowerCaseString = 'some characters';\n",
    "if (lowerCaseString.match(regex)){\n",
    "    console.log(\"we found lower case!\");\n",
    "}\n"
   ]
  },
  {
   "cell_type": "code",
   "execution_count": 97,
   "metadata": {},
   "outputs": [
    {
     "data": {
      "application/javascript": [
       "\n",
       "var saver = function(value){\n",
       "    return function(){\n",
       "        return value;\n",
       "    };\n",
       "};\n",
       "\n",
       "console.log(saver(10)());"
      ],
      "text/plain": [
       "<IPython.core.display.Javascript object>"
      ]
     },
     "metadata": {},
     "output_type": "display_data"
    }
   ],
   "source": [
    "%%js\n",
    "\n",
    "var saver = function(value){\n",
    "    return function(){\n",
    "        return value;\n",
    "    };\n",
    "};\n",
    "\n",
    "console.log(saver(10)());"
   ]
  },
  {
   "cell_type": "code",
   "execution_count": 98,
   "metadata": {
    "collapsed": true
   },
   "outputs": [],
   "source": [
    "def add(a):\n",
    "    def _add(b):\n",
    "        return a + b\n",
    "    return _add"
   ]
  },
  {
   "cell_type": "code",
   "execution_count": 100,
   "metadata": {},
   "outputs": [
    {
     "data": {
      "text/plain": [
       "11"
      ]
     },
     "execution_count": 100,
     "metadata": {},
     "output_type": "execute_result"
    }
   ],
   "source": [
    "add(10)(1)"
   ]
  },
  {
   "cell_type": "code",
   "execution_count": 106,
   "metadata": {
    "collapsed": true
   },
   "outputs": [],
   "source": [
    "c = 5\n",
    "def add(a):\n",
    "    c = 10;\n",
    "    def _add(b):\n",
    "        return a + b + c\n",
    "    return _add"
   ]
  },
  {
   "cell_type": "code",
   "execution_count": 107,
   "metadata": {},
   "outputs": [
    {
     "data": {
      "text/plain": [
       "21"
      ]
     },
     "execution_count": 107,
     "metadata": {},
     "output_type": "execute_result"
    }
   ],
   "source": [
    "add(10)(1)"
   ]
  },
  {
   "cell_type": "code",
   "execution_count": 109,
   "metadata": {},
   "outputs": [
    {
     "data": {
      "application/javascript": [
       "var c = 5\n",
       "var add = function(a){\n",
       "    var c = 10;\n",
       "    return function(b){\n",
       "        return a+b+c;\n",
       "    };\n",
       "};\n",
       "console.log(add(10)(1));"
      ],
      "text/plain": [
       "<IPython.core.display.Javascript object>"
      ]
     },
     "metadata": {},
     "output_type": "display_data"
    }
   ],
   "source": [
    "%%js\n",
    "var c = 5\n",
    "var add = function(a){\n",
    "    var c = 10;\n",
    "    return function(b){\n",
    "        return a+b+c;\n",
    "    };\n",
    "};\n",
    "console.log(add(10)(1));"
   ]
  },
  {
   "cell_type": "code",
   "execution_count": 112,
   "metadata": {},
   "outputs": [
    {
     "data": {
      "application/javascript": [
       "\n",
       "function Person(){\n",
       "    this.gender = \"Male\";\n",
       "}\n",
       "\n",
       "var person= new Person();\n",
       "console.log(person.gender);"
      ],
      "text/plain": [
       "<IPython.core.display.Javascript object>"
      ]
     },
     "metadata": {},
     "output_type": "display_data"
    }
   ],
   "source": [
    "%%js\n",
    "\n",
    "function Person(){\n",
    "    this.gender = \"Male\";\n",
    "}\n",
    "\n",
    "var person= new Person();\n",
    "console.log(person.gender);"
   ]
  },
  {
   "cell_type": "code",
   "execution_count": 116,
   "metadata": {},
   "outputs": [
    {
     "data": {
      "application/javascript": [
       "console.log(this)"
      ],
      "text/plain": [
       "<IPython.core.display.Javascript object>"
      ]
     },
     "metadata": {},
     "output_type": "display_data"
    }
   ],
   "source": [
    "%%js\n",
    "console.log(this)"
   ]
  },
  {
   "cell_type": "markdown",
   "metadata": {},
   "source": [
    "### conditional"
   ]
  },
  {
   "cell_type": "code",
   "execution_count": 61,
   "metadata": {},
   "outputs": [
    {
     "data": {
      "application/javascript": [
       "var a = 10;\n",
       "if (a > 5) {\n",
       "    var b = 5;\n",
       "}\n",
       "var c = a + b; \n",
       "console.log(c)"
      ],
      "text/plain": [
       "<IPython.core.display.Javascript object>"
      ]
     },
     "metadata": {},
     "output_type": "display_data"
    }
   ],
   "source": [
    "%%js\n",
    "var a = 10;\n",
    "if (a > 5) {\n",
    "    var b = 5;\n",
    "}\n",
    "var c = a + b; \n",
    "console.log(c)"
   ]
  },
  {
   "cell_type": "code",
   "execution_count": 66,
   "metadata": {},
   "outputs": [
    {
     "data": {
      "application/javascript": [
       "var doSomething = function () {\n",
       "    var a = 10;\n",
       "    var doSomethingElse = function () {\n",
       "        var b = 100;\n",
       "        console.log(a); // a is 10\n",
       "    };\n",
       "    console.log(b);\n",
       "    doSomethingElse();\n",
       "};\n",
       "doSomething();"
      ],
      "text/plain": [
       "<IPython.core.display.Javascript object>"
      ]
     },
     "metadata": {},
     "output_type": "display_data"
    }
   ],
   "source": [
    "%%js\n",
    "var doSomething = function () {\n",
    "    var a = 10;\n",
    "    var doSomethingElse = function () {\n",
    "        var b = 100;\n",
    "        console.log(a); // a is 10\n",
    "    };\n",
    "    console.log(b);\n",
    "    doSomethingElse();\n",
    "};\n",
    "doSomething();"
   ]
  },
  {
   "cell_type": "code",
   "execution_count": 21,
   "metadata": {},
   "outputs": [
    {
     "data": {
      "application/javascript": [
       "var x = 10;\n",
       " \n",
       "function foo() {\n",
       "  var y = 20;\n",
       "  console.log(x + y);\n",
       "}\n",
       "foo();"
      ],
      "text/plain": [
       "<IPython.core.display.Javascript object>"
      ]
     },
     "metadata": {},
     "output_type": "display_data"
    }
   ],
   "source": [
    "%%js\n",
    "var x = 10;\n",
    " \n",
    "function foo() {\n",
    "  var y = 20;\n",
    "  console.log(x + y);\n",
    "}\n",
    "foo();"
   ]
  },
  {
   "cell_type": "code",
   "execution_count": 28,
   "metadata": {},
   "outputs": [
    {
     "data": {
      "application/javascript": [
       "var add = function (a) {\n",
       "    return function (b) {\n",
       "        return a + b;\n",
       "    };\n",
       "};\n",
       "\n",
       "console.log(add(1)(2))"
      ],
      "text/plain": [
       "<IPython.core.display.Javascript object>"
      ]
     },
     "metadata": {},
     "output_type": "display_data"
    }
   ],
   "source": [
    "%%js\n",
    "var add = function (a) {\n",
    "    return function (b) {\n",
    "        return a + b;\n",
    "    };\n",
    "};\n",
    "\n",
    "console.log(add(1)(2))"
   ]
  },
  {
   "cell_type": "code",
   "execution_count": 58,
   "metadata": {},
   "outputs": [
    {
     "data": {
      "application/javascript": [
       "\n",
       "var global_scope = \"I'm global \";\n",
       "\n",
       "var fun = function(){\n",
       "    var fun_scope = \" I'm in fun scope \";\n",
       "    return function innerfun(){\n",
       "        var inner_func_scope = \"I'm in the inner fun scope\";\n",
       "        return global_scope + fun_scope + inner_func_scope; \n",
       "    };\n",
       "};\n",
       "\n",
       "console.log(fun()())"
      ],
      "text/plain": [
       "<IPython.core.display.Javascript object>"
      ]
     },
     "metadata": {},
     "output_type": "display_data"
    }
   ],
   "source": [
    "%%js\n",
    "\n",
    "var global_scope = \"I'm global \";\n",
    "\n",
    "var fun = function(){\n",
    "    var fun_scope = \" I'm in fun scope \";\n",
    "    return function innerfun(){\n",
    "        var inner_func_scope = \"I'm in the inner fun scope\";\n",
    "        return global_scope + fun_scope + inner_func_scope; \n",
    "    };\n",
    "};\n",
    "\n",
    "console.log(fun()())"
   ]
  },
  {
   "cell_type": "code",
   "execution_count": 60,
   "metadata": {},
   "outputs": [
    {
     "data": {
      "application/javascript": [
       "\n",
       "var Foo = {a:1};\n",
       "Foo.method = function() {\n",
       "    console.log(\"here is this: \",this);    \n",
       "    var that = this;\n",
       "    function test() {\n",
       "        // Use that instead of this here\n",
       "        // because here this is set to the global object\n",
       "        console.log(this, that); // Window, {a:1, method: function}\n",
       "    }\n",
       "    test();\n",
       "}\n",
       "\n",
       "console.log(Foo.method())"
      ],
      "text/plain": [
       "<IPython.core.display.Javascript object>"
      ]
     },
     "metadata": {},
     "output_type": "display_data"
    }
   ],
   "source": [
    "%%js\n",
    "\n",
    "var Foo = {a:1};\n",
    "Foo.method = function() {\n",
    "    console.log(\"here is this: \",this);    \n",
    "    var that = this;\n",
    "    function test() {\n",
    "        // Use that instead of this here\n",
    "        // because here this is set to the global object\n",
    "        console.log(this, that); // Window, {a:1, method: function}\n",
    "    }\n",
    "    test();\n",
    "}\n",
    "\n",
    "console.log(Foo.method())\n"
   ]
  },
  {
   "cell_type": "code",
   "execution_count": 125,
   "metadata": {},
   "outputs": [
    {
     "data": {
      "application/javascript": [
       "function Counter(start) {\n",
       "    var count = start;\n",
       "    return {\n",
       "        increment: function() { count++;},\n",
       "        get: function() {return count;}\n",
       "    }\n",
       "}\n",
       "\n",
       "var foo = Counter(4);\n",
       "foo.increment();\n",
       "foo.increment();\n",
       "foo.increment();\n",
       "var getNum = foo.get();\n",
       "console.log(getNum);\n",
       "\n",
       "//python\n",
       "console.log(foo.count);"
      ],
      "text/plain": [
       "<IPython.core.display.Javascript object>"
      ]
     },
     "metadata": {},
     "output_type": "display_data"
    }
   ],
   "source": [
    "%%js\n",
    "function Counter(start) {\n",
    "    var count = start;\n",
    "    return {\n",
    "        increment: function() { count++;},\n",
    "        get: function() {return count;}\n",
    "    }\n",
    "}\n",
    "\n",
    "var foo = Counter(4);\n",
    "foo.increment();\n",
    "foo.increment();\n",
    "foo.increment();\n",
    "var getNum = foo.get();\n",
    "console.log(getNum);\n",
    "\n",
    "//python\n",
    "console.log(foo.count);"
   ]
  },
  {
   "cell_type": "code",
   "execution_count": 143,
   "metadata": {},
   "outputs": [
    {
     "data": {
      "application/javascript": [
       "\n",
       "(function (){\n",
       "    console.log(\"hello world\");\n",
       "    var foo = function(){\n",
       "      console.log(\"good~\");\n",
       "    }\n",
       "    foo();\n",
       "}\n",
       ")();"
      ],
      "text/plain": [
       "<IPython.core.display.Javascript object>"
      ]
     },
     "metadata": {},
     "output_type": "display_data"
    }
   ],
   "source": [
    "%%js  namepspce;\n",
    "(function (){\n",
    "    console.log(\"hello world\");\n",
    "    var foo = function(){\n",
    "      console.log(\"good~\");\n",
    "    }\n",
    "    foo();\n",
    "}\n",
    ")();"
   ]
  },
  {
   "cell_type": "code",
   "execution_count": null,
   "metadata": {
    "collapsed": true
   },
   "outputs": [],
   "source": []
  }
 ],
 "metadata": {
  "kernelspec": {
   "display_name": "Python 3",
   "language": "python",
   "name": "python3"
  },
  "language_info": {
   "codemirror_mode": {
    "name": "ipython",
    "version": 3
   },
   "file_extension": ".py",
   "mimetype": "text/x-python",
   "name": "python",
   "nbconvert_exporter": "python",
   "pygments_lexer": "ipython3",
   "version": "3.7.4"
  }
 },
 "nbformat": 4,
 "nbformat_minor": 2
}
