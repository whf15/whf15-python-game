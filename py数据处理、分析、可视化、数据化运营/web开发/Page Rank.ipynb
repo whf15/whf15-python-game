{
 "cells": [
  {
   "cell_type": "markdown",
   "metadata": {
    "run_control": {
     "frozen": false,
     "read_only": false
    }
   },
   "source": [
    "# with index, and link graph"
   ]
  },
  {
   "cell_type": "markdown",
   "metadata": {
    "run_control": {
     "frozen": false,
     "read_only": false
    }
   },
   "source": [
    "## rank graph  \n",
    "{'url':[pages links]}"
   ]
  },
  {
   "cell_type": "code",
   "execution_count": 2,
   "metadata": {
    "collapsed": true,
    "run_control": {
     "frozen": false,
     "read_only": false
    }
   },
   "outputs": [],
   "source": [
    "def crawl_web(seed, max_depth):\n",
    "    tocrawl = [seed]\n",
    "    crawled = []\n",
    "    next_depth = []\n",
    "    depth = 0\n",
    "    index = {}\n",
    "    graph = {}\n",
    "    while tocrawl and depth <= max_depth:\n",
    "        page = tocrawl.pop()\n",
    "        if page not in crawled:\n",
    "            content = get_page(page)\n",
    "            add_page_to_index(index, page, content)\n",
    "            outlinks = get_all_links()\n",
    "            graph[page] = outlinks\n",
    "            union(next_depth, outlinks)\n",
    "            crawled.append(page)\n",
    "        if not tocrawl:\n",
    "            tocrawl, next_depth = next_depth, []\n",
    "            depth = depth + 1\n",
    "    return crawled "
   ]
  },
  {
   "cell_type": "markdown",
   "metadata": {
    "run_control": {
     "frozen": false,
     "read_only": false
    }
   },
   "source": [
    "## popularity\n",
    "\n",
    "``\n",
    "popularity(p) = \\# of people who are friends with p\n",
    "``\n",
    "\n",
    "$$\n",
    "popularity(p) = \\sum{popularity(f)}\n",
    "$$\n",
    "\n",
    "```\n",
    "def popularity(p):\n",
    "    score = 0\n",
    "    for f in friends(p):\n",
    "        score = score + popularity(f)\n",
    "    return score\n",
    "```\n",
    "\n",
    "### circular defination!\n",
    "### 循环了，如何退出\n",
    "定义base case, \n",
    "下面是否正确？\n",
    "```\n",
    "def popularity(p):\n",
    "    if p == 'Alice': \n",
    "        return 1\n",
    "    score = 0\n",
    "    for f in friends(p):\n",
    "        score = score + popularity(f)\n",
    "    return score\n",
    "```\n",
    "\n",
    "## Relaxation Algorithm\n",
    "``` \n",
    " start with a guss\n",
    " while not done:\n",
    "    make the guess better\n",
    "```    \n",
    " popularity(0,p) -> 1 <br/>\n",
    " popularity(t,p) = $\\displaystyle\\sum_{f\\in{friends(p)}}{ popularity(t-1,f) }$\n",
    "```\n",
    "def popularity(t, p):\n",
    "    if t == 0:\n",
    "        return 1\n",
    "    else:\n",
    "        score = 0\n",
    "        for f in friends(p):\n",
    "            score = score + popularity(t-1, f)\n",
    "        return score    \n",
    "```"
   ]
  },
  {
   "cell_type": "markdown",
   "metadata": {
    "run_control": {
     "frozen": false,
     "read_only": false
    }
   },
   "source": [
    "URank<br/>\n",
    "$rank(0,url) -> 1$ <br/>\n",
    "$rank(t, url) -> \\displaystyle\\sum_{p\\in{inlinks[url]}}rank(t-1,p)$\n",
    "\n",
    "if too much outlinks: <br/>\n",
    "$rank(t, url) -> \\frac{\\displaystyle\\sum_{p\\in{inlinks[url]}}rank(t-1,p)}{outlinks[p]}$\n"
   ]
  },
  {
   "cell_type": "markdown",
   "metadata": {
    "run_control": {
     "frozen": false,
     "read_only": false
    }
   },
   "source": [
    "<p>我们随机浏览网页时候，也会决定再随机看一个新网页，而不是一直再一个网站中浏览下去，d (damping value)就是代码我们认为用户 \n",
    "选择就像顺着link路径浏览下去 vs 选择一个新网站</p>\n",
    "<p>理解阻尼系数，PR值衡量的其实是某个页面被访问的可能性的大小，链接到它的网页越多，通过这些链接点开它的可能性当然就越大，但在没有任何外部链接的情况下，一个网页是不是就不可能被访问呢？当然不是，因为还可以从地址框直接键入url访问，而且也会有人希望通过搜索引擎找到这个页面，所以我们在公式里加了阻尼系数，当然这里给1-d取一个比较小的数才可以。</p>\n",
    "\n",
    "d = 0.8 <br/> \n",
    "N = number of pages<br/>\n",
    "\n",
    "$rank(0,url) -> 1 / N $ <br/>\n",
    "\n",
    "$rank(t, url) -> d \\dot \\displaystyle\\sum_{p\\in{inlinks[url]}}rank(t-1,p) / outlinks[p]) + \\frac{1-d}{N}$"
   ]
  },
  {
   "cell_type": "code",
   "execution_count": 3,
   "metadata": {
    "collapsed": true
   },
   "outputs": [],
   "source": [
    "ex_graph={\n",
    "       'a':['b''c','d'],\n",
    "       'b':[],\n",
    "       'c':['a'],\n",
    "       'd':[]}"
   ]
  },
  {
   "cell_type": "code",
   "execution_count": 6,
   "metadata": {
    "collapsed": true,
    "run_control": {
     "frozen": false,
     "read_only": false
    }
   },
   "outputs": [],
   "source": [
    "def compute_ranks(graph):\n",
    "    d = 0.8\n",
    "    numloops = 10\n",
    "    \n",
    "    ranks = {}\n",
    "    npages = len(graph)\n",
    "    for page in graph:\n",
    "        ranks[page] = 1.0 / npages\n",
    "        \n",
    "    for i in range(0, numloops):    \n",
    "        newranks = {}\n",
    "        for page in graph:\n",
    "            newrank = (1-d)/npages\n",
    "            # update by summing in the inlink ranks\n",
    "            for node in graph:\n",
    "                if page in graph[node]:\n",
    "                    newrank = newrank + d * (ranks[node]/len(graph[node]))\n",
    "            newranks[page] = newrank\n",
    "        ranks = newranks\n",
    "    return ranks\n",
    "\n",
    "        "
   ]
  },
  {
   "cell_type": "code",
   "execution_count": 7,
   "metadata": {},
   "outputs": [],
   "source": [
    "result = compute_ranks(ex_graph)"
   ]
  },
  {
   "cell_type": "code",
   "execution_count": 8,
   "metadata": {},
   "outputs": [
    {
     "data": {
      "text/plain": [
       "{'a': 0.08999999999999998,\n",
       " 'b': 0.04999999999999999,\n",
       " 'c': 0.04999999999999999,\n",
       " 'd': 0.086}"
      ]
     },
     "execution_count": 8,
     "metadata": {},
     "output_type": "execute_result"
    }
   ],
   "source": [
    "result"
   ]
  }
 ],
 "metadata": {
  "kernelspec": {
   "display_name": "Python 3",
   "language": "python",
   "name": "python3"
  },
  "language_info": {
   "codemirror_mode": {
    "name": "ipython",
    "version": 3
   },
   "file_extension": ".py",
   "mimetype": "text/x-python",
   "name": "python",
   "nbconvert_exporter": "python",
   "pygments_lexer": "ipython3",
   "version": "3.6.3"
  }
 },
 "nbformat": 4,
 "nbformat_minor": 2
}
