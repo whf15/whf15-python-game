{
 "cells": [
  {
   "cell_type": "code",
   "execution_count": 25,
   "metadata": {},
   "outputs": [],
   "source": [
    "import turtle\n",
    "t=turtle.Pen()\n",
    "turtle.bgcolor(\"black\")\n",
    "side=6\n",
    "colors=[\"red\",\"yellow\",\"green\",\"blue\",\"orange\",\"purple\"]\n",
    "for x in range(360):\n",
    "    t.pencolor(colors[x%side])\n",
    "    t.forward(x)\n",
    "    t.left(360/side+1)\n",
    "    t.width(x*side/200)\n",
    "    t.speed(0)\n",
    "turtle.done()\n"
   ]
  },
  {
   "cell_type": "code",
   "execution_count": 14,
   "metadata": {},
   "outputs": [],
   "source": [
    "import turtle\n",
    "turtle.pencolor(\"red\")\n",
    "turtle.fillcolor(\"red\")\n",
    "turtle.begin_fill()\n",
    "for i in range(5):\n",
    "    turtle.forward(200)\n",
    "    turtle.right(144)\n",
    "turtle.end_fill()\n",
    "turtle.hideturtle()\n",
    "turtle.done()\n"
   ]
  },
  {
   "cell_type": "code",
   "execution_count": 12,
   "metadata": {},
   "outputs": [],
   "source": [
    "#coding=utf-8\n",
    "# 绘制五角星\n",
    "import turtle\n",
    "turtle.pensize(5)\n",
    "turtle.pencolor(\"red\")\n",
    "turtle.forward(200)\n",
    "turtle.fillcolor(\"red\")\n",
    "turtle.begin_fill()\n",
    "for i in range(4):\n",
    "  turtle.right(144)\n",
    "  turtle.fd(200)\n",
    "turtle.end_fill()\n",
    "turtle.done()"
   ]
  },
  {
   "cell_type": "code",
   "execution_count": 6,
   "metadata": {},
   "outputs": [
    {
     "ename": "Terminator",
     "evalue": "",
     "output_type": "error",
     "traceback": [
      "\u001b[1;31m---------------------------------------------------------------------------\u001b[0m",
      "\u001b[1;31mTerminator\u001b[0m                                Traceback (most recent call last)",
      "\u001b[1;32m<ipython-input-6-703d72aca0cf>\u001b[0m in \u001b[0;36m<module>\u001b[1;34m\u001b[0m\n\u001b[0;32m      6\u001b[0m     \u001b[0mt\u001b[0m\u001b[1;33m.\u001b[0m\u001b[0mcircle\u001b[0m\u001b[1;33m(\u001b[0m\u001b[0mi\u001b[0m\u001b[1;33m)\u001b[0m\u001b[1;33m\u001b[0m\u001b[1;33m\u001b[0m\u001b[0m\n\u001b[0;32m      7\u001b[0m     \u001b[0mt\u001b[0m\u001b[1;33m.\u001b[0m\u001b[0mleft\u001b[0m\u001b[1;33m(\u001b[0m\u001b[1;36m91\u001b[0m\u001b[1;33m)\u001b[0m\u001b[1;33m\u001b[0m\u001b[1;33m\u001b[0m\u001b[0m\n\u001b[1;32m----> 8\u001b[1;33m     \u001b[0mt\u001b[0m\u001b[1;33m.\u001b[0m\u001b[0mspeed\u001b[0m\u001b[1;33m(\u001b[0m\u001b[1;36m0\u001b[0m\u001b[1;33m)\u001b[0m\u001b[1;33m\u001b[0m\u001b[1;33m\u001b[0m\u001b[0m\n\u001b[0m\u001b[0;32m      9\u001b[0m \u001b[0mturtle\u001b[0m\u001b[1;33m.\u001b[0m\u001b[0mdone\u001b[0m\u001b[1;33m(\u001b[0m\u001b[1;33m)\u001b[0m\u001b[1;33m\u001b[0m\u001b[1;33m\u001b[0m\u001b[0m\n",
      "\u001b[1;32m~\\Anaconda3\\lib\\turtle.py\u001b[0m in \u001b[0;36mspeed\u001b[1;34m(self, speed)\u001b[0m\n\u001b[0;32m   2172\u001b[0m         \u001b[1;32melse\u001b[0m\u001b[1;33m:\u001b[0m\u001b[1;33m\u001b[0m\u001b[1;33m\u001b[0m\u001b[0m\n\u001b[0;32m   2173\u001b[0m             \u001b[0mspeed\u001b[0m \u001b[1;33m=\u001b[0m \u001b[1;36m0\u001b[0m\u001b[1;33m\u001b[0m\u001b[1;33m\u001b[0m\u001b[0m\n\u001b[1;32m-> 2174\u001b[1;33m         \u001b[0mself\u001b[0m\u001b[1;33m.\u001b[0m\u001b[0mpen\u001b[0m\u001b[1;33m(\u001b[0m\u001b[0mspeed\u001b[0m\u001b[1;33m=\u001b[0m\u001b[0mspeed\u001b[0m\u001b[1;33m)\u001b[0m\u001b[1;33m\u001b[0m\u001b[1;33m\u001b[0m\u001b[0m\n\u001b[0m\u001b[0;32m   2175\u001b[0m \u001b[1;33m\u001b[0m\u001b[0m\n\u001b[0;32m   2176\u001b[0m     \u001b[1;32mdef\u001b[0m \u001b[0mcolor\u001b[0m\u001b[1;33m(\u001b[0m\u001b[0mself\u001b[0m\u001b[1;33m,\u001b[0m \u001b[1;33m*\u001b[0m\u001b[0margs\u001b[0m\u001b[1;33m)\u001b[0m\u001b[1;33m:\u001b[0m\u001b[1;33m\u001b[0m\u001b[1;33m\u001b[0m\u001b[0m\n",
      "\u001b[1;32m~\\Anaconda3\\lib\\turtle.py\u001b[0m in \u001b[0;36mpen\u001b[1;34m(self, pen, **pendict)\u001b[0m\n\u001b[0;32m   2457\u001b[0m             self._shapetrafo = ( scx*ca, scy*(shf*ca + sa),\n\u001b[0;32m   2458\u001b[0m                                 -scx*sa, scy*(ca - shf*sa))\n\u001b[1;32m-> 2459\u001b[1;33m         \u001b[0mself\u001b[0m\u001b[1;33m.\u001b[0m\u001b[0m_update\u001b[0m\u001b[1;33m(\u001b[0m\u001b[1;33m)\u001b[0m\u001b[1;33m\u001b[0m\u001b[1;33m\u001b[0m\u001b[0m\n\u001b[0m\u001b[0;32m   2460\u001b[0m \u001b[1;33m\u001b[0m\u001b[0m\n\u001b[0;32m   2461\u001b[0m \u001b[1;31m## three dummy methods to be implemented by child class:\u001b[0m\u001b[1;33m\u001b[0m\u001b[1;33m\u001b[0m\u001b[1;33m\u001b[0m\u001b[0m\n",
      "\u001b[1;32m~\\Anaconda3\\lib\\turtle.py\u001b[0m in \u001b[0;36m_update\u001b[1;34m(self)\u001b[0m\n\u001b[0;32m   2658\u001b[0m             \u001b[1;32mreturn\u001b[0m\u001b[1;33m\u001b[0m\u001b[1;33m\u001b[0m\u001b[0m\n\u001b[0;32m   2659\u001b[0m         \u001b[1;32melif\u001b[0m \u001b[0mscreen\u001b[0m\u001b[1;33m.\u001b[0m\u001b[0m_tracing\u001b[0m \u001b[1;33m==\u001b[0m \u001b[1;36m1\u001b[0m\u001b[1;33m:\u001b[0m\u001b[1;33m\u001b[0m\u001b[1;33m\u001b[0m\u001b[0m\n\u001b[1;32m-> 2660\u001b[1;33m             \u001b[0mself\u001b[0m\u001b[1;33m.\u001b[0m\u001b[0m_update_data\u001b[0m\u001b[1;33m(\u001b[0m\u001b[1;33m)\u001b[0m\u001b[1;33m\u001b[0m\u001b[1;33m\u001b[0m\u001b[0m\n\u001b[0m\u001b[0;32m   2661\u001b[0m             \u001b[0mself\u001b[0m\u001b[1;33m.\u001b[0m\u001b[0m_drawturtle\u001b[0m\u001b[1;33m(\u001b[0m\u001b[1;33m)\u001b[0m\u001b[1;33m\u001b[0m\u001b[1;33m\u001b[0m\u001b[0m\n\u001b[0;32m   2662\u001b[0m             \u001b[0mscreen\u001b[0m\u001b[1;33m.\u001b[0m\u001b[0m_update\u001b[0m\u001b[1;33m(\u001b[0m\u001b[1;33m)\u001b[0m                  \u001b[1;31m# TurtleScreenBase\u001b[0m\u001b[1;33m\u001b[0m\u001b[1;33m\u001b[0m\u001b[0m\n",
      "\u001b[1;32m~\\Anaconda3\\lib\\turtle.py\u001b[0m in \u001b[0;36m_update_data\u001b[1;34m(self)\u001b[0m\n\u001b[0;32m   2644\u001b[0m \u001b[1;33m\u001b[0m\u001b[0m\n\u001b[0;32m   2645\u001b[0m     \u001b[1;32mdef\u001b[0m \u001b[0m_update_data\u001b[0m\u001b[1;33m(\u001b[0m\u001b[0mself\u001b[0m\u001b[1;33m)\u001b[0m\u001b[1;33m:\u001b[0m\u001b[1;33m\u001b[0m\u001b[1;33m\u001b[0m\u001b[0m\n\u001b[1;32m-> 2646\u001b[1;33m         \u001b[0mself\u001b[0m\u001b[1;33m.\u001b[0m\u001b[0mscreen\u001b[0m\u001b[1;33m.\u001b[0m\u001b[0m_incrementudc\u001b[0m\u001b[1;33m(\u001b[0m\u001b[1;33m)\u001b[0m\u001b[1;33m\u001b[0m\u001b[1;33m\u001b[0m\u001b[0m\n\u001b[0m\u001b[0;32m   2647\u001b[0m         \u001b[1;32mif\u001b[0m \u001b[0mself\u001b[0m\u001b[1;33m.\u001b[0m\u001b[0mscreen\u001b[0m\u001b[1;33m.\u001b[0m\u001b[0m_updatecounter\u001b[0m \u001b[1;33m!=\u001b[0m \u001b[1;36m0\u001b[0m\u001b[1;33m:\u001b[0m\u001b[1;33m\u001b[0m\u001b[1;33m\u001b[0m\u001b[0m\n\u001b[0;32m   2648\u001b[0m             \u001b[1;32mreturn\u001b[0m\u001b[1;33m\u001b[0m\u001b[1;33m\u001b[0m\u001b[0m\n",
      "\u001b[1;32m~\\Anaconda3\\lib\\turtle.py\u001b[0m in \u001b[0;36m_incrementudc\u001b[1;34m(self)\u001b[0m\n\u001b[0;32m   1290\u001b[0m         \u001b[1;32mif\u001b[0m \u001b[1;32mnot\u001b[0m \u001b[0mTurtleScreen\u001b[0m\u001b[1;33m.\u001b[0m\u001b[0m_RUNNING\u001b[0m\u001b[1;33m:\u001b[0m\u001b[1;33m\u001b[0m\u001b[1;33m\u001b[0m\u001b[0m\n\u001b[0;32m   1291\u001b[0m             \u001b[0mTurtleScreen\u001b[0m\u001b[1;33m.\u001b[0m\u001b[0m_RUNNING\u001b[0m \u001b[1;33m=\u001b[0m \u001b[1;32mTrue\u001b[0m\u001b[1;33m\u001b[0m\u001b[1;33m\u001b[0m\u001b[0m\n\u001b[1;32m-> 1292\u001b[1;33m             \u001b[1;32mraise\u001b[0m \u001b[0mTerminator\u001b[0m\u001b[1;33m\u001b[0m\u001b[1;33m\u001b[0m\u001b[0m\n\u001b[0m\u001b[0;32m   1293\u001b[0m         \u001b[1;32mif\u001b[0m \u001b[0mself\u001b[0m\u001b[1;33m.\u001b[0m\u001b[0m_tracing\u001b[0m \u001b[1;33m>\u001b[0m \u001b[1;36m0\u001b[0m\u001b[1;33m:\u001b[0m\u001b[1;33m\u001b[0m\u001b[1;33m\u001b[0m\u001b[0m\n\u001b[0;32m   1294\u001b[0m             \u001b[0mself\u001b[0m\u001b[1;33m.\u001b[0m\u001b[0m_updatecounter\u001b[0m \u001b[1;33m+=\u001b[0m \u001b[1;36m1\u001b[0m\u001b[1;33m\u001b[0m\u001b[1;33m\u001b[0m\u001b[0m\n",
      "\u001b[1;31mTerminator\u001b[0m: "
     ]
    }
   ],
   "source": [
    "import turtle\n",
    "t = turtle.Pen()\n",
    "colors=[\"red\",\"yellow\",\"green\",\"blue\",\"orange\",\"purple\"]\n",
    "for i in range(100):\n",
    "    t.pencolor(colors[i%6])\n",
    "    t.circle(i)\n",
    "    t.left(91)\n",
    "    t.speed(0)\n",
    "turtle.done()"
   ]
  },
  {
   "cell_type": "code",
   "execution_count": 27,
   "metadata": {},
   "outputs": [],
   "source": [
    "#正方形\n",
    "import turtle\n",
    "t = turtle.Pen()\n",
    "t.forward(250)\n",
    "t.left(90)\n",
    "t.fd(250)\n",
    "t.left(90)\n",
    "t.fd(250)\n",
    "t.left(90)\n",
    "t.fd(250)\n",
    "turtle.done()"
   ]
  },
  {
   "cell_type": "code",
   "execution_count": 39,
   "metadata": {},
   "outputs": [],
   "source": [
    "#三角形\n",
    "import turtle\n",
    "t = turtle.Pen()\n",
    "t.forward(100)\n",
    "t.left(120)\n",
    "t.fd(100)\n",
    "t.left(120)\n",
    "t.fd(100)\n",
    "turtle.done()"
   ]
  },
  {
   "cell_type": "code",
   "execution_count": 59,
   "metadata": {},
   "outputs": [],
   "source": [
    "import turtle\n",
    "t = turtle.Pen()\n",
    "for i in range(100):\n",
    "    t.pencolor('red')\n",
    "    t.fd(i)\n",
    "    t.left(91)\n",
    "    t.speed(0)\n",
    "turtle.done()"
   ]
  },
  {
   "cell_type": "code",
   "execution_count": 61,
   "metadata": {},
   "outputs": [],
   "source": [
    "import turtle\n",
    "t = turtle.Pen()\n",
    "for i in range(100):\n",
    "    t.pencolor('red')\n",
    "    t.circle(i)\n",
    "    t.left(91)\n",
    "    t.speed(0)\n",
    "turtle.done()"
   ]
  },
  {
   "cell_type": "code",
   "execution_count": 7,
   "metadata": {},
   "outputs": [],
   "source": [
    "import turtle\n",
    "turtle.write(\"年\",font=(\"Arid\",18,\"normal\"))\n",
    "turtle.done()"
   ]
  },
  {
   "cell_type": "code",
   "execution_count": 8,
   "metadata": {},
   "outputs": [],
   "source": [
    "colors=[\"red\",\"yellow\",\"green\",\"blue\",\"orange\",\"purple\"]"
   ]
  },
  {
   "cell_type": "code",
   "execution_count": 3,
   "metadata": {},
   "outputs": [
    {
     "data": {
      "text/plain": [
       "''"
      ]
     },
     "execution_count": 3,
     "metadata": {},
     "output_type": "execute_result"
    }
   ],
   "source": [
    "import turtle\n",
    "turtle.textinput(\"text\",\"what's your name?\")"
   ]
  },
  {
   "cell_type": "code",
   "execution_count": 2,
   "metadata": {},
   "outputs": [],
   "source": [
    "import turtle\n",
    "turtle.write(\"hello world\")\n",
    "turtle.done()"
   ]
  },
  {
   "cell_type": "code",
   "execution_count": 4,
   "metadata": {},
   "outputs": [],
   "source": [
    "import turtle \n",
    "turtle.bgcolor(\"black\")\n",
    "turtle.done()"
   ]
  },
  {
   "cell_type": "code",
   "execution_count": 13,
   "metadata": {},
   "outputs": [],
   "source": [
    "import turtle\n",
    "colors=[\"red\",\"yellow\",\"green\",\"blue\"]\n",
    "t = turtle.Pen()\n",
    "turtle.bgcolor(\"black\")\n",
    "for i in range(100):\n",
    "    t.pencolor(colors[i%4])\n",
    "    t.fd(i)\n",
    "    t.left(91)\n",
    "    t.speed(0)\n",
    "turtle.done()"
   ]
  },
  {
   "cell_type": "code",
   "execution_count": 39,
   "metadata": {},
   "outputs": [],
   "source": [
    "import turtle\n",
    "t=turtle.Pen()\n",
    "turtle.bgcolor(\"black\")\n",
    "side=6\n",
    "colors=[\"red\",\"yellow\",\"green\",\"blue\",\"orange\",\"purple\"]\n",
    "name = turtle.textinput(\"question\",\"what is your name?\")\n",
    "for x in range(100):\n",
    "    t.pencolor(colors[x%side])\n",
    "    t.penup()\n",
    "    t.forward(x*4)\n",
    "    t.pendown()\n",
    "    t.left(360/side+2)\n",
    "    t.write(name,font=(\"Arial\",int((x+4)/4),\"bold\"))\n",
    "    t.speed(0)\n",
    "turtle.done()"
   ]
  },
  {
   "cell_type": "code",
   "execution_count": 1,
   "metadata": {
    "collapsed": true
   },
   "outputs": [
    {
     "name": "stdout",
     "output_type": "stream",
     "text": [
      "12\n",
      "13\n",
      "13\n",
      "13\n",
      "13\n",
      "13\n",
      "13\n",
      "13\n",
      "14\n",
      "14\n",
      "14\n",
      "14\n",
      "14\n",
      "14\n",
      "14\n",
      "14\n",
      "14\n",
      "15\n",
      "15\n",
      "15\n",
      "15\n",
      "15\n",
      "15\n",
      "15\n",
      "15\n",
      "16\n",
      "16\n",
      "16\n",
      "16\n",
      "16\n",
      "16\n",
      "16\n",
      "16\n",
      "16\n",
      "17\n",
      "17\n",
      "17\n",
      "17\n",
      "17\n",
      "17\n",
      "17\n",
      "17\n",
      "17\n",
      "18\n",
      "18\n",
      "18\n",
      "18\n",
      "18\n",
      "18\n",
      "18\n",
      "18\n",
      "18\n",
      "19\n",
      "19\n",
      "19\n",
      "19\n",
      "19\n"
     ]
    }
   ],
   "source": [
    "# -*- coding:utf-8 –*-\n",
    "# 用turtlr画时钟\n",
    "# 以自定义shape的方式实现\n",
    "import turtle as t\n",
    "import datetime as d\n",
    "def skip(step):  # 抬笔，跳到一个地方\n",
    "    t.penup()\n",
    "    t.forward(step)\n",
    "    t.pendown()\n",
    "def drawClock(radius):  # 画表盘\n",
    "    t.speed(0)\n",
    "    t.mode(\"logo\")  # 以Logo坐标、角度方式\n",
    "    t.hideturtle()\n",
    "    t.pensize(7)\n",
    "    t.home()  # 回到圆点\n",
    "    for j in range(60):\n",
    "        skip(radius)\n",
    "        if (j % 5 == 0):\n",
    "            t.forward(20)\n",
    "            skip(-radius - 20)\n",
    "        else:\n",
    "            t.dot(5)\n",
    "            skip(-radius)\n",
    "        t.right(6)\n",
    "def makePoint(pointName, len):  # 钟的指针，时针、分针、秒针\n",
    "    t.penup()\n",
    "    t.home()\n",
    "    t.begin_poly()\n",
    "    t.back(0.1 * len)\n",
    "    t.forward(len * 1.1)\n",
    "    t.end_poly()\n",
    "    poly = t.get_poly()\n",
    "    t.register_shape(pointName, poly)  # 注册为一个shape\n",
    "def drawPoint():  # 画指针\n",
    "    global hourPoint, minPoint, secPoint, fontWriter\n",
    "    makePoint(\"hourPoint\", 100)\n",
    "    makePoint(\"minPoint\", 120)\n",
    "    makePoint(\"secPoint\", 140)\n",
    "    hourPoint = t.Pen()  # 每个指针是一只新turtle\n",
    "    hourPoint.shape(\"hourPoint\")\n",
    "    hourPoint.shapesize(1, 1, 6)\n",
    "    minPoint = t.Pen()\n",
    "    minPoint.shape(\"minPoint\")\n",
    "    minPoint.shapesize(1, 1, 4)\n",
    "    secPoint = t.Pen()\n",
    "    secPoint.shape(\"secPoint\")\n",
    "    secPoint.pencolor('red')\n",
    "    fontWriter = t.Pen()\n",
    "    fontWriter.pencolor('gray')\n",
    "    fontWriter.hideturtle()\n",
    "def getWeekName(weekday):\n",
    "    weekName = ['星期一', '星期二', '星期三', '星期四', '星期五', '星期六', '星期日']\n",
    "    return weekName[weekday]\n",
    "def getDate(year, month, day):\n",
    "    return \"%s-%s-%s\" % (year, month, day)\n",
    "def realTime():\n",
    "    curr = d.datetime.now()\n",
    "    curr_year = curr.year\n",
    "    curr_month = curr.month\n",
    "    curr_day = curr.day\n",
    "    curr_hour = curr.hour\n",
    "    curr_minute = curr.minute\n",
    "    curr_second = curr.second\n",
    "    curr_weekday = curr.weekday()\n",
    "    t.tracer(False)\n",
    "    secPoint.setheading(360 / 60 * curr_second)\n",
    "    minPoint.setheading(360 / 60 * curr_minute)\n",
    "    hourPoint.setheading(360 / 12 * curr_hour + 30 / 60 * curr_minute)\n",
    "    fontWriter.clear()\n",
    "    fontWriter.home()\n",
    "    fontWriter.penup()\n",
    "    fontWriter.forward(80)\n",
    "    # 用turtle写文字\n",
    "    fontWriter.write(getWeekName(curr_weekday), align=\"center\", font=(\"Courier\", 14, \"bold\"))\n",
    "    fontWriter.forward(-160)\n",
    "    fontWriter.write(getDate(curr_year, curr_month, curr_day), align=\"center\", font=(\"Courier\", 14, \"bold\"))\n",
    "    t.tracer(True)\n",
    "    print(curr_second)\n",
    "    t.ontimer(realTime, 100)  # 每隔100毫秒调用一次realTime()\n",
    "def main():\n",
    "    t.tracer(False)\n",
    "    drawClock(160)\n",
    "    drawPoint()\n",
    "    realTime()\n",
    "    t.tracer(True)\n",
    "    t.mainloop()\n",
    "if __name__ == '__main__':\n",
    "    main()\n"
   ]
  },
  {
   "cell_type": "code",
   "execution_count": null,
   "metadata": {},
   "outputs": [],
   "source": []
  }
 ],
 "metadata": {
  "kernelspec": {
   "display_name": "Python 3",
   "language": "python",
   "name": "python3"
  },
  "language_info": {
   "codemirror_mode": {
    "name": "ipython",
    "version": 3
   },
   "file_extension": ".py",
   "mimetype": "text/x-python",
   "name": "python",
   "nbconvert_exporter": "python",
   "pygments_lexer": "ipython3",
   "version": "3.7.4"
  }
 },
 "nbformat": 4,
 "nbformat_minor": 2
}
