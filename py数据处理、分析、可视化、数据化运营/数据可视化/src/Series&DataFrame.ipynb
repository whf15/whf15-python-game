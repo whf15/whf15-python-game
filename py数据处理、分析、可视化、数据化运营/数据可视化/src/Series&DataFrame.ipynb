{
 "cells": [
  {
   "cell_type": "markdown",
   "metadata": {},
   "source": [
    "### 什么是Series?\n",
    "\n",
    "在pandas中，Series是一位容器，类似于Python的内置的列表，表示dataframe的每一列"
   ]
  },
  {
   "cell_type": "code",
   "execution_count": 1,
   "metadata": {},
   "outputs": [],
   "source": [
    "import pandas as pd\n"
   ]
  },
  {
   "cell_type": "code",
   "execution_count": 9,
   "metadata": {},
   "outputs": [
    {
     "name": "stdout",
     "output_type": "stream",
     "text": [
      "0    1\n",
      "1    2\n",
      "2    3\n",
      "3    4\n",
      "dtype: int64\n",
      "-----------------------------------\n",
      "0    whf\n",
      "1     21\n",
      "dtype: object\n",
      "-----------------------------------\n",
      "Person         Wes McKinney\n",
      "Who       Creator of Pandas\n",
      "dtype: object\n"
     ]
    }
   ],
   "source": [
    "s = pd.Series([1,2,3,4])\n",
    "print(s)\n",
    "print('-----------------------------------')\n",
    "s1 = pd.Series(['whf',21])\n",
    "print(s1)\n",
    "#左边显示的‘行号’实际是Series的索引\n",
    "\n",
    "print('-----------------------------------')\n",
    "s = pd.Series(['Wes McKinney','Creator of Pandas'],\n",
    "             index=['Person','Who'])\n",
    "print(s)"
   ]
  },
  {
   "cell_type": "code",
   "execution_count": 14,
   "metadata": {},
   "outputs": [
    {
     "name": "stdout",
     "output_type": "stream",
     "text": [
      "   Name Occupationa        Born       Award  Age\n",
      "0  whf1     Student  2005-01-01  2010-01-01    5\n",
      "1  whf2     Student  2005-01-02  2020-01-02   17\n"
     ]
    }
   ],
   "source": [
    "#创建DataFrame\n",
    "family = pd.DataFrame({\n",
    "    'Name':['whf1','whf2'],\n",
    "    'Occupationa':['Student','Student'],\n",
    "    'Born':['2005-01-01','2005-01-02'],\n",
    "    'Award':['2010-01-01','2020-01-02'],\n",
    "    'Age':[5,17]})\n",
    "print(family)"
   ]
  },
  {
   "cell_type": "code",
   "execution_count": 25,
   "metadata": {
    "scrolled": true
   },
   "outputs": [
    {
     "name": "stdout",
     "output_type": "stream",
     "text": [
      "     Occupationa        Born       Award  Age\n",
      "whf1     Student  2005-01-01  2010-01-01    5\n",
      "whf2     Student  2005-01-02  2020-01-02   17\n"
     ]
    }
   ],
   "source": [
    "#将name列作为行索引\n",
    "family = pd.DataFrame({\n",
    "    'Name':['whf1','whf2'],\n",
    "    'Occupationa':['Student','Student'],\n",
    "    'Born':['2005-01-01','2005-01-02'],\n",
    "    'Award':['2010-01-01','2020-01-02'],\n",
    "    'Age':[5,17]},\n",
    "    index=['whf1','whf2'],\n",
    "    columns=['Occupationa','Born','Award','Age']\n",
    ")\n",
    "print(family)"
   ]
  },
  {
   "cell_type": "code",
   "execution_count": 22,
   "metadata": {},
   "outputs": [
    {
     "name": "stdout",
     "output_type": "stream",
     "text": [
      "   Name Occupationa        Born       Award  Age\n",
      "0  whf1     Student  2005-01-01  2010-01-01    5\n",
      "1  whf2     Student  2005-01-02  2020-01-02   17\n"
     ]
    }
   ],
   "source": [
    "#将name列作为行索引,并且有序\n",
    "from collections import OrderedDict\n",
    "family = pd.DataFrame(OrderedDict([\n",
    "    ('Name',['whf1','whf2']),\n",
    "    ('Occupationa',['Student','Student']),\n",
    "    ('Born',['2005-01-01','2005-01-02']),\n",
    "    ('Award',['2010-01-01','2020-01-02']),\n",
    "    ('Age',[5,17])])\n",
    ")\n",
    "print(family)"
   ]
  },
  {
   "cell_type": "code",
   "execution_count": 35,
   "metadata": {},
   "outputs": [
    {
     "name": "stdout",
     "output_type": "stream",
     "text": [
      "Occupationa       Student\n",
      "Born           2005-01-01\n",
      "Award          2010-01-01\n",
      "Age                     5\n",
      "Name: whf1, dtype: object\n",
      "\n",
      "\n",
      "Index(['Occupationa', 'Born', 'Award', 'Age'], dtype='object')\n",
      "['Student' '2005-01-01' '2010-01-01' 5]\n",
      "Index(['Occupationa', 'Born', 'Award', 'Age'], dtype='object')\n"
     ]
    }
   ],
   "source": [
    "first_row=family.loc['whf1']\n",
    "print(first_row)\n",
    "\n",
    "print(\"\\n\")\n",
    "\n",
    "print(first_row.index)\n",
    "print(first_row.values)\n",
    "print(first_row.keys())"
   ]
  },
  {
   "cell_type": "code",
   "execution_count": 37,
   "metadata": {},
   "outputs": [],
   "source": [
    "scientists = pd.read_csv(\"../data/scientists.csv\")"
   ]
  },
  {
   "cell_type": "code",
   "execution_count": 39,
   "metadata": {},
   "outputs": [
    {
     "name": "stdout",
     "output_type": "stream",
     "text": [
      "0    37\n",
      "1    61\n",
      "2    90\n",
      "3    66\n",
      "4    56\n",
      "5    45\n",
      "6    41\n",
      "7    77\n",
      "Name: Age, dtype: int64\n"
     ]
    }
   ],
   "source": [
    "#读取数据表中的年龄信息\n",
    "ages = scientists['Age']\n",
    "print(ages)"
   ]
  },
  {
   "cell_type": "code",
   "execution_count": 41,
   "metadata": {},
   "outputs": [
    {
     "name": "stdout",
     "output_type": "stream",
     "text": [
      "count     8.000000\n",
      "mean     59.125000\n",
      "std      18.325918\n",
      "min      37.000000\n",
      "25%      44.000000\n",
      "50%      58.500000\n",
      "75%      68.750000\n",
      "max      90.000000\n",
      "Name: Age, dtype: float64\n"
     ]
    }
   ],
   "source": [
    "#获取年龄的基本统计量\n",
    "print(ages.describe())"
   ]
  },
  {
   "cell_type": "markdown",
   "metadata": {},
   "source": [
    "### 操作自动对其和向量化（广播）\n",
    "\n",
    "1. 同长度向量 print(ages+ages)\n",
    "\n",
    "2. 向量和整数（标量）运算\n",
    "\n",
    "3. 不同长度向量的运算 print(ages+pd.Series([1,100])),对于其他类型，shape必须匹配\n",
    "\n",
    "4. 带有常见索引标签的向量（自动对齐）\n",
    "\n"
   ]
  },
  {
   "cell_type": "code",
   "execution_count": 43,
   "metadata": {},
   "outputs": [
    {
     "name": "stdout",
     "output_type": "stream",
     "text": [
      "                   Name        Born        Died  Age     Occupation\n",
      "1        William Gosset  1876-06-13  1937-10-16   61   Statistician\n",
      "2  Florence Nightingale  1820-05-12  1910-08-13   90          Nurse\n",
      "3           Marie Curie  1867-11-07  1934-07-04   66        Chemist\n",
      "7          Johann Gauss  1777-04-30  1855-02-23   77  Mathematician\n"
     ]
    }
   ],
   "source": [
    "#选择DataFrame的子集\n",
    "print(scientists[scientists['Age']>scientists['Age'].mean()])"
   ]
  },
  {
   "cell_type": "code",
   "execution_count": 44,
   "metadata": {},
   "outputs": [
    {
     "name": "stdout",
     "output_type": "stream",
     "text": [
      "                   Name        Born        Died  Age    Occupation\n",
      "0     Rosaline Franklin  1920-07-25  1958-04-16   37       Chemist\n",
      "1        William Gosset  1876-06-13  1937-10-16   61  Statistician\n",
      "2  Florence Nightingale  1820-05-12  1910-08-13   90         Nurse\n",
      "3           Marie Curie  1867-11-07  1934-07-04   66       Chemist\n"
     ]
    }
   ],
   "source": [
    "first_half = scientists[:4]\n",
    "print(first_half)"
   ]
  },
  {
   "cell_type": "markdown",
   "metadata": {},
   "source": [
    "### 更改Series 和 DataFrame\n"
   ]
  },
  {
   "cell_type": "code",
   "execution_count": 51,
   "metadata": {},
   "outputs": [
    {
     "name": "stdout",
     "output_type": "stream",
     "text": [
      "object\n",
      "\n",
      "\n",
      "0   1920-07-25\n",
      "1   1876-06-13\n",
      "2   1820-05-12\n",
      "3   1867-11-07\n",
      "4   1907-05-27\n",
      "5   1813-03-15\n",
      "6   1912-06-23\n",
      "7   1777-04-30\n",
      "Name: Born, dtype: datetime64[ns]\n"
     ]
    }
   ],
   "source": [
    "#scientists中的Born列，属性为object，修改为datatime\n",
    "print(scientists['Born'].dtype)\n",
    "print(\"\\n\")\n",
    "born_datatime = pd.to_datetime(scientists['Born'],format='%Y-%m-%d')\n",
    "print(born_datatime)\n",
    "died_datatime = pd.to_datetime(scientists['Died'],format='%Y-%m-%d')"
   ]
  },
  {
   "cell_type": "code",
   "execution_count": 55,
   "metadata": {},
   "outputs": [
    {
     "name": "stdout",
     "output_type": "stream",
     "text": [
      "                   Name        Born        Died  Age    Occupation    born_dt  \\\n",
      "0     Rosaline Franklin  1920-07-25  1958-04-16   37       Chemist 1920-07-25   \n",
      "1        William Gosset  1876-06-13  1937-10-16   61  Statistician 1876-06-13   \n",
      "2  Florence Nightingale  1820-05-12  1910-08-13   90         Nurse 1820-05-12   \n",
      "3           Marie Curie  1867-11-07  1934-07-04   66       Chemist 1867-11-07   \n",
      "4         Rachel Carson  1907-05-27  1964-04-14   56     Biologist 1907-05-27   \n",
      "\n",
      "     died_dt  \n",
      "0 1958-04-16  \n",
      "1 1937-10-16  \n",
      "2 1910-08-13  \n",
      "3 1934-07-04  \n",
      "4 1964-04-14  \n",
      "(8, 7)\n"
     ]
    }
   ],
   "source": [
    "#新建一组新列\n",
    "scientists['born_dt'],scientists['died_dt'] = (born_datatime,died_datatime)\n",
    "print(scientists.head())\n",
    "print(scientists.shape)"
   ]
  },
  {
   "cell_type": "markdown",
   "metadata": {},
   "source": [
    "将Age列的数据打乱"
   ]
  },
  {
   "cell_type": "code",
   "execution_count": 58,
   "metadata": {},
   "outputs": [
    {
     "name": "stdout",
     "output_type": "stream",
     "text": [
      "0    77\n",
      "1    90\n",
      "2    37\n",
      "3    61\n",
      "4    41\n",
      "5    45\n",
      "6    66\n",
      "7    56\n",
      "Name: Age, dtype: int64\n"
     ]
    },
    {
     "name": "stderr",
     "output_type": "stream",
     "text": [
      "C:\\ProgramData\\Anaconda3\\lib\\random.py:278: SettingWithCopyWarning: \n",
      "A value is trying to be set on a copy of a slice from a DataFrame\n",
      "\n",
      "See the caveats in the documentation: http://pandas.pydata.org/pandas-docs/stable/user_guide/indexing.html#returning-a-view-versus-a-copy\n",
      "  x[i], x[j] = x[j], x[i]\n"
     ]
    }
   ],
   "source": [
    "import random\n",
    "random.seed(42)\n",
    "random.shuffle(scientists['Age'])\n",
    "print(scientists['Age'])"
   ]
  },
  {
   "cell_type": "code",
   "execution_count": 61,
   "metadata": {},
   "outputs": [
    {
     "name": "stdout",
     "output_type": "stream",
     "text": [
      "0    66\n",
      "1    56\n",
      "2    41\n",
      "3    45\n",
      "4    77\n",
      "5    37\n",
      "6    90\n",
      "7    61\n",
      "Name: Age, dtype: int64\n"
     ]
    }
   ],
   "source": [
    "scientists['Age'] = scientists['Age'].\\\n",
    "    sample(len(scientists['Age']),random_state=24).\\\n",
    "    reset_index(drop=True)\n",
    "print(scientists['Age'])"
   ]
  },
  {
   "cell_type": "code",
   "execution_count": 66,
   "metadata": {},
   "outputs": [
    {
     "name": "stdout",
     "output_type": "stream",
     "text": [
      "                   Name        Born        Died  Age    Occupation    born_dt  \\\n",
      "0     Rosaline Franklin  1920-07-25  1958-04-16   66       Chemist 1920-07-25   \n",
      "1        William Gosset  1876-06-13  1937-10-16   56  Statistician 1876-06-13   \n",
      "2  Florence Nightingale  1820-05-12  1910-08-13   41         Nurse 1820-05-12   \n",
      "3           Marie Curie  1867-11-07  1934-07-04   45       Chemist 1867-11-07   \n",
      "4         Rachel Carson  1907-05-27  1964-04-14   77     Biologist 1907-05-27   \n",
      "\n",
      "     died_dt age_days_dt  \n",
      "0 1958-04-16  13779 days  \n",
      "1 1937-10-16  22404 days  \n",
      "2 1910-08-13  32964 days  \n",
      "3 1934-07-04  24345 days  \n",
      "4 1964-04-14  20777 days  \n",
      "\n",
      "\n",
      "                   Name        Born        Died  Age    Occupation    born_dt  \\\n",
      "0     Rosaline Franklin  1920-07-25  1958-04-16   66       Chemist 1920-07-25   \n",
      "1        William Gosset  1876-06-13  1937-10-16   56  Statistician 1876-06-13   \n",
      "2  Florence Nightingale  1820-05-12  1910-08-13   41         Nurse 1820-05-12   \n",
      "3           Marie Curie  1867-11-07  1934-07-04   45       Chemist 1867-11-07   \n",
      "4         Rachel Carson  1907-05-27  1964-04-14   77     Biologist 1907-05-27   \n",
      "\n",
      "     died_dt age_days_dt  \n",
      "0 1958-04-16  13779 days  \n",
      "1 1937-10-16  22404 days  \n",
      "2 1910-08-13  32964 days  \n",
      "3 1934-07-04  24345 days  \n",
      "4 1964-04-14  20777 days  \n",
      "\n",
      "\n",
      "                   Name        Born        Died  Age    Occupation    born_dt  \\\n",
      "0     Rosaline Franklin  1920-07-25  1958-04-16   66       Chemist 1920-07-25   \n",
      "1        William Gosset  1876-06-13  1937-10-16   56  Statistician 1876-06-13   \n",
      "2  Florence Nightingale  1820-05-12  1910-08-13   41         Nurse 1820-05-12   \n",
      "3           Marie Curie  1867-11-07  1934-07-04   45       Chemist 1867-11-07   \n",
      "4         Rachel Carson  1907-05-27  1964-04-14   77     Biologist 1907-05-27   \n",
      "\n",
      "     died_dt  age_days_dt  \n",
      "0 1958-04-16         37.0  \n",
      "1 1937-10-16         61.0  \n",
      "2 1910-08-13         90.0  \n",
      "3 1934-07-04         66.0  \n",
      "4 1964-04-14         56.0  \n"
     ]
    }
   ],
   "source": [
    "#假设scientists中的age出错，求出真实的年龄\n",
    "print(scientists.head())\n",
    "print(\"\\n\")\n",
    "scientists['age_days_dt'] = (scientists['died_dt']-scientists['born_dt'])\n",
    "print(scientists.head())\n",
    "print(\"\\n\")\n",
    "scientists['age_days_dt'] = scientists['age_days_dt'].astype('timedelta64[Y]')\n",
    "print(scientists.head())"
   ]
  },
  {
   "cell_type": "code",
   "execution_count": 67,
   "metadata": {},
   "outputs": [],
   "source": [
    "test = scientists\n"
   ]
  },
  {
   "cell_type": "code",
   "execution_count": 70,
   "metadata": {},
   "outputs": [
    {
     "name": "stdout",
     "output_type": "stream",
     "text": [
      "                   Name        Born        Died   Age          Occupation  \\\n",
      "0     Rosaline Franklin  1920-07-25  1958-04-16  37.0             Chemist   \n",
      "1        William Gosset  1876-06-13  1937-10-16  61.0        Statistician   \n",
      "2  Florence Nightingale  1820-05-12  1910-08-13  90.0               Nurse   \n",
      "3           Marie Curie  1867-11-07  1934-07-04  66.0             Chemist   \n",
      "4         Rachel Carson  1907-05-27  1964-04-14  56.0           Biologist   \n",
      "5             John Snow  1813-03-15  1858-06-16  45.0           Physician   \n",
      "6           Alan Turing  1912-06-23  1954-06-07  41.0  Computer Scientist   \n",
      "7          Johann Gauss  1777-04-30  1855-02-23  77.0       Mathematician   \n",
      "\n",
      "     born_dt    died_dt  age_days_dt  \n",
      "0 1920-07-25 1958-04-16         37.0  \n",
      "1 1876-06-13 1937-10-16         61.0  \n",
      "2 1820-05-12 1910-08-13         90.0  \n",
      "3 1867-11-07 1934-07-04         66.0  \n",
      "4 1907-05-27 1964-04-14         56.0  \n",
      "5 1813-03-15 1858-06-16         45.0  \n",
      "6 1912-06-23 1954-06-07         41.0  \n",
      "7 1777-04-30 1855-02-23         77.0  \n"
     ]
    }
   ],
   "source": [
    "print(test)"
   ]
  },
  {
   "cell_type": "code",
   "execution_count": 69,
   "metadata": {},
   "outputs": [],
   "source": [
    "test['Age'] = test['age_days_dt']"
   ]
  },
  {
   "cell_type": "markdown",
   "metadata": {},
   "source": [
    "### 导入导出数据"
   ]
  },
  {
   "cell_type": "code",
   "execution_count": 71,
   "metadata": {},
   "outputs": [
    {
     "name": "stdout",
     "output_type": "stream",
     "text": [
      "0       Rosaline Franklin\n",
      "1          William Gosset\n",
      "2    Florence Nightingale\n",
      "3             Marie Curie\n",
      "4           Rachel Carson\n",
      "5               John Snow\n",
      "6             Alan Turing\n",
      "7            Johann Gauss\n",
      "Name: Name, dtype: object\n"
     ]
    }
   ],
   "source": [
    "names = scientists['Name']\n",
    "print(names)"
   ]
  },
  {
   "cell_type": "code",
   "execution_count": 80,
   "metadata": {},
   "outputs": [
    {
     "data": {
      "text/plain": [
       "['..//output\\\\scientists_df.pickle',\n",
       " '..//output\\\\scientists_names_series.pickle',\n",
       " '..//output\\\\南丁格尔玫瑰图.html']"
      ]
     },
     "execution_count": 80,
     "metadata": {},
     "output_type": "execute_result"
    }
   ],
   "source": [
    "#保存\n",
    "names.to_pickle('../output/scientists_names_series.pickle')\n",
    "scientists.to_pickle('../output/scientists_df.pickle')\n",
    "import glob\n",
    "glob.glob('..//output//*')"
   ]
  },
  {
   "cell_type": "code",
   "execution_count": 82,
   "metadata": {},
   "outputs": [
    {
     "name": "stdout",
     "output_type": "stream",
     "text": [
      "0       Rosaline Franklin\n",
      "1          William Gosset\n",
      "2    Florence Nightingale\n",
      "3             Marie Curie\n",
      "4           Rachel Carson\n",
      "5               John Snow\n",
      "6             Alan Turing\n",
      "7            Johann Gauss\n",
      "Name: Name, dtype: object\n"
     ]
    }
   ],
   "source": [
    "#读取pickle,其扩展名可以是.p .pl .pickle\n",
    "scientists_names_from_pickle = pd.read_pickle('../output/scientists_names_series.pickle')\n",
    "print(scientists_names_from_pickle)"
   ]
  },
  {
   "cell_type": "code",
   "execution_count": null,
   "metadata": {},
   "outputs": [],
   "source": []
  }
 ],
 "metadata": {
  "kernelspec": {
   "display_name": "Python 3",
   "language": "python",
   "name": "python3"
  },
  "language_info": {
   "codemirror_mode": {
    "name": "ipython",
    "version": 3
   },
   "file_extension": ".py",
   "mimetype": "text/x-python",
   "name": "python",
   "nbconvert_exporter": "python",
   "pygments_lexer": "ipython3",
   "version": "3.7.4"
  }
 },
 "nbformat": 4,
 "nbformat_minor": 2
}
