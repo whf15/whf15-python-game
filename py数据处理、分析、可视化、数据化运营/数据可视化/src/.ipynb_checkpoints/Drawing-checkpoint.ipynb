{
 "cells": [
  {
   "cell_type": "markdown",
   "metadata": {},
   "source": [
    "# Anscombe四重奏（Anscombe's quartet）\n",
    "\n",
    "https://github.com/mwaskom/seaborn-data\n",
    "\n",
    "需要先下载数据集（URLERROR），解压到本地seaborn-data文件中"
   ]
  },
  {
   "cell_type": "code",
   "execution_count": 22,
   "metadata": {},
   "outputs": [],
   "source": [
    "import seaborn as sns\n",
    "import matplotlib.pyplot as plt\n"
   ]
  },
  {
   "cell_type": "code",
   "execution_count": 2,
   "metadata": {},
   "outputs": [],
   "source": [
    "anscombe = sns.load_dataset('anscombe')"
   ]
  },
  {
   "cell_type": "code",
   "execution_count": 3,
   "metadata": {},
   "outputs": [
    {
     "name": "stdout",
     "output_type": "stream",
     "text": [
      "  dataset     x     y\n",
      "0       I  10.0  8.04\n",
      "1       I   8.0  6.95\n",
      "2       I  13.0  7.58\n",
      "3       I   9.0  8.81\n",
      "4       I  11.0  8.33\n"
     ]
    }
   ],
   "source": [
    "print(anscombe.head())"
   ]
  },
  {
   "cell_type": "markdown",
   "metadata": {},
   "source": [
    "> dataset_1 = anscombe[anscombe['dataset']=='I']\n",
    "\n",
    "> plt.plot(dataset_1['x'],dataset_1['y'])"
   ]
  },
  {
   "cell_type": "markdown",
   "metadata": {},
   "source": [
    ">plt.plot(dataset_1['x'],dataset_1['y'],'o')"
   ]
  },
  {
   "cell_type": "code",
   "execution_count": 21,
   "metadata": {},
   "outputs": [
    {
     "data": {
      "text/plain": [
       "<Figure size 288x216 with 0 Axes>"
      ]
     },
     "metadata": {},
     "output_type": "display_data"
    }
   ],
   "source": [
    "import matplotlib.pyplot as plt    #创建自定义图像\n",
    "%matplotlib inline"
   ]
  },
  {
   "cell_type": "code",
   "execution_count": null,
   "metadata": {},
   "outputs": [],
   "source": [
    "dataset_1 = anscombe[anscombe['dataset']=='I']\n",
    "dataset_2 = anscombe[anscombe['dataset']=='II']\n",
    "dataset_3 = anscombe[anscombe['dataset']=='III']\n",
    "dataset_4 = anscombe[anscombe['dataset']=='IV']"
   ]
  },
  {
   "cell_type": "code",
   "execution_count": 65,
   "metadata": {},
   "outputs": [
    {
     "data": {
      "image/png": "[encoded data removed]",
      "text/plain": [
       "<Figure size 432x288 with 4 Axes>"
      ]
     },
     "metadata": {
      "needs_background": "light"
     },
     "output_type": "display_data"
    }
   ],
   "source": [
    "#创建一块2 x 2的画布,存在子图\n",
    "fig,ax= plt.subplots(2, 2, sharex='all', sharey='all')\n",
    "\n",
    "ax[0][0].plot(dataset_1['x'],dataset_1['y'],'o')\n",
    "ax[0][1].plot(dataset_2['x'],dataset_2['y'],'o')\n",
    "ax[1][0].plot(dataset_3['x'],dataset_3['y'],'o')\n",
    "ax[1][1].plot(dataset_4['x'],dataset_4['y'],'o')\n",
    "#子图添加标题\n",
    "ax[0][0].set_title(\"dataset_1\")\n",
    "ax[0][1].set_title(\"dataset_2\")\n",
    "ax[1][0].set_title(\"dataset_3\")\n",
    "ax[1][1].set_title(\"dataset_4\")\n",
    "#大图添加标题\n",
    "fig.suptitle(\"Anscombe Data\")\n",
    "#紧凑布局\n",
    "fig.tight_layout()\n",
    "\n",
    "#保存为图片\n",
    "plt.savefig('../output/fig.jpg')"
   ]
  },
  {
   "cell_type": "code",
   "execution_count": 51,
   "metadata": {},
   "outputs": [
    {
     "data": {
      "text/plain": [
       "[<matplotlib.lines.Line2D at 0x1f795855548>]"
      ]
     },
     "execution_count": 51,
     "metadata": {},
     "output_type": "execute_result"
    },
    {
     "data": {
      "image/png": "[encoded data removed]",
      "text/plain": [
       "<Figure size 432x288 with 4 Axes>"
      ]
     },
     "metadata": {
      "needs_background": "light"
     },
     "output_type": "display_data"
    }
   ],
   "source": [
    "plt.subplot(2,2,1)\n",
    "plt.plot(dataset_1['x'],dataset_1['y'],'o')\n",
    "plt.subplot(2,2,2)\n",
    "plt.plot(dataset_2['x'],dataset_2['y'],'o')\n",
    "plt.subplot(2,2,3)\n",
    "plt.plot(dataset_3['x'],dataset_3['y'],'o')\n",
    "plt.subplot(2,2,4)\n",
    "plt.plot(dataset_4['x'],dataset_4['y'],'o')"
   ]
  },
  {
   "cell_type": "markdown",
   "metadata": {},
   "source": [
    "# 使用matplotlib绘制统计图"
   ]
  },
  {
   "cell_type": "markdown",
   "metadata": {},
   "source": [
    "#### tips数据集,包含某个餐厅服务员收集的客户付小费的相关数据,包含总费用,聚餐人数,星期几和用餐时间等"
   ]
  },
  {
   "cell_type": "code",
   "execution_count": 67,
   "metadata": {},
   "outputs": [
    {
     "name": "stdout",
     "output_type": "stream",
     "text": [
      "   total_bill   tip     sex smoker  day    time  size\n",
      "0       16.99  1.01  Female     No  Sun  Dinner     2\n",
      "1       10.34  1.66    Male     No  Sun  Dinner     3\n",
      "2       21.01  3.50    Male     No  Sun  Dinner     3\n",
      "3       23.68  3.31    Male     No  Sun  Dinner     2\n",
      "4       24.59  3.61  Female     No  Sun  Dinner     4\n"
     ]
    }
   ],
   "source": [
    "tips = sns.load_dataset(\"tips\")\n",
    "print(tips.head())"
   ]
  },
  {
   "cell_type": "code",
   "execution_count": 75,
   "metadata": {},
   "outputs": [
    {
     "data": {
      "text/plain": [
       "Text(0, 0.5, 'Total Bill')"
      ]
     },
     "execution_count": 75,
     "metadata": {},
     "output_type": "execute_result"
    },
    {
     "data": {
      "image/png": "[encoded data removed]",
      "text/plain": [
       "<Figure size 432x288 with 1 Axes>"
      ]
     },
     "metadata": {
      "needs_background": "light"
     },
     "output_type": "display_data"
    }
   ],
   "source": [
    "#直方图\n",
    "fig = plt.figure()\n",
    "axes1 = fig.add_subplot(111)\n",
    "axes1.hist(tips['total_bill'],bins=10)\n",
    "axes1.set_title(\"Histogram of Total Bill\")\n",
    "axes1.set_xlabel(\"Frequency\")\n",
    "axes1.set_ylabel(\"Total Bill\")\n"
   ]
  },
  {
   "cell_type": "code",
   "execution_count": null,
   "metadata": {},
   "outputs": [],
   "source": []
  }
 ],
 "metadata": {
  "kernelspec": {
   "display_name": "Python 3",
   "language": "python",
   "name": "python3"
  },
  "language_info": {
   "codemirror_mode": {
    "name": "ipython",
    "version": 3
   },
   "file_extension": ".py",
   "mimetype": "text/x-python",
   "name": "python",
   "nbconvert_exporter": "python",
   "pygments_lexer": "ipython3",
   "version": "3.7.4"
  }
 },
 "nbformat": 4,
 "nbformat_minor": 2
}
