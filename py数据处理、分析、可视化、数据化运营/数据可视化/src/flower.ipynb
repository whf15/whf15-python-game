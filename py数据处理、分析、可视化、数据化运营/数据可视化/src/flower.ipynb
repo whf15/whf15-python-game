{
 "cells": [
  {
   "cell_type": "code",
   "execution_count": 12,
   "metadata": {},
   "outputs": [],
   "source": [
    "import pandas as pd\n",
    "from sklearn.datasets import load_iris\n",
    "import matplotlib.pyplot as plt"
   ]
  },
  {
   "cell_type": "code",
   "execution_count": null,
   "metadata": {},
   "outputs": [],
   "source": []
  },
  {
   "cell_type": "code",
   "execution_count": 68,
   "metadata": {},
   "outputs": [
    {
     "data": {
      "text/plain": [
       "dict_keys(['data', 'target', 'target_names', 'DESCR', 'feature_names', 'filename'])"
      ]
     },
     "execution_count": 68,
     "metadata": {},
     "output_type": "execute_result"
    }
   ],
   "source": [
    "data = load_iris()\n",
    "#print(data.DESCR)\n",
    "data.keys()"
   ]
  },
  {
   "cell_type": "code",
   "execution_count": 76,
   "metadata": {},
   "outputs": [
    {
     "name": "stdout",
     "output_type": "stream",
     "text": [
      "sepal length (cm)\tsepal width (cm)\tpetal length (cm)\tpetal width (cm)\n",
      "setosa\tversicolor\tvirginica\n"
     ]
    }
   ],
   "source": [
    "# 鸢尾花数据集特征列表\n",
    "print(u'\\t'.join(data.feature_names))\n",
    "# 鸢尾花数据集类别列表\n",
    "print(u'\\t'.join(data.target_names))"
   ]
  },
  {
   "cell_type": "code",
   "execution_count": 101,
   "metadata": {},
   "outputs": [
    {
     "name": "stdout",
     "output_type": "stream",
     "text": [
      "sepal length (cm)\tsepal width (cm)\tpetal length (cm)\tpetal width (cm)\tlabel\n"
     ]
    }
   ],
   "source": [
    "# 鸢尾花数据集数据\n",
    "print(u'%s\\tlabel' % (u'\\t'.join(data.feature_names)))\n",
    "for sample_data, sample_label in zip(data.data, data.target):\n",
    "    sample_data_str = u'\\t'.join([str(w) for w in sample_data])\n",
    "    sample_label_str = data.target_names[sample_label]\n",
    "    #print(\"%s\\t%s\"% (sample_data_str, sample_label_str))"
   ]
  },
  {
   "cell_type": "code",
   "execution_count": 80,
   "metadata": {},
   "outputs": [
    {
     "data": {
      "image/png": "[encoded data removed]",
      "text/plain": [
       "<Figure size 432x288 with 1 Axes>"
      ]
     },
     "metadata": {
      "needs_background": "light"
     },
     "output_type": "display_data"
    }
   ],
   "source": [
    "# 鸢尾花数据集数据 每个类别取5条数据\n",
    "colors = ['red', 'dodgerblue','lime']\n",
    "attr_index1 = 0\n",
    "atrr_index2 = 2\n",
    "\n",
    "#print(u'%s\\tlabel' % (u'\\t'.join((data.feature_names[attr_index1], data.feature_names[atrr_index2]))))\n",
    "for label_ser, label_name in enumerate(data.target_names):\n",
    "    category_data = data.data[data.target==label_ser][:][:,(attr_index1, atrr_index2)]\n",
    "    for sample_data in category_data:\n",
    "        sample_data_str = u'\\t'.join([str(w) for w in sample_data])\n",
    "        #print(\"%s\\t%s\" % (sample_data_str, label_name))\n",
    "    plt.scatter(category_data[:,0], category_data[:,1], c=colors[label_ser], marker='x')\n",
    "plt.xlabel(data.feature_names[attr_index1])\n",
    "plt.ylabel(data.feature_names[atrr_index2])\n",
    "plt.title(\"iris data\")\n",
    "plt.show()"
   ]
  },
  {
   "cell_type": "code",
   "execution_count": 98,
   "metadata": {},
   "outputs": [
    {
     "name": "stdout",
     "output_type": "stream",
     "text": [
      "[0 0 0 0 0 0 0 0 0 0 0 0 0 0 0 0 0 0 0 0 0 0 0 0 0 0 0 0 0 0 0 0 0 0 0 0 0\n",
      " 0 0 0 0 0 0 0 0 0 0 0 0 0 1 1 1 1 1 1 1 1 1 1 1 1 1 1 1 1 1 1 1 1 1 1 1 1\n",
      " 1 1 1 1 1 1 1 1 1 1 1 1 1 1 1 1 1 1 1 1 1 1 1 1 1 1 2 2 2 2 2 2 2 2 2 2 2\n",
      " 2 2 2 2 2 2 2 2 2 2 2 2 2 2 2 2 2 2 2 2 2 2 2 2 2 2 2 2 2 2 2 2 2 2 2 2 2\n",
      " 2 2]\n"
     ]
    }
   ],
   "source": [
    "feature = data['data']\n",
    "feature.shape\n",
    "target = data['target']\n",
    "print(target)"
   ]
  },
  {
   "cell_type": "code",
   "execution_count": 96,
   "metadata": {},
   "outputs": [],
   "source": [
    "def plot_iris_projection(x_index, y_index):\n",
    "    for t,marker,c in zip(range(3),'>ox', 'rgb'):\n",
    "        plt.scatter(data[target==t,x_index],\n",
    "                    data[target==t,y_index],\n",
    "                    marker=marker,\n",
    "                    c=c)\n",
    "        plt.xlabel(feature_names[x_index])\n",
    "        plt.ylabel(feature_names[y_index])\n",
    "        \n"
   ]
  },
  {
   "cell_type": "code",
   "execution_count": 99,
   "metadata": {},
   "outputs": [
    {
     "ename": "TypeError",
     "evalue": "cannot unpack non-iterable int object",
     "output_type": "error",
     "traceback": [
      "\u001b[1;31m---------------------------------------------------------------------------\u001b[0m",
      "\u001b[1;31mTypeError\u001b[0m                                 Traceback (most recent call last)",
      "\u001b[1;32m<ipython-input-99-8d6d103955ee>\u001b[0m in \u001b[0;36m<module>\u001b[1;34m\u001b[0m\n\u001b[0;32m      1\u001b[0m \u001b[0mpairs\u001b[0m \u001b[1;33m=\u001b[0m \u001b[1;33m[\u001b[0m\u001b[1;33m(\u001b[0m\u001b[1;36m1\u001b[0m\u001b[1;33m,\u001b[0m\u001b[1;36m1\u001b[0m\u001b[1;33m)\u001b[0m\u001b[1;33m,\u001b[0m\u001b[1;33m(\u001b[0m\u001b[1;36m1\u001b[0m\u001b[1;33m,\u001b[0m\u001b[1;36m2\u001b[0m\u001b[1;33m)\u001b[0m\u001b[1;33m,\u001b[0m\u001b[1;33m(\u001b[0m\u001b[1;36m1\u001b[0m\u001b[1;33m,\u001b[0m\u001b[1;36m3\u001b[0m\u001b[1;33m)\u001b[0m\u001b[1;33m,\u001b[0m\u001b[1;33m(\u001b[0m\u001b[1;36m2\u001b[0m\u001b[1;33m,\u001b[0m\u001b[1;36m2\u001b[0m\u001b[1;33m)\u001b[0m\u001b[1;33m,\u001b[0m\u001b[1;33m(\u001b[0m\u001b[1;36m2\u001b[0m\u001b[1;33m,\u001b[0m\u001b[1;36m2\u001b[0m\u001b[1;33m)\u001b[0m\u001b[1;33m,\u001b[0m\u001b[1;33m(\u001b[0m\u001b[1;36m2\u001b[0m\u001b[1;33m,\u001b[0m\u001b[1;36m3\u001b[0m\u001b[1;33m)\u001b[0m\u001b[1;33m]\u001b[0m\u001b[1;33m\u001b[0m\u001b[1;33m\u001b[0m\u001b[0m\n\u001b[1;32m----> 2\u001b[1;33m \u001b[1;32mfor\u001b[0m \u001b[0mi\u001b[0m\u001b[1;33m,\u001b[0m\u001b[1;33m(\u001b[0m\u001b[0mx_index\u001b[0m\u001b[1;33m,\u001b[0m\u001b[0my_index\u001b[0m\u001b[1;33m)\u001b[0m \u001b[1;32min\u001b[0m \u001b[1;33m(\u001b[0m\u001b[0mpairs\u001b[0m\u001b[1;33m)\u001b[0m\u001b[1;33m:\u001b[0m\u001b[1;33m\u001b[0m\u001b[1;33m\u001b[0m\u001b[0m\n\u001b[0m\u001b[0;32m      3\u001b[0m     \u001b[0mprint\u001b[0m\u001b[1;33m(\u001b[0m\u001b[0mi\u001b[0m\u001b[1;33m)\u001b[0m\u001b[1;33m\u001b[0m\u001b[1;33m\u001b[0m\u001b[0m\n\u001b[0;32m      4\u001b[0m     \u001b[0mprint\u001b[0m\u001b[1;33m(\u001b[0m\u001b[0mx_index\u001b[0m\u001b[1;33m,\u001b[0m\u001b[0my_index\u001b[0m\u001b[1;33m)\u001b[0m\u001b[1;33m\u001b[0m\u001b[1;33m\u001b[0m\u001b[0m\n\u001b[0;32m      5\u001b[0m     \u001b[0mplt\u001b[0m\u001b[1;33m.\u001b[0m\u001b[0msubplot\u001b[0m\u001b[1;33m(\u001b[0m\u001b[1;36m2\u001b[0m\u001b[1;33m,\u001b[0m\u001b[1;36m3\u001b[0m\u001b[1;33m,\u001b[0m\u001b[0mi\u001b[0m\u001b[1;33m+\u001b[0m\u001b[1;36m1\u001b[0m\u001b[1;33m)\u001b[0m\u001b[1;33m\u001b[0m\u001b[1;33m\u001b[0m\u001b[0m\n",
      "\u001b[1;31mTypeError\u001b[0m: cannot unpack non-iterable int object"
     ]
    }
   ],
   "source": [
    "pairs = [(1,1),(1,2),(1,3),(2,2),(2,2),(2,3)]\n",
    "for i,(x_index,y_index) in enumerate(pairs):\n",
    "    print(i)\n",
    "    print(x_index,y_index)\n",
    "    plt.subplot(2,3,i+1)\n",
    "    plot_iris_projection(x_index, y_index)\n",
    "plt.show()"
   ]
  },
  {
   "cell_type": "code",
   "execution_count": 52,
   "metadata": {},
   "outputs": [
    {
     "ename": "TypeError",
     "evalue": "unhashable type: 'numpy.ndarray'",
     "output_type": "error",
     "traceback": [
      "\u001b[1;31m---------------------------------------------------------------------------\u001b[0m",
      "\u001b[1;31mTypeError\u001b[0m                                 Traceback (most recent call last)",
      "\u001b[1;32m<ipython-input-52-12a2620c3c99>\u001b[0m in \u001b[0;36m<module>\u001b[1;34m\u001b[0m\n\u001b[0;32m     27\u001b[0m \u001b[1;33m\u001b[0m\u001b[0m\n\u001b[0;32m     28\u001b[0m \u001b[1;33m\u001b[0m\u001b[0m\n\u001b[1;32m---> 29\u001b[1;33m \u001b[0mplot_iris_projection3d\u001b[0m\u001b[1;33m(\u001b[0m\u001b[1;36m1\u001b[0m\u001b[1;33m,\u001b[0m \u001b[1;36m2\u001b[0m\u001b[1;33m,\u001b[0m \u001b[1;36m3\u001b[0m\u001b[1;33m)\u001b[0m\u001b[1;33m\u001b[0m\u001b[1;33m\u001b[0m\u001b[0m\n\u001b[0m\u001b[0;32m     30\u001b[0m \u001b[1;33m\u001b[0m\u001b[0m\n\u001b[0;32m     31\u001b[0m \u001b[0mplt\u001b[0m\u001b[1;33m.\u001b[0m\u001b[0mshow\u001b[0m\u001b[1;33m(\u001b[0m\u001b[1;33m)\u001b[0m\u001b[1;33m\u001b[0m\u001b[1;33m\u001b[0m\u001b[0m\n",
      "\u001b[1;32m<ipython-input-52-12a2620c3c99>\u001b[0m in \u001b[0;36mplot_iris_projection3d\u001b[1;34m(x_index, y_index, z_index)\u001b[0m\n\u001b[0;32m     11\u001b[0m     \u001b[1;32mfor\u001b[0m \u001b[0mt\u001b[0m\u001b[1;33m,\u001b[0m\u001b[0mmarker\u001b[0m\u001b[1;33m,\u001b[0m\u001b[0mc\u001b[0m \u001b[1;32min\u001b[0m \u001b[0mzip\u001b[0m\u001b[1;33m(\u001b[0m\u001b[0mrange\u001b[0m\u001b[1;33m(\u001b[0m\u001b[1;36m3\u001b[0m\u001b[1;33m)\u001b[0m\u001b[1;33m,\u001b[0m\u001b[1;34m'>ox'\u001b[0m\u001b[1;33m,\u001b[0m \u001b[1;34m'rgb'\u001b[0m\u001b[1;33m)\u001b[0m\u001b[1;33m:\u001b[0m\u001b[1;33m\u001b[0m\u001b[1;33m\u001b[0m\u001b[0m\n\u001b[0;32m     12\u001b[0m \u001b[1;33m\u001b[0m\u001b[0m\n\u001b[1;32m---> 13\u001b[1;33m         ax.scatter(data[target==t,x_index],\n\u001b[0m\u001b[0;32m     14\u001b[0m \u001b[1;33m\u001b[0m\u001b[0m\n\u001b[0;32m     15\u001b[0m                     \u001b[0mdata\u001b[0m\u001b[1;33m[\u001b[0m\u001b[0mtarget\u001b[0m\u001b[1;33m==\u001b[0m\u001b[0mt\u001b[0m\u001b[1;33m,\u001b[0m\u001b[0my_index\u001b[0m\u001b[1;33m]\u001b[0m\u001b[1;33m,\u001b[0m\u001b[1;33m\u001b[0m\u001b[1;33m\u001b[0m\u001b[0m\n",
      "\u001b[1;31mTypeError\u001b[0m: unhashable type: 'numpy.ndarray'"
     ]
    },
    {
     "data": {
      "image/png": "[encoded data removed]",
      "text/plain": [
       "<Figure size 432x288 with 1 Axes>"
      ]
     },
     "metadata": {
      "needs_background": "light"
     },
     "output_type": "display_data"
    }
   ],
   "source": [
    "from mpl_toolkits.mplot3d import Axes3D\n",
    "def plot_iris_projection3d(x_index, y_index, z_index):\n",
    "    fig = plt.figure()\n",
    "    ax = fig.add_subplot(111,projection='3d')\n",
    "    for t,marker,c in zip(range(3),'>ox', 'rgb'):\n",
    "        ax.scatter(data[target==t,x_index],\n",
    "                    data[target==t,y_index],\n",
    "                    data[target==t,z_index],\n",
    "                    marker=marker,c=c)\n",
    "        ax.set_xlabel(feature_names[x_index])\n",
    "        ax.set_ylabel(feature_names[y_index])\n",
    "        ax.set_zlabel(feature_names[z_index])\n",
    "\n",
    "plot_iris_projection3d(1, 2, 3)\n",
    "plt.show()"
   ]
  },
  {
   "cell_type": "code",
   "execution_count": 64,
   "metadata": {},
   "outputs": [],
   "source": [
    "tmp = pd.read_csv(\"http://datasets.flowingdata.com/hot-dog-contest-winners.csv\")"
   ]
  },
  {
   "cell_type": "code",
   "execution_count": 66,
   "metadata": {},
   "outputs": [
    {
     "data": {
      "text/html": [
       "<div>\n",
       "<style scoped>\n",
       "    .dataframe tbody tr th:only-of-type {\n",
       "        vertical-align: middle;\n",
       "    }\n",
       "\n",
       "    .dataframe tbody tr th {\n",
       "        vertical-align: top;\n",
       "    }\n",
       "\n",
       "    .dataframe thead th {\n",
       "        text-align: right;\n",
       "    }\n",
       "</style>\n",
       "<table border=\"1\" class=\"dataframe\">\n",
       "  <thead>\n",
       "    <tr style=\"text-align: right;\">\n",
       "      <th></th>\n",
       "      <th>Year</th>\n",
       "      <th>Winner</th>\n",
       "      <th>Dogs eaten</th>\n",
       "      <th>Country</th>\n",
       "      <th>New record</th>\n",
       "    </tr>\n",
       "  </thead>\n",
       "  <tbody>\n",
       "    <tr>\n",
       "      <td>0</td>\n",
       "      <td>1980</td>\n",
       "      <td>Paul Siederman &amp; Joe Baldini</td>\n",
       "      <td>9.1</td>\n",
       "      <td>United States</td>\n",
       "      <td>0</td>\n",
       "    </tr>\n",
       "    <tr>\n",
       "      <td>1</td>\n",
       "      <td>1981</td>\n",
       "      <td>Thomas DeBerry</td>\n",
       "      <td>11.0</td>\n",
       "      <td>United States</td>\n",
       "      <td>0</td>\n",
       "    </tr>\n",
       "    <tr>\n",
       "      <td>2</td>\n",
       "      <td>1982</td>\n",
       "      <td>Steven Abrams</td>\n",
       "      <td>11.0</td>\n",
       "      <td>United States</td>\n",
       "      <td>0</td>\n",
       "    </tr>\n",
       "    <tr>\n",
       "      <td>3</td>\n",
       "      <td>1983</td>\n",
       "      <td>Luis Llamas</td>\n",
       "      <td>19.5</td>\n",
       "      <td>Mexico</td>\n",
       "      <td>0</td>\n",
       "    </tr>\n",
       "    <tr>\n",
       "      <td>4</td>\n",
       "      <td>1984</td>\n",
       "      <td>Birgit Felden</td>\n",
       "      <td>9.5</td>\n",
       "      <td>Germany</td>\n",
       "      <td>0</td>\n",
       "    </tr>\n",
       "  </tbody>\n",
       "</table>\n",
       "</div>"
      ],
      "text/plain": [
       "   Year                        Winner  Dogs eaten        Country  New record\n",
       "0  1980  Paul Siederman & Joe Baldini         9.1  United States           0\n",
       "1  1981               Thomas DeBerry         11.0  United States           0\n",
       "2  1982                Steven Abrams         11.0  United States           0\n",
       "3  1983                  Luis Llamas         19.5         Mexico           0\n",
       "4  1984                Birgit Felden          9.5        Germany           0"
      ]
     },
     "execution_count": 66,
     "metadata": {},
     "output_type": "execute_result"
    }
   ],
   "source": [
    "tmp.head(5)"
   ]
  },
  {
   "cell_type": "markdown",
   "metadata": {},
   "source": [
    "'''\n",
    "datatime：2020/6/14\n",
    "author：wuxiong\n",
    "description：鸢尾花数据集分类\n",
    "'''\n",
    "import numpy\n",
    "from sklearn.datasets import load_iris \n",
    "#读出鸢尾花数据集data\n",
    "data=load_iris()\n",
    "\n",
    "print(data.keys())\n",
    "#鸢尾花数据集包含的内容\n",
    "# print(data['data'])\n",
    "#print(data['DESCR'])\n",
    "# print(data['target_names'])\n",
    "# print(data['feature_names'])\n",
    "# print(data['data'])\n",
    "\n",
    "import matplotlib.pyplot as plt\n",
    "import numpy as np\n",
    "\n",
    "#转化成nupy数组\n",
    "data_numpy = np.array(data['data'])\n",
    "target = np.array(data['target'])\n",
    "#切片第一列\n",
    "sepal_lenth = data_numpy[...,0]\n",
    "#切片第二列\n",
    "sepal_width = data_numpy[...,1]\n",
    "#切片第三列\n",
    "petal_length = data_numpy[...,2]\n",
    "#切片第四列\n",
    "petal_width = data_numpy[...,3]\n",
    "\n",
    "sepal_lenth_feature =[sepal_lenth,'sepal lenth']\n",
    "sepal_width_feature =[sepal_width,'sepal width']\n",
    "petal_length_feature =[petal_length,'petal length']\n",
    "petal_width_feature =[petal_width,'petal width']\n",
    "\n",
    "features=[sepal_lenth_feature,sepal_width_feature,petal_length_feature,petal_width_feature]\n",
    "\n",
    "colors1 = '#00CED1' #点的颜色\n",
    "colors2 = '#DC143C'\n",
    "clores3 = '#4fd424'\n",
    "\n",
    "area = np.pi * 4**2  # 点面积 \n",
    "# 画散点图,12张图\n",
    "def drawScatter(target,x,y,xlable,ylable):\n",
    "    for i,j in enumerate(x):\n",
    "        if(target[i]==0):\n",
    "            plt.scatter(x[i], y[i], s=area, c=colors1, alpha=0.4, label='setosa')\n",
    "        elif (target[i]==1):\n",
    "            plt.scatter(x[i], y[i], s=area, c=colors2, alpha=0.4, label='versicolor')\n",
    "        else:\n",
    "            plt.scatter(x[i], y[i], s=area, c=clores3, alpha=0.4, label='virginica')\n",
    "        plt.xlabel(xlable) \n",
    "        plt.ylabel(ylable) \n",
    "    plt.show()\n",
    "pass\n",
    "\n",
    "#画直方图，一共4张图\n",
    "def drawHistogram(target,x_feature):\n",
    "    data = x_feature[0]\n",
    "    xlable = x_feature[1]\n",
    "    plt.hist(data, bins=50, normed=0, facecolor=\"blue\", edgecolor=\"black\", alpha=0.7)\n",
    "    plt.xlabel(xlable)\n",
    "    plt.ylabel(\"frequency\")\n",
    "    plt.title(\"{} histogram\".format(xlable))\n",
    "    plt.show()\n",
    "\n",
    "#画雷达图，一张\n",
    "def drawRader1(target,sepal_lenth,sepal_width,petal_length,petal_width):\n",
    "    # 雷达图1 - 极坐标的折线图/填图 - plt.plot()\n",
    "    plt.figure(figsize=(16,8))\n",
    "    ax1= plt.subplot(111, projection='polar')\n",
    "    ax1.set_title('features radar map\\n')  # 创建标题\n",
    "    ax1.set_rlim(0,12)\n",
    "    data1 = sepal_lenth\n",
    "    data2 = sepal_width\n",
    "    data3 = petal_length\n",
    "    data4 = petal_width\n",
    "    theta=np.arange(0, 2*np.pi, 2*np.pi/150)\n",
    "    # 创建数据\n",
    "\n",
    "    ax1.plot(theta,data1,'.--',label='data1')\n",
    "    ax1.fill(theta,data1,alpha=0.2)\n",
    "    ax1.plot(theta,data2,'.--',label='data2')\n",
    "    ax1.fill(theta,data2,alpha=0.2)\n",
    "    ax1.plot(theta,data3,'.--',label='data3')\n",
    "    ax1.fill(theta,data3,alpha=0.2)\n",
    "    ax1.plot(theta,data4,'.--',label='data4')\n",
    "    ax1.fill(theta,data4,alpha=0.2)\n",
    "    \n",
    "def drawRader2(target,sepal_lenth,sepal_width,petal_length,petal_width):\n",
    "    labels = np.array(['sepal lenth','sepal width','petal length','petal width']) # 标签\n",
    "    dataLenth = 150 # 数据长度\n",
    "    data1 = sepal_lenth\n",
    "    data2 = sepal_width\n",
    "    data3 = petal_length\n",
    "    data4 = petal_width\n",
    "\n",
    "    angles = np.linspace(0, 2*np.pi, dataLenth, endpoint=False) # 分割圆周长\n",
    "    data1 = np.concatenate((data1, [data1[0]])) # 闭合\n",
    "    data2 = np.concatenate((data2, [data2[0]])) # 闭合\n",
    "    data3 = np.concatenate((data3, [data3[0]])) # 闭合\n",
    "    data4 = np.concatenate((data4, [data4[0]])) # 闭合\n",
    "    angles = np.concatenate((angles, [angles[0]])) # 闭合\n",
    "    \n",
    "    plt.figure(figsize=(16,8))\n",
    "    plt.polar(angles, data1, 'o-', linewidth=1) #做极坐标系\n",
    "    plt.fill(angles, data1, alpha=0.25)# 填充\n",
    "    plt.polar(angles, data2, 'o-', linewidth=1) #做极坐标系\n",
    "    plt.fill(angles, data2, alpha=0.25)# 填充\n",
    "    plt.polar(angles, data3, 'o-', linewidth=1) #做极坐标系\n",
    "    plt.fill(angles, data3, alpha=0.25)# 填充\n",
    "    plt.polar(angles, data4, 'o-', linewidth=1) #做极坐标系\n",
    "    plt.fill(angles, data4, alpha=0.25)# 填充\n",
    "    \n",
    "    plt.thetagrids(angles * 180/np.pi, labels) # 设置网格、标签\n",
    "    plt.ylim(0,10)  # polar的极值设置为ylim\n",
    "\n",
    "drawRader1(target,sepal_lenth,sepal_width,petal_length,petal_width)   \n",
    "drawRader2(target,sepal_lenth,sepal_width,petal_length,petal_width)\n",
    "    \n",
    "for i,x_feature in enumerate(features):\n",
    "    drawHistogram(target,x_feature)\n",
    "    tem = features.copy()\n",
    "    tem.pop(i)\n",
    "    for j,y_feature in enumerate(tem):\n",
    "        drawScatter(target,x_feature[0],y_feature[0],x_feature[1],y_feature[1])\n",
    "    pass\n",
    "pass\n"
   ]
  },
  {
   "cell_type": "code",
   "execution_count": null,
   "metadata": {},
   "outputs": [],
   "source": []
  }
 ],
 "metadata": {
  "kernelspec": {
   "display_name": "Python 3",
   "language": "python",
   "name": "python3"
  },
  "language_info": {
   "codemirror_mode": {
    "name": "ipython",
    "version": 3
   },
   "file_extension": ".py",
   "mimetype": "text/x-python",
   "name": "python",
   "nbconvert_exporter": "python",
   "pygments_lexer": "ipython3",
   "version": "3.7.4"
  }
 },
 "nbformat": 4,
 "nbformat_minor": 2
}
