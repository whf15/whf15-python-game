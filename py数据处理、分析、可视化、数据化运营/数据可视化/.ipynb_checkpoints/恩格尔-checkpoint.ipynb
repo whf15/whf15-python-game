{
 "cells": [
  {
   "cell_type": "code",
   "execution_count": 1,
   "metadata": {},
   "outputs": [],
   "source": [
    "import pandas as pd\n",
    "from pyecharts.charts import Pie\n",
    "from pyecharts import options as opts"
   ]
  },
  {
   "cell_type": "code",
   "execution_count": 2,
   "metadata": {},
   "outputs": [],
   "source": [
    "\n",
    "provinces = ['北京','上海','黑龙江','吉林','辽宁','内蒙古','新疆','西藏','青海','四川','云南','陕西','重庆',\n",
    "             '贵州','广西','海南','澳门','湖南','江西','福建','安徽','浙江','江苏','宁夏','山西','河北','天津']\n",
    "num = [1,1,1,17,9,22,23,42,35,7,20,21,16,24,16,21,37,12,13,14,13,7,22,8,16,13,13]\n",
    "color_series = ['#FAE927','#E9E416','#C9DA36','#9ECB3C','#6DBC49',\n",
    "                '#37B44E','#3DBA78','#14ADCF','#209AC9','#1E91CA',\n",
    "                '#2C6BA0','#2B55A1','#2D3D8E','#44388E','#6A368B'\n",
    "                '#7D3990','#A63F98','#C31C88','#D52178','#D5225B',\n",
    "                '#D02C2A','#D44C2D','#F57A34','#FA8F2F','#D99D21',\n",
    "                '#CF7B25','#CF7B25','#CF7B25']"
   ]
  },
  {
   "cell_type": "code",
   "execution_count": 3,
   "metadata": {
    "scrolled": true
   },
   "outputs": [],
   "source": [
    "# 创建数据框\n",
    "df = pd.DataFrame({'provinces': provinces, 'num': num})\n",
    "# 降序排序\n",
    "df.sort_values(by='num', ascending=False, inplace=True)\n",
    "\n",
    "# 提取数据\n",
    "v = df['provinces'].values.tolist()\n",
    "d = df['num'].values.tolist()"
   ]
  },
  {
   "cell_type": "code",
   "execution_count": 11,
   "metadata": {},
   "outputs": [
    {
     "data": {
      "text/plain": [
       "'D:\\\\python_using\\\\text01\\\\南丁格尔玫瑰图.html'"
      ]
     },
     "execution_count": 11,
     "metadata": {},
     "output_type": "execute_result"
    }
   ],
   "source": [
    "\n",
    "# 实例化Pie类\n",
    "pie1 = Pie(init_opts=opts.InitOpts(width='1350px', height='750px'))\n",
    "# 设置颜色\n",
    "pie1.set_colors(color_series)\n",
    "# 添加数据，设置饼图的半径，是否展示成南丁格尔图\n",
    "pie1.add(\"\", [list(z) for z in zip(v, d)],\n",
    "        radius=[\"30%\", \"135%\"],\n",
    "        center=[\"50%\", \"65%\"],\n",
    "        rosetype=\"area\"\n",
    "        )\n",
    "# 设置全局配置项\n",
    "pie1.set_global_opts(title_opts=opts.TitleOpts(title='玫瑰图示例'),\n",
    "                     legend_opts=opts.LegendOpts(is_show=False),\n",
    "                     toolbox_opts=opts.ToolboxOpts())\n",
    "# 设置系列配置项\n",
    "pie1.set_series_opts(label_opts=opts.LabelOpts(is_show=True, position=\"inside\", font_size=12,\n",
    "                                               formatter=\"{b}:{c}天\", font_style=\"italic\",\n",
    "                                               font_weight=\"bold\", font_family=\"Microsoft YaHei\"\n",
    "                                               ),\n",
    "                     )\n",
    "# 生成html文档\n",
    "pie1.render('南丁格尔玫瑰图.html')"
   ]
  },
  {
   "cell_type": "code",
   "execution_count": null,
   "metadata": {},
   "outputs": [],
   "source": []
  },
  {
   "cell_type": "code",
   "execution_count": null,
   "metadata": {},
   "outputs": [],
   "source": [
    "\n"
   ]
  },
  {
   "cell_type": "code",
   "execution_count": null,
   "metadata": {},
   "outputs": [],
   "source": []
  }
 ],
 "metadata": {
  "kernelspec": {
   "display_name": "Python 3",
   "language": "python",
   "name": "python3"
  },
  "language_info": {
   "codemirror_mode": {
    "name": "ipython",
    "version": 3
   },
   "file_extension": ".py",
   "mimetype": "text/x-python",
   "name": "python",
   "nbconvert_exporter": "python",
   "pygments_lexer": "ipython3",
   "version": "3.7.4"
  }
 },
 "nbformat": 4,
 "nbformat_minor": 2
}
