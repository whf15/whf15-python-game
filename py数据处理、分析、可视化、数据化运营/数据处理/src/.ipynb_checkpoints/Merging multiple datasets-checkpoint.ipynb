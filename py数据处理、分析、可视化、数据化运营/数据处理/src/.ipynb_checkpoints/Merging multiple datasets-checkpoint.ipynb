{
 "cells": [
  {
   "cell_type": "markdown",
   "metadata": {},
   "source": [
    "merge命令和join命令"
   ]
  },
  {
   "cell_type": "code",
   "execution_count": 1,
   "metadata": {},
   "outputs": [],
   "source": [
    "import pandas as pd"
   ]
  },
  {
   "cell_type": "code",
   "execution_count": 4,
   "metadata": {},
   "outputs": [],
   "source": [
    "person = pd.read_csv(\"../data/survey_person.csv\")\n",
    "site = pd.read_csv(\"../data/survey_site.csv\")\n",
    "survey = pd.read_csv(\"../data/survey_survey.csv\")\n",
    "visited = pd.read_csv(\"../data/survey_visited.csv\")\n",
    "                    "
   ]
  },
  {
   "cell_type": "code",
   "execution_count": 5,
   "metadata": {},
   "outputs": [
    {
     "name": "stdout",
     "output_type": "stream",
     "text": [
      "      ident   personal    family\n",
      "0      dyer    William      Dyer\n",
      "1        pb      Frank   Pabodie\n",
      "2      lake   Anderson      Lake\n",
      "3       roe  Valentina   Roerich\n",
      "4  danforth      Frank  Danforth\n"
     ]
    }
   ],
   "source": [
    "print(person)"
   ]
  },
  {
   "cell_type": "code",
   "execution_count": 6,
   "metadata": {},
   "outputs": [
    {
     "name": "stdout",
     "output_type": "stream",
     "text": [
      "    name    lat    long\n",
      "0   DR-1 -49.85 -128.57\n",
      "1   DR-3 -47.15 -126.72\n",
      "2  MSK-4 -48.87 -123.40\n"
     ]
    }
   ],
   "source": [
    "print(site)"
   ]
  },
  {
   "cell_type": "code",
   "execution_count": 7,
   "metadata": {},
   "outputs": [
    {
     "name": "stdout",
     "output_type": "stream",
     "text": [
      "    taken person quant  reading\n",
      "0     619   dyer   rad     9.82\n",
      "1     619   dyer   sal     0.13\n",
      "2     622   dyer   rad     7.80\n",
      "3     622   dyer   sal     0.09\n",
      "4     734     pb   rad     8.41\n",
      "5     734   lake   sal     0.05\n",
      "6     734     pb  temp   -21.50\n",
      "7     735     pb   rad     7.22\n",
      "8     735    NaN   sal     0.06\n",
      "9     735    NaN  temp   -26.00\n",
      "10    751     pb   rad     4.35\n",
      "11    751     pb  temp   -18.50\n",
      "12    751   lake   sal     0.10\n",
      "13    752   lake   rad     2.19\n",
      "14    752   lake   sal     0.09\n",
      "15    752   lake  temp   -16.00\n",
      "16    752    roe   sal    41.60\n",
      "17    837   lake   rad     1.46\n",
      "18    837   lake   sal     0.21\n",
      "19    837    roe   sal    22.50\n",
      "20    844    roe   rad    11.25\n"
     ]
    }
   ],
   "source": [
    "print(survey)"
   ]
  },
  {
   "cell_type": "code",
   "execution_count": 8,
   "metadata": {},
   "outputs": [
    {
     "name": "stdout",
     "output_type": "stream",
     "text": [
      "   ident   site       dated\n",
      "0    619   DR-1  1927-02-08\n",
      "1    622   DR-1  1927-02-10\n",
      "2    734   DR-3  1939-01-07\n",
      "3    735   DR-3  1930-01-12\n",
      "4    751   DR-3  1930-02-26\n",
      "5    752   DR-3         NaN\n",
      "6    837  MSK-4  1932-01-14\n",
      "7    844   DR-1  1932-03-22\n"
     ]
    }
   ],
   "source": [
    "print(visited)"
   ]
  },
  {
   "cell_type": "markdown",
   "metadata": {},
   "source": [
    "### Q:现在想要查看每个站点的日期以及该站点的经纬度信息，那么必须吧多个DataFrame组合起来"
   ]
  },
  {
   "cell_type": "markdown",
   "metadata": {},
   "source": [
    "#### 一对一合并"
   ]
  },
  {
   "cell_type": "code",
   "execution_count": 14,
   "metadata": {},
   "outputs": [
    {
     "name": "stdout",
     "output_type": "stream",
     "text": [
      "   ident   site       dated\n",
      "0    619   DR-1  1927-02-08\n",
      "2    734   DR-3  1939-01-07\n",
      "6    837  MSK-4  1932-01-14\n",
      "    name    lat    long  ident   site       dated\n",
      "0   DR-1 -49.85 -128.57    619   DR-1  1927-02-08\n",
      "1   DR-3 -47.15 -126.72    734   DR-3  1939-01-07\n",
      "2  MSK-4 -48.87 -123.40    837  MSK-4  1932-01-14\n"
     ]
    }
   ],
   "source": [
    "#先修改visited，使其不含重复的set值\n",
    "visited_subset = visited.loc[[0,2,6]]\n",
    "print(visited_subset)\n",
    "\n",
    "o2o_merge = site.merge(visited_subset,left_on=\"name\",right_on=\"site\")\n",
    "print(o2o_merge)"
   ]
  },
  {
   "cell_type": "markdown",
   "metadata": {},
   "source": [
    "两个独立的dataframe创建出新的dataframe，妻中行是基于一组滕鼎列匹配的，例如sql中的键"
   ]
  },
  {
   "cell_type": "markdown",
   "metadata": {},
   "source": [
    "#### 多对一合并"
   ]
  },
  {
   "cell_type": "code",
   "execution_count": 10,
   "metadata": {},
   "outputs": [
    {
     "name": "stdout",
     "output_type": "stream",
     "text": [
      "    name    lat    long  ident   site       dated\n",
      "0   DR-1 -49.85 -128.57    619   DR-1  1927-02-08\n",
      "1   DR-1 -49.85 -128.57    622   DR-1  1927-02-10\n",
      "2   DR-1 -49.85 -128.57    844   DR-1  1932-03-22\n",
      "3   DR-3 -47.15 -126.72    734   DR-3  1939-01-07\n",
      "4   DR-3 -47.15 -126.72    735   DR-3  1930-01-12\n",
      "5   DR-3 -47.15 -126.72    751   DR-3  1930-02-26\n",
      "6   DR-3 -47.15 -126.72    752   DR-3         NaN\n",
      "7  MSK-4 -48.87 -123.40    837  MSK-4  1932-01-14\n"
     ]
    }
   ],
   "source": [
    "#merge函数\n",
    "o2o_merge = site.merge(visited,left_on=\"name\",right_on=\"site\")\n",
    "print(o2o_merge)"
   ]
  },
  {
   "cell_type": "markdown",
   "metadata": {},
   "source": [
    "site中的信息会重复出现"
   ]
  },
  {
   "cell_type": "markdown",
   "metadata": {},
   "source": [
    "### 多对多合并"
   ]
  },
  {
   "cell_type": "code",
   "execution_count": 16,
   "metadata": {},
   "outputs": [],
   "source": [
    "ps = person.merge(survey,left_on=\"ident\",right_on=\"person\")\n",
    "vs = visited.merge(survey,left_on=\"ident\",right_on=\"taken\")"
   ]
  },
  {
   "cell_type": "code",
   "execution_count": 17,
   "metadata": {},
   "outputs": [
    {
     "name": "stdout",
     "output_type": "stream",
     "text": [
      "   ident   personal   family  taken person quant  reading\n",
      "0   dyer    William     Dyer    619   dyer   rad     9.82\n",
      "1   dyer    William     Dyer    619   dyer   sal     0.13\n",
      "2   dyer    William     Dyer    622   dyer   rad     7.80\n",
      "3   dyer    William     Dyer    622   dyer   sal     0.09\n",
      "4     pb      Frank  Pabodie    734     pb   rad     8.41\n",
      "5     pb      Frank  Pabodie    734     pb  temp   -21.50\n",
      "6     pb      Frank  Pabodie    735     pb   rad     7.22\n",
      "7     pb      Frank  Pabodie    751     pb   rad     4.35\n",
      "8     pb      Frank  Pabodie    751     pb  temp   -18.50\n",
      "9   lake   Anderson     Lake    734   lake   sal     0.05\n",
      "10  lake   Anderson     Lake    751   lake   sal     0.10\n",
      "11  lake   Anderson     Lake    752   lake   rad     2.19\n",
      "12  lake   Anderson     Lake    752   lake   sal     0.09\n",
      "13  lake   Anderson     Lake    752   lake  temp   -16.00\n",
      "14  lake   Anderson     Lake    837   lake   rad     1.46\n",
      "15  lake   Anderson     Lake    837   lake   sal     0.21\n",
      "16   roe  Valentina  Roerich    752    roe   sal    41.60\n",
      "17   roe  Valentina  Roerich    837    roe   sal    22.50\n",
      "18   roe  Valentina  Roerich    844    roe   rad    11.25\n"
     ]
    }
   ],
   "source": [
    "print(ps)"
   ]
  },
  {
   "cell_type": "code",
   "execution_count": 18,
   "metadata": {},
   "outputs": [
    {
     "name": "stdout",
     "output_type": "stream",
     "text": [
      "    ident   site       dated  taken person quant  reading\n",
      "0     619   DR-1  1927-02-08    619   dyer   rad     9.82\n",
      "1     619   DR-1  1927-02-08    619   dyer   sal     0.13\n",
      "2     622   DR-1  1927-02-10    622   dyer   rad     7.80\n",
      "3     622   DR-1  1927-02-10    622   dyer   sal     0.09\n",
      "4     734   DR-3  1939-01-07    734     pb   rad     8.41\n",
      "5     734   DR-3  1939-01-07    734   lake   sal     0.05\n",
      "6     734   DR-3  1939-01-07    734     pb  temp   -21.50\n",
      "7     735   DR-3  1930-01-12    735     pb   rad     7.22\n",
      "8     735   DR-3  1930-01-12    735    NaN   sal     0.06\n",
      "9     735   DR-3  1930-01-12    735    NaN  temp   -26.00\n",
      "10    751   DR-3  1930-02-26    751     pb   rad     4.35\n",
      "11    751   DR-3  1930-02-26    751     pb  temp   -18.50\n",
      "12    751   DR-3  1930-02-26    751   lake   sal     0.10\n",
      "13    752   DR-3         NaN    752   lake   rad     2.19\n",
      "14    752   DR-3         NaN    752   lake   sal     0.09\n",
      "15    752   DR-3         NaN    752   lake  temp   -16.00\n",
      "16    752   DR-3         NaN    752    roe   sal    41.60\n",
      "17    837  MSK-4  1932-01-14    837   lake   rad     1.46\n",
      "18    837  MSK-4  1932-01-14    837   lake   sal     0.21\n",
      "19    837  MSK-4  1932-01-14    837    roe   sal    22.50\n",
      "20    844   DR-1  1932-03-22    844    roe   rad    11.25\n"
     ]
    }
   ],
   "source": [
    "print(vs)"
   ]
  },
  {
   "cell_type": "code",
   "execution_count": 24,
   "metadata": {},
   "outputs": [],
   "source": [
    "ps_vs = ps.merge(vs,left_on=[\"ident\",\"taken\",\"quant\",\"reading\"],right_on=[\"person\",\"ident\",\"quant\",\"reading\"])"
   ]
  },
  {
   "cell_type": "code",
   "execution_count": 31,
   "metadata": {},
   "outputs": [
    {
     "name": "stdout",
     "output_type": "stream",
     "text": [
      "   ident_x   personal   family  taken_x person_x quant  reading  ident_y  \\\n",
      "0     dyer    William     Dyer      619     dyer   rad     9.82      619   \n",
      "1     dyer    William     Dyer      619     dyer   sal     0.13      619   \n",
      "2     dyer    William     Dyer      622     dyer   rad     7.80      622   \n",
      "3     dyer    William     Dyer      622     dyer   sal     0.09      622   \n",
      "4       pb      Frank  Pabodie      734       pb   rad     8.41      734   \n",
      "5       pb      Frank  Pabodie      734       pb  temp   -21.50      734   \n",
      "6       pb      Frank  Pabodie      735       pb   rad     7.22      735   \n",
      "7       pb      Frank  Pabodie      751       pb   rad     4.35      751   \n",
      "8       pb      Frank  Pabodie      751       pb  temp   -18.50      751   \n",
      "9     lake   Anderson     Lake      734     lake   sal     0.05      734   \n",
      "10    lake   Anderson     Lake      751     lake   sal     0.10      751   \n",
      "11    lake   Anderson     Lake      752     lake   rad     2.19      752   \n",
      "12    lake   Anderson     Lake      752     lake   sal     0.09      752   \n",
      "13    lake   Anderson     Lake      752     lake  temp   -16.00      752   \n",
      "14    lake   Anderson     Lake      837     lake   rad     1.46      837   \n",
      "15    lake   Anderson     Lake      837     lake   sal     0.21      837   \n",
      "16     roe  Valentina  Roerich      752      roe   sal    41.60      752   \n",
      "17     roe  Valentina  Roerich      837      roe   sal    22.50      837   \n",
      "18     roe  Valentina  Roerich      844      roe   rad    11.25      844   \n",
      "\n",
      "     site       dated  taken_y person_y  \n",
      "0    DR-1  1927-02-08      619     dyer  \n",
      "1    DR-1  1927-02-08      619     dyer  \n",
      "2    DR-1  1927-02-10      622     dyer  \n",
      "3    DR-1  1927-02-10      622     dyer  \n",
      "4    DR-3  1939-01-07      734       pb  \n",
      "5    DR-3  1939-01-07      734       pb  \n",
      "6    DR-3  1930-01-12      735       pb  \n",
      "7    DR-3  1930-02-26      751       pb  \n",
      "8    DR-3  1930-02-26      751       pb  \n",
      "9    DR-3  1939-01-07      734     lake  \n",
      "10   DR-3  1930-02-26      751     lake  \n",
      "11   DR-3         NaN      752     lake  \n",
      "12   DR-3         NaN      752     lake  \n",
      "13   DR-3         NaN      752     lake  \n",
      "14  MSK-4  1932-01-14      837     lake  \n",
      "15  MSK-4  1932-01-14      837     lake  \n",
      "16   DR-3         NaN      752      roe  \n",
      "17  MSK-4  1932-01-14      837      roe  \n",
      "18   DR-1  1932-03-22      844      roe  \n"
     ]
    }
   ],
   "source": []
  },
  {
   "cell_type": "code",
   "execution_count": 41,
   "metadata": {},
   "outputs": [
    {
     "data": {
      "text/plain": [
       "array([['dyer'],\n",
       "       ['William'],\n",
       "       ['Dyer'],\n",
       "       [619],\n",
       "       ['dyer'],\n",
       "       ['rad'],\n",
       "       [9.82],\n",
       "       [619],\n",
       "       ['DR-1'],\n",
       "       ['1927-02-08'],\n",
       "       [619],\n",
       "       ['dyer']], dtype=object)"
      ]
     },
     "execution_count": 41,
     "metadata": {},
     "output_type": "execute_result"
    }
   ],
   "source": [
    "pvp = pd.DataFrame(ps_vs.loc[0])\n",
    "pvp.values"
   ]
  },
  {
   "cell_type": "code",
   "execution_count": 47,
   "metadata": {},
   "outputs": [
    {
     "name": "stdout",
     "output_type": "stream",
     "text": [
      "['ident_x', 'personal', 'family', 'taken_x', 'person_x', 'quant', 'reading', 'ident_y', 'site', 'dated', 'taken_y', 'person_y']\n",
      "[\"['dyer']\", \"['William']\", \"['Dyer']\", '[619]', \"['dyer']\", \"['rad']\", '[9.82]', '[619]', \"['DR-1']\", \"['1927-02-08']\", '[619]', \"['dyer']\"]\n"
     ]
    }
   ],
   "source": [
    "new_data_columns=[]\n",
    "for i in pvp.index:\n",
    "    new_data_columns.append(str(i))\n",
    "print(new_data_columns)\n",
    "\n",
    "new_data=[]\n",
    "for i in pvp.values:\n",
    "    new_data.append(str(i))\n",
    "print(new_data)"
   ]
  },
  {
   "cell_type": "code",
   "execution_count": 50,
   "metadata": {},
   "outputs": [
    {
     "data": {
      "text/html": [
       "<div>\n",
       "<style scoped>\n",
       "    .dataframe tbody tr th:only-of-type {\n",
       "        vertical-align: middle;\n",
       "    }\n",
       "\n",
       "    .dataframe tbody tr th {\n",
       "        vertical-align: top;\n",
       "    }\n",
       "\n",
       "    .dataframe thead th {\n",
       "        text-align: right;\n",
       "    }\n",
       "</style>\n",
       "<table border=\"1\" class=\"dataframe\">\n",
       "  <thead>\n",
       "    <tr style=\"text-align: right;\">\n",
       "      <th></th>\n",
       "      <th>ident_x</th>\n",
       "      <th>personal</th>\n",
       "      <th>family</th>\n",
       "      <th>taken_x</th>\n",
       "      <th>person_x</th>\n",
       "      <th>quant</th>\n",
       "      <th>reading</th>\n",
       "      <th>ident_y</th>\n",
       "      <th>site</th>\n",
       "      <th>dated</th>\n",
       "      <th>taken_y</th>\n",
       "      <th>person_y</th>\n",
       "    </tr>\n",
       "  </thead>\n",
       "  <tbody>\n",
       "    <tr>\n",
       "      <td>0</td>\n",
       "      <td>['dyer']</td>\n",
       "      <td>['William']</td>\n",
       "      <td>['Dyer']</td>\n",
       "      <td>[619]</td>\n",
       "      <td>['dyer']</td>\n",
       "      <td>['rad']</td>\n",
       "      <td>[9.82]</td>\n",
       "      <td>[619]</td>\n",
       "      <td>['DR-1']</td>\n",
       "      <td>['1927-02-08']</td>\n",
       "      <td>[619]</td>\n",
       "      <td>['dyer']</td>\n",
       "    </tr>\n",
       "  </tbody>\n",
       "</table>\n",
       "</div>"
      ],
      "text/plain": [
       "    ident_x     personal    family taken_x  person_x    quant reading ident_y  \\\n",
       "0  ['dyer']  ['William']  ['Dyer']   [619]  ['dyer']  ['rad']  [9.82]   [619]   \n",
       "\n",
       "       site           dated taken_y  person_y  \n",
       "0  ['DR-1']  ['1927-02-08']   [619]  ['dyer']  "
      ]
     },
     "execution_count": 50,
     "metadata": {},
     "output_type": "execute_result"
    }
   ],
   "source": [
    "pvp1 = pd.DataFrame(columns=new_data_columns)\n",
    "pvp1.loc[0]=new_data\n",
    "pvp1"
   ]
  },
  {
   "cell_type": "code",
   "execution_count": null,
   "metadata": {},
   "outputs": [],
   "source": []
  }
 ],
 "metadata": {
  "kernelspec": {
   "display_name": "Python 3",
   "language": "python",
   "name": "python3"
  },
  "language_info": {
   "codemirror_mode": {
    "name": "ipython",
    "version": 3
   },
   "file_extension": ".py",
   "mimetype": "text/x-python",
   "name": "python",
   "nbconvert_exporter": "python",
   "pygments_lexer": "ipython3",
   "version": "3.7.4"
  }
 },
 "nbformat": 4,
 "nbformat_minor": 2
}
