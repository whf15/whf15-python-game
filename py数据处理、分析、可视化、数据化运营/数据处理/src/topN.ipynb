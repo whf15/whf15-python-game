{
 "cells": [
  {
   "cell_type": "code",
   "execution_count": 3,
   "metadata": {},
   "outputs": [
    {
     "name": "stdout",
     "output_type": "stream",
     "text": [
      "Collecting findspark\n",
      "  Downloading https://files.pythonhosted.org/packages/fc/2d/2e39f9a023479ea798eed4351cd66f163ce61e00c717e03c37109f00c0f2/findspark-1.4.2-py2.py3-none-any.whl\n",
      "Installing collected packages: findspark\n",
      "Successfully installed findspark-1.4.2\n"
     ]
    }
   ],
   "source": [
    "#!pip install findspark\n"
   ]
  },
  {
   "cell_type": "code",
   "execution_count": 1,
   "metadata": {},
   "outputs": [],
   "source": [
    "import findspark\n"
   ]
  },
  {
   "cell_type": "code",
   "execution_count": null,
   "metadata": {},
   "outputs": [],
   "source": [
    "#!pip install pyspark\n"
   ]
  },
  {
   "cell_type": "code",
   "execution_count": 22,
   "metadata": {
    "scrolled": true
   },
   "outputs": [],
   "source": [
    "import pyspark\n",
    "from pyspark import SparkContext,SparkConf\n",
    "import pandas as pd\n",
    "import numpy as np\n",
    "try:\n",
    "    sc.stop()\n",
    "except:\n",
    "    pass\n",
    "appname = \"topN\"  # 任务名称\n",
    "master = \"local\"  # 单机模式设置\n",
    "conf = SparkConf().setAppName(appname).setMaster(master)\n",
    "sc = SparkContext(appName=\"topN\")\n",
    "text = sc.textFile(\"input/rank.txt\")\n",
    "text2 = text.collect()\n",
    "text2\n",
    "def slices(x):\n",
    "    return x.split(\",\")\n",
    "text2 = [slices(x) for x in text2]\n",
    "df = pd.DataFrame(text2,columns=['序号','姓名','武力值','国家'])\n",
    "df.index = np.arange(1,len(df)+1)\n",
    "df = df.sort_values('武力值',ascending=False)\n",
    "df.head(5)"
   ]
  },
  {
   "cell_type": "code",
   "execution_count": 23,
   "metadata": {
    "scrolled": false
   },
   "outputs": [
    {
     "data": {
      "text/plain": [
       "['序号,姓名,武力值,国家',\n",
       " '1,刘备,68,蜀国',\n",
       " '2,马超,90,蜀国',\n",
       " '3,黄忠,91,蜀国',\n",
       " '4,魏延,76,蜀国',\n",
       " '5,姜维,92,蜀国',\n",
       " '6,关羽,96,蜀国',\n",
       " '7,严颜,78,蜀国',\n",
       " '8,孟达,64,蜀国',\n",
       " '9,张飞,88,蜀国',\n",
       " '10,马谡,76,蜀国',\n",
       " '11,赵云,95,蜀国',\n",
       " '12,法正,88,蜀国']"
      ]
     },
     "execution_count": 23,
     "metadata": {},
     "output_type": "execute_result"
    }
   ],
   "source": [
    "try:\n",
    "    sc.stop()\n",
    "except:\n",
    "    pass\n",
    "appname = \"topN\"  # 任务名称\n",
    "master = \"local\"  # 单机模式设置\n",
    "conf = SparkConf().setAppName(appname).setMaster(master)\n",
    "sc = SparkContext(appName=\"topN\")\n",
    "text = sc.textFile(\"input/rank.txt\")\n",
    "text2 = text.collect()\n",
    "text2\n"
   ]
  },
  {
   "cell_type": "code",
   "execution_count": 24,
   "metadata": {},
   "outputs": [
    {
     "data": {
      "text/html": [
       "<div>\n",
       "<style scoped>\n",
       "    .dataframe tbody tr th:only-of-type {\n",
       "        vertical-align: middle;\n",
       "    }\n",
       "\n",
       "    .dataframe tbody tr th {\n",
       "        vertical-align: top;\n",
       "    }\n",
       "\n",
       "    .dataframe thead th {\n",
       "        text-align: right;\n",
       "    }\n",
       "</style>\n",
       "<table border=\"1\" class=\"dataframe\">\n",
       "  <thead>\n",
       "    <tr style=\"text-align: right;\">\n",
       "      <th></th>\n",
       "      <th>序号</th>\n",
       "      <th>姓名</th>\n",
       "      <th>武力值</th>\n",
       "      <th>国家</th>\n",
       "    </tr>\n",
       "  </thead>\n",
       "  <tbody>\n",
       "    <tr>\n",
       "      <td>1</td>\n",
       "      <td>序号</td>\n",
       "      <td>姓名</td>\n",
       "      <td>武力值</td>\n",
       "      <td>国家</td>\n",
       "    </tr>\n",
       "    <tr>\n",
       "      <td>7</td>\n",
       "      <td>6</td>\n",
       "      <td>关羽</td>\n",
       "      <td>96</td>\n",
       "      <td>蜀国</td>\n",
       "    </tr>\n",
       "    <tr>\n",
       "      <td>12</td>\n",
       "      <td>11</td>\n",
       "      <td>赵云</td>\n",
       "      <td>95</td>\n",
       "      <td>蜀国</td>\n",
       "    </tr>\n",
       "    <tr>\n",
       "      <td>6</td>\n",
       "      <td>5</td>\n",
       "      <td>姜维</td>\n",
       "      <td>92</td>\n",
       "      <td>蜀国</td>\n",
       "    </tr>\n",
       "    <tr>\n",
       "      <td>4</td>\n",
       "      <td>3</td>\n",
       "      <td>黄忠</td>\n",
       "      <td>91</td>\n",
       "      <td>蜀国</td>\n",
       "    </tr>\n",
       "  </tbody>\n",
       "</table>\n",
       "</div>"
      ],
      "text/plain": [
       "    序号  姓名  武力值  国家\n",
       "1   序号  姓名  武力值  国家\n",
       "7    6  关羽   96  蜀国\n",
       "12  11  赵云   95  蜀国\n",
       "6    5  姜维   92  蜀国\n",
       "4    3  黄忠   91  蜀国"
      ]
     },
     "execution_count": 24,
     "metadata": {},
     "output_type": "execute_result"
    }
   ],
   "source": [
    "def slices(x):\n",
    "    return x.split(\",\")\n",
    "text2 = [slices(x) for x in text2]\n",
    "df = pd.DataFrame(text2,columns=['序号','姓名','武力值','国家'])\n",
    "df.index = np.arange(1,len(df)+1)\n",
    "df = df.sort_values('武力值',ascending=False)\n",
    "df.head(5)"
   ]
  },
  {
   "cell_type": "code",
   "execution_count": 25,
   "metadata": {},
   "outputs": [],
   "source": [
    "from pyspark.sql import SparkSession\n",
    "spark1 = SparkSession.builder.appName(\"topN\").getOrCreate()\n",
    "spark2 = SparkSession.builder.config(conf=conf).getOrCreate()\n",
    "result = df.head(5)\n",
    "sparkdf = spark1.createDataFrame(result)\n",
    "sparkdf1 = spark2.createDataFrame(result)\n",
    "#sparkdf.write.format(\"json\").save(\"output\")"
   ]
  },
  {
   "cell_type": "code",
   "execution_count": 36,
   "metadata": {},
   "outputs": [
    {
     "data": {
      "text/plain": [
       "DataFrame[序号: string, 姓名: string, 武力值: string, 国家: string]"
      ]
     },
     "execution_count": 36,
     "metadata": {},
     "output_type": "execute_result"
    }
   ],
   "source": [
    "sparkdf"
   ]
  },
  {
   "cell_type": "code",
   "execution_count": null,
   "metadata": {},
   "outputs": [],
   "source": [
    "#sparkdf1.write.format(\"json\").save(\"file:///D:\\python_using\\py_homework\\output1\")"
   ]
  },
  {
   "cell_type": "code",
   "execution_count": null,
   "metadata": {},
   "outputs": [],
   "source": []
  }
 ],
 "metadata": {
  "kernelspec": {
   "display_name": "Python 3",
   "language": "python",
   "name": "python3"
  },
  "language_info": {
   "codemirror_mode": {
    "name": "ipython",
    "version": 3
   },
   "file_extension": ".py",
   "mimetype": "text/x-python",
   "name": "python",
   "nbconvert_exporter": "python",
   "pygments_lexer": "ipython3",
   "version": "3.7.4"
  }
 },
 "nbformat": 4,
 "nbformat_minor": 2
}
