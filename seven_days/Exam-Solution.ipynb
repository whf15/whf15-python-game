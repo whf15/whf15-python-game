{
 "cells": [
  {
   "cell_type": "markdown",
   "metadata": {},
   "source": [
    "## <Center><font color=red><b>考试题参考答案</b></font></Center>"
   ]
  },
  {
   "cell_type": "markdown",
   "metadata": {},
   "source": [
    "____"
   ]
  },
  {
   "cell_type": "markdown",
   "metadata": {},
   "source": [
    "### 简答题(4分/题 共80分)"
   ]
  },
  {
   "cell_type": "markdown",
   "metadata": {},
   "source": [
    "### 1.简述线性分类器的原理."
   ]
  },
  {
   "cell_type": "markdown",
   "metadata": {},
   "source": [
    "线性分类器就是将每个被分类样本与权重矩阵进行对比,找到相似度最大的权重行,给出相应的标签.  \n",
    "其他解答可以查看七月题库：https://www.julyedu.com/question/big/kp_id/32/ques_id/2613"
   ]
  },
  {
   "cell_type": "markdown",
   "metadata": {},
   "source": [
    "### 2.物体检测问题概述"
   ]
  },
  {
   "cell_type": "markdown",
   "metadata": {},
   "source": [
    "* 用框去标出物体部分，并且给出该物体的类别或属于某类别的概率"
   ]
  },
  {
   "cell_type": "markdown",
   "metadata": {},
   "source": [
    "### 3.计算机视觉中，有哪几种基本任务？"
   ]
  },
  {
   "cell_type": "markdown",
   "metadata": {},
   "source": [
    "* 图像分类\n",
    "* 图像定位\n",
    "* 物体检测\n",
    "* 物体分割"
   ]
  },
  {
   "cell_type": "markdown",
   "metadata": {},
   "source": [
    "### 4.常见物体检测算法列举"
   ]
  },
  {
   "cell_type": "markdown",
   "metadata": {},
   "source": [
    "* Deformable Parts Model\n",
    "* RCNN\n",
    "* Fast-RCNN\n",
    "* Faster-RCNN\n",
    "* RFCN\n",
    "* Mask-RCNN"
   ]
  },
  {
   "cell_type": "markdown",
   "metadata": {},
   "source": [
    "### 5.针对如下图片,我们需要调节哪些参数?为什么?"
   ]
  },
  {
   "cell_type": "markdown",
   "metadata": {},
   "source": [
    "<center class=\"half\">       \n",
    "    <img src=\"https://s3.ax1x.com/2021/01/21/shHjdx.jpg\" width=\"40%\">\n",
    "</center>"
   ]
  },
  {
   "cell_type": "markdown",
   "metadata": {},
   "source": [
    "* 上面的曲线:调节学习率,先大后小.因为图像中曲线前期太平缓,所以要调大,后期跳动太大,需要调小!\n",
    "* 下面的曲线:欠拟合,更换表征能力的模型,增加数据量."
   ]
  },
  {
   "cell_type": "markdown",
   "metadata": {},
   "source": [
    "### 6.写出神经网络中常见的激励函数(至少三个)."
   ]
  },
  {
   "cell_type": "markdown",
   "metadata": {},
   "source": [
    "* Sigmoid\n",
    "* Tanh\n",
    "* ReLU\n",
    "* Leaky RelU"
   ]
  },
  {
   "cell_type": "markdown",
   "metadata": {},
   "source": [
    "### 7.请问图示中卷积模板功能?"
   ]
  },
  {
   "cell_type": "markdown",
   "metadata": {},
   "source": [
    "<center class=\"half\">       \n",
    "    <img src=\"https://s3.ax1x.com/2021/01/21/shbNfU.jpg\" width=\"40%\">\n",
    "</center>"
   ]
  },
  {
   "cell_type": "markdown",
   "metadata": {},
   "source": [
    "边缘检测"
   ]
  },
  {
   "cell_type": "markdown",
   "metadata": {},
   "source": [
    "### 8、计算题(提示:参数共享，不考虑bias)"
   ]
  },
  {
   "cell_type": "markdown",
   "metadata": {
    "ExecuteTime": {
     "end_time": "2019-10-08T06:36:15.614551Z",
     "start_time": "2019-10-08T06:36:15.609786Z"
    }
   },
   "source": [
    "* Example1: 200\\*200 image(灰度图), 40K hidden units  有多少个参数?\n",
    "* Example2: 200\\*200 image(灰度图), 40K hidden units, Filter size: 10\\*10 有多少个参数?\n",
    "* Example3: 200\\*200 image(灰度图), 100 Filter, Filter size:10\\*10  有多少参数?\n",
    "* Example4: 图像尺寸为[32\\*32\\*3], 卷积窗口大小为5\\*5, 卷积模板个数为1, 有多少参数?\n",
    "* Example5: 图像尺寸为[16\\*16\\*20], 卷积窗口大小为3\\*3, 卷积模板个数为10, 有多少参数?"
   ]
  },
  {
   "cell_type": "markdown",
   "metadata": {},
   "source": [
    "* Example1: 40000 \\* 40000 = 16 0000 0000个\n",
    "* Example2: 40000 \\* 10 \\* 10 = 4 00 0000个\n",
    "* Example3: 100 \\* 10 \\* 10 = 1 00 00个\n",
    "* Example4: 5 \\* 5 \\* 3 = 75个\n",
    "* Example5: 3 \\* 3 \\* 20 \\* 10 = 1800个"
   ]
  },
  {
   "cell_type": "markdown",
   "metadata": {},
   "source": [
    "### 9.计算下图池化层(MaxPoolling)结果"
   ]
  },
  {
   "cell_type": "markdown",
   "metadata": {},
   "source": [
    "<center class=\"half\">       \n",
    "    <img src=\"https://s3.ax1x.com/2021/01/21/shq9A0.jpg\" width=\"80%\">\n",
    "</center>"
   ]
  },
  {
   "cell_type": "markdown",
   "metadata": {},
   "source": [
    "6 8    \n",
    "3 4"
   ]
  },
  {
   "cell_type": "markdown",
   "metadata": {},
   "source": [
    "### 10.什么是感受野?"
   ]
  },
  {
   "cell_type": "markdown",
   "metadata": {},
   "source": [
    "某一层特征图中的一个cell,对应到原始输入图片相应的大小区域.   \n",
    "更多解析内容请查看七月题库：https://www.julyedu.com/question/big/kp_id/32/ques_id/2625"
   ]
  },
  {
   "cell_type": "markdown",
   "metadata": {},
   "source": [
    "### 11.简述Encode和Decode思想"
   ]
  },
  {
   "cell_type": "markdown",
   "metadata": {},
   "source": [
    "* 将一个input信息编码到一个压缩空间中  \n",
    "* 将一个压缩空间向量解码到一个原始空间中\n",
    "\n",
    "更多解析请查看七月题库：https://www.julyedu.com/question/big/kp_id/32/ques_id/2633"
   ]
  },
  {
   "cell_type": "markdown",
   "metadata": {},
   "source": [
    "### 12.什么是NMS（Non-maximum suppression 非极大值抑制）?"
   ]
  },
  {
   "cell_type": "markdown",
   "metadata": {},
   "source": [
    "* NMS是一种Post-Procession（后处理）方式，跟算法无关的方式。\n",
    "* NMS应用在所有物体检测的方法里。\n",
    "* NMS物体检测的指标里，不允许出现多个重复的检测。\n",
    "* NMS把所有检测结果按照分值(conf. score)从高到底排序,保留最高分数的 box,删除其余值。"
   ]
  },
  {
   "cell_type": "markdown",
   "metadata": {},
   "source": [
    "### 13.什么是Hard Mining？"
   ]
  },
  {
   "cell_type": "markdown",
   "metadata": {},
   "source": [
    "> 在容易混淆的类别中加入相似负样本，再次训练分类器，使得分类器在之前效果不好的地方，都能有一个好的分类效果。"
   ]
  },
  {
   "cell_type": "markdown",
   "metadata": {},
   "source": [
    "### 14.在一个CNN网络中，计算整个数据集是不现实的，通常使用什么方法估计呢？"
   ]
  },
  {
   "cell_type": "markdown",
   "metadata": {},
   "source": [
    "* mini-batch\n",
    "> 在mini batch下的梯度下降中做的事情其实跟full batch一样，只不过我们训练的数据不再是所有的样本，而是一个个的子集。"
   ]
  },
  {
   "cell_type": "markdown",
   "metadata": {},
   "source": [
    "### 15.以下哪个参数是learning rate(学习速率)?Weight decay(权值衰减量)?momentum(动量)?  \n",
    "$$ L(w) = \\frac{1}{N}\\sum_{i=0}^{N}f_w(X^{(i)})+\\lambda r(W)$$  \n",
    "$$ V_{i+1} = \\mu V_{t} - \\alpha \\nabla L(W_{i} )$$  \n",
    "$$ W_{i+1} = W_{i} + V_{i+1} $$  \n"
   ]
  },
  {
   "cell_type": "markdown",
   "metadata": {},
   "source": [
    "* $\\alpha$ : learning rate\n",
    "* $\\mu$ : momentum\n",
    "* $\\lambda$ : weight decay"
   ]
  },
  {
   "cell_type": "markdown",
   "metadata": {},
   "source": [
    "### 16.课上讲的深度学习三要素是哪三个(加入自己理解回答)?"
   ]
  },
  {
   "cell_type": "markdown",
   "metadata": {},
   "source": [
    "* 首先关注**模型**:用了什么结构?\n",
    "* 在什么**数据集**上做的?实验效果如何?\n",
    "* **算法**\n",
    "    * 训练过程: loss, sampling, 梯度\n",
    "    * 测试过程: multi-scale, NMS"
   ]
  },
  {
   "cell_type": "markdown",
   "metadata": {
    "ExecuteTime": {
     "end_time": "2018-10-26T03:17:19.177524Z",
     "start_time": "2018-10-26T03:17:19.175041Z"
    }
   },
   "source": [
    "### 17.传统方法selective search是如何生成目标框的?"
   ]
  },
  {
   "cell_type": "markdown",
   "metadata": {},
   "source": [
    "> selective search 是一中自下而上(bottom-up segmentation)方法:  \n",
    "它是基于SLIC算法,先将图像分割成很多小的区域(superpixe超像素),然后根据小区域之间的相似程度来融合.最后结合各个尺度上的结果,产生很多region proposals(区域建议)."
   ]
  },
  {
   "cell_type": "markdown",
   "metadata": {},
   "source": [
    "### 18.Faster-RCNN中2k scores的2和4k coordinates的4分别是什么意思?"
   ]
  },
  {
   "cell_type": "markdown",
   "metadata": {},
   "source": [
    "* 2k scores中的2表示feature map上的特征点对应某个模板(anchor)来说,是作为前景和背景的两个概率值.\n",
    "* 4k coordinates中的4表示feature map上的特征点对应某个模板(anchor)来说,其框的左上角(x,y)值与右下角(x,y)值的个数和"
   ]
  },
  {
   "cell_type": "markdown",
   "metadata": {},
   "source": [
    "\n",
    "### 19.简述RCNN(Region CNN)流程及Fast-RCNN与RCNN相比有什么区别?\n"
   ]
  },
  {
   "cell_type": "markdown",
   "metadata": {},
   "source": [
    "流程:\n",
    "* Step1: 通过传统方式对物体进行识别和框选(NMS)\n",
    "* Step2: 将已框选的物体进行提取拉伸\n",
    "* Step3: 对已提取的物体图进行卷积操作,生成特征向量(这是RCNN的瓶颈:对每个框都要过一遍ConvNet,计算量级太大)\n",
    "* Step4: 对特征向量进行线性分类和识别\n"
   ]
  },
  {
   "cell_type": "markdown",
   "metadata": {},
   "source": [
    "区别：\n",
    "* 先把图进行一次CNN,对每个特征框仅在原图的特征图上进行提取\n",
    "* 加入池化(Rol polling),固定输出大小"
   ]
  },
  {
   "cell_type": "markdown",
   "metadata": {},
   "source": [
    "### 20.写出目标检测的评价指标中Precision和Recall公式"
   ]
  },
  {
   "cell_type": "markdown",
   "metadata": {},
   "source": [
    "* $$Precision = \\cfrac{TP}{TP + FP}$$\n",
    "* $$Recall = \\cfrac{TP}{TP  + FN}$$"
   ]
  },
  {
   "cell_type": "markdown",
   "metadata": {},
   "source": [
    "## 二、实验题(共1题，共计20分)"
   ]
  },
  {
   "cell_type": "markdown",
   "metadata": {},
   "source": [
    "### 1. 请使用keras框架，构建CNN网络完成对MNIST数据集的训练，评估及预测\n"
   ]
  },
  {
   "cell_type": "code",
   "execution_count": 2,
   "metadata": {},
   "outputs": [
    {
     "name": "stderr",
     "output_type": "stream",
     "text": [
      "Using TensorFlow backend.\n"
     ]
    }
   ],
   "source": [
    "import warnings\n",
    "warnings.filterwarnings(\"ignore\")\n",
    "import keras\n",
    "from keras.datasets import mnist\n",
    "# 使用Sequential模型\n",
    "from keras.models import Sequential\n",
    "# 导入Dense，Dropout，Flatten，Conv2D，MaxPooling2D层\n",
    "from keras.layers import Dense, Dropout, Flatten\n",
    "from keras.layers import Conv2D, MaxPooling2D\n",
    "# 调用后端接口\n",
    "from keras import backend as K"
   ]
  },
  {
   "cell_type": "code",
   "execution_count": 3,
   "metadata": {},
   "outputs": [
    {
     "name": "stdout",
     "output_type": "stream",
     "text": [
      "(28, 28, 1)\n",
      "x_train shape: (60000, 28, 28, 1)\n",
      "(60000, 28, 28, 1) train samples\n",
      "10000 test samples\n",
      "train (60000, 10)\n"
     ]
    }
   ],
   "source": [
    "# batch大小，每处理128个样本进行一次梯度更新\n",
    "batch_size = 128\n",
    "# 类别数\n",
    "num_classes = 10\n",
    "# 迭代次数\n",
    "epochs = 12\n",
    "\n",
    "# input image dimensions\n",
    "# 28x28 图像\n",
    "img_rows, img_cols = 28, 28\n",
    "\n",
    "# the data, shuffled and split between train and test sets\n",
    "(x_train, y_train), (x_test, y_test) = mnist.load_data()\n",
    "# -x_train.shape:(6000, 28, 28)\n",
    "# -x_test.shape:(1000, 28, 28)\n",
    "\n",
    "# tf或th为后端，采取不同参数顺序\n",
    "if K.image_data_format() == 'channels_first':\n",
    "    # -x_train.shape[0]=6000\n",
    "    x_train = x_train.reshape(x_train.shape[0], 1, img_rows, img_cols)\n",
    "    # -x_train.shape:(60000, 1, 28, 28)\n",
    "    x_test = x_test.reshape(x_test.shape[0], 1, img_rows, img_cols)\n",
    "    # x_test.shape:(10000, 1, 28, 28)\n",
    "    # 单通道灰度图像,channel=1\n",
    "    input_shape = (1, img_rows, img_cols)\n",
    "else:\n",
    "    x_train = x_train.reshape(x_train.shape[0], img_rows, img_cols, 1)\n",
    "    x_test = x_test.reshape(x_test.shape[0], img_rows, img_cols, 1)\n",
    "    input_shape = (img_rows, img_cols, 1)\n",
    "print(input_shape)\n",
    "# 数据转为float32型\n",
    "x_train = x_train.astype('float32')\n",
    "x_test = x_test.astype('float32')\n",
    "# 归一化\n",
    "x_train /= 255\n",
    "x_test /= 255\n",
    "print('x_train shape:', x_train.shape)\n",
    "print(x_train.shape, 'train samples')\n",
    "print(x_test.shape[0], 'test samples')\n",
    "\n",
    "# convert class vectors to binary class matrices\n",
    "# 标签转换为独热码\n",
    "y_train = keras.utils.to_categorical(y_train, num_classes)\n",
    "y_test = keras.utils.to_categorical(y_test, num_classes)\n",
    "print(\"train\",y_train.shape)\n"
   ]
  },
  {
   "cell_type": "code",
   "execution_count": 5,
   "metadata": {},
   "outputs": [],
   "source": [
    "# 构建模型\n",
    "model = Sequential()\n",
    "# 第一层为二维卷积层\n",
    "# 32 为filters卷积核的数目，也为输出的维度\n",
    "# kernel_size 卷积核的大小，3x3\n",
    "# 激活函数选为relu \n",
    "# 第一层必须包含输入数据规模input_shape这一参数，后续层不必包含\n",
    "model.add(Conv2D(32, kernel_size=(3, 3),\n",
    "                 activation='relu',\n",
    "                 input_shape=input_shape))\n",
    "# 再加一层卷积，64个卷积核\n",
    "model.add(Conv2D(64, (3, 3), activation='relu'))\n",
    "# 加最大值池化\n",
    "model.add(MaxPooling2D(pool_size=(2, 2)))\n",
    "# 加Dropout，断开神经元比例为25%\n",
    "model.add(Dropout(0.25))\n",
    "# 加Flatten，数据一维化\n",
    "model.add(Flatten())\n",
    "# 加Dense，输出128维\n",
    "model.add(Dense(128, activation='relu'))\n",
    "# 再一次Dropout\n",
    "model.add(Dropout(0.5))\n",
    "# 最后一层为Softmax，输出为10个分类的概率\n",
    "model.add(Dense(num_classes, activation='softmax'))\n"
   ]
  },
  {
   "cell_type": "code",
   "execution_count": 6,
   "metadata": {},
   "outputs": [
    {
     "name": "stdout",
     "output_type": "stream",
     "text": [
      "_________________________________________________________________\n",
      "Layer (type)                 Output Shape              Param #   \n",
      "=================================================================\n",
      "conv2d_3 (Conv2D)            (None, 26, 26, 32)        320       \n",
      "_________________________________________________________________\n",
      "conv2d_4 (Conv2D)            (None, 24, 24, 64)        18496     \n",
      "_________________________________________________________________\n",
      "max_pooling2d_2 (MaxPooling2 (None, 12, 12, 64)        0         \n",
      "_________________________________________________________________\n",
      "dropout_3 (Dropout)          (None, 12, 12, 64)        0         \n",
      "_________________________________________________________________\n",
      "flatten_2 (Flatten)          (None, 9216)              0         \n",
      "_________________________________________________________________\n",
      "dense_3 (Dense)              (None, 128)               1179776   \n",
      "_________________________________________________________________\n",
      "dropout_4 (Dropout)          (None, 128)               0         \n",
      "_________________________________________________________________\n",
      "dense_4 (Dense)              (None, 10)                1290      \n",
      "=================================================================\n",
      "Total params: 1,199,882.0\n",
      "Trainable params: 1,199,882.0\n",
      "Non-trainable params: 0.0\n",
      "_________________________________________________________________\n"
     ]
    }
   ],
   "source": [
    "model.summary()"
   ]
  },
  {
   "cell_type": "code",
   "execution_count": 8,
   "metadata": {},
   "outputs": [
    {
     "name": "stdout",
     "output_type": "stream",
     "text": [
      "Train on 60000 samples, validate on 10000 samples\n",
      "Epoch 1/12\n",
      "60000/60000 [==============================] - 5s - loss: 0.0350 - acc: 0.9893 - val_loss: 0.0289 - val_acc: 0.9898\n",
      "Epoch 2/12\n",
      "60000/60000 [==============================] - 5s - loss: 0.0327 - acc: 0.9901 - val_loss: 0.0296 - val_acc: 0.9905\n",
      "Epoch 3/12\n",
      "60000/60000 [==============================] - 5s - loss: 0.0317 - acc: 0.9905 - val_loss: 0.0273 - val_acc: 0.9912\n",
      "Epoch 4/12\n",
      "60000/60000 [==============================] - 5s - loss: 0.0309 - acc: 0.9909 - val_loss: 0.0275 - val_acc: 0.9914\n",
      "Epoch 5/12\n",
      "60000/60000 [==============================] - 5s - loss: 0.0293 - acc: 0.9915 - val_loss: 0.0276 - val_acc: 0.9903\n",
      "Epoch 6/12\n",
      "60000/60000 [==============================] - 5s - loss: 0.0287 - acc: 0.9915 - val_loss: 0.0267 - val_acc: 0.9916\n",
      "Epoch 7/12\n",
      "60000/60000 [==============================] - 5s - loss: 0.0285 - acc: 0.9912 - val_loss: 0.0254 - val_acc: 0.9919\n",
      "Epoch 8/12\n",
      "60000/60000 [==============================] - 5s - loss: 0.0267 - acc: 0.9921 - val_loss: 0.0286 - val_acc: 0.9907\n",
      "Epoch 9/12\n",
      "60000/60000 [==============================] - 5s - loss: 0.0279 - acc: 0.9913 - val_loss: 0.0256 - val_acc: 0.9912\n",
      "Epoch 10/12\n",
      "60000/60000 [==============================] - 5s - loss: 0.0257 - acc: 0.9922 - val_loss: 0.0274 - val_acc: 0.9914\n",
      "Epoch 11/12\n",
      "60000/60000 [==============================] - 5s - loss: 0.0255 - acc: 0.9923 - val_loss: 0.0282 - val_acc: 0.9912\n",
      "Epoch 12/12\n",
      "60000/60000 [==============================] - 5s - loss: 0.0264 - acc: 0.9917 - val_loss: 0.0260 - val_acc: 0.9919\n",
      "Test loss: 0.025965654486423774\n",
      "Test accuracy: 0.9919\n"
     ]
    }
   ],
   "source": [
    "model.compile(loss=keras.losses.categorical_crossentropy,\n",
    "              optimizer=keras.optimizers.Adadelta(),\n",
    "              metrics=['accuracy'])\n",
    "\n",
    "# 训练模型，载入数据，verbose=1为输出进度条记录\n",
    "# validation_data为验证集\n",
    "model.fit(x_train, y_train,\n",
    "          batch_size=batch_size,\n",
    "          epochs=epochs,\n",
    "          verbose=1,\n",
    "          \n",
    "          validation_data=(x_test, y_test))\n",
    "\n",
    "# 开始评估模型效果\n",
    "# verbose=0为不输出日志信息\n",
    "score = model.evaluate(x_test, y_test, verbose=0)\n",
    "print('Test loss:', score[0])\n",
    "print('Test accuracy:', score[1])\n"
   ]
  },
  {
   "cell_type": "code",
   "execution_count": 10,
   "metadata": {},
   "outputs": [
    {
     "data": {
      "text/plain": [
       "array([7, 2, 1, 0, 4, 1, 4, 9, 5, 9])"
      ]
     },
     "execution_count": 10,
     "metadata": {},
     "output_type": "execute_result"
    }
   ],
   "source": [
    "prediction=model.predict_classes(x_test, verbose=0)\n",
    "prediction[:10]"
   ]
  }
 ],
 "metadata": {
  "kernelspec": {
   "display_name": "Python 3",
   "language": "python",
   "name": "python3"
  },
  "language_info": {
   "codemirror_mode": {
    "name": "ipython",
    "version": 3
   },
   "file_extension": ".py",
   "mimetype": "text/x-python",
   "name": "python",
   "nbconvert_exporter": "python",
   "pygments_lexer": "ipython3",
   "version": "3.6.2"
  },
  "toc": {
   "base_numbering": 1,
   "nav_menu": {},
   "number_sections": true,
   "sideBar": true,
   "skip_h1_title": false,
   "title_cell": "Table of Contents",
   "title_sidebar": "Contents",
   "toc_cell": false,
   "toc_position": {},
   "toc_section_display": true,
   "toc_window_display": false
  },
  "varInspector": {
   "cols": {
    "lenName": 16,
    "lenType": 16,
    "lenVar": 40
   },
   "kernels_config": {
    "python": {
     "delete_cmd_postfix": "",
     "delete_cmd_prefix": "del ",
     "library": "var_list.py",
     "varRefreshCmd": "print(var_dic_list())"
    },
    "r": {
     "delete_cmd_postfix": ") ",
     "delete_cmd_prefix": "rm(",
     "library": "var_list.r",
     "varRefreshCmd": "cat(var_dic_list()) "
    }
   },
   "types_to_exclude": [
    "module",
    "function",
    "builtin_function_or_method",
    "instance",
    "_Feature"
   ],
   "window_display": false
  }
 },
 "nbformat": 4,
 "nbformat_minor": 4
}
