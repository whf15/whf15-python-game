{
 "cells": [
  {
   "cell_type": "markdown",
   "metadata": {},
   "source": [
    "## <Center>本节课知识点提炼</Center>"
   ]
  },
  {
   "cell_type": "markdown",
   "metadata": {},
   "source": [
    "### 本节课重点与难点\n",
    "* 重点：损失函数及梯度/反向传播\n",
    "* 难点：反向传播"
   ]
  },
  {
   "cell_type": "markdown",
   "metadata": {},
   "source": [
    "### 1.线性分类器"
   ]
  },
  {
   "cell_type": "markdown",
   "metadata": {},
   "source": [
    "* 定义:  \n",
    "    有监督学习中主要的两种学习任务分别是回归(Regression)和分类(Classification)；回归是预测某一个具体的值，而分类是预测所属类别。\n",
    "\n",
    "    绝大多数机器学习任务都可以看作是某种分类问题。分类即给定一个输入集合，分类器预测每一个类别的概率; Label表示某个类别, 是一个离散的值;   \n",
    "    如果数据中的Label只有两个类别，那么就属于二分类问题，相应的分类器被称为二分类器;  \n",
    "    如果数据中的Label只有大于两个类别，那么就属于多分类问题，相应的分类器被称为多分类器;  \n",
    "    例如，垃圾邮件分类器-判断邮件是否是垃圾邮件，是一个典型的二分类问题；而检测图片中出现个多个目标则是属于多分类问题。  \n",
    "* 得分函数(Score Function)  \n",
    "    $$f\\left(x_{i}, W, b\\right)=W x_{i}+b$$ \n",
    "    原始图像数据到类别分值的映射;  \n",
    "    矩阵W和列向量b为该函数的参数(parameters), 参数W称为权重(weights), b被称为偏差向量(bias vector);  \n",
    "    在实际情况中常常混用权重和参数这两个术语.  \n",
    "* 损失函数(Loss Function)或称为代价函数(Cost Function)或目标函数(Objective Function) \n",
    "    用来量化预测分类标签的得分与真实标签之间一致性的;直观地讲，当评分函数输出结果与真实结果之间差异越大，损失函数输出越大，反之越小;    \n",
    "    该方法可转化为一个最优化问题，在最优化过程中，将通过更新评分函数的参数来最小化损失函数值;  \n",
    "* 正则化(Regularization)  \n",
    "    Hinge Loss公式:$$L_{i}=\\sum_{j \\neq y_{i}} \\max \\left(0, w_{j}^{T} x_{i}-w_{y_{i}}^{T} x_{i}+\\Delta\\right)$$\n",
    "    上述公式存在一个问题-W不唯一，假设有一个数据集和一个权重集W能够正确地分类每个数据(即所有的边界都满足，对于所有的i都有$L_{i}=0$);可能有很多相似的W都能正确地\n",
    "    分类所有的数据。一个简单的例子：如果W能够正确分类所有数据，即对于每个数据，损失值都是0。那么当$\\lambda > 1$时，任何$\\lambda W$都能使得损失值为0，  \n",
    "    为了解决这个问题引入了正则化惩罚项($R(W)$)，最常用的正则化惩罚是L2范数，L2范数通过对所有参数进行逐元素的平方惩罚来抑制大数值的权重：\n",
    "    $$R(W)=\\sum_{k} \\sum_{l} W_{k, l}^{2}$$\n",
    "    表达式中，将W中所有元素平方后求和;注意正则化函数不是数据的函数，仅基于权重.\n",
    "    完整的多类SVM损失函数包括：数据损失(data loss)及正则化损失(regularization loss)。完整公式如下所示：$$L=\\underbrace{\\frac{1}{N} \\sum_{i} L_{i}}_{\\text {data loss}}+\\underbrace{\\lambda R(W)}_{\\text {regularization loss}}$$\n",
    "    将其展开：$$L=\\frac{1}{N} \\sum_{i} \\sum_{j \\neq y_{i}}\\left[\\max \\left(0, f\\left(x_{i} ; W\\right)_{j}-f\\left(x_{i} ; W\\right)_{y_{i}}+\\Delta\\right)\\right]+\\lambda \\sum_{k} \\sum_{l} W_{k, l}^{2}$$\n",
    "    \n",
    "    对大数值权重进行惩罚，可以提升其泛化能力，因为经过惩罚以后没有哪个维度能够独自对于整体分值有过大的影响.\n",
    "\n",
    "* 分类器性能评价\n",
    "    使用混淆矩阵：\n",
    "\n",
    "|  GroundTruth\\Predict    | True | False |\n",
    "| :---: | :--: | :---: |\n",
    "| True  |  TP  |  FN   |\n",
    "| False |  FP  |  TN   |\n",
    "   \n",
    "    TP：真正：正例预测为正  \n",
    "    FP：假正：负例预测为正  \n",
    "    FN：假负：正例预测为负  \n",
    "    TN：真负：负例预测为负  \n",
    "    从混淆矩阵可以很容易地比较实际标签结果和预测标签结果：  \n",
    "    精确率：表示的是预测为正的样本中有多少是真正的正样本。一种就是把正类预测为正类(TP)，另一种就是把负类预测为正类(FP)。\n",
    "$$Precision =\\frac{\\mathrm{TP}}{T P+F P}$$\n",
    "    当分类器对所有正值进行完全分类时，最大得分为1.\n",
    "    召回率： 表示的是样本中的正例有多少被预测正确了。一种是把原来的正类预测成正类(TP)，另一种就是把原来的正类预测为负类(FN)。\n",
    "$$Recall=\\frac{\\mathrm{TP}}{T P+F N}$$"
   ]
  },
  {
   "cell_type": "markdown",
   "metadata": {},
   "source": [
    "<!--  -->"
   ]
  },
  {
   "cell_type": "markdown",
   "metadata": {},
   "source": [
    "### 2. Softmax函数"
   ]
  },
  {
   "cell_type": "markdown",
   "metadata": {},
   "source": [
    "* 定义"
   ]
  },
  {
   "cell_type": "markdown",
   "metadata": {},
   "source": [
    "对于$K$个标量$x_1,x_2,\\dots,x_K$,softmax函数：\n",
    "$$z_k=softmax\\left(x_k\\right)=\\frac{\\exp\\left(x_k\\right)}{\\sum_{i=1}^K\\exp\\left(x_i\\right)}$$\n",
    "其中，$z_k\\in\\left[0,1\\right]$，$\\sum_{i=1}^K z_k=1$。"
   ]
  },
  {
   "cell_type": "markdown",
   "metadata": {},
   "source": [
    "对于$K$维向量$\\mathbf{x}=\\left(x_1,x_2,\\dots,x_K\\right)^\\top$，softmax函数：\n",
    "$$\\mathbf{z}=softmax\\left(\\mathbf{x}\\right)=\\frac{\\exp\\left(\\mathbf{x}\\right)}{\\sum_{i=1}^K\\exp\\left(x_i\\right)}=\\frac{\\exp\\left(\\mathbf{x}\\right)}{\\mathbf{1}^\\top_K\\exp\\left(\\mathbf{x}\\right)}$$\n",
    "其中，$\\mathbf{1}_K=\\left(1,\\dots,1\\right)^\\top_{K\\times 1}$是$K$维的全1向量。"
   ]
  },
  {
   "cell_type": "markdown",
   "metadata": {},
   "source": [
    "* 求导"
   ]
  },
  {
   "cell_type": "markdown",
   "metadata": {},
   "source": [
    "$K$维向量$\\mathbf{x}$的softmax函数的导数：\n",
    "$$\\frac{\\partial softmax\\left(\\mathbf{x}\\right)}{\\partial\\mathbf{x}}=diag\\left(softmax\\left(\\mathbf{x}\\right)\\right)-softmax\\left(\\mathbf{x}\\right)softmax\\left(\\mathbf{x}\\right)^\\top$$"
   ]
  },
  {
   "cell_type": "markdown",
   "metadata": {},
   "source": [
    "* 求导证明"
   ]
  },
  {
   "cell_type": "markdown",
   "metadata": {},
   "source": [
    "\\begin{aligned}\n",
    "&X=\\left[x_{1}, x_{2}, x_{3}\\right]^{T}\\\\\n",
    "&\\operatorname{softmax}(\\mathrm{X})=\\left[\\frac{e^{x_{1}}}{\\sum_{i} e^{x_{i}}}, \\frac{e^{x_{2}}}{\\sum_{i} e^{x_{i}}}, \\frac{e^{x_{2}}}{\\sum_{i} e^{x_{i}}}\\right]^{T}=\\left[s_{1}, s_{2}, s_{3}\\right]^{T}\\\\\n",
    "&\\text { 由商的求导规则得 }: \\frac{\\partial s_{i}}{\\partial x_{j}}=\\left\\{\\begin{array}{c}\n",
    "s_{i}-s_{i} S_{i}, i=j \\\\\n",
    "-s_{i} s_{j}, i \\neq j\n",
    "\\end{array}\\right.\\\\\n",
    "&\\begin{array}{l}\n",
    "\\frac{\\partial}{\\partial X}[\\operatorname{softmax}(\\mathrm{X})]^{T}=\\left[\\begin{array}{lll}\n",
    "\\frac{\\partial s_{1}}{\\partial x_{1}} & \\frac{\\partial s_{2}}{\\partial x_{1}} & \\frac{\\partial s_{3}}{\\partial x_{1}} \\\\\n",
    "\\frac{\\partial s_{1}}{\\partial x_{2}} & \\frac{\\partial s_{2}}{\\partial x_{2}} & \\frac{\\partial s_{3}}{\\partial x_{2}} \\\\\n",
    "\\frac{\\partial s_{1}}{\\partial x_{3}} & \\frac{\\partial s_{2}}{\\partial x_{3}} & \\frac{\\partial s_{3}}{\\partial x_{3}}\n",
    "\\end{array}\\right]=\\left[\\begin{array}{cccc}\n",
    "s_{1}-s_{1} s_{1} & -s_{1} s_{2} & -s_{1} s_{3} \\\\\n",
    "-s_{2} s_{1} & s_{2}-s_{2} s_{2} & -s_{2} s_{3} \\\\\n",
    "-s_{3} s_{1} & -s_{3} s_{2} & s_{3}-s_{3} s_{3}\n",
    "\\end{array}\\right] \\\\\n",
    "=\\left[\\begin{array}{ccc}\n",
    "s_{1} & 0 & 0 \\\\\n",
    "0 & s_{2} & 0 \\\\\n",
    "0 & 0 & s_{3}\n",
    "\\end{array}\\right]-\\left[\\begin{array}{ccc}\n",
    "s_{1} s_{1} & s_{1} s_{2} & s_{1} s_{3} \\\\\n",
    "s_{2} s_{1} & s_{2} s_{2} & s_{2} s_{3} \\\\\n",
    "s_{3} s_{1} & s_{3} s_{2} & s_{3} s_{3}\n",
    "\\end{array}\\right]=\\operatorname{diag}[\\operatorname{softmax}(\\mathrm{X})]-\\operatorname{softmax}(\\mathrm{X})[\\operatorname{softmax}(\\mathrm{X})]^{T}\n",
    "\\end{array}\n",
    "\\end{aligned}"
   ]
  },
  {
   "cell_type": "markdown",
   "metadata": {},
   "source": [
    "<!--  -->"
   ]
  },
  {
   "cell_type": "markdown",
   "metadata": {},
   "source": [
    "### 3. 交叉熵简介   "
   ]
  },
  {
   "cell_type": "markdown",
   "metadata": {},
   "source": [
    "信息论基础 [下载链接](http://home.ustc.edu.cn/~kunzhao/TA/ch1-2.pdf)"
   ]
  },
  {
   "cell_type": "markdown",
   "metadata": {},
   "source": [
    "\n",
    "交叉熵是信息论中的一个重要概念，主要用于度量两个概率分布间的差异性, 主要涉及一下一个概念：\n",
    "*  信息量  \n",
    "    信息就是用来消除不确定性的东西，信息量的大小与信息发生的概率成反比：概率越大，信息量越小；概率越小，信息量越大。\n",
    "\n",
    "    设某一事件发生的概率为P(x)，其信息量表示为：\n",
    "$$I(x)=−log(P(x))$$\n",
    "    其中$I(x)$表示信息量，这里$log$一般表示以e为底的自然对数。\n",
    "* 信息熵  \n",
    "    一个离散随机变量的信息熵(熵)$H(x)$，定义为：  \n",
    "$$H(X)=-\\sum_{x \\in \\mathcal{X}} p(x) \\log p(x)$$  \n",
    "    熵是随机变量平均不确定度的度量，是平均信息量的度量.\n",
    "\n",
    "* 相对熵(KL散度)  \n",
    "    相对熵是两个随机分布之间距离的度量，也称为Kullback-Leibler散度。两个概率密度函数为$p(x)$和$q(x)$之间的相对熵定义为\n",
    " \\begin{aligned}\n",
    "D(p \\| q) &=\\sum_{x \\in \\mathcal{X}} p(x) \\log \\frac{p(x)}{q(x)} \\\\\n",
    "&=E_{p} \\log \\frac{p(X)}{q(X)}\n",
    "\\end{aligned}\n",
    "\n",
    "* 交叉熵  \n",
    "    首先将KL散度的公式拆开\n",
    "\\begin{array}{c}\n",
    "\\quad D_{K L}(p \\| q)=\\sum_{i=1}^{n} p\\left(x_{i}\\right) \\log \\left(\\frac{p\\left(x_{i}\\right)}{q\\left(x_{i}\\right)}\\right) \\\\\n",
    "=\\sum_{i=1}^{n} p\\left(x_{i}\\right) \\log \\left(p\\left(x_{i}\\right)\\right)-\\sum_{i=1}^{n} p\\left(x_{i}\\right) \\log \\left(q\\left(x_{i}\\right)\\right) \\\\\n",
    "=-H(p(x))+\\left[-\\sum_{i=1}^{n} p\\left(x_{i}\\right) \\log \\left(q\\left(x_{i}\\right)\\right)\\right]\n",
    "\\end{array}\n",
    "\n",
    "     前者$H(p(x))$表示信息熵，后者即为交叉熵，KL散度 = 交叉熵 - 信息熵\n",
    "\n",
    "    交叉熵公式表示为：\n",
    "$$H(p, q)=-\\sum_{i=1}^{n} p\\left(x_{i}\\right) \\log \\left(q\\left(x_{i}\\right)\\right)$$\n",
    "\n",
    "    在深度学习中，输入数据与标签已经确定，那么真实概率分布$P(x)$也就确定了，所以信息熵在这里就是一个常量。由于KL散度的值表示真实概率分布$P(x)$与预测概率分布$Q(x)$之间的差异，值越小表示预测的结果越好，所以需要最小化KL散度，而交叉熵等于KL散度加上一个常量(信息熵)，所以在深度学习中常常使用交叉熵损失函数来计算loss。\n",
    "    "
   ]
  },
  {
   "cell_type": "markdown",
   "metadata": {},
   "source": [
    "<!--  -->"
   ]
  },
  {
   "cell_type": "markdown",
   "metadata": {},
   "source": [
    "### 4. 反向传播\n",
    "反向传播是利用链式法则递归计算表达式梯度的方法."
   ]
  },
  {
   "cell_type": "markdown",
   "metadata": {},
   "source": [
    "* 核心问题：给定函数$f(x)$ ，其中$x$是输入数据的向量，需要计算函数$f$关于$x$的梯度，也就是$\\triangle f(x)$。  \n",
    "\n",
    "* 梯度的作用：在神经网络中$f$对应的是损失函数$loss function$，输入包含训练数据$x$和神经网络的权重$W$和变差$B$。训练集$X$是给定的，权重($W,B$)是可以控制的变量。因此，即使能用反向传播计算输入数据$X$上的梯度，但在实践为了进行参数更新，通常也只计算参数$W,B$的梯度。但是在神经网络可视化以便于直观理解的时候，就需要计算$X$上的梯度。\n",
    "\n",
    "* 梯度的理解：  \n",
    "简单函数$f(x,y)=xy$,对变量x，y求导结果为：$\\frac{d f}{d x}=y \\quad \\frac{d f}{d y}=x$  \n",
    "导数：函数变量在某个点的近邻区间内变化时，导数就是变量变化导致的函数在该方向上的变化率。公式如下：\n",
    "$$\\frac{d f(x)}{d x}=\\lim _{h \\rightarrow 0} \\frac{f(x+h)-f(x)}{h}$$\n",
    "上述公式中$h$值非常小，函数可以被一条直线近似，而导数就是这条直线的斜率;`即:每个变量的导数指明了整个表达式对于该变量的值的敏感程度；`  \n",
    "例如：$若x=4,y=3, 则f(x,y)=-12$, $x$的导数$d_{x}=-3$,即：将变量$x$的值变大一点，整个表达式的值就会变小(导数为负)，而且变小的量是$x$变大的量的三倍(导数为-3)；  \n",
    "同样的因为$d_{y}=4$ 如果将$y$值增加m，那么函数的输出也将增加（导数为正），且增加量是4m;  \n",
    "小结：`函数关于每个变量的导数指明了整个表达式对于该变量的敏感程度`\n",
    "\n",
    "* 使用链式法则计算梯度  \n",
    "\n",
    " 复合函数求梯度，比如 $f(x, y, z)=(x+y)z_{\\circ}$   \n",
    " 将公式分成两部分：$q=x+y, f=qz$，  \n",
    " 可得 $\\frac{\\partial f}{\\partial q}=z, \\frac{\\partial f}{\\partial z}=q$, 因为$q=x+y$, 所以 $\\frac{\\partial q}{\\partial x}=1, \\frac{\\partial q}{\\partial y}=1,$   \n",
    " 根据链式法则： $\\frac{\\partial f}{\\partial x}=\\frac{\\partial f}{\\partial q} \\frac{\\partial q}{\\partial x}=z$ ;$\\frac{\\partial f}{\\partial y}=\\frac{\\partial f}{\\partial q} \\frac{\\partial q}{\\partial y}=z$; $\\frac{\\partial f}{\\partial z}=q=x+y$"
   ]
  },
  {
   "cell_type": "markdown",
   "metadata": {},
   "source": [
    "* 前向和反向传播过程简单理解  \n",
    "$f(x,y) = xy$"
   ]
  },
  {
   "cell_type": "markdown",
   "metadata": {},
   "source": [
    "![alt](data:image/png;base64,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)"
   ]
  },
  {
   "cell_type": "markdown",
   "metadata": {},
   "source": [
    "`前向传播过程`：从左向右(绿色部分)；又输入层传递到输出层；   \n",
    "`反向传播过程`：从右往左(红色部分)；根据链式法则递归地向前计算梯度，直到网络的输入层；所以梯度是从计算链路中回流到输入层的；  \n",
    "\n",
    "上图中有一个加法门和一个乘法门；在整个计算线路中，每个门控单元需要完成两件事情：1计算该处的输出值, 2 计算输入在该门控单元处的局部梯度；两件事情完全独立不需要知道计算线路中的其他细节。  \n",
    "反向传播时，根据链接法则门控单元将回传的梯度乘上其局部梯度，从而得到整个网络的输出对该门控单元的每个输入值的梯度。  \n",
    "加法门输入变量的值是[-2, 5]，计算输出是3；对于两个输入变量的局部梯度都是+1；经过乘法门得到最终值为-12。在反向传播时递归使用链式法则，计算得到各部分的梯度为途中红色数字。如果想要网络的输出值更高，可以让加法门的输出更小一点（梯度为负）或者让$z$值变大(因为导数为正)。继续递归对梯度使用链式法则，加法门拿到梯度，然后把这个梯度分别乘到每个输入值的局部梯度（就是让-4乘以x和y的局部梯度，x和y的局部梯度都是1，所以最终都是-4）。可以得到：减小x，y值（梯度均为负），那么加法门的输出值减小，进而乘法门的输出值增大。  \n",
    "\n",
    "`即：只要让变量的值沿着梯度方向变化，最终会让整个网络的输出值更高；`  \n",
    "  函数$f$对应神经网络中的损失函数$loss$，我们的目标是最小化损失函数，所以变量的值应该沿着梯度的反方向改变，\n",
    "在参数更新时应该加上负梯度，即$W'=W-lr*\\triangle W$ 其中$lr$是学习率。"
   ]
  },
  {
   "cell_type": "markdown",
   "metadata": {},
   "source": [
    "理解这个反向传播的例子再看课件中的反向传播应该会容易一点。"
   ]
  },
  {
   "cell_type": "markdown",
   "metadata": {},
   "source": [
    "### 5. 激活函数"
   ]
  },
  {
   "cell_type": "markdown",
   "metadata": {},
   "source": [
    "#### 1). Sigmoid函数  \n",
    "Sigmoid函数又称Logistic函数，用于隐层神经元输出，取值范围为(0,1)，可以用来做二分类。  \n",
    "* 公式：$$\\sigma(x)=\\frac{1}{1+e^{-x}}$$\n",
    "* 求导：$$\\sigma^{\\prime}(x)=\\sigma(x)[1-\\sigma(x)]$$   \n",
    "\n",
    "* 优点:  \n",
    "      Sigmoid函数的输出在(0,1)之间，输出范围有限，优化稳定，可以用作输出层；是连续函数，便于求导，导数如上所示；  \n",
    "* 缺点：  \n",
    "   1.Sigmoid函数在变量取绝对值非常大的正值或负值时会出现饱和现象，函数会对输入的微小改变会变得不敏感;\n",
    "     在反向传播时，当梯度接近于0，权重基本不会更新，很容易就会出现梯度消失的情况，从而无法完成深层网络的训练;   \n",
    "   2.Sigmoid函数的输出不是0均值的，会导致后层的神经元的输入是非0均值的信号，这会对梯度产生影响,可能导致收敛效率低的问题;   \n",
    "   3.计算复杂度高，因为sigmoid函数是指数形式。\n",
    "\n",
    "#### 2). Tanh函数  \n",
    "Tanh函数也称为双曲正切函数，取值范围为[-1,1]， Tanh函数是Sigmoid的变形$\\tanh (x)=2 \\sigma(2 x)-1$\n",
    "* 公式：$$\\tanh x=\\frac{\\sinh x}{\\cosh x}=\\frac{e^{x}-e^{-x}}{e^{x}+e^{-x}}$$\n",
    "* 求导：$$Tanh^{\\prime}(x)=1-[Tanh(x)]^{2}$$   \n",
    "\n",
    "* Tanh函数是0均值的，因此实际应用中Tanh会比Sigmoid更好。但是仍然存在梯度饱和与exp计算复杂度高的问题。  \n",
    "\n",
    "\n",
    "#### 3). ReLU函数  \n",
    "  ReLU是现代神经网络中最常用的激活函数;\n",
    "* 公式：$$ReLU(x)=\\max (0, x)$$\n",
    "\n",
    "* 优点:  \n",
    "   1.使用ReLU的SGD算法的收敛速度比Sigmoid和Tanh快;  \n",
    "   2.在x>0区域上，不会出现梯度饱和、梯度消失的问题;   \n",
    "   3.计算复杂度低，不需要进行指数运算，只要一个阈值就可以得到激活值;  \n",
    "* 缺点：    \n",
    "   1.ReLU的输出不是0均值的;  \n",
    "   2.Dead ReLU Problem(神经元坏死现象)：ReLU在负数区域被kill的现象叫做Dead ReLU;    \n",
    "   ReLU在训练的时很“脆弱”。在x<0时，梯度为0。这个神经元及之后的神经元梯度永远为0，不再对任何数据有所响应，导致相应参数永远不会被更新;    \n",
    "   产生这种现象的两个原因： 参数初始化问题和Learning Rate太高导致在训练过程中参数更新太大;    \n",
    "   解决方法：采用Xavier初始化方法，以及避免将Learning Rate设置太大或使用Adagrad等自动调节Learning Rate的算法;  \n",
    "\n",
    "\n",
    "\n",
    "#### 4). Leaky ReLU函数  \n",
    "   Leaky ReLU为了解决dead ReLU现象。用一个类似0.01的小值来初始化神经元，从而使得ReLU在负数区域更偏向于激活而不是死掉;\n",
    "* 公式：$$Leaky ReLU=\\max (0.01 x, x)$$"
   ]
  }
 ],
 "metadata": {
  "kernelspec": {
   "display_name": "Python 3",
   "language": "python",
   "name": "python3"
  },
  "language_info": {
   "codemirror_mode": {
    "name": "ipython",
    "version": 3
   },
   "file_extension": ".py",
   "mimetype": "text/x-python",
   "name": "python",
   "nbconvert_exporter": "python",
   "pygments_lexer": "ipython3",
   "version": "3.7.4"
  }
 },
 "nbformat": 4,
 "nbformat_minor": 4
}
