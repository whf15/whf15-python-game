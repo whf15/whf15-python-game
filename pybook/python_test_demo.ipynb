{
 "cells": [
  {
   "cell_type": "markdown",
   "metadata": {},
   "source": [
    "#### def functionname([parameterlist]):函数名称，可选参数用，隔开\n",
    "    ['''comments''']可选参数，表示为函数指定注释\n",
    "    [functionbody]指定函数体，即函数调用后，要执行的功能代码\n",
    "    "
   ]
  },
  {
   "cell_type": "code",
   "execution_count": 1,
   "metadata": {},
   "outputs": [],
   "source": [
    "def filterchar(string):\n",
    "    import re \n",
    "    pattern = r'(黑客)|(抓包)|(监听)|(Trojan)'\n",
    "    sub = re.sub(pattern,'@_@',string)\n",
    "    print(sub)"
   ]
  },
  {
   "cell_type": "code",
   "execution_count": 2,
   "metadata": {},
   "outputs": [
    {
     "name": "stdout",
     "output_type": "stream",
     "text": [
      "我是一名高中生，喜欢看@_@方面的图书，擅长@_@,想研究一下@_@\n"
     ]
    }
   ],
   "source": [
    "about = \"我是一名高中生，喜欢看黑客方面的图书，擅长抓包,想研究一下Trojan\"\n",
    "filterchar(about)"
   ]
  },
  {
   "cell_type": "code",
   "execution_count": null,
   "metadata": {},
   "outputs": [],
   "source": []
  }
 ],
 "metadata": {
  "kernelspec": {
   "display_name": "Python 3",
   "language": "python",
   "name": "python3"
  },
  "language_info": {
   "codemirror_mode": {
    "name": "ipython",
    "version": 3
   },
   "file_extension": ".py",
   "mimetype": "text/x-python",
   "name": "python",
   "nbconvert_exporter": "python",
   "pygments_lexer": "ipython3",
   "version": "3.7.4"
  }
 },
 "nbformat": 4,
 "nbformat_minor": 2
}
