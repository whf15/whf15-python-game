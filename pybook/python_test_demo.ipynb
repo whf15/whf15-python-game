{
 "cells": [
  {
   "cell_type": "markdown",
   "metadata": {},
   "source": [
    "#### def functionname([parameterlist]):函数名称，可选参数用，隔开\n",
    "    ['''comments''']可选参数，表示为函数指定注释\n",
    "    [functionbody]指定函数体，即函数调用后，要执行的功能代码\n",
    "    "
   ]
  },
  {
   "cell_type": "code",
   "execution_count": 1,
   "metadata": {},
   "outputs": [],
   "source": [
    "def filterchar(string):\n",
    "    import re \n",
    "    pattern = r'(黑客)|(抓包)|(监听)|(Trojan)'\n",
    "    sub = re.sub(pattern,'@_@',string)\n",
    "    print(sub)"
   ]
  },
  {
   "cell_type": "code",
   "execution_count": 2,
   "metadata": {},
   "outputs": [
    {
     "name": "stdout",
     "output_type": "stream",
     "text": [
      "我是一名高中生，喜欢看@_@方面的图书，擅长@_@,想研究一下@_@\n"
     ]
    }
   ],
   "source": [
    "about = \"我是一名高中生，喜欢看黑客方面的图书，擅长抓包,想研究一下Trojan\"\n",
    "filterchar(about)"
   ]
  },
  {
   "cell_type": "code",
   "execution_count": 34,
   "metadata": {},
   "outputs": [],
   "source": [
    "class Fruit:\n",
    "    color = '绿色'\n",
    "    def __init__(self):\n",
    "        Fruit.color = color\n",
    "    def harvest(self,color):\n",
    "        print(\"水果是：\" + color + \"的！\")\n",
    "        print(\"水果已经收获......\")\n",
    "        print(\"水果原来是\" + Fruit.color + \"的！\");\n"
   ]
  },
  {
   "cell_type": "code",
   "execution_count": 35,
   "metadata": {},
   "outputs": [],
   "source": [
    "class Orange(Fruit):\n",
    "    color = \"橙色\"\n",
    "    def __init__(self):\n",
    "        print(\"\\n我是橘子\")\n",
    "    def harvest(self, color):\n",
    "        print(\"橘子是：\" + color + \"的！\")\n",
    "        print(\"橘子已经收获......\")\n",
    "        print(\"橘子原来是\" + Fruit.color + \"的！\");"
   ]
  },
  {
   "cell_type": "code",
   "execution_count": 38,
   "metadata": {},
   "outputs": [
    {
     "name": "stdout",
     "output_type": "stream",
     "text": [
      "\n",
      "我是橘子\n",
      "橘子是：橙色的！\n",
      "橘子已经收获......\n",
      "橘子原来是绿色的！\n"
     ]
    }
   ],
   "source": [
    "orange = Orange()\n",
    "orange.harvest(orange.color)"
   ]
  },
  {
   "cell_type": "code",
   "execution_count": 53,
   "metadata": {},
   "outputs": [],
   "source": [
    "class Fruit:\n",
    "    def __init__(self,color = '绿色'):\n",
    "        Fruit.color = color\n",
    "    def harvest(self):\n",
    "        print(\"水果是：\" + Fruit.color + \"的！\")\n",
    "        print(\"水果已经收获......\")\n",
    "        print(\"水果原来是\" + Fruit.color + \"的！\");\n",
    "class Apple(Fruit):\n",
    "    def __init__(self):\n",
    "        print(\"\\n我是苹果\")\n",
    "        super().__init__()"
   ]
  },
  {
   "cell_type": "code",
   "execution_count": 54,
   "metadata": {},
   "outputs": [
    {
     "name": "stdout",
     "output_type": "stream",
     "text": [
      "\n",
      "我是苹果\n",
      "水果是：绿色的！\n",
      "水果已经收获......\n",
      "水果原来是绿色的！\n"
     ]
    }
   ],
   "source": [
    "apple = Apple()\n",
    "apple.harvest()"
   ]
  },
  {
   "cell_type": "code",
   "execution_count": 56,
   "metadata": {},
   "outputs": [],
   "source": [
    "class Bank:\n",
    "    def money(self):\n",
    "        pass"
   ]
  },
  {
   "cell_type": "code",
   "execution_count": 9,
   "metadata": {},
   "outputs": [
    {
     "name": "stdout",
     "output_type": "stream",
     "text": [
      "['In', 'Out', '_', '__', '___', '__builtin__', '__builtins__', '__doc__', '__loader__', '__name__', '__package__', '__spec__', '_dh', '_i', '_i1', '_i2', '_i3', '_i4', '_i5', '_i6', '_i7', '_i8', '_i9', '_ih', '_ii', '_iii', '_oh', 'exit', 'get_ipython', 'quit', 'test']\n"
     ]
    }
   ],
   "source": [
    "import test\n",
    "print(dir())"
   ]
  },
  {
   "cell_type": "code",
   "execution_count": null,
   "metadata": {},
   "outputs": [],
   "source": []
  },
  {
   "cell_type": "code",
   "execution_count": 10,
   "metadata": {},
   "outputs": [],
   "source": [
    "import pymysql"
   ]
  },
  {
   "cell_type": "code",
   "execution_count": null,
   "metadata": {},
   "outputs": [],
   "source": []
  }
 ],
 "metadata": {
  "kernelspec": {
   "display_name": "Python 3",
   "language": "python",
   "name": "python3"
  },
  "language_info": {
   "codemirror_mode": {
    "name": "ipython",
    "version": 3
   },
   "file_extension": ".py",
   "mimetype": "text/x-python",
   "name": "python",
   "nbconvert_exporter": "python",
   "pygments_lexer": "ipython3",
   "version": "3.7.4"
  }
 },
 "nbformat": 4,
 "nbformat_minor": 2
}
