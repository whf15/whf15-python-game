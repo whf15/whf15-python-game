{
 "cells": [
  {
   "cell_type": "code",
   "execution_count": 41,
   "metadata": {
    "collapsed": true
   },
   "outputs": [
    {
     "name": "stdout",
     "output_type": "stream",
     "text": [
      "start time Fri Sep 10 10:41:07 2021\n"
     ]
    },
    {
     "ename": "KeyboardInterrupt",
     "evalue": "",
     "output_type": "error",
     "traceback": [
      "\u001b[1;31m---------------------------------------------------------------------------\u001b[0m",
      "\u001b[1;31mKeyboardInterrupt\u001b[0m                         Traceback (most recent call last)",
      "\u001b[1;32m<ipython-input-41-f62633971ed2>\u001b[0m in \u001b[0;36m<module>\u001b[1;34m\u001b[0m\n\u001b[0;32m     39\u001b[0m     \u001b[0margs\u001b[0m \u001b[1;33m=\u001b[0m \u001b[1;34m\"\"\u001b[0m\u001b[1;33m.\u001b[0m\u001b[0mjoin\u001b[0m\u001b[1;33m(\u001b[0m\u001b[1;33m(\u001b[0m\u001b[1;34m\"192.168.\"\u001b[0m\u001b[1;33m+\u001b[0m\u001b[0mnet\u001b[0m\u001b[1;33m+\u001b[0m\u001b[1;34m\".1\"\u001b[0m\u001b[1;33m)\u001b[0m\u001b[1;33m)\u001b[0m\u001b[1;33m\u001b[0m\u001b[1;33m\u001b[0m\u001b[0m\n\u001b[0;32m     40\u001b[0m     \u001b[0mip_prefix\u001b[0m \u001b[1;33m=\u001b[0m \u001b[1;34m'.'\u001b[0m\u001b[1;33m.\u001b[0m\u001b[0mjoin\u001b[0m\u001b[1;33m(\u001b[0m\u001b[0margs\u001b[0m\u001b[1;33m.\u001b[0m\u001b[0msplit\u001b[0m\u001b[1;33m(\u001b[0m\u001b[1;34m'.'\u001b[0m\u001b[1;33m)\u001b[0m\u001b[1;33m[\u001b[0m\u001b[1;33m:\u001b[0m\u001b[1;33m-\u001b[0m\u001b[1;36m1\u001b[0m\u001b[1;33m]\u001b[0m\u001b[1;33m)\u001b[0m\u001b[1;33m\u001b[0m\u001b[1;33m\u001b[0m\u001b[0m\n\u001b[1;32m---> 41\u001b[1;33m     \u001b[0mfind_ip\u001b[0m\u001b[1;33m(\u001b[0m\u001b[0mip_prefix\u001b[0m\u001b[1;33m)\u001b[0m\u001b[1;33m\u001b[0m\u001b[1;33m\u001b[0m\u001b[0m\n\u001b[0m\u001b[0;32m     42\u001b[0m     \u001b[0mendTime\u001b[0m \u001b[1;33m=\u001b[0m \u001b[0mdatetime\u001b[0m\u001b[1;33m.\u001b[0m\u001b[0mdatetime\u001b[0m\u001b[1;33m.\u001b[0m\u001b[0mnow\u001b[0m\u001b[1;33m(\u001b[0m\u001b[1;33m)\u001b[0m\u001b[1;33m\u001b[0m\u001b[1;33m\u001b[0m\u001b[0m\n\u001b[0;32m     43\u001b[0m     \u001b[0mprint\u001b[0m\u001b[1;33m(\u001b[0m\u001b[1;34m\"end time %s\"\u001b[0m\u001b[1;33m%\u001b[0m\u001b[1;33m(\u001b[0m\u001b[0mtime\u001b[0m\u001b[1;33m.\u001b[0m\u001b[0mctime\u001b[0m\u001b[1;33m(\u001b[0m\u001b[1;33m)\u001b[0m\u001b[1;33m)\u001b[0m\u001b[1;33m)\u001b[0m\u001b[1;33m\u001b[0m\u001b[1;33m\u001b[0m\u001b[0m\n",
      "\u001b[1;32m<ipython-input-41-f62633971ed2>\u001b[0m in \u001b[0;36mfind_ip\u001b[1;34m(ip_prefix)\u001b[0m\n\u001b[0;32m     31\u001b[0m         \u001b[0mip\u001b[0m \u001b[1;33m=\u001b[0m \u001b[1;33m(\u001b[0m\u001b[1;34m'%s.%s'\u001b[0m\u001b[1;33m%\u001b[0m\u001b[1;33m(\u001b[0m\u001b[0mip_prefix\u001b[0m\u001b[1;33m,\u001b[0m\u001b[0mi\u001b[0m\u001b[1;33m)\u001b[0m\u001b[1;33m)\u001b[0m\u001b[1;33m\u001b[0m\u001b[1;33m\u001b[0m\u001b[0m\n\u001b[0;32m     32\u001b[0m         \u001b[0m_thread\u001b[0m\u001b[1;33m.\u001b[0m\u001b[0mstart_new_thread\u001b[0m\u001b[1;33m(\u001b[0m\u001b[0mping_ip\u001b[0m\u001b[1;33m,\u001b[0m\u001b[1;33m(\u001b[0m\u001b[0mip\u001b[0m\u001b[1;33m,\u001b[0m\u001b[1;33m)\u001b[0m\u001b[1;33m)\u001b[0m\u001b[1;33m\u001b[0m\u001b[1;33m\u001b[0m\u001b[0m\n\u001b[1;32m---> 33\u001b[1;33m         \u001b[0mtime\u001b[0m\u001b[1;33m.\u001b[0m\u001b[0msleep\u001b[0m\u001b[1;33m(\u001b[0m\u001b[1;36m0.5\u001b[0m\u001b[1;33m)\u001b[0m\u001b[1;33m\u001b[0m\u001b[1;33m\u001b[0m\u001b[0m\n\u001b[0m\u001b[0;32m     34\u001b[0m \u001b[1;33m\u001b[0m\u001b[0m\n\u001b[0;32m     35\u001b[0m \u001b[1;32mif\u001b[0m \u001b[0m__name__\u001b[0m \u001b[1;33m==\u001b[0m \u001b[1;34m\"__main__\"\u001b[0m\u001b[1;33m:\u001b[0m\u001b[1;33m\u001b[0m\u001b[1;33m\u001b[0m\u001b[0m\n",
      "\u001b[1;31mKeyboardInterrupt\u001b[0m: "
     ]
    }
   ],
   "source": [
    "import sys\n",
    "import os\n",
    "import time\n",
    "import _thread\n",
    "import datetime\n",
    "import platform\n",
    "import socket\n",
    "\n",
    "def get_os():\n",
    "    os = platform.system()\n",
    "    if os == \"Windows\":\n",
    "        return \"n\"\n",
    "    else:\n",
    "        return \"c\"\n",
    "    \n",
    "def ping_ip(ip_str):\n",
    "    cmd = [\"ping\", \"-{op}\".format(op=get_os()),\"1\", ip_str]\n",
    "    output = os.popen(\" \".join(cmd)).readlines()\n",
    "    flag = False\n",
    "    for line in list(output):\n",
    "        if not line:\n",
    "            continue\n",
    "        if str(line).upper().find(\"TTL\") >=0:\n",
    "            flag = True\n",
    "            break\n",
    "    if flag:\n",
    "        print(\"*** *** *** ip: %s is OK *** *** ***\"%(ip_str))\n",
    "        print(\"ip hostname : %s\"%(socket.getfqdn(ip_str)))\n",
    "def find_ip(ip_prefix):\n",
    "    for i in range(1,256):\n",
    "        ip = ('%s.%s'%(ip_prefix,i))\n",
    "        _thread.start_new_thread(ping_ip,(ip,))\n",
    "        time.sleep(0.5)\n",
    "        \n",
    "if __name__ == \"__main__\":\n",
    "    startTime = datetime.datetime.now()\n",
    "    print(\"start time %s\"%(time.ctime()))\n",
    "    net=sys.argv[1]\n",
    "    args = \"\".join((\"192.168.\"+net+\".1\"))\n",
    "    ip_prefix = '.'.join(args.split('.')[:-1])\n",
    "    find_ip(ip_prefix)\n",
    "    endTime = datetime.datetime.now()\n",
    "    print(\"end time %s\"%(time.ctime()))\n",
    "    print(\"total takes :\",(endTime - startTime).seconds)"
   ]
  },
  {
   "cell_type": "code",
   "execution_count": 38,
   "metadata": {},
   "outputs": [
    {
     "name": "stdout",
     "output_type": "stream",
     "text": [
      "主机名： DESKTOP-SQB6TUA\n",
      "IP： 192.168.229.1\n",
      "Mac地址： 00:f4:8d:c8:fe:40\n"
     ]
    }
   ],
   "source": [
    "# import socket\n",
    "# import uuid\n",
    "\n",
    "# # 获取主机名\n",
    "# hostname = socket.gethostname()\n",
    "# #获取IP\n",
    "# ip = socket.gethostbyname(hostname)\n",
    "# # 获取Mac地址\n",
    "# def get_mac_address():\n",
    "#     mac=uuid.UUID(int = uuid.getnode()).hex[-12:]\n",
    "#     return \":\".join([mac[e:e+2] for e in range(0,11,2)])\n",
    "\n",
    "# # ipList = socket.gethostbyname_ex(hostname)\n",
    "# # print(ipList)\n",
    "# print(\"主机名：\",hostname)\n",
    "# print(\"IP：\",ip)\n",
    "# print(\"Mac地址：\",get_mac_address())"
   ]
  },
  {
   "cell_type": "code",
   "execution_count": 40,
   "metadata": {},
   "outputs": [
    {
     "data": {
      "text/plain": [
       "'DESKTOP-SQB6TUA'"
      ]
     },
     "execution_count": 40,
     "metadata": {},
     "output_type": "execute_result"
    }
   ],
   "source": [
    "# socket.getfqdn('192.168.229.1')"
   ]
  },
  {
   "cell_type": "code",
   "execution_count": null,
   "metadata": {},
   "outputs": [],
   "source": []
  }
 ],
 "metadata": {
  "kernelspec": {
   "display_name": "Python 3",
   "language": "python",
   "name": "python3"
  },
  "language_info": {
   "codemirror_mode": {
    "name": "ipython",
    "version": 3
   },
   "file_extension": ".py",
   "mimetype": "text/x-python",
   "name": "python",
   "nbconvert_exporter": "python",
   "pygments_lexer": "ipython3",
   "version": "3.7.4"
  }
 },
 "nbformat": 4,
 "nbformat_minor": 2
}
