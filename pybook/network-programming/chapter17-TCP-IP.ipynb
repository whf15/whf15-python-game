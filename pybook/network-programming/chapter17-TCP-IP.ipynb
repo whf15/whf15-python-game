{
 "cells": [
  {
   "cell_type": "markdown",
   "metadata": {},
   "source": [
    "## 什么是三次握手"
   ]
  },
  {
   "cell_type": "code",
   "execution_count": null,
   "metadata": {},
   "outputs": [],
   "source": [
    "刚开始客户端处于关闭状态closed，服务端处于监听状态：listen\n",
    "第一次握手：客户端向服务端发送一个SYN报文，同时初始化自己的序列号，客户端此时处于激活状态activate\n",
    "第二次握手：服务端收到客户端的SYN报文后，应答一个SYN报文和将收到的SYN+1作为ACK码给客户端，并且初始化自己的序列号，\n",
    "第三次握手：客户端收到服务端的SYN报文和ACK码后，将SYN+1作为ACK传送给服务段。\n",
    "客户端收到ACK后，完成连接，三次握手达成"
   ]
  },
  {
   "cell_type": "markdown",
   "metadata": {},
   "source": [
    "刚开始客户端处于 closed 的状态，服务端处于 listen 状态。然后\n",
    "\n",
    "1、第一次握手：客户端给服务端发一个 SYN 报文，并指明客户端的初始化序列号 ISN©。此时客户端处于 SYN_Send 状态。\n",
    "\n",
    "2、第二次握手：服务器收到客户端的 SYN 报文之后，会以自己的 SYN 报文作为应答，并且也是指定了自己的初始化序列号 ISN(s)，同时会把客户端的 ISN + 1 作为 ACK 的值，表示自己已经收到了客户端的 SYN，此时服务器处于 SYN_REVD 的状态。\n",
    "\n",
    "3、第三次握手：客户端收到 SYN 报文之后，会发送一个 ACK 报文，当然，也是一样把服务器的 ISN + 1 作为 ACK 的值，表示已经收到了服务端的 SYN 报文，此时客户端处于 establised 状态。\n",
    "\n",
    "4、服务器收到 ACK 报文之后，也处于 establised 状态，此时，双方以建立起了链接\n",
    "\n",
    "\n"
   ]
  },
  {
   "cell_type": "markdown",
   "metadata": {},
   "source": [
    "## TCP协议\n",
    "    TCP协议是建立在IP协议之上的。TCP协议负责在两台计算机之间建立可靠连接，保证数据包按顺序到达。\n",
    "    \n",
    "    TCP协议会同通过三次握手建立可靠连接，然后需要对每个IP包进行编号，确保对方按顺序收到，乳沟包堆到了，就自动重发"
   ]
  },
  {
   "cell_type": "markdown",
   "metadata": {},
   "source": [
    "## UCP简介\n",
    "        相对TCP协议，UDP协议则是面向无连接的协议。不需要建立连接，只需要知到对方的IP地址和端口号，就可以直接发数据包，但是数据无法保证一定到达，优点是比TCP快，不要求可靠到达的数据就可以使用UDP协议"
   ]
  },
  {
   "cell_type": "markdown",
   "metadata": {},
   "source": [
    "# -*- coding:utf-8 -*-\n",
    "import socket\n",
    "host = '127.0.0.1'\n",
    "port = 8080\n",
    "web = socket.socket()\n",
    "web.bind((host,port))\n",
    "web.listen(5)\n",
    "print('服务器等待客户端连接...')\n",
    "#开启死循环\n",
    "while True:\n",
    "    conn,addr = web.accept()\n",
    "    data = conn.recv(1024)\n",
    "    print(data)\n",
    "    conn.sendall(b'HTTP/1.1 200 OK \\r\\n\\r\\nHello World')\n",
    "    conn.close()"
   ]
  },
  {
   "cell_type": "markdown",
   "metadata": {},
   "source": [
    "import socket\n",
    "host = '127.0.0.1'\n",
    "port = 8080\n",
    "s = socket.socket()\n",
    "s.connect((host,port))\n",
    "send_data = input(\"请输入要发送的数据：\")\n",
    "s.send(send_data.encode())\n",
    "# 接受对方发送过来的数据，最大接受1024个字节\n",
    "recvData = s.recv(1024).decode()\n",
    "print(\"接收到的数据为：\",recvData)\n",
    "#关闭套接字\n",
    "s.close()"
   ]
  },
  {
   "cell_type": "code",
   "execution_count": 2,
   "metadata": {},
   "outputs": [
    {
     "name": "stdout",
     "output_type": "stream",
     "text": [
      "连接已经建立\n",
      "接收到的内容是：hello\n",
      "输入发送内容：hello\n",
      "接收到的内容是：this is whfo speaking\n",
      "输入发送内容：mm\n",
      "接收到的内容是：gg\n",
      "输入发送内容：byebye\n"
     ]
    }
   ],
   "source": [
    "import socket\n",
    "host = socket.gethostname() # 获取主机地址\n",
    "port = 12345 #设置端口号\n",
    "s = socket.socket(socket.AF_INET,socket.SOCK_STREAM) # 创建TCP/IP套接字\n",
    "s.bind((host,port)) #绑定地址（host,port到套接字\n",
    "s.listen(1) #设置最多连接数量\n",
    "sock,addr = s.accept()  #被动接受TCP客户端连接\n",
    "print(\"连接已经建立\")\n",
    "info = sock.recv(1024).decode() #接受客户端数据\n",
    "while info != 'byebye': #判断是否退出\n",
    "    if info:\n",
    "        print(\"接收到的内容是：\"+info)\n",
    "    send_data = input(\"输入发送内容：\") #发送消息\n",
    "    sock.send(send_data.encode()) #发送TCP数据\n",
    "    if send_data == 'byebye': #如果发送byebye则退出\n",
    "        break\n",
    "    info = sock.recv(1024).decode()   #接受客户端数据\n",
    "sock.close() # 关闭客户端套接字\n",
    "s.close() #关闭服务器套接字"
   ]
  },
  {
   "cell_type": "markdown",
   "metadata": {},
   "source": []
  },
  {
   "cell_type": "markdown",
   "metadata": {},
   "source": [
    "## UDP编程\n"
   ]
  },
  {
   "cell_type": "code",
   "execution_count": 2,
   "metadata": {},
   "outputs": [
    {
     "name": "stdout",
     "output_type": "stream",
     "text": [
      "绑定UDP到8888端口\n",
      "Received from 127.0.0.1:53957.\n"
     ]
    }
   ],
   "source": [
    "import socket\n",
    "# 创建UDP套接字\n",
    "s = socket.socket(socket.AF_INET,socket.SOCK_DGRAM) \n",
    "# 绑定地址（host，port）到套接字\n",
    "s.bind(('127.0.0.1',8888))\n",
    "print('绑定UDP到8888端口')\n",
    "#接收数据\n",
    "data, addr = s.recvfrom(1024)\n",
    "#转换公式\n",
    "data = float(data)*1.8 + 32\n",
    "send_data = '转换后的温度（单位：华氏温度）：'+str(data)\n",
    "print('Received from %s:%s.' % addr)\n",
    "#发送给客户端\n",
    "s.sendto(send_data.encode(),addr)\n",
    "#关闭服务器端套接字\n",
    "s.close()"
   ]
  },
  {
   "cell_type": "code",
   "execution_count": null,
   "metadata": {},
   "outputs": [],
   "source": []
  }
 ],
 "metadata": {
  "kernelspec": {
   "display_name": "Python 3",
   "language": "python",
   "name": "python3"
  }
 },
 "nbformat": 4,
 "nbformat_minor": 2
}
