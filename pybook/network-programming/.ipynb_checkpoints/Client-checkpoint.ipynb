{
 "cells": [
  {
   "cell_type": "code",
   "execution_count": 1,
   "metadata": {},
   "outputs": [
    {
     "name": "stdout",
     "output_type": "stream",
     "text": [
      "请输入要发送的数据：b'hello whfo'\n",
      "接收到的数据为： HTTP/1.1 200 OK \n",
      "\n",
      "Hello World\n"
     ]
    }
   ],
   "source": [
    "import socket\n",
    "host = '127.0.0.1'\n",
    "port = 8080\n",
    "s = socket.socket()\n",
    "s.connect((host,port))\n",
    "send_data = input(\"请输入要发送的数据：\")\n",
    "s.send(send_data.encode())\n",
    "# 接受对方发送过来的数据，最大接受1024个字节\n",
    "recvData = s.recv(1024).decode()\n",
    "print(\"接收到的数据为：\",recvData)\n",
    "#关闭套接字\n",
    "s.close()"
   ]
  },
  {
   "cell_type": "code",
   "execution_count": null,
   "metadata": {},
   "outputs": [],
   "source": []
  }
 ],
 "metadata": {
  "kernelspec": {
   "display_name": "Python 3",
   "language": "python",
   "name": "python3"
  },
  "language_info": {
   "codemirror_mode": {
    "name": "ipython",
    "version": 3
   },
   "file_extension": ".py",
   "mimetype": "text/x-python",
   "name": "python",
   "nbconvert_exporter": "python",
   "pygments_lexer": "ipython3",
   "version": "3.7.4"
  }
 },
 "nbformat": 4,
 "nbformat_minor": 2
}
