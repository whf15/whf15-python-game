{
 "cells": [
  {
   "cell_type": "code",
   "execution_count": 1,
   "metadata": {},
   "outputs": [
    {
     "name": "stdout",
     "output_type": "stream",
     "text": [
      "请输入要发送的数据：b'hello whfo'\n",
      "接收到的数据为： HTTP/1.1 200 OK \n",
      "\n",
      "Hello World\n"
     ]
    }
   ],
   "source": [
    "import socket\n",
    "host = '127.0.0.1'\n",
    "port = 8080\n",
    "s = socket.socket()\n",
    "s.connect((host,port))\n",
    "send_data = input(\"请输入要发送的数据：\")\n",
    "s.send(send_data.encode())\n",
    "# 接受对方发送过来的数据，最大接受1024个字节\n",
    "recvData = s.recv(1024).decode()\n",
    "print(\"接收到的数据为：\",recvData)\n",
    "#关闭套接字\n",
    "s.close()"
   ]
  },
  {
   "cell_type": "code",
   "execution_count": 3,
   "metadata": {},
   "outputs": [
    {
     "name": "stdout",
     "output_type": "stream",
     "text": [
      "aaaaaaaaaaaaaaaaaaaaaaaaaaaaaaaaaaaaaaaaaaaaaaaaaa\n"
     ]
    }
   ],
   "source": [
    "print('a'*50)"
   ]
  },
  {
   "cell_type": "code",
   "execution_count": 1,
   "metadata": {},
   "outputs": [
    {
     "name": "stdout",
     "output_type": "stream",
     "text": [
      "已连接\n",
      "输入发送内容：hello\n",
      "接收到的内容是：hello\n",
      "输入发送内容：this is whfo speaking\n",
      "接收到的内容是：mm\n",
      "输入发送内容：gg\n",
      "接收到的内容是：byebye\n"
     ]
    }
   ],
   "source": [
    "import socket\n",
    "host = socket.gethostname() # 获取主机地址\n",
    "port = 12345 #设置端口号\n",
    "s = socket.socket() # 创建TCP/IP套接字\n",
    "s.connect((host,port)) #自动初始化TCP服务器连接\n",
    "print(\"已连接\")\n",
    "info = \"\" \n",
    "while info != 'byebye': #判断是否退出\n",
    "    send_data = input(\"输入发送内容：\") #发送消息\n",
    "    s.send(send_data.encode()) #发送TCP数据\n",
    "    if send_data == 'byebye': #如果发送byebye则退出\n",
    "        break\n",
    "    info = s.recv(1024).decode()   #接受服务端数据\n",
    "    print(\"接收到的内容是：\"+info)\n",
    "\n",
    "s.close() #关闭套接字"
   ]
  },
  {
   "cell_type": "markdown",
   "metadata": {},
   "source": [
    "## 创建UDP客户端\n"
   ]
  },
  {
   "cell_type": "code",
   "execution_count": null,
   "metadata": {},
   "outputs": [],
   "source": [
    "import socket\n",
    "\n",
    "# 创建UDP套接字\n",
    "s = scoket.socket(socket.AF_INET, socket.SOCK_DGRAM) \n",
    "#请输入要转换的温度\n",
    "data = input(\"请输入要转换的温度(单位：摄氏度)：\")\n",
    "#发送数据\n",
    "s.sendto(data.encode(), ('127.0.0.1',8888))\n",
    "#打印接收数据\n",
    "print(s.recv(1024).decode())\n",
    "#关闭套接字\n",
    "s.close()"
   ]
  }
 ],
 "metadata": {
  "kernelspec": {
   "display_name": "Python 3",
   "language": "python",
   "name": "python3"
  },
  "language_info": {
   "codemirror_mode": {
    "name": "ipython",
    "version": 3
   },
   "file_extension": ".py",
   "mimetype": "text/x-python",
   "name": "python",
   "nbconvert_exporter": "python",
   "pygments_lexer": "ipython3",
   "version": "3.7.4"
  }
 },
 "nbformat": 4,
 "nbformat_minor": 2
}
