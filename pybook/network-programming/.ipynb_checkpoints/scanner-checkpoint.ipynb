{
 "cells": [
  {
   "cell_type": "code",
   "execution_count": 29,
   "metadata": {},
   "outputs": [
    {
     "name": "stdout",
     "output_type": "stream",
     "text": [
      "start time Fri Sep 10 09:59:14 2021\n",
      "end time Fri Sep 10 10:00:31 2021\n",
      "total takes : 76\n"
     ]
    }
   ],
   "source": [
    "import sys\n",
    "import os\n",
    "import time\n",
    "import _thread\n",
    "import datetime\n",
    "import platform\n",
    "import socket\n",
    "\n",
    "def get_os():\n",
    "    os = platform.system()\n",
    "    if os == \"Windows\":\n",
    "        return \"n\"\n",
    "    else:\n",
    "        return \"c\"\n",
    "    \n",
    "def ping_ip(ip_str):\n",
    "    cmd = [\"ping\", \"-{op}\".format(op=get_os()),\"1\", ip_str]\n",
    "    output = os.popen(\" \".join(cmd)).readlines()\n",
    "    flag = False\n",
    "    for line in list(output):\n",
    "        if not line:\n",
    "            continue\n",
    "        if str(line).upper().find(\"TTL\") >=0:\n",
    "            flag = True\n",
    "            break\n",
    "    if flag:\n",
    "        print(\"*** *** *** ip: %s is OK *** *** ***\"%(ip_str))\n",
    "        print(\"ip hostname : %s\"%(socket.getfqdn(ip_str)))\n",
    "def find_ip(ip_prefix):\n",
    "    for i in range(1,256):\n",
    "        ip = ('%s.%s'%(ip_prefix,i))\n",
    "        _thread.start_new_thread(ping_ip,(ip,))\n",
    "        time.sleep(0.5)\n",
    "        \n",
    "if __name__ == \"__main__\":\n",
    "    startTime = datetime.datetime.now()\n",
    "    print(\"start time %s\"%(time.ctime()))\n",
    "    net=sys.argv[1]\n",
    "    args = \"\".join((\"192.168.\"+net+\".1\"))\n",
    "    ip_prefix = '.'.join(args.split('.')[:-1])\n",
    "    find_ip(ip_prefix)\n",
    "    endTime = datetime.datetime.now()\n",
    "    print(\"end time %s\"%(time.ctime()))\n",
    "    print(\"total takes :\",(endTime - startTime).seconds)"
   ]
  },
  {
   "cell_type": "code",
   "execution_count": 38,
   "metadata": {},
   "outputs": [
    {
     "name": "stdout",
     "output_type": "stream",
     "text": [
      "主机名： DESKTOP-SQB6TUA\n",
      "IP： 192.168.229.1\n",
      "Mac地址： 00:f4:8d:c8:fe:40\n"
     ]
    }
   ],
   "source": [
    "# import socket\n",
    "# import uuid\n",
    "\n",
    "# # 获取主机名\n",
    "# hostname = socket.gethostname()\n",
    "# #获取IP\n",
    "# ip = socket.gethostbyname(hostname)\n",
    "# # 获取Mac地址\n",
    "# def get_mac_address():\n",
    "#     mac=uuid.UUID(int = uuid.getnode()).hex[-12:]\n",
    "#     return \":\".join([mac[e:e+2] for e in range(0,11,2)])\n",
    "\n",
    "# # ipList = socket.gethostbyname_ex(hostname)\n",
    "# # print(ipList)\n",
    "# print(\"主机名：\",hostname)\n",
    "# print(\"IP：\",ip)\n",
    "# print(\"Mac地址：\",get_mac_address())"
   ]
  },
  {
   "cell_type": "code",
   "execution_count": 40,
   "metadata": {},
   "outputs": [
    {
     "data": {
      "text/plain": [
       "'DESKTOP-SQB6TUA'"
      ]
     },
     "execution_count": 40,
     "metadata": {},
     "output_type": "execute_result"
    }
   ],
   "source": [
    "# socket.getfqdn('192.168.229.1')"
   ]
  },
  {
   "cell_type": "code",
   "execution_count": null,
   "metadata": {},
   "outputs": [],
   "source": []
  }
 ],
 "metadata": {
  "kernelspec": {
   "display_name": "Python 3",
   "language": "python",
   "name": "python3"
  },
  "language_info": {
   "codemirror_mode": {
    "name": "ipython",
    "version": 3
   },
   "file_extension": ".py",
   "mimetype": "text/x-python",
   "name": "python",
   "nbconvert_exporter": "python",
   "pygments_lexer": "ipython3",
   "version": "3.7.4"
  }
 },
 "nbformat": 4,
 "nbformat_minor": 2
}
