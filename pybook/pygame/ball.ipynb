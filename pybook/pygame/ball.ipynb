{
 "cells": [
  {
   "cell_type": "code",
   "execution_count": 3,
   "metadata": {},
   "outputs": [
    {
     "ename": "SystemExit",
     "evalue": "",
     "output_type": "error",
     "traceback": [
      "An exception has occurred, use %tb to see the full traceback.\n",
      "\u001b[1;31mSystemExit\u001b[0m\n"
     ]
    }
   ],
   "source": [
    "# -*- coding:utf-8 -*-\n",
    "import sys\n",
    "import pygame\n",
    "\n",
    "pygame.init()\n",
    "# 设置窗口\n",
    "size = width, height = 320, 240\n",
    "# 显示窗口\n",
    "screen = pygame.display.set_mode(size)\n",
    "while True:\n",
    "    #遍历所有事件\n",
    "    for event in pygame.event.get():\n",
    "        # 如果单机关闭窗口，则推出\n",
    "        if event.type == pygame.QUIT:\n",
    "            sys.exit()\n",
    "# 退出pygame\n",
    "pygame.quit()"
   ]
  },
  {
   "cell_type": "markdown",
   "metadata": {},
   "source": [
    "### 关闭小tips，先退出pygame.quit();在sys.exit()"
   ]
  },
  {
   "cell_type": "code",
   "execution_count": 2,
   "metadata": {},
   "outputs": [
    {
     "ename": "SystemExit",
     "evalue": "",
     "output_type": "error",
     "traceback": [
      "An exception has occurred, use %tb to see the full traceback.\n",
      "\u001b[1;31mSystemExit\u001b[0m\n"
     ]
    }
   ],
   "source": [
    "# -*- coding:utf-8 -*-\n",
    "import sys  # 导入sys模块\n",
    "import pygame  # 导入pygame模块\n",
    "\n",
    "pygame.init()  # 初始化pygame\n",
    "size = width, height = 640, 480  # 设置窗口\n",
    "screen = pygame.display.set_mode(size)  # 显示窗口\n",
    "color = (0, 0, 0)  # 设置颜色\n",
    "\n",
    "ball = pygame.image.load(\"ball.png\")  # 加载图片\n",
    "ballrect = ball.get_rect()  # 获取矩形区域\n",
    "\n",
    "speed = [5, 5]  # 设置移动的X轴、Y轴距离\n",
    "clock = pygame.time.Clock()  # 设置时钟\n",
    "# 执行死循环，确保窗口一直显示\n",
    "while True:\n",
    "    clock.tick(60)  # 每秒执行60次\n",
    "    # 检查事件\n",
    "    for event in pygame.event.get():\n",
    "        if event.type == pygame.QUIT:  # 如果点击关闭窗口，则退出\n",
    "            pygame.quit()  # 退出pygame\n",
    "            sys.exit()\n",
    "    ballrect = ballrect.move(speed)  # 移动小球\n",
    "    # 碰到左右边缘\n",
    "    if ballrect.left < 0 or ballrect.right > width:\n",
    "        speed[0] = -speed[0]\n",
    "    # 碰到上下边缘\n",
    "    if ballrect.top < 0 or ballrect.bottom > height:\n",
    "        speed[1] = -speed[1]\n",
    "\n",
    "    screen.fill(color)  # 填充颜色\n",
    "    screen.blit(ball, ballrect)  # 将图片画到窗口上\n",
    "    pygame.display.flip()  # 更新全部显示\n",
    "\n",
    "pygame.quit()  # 退出pygame"
   ]
  },
  {
   "cell_type": "code",
   "execution_count": null,
   "metadata": {},
   "outputs": [],
   "source": []
  }
 ],
 "metadata": {
  "kernelspec": {
   "display_name": "py38",
   "language": "python",
   "name": "py38"
  },
  "language_info": {
   "codemirror_mode": {
    "name": "ipython",
    "version": 3
   },
   "file_extension": ".py",
   "mimetype": "text/x-python",
   "name": "python",
   "nbconvert_exporter": "python",
   "pygments_lexer": "ipython3",
   "version": "3.8.10"
  }
 },
 "nbformat": 4,
 "nbformat_minor": 2
}
