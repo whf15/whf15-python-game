{
 "cells": [
  {
   "cell_type": "code",
   "execution_count": 6,
   "metadata": {},
   "outputs": [
    {
     "ename": "SyntaxError",
     "evalue": "invalid syntax (<ipython-input-6-f15467c7c9e0>, line 13)",
     "output_type": "error",
     "traceback": [
      "\u001b[1;36m  File \u001b[1;32m\"<ipython-input-6-f15467c7c9e0>\"\u001b[1;36m, line \u001b[1;32m13\u001b[0m\n\u001b[1;33m    rep = requests.get(url, headers={\"User-Aget\":\"Mozilla/5.0 (Windows NT 10.0; Win64; x64) AppleWebKit/537.36 (KHTML, like Gecko) Chrome/93.0.4577.82 Safari/537.36\").text\u001b[0m\n\u001b[1;37m                                                                                                                                                                     ^\u001b[0m\n\u001b[1;31mSyntaxError\u001b[0m\u001b[1;31m:\u001b[0m invalid syntax\n"
     ]
    }
   ],
   "source": [
    "import html\n",
    "\n",
    "import requests # 网络请求模块\n",
    "from bs4 import BeautifulSoup # HTML代码解析模块\n",
    "import json                    # json数据解析模块\n",
    "import re\n",
    "\n",
    "user_aget = \"Mozilla/5.0 (Windows NT 10.0; Win64; x64) AppleWebKit/537.36 (KHTML, like Gecko) Chrome/93.0.4577.82 Safari/537.36\"\n",
    "\n",
    "def get_heml():\n",
    "    # 用fake_useragent库产生随机的User-Aget，目的是反爬\n",
    "    url = \"https://book.jd.com/booktop/0-0-0.html?category=3287-0-0-0-10001-1#comfort\"\n",
    "    rep = requests.get(url, headers={\"User-Aget\":user_aget).text\n",
    "    # 开始解析，把lxml+Xpath表达式，将结果存入li_lists\n",
    "    p = html.etree.HTML(rep)\n",
    "    # li_lists是xpath匹配内容的结果集，保存了符合规则的信息\n",
    "    # 每个li标签节点保存了一个房源的完整信息\n",
    "    li_lists = p.xpath('//ul[@class=\"sellListContent\"]/li[@class=\"clear LOGVIEWDATA LOGCLICKDATA\"]')\n",
    "    items = {}\n",
    "    for li in li_lists:\n",
    "        # 房名xpath，要判断是否为空，因为后续可能会做数据持久化处理，比如存入数据库\n",
    "        li_name = li.xpath('.//div[@class=\"positionInfo\"]/a/text()')\n",
    "        if li_name:\n",
    "            items[\"name\"] = li_name[0]\n",
    "        else:\n",
    "            items[\"name\"] = None\n",
    "        # 地址xpath\n",
    "        li_address = li.xpath('.//div[@class=\"positionInfo\"]/a[2]/text()')\n",
    "        if li_address:\n",
    "            items[\"address\"] = li_address[0]\n",
    "        else:\n",
    "            items[\"address\"] = None\n",
    "        # 房子详细信息xpath\n",
    "        li_info = li.xpath('.//div[@class=\"houseInfo\"]/text()')\n",
    "        if li_info:\n",
    "            items[\"info\"] = li_info[0]\n",
    "        else:\n",
    "            items[\"info\"] = None\n",
    "        # 房子总价\n",
    "        li_total = li.xpath('.//div[@class=\"totalPrice\"]/span/text()')\n",
    "        if li_total:\n",
    "            items[\"total\"] = li_total[0] + '万'\n",
    "        else:\n",
    "            items[\"total\"] = None\n",
    "        li_unitPrice = li.xpath('.//div[@class=\"unitPrice\"]/span/text()')\n",
    "        # 房子单价\n",
    "        if li_total:\n",
    "            items[\"unitPrice\"] = li_unitPrice[0]\n",
    "        else:\n",
    "            items[\"unitPrice\"] = None\n",
    "        # 打印结果\n",
    "        print(items)\n",
    "\n",
    "if __name__ == \"__main__\":\n",
    "    get_heml()"
   ]
  },
  {
   "cell_type": "code",
   "execution_count": null,
   "metadata": {},
   "outputs": [],
   "source": []
  }
 ],
 "metadata": {
  "kernelspec": {
   "display_name": "Python 3",
   "language": "python",
   "name": "python3"
  },
  "language_info": {
   "codemirror_mode": {
    "name": "ipython",
    "version": 3
   },
   "file_extension": ".py",
   "mimetype": "text/x-python",
   "name": "python",
   "nbconvert_exporter": "python",
   "pygments_lexer": "ipython3",
   "version": "3.7.4"
  }
 },
 "nbformat": 4,
 "nbformat_minor": 2
}
