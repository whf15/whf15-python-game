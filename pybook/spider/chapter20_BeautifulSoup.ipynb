{
 "cells": [
  {
   "cell_type": "code",
   "execution_count": 13,
   "metadata": {},
   "outputs": [
    {
     "name": "stdout",
     "output_type": "stream",
     "text": [
      "b'<!doctype html>\\n<html lang=\"zh-CN\">\\n\\n<head>\\n  <meta charset=\"utf-8\">\\n  <title>\\xe6\\x98\\x8e\\xe6\\x97\\xa5\\xe6\\x96\\xb9\\xe8\\x88\\x9f\\xe5\\xb7\\xa5\\xe5\\x85\\xb7\\xe7\\xae\\xb1_\\xe5\\x85\\xac\\xe5\\xbc\\x80\\xe6\\x8b\\x9b\\xe5\\x8b\\x9f\\xe8\\xae\\xa1\\xe7\\xae\\x97\\xe5\\x99\\xa8_bigfun\\xe6\\xaf\\x95\\xe6\\x96\\xb9\\xe7\\xa4\\xbe\\xe5\\x8c\\xba</title>\\n  <base href=\"/tools/aktools\">\\n\\n  <meta name=\"viewport\" content=\"width=device-width, initial-scale=1, user-scalable=no, viewport-fit=cover\">\\n  <link rel=\"icon\" type=\"image/x-icon\" href=\"favicon.ico\">\\n  <link rel=\"manifest\" href=\"/static/aktools/1620462222/icons/manifest.webmanifest\">\\n  <link rel=\"apple-touch-icon\" sizes=\"180x180\" href=\"/static/aktools/1620462222/icons/apple-touch-icon.png\">\\n  <link rel=\"mask-icon\" href=\"/static/aktools/1620462222/icons/safari-pinned-tab.svg\" color=\"#000\">\\n  <link href=\"/static/aktools/1620462222/iconfont/material-icons.css\" rel=\"stylesheet\">\\n  <meta name=\"apple-mobile-web-app-title\" content=\"\\xe6\\x98\\x8e\\xe6\\x97\\xa5\\xe6\\x96\\xb9\\xe8\\x88\\x9f\\xe5\\xb7\\xa5\\xe5\\x85\\xb7\\xe7\\xae\\xb1\">\\n  <meta name=\"application-name\" content=\"\\xe6\\x98\\x8e\\xe6\\x97\\xa5\\xe6\\x96\\xb9\\xe8\\x88\\x9f\\xe5\\xb7\\xa5\\xe5\\x85\\xb7\\xe7\\xae\\xb1\">\\n  <meta name=\"theme-color\" content=\"#000\">\\n  <meta name=\"msapplication-TileColor\" content=\"#000\">\\n  <meta name=\"apple-mobile-web-app-capable\" content=\"yes\">\\n  <meta name=\"apple-mobile-web-app-status-bar-style\" content=\"black\">\\n<link rel=\"stylesheet\" href=\"/static/aktools/1620462222/css/styles.css\"></head>\\n\\n<body ontouchstart=\"\">\\n  <app-root></app-root>\\n  <noscript>Please enable JavaScript to continue using this application.</noscript><script>window.data_version=1620462222;</script>\\n  <script type=\"text/javascript\">!navigator.userAgent.match(/bigfun_app/i) && document.write(unescape(\"%3Cspan id=\\'cnzz_stat_icon_1275376637\\'%3E%3C/span%3E%3Cscript src=\\'https://s5.cnzz.com/z_stat.php%3Fid%3D1275376637%26show%3Dpic1\\' type=\\'text/javascript\\'%3E%3C/script%3E\"));</script><style>span[id^=\"cnzz_stat_icon\"]{visibility:hidden}</style>\\n    <script>\\n    ;(function(){\\n      function sendMessageToApp(param){\\n        try{window.webkit.messageHandlers.BFJSPostObj.postMessage(param)}catch(e){}\\n        try{window.BFJSPostObj.postMessage(JSON.stringify(param))}catch(e){}\\n      }\\n      sendMessageToApp({type:\\'hiddenRefreshHeader\\',value:-1})\\n    })();\\n    </script>\\n  \\n<script src=\"/static/aktools/1620462222/js/runtime-es2015.js\" type=\"module\"></script><script src=\"/static/aktools/1620462222/js/runtime-es5.js\" nomodule defer></script><script src=\"/static/aktools/1620462222/js/polyfills-es5.js\" nomodule defer></script><script src=\"/static/aktools/1620462222/js/polyfills-es2015.js\" type=\"module\"></script><script src=\"/static/aktools/1620462222/js/main-es2015.js\" type=\"module\"></script><script src=\"/static/aktools/1620462222/js/main-es5.js\" nomodule defer></script></body>\\n\\n</html>'\n"
     ]
    }
   ],
   "source": [
    "import requests\n",
    "url = 'https://www.bigfun.cn/tools/aktools/'\n",
    "headers = {'User-Agent': 'Mozilla/5.0 (Windows NT 10.0; Win64; x64) AppleWebKit/537.36 (KHTML, like Gecko) Chrome/93.0.4577.63 Safari/537.36'}\n",
    "html = requests.get(url,headers=headers)\n",
    "print(html.content)"
   ]
  },
  {
   "cell_type": "code",
   "execution_count": 14,
   "metadata": {},
   "outputs": [
    {
     "name": "stdout",
     "output_type": "stream",
     "text": [
      "<!DOCTYPE html>\n",
      "<html lang=\"zh-CN\">\n",
      "<head>\n",
      "<meta charset=\"utf-8\"/>\n",
      "<title>明日方舟工具箱_公开招募计算器_bigfun毕方社区</title>\n",
      "<base href=\"/tools/aktools\"/>\n",
      "<meta content=\"width=device-width, initial-scale=1, user-scalable=no, viewport-fit=cover\" name=\"viewport\"/>\n",
      "<link href=\"favicon.ico\" rel=\"icon\" type=\"image/x-icon\"/>\n",
      "<link href=\"/static/aktools/1620462222/icons/manifest.webmanifest\" rel=\"manifest\"/>\n",
      "<link href=\"/static/aktools/1620462222/icons/apple-touch-icon.png\" rel=\"apple-touch-icon\" sizes=\"180x180\"/>\n",
      "<link color=\"#000\" href=\"/static/aktools/1620462222/icons/safari-pinned-tab.svg\" rel=\"mask-icon\"/>\n",
      "<link href=\"/static/aktools/1620462222/iconfont/material-icons.css\" rel=\"stylesheet\"/>\n",
      "<meta content=\"明日方舟工具箱\" name=\"apple-mobile-web-app-title\"/>\n",
      "<meta content=\"明日方舟工具箱\" name=\"application-name\"/>\n",
      "<meta content=\"#000\" name=\"theme-color\"/>\n",
      "<meta content=\"#000\" name=\"msapplication-TileColor\"/>\n",
      "<meta content=\"yes\" name=\"apple-mobile-web-app-capable\"/>\n",
      "<meta content=\"black\" name=\"apple-mobile-web-app-status-bar-style\"/>\n",
      "<link href=\"/static/aktools/1620462222/css/styles.css\" rel=\"stylesheet\"/></head>\n",
      "<body ontouchstart=\"\">\n",
      "<app-root></app-root>\n",
      "<noscript>Please enable JavaScript to continue using this application.</noscript><script>window.data_version=1620462222;</script>\n",
      "<script type=\"text/javascript\">!navigator.userAgent.match(/bigfun_app/i) && document.write(unescape(\"%3Cspan id='cnzz_stat_icon_1275376637'%3E%3C/span%3E%3Cscript src='https://s5.cnzz.com/z_stat.php%3Fid%3D1275376637%26show%3Dpic1' type='text/javascript'%3E%3C/script%3E\"));</script><style>span[id^=\"cnzz_stat_icon\"]{visibility:hidden}</style>\n",
      "<script>\n",
      "    ;(function(){\n",
      "      function sendMessageToApp(param){\n",
      "        try{window.webkit.messageHandlers.BFJSPostObj.postMessage(param)}catch(e){}\n",
      "        try{window.BFJSPostObj.postMessage(JSON.stringify(param))}catch(e){}\n",
      "      }\n",
      "      sendMessageToApp({type:'hiddenRefreshHeader',value:-1})\n",
      "    })();\n",
      "    </script>\n",
      "<script src=\"/static/aktools/1620462222/js/runtime-es2015.js\" type=\"module\"></script><script defer=\"\" nomodule=\"\" src=\"/static/aktools/1620462222/js/runtime-es5.js\"></script><script defer=\"\" nomodule=\"\" src=\"/static/aktools/1620462222/js/polyfills-es5.js\"></script><script src=\"/static/aktools/1620462222/js/polyfills-es2015.js\" type=\"module\"></script><script src=\"/static/aktools/1620462222/js/main-es2015.js\" type=\"module\"></script><script defer=\"\" nomodule=\"\" src=\"/static/aktools/1620462222/js/main-es5.js\"></script></body>\n",
      "</html>\n"
     ]
    }
   ],
   "source": [
    "from bs4 import BeautifulSoup\n",
    "soup = BeautifulSoup(html.content,features='lxml')\n",
    "print(soup)"
   ]
  },
  {
   "cell_type": "code",
   "execution_count": null,
   "metadata": {},
   "outputs": [],
   "source": []
  }
 ],
 "metadata": {
  "kernelspec": {
   "display_name": "Python 3",
   "language": "python",
   "name": "python3"
  },
  "language_info": {
   "codemirror_mode": {
    "name": "ipython",
    "version": 3
   },
   "file_extension": ".py",
   "mimetype": "text/x-python",
   "name": "python",
   "nbconvert_exporter": "python",
   "pygments_lexer": "ipython3",
   "version": "3.7.4"
  }
 },
 "nbformat": 4,
 "nbformat_minor": 2
}
