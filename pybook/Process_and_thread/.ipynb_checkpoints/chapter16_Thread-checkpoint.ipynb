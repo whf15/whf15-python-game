{
 "cells": [
  {
   "cell_type": "markdown",
   "metadata": {},
   "source": [
    "# 什么是线程\n",
    "    线程时操作系统能够进行运算调度的最小单位，被包含在进程之中，是进程中 的实际运作单位。一条线程指的是进程中的一个单一顺序的控制流"
   ]
  },
  {
   "cell_type": "markdown",
   "metadata": {},
   "source": [
    "### 使用threading模块创建线程\n"
   ]
  },
  {
   "cell_type": "code",
   "execution_count": 1,
   "metadata": {},
   "outputs": [],
   "source": [
    "# -*- coding:utf-8 -*-\n",
    "import threading,time\n"
   ]
  },
  {
   "cell_type": "code",
   "execution_count": 4,
   "metadata": {},
   "outputs": [
    {
     "name": "stdout",
     "output_type": "stream",
     "text": [
      "-----父进程开始-----\n",
      "thread name is Thread-12\n",
      "thread name is Thread-10\n",
      "thread name is Thread-13\n",
      "thread name is Thread-11\n",
      "thread name is Thread-12\n",
      "thread name is Thread-13thread name is Thread-11thread name is Thread-10\n",
      "\n",
      "\n",
      "thread name is Thread-12\n",
      "thread name is Thread-13thread name is Thread-10\n",
      "\n",
      "thread name is Thread-11\n",
      "-----父进程结束-----\n"
     ]
    }
   ],
   "source": [
    "def process():\n",
    "    for i in range(3):\n",
    "        time.sleep(1)\n",
    "        print(\"thread name is %s\" % threading.current_thread().name)\n",
    "if __name__ == '__main__':\n",
    "    print(\"-----父进程开始-----\")\n",
    "    threads = [threading.Thread(target=process) for i in range(4)] # 创建4个线程，存入列表\n",
    "    for t in threads:\n",
    "        t.start()  #开启线程\n",
    "    for t in threads:\n",
    "        t.join()   #等待子线程结束\n",
    "    print(\"-----父进程结束-----\")"
   ]
  },
  {
   "cell_type": "markdown",
   "metadata": {},
   "source": [
    "### 使用thread子类创建线程"
   ]
  },
  {
   "cell_type": "code",
   "execution_count": 1,
   "metadata": {},
   "outputs": [],
   "source": [
    "# -*- coding:utf-8 -*-\n",
    "import threading,time"
   ]
  },
  {
   "cell_type": "code",
   "execution_count": 2,
   "metadata": {},
   "outputs": [
    {
     "name": "stdout",
     "output_type": "stream",
     "text": [
      "-----主线程开始-----\n",
      "子线程Thread-6执行，i=0子线程Thread-7执行，i=0\n",
      "\n",
      "子线程Thread-7执行，i=1\n",
      "子线程Thread-6执行，i=1\n",
      "子线程Thread-7执行，i=2\n",
      "子线程Thread-6执行，i=2\n",
      "-----主线程结束-----\n"
     ]
    }
   ],
   "source": [
    "class SubThread(threading.Thread):\n",
    "    def run(self):\n",
    "        for i in range(3):\n",
    "            time.sleep(1)\n",
    "            msg = \"子线程\"+self.name+\"执行，i=\"+str(i)\n",
    "            print(msg)\n",
    "if __name__ == \"__main__\":\n",
    "    print(\"-----主线程开始-----\")\n",
    "    t1 = SubThread()\n",
    "    t2 = SubThread()\n",
    "    t1.start()\n",
    "    t2.start()\n",
    "    t1.join()\n",
    "    t2.join()\n",
    "    print(\"-----主线程结束-----\")\n"
   ]
  },
  {
   "cell_type": "markdown",
   "metadata": {},
   "source": [
    "### 线程之间通信(线程之间可以共享数据)"
   ]
  },
  {
   "cell_type": "code",
   "execution_count": 3,
   "metadata": {},
   "outputs": [],
   "source": [
    "# -*- coding:utf-8 -*-\n",
    "from threading import Thread\n",
    "import time"
   ]
  },
  {
   "cell_type": "code",
   "execution_count": 5,
   "metadata": {},
   "outputs": [
    {
     "name": "stdout",
     "output_type": "stream",
     "text": [
      "-----主线程开始-----\n",
      "-----子线程1开始-----\n",
      "g_num is 150 \n",
      "-----子线程1结束-----\n",
      "-----子线程2开始-----\n",
      "g_num is 100 \n",
      "-----子线程2结束-----\n",
      "-----主线程结束-----\n"
     ]
    }
   ],
   "source": [
    "def plus():\n",
    "    print(\"-----子线程1开始-----\")\n",
    "    global g_sum\n",
    "    g_sum += 50\n",
    "    print('g_num is %d '% g_sum)\n",
    "    print(\"-----子线程1结束-----\")\n",
    "def minus():\n",
    "    time.sleep(1)\n",
    "    print(\"-----子线程2开始-----\")\n",
    "    global g_sum\n",
    "    g_sum -= 50\n",
    "    print('g_num is %d '% g_sum)\n",
    "    print(\"-----子线程2结束-----\")\n",
    "g_sum = 100\n",
    "if __name__ == \"__main__\":\n",
    "    print(\"-----主线程开始-----\")\n",
    "    t1 = Thread(target=plus)\n",
    "    t2 = Thread(target=minus)\n",
    "    t1.start()\n",
    "    t2.start()\n",
    "    t1.join()\n",
    "    t2.join()\n",
    "    print(\"-----主线程结束-----\")\n",
    "    "
   ]
  },
  {
   "cell_type": "markdown",
   "metadata": {},
   "source": [
    "### 什么是互斥锁\n",
    "    由于线程可以对全局变量随意修改，这可能造成多线程之间对全局变量的混乱操作\n",
    "    当这个房子有多个居住者时（多线程），就不能在任意时刻使用某些房间，如卫生间\n",
    "    所以可以在门上加一把锁，先到的人锁上门，后到的人在门口排队，等所开了再进去\n",
    "    \n",
    "    这就是互斥锁（Mutual exclusion，缩写Mutex），防止多个线程同时读写某一块内存区域。"
   ]
  },
  {
   "cell_type": "code",
   "execution_count": 7,
   "metadata": {},
   "outputs": [],
   "source": [
    "# 假设电影院某个场次只有100张电影票，10个用户同时抢购该电影票。每售出一张，显示一次剩余的电影票樟树"
   ]
  },
  {
   "cell_type": "code",
   "execution_count": 13,
   "metadata": {},
   "outputs": [],
   "source": [
    "from threading import Thread,Lock\n",
    "import time\n",
    "n= 100"
   ]
  },
  {
   "cell_type": "code",
   "execution_count": 14,
   "metadata": {},
   "outputs": [
    {
     "name": "stdout",
     "output_type": "stream",
     "text": [
      "购买成功，剩余99张电影票\n",
      "购买成功，剩余98张电影票\n",
      "购买成功，剩余97张电影票\n",
      "购买成功，剩余96张电影票\n",
      "购买成功，剩余95张电影票\n",
      "购买成功，剩余94张电影票\n",
      "购买成功，剩余93张电影票\n",
      "购买成功，剩余92张电影票\n",
      "购买成功，剩余91张电影票\n",
      "购买成功，剩余90张电影票\n"
     ]
    }
   ],
   "source": [
    "def task():\n",
    "    global n\n",
    "    mutex.acquire()\n",
    "    temp = n\n",
    "    time.sleep(0.1)\n",
    "    n = temp - 1\n",
    "    print('购买成功，剩余%d张电影票' % n)\n",
    "    mutex.release()\n",
    "if __name__ == \"__main__\":\n",
    "    mutex = Lock()\n",
    "    t_1 = []\n",
    "    for i in range(10):\n",
    "        t = Thread(target=task)\n",
    "        t_1.append(t)\n",
    "        t.start()\n",
    "    for t in t_1:\n",
    "        t.join()"
   ]
  },
  {
   "cell_type": "code",
   "execution_count": 15,
   "metadata": {},
   "outputs": [],
   "source": [
    "# 使用队列在线程间通信"
   ]
  },
  {
   "cell_type": "code",
   "execution_count": 16,
   "metadata": {},
   "outputs": [],
   "source": [
    "from queue import Queue\n",
    "import random,threading,time\n"
   ]
  },
  {
   "cell_type": "code",
   "execution_count": 22,
   "metadata": {},
   "outputs": [
    {
     "name": "stdout",
     "output_type": "stream",
     "text": [
      "-----主线程开始-----\n",
      "生产者Producer将产品0加入队列！\n",
      "消费者Consumer将产品0从队列中取出！\n",
      "生产者Producer将产品1加入队列！\n",
      "消费者Consumer将产品1从队列中取出！\n",
      "生产者Producer将产品2加入队列！\n",
      "消费者Consumer将产品2从队列中取出！\n",
      "生产者Producer将产品3加入队列！\n",
      "消费者Consumer将产品3从队列中取出！\n",
      "生产者Producer将产品4加入队列！\n",
      "消费者Consumer将产品4从队列中取出！\n",
      "生产者Producer完成！\n",
      "消费者Consumer完成！\n",
      "-----主线程结束-----\n"
     ]
    }
   ],
   "source": [
    "#生产者类\n",
    "class Producer(threading.Thread):\n",
    "    def __init__(self, name, queue):\n",
    "        threading.Thread.__init__(self, name=name)\n",
    "        self.data = queue\n",
    "    def run(self):\n",
    "        for i in range(5):\n",
    "            print(\"生产者%s将产品%d加入队列！\" % (self.getName(), i))\n",
    "            self.data.put(i)\n",
    "            time.sleep(random.random())\n",
    "        print(\"生产者%s完成！\" % self.getName())\n",
    "        \n",
    "# 消费者类\n",
    "class Consumer(threading.Thread):\n",
    "    def __init__(self, name, queue):\n",
    "        threading.Thread.__init__(self, name=name)\n",
    "        self.data = queue\n",
    "    def run(self):\n",
    "        for i in range(5):\n",
    "            val = self.data.get()\n",
    "            print(\"消费者%s将产品%d从队列中取出！\" % (self.getName(),val))\n",
    "            time.sleep(random.random())\n",
    "        print(\"消费者%s完成！\" % self.getName())\n",
    "\n",
    "if __name__ == \"__main__\":\n",
    "    print(\"-----主线程开始-----\")\n",
    "    queue = Queue()\n",
    "    producer = Producer('Producer',queue)\n",
    "    consumer = Consumer('Consumer',queue)\n",
    "    producer.start()\n",
    "    consumer.start()\n",
    "    producer.join()\n",
    "    consumer.join()\n",
    "    print('-----主线程结束-----')"
   ]
  },
  {
   "cell_type": "code",
   "execution_count": null,
   "metadata": {},
   "outputs": [],
   "source": []
  }
 ],
 "metadata": {
  "kernelspec": {
   "display_name": "Python 3",
   "language": "python",
   "name": "python3"
  },
  "language_info": {
   "codemirror_mode": {
    "name": "ipython",
    "version": 3
   },
   "file_extension": ".py",
   "mimetype": "text/x-python",
   "name": "python",
   "nbconvert_exporter": "python",
   "pygments_lexer": "ipython3",
   "version": "3.7.4"
  }
 },
 "nbformat": 4,
 "nbformat_minor": 2
}
