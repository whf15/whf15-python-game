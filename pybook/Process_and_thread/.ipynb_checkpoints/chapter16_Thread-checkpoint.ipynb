{
 "cells": [
  {
   "cell_type": "markdown",
   "metadata": {},
   "source": [
    "# 什么是线程\n",
    "    线程时操作系统能够进行运算调度的最小单位，被包含在进程之中，是进程中 的实际运作单位。一条线程指的是进程中的一个单一顺序的控制流"
   ]
  },
  {
   "cell_type": "markdown",
   "metadata": {},
   "source": [
    "### 使用threading模块创建线程\n"
   ]
  },
  {
   "cell_type": "code",
   "execution_count": 1,
   "metadata": {},
   "outputs": [],
   "source": [
    "# -*- coding:utf-8 -*-\n",
    "import threading,time\n"
   ]
  },
  {
   "cell_type": "code",
   "execution_count": 4,
   "metadata": {},
   "outputs": [
    {
     "name": "stdout",
     "output_type": "stream",
     "text": [
      "-----父进程开始-----\n",
      "thread name is Thread-12\n",
      "thread name is Thread-10\n",
      "thread name is Thread-13\n",
      "thread name is Thread-11\n",
      "thread name is Thread-12\n",
      "thread name is Thread-13thread name is Thread-11thread name is Thread-10\n",
      "\n",
      "\n",
      "thread name is Thread-12\n",
      "thread name is Thread-13thread name is Thread-10\n",
      "\n",
      "thread name is Thread-11\n",
      "-----父进程结束-----\n"
     ]
    }
   ],
   "source": [
    "def process():\n",
    "    for i in range(3):\n",
    "        time.sleep(1)\n",
    "        print(\"thread name is %s\" % threading.current_thread().name)\n",
    "if __name__ == '__main__':\n",
    "    print(\"-----父进程开始-----\")\n",
    "    threads = [threading.Thread(target=process) for i in range(4)] # 创建4个线程，存入列表\n",
    "    for t in threads:\n",
    "        t.start()  #开启线程\n",
    "    for t in threads:\n",
    "        t.join()   #等待子线程结束\n",
    "    print(\"-----父进程结束-----\")"
   ]
  },
  {
   "cell_type": "code",
   "execution_count": null,
   "metadata": {},
   "outputs": [],
   "source": []
  }
 ],
 "metadata": {
  "kernelspec": {
   "display_name": "Python 3",
   "language": "python",
   "name": "python3"
  },
  "language_info": {
   "codemirror_mode": {
    "name": "ipython",
    "version": 3
   },
   "file_extension": ".py",
   "mimetype": "text/x-python",
   "name": "python",
   "nbconvert_exporter": "python",
   "pygments_lexer": "ipython3",
   "version": "3.7.4"
  }
 },
 "nbformat": 4,
 "nbformat_minor": 2
}
