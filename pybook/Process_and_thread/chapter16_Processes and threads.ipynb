{
 "cells": [
  {
   "cell_type": "markdown",
   "metadata": {},
   "source": [
    "# 第十六章之线程与进程\n",
    "    进程（process）是计算机中一运行程序的实体，是程序（指令和数据）的真正运行实例"
   ]
  },
  {
   "cell_type": "markdown",
   "metadata": {},
   "source": [
    "# 使用multiprocessing模块创建进程\n",
    "from multiprocessing import Process\n",
    "#子进程\n",
    "def whfo(interval):\n",
    "    print(\"我是紫禁城\")\n",
    "#主程序\n",
    "def main():\n",
    "    print(\"主进程开始\")\n",
    "    p = Process(target=whfo,args=(1,))\n",
    "    p.start()\n",
    "    print(\"主进程结束\")"
   ]
  },
  {
   "cell_type": "markdown",
   "metadata": {},
   "source": [
    "\n",
    "\n",
    "if __name__ == \"__main__\":\n",
    "    main()"
   ]
  },
  {
   "cell_type": "markdown",
   "metadata": {},
   "source": [
    "### 上述代码先实例化Process类，然后使用p.start()方法启动子进程，开始执行whfo()函数\n",
    "### 因为Idea自身的问题，不会输出子进程的内容，命令行python+文件名可运行"
   ]
  },
  {
   "cell_type": "markdown",
   "metadata": {},
   "source": [
    "# -*- coding：utf-8 -*-\n",
    "from multiprocessing import Process\n",
    "import time\n",
    "import os"
   ]
  },
  {
   "cell_type": "markdown",
   "metadata": {},
   "source": [
    "#两个子进程将会调用的两个方法\n",
    "def child_1(interval):\n",
    "    print(\"子进程(%s)开始执行，父进程为（%s）\"%(os.getpid(),os.getppid))\n",
    "    t_start = time.time() #计时开始\n",
    "    time.sleep(interval)  #程序将会被挂起interval秒\n",
    "    t_end = time.time()   #计时结束\n",
    "    print(\"子进程（%s）执行时间为'%0.2f'秒\"%(os.getpid(),t_end - t_start))\n",
    "    \n",
    "def child_2(interval):\n",
    "    print(\"子进程(%s)开始执行，父进程为（%s）\"%(os.getpid(),os.getppid))\n",
    "    t_start = time.time()    #计时开始\n",
    "    time.sleep(interval)     #程序将会被挂起interval秒\n",
    "    t_end = time.time()      #计时结束\n",
    "    print(\"子进程（%s）执行时间为'%0.2f'秒\"%(os.getpid(),t_end - t_start))\n",
    "\n",
    "if __name__ == '__main__':\n",
    "    print(\"------父进程开始执行------\")\n",
    "    print(\"父进程PID： %s\"% os.getpid())\n",
    "    p1 = Process(target=child_1,args=(1,))\n",
    "    p2 = Process(target=child_2,args=(2,))\n",
    "    p1.start()\n",
    "    p2.start()\n",
    "    # 同时父进程仍然往下执行，如果p2进程还在执行，将会返回True\n",
    "    print(\"p1.is_alive = %s\"%p1.is_alive())\n",
    "    print(\"p2.is_alive = %s\"%p2.is_alive())\n",
    "    #输出p1和p2进程的别名和PID\n",
    "    print(\"p1.name = %s\" %p1.name)\n",
    "    print(\"p1.pid = %s\" %p1.pid)\n",
    "    print(\"p2.name = %s\" %p2.name)\n",
    "    print(\"p2.pid = %s\" %p2.pid)\n",
    "    print(\"-----等待子进程------\")\n",
    "    p1.join()\n",
    "    p2.join()\n",
    "    print(\"-----父进程执行结束-----\")"
   ]
  },
  {
   "cell_type": "code",
   "execution_count": 5,
   "metadata": {},
   "outputs": [
    {
     "name": "stdout",
     "output_type": "stream",
     "text": [
      "------父进程开始执行------\n",
      "父进程PID： 14204\n",
      "p1.is_alive = True\n",
      "p2.is_alive = True\n",
      "p1.name = Process-3\n",
      "p1.pid = 21592\n",
      "p2.name = Process-4\n",
      "p2.pid = 17544\n",
      "-----等待子进程------\n",
      "-----父进程执行结束-----\n"
     ]
    }
   ],
   "source": []
  },
  {
   "cell_type": "markdown",
   "metadata": {},
   "source": [
    "### 第一次实例化Process类时，会为name属性默认赋值为“Process-1”,第二次则默认为“Process-2”,但是由于在实例化进程p2时，设置了name属性为“mrsoft”"
   ]
  },
  {
   "cell_type": "markdown",
   "metadata": {},
   "source": [
    "## 使用Process子类创建进程"
   ]
  },
  {
   "cell_type": "markdown",
   "metadata": {},
   "source": [
    "# -*- coding：utf-8 -*-\n",
    "from multiprocessing import Process\n",
    "import time\n",
    "import os"
   ]
  },
  {
   "cell_type": "markdown",
   "metadata": {},
   "source": [
    "#j继承Precess类\n",
    "class SubProcess(Process):\n",
    "    #由于Process类本身也有__init__初始化方法，这个子类相当于重写了父类这个方法\n",
    "    def __init__(self,interval,name=\"\"):\n",
    "        Process.__init__(self)    # 调用Process符类的胡世华方法\n",
    "        self.interval = interval # 接受参数interval\n",
    "        if name:                 # 判断传递的参数name是否存在\n",
    "            self.name = name     # 如果传递参数name，则为子进程创建name属性，否则使用默认属性\n",
    "    #重写了Process类的run（）方法\n",
    "    def run(self):\n",
    "        print(\"子进程(%s)开始执行，父进程为（%s）\"%(os.getpid(),os.getppid))\n",
    "        t_start = time.time()    #计时开始\n",
    "        time.sleep(interval)     #程序将会被挂起interval秒\n",
    "        t_end = time.time()      #计时结束\n",
    "        print(\"子进程（%s）执行时间为'%0.2f'秒\"%(os.getpid(),t_end - t_start))\n",
    "if __name__ == '__main__':\n",
    "    print(\"------父进程开始执行------\")\n",
    "    print(\"父进程PID： %s\"% os.getpid())\n",
    "    p1 = SubProcess(interval=1)\n",
    "    p2 = SubProcess(interval=2,name=\"mrsoft\")\n",
    "    # 对一个不包含target属性的Process类执行start()方法，就会运行这个类的run()方法\n",
    "    # 会执行p1.run()\n",
    "    p1.start()\n",
    "    p2.start()\n",
    "    # 同时父进程仍然往下执行，如果p2进程还在执行，将会返回True\n",
    "    print(\"p1.is_alive = %s\"%p1.is_alive())\n",
    "    print(\"p2.is_alive = %s\"%p2.is_alive())\n",
    "    #输出p1和p2进程的别名和PID\n",
    "    print(\"p1.name = %s\" %p1.name)\n",
    "    print(\"p1.pid = %s\" %p1.pid)\n",
    "    print(\"p2.name = %s\" %p2.name)\n",
    "    print(\"p2.pid = %s\" %p2.pid)\n",
    "    print(\"-----等待子进程------\")\n",
    "    p1.join()\n",
    "    p2.join()\n",
    "    print(\"-----父进程执行结束-----\")"
   ]
  },
  {
   "cell_type": "code",
   "execution_count": null,
   "metadata": {},
   "outputs": [],
   "source": []
  },
  {
   "cell_type": "markdown",
   "metadata": {},
   "source": [
    "## 使用进程池Pool创建进程\n",
    "    如果要创建几十个或者上百个进程，则需要实例化过呢个多个Process类，使用multiprocessing模块提供的pool类"
   ]
  },
  {
   "cell_type": "code",
   "execution_count": 1,
   "metadata": {},
   "outputs": [],
   "source": [
    "# -*- coding=utf-8 -*-\n",
    "from multiprocessing import Pool\n",
    "import os, time\n"
   ]
  },
  {
   "cell_type": "code",
   "execution_count": 2,
   "metadata": {},
   "outputs": [],
   "source": [
    "def task(name):\n",
    "    print('子进程（%s）执行task %s ....'%(os.getpid() , name))\n",
    "    time.sleep(1)"
   ]
  },
  {
   "cell_type": "code",
   "execution_count": null,
   "metadata": {},
   "outputs": [
    {
     "name": "stdout",
     "output_type": "stream",
     "text": [
      "父进程（33672）.\n",
      "等待所有子进程结束...\n"
     ]
    }
   ],
   "source": [
    "if __name__=='__main__':\n",
    "    print('父进程（%s）.' % os.getpid())\n",
    "    p = Pool(3)\n",
    "    for i in range(10):\n",
    "        p.apply_async(task, args=(i,))\n",
    "    print('等待所有子进程结束...')\n",
    "    p.close()\n",
    "    p.join()\n",
    "    print('所有子进程结束')"
   ]
  },
  {
   "cell_type": "code",
   "execution_count": null,
   "metadata": {},
   "outputs": [],
   "source": []
  }
 ],
 "metadata": {
  "kernelspec": {
   "display_name": "Python 3",
   "language": "python",
   "name": "python3"
  },
  "language_info": {
   "codemirror_mode": {
    "name": "ipython",
    "version": 3
   },
   "file_extension": ".py",
   "mimetype": "text/x-python",
   "name": "python",
   "nbconvert_exporter": "python",
   "pygments_lexer": "ipython3",
   "version": "3.7.4"
  }
 },
 "nbformat": 4,
 "nbformat_minor": 2
}
