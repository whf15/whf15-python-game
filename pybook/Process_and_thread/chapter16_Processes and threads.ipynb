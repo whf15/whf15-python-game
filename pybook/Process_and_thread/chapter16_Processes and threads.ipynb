{
 "cells": [
  {
   "cell_type": "markdown",
   "metadata": {},
   "source": [
    "# 第十六章之线程与进程\n",
    "    进程（process）是计算机中一运行程序的实体，是程序（指令和数据）的真正运行实例"
   ]
  },
  {
   "cell_type": "markdown",
   "metadata": {},
   "source": [
    "# 使用multiprocessing模块创建进程\n",
    "from multiprocessing import Process\n",
    "#子进程\n",
    "def whfo(interval):\n",
    "    print(\"我是紫禁城\")\n",
    "#主程序\n",
    "def main():\n",
    "    print(\"主进程开始\")\n",
    "    p = Process(target=whfo,args=(1,))\n",
    "    p.start()\n",
    "    print(\"主进程结束\")"
   ]
  },
  {
   "cell_type": "markdown",
   "metadata": {},
   "source": [
    "\n",
    "\n",
    "if __name__ == \"__main__\":\n",
    "    main()"
   ]
  },
  {
   "cell_type": "markdown",
   "metadata": {},
   "source": [
    "### 上述代码先实例化Process类，然后使用p.start()方法启动子进程，开始执行whfo()函数\n",
    "### 因为Idea自身的问题，不会输出子进程的内容，命令行python+文件名可运行"
   ]
  },
  {
   "cell_type": "code",
   "execution_count": 1,
   "metadata": {},
   "outputs": [],
   "source": [
    "# -*- coding：utf-8 -*-\n",
    "from multiprocessing import Process\n",
    "import time\n",
    "import os"
   ]
  },
  {
   "cell_type": "code",
   "execution_count": 3,
   "metadata": {},
   "outputs": [],
   "source": [
    "#两个子进程将会调用的两个方法\n",
    "def child_1(interval):\n",
    "    print(\"子进程(%s)开始执行，父进程为（%s）\"%(os.getpid(),os.getppid))\n",
    "    t_start = time.time() #计时开始\n",
    "    time.sleep(interval)  #程序将会被挂起interval秒\n",
    "    t_end = time.time()   #计时结束\n",
    "    print(\"子进程（%s）执行时间为'%0.2f'秒\"%(os.getpid(),t_end - t_start))\n",
    "    \n",
    "def child_2(interval):\n",
    "    print(\"子进程(%s)开始执行，父进程为（%s）\"%(os.getpid(),os.getppid))\n",
    "    t_start = time.time()    #计时开始\n",
    "    time.sleep(interval)     #程序将会被挂起interval秒\n",
    "    t_end = time.time()      #计时结束\n",
    "    print(\"子进程（%s）执行时间为'%0.2f'秒\"%(os.getpid(),t_end - t_start))"
   ]
  },
  {
   "cell_type": "code",
   "execution_count": 5,
   "metadata": {},
   "outputs": [
    {
     "name": "stdout",
     "output_type": "stream",
     "text": [
      "------父进程开始执行------\n",
      "父进程PID： 14204\n",
      "p1.is_alive = True\n",
      "p2.is_alive = True\n",
      "p1.name = Process-3\n",
      "p1.pid = 21592\n",
      "p2.name = Process-4\n",
      "p2.pid = 17544\n",
      "-----等待子进程------\n",
      "-----父进程执行结束-----\n"
     ]
    }
   ],
   "source": [
    "if __name__ == '__main__':\n",
    "    print(\"------父进程开始执行------\")\n",
    "    print(\"父进程PID： %s\"% os.getpid())\n",
    "    p1 = Process(target=child_1,args=(1,))\n",
    "    p2 = Process(target=child_2,args=(2,))\n",
    "    p1.start()\n",
    "    p2.start()\n",
    "    # 同时父进程仍然往下执行，如果p2进程还在执行，将会返回True\n",
    "    print(\"p1.is_alive = %s\"%p1.is_alive())\n",
    "    print(\"p2.is_alive = %s\"%p2.is_alive())\n",
    "    #输出p1和p2进程的别名和PID\n",
    "    print(\"p1.name = %s\" %p1.name)\n",
    "    print(\"p1.pid = %s\" %p1.pid)\n",
    "    print(\"p2.name = %s\" %p2.name)\n",
    "    print(\"p2.pid = %s\" %p2.pid)\n",
    "    print(\"-----等待子进程------\")\n",
    "    p1.join()\n",
    "    p2.join()\n",
    "    print(\"-----父进程执行结束-----\")"
   ]
  },
  {
   "cell_type": "markdown",
   "metadata": {},
   "source": [
    "### 第一次实例化Process类时，会为name属性默认赋值为“Process-1”,第二次则默认为“Process-2”,但是由于在实例化进程p2时，设置了name属性为“mrsoft”"
   ]
  },
  {
   "cell_type": "code",
   "execution_count": null,
   "metadata": {},
   "outputs": [],
   "source": []
  }
 ],
 "metadata": {
  "kernelspec": {
   "display_name": "Python 3",
   "language": "python",
   "name": "python3"
  },
  "language_info": {
   "codemirror_mode": {
    "name": "ipython",
    "version": 3
   },
   "file_extension": ".py",
   "mimetype": "text/x-python",
   "name": "python",
   "nbconvert_exporter": "python",
   "pygments_lexer": "ipython3",
   "version": "3.7.4"
  }
 },
 "nbformat": 4,
 "nbformat_minor": 2
}
