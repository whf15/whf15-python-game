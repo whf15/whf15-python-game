{
 "cells": [
  {
   "cell_type": "code",
   "execution_count": 3,
   "metadata": {},
   "outputs": [],
   "source": [
    "import pymysql"
   ]
  },
  {
   "cell_type": "code",
   "execution_count": 10,
   "metadata": {},
   "outputs": [],
   "source": [
    "conn = pymysql.connect(\n",
    "    host='localhost',\n",
    "    user='root',\n",
    "    password='whfoxxx1999',\n",
    "    db='test',\n",
    "    charset='utf8',\n",
    "    cursorclass=pymysql.cursors.DictCursor\n",
    ")"
   ]
  },
  {
   "cell_type": "markdown",
   "metadata": {},
   "source": [
    "## 创建数据库文件"
   ]
  },
  {
   "cell_type": "code",
   "execution_count": 1,
   "metadata": {},
   "outputs": [],
   "source": [
    "import sqlite3\n",
    "#连接到SQLite数据库\n",
    "#数据库文件时mrsoft.db，如果文件不曾存在，会自动在当前目录创建\n",
    "conn = sqlite3.connect(\"mrsoft.db\")\n",
    "#创建一个Cursor\n",
    "cursor = conn.cursor()\n",
    "#执行一条SQL语句，创建user表\n",
    "cursor.execute(\"create table user(id int(10) primary key, name varchar(20))\")\n",
    "#关闭游标\n",
    "cursor.close()\n",
    "#关闭Connection\n",
    "conn.close()"
   ]
  },
  {
   "cell_type": "markdown",
   "metadata": {},
   "source": [
    "## 操作SQLite\n",
    "    1.新增用户数据信息\n",
    "    2.查看用户数据信息\n",
    "    3.修改用户数据信息\n",
    "    4.删除用户数据信息"
   ]
  },
  {
   "cell_type": "code",
   "execution_count": 5,
   "metadata": {},
   "outputs": [
    {
     "data": {
      "text/plain": [
       "<sqlite3.Cursor at 0x240337b3e30>"
      ]
     },
     "execution_count": 5,
     "metadata": {},
     "output_type": "execute_result"
    }
   ],
   "source": [
    "conn = sqlite3.connect(\"mrsoft.db\")\n",
    "#创建一个Cursor\n",
    "cursor = conn.cursor()\n",
    "cursor.execute('insert into user (id,name) values(\"4\",\"Mrsoft\")')\n",
    "cursor.execute('insert into user (id,name) values(\"5\",\"whf_Mrsoft\")')\n",
    "cursor.execute('insert into user (id,name) values(\"6\",\"测试Mrsoft\")')\n"
   ]
  },
  {
   "cell_type": "code",
   "execution_count": 6,
   "metadata": {},
   "outputs": [
    {
     "name": "stdout",
     "output_type": "stream",
     "text": [
      "(4, 'Mrsoft')\n",
      "[(5, 'whf_Mrsoft'), (6, '测试Mrsoft')]\n",
      "[]\n"
     ]
    }
   ],
   "source": [
    "cursor.execute(\"select * from user\")\n",
    "\n",
    "result1 = cursor.fetchone()\n",
    "print(result1)\n",
    "result2 = cursor.fetchmany(2)\n",
    "print(result2)\n",
    "result3 = cursor.fetchall()\n",
    "print(result3)"
   ]
  },
  {
   "cell_type": "code",
   "execution_count": 7,
   "metadata": {},
   "outputs": [
    {
     "name": "stdout",
     "output_type": "stream",
     "text": [
      "[(4, 'Mrsoft'), (5, 'whf_Mrsoft'), (6, '测试Mrsoft')]\n"
     ]
    }
   ],
   "source": [
    "cursor.execute('select * from user where id > ?',(1,))\n",
    "result3 = cursor.fetchall()\n",
    "print(result3)"
   ]
  },
  {
   "cell_type": "code",
   "execution_count": 8,
   "metadata": {},
   "outputs": [
    {
     "data": {
      "text/plain": [
       "<sqlite3.Cursor at 0x240337cf2d0>"
      ]
     },
     "execution_count": 8,
     "metadata": {},
     "output_type": "execute_result"
    }
   ],
   "source": [
    "cursor = conn.cursor()\n",
    "cursor.execute('update user set name =  ? where id = ?',('mr',1))"
   ]
  },
  {
   "cell_type": "code",
   "execution_count": 9,
   "metadata": {},
   "outputs": [
    {
     "data": {
      "text/plain": [
       "<sqlite3.Cursor at 0x240337cf490>"
      ]
     },
     "execution_count": 9,
     "metadata": {},
     "output_type": "execute_result"
    }
   ],
   "source": [
    "cursor = conn.cursor()\n",
    "cursor.execute('delete from user where id = ?',(1,))"
   ]
  },
  {
   "cell_type": "code",
   "execution_count": null,
   "metadata": {},
   "outputs": [],
   "source": [
    "\n",
    "\n"
   ]
  },
  {
   "cell_type": "code",
   "execution_count": 11,
   "metadata": {},
   "outputs": [
    {
     "name": "stdout",
     "output_type": "stream",
     "text": [
      "Database version : {'VERSION()': '8.0.16'}\n"
     ]
    }
   ],
   "source": [
    "import pymysql\n",
    "#db = pymysql.connect('localhost','root','whfoxxx1999','test')\n",
    "db = pymysql.connect(\n",
    "    host='localhost',\n",
    "    user='root',\n",
    "    password='whfoxxx1999',\n",
    "    db='test',\n",
    "    charset='utf8',\n",
    "    cursorclass=pymysql.cursors.DictCursor\n",
    ")\n",
    "cursor = db.cursor()\n",
    "cursor.execute(\"SELECT VERSION()\")\n",
    "data = cursor.fetchone()\n",
    "print(\"Database version : %s\"%data)\n",
    "db.close()"
   ]
  },
  {
   "cell_type": "code",
   "execution_count": null,
   "metadata": {},
   "outputs": [],
   "source": [
    "CREATE TABLE books (\n",
    "    id int(8) NOT NULL AUTO_INCREMENT,\n",
    "    name varchar(50) NOT NULL,\n",
    "    category varchar(50) NOT NULL,\n",
    "    price decimal(10,2) DEFAULT NULL,\n",
    "    publish_time date DEFAULT NULL,\n",
    "    PRIMARY KEY (id)\n",
    ")ENGINE = MyISAM AUTO_INCREMENT=1 DEFAULT CHARSET=utf8;"
   ]
  },
  {
   "cell_type": "code",
   "execution_count": 14,
   "metadata": {},
   "outputs": [],
   "source": [
    "import pymysql\n",
    "#db = pymysql.connect('localhost','root','whfoxxx1999','test')\n",
    "db = pymysql.connect(\n",
    "    host='localhost',\n",
    "    user='root',\n",
    "    password='whfoxxx1999',\n",
    "    db='test',\n",
    "    charset='utf8',\n",
    "    cursorclass=pymysql.cursors.DictCursor\n",
    ")\n",
    "cursor = db.cursor()\n",
    "cursor.execute(\"DROP TABLE IF EXISTS books\")\n",
    "sql='''\n",
    "CREATE TABLE books (\n",
    "    id int(8) NOT NULL AUTO_INCREMENT,\n",
    "    name varchar(50) NOT NULL,\n",
    "    category varchar(50) NOT NULL,\n",
    "    price decimal(10,2) DEFAULT NULL,\n",
    "    publish_time date DEFAULT NULL,\n",
    "    PRIMARY KEY (id)\n",
    ")ENGINE = MyISAM AUTO_INCREMENT=1 DEFAULT CHARSET=utf8;\n",
    "'''\n",
    "cursor.execute(sql)\n",
    "db.close()"
   ]
  },
  {
   "cell_type": "code",
   "execution_count": 16,
   "metadata": {},
   "outputs": [],
   "source": [
    "data =[\n",
    "    (\"零基础学py\",\"Python\",\"79.80\",\"2021-09-01\"),\n",
    "    (\"零基础学php\",\"PHP\",\"79.80\",\"2021-09-01\"),\n",
    "    (\"零基础学c++\",\"C++\",\"79.80\",\"2021-09-01\"),\n",
    "    (\"零基础学java\",\"Java\",\"79.80\",\"2021-09-01\"),\n",
    "    (\"零基础学ps\",\"PS\",\"79.80\",\"2021-09-01\")\n",
    "]"
   ]
  },
  {
   "cell_type": "code",
   "execution_count": 17,
   "metadata": {},
   "outputs": [],
   "source": [
    "import pymysql\n",
    "#db = pymysql.connect('localhost','root','whfoxxx1999','test')\n",
    "db = pymysql.connect(\n",
    "    host='localhost',\n",
    "    user='root',\n",
    "    password='whfoxxx1999',\n",
    "    db='test',\n",
    "    charset='utf8',\n",
    "    cursorclass=pymysql.cursors.DictCursor\n",
    ")\n",
    "cursor = db.cursor()\n",
    "try:\n",
    "    cursor.executemany(\"insert into books(name,category,price,publish_time) values(%s,%s,%s,%s)\",data)\n",
    "    db.commit()\n",
    "except:\n",
    "    dp.rollback()\n",
    "db.close()"
   ]
  },
  {
   "cell_type": "code",
   "execution_count": null,
   "metadata": {},
   "outputs": [],
   "source": []
  }
 ],
 "metadata": {
  "kernelspec": {
   "display_name": "Python 3",
   "language": "python",
   "name": "python3"
  },
  "language_info": {
   "codemirror_mode": {
    "name": "ipython",
    "version": 3
   },
   "file_extension": ".py",
   "mimetype": "text/x-python",
   "name": "python",
   "nbconvert_exporter": "python",
   "pygments_lexer": "ipython3",
   "version": "3.7.4"
  }
 },
 "nbformat": 4,
 "nbformat_minor": 2
}
