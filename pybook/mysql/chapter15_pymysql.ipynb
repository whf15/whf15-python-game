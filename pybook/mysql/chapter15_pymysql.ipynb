{
 "cells": [
  {
   "cell_type": "code",
   "execution_count": 3,
   "metadata": {},
   "outputs": [],
   "source": [
    "import pymysql"
   ]
  },
  {
   "cell_type": "code",
   "execution_count": 10,
   "metadata": {},
   "outputs": [],
   "source": [
    "conn = pymysql.connect(\n",
    "    host='localhost',\n",
    "    user='root',\n",
    "    password='whfoxxx1999',\n",
    "    db='test',\n",
    "    charset='utf8',\n",
    "    cursorclass=pymysql.cursors.DictCursor\n",
    ")"
   ]
  },
  {
   "cell_type": "markdown",
   "metadata": {},
   "source": [
    "## 创建数据库文件"
   ]
  },
  {
   "cell_type": "code",
   "execution_count": 1,
   "metadata": {},
   "outputs": [],
   "source": [
    "import sqlite3\n",
    "#连接到SQLite数据库\n",
    "#数据库文件时mrsoft.db，如果文件不曾存在，会自动在当前目录创建\n",
    "conn = sqlite3.connect(\"mrsoft.db\")\n",
    "#创建一个Cursor\n",
    "cursor = conn.cursor()\n",
    "#执行一条SQL语句，创建user表\n",
    "cursor.execute(\"create table user(id int(10) primary key, name varchar(20))\")\n",
    "#关闭游标\n",
    "cursor.close()\n",
    "#关闭Connection\n",
    "conn.close()"
   ]
  },
  {
   "cell_type": "markdown",
   "metadata": {},
   "source": [
    "## 操作SQLite\n",
    "    1.新增用户数据信息\n",
    "    2.查看用户数据信息\n",
    "    3.修改用户数据信息\n",
    "    4.删除用户数据信息"
   ]
  },
  {
   "cell_type": "code",
   "execution_count": 5,
   "metadata": {},
   "outputs": [
    {
     "data": {
      "text/plain": [
       "<sqlite3.Cursor at 0x240337b3e30>"
      ]
     },
     "execution_count": 5,
     "metadata": {},
     "output_type": "execute_result"
    }
   ],
   "source": [
    "conn = sqlite3.connect(\"mrsoft.db\")\n",
    "#创建一个Cursor\n",
    "cursor = conn.cursor()\n",
    "cursor.execute('insert into user (id,name) values(\"4\",\"Mrsoft\")')\n",
    "cursor.execute('insert into user (id,name) values(\"5\",\"whf_Mrsoft\")')\n",
    "cursor.execute('insert into user (id,name) values(\"6\",\"测试Mrsoft\")')\n"
   ]
  },
  {
   "cell_type": "code",
   "execution_count": 6,
   "metadata": {},
   "outputs": [
    {
     "name": "stdout",
     "output_type": "stream",
     "text": [
      "(4, 'Mrsoft')\n",
      "[(5, 'whf_Mrsoft'), (6, '测试Mrsoft')]\n",
      "[]\n"
     ]
    }
   ],
   "source": [
    "cursor.execute(\"select * from user\")\n",
    "\n",
    "result1 = cursor.fetchone()\n",
    "print(result1)\n",
    "result2 = cursor.fetchmany(2)\n",
    "print(result2)\n",
    "result3 = cursor.fetchall()\n",
    "print(result3)"
   ]
  },
  {
   "cell_type": "code",
   "execution_count": 7,
   "metadata": {},
   "outputs": [
    {
     "name": "stdout",
     "output_type": "stream",
     "text": [
      "[(4, 'Mrsoft'), (5, 'whf_Mrsoft'), (6, '测试Mrsoft')]\n"
     ]
    }
   ],
   "source": [
    "cursor.execute('select * from user where id > ?',(1,))\n",
    "result3 = cursor.fetchall()\n",
    "print(result3)"
   ]
  },
  {
   "cell_type": "code",
   "execution_count": 8,
   "metadata": {},
   "outputs": [
    {
     "data": {
      "text/plain": [
       "<sqlite3.Cursor at 0x240337cf2d0>"
      ]
     },
     "execution_count": 8,
     "metadata": {},
     "output_type": "execute_result"
    }
   ],
   "source": [
    "cursor = conn.cursor()\n",
    "cursor.execute('update user set name =  ? where id = ?',('mr',1))"
   ]
  },
  {
   "cell_type": "code",
   "execution_count": 9,
   "metadata": {},
   "outputs": [
    {
     "data": {
      "text/plain": [
       "<sqlite3.Cursor at 0x240337cf490>"
      ]
     },
     "execution_count": 9,
     "metadata": {},
     "output_type": "execute_result"
    }
   ],
   "source": [
    "cursor = conn.cursor()\n",
    "cursor.execute('delete from user where id = ?',(1,))"
   ]
  },
  {
   "cell_type": "code",
   "execution_count": null,
   "metadata": {},
   "outputs": [],
   "source": []
  }
 ],
 "metadata": {
  "kernelspec": {
   "display_name": "Python 3",
   "language": "python",
   "name": "python3"
  },
  "language_info": {
   "codemirror_mode": {
    "name": "ipython",
    "version": 3
   },
   "file_extension": ".py",
   "mimetype": "text/x-python",
   "name": "python",
   "nbconvert_exporter": "python",
   "pygments_lexer": "ipython3",
   "version": "3.7.4"
  }
 },
 "nbformat": 4,
 "nbformat_minor": 2
}
