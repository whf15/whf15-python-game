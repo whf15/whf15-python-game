{
 "cells": [
  {
   "cell_type": "markdown",
   "metadata": {},
   "source": [
    "# “百变星君”"
   ]
  },
  {
   "cell_type": "markdown",
   "metadata": {},
   "source": [
    "### 拼接字符串"
   ]
  },
  {
   "cell_type": "code",
   "execution_count": null,
   "metadata": {},
   "outputs": [],
   "source": [
    "# *****任务描述*****\n",
    "\n",
    "# 用变量拼接并打印一句话：\n",
    "# 我叫XXX，我的年龄是28岁身高1.83。我就读于北京大学。我们班男同学有20人，女同学有15人。共计35人\n",
    "\n",
    "# 要求：\n",
    "# 1.标准拼接使用+\n",
    "# 2.使用占位符的任何一款拼接（三选一）\n",
    "# 3.共计人数需要进行计算（不可以直接打印35）\n"
   ]
  },
  {
   "cell_type": "code",
   "execution_count": 2,
   "metadata": {},
   "outputs": [],
   "source": [
    "name = '正正'\n",
    "age = 28\n",
    "height = 1.83\n",
    "school = '北京大学'\n",
    "boys = 20\n",
    "girls = 15"
   ]
  },
  {
   "cell_type": "code",
   "execution_count": 14,
   "metadata": {},
   "outputs": [
    {
     "name": "stdout",
     "output_type": "stream",
     "text": [
      "我叫正正，我的年龄是28岁，身高1.83，我就读于北京大学。我们班男同学有20人，女同学有15人。共计35人\n",
      "我叫正正，我的年龄是28岁，身高1.83，我就读于北京大学，我们班男同学有20人，女同学有15人，共计35人\n"
     ]
    }
   ],
   "source": [
    "total_students = boys + girls\n",
    "\n",
    "main_text_1 = f'我叫{name}，我的年龄是{age}岁，身高{height}，我就读于{school}。我们班男同学有{boys}人，女同学有{girls}人。共计{total_students}人'\n",
    "main_text_2 = '我叫'+ name +'，我的年龄是'+ str(age) + '岁，身高'+ str(height) +'，我就读于'+ school +'，我们班男同学有'+str(boys)+'人，女同学有'+str(girls)+'人，'+'共计'+str(total_students)+'人'\n",
    "\n",
    "print(main_text_1)\n",
    "print(main_text_2)\n"
   ]
  },
  {
   "cell_type": "code",
   "execution_count": null,
   "metadata": {},
   "outputs": [],
   "source": []
  }
 ],
 "metadata": {
  "kernelspec": {
   "display_name": "Python 3",
   "language": "python",
   "name": "python3"
  },
  "language_info": {
   "codemirror_mode": {
    "name": "ipython",
    "version": 3
   },
   "file_extension": ".py",
   "mimetype": "text/x-python",
   "name": "python",
   "nbconvert_exporter": "python",
   "pygments_lexer": "ipython3",
   "version": "3.7.4"
  }
 },
 "nbformat": 4,
 "nbformat_minor": 4
}
