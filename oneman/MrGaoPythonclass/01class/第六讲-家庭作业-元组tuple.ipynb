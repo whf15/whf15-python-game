{
 "cells": [
  {
   "cell_type": "markdown",
   "metadata": {},
   "source": [
    "### 元组tuple家庭作业"
   ]
  },
  {
   "cell_type": "code",
   "execution_count": null,
   "metadata": {},
   "outputs": [],
   "source": [
    "\n",
    "# 基本需求\n",
    "# 1.创建一个元组数据作为筛选简历的条件，条件是层层过滤的，有先后顺序，满足第一个即可入选简历库，\n",
    "#满足前2个可以进入候选名单，全部满足可以进入面试名单。\n",
    "# 条件如下：\n",
    "# 1.本科以上学历\n",
    "# 2.年龄30岁以下\n",
    "# 3.985或211\n",
    "\n",
    "# 2.创建一个列表包含10个人的信息（嵌套列表），个人信息包含姓名，性别，年龄，学历，学校类别。如：\n",
    "##### 课上讲过要将list转换成 tuple\n",
    "# [‘张晓’，‘男’，26，‘本科’，‘985’]\n",
    "# [‘刘蓓’，‘女’，31，‘硕士’，‘双非’]\n",
    "# [‘李慧’，‘女’，24，‘本科’，‘211’]\n",
    "\n",
    "\n",
    "\n",
    "# 输出要求：\n",
    "# 1.通过跟元组的筛选条件对比，分别将满足不同类别的个人信息放入不同的列表中，\n",
    "#   分别是入选简历库列表、候选名单列表、面试名单列表。然后将这3个列表转换为元组（保证数据安全，入选的名单不能被篡改）。\n",
    "# 2.将筛选好的3组的姓名放到列表中，统计人数并打印出来，交给HR（假装）。"
   ]
  },
  {
   "cell_type": "code",
   "execution_count": 4,
   "metadata": {},
   "outputs": [],
   "source": [
    "#系统运行的基本配置\n",
    "requirement=(('本科','硕士','博士'),30,('985','211'))\n",
    "\n",
    "#系统的所需要处理的数据\n",
    "list_all=[  #为什么这么搭配？ 列表套元组？？？\n",
    "    tuple(['张晓','男',35,'本科','211']), #1.每个人的数据不可修改 因为这个是事实存在的\n",
    "    tuple(['冯宇','男',24,'本科','双非']), #2.但是，有可能添加更多的人\n",
    "    tuple(['王丽娜','女',28,'本科','985']),\n",
    "    tuple(['李萍','女',26,'专科','双非']), #注意这个数据 专科\n",
    "    tuple(['徐晴','女',25,'专科','双非']), #注意这个数据 专科\n",
    "    tuple(['马潇潇','女',29,'硕士','211']),\n",
    "    tuple(['张晓','男',27,'硕士','双非']),\n",
    "    tuple(['李青青','女',31,'博士','非']),\n",
    "    tuple(['刘星','男',24,'本科','985']),\n",
    "    tuple(['乔斌','男',30,'硕士','双非'])\n",
    "]"
   ]
  },
  {
   "cell_type": "code",
   "execution_count": 5,
   "metadata": {},
   "outputs": [],
   "source": [
    "#准备好我们需要append数据的列表，用于保存筛选后的数据\n",
    "\n",
    "resume_list=[] #简历库列表\n",
    "choose_list=[] #候选列表\n",
    "interview_list=[] #面试列表\n",
    "\n"
   ]
  },
  {
   "cell_type": "code",
   "execution_count": 6,
   "metadata": {},
   "outputs": [
    {
     "name": "stdout",
     "output_type": "stream",
     "text": [
      "('李萍', '女', 26, '专科', '双非') 未入选\n",
      "('徐晴', '女', 25, '专科', '双非') 未入选\n",
      "简历库--> [('张晓', '男', 35, '本科', '211'), ('冯宇', '男', 24, '本科', '双非'), ('王丽娜', '女', 28, '本科', '985'), ('马潇潇', '女', 29, '硕士', '211'), ('张晓', '男', 27, '硕士', '双非'), ('李青青', '女', 31, '博士', '非'), ('刘星', '男', 24, '本科', '985'), ('乔斌', '男', 30, '硕士', '双非')] \n",
      " 数量 8\n",
      "候选库--> [('冯宇', '男', 24, '本科', '双非'), ('王丽娜', '女', 28, '本科', '985'), ('马潇潇', '女', 29, '硕士', '211'), ('张晓', '男', 27, '硕士', '双非'), ('刘星', '男', 24, '本科', '985')] \n",
      " 数量 5\n",
      "面试库--> [('王丽娜', '女', 28, '本科', '985'), ('马潇潇', '女', 29, '硕士', '211'), ('刘星', '男', 24, '本科', '985')] \n",
      " 数量 3\n"
     ]
    }
   ],
   "source": [
    "\n",
    "for p in list_all: #list_all 遍历全部人员名单\n",
    "    if p[3] in requirement[0]: #取当前人p[3]索引数据（学历），在requirement中进行查询，特别注意需要穿透到元组中的元组\n",
    "        resume_list.append(p)\n",
    "        if p[2]<requirement[1]: #取当前人p[2]索引数据（年龄），在requirement中进行查询年龄标准进行比对\n",
    "            choose_list.append(p)\n",
    "            if p[4] in requirement[2]:#取当前人p[4]索引数据（学校），在requirement中进行查询，特别注意需要穿透到元组中的元组\n",
    "                interview_list.append(p)\n",
    "    else:\n",
    "        print(p,'未入选')\n",
    "                \n",
    "print('简历库-->',resume_list,'\\n','数量',len(resume_list))\n",
    "print('候选库-->',choose_list,'\\n','数量',len(choose_list))\n",
    "print('面试库-->',interview_list,'\\n','数量',len(interview_list))"
   ]
  },
  {
   "cell_type": "code",
   "execution_count": 7,
   "metadata": {},
   "outputs": [
    {
     "name": "stdout",
     "output_type": "stream",
     "text": [
      "入选简历库名单：['张晓', '冯宇', '王丽娜', '马潇潇', '张晓', '李青青', '刘星', '乔斌']，人数：8\n",
      "候选名单：['冯宇', '王丽娜', '马潇潇', '张晓', '刘星']，人数：5\n",
      "面试名单：['王丽娜', '马潇潇', '刘星']，人数：3\n"
     ]
    }
   ],
   "source": [
    "#下边这个就简单了！：）\n",
    "\n",
    "#准备好三个列表 承载不通类型的人名\n",
    "\n",
    "resume_list_name=[] #进入简历库的人员的姓名\n",
    "choose_list_name=[] #进入候选库的人员的姓名\n",
    "interview_list_name=[] #进入面试库的人员姓名\n",
    "\n",
    "for p_resume in resume_list:\n",
    "    resume_list_name.append(p_resume[0])\n",
    "    \n",
    "for p_choose in choose_list:\n",
    "    choose_list_name.append(p_choose[0])\n",
    "    \n",
    "for p_interview in interview_list:\n",
    "    interview_list_name.append(p_interview[0])\n",
    "        \n",
    "print(f'入选简历库名单：{resume_list_name}，人数：{len(resume_list_name)}\\n候选名单：{choose_list_name}，人数：{len(choose_list_name)}\\n面试名单：{interview_list_name}，人数：{len(interview_list_name)}')    \n",
    "\n"
   ]
  },
  {
   "cell_type": "code",
   "execution_count": null,
   "metadata": {},
   "outputs": [],
   "source": []
  },
  {
   "cell_type": "code",
   "execution_count": null,
   "metadata": {},
   "outputs": [],
   "source": []
  }
 ],
 "metadata": {
  "kernelspec": {
   "display_name": "Python 3",
   "language": "python",
   "name": "python3"
  },
  "language_info": {
   "codemirror_mode": {
    "name": "ipython",
    "version": 3
   },
   "file_extension": ".py",
   "mimetype": "text/x-python",
   "name": "python",
   "nbconvert_exporter": "python",
   "pygments_lexer": "ipython3",
   "version": "3.7.4"
  }
 },
 "nbformat": 4,
 "nbformat_minor": 4
}
