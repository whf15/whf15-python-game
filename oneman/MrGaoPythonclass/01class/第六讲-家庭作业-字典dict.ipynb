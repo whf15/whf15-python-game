{
 "cells": [
  {
   "cell_type": "markdown",
   "metadata": {},
   "source": [
    "## 字典dict家庭作业"
   ]
  },
  {
   "cell_type": "code",
   "execution_count": null,
   "metadata": {},
   "outputs": [],
   "source": [
    "# 第一步 建立字典\n",
    "\n",
    "# 第二步 向字典添加购物小票的数据，包括商品名称和单价\n",
    "\n",
    "# 第三步 将你购买的商品信息添加到列表中，包括商品名称、单价、购买数量、折扣\n",
    "\n",
    "# 第四步 计算你购买的商品总金额，看是否跟小票金额对得上。\n",
    "\n",
    "#注意本作业重点在构建数据结构上，计算相对简单。 \n"
   ]
  },
  {
   "cell_type": "code",
   "execution_count": null,
   "metadata": {},
   "outputs": [],
   "source": [
    "#小票内容\n",
    "\n",
    "#    品名     单价    数量     折扣\n",
    "# '84消毒液'     8    2        1 \n",
    "# '大宝护手霜'   16    2       0.8\n",
    "# '青岛啤酒'    3.5   10       0.9\n",
    "# '精品三黄鸡'   20    1        1\n"
   ]
  },
  {
   "cell_type": "markdown",
   "metadata": {},
   "source": [
    "### 第一种构建方式"
   ]
  },
  {
   "cell_type": "code",
   "execution_count": 1,
   "metadata": {},
   "outputs": [
    {
     "name": "stdout",
     "output_type": "stream",
     "text": [
      "{'商品': '84消毒液', '单价': 8, '数量': 2, '折扣': 1}\n",
      "{'商品': '大宝护手霜', '单价': 16, '数量': 2, '折扣': 0.8}\n",
      "{'商品': '青岛啤酒', '单价': 3.5, '数量': 10, '折扣': 0.9}\n",
      "{'商品': '精品三黄鸡', '单价': 20, '数量': 1, '折扣': 1}\n"
     ]
    }
   ],
   "source": [
    "#第一种结构 列表内嵌套字典\n",
    "\n",
    "#    品名     单价    数量     折扣\n",
    "# '84消毒液'     8    2        1 \n",
    "# '大宝护手霜'   16    2       0.8\n",
    "# '青岛啤酒'    3.5   10       0.9\n",
    "# '精品三黄鸡'   20    1        1\n",
    "\n",
    "total_new = []\n",
    "\n",
    "products = [\n",
    "    {'商品':'84消毒液', '单价':8, '数量':2, '折扣':1},\n",
    "    {'商品':'大宝护手霜', '单价':16, '数量':2, '折扣':0.8},\n",
    "    {'商品':'青岛啤酒', '单价':3.5, '数量':10, '折扣':0.9},\n",
    "    {'商品':'精品三黄鸡', '单价':20, '数量':1, '折扣':1}, \n",
    "]\n",
    "for product in products:\n",
    "    print(product)"
   ]
  },
  {
   "cell_type": "code",
   "execution_count": 3,
   "metadata": {},
   "outputs": [
    {
     "name": "stdout",
     "output_type": "stream",
     "text": [
      "84消毒液 8 2 1\n",
      "大宝护手霜 16 2 0.8\n",
      "青岛啤酒 3.5 10 0.9\n",
      "精品三黄鸡 20 1 1\n"
     ]
    }
   ],
   "source": [
    "for product in products:\n",
    "    print(product['商品'], product['单价'],product['数量'],product['折扣'])\n",
    "    total_new.append(product['单价']*product['数量']*product['折扣'])\n",
    "    "
   ]
  },
  {
   "cell_type": "code",
   "execution_count": 4,
   "metadata": {},
   "outputs": [
    {
     "name": "stdout",
     "output_type": "stream",
     "text": [
      "[16, 25.6, 31.5, 20]\n"
     ]
    }
   ],
   "source": [
    "print(total_new)"
   ]
  },
  {
   "cell_type": "code",
   "execution_count": 5,
   "metadata": {},
   "outputs": [
    {
     "name": "stdout",
     "output_type": "stream",
     "text": [
      "总金额-> 93.1\n"
     ]
    }
   ],
   "source": [
    "print('总金额->',sum(total_new))"
   ]
  },
  {
   "cell_type": "markdown",
   "metadata": {},
   "source": [
    "### 第二种构建方式"
   ]
  },
  {
   "cell_type": "code",
   "execution_count": 6,
   "metadata": {},
   "outputs": [
    {
     "name": "stdout",
     "output_type": "stream",
     "text": [
      "84消毒液 [8, 2, 1]\n",
      "大宝护手霜 [16, 2, 0.8]\n",
      "青岛啤酒 [3.5, 10, 0.9]\n",
      "精品三黄鸡 [20, 1, 1]\n"
     ]
    }
   ],
   "source": [
    "#第二种结构 字典 内 列表作为值\n",
    "products = {\n",
    "    '84消毒液':  [8,2,1], #列表中索引0 是 单价，索引1是数量，索引2是 折扣\n",
    "    '大宝护手霜': [16,2,0.8],\n",
    "    '青岛啤酒':   [3.5,10,0.9],\n",
    "    '精品三黄鸡': [20,1,1],\n",
    "}\n",
    "total = []\n",
    "for product,detail in products.items():\n",
    "    print(product,detail)"
   ]
  },
  {
   "cell_type": "code",
   "execution_count": 7,
   "metadata": {},
   "outputs": [
    {
     "name": "stdout",
     "output_type": "stream",
     "text": [
      "84消毒液 16\n",
      "大宝护手霜 25.6\n",
      "青岛啤酒 31.5\n",
      "精品三黄鸡 20\n"
     ]
    }
   ],
   "source": [
    "for product,detail in products.items():\n",
    "    print(product,detail[0]*detail[1]*detail[2])"
   ]
  },
  {
   "cell_type": "code",
   "execution_count": 8,
   "metadata": {},
   "outputs": [],
   "source": [
    "for product,detail in products.items():\n",
    "    total.append(detail[0]*detail[1]*detail[2])"
   ]
  },
  {
   "cell_type": "code",
   "execution_count": 9,
   "metadata": {},
   "outputs": [
    {
     "name": "stdout",
     "output_type": "stream",
     "text": [
      "[16, 25.6, 31.5, 20]\n"
     ]
    }
   ],
   "source": [
    "print(total)"
   ]
  },
  {
   "cell_type": "code",
   "execution_count": 10,
   "metadata": {},
   "outputs": [
    {
     "name": "stdout",
     "output_type": "stream",
     "text": [
      "总金额-> 93.1\n"
     ]
    }
   ],
   "source": [
    "print('总金额->',sum(total))"
   ]
  },
  {
   "cell_type": "code",
   "execution_count": null,
   "metadata": {},
   "outputs": [],
   "source": []
  }
 ],
 "metadata": {
  "kernelspec": {
   "display_name": "Python 3",
   "language": "python",
   "name": "python3"
  },
  "language_info": {
   "codemirror_mode": {
    "name": "ipython",
    "version": 3
   },
   "file_extension": ".py",
   "mimetype": "text/x-python",
   "name": "python",
   "nbconvert_exporter": "python",
   "pygments_lexer": "ipython3",
   "version": "3.7.4"
  }
 },
 "nbformat": 4,
 "nbformat_minor": 4
}
