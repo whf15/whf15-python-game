{
 "cells": [
  {
   "cell_type": "markdown",
   "metadata": {},
   "source": [
    "# “门当户对”"
   ]
  },
  {
   "cell_type": "markdown",
   "metadata": {},
   "source": [
    "### 名人猜猜猜"
   ]
  },
  {
   "cell_type": "code",
   "execution_count": 1,
   "metadata": {},
   "outputs": [
    {
     "name": "stdout",
     "output_type": "stream",
     "text": [
      "\n",
      " <<<猜名人小游戏>>>根据下列描述，猜猜是哪位名人？你还有 3 次机会 \n",
      "\n",
      "\n",
      " 篮球运动员 \n",
      " 位置是中锋 \n",
      " 效力过NBA \n",
      " 当过奥运火炬手 \n",
      "\n",
      "请输入你的答案：\n",
      "**********你猜错了哦**********\n",
      "\n",
      " <<<猜名人小游戏>>>根据下列描述，猜猜是哪位名人？你还有 2 次机会 \n",
      "\n",
      "\n",
      " 篮球运动员 \n",
      " 位置是中锋 \n",
      " 效力过NBA \n",
      " 当过奥运火炬手 \n",
      "\n",
      "请输入你的答案：\n",
      "**********你猜错了哦**********\n",
      "\n",
      " <<<猜名人小游戏>>>根据下列描述，猜猜是哪位名人？你还有 1 次机会 \n",
      "\n",
      "\n",
      " 篮球运动员 \n",
      " 位置是中锋 \n",
      " 效力过NBA \n",
      " 当过奥运火炬手 \n",
      "\n",
      "请输入你的答案：\n",
      "**********你猜错了哦**********\n",
      "**********抱歉，你的机会用光了**********\n"
     ]
    }
   ],
   "source": [
    "answer='姚明'\n",
    "des_1='篮球运动员'\n",
    "des_2='位置是中锋'\n",
    "des_3='效力过NBA'\n",
    "des_4='当过奥运火炬手'\n",
    "\n",
    "chances=3\n",
    "\n",
    "while chances>0:\n",
    "    print('\\n','<<<猜名人小游戏>>>根据下列描述，猜猜是哪位名人？你还有',chances,'次机会','\\n')\n",
    "    print('\\n',des_1,'\\n',des_2,'\\n',des_3,'\\n',des_4,'\\n')\n",
    "    guess=input('请输入你的答案：')\n",
    "    if guess!=answer:\n",
    "        print('**********你猜错了哦**********')\n",
    "        chances -= 1\n",
    "    else:\n",
    "        print('**********恭喜你，猜对了！**********')\n",
    "        break\n",
    "        \n",
    "if chances==0:\n",
    "    print('**********抱歉，你的机会用光了**********')"
   ]
  },
  {
   "cell_type": "markdown",
   "metadata": {},
   "source": [
    "###  身份证取生日"
   ]
  },
  {
   "cell_type": "code",
   "execution_count": 6,
   "metadata": {},
   "outputs": [],
   "source": [
    "id_number_1 = '37070519880819003X'\n",
    "id_number_2 = '110105199212153324'\n",
    "id_number_3 = '14001420001001512X'"
   ]
  },
  {
   "cell_type": "code",
   "execution_count": 7,
   "metadata": {
    "scrolled": true
   },
   "outputs": [
    {
     "name": "stdout",
     "output_type": "stream",
     "text": [
      "18\n"
     ]
    }
   ],
   "source": [
    "print(len(id_number_1))"
   ]
  },
  {
   "cell_type": "code",
   "execution_count": 8,
   "metadata": {},
   "outputs": [
    {
     "name": "stdout",
     "output_type": "stream",
     "text": [
      "19880819\n"
     ]
    }
   ],
   "source": [
    "print(id_number_1[6:14]) #全部从左到右定位\n"
   ]
  },
  {
   "cell_type": "code",
   "execution_count": 11,
   "metadata": {},
   "outputs": [
    {
     "name": "stdout",
     "output_type": "stream",
     "text": [
      "4\n"
     ]
    }
   ],
   "source": [
    "print(id_number_2[-1]) #起点：从左到右 终点：从右到左\n"
   ]
  },
  {
   "cell_type": "code",
   "execution_count": null,
   "metadata": {},
   "outputs": [],
   "source": [
    "print(id_number_3[-12:-4]) #全部从右到左定位"
   ]
  }
 ],
 "metadata": {
  "kernelspec": {
   "display_name": "Python 3",
   "language": "python",
   "name": "python3"
  },
  "language_info": {
   "codemirror_mode": {
    "name": "ipython",
    "version": 3
   },
   "file_extension": ".py",
   "mimetype": "text/x-python",
   "name": "python",
   "nbconvert_exporter": "python",
   "pygments_lexer": "ipython3",
   "version": "3.7.6"
  }
 },
 "nbformat": 4,
 "nbformat_minor": 4
}
