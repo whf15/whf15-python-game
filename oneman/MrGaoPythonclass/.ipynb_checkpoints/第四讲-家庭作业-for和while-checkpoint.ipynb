{
 "cells": [
  {
   "cell_type": "markdown",
   "metadata": {},
   "source": [
    "# 循环for和while"
   ]
  },
  {
   "cell_type": "markdown",
   "metadata": {},
   "source": [
    "### 1. 0-100之间的偶数"
   ]
  },
  {
   "cell_type": "code",
   "execution_count": 3,
   "metadata": {
    "collapsed": true
   },
   "outputs": [
    {
     "name": "stdout",
     "output_type": "stream",
     "text": [
      "0\n",
      "2\n",
      "4\n",
      "6\n",
      "8\n",
      "10\n",
      "12\n",
      "14\n",
      "16\n",
      "18\n",
      "20\n",
      "22\n",
      "24\n",
      "26\n",
      "28\n",
      "30\n",
      "32\n",
      "34\n",
      "36\n",
      "38\n",
      "40\n",
      "42\n",
      "44\n",
      "46\n",
      "48\n",
      "50\n",
      "52\n",
      "54\n",
      "56\n",
      "58\n",
      "60\n",
      "62\n",
      "64\n",
      "66\n",
      "68\n",
      "70\n",
      "72\n",
      "74\n",
      "76\n",
      "78\n",
      "80\n",
      "82\n",
      "84\n",
      "86\n",
      "88\n",
      "90\n",
      "92\n",
      "94\n",
      "96\n",
      "98\n"
     ]
    }
   ],
   "source": [
    "for i in range(100):\n",
    "    if i%2 == 0: #余数==0 \n",
    "        print(i)"
   ]
  },
  {
   "cell_type": "markdown",
   "metadata": {},
   "source": [
    "### 2. 0-100之间的总和"
   ]
  },
  {
   "cell_type": "code",
   "execution_count": 4,
   "metadata": {},
   "outputs": [
    {
     "name": "stdout",
     "output_type": "stream",
     "text": [
      "5050\n"
     ]
    }
   ],
   "source": [
    "total = 0\n",
    "for i in range(101): #101包含100 0-100 正好101个数字\n",
    "    total = total + i\n",
    "    \n",
    "print(total)"
   ]
  },
  {
   "cell_type": "markdown",
   "metadata": {},
   "source": [
    "### 3. 猜价格"
   ]
  },
  {
   "cell_type": "code",
   "execution_count": 5,
   "metadata": {
    "collapsed": true
   },
   "outputs": [
    {
     "name": "stdout",
     "output_type": "stream",
     "text": [
      "你猜多少money：1\n",
      "再来一次吧\n",
      "你猜多少money：5\n",
      "再来一次吧\n",
      "你猜多少money：100\n",
      "猜对对了！\n"
     ]
    }
   ],
   "source": [
    "#第一种写法\n",
    "my_price = 100\n",
    "while True:\n",
    "    guess_price = input('你猜多少money：')\n",
    "    if str(my_price) ==  guess_price:\n",
    "        print('猜对对了！')\n",
    "        break\n",
    "    else:\n",
    "        print(\"再来一次吧\")"
   ]
  },
  {
   "cell_type": "code",
   "execution_count": 6,
   "metadata": {},
   "outputs": [
    {
     "name": "stdout",
     "output_type": "stream",
     "text": [
      "你猜多少money：19\n",
      "再来一次吧\n",
      "你猜多少money：8\n",
      "再来一次吧\n",
      "你猜多少money：100\n",
      "猜对对了！\n"
     ]
    }
   ],
   "source": [
    "#第二种写法\n",
    "my_price = 100\n",
    "status = True  #单独把状态拿出来 做变更\n",
    "while status:\n",
    "    guess_price = input('你猜多少money：')\n",
    "    if str(my_price) ==  guess_price:\n",
    "        print('猜对对了！')\n",
    "        status = False\n",
    "    else:\n",
    "        print(\"再来一次吧\")"
   ]
  },
  {
   "cell_type": "markdown",
   "metadata": {},
   "source": [
    "### 4.做一个模拟登陆"
   ]
  },
  {
   "cell_type": "code",
   "execution_count": 7,
   "metadata": {},
   "outputs": [
    {
     "name": "stdout",
     "output_type": "stream",
     "text": [
      "请输入用户名：ggg\n",
      "请输入密码：1111\n",
      "用户名或密码不正确！\n",
      "请输入用户名：gz\n",
      "请输入密码：333\n",
      "用户名或密码不正确！\n",
      "请输入用户名：gz\n",
      "请输入密码：123\n",
      "登陆成功！欢迎来到万门大学VIP中心\n"
     ]
    }
   ],
   "source": [
    "username = 'gz'\n",
    "password = '123'\n",
    "while True:\n",
    "    login_user = input('请输入用户名：')\n",
    "    login_pwd  = input('请输入密码：')\n",
    "    if login_user == username and login_pwd == password :\n",
    "        print('登陆成功！欢迎来到万门大学VIP中心')\n",
    "        break\n",
    "    else:\n",
    "        print('用户名或密码不正确！')"
   ]
  },
  {
   "cell_type": "markdown",
   "metadata": {},
   "source": [
    "\n",
    "##  投币猜数字小游戏\n",
    " "
   ]
  },
  {
   "cell_type": "code",
   "execution_count": 252,
   "metadata": {
    "collapsed": true
   },
   "outputs": [
    {
     "name": "stdout",
     "output_type": "stream",
     "text": [
      "\n",
      " 欢迎来到猜数字小游戏，刚开始你有10个币，每猜一次消耗2个币，猜对了可以得到10币的奖励 \n",
      "\n",
      "\n",
      " 规则：答案是由两位数字组成，每位数字都是0-9之间的随机整数，有难度哦！ \n",
      "\n",
      "请输入你猜的数字：->30\n",
      "*****你猜小了哦，你还剩 8 个币 还有 4 次机会啦*****\n",
      "请输入你猜的数字：->50\n",
      "*****你猜大了哦，你还剩 6 个币 还有 3 次机会啦*****\n",
      "请输入你猜的数字：->40\n",
      "*****你猜小了哦，你还剩 4 个币 还有 2 次机会啦*****\n",
      "请输入你猜的数字：->45\n",
      "*****BINGO！你真棒！猜对了！奖励你10个币*****\n",
      "*****你现在有 12 个币了，继续玩吧！*****\n",
      "请输入你猜的数字：->8\n",
      "*****你猜小了哦，你还剩 10 个币 还有 5 次机会啦*****\n",
      "请输入你猜的数字：->4\n",
      "*****你猜小了哦，你还剩 8 个币 还有 4 次机会啦*****\n",
      "请输入你猜的数字：->3\n",
      "*****你猜小了哦，你还剩 6 个币 还有 3 次机会啦*****\n",
      "请输入你猜的数字：->5\n",
      "*****你猜小了哦，你还剩 4 个币 还有 2 次机会啦*****\n",
      "请输入你猜的数字：->3\n",
      "*****你猜小了哦，你还剩 2 个币 还有 1 次机会啦*****\n",
      "请输入你猜的数字：->6\n",
      "*****你猜小了哦，你还剩 0 个币 还有 0 次机会啦*****\n",
      "\n",
      "*****抱歉，你的币用光啦！问妈妈要钱，去买币吧：（*****\n",
      "真正的答案是： 59\n"
     ]
    }
   ],
   "source": [
    "#猜数字小游戏\n",
    "#导入time库 Python标准库\n",
    "import time\n",
    "#导入随机库 Python标准库\n",
    "import random\n",
    "\n",
    "#定义一下数字答案，共两位数字组成 满足这个两位随机条件我们使用random随机下的randint整数范围随机\n",
    "number = random.randint(10,99) #  str(random.randint(0,9)) + str(random.randint(0,9)) int('11')  0 + 8 08 int(8)\n",
    " \n",
    "# #去掉下面这一行前面的#，可以偷偷看答案\n",
    "# print(number)\n",
    "\n",
    "#定义一个可以猜几次的次数(硬币)\n",
    "money = 10\n",
    "#打印游戏说明\n",
    "print('\\n','欢迎来到猜数字小游戏，刚开始你有10个币，每猜一次消耗2个币，猜对了可以得到10币的奖励','\\n')\n",
    "print('\\n','规则：答案是由两位数字组成，每位数字都是0-9之间的随机整数，有难度哦！','\\n')\n",
    "#定义一个循环\n",
    "while money > 0:\n",
    "#暂停1秒钟\n",
    "    time.sleep(1)\n",
    "    guess_number = int(input('请输入你猜的数字：->'))\n",
    "    if number > guess_number:\n",
    "        money-=2 #money = money - 2\n",
    "        print('*****你猜小了哦，你还剩',money,'个币','还有',int(money/2),'次机会啦*****')\n",
    "    elif number < guess_number:\n",
    "        money-=2\n",
    "        print('*****你猜大了哦，你还剩',money,'个币','还有',int(money/2),'次机会啦*****')\n",
    "    else:\n",
    "        print('*****BINGO！你真棒！猜对了！奖励你10个币*****')\n",
    "        money-=2\n",
    "        money+=10\n",
    "        print('*****你现在有',money,'个币了，继续玩吧！*****')\n",
    "        #重置随机数答案，继续玩\n",
    "        number = random.randint(10,99)\n",
    "        #break\n",
    "#判断是否用尽了机会\n",
    "if money == 0:\n",
    "    print('\\n*****抱歉，你的币用光啦！问妈妈要钱，去买币吧：（*****')\n",
    "    print('真正的答案是：',number)"
   ]
  },
  {
   "cell_type": "code",
   "execution_count": null,
   "metadata": {},
   "outputs": [],
   "source": []
  }
 ],
 "metadata": {
  "kernelspec": {
   "display_name": "Python 3",
   "language": "python",
   "name": "python3"
  },
  "language_info": {
   "codemirror_mode": {
    "name": "ipython",
    "version": 3
   },
   "file_extension": ".py",
   "mimetype": "text/x-python",
   "name": "python",
   "nbconvert_exporter": "python",
   "pygments_lexer": "ipython3",
   "version": "3.7.4"
  }
 },
 "nbformat": 4,
 "nbformat_minor": 4
}
