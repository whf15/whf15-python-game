{
 "cells": [
  {
   "cell_type": "code",
   "execution_count": 2,
   "metadata": {},
   "outputs": [],
   "source": [
    "import random\n",
    "import string"
   ]
  },
  {
   "cell_type": "code",
   "execution_count": 7,
   "metadata": {},
   "outputs": [
    {
     "name": "stdout",
     "output_type": "stream",
     "text": [
      "your code is :  sMQkphnD\n",
      "what is your name? whf15\n",
      "what is your code? sMQkphnD\n",
      "login access\n",
      " Welcome whf15\n"
     ]
    }
   ],
   "source": [
    "code = ''.join(random.sample((string.digits+string.ascii_lowercase+string.ascii_uppercase),8))\n",
    "print(\"your code is : \",code)\n",
    "current_name = input(\"what is your name? \")\n",
    "current_code = input(\"what is your code? \")\n",
    "if current_code == code:\n",
    "    print(\"login access\\n\",\"Welcome \"+current_name)    \n",
    "else:\n",
    "    print(\"login faild\")"
   ]
  },
  {
   "cell_type": "code",
   "execution_count": 8,
   "metadata": {},
   "outputs": [],
   "source": [
    "import time"
   ]
  },
  {
   "cell_type": "code",
   "execution_count": 10,
   "metadata": {},
   "outputs": [
    {
     "name": "stdout",
     "output_type": "stream",
     "text": [
      "current time is :  Tue Jul 27 11:18:07 2021\n"
     ]
    }
   ],
   "source": [
    "print(\"current time is : \",time.ctime(time.time()))"
   ]
  },
  {
   "cell_type": "code",
   "execution_count": 12,
   "metadata": {},
   "outputs": [
    {
     "data": {
      "text/plain": [
       "24.968009737523797"
      ]
     },
     "execution_count": 12,
     "metadata": {},
     "output_type": "execute_result"
    }
   ],
   "source": [
    "BMI = 80/(1.79*1.79)\n",
    "BMI"
   ]
  },
  {
   "cell_type": "code",
   "execution_count": 5,
   "metadata": {},
   "outputs": [
    {
     "data": {
      "text/plain": [
       "['1989', '1998', '2000', '1975', '1968', '1937', '1958', '1990']"
      ]
     },
     "execution_count": 5,
     "metadata": {},
     "output_type": "execute_result"
    }
   ],
   "source": [
    "li = ['89','98','00','75','68','37','58','90']\n",
    "ll = []\n",
    "for i in li:\n",
    "    if i == '00':\n",
    "        a = '20'+i\n",
    "    else :\n",
    "        a = '19'+i\n",
    "    ll.append(a)\n",
    "ll"
   ]
  },
  {
   "cell_type": "code",
   "execution_count": null,
   "metadata": {},
   "outputs": [],
   "source": []
  }
 ],
 "metadata": {
  "kernelspec": {
   "display_name": "Python 3",
   "language": "python",
   "name": "python3"
  },
  "language_info": {
   "codemirror_mode": {
    "name": "ipython",
    "version": 3
   },
   "file_extension": ".py",
   "mimetype": "text/x-python",
   "name": "python",
   "nbconvert_exporter": "python",
   "pygments_lexer": "ipython3",
   "version": "3.7.4"
  }
 },
 "nbformat": 4,
 "nbformat_minor": 2
}
