{
 "cells": [
  {
   "cell_type": "code",
   "execution_count": 2,
   "metadata": {},
   "outputs": [],
   "source": [
    "import random\n",
    "import string"
   ]
  },
  {
   "cell_type": "code",
   "execution_count": 7,
   "metadata": {},
   "outputs": [
    {
     "name": "stdout",
     "output_type": "stream",
     "text": [
      "your code is :  sMQkphnD\n",
      "what is your name? whf15\n",
      "what is your code? sMQkphnD\n",
      "login access\n",
      " Welcome whf15\n"
     ]
    }
   ],
   "source": [
    "code = ''.join(random.sample((string.digits+string.ascii_lowercase+string.ascii_uppercase),8))\n",
    "print(\"your code is : \",code)\n",
    "current_name = input(\"what is your name? \")\n",
    "current_code = input(\"what is your code? \")\n",
    "if current_code == code:\n",
    "    print(\"login access\\n\",\"Welcome \"+current_name)    \n",
    "else:\n",
    "    print(\"login faild\")"
   ]
  },
  {
   "cell_type": "code",
   "execution_count": null,
   "metadata": {},
   "outputs": [],
   "source": []
  }
 ],
 "metadata": {
  "kernelspec": {
   "display_name": "Python 3",
   "language": "python",
   "name": "python3"
  },
  "language_info": {
   "codemirror_mode": {
    "name": "ipython",
    "version": 3
   },
   "file_extension": ".py",
   "mimetype": "text/x-python",
   "name": "python",
   "nbconvert_exporter": "python",
   "pygments_lexer": "ipython3",
   "version": "3.7.4"
  }
 },
 "nbformat": 4,
 "nbformat_minor": 2
}
