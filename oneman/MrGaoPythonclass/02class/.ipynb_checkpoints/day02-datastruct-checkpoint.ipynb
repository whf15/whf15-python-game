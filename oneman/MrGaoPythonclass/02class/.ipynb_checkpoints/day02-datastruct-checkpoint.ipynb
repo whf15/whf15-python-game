{
 "cells": [
  {
   "cell_type": "markdown",
   "metadata": {},
   "source": [
    "计算字符串的长度"
   ]
  },
  {
   "cell_type": "code",
   "execution_count": 4,
   "metadata": {},
   "outputs": [],
   "source": [
    "str1 = '人生苦短，我用python'\n"
   ]
  },
  {
   "cell_type": "code",
   "execution_count": 5,
   "metadata": {},
   "outputs": [
    {
     "name": "stdout",
     "output_type": "stream",
     "text": [
      "13\n",
      "27\n"
     ]
    }
   ],
   "source": [
    "len1 = len(str1)\n",
    "print(len1)\n",
    "len2 = len(str1.encode())\n",
    "print(len2)"
   ]
  },
  {
   "cell_type": "markdown",
   "metadata": {},
   "source": [
    "字符串切片"
   ]
  },
  {
   "cell_type": "code",
   "execution_count": 11,
   "metadata": {},
   "outputs": [
    {
     "name": "stdout",
     "output_type": "stream",
     "text": [
      "人生苦短，我用python\n",
      "生 我用python 人生苦短， 苦短，\n"
     ]
    }
   ],
   "source": [
    "sub1 = str1[1]\n",
    "sub2 = str1[5:]\n",
    "sub3 = str1[:5]\n",
    "sub4 = str1[2:5]\n",
    "print(str1)\n",
    "print(sub1,sub2,sub3,sub4,end='\\n')"
   ]
  },
  {
   "cell_type": "code",
   "execution_count": 12,
   "metadata": {},
   "outputs": [
    {
     "name": "stdout",
     "output_type": "stream",
     "text": [
      "指定的索引不存在\n"
     ]
    }
   ],
   "source": [
    "try:\n",
    "    substr = str1[15]\n",
    "except:\n",
    "    print(\"指定的索引不存在\")"
   ]
  },
  {
   "cell_type": "markdown",
   "metadata": {},
   "source": [
    "## 使用re模块实现正则表达式"
   ]
  },
  {
   "cell_type": "markdown",
   "metadata": {},
   "source": [
    "### 1.使用match ?re.match(pattern, string, [flags])"
   ]
  },
  {
   "cell_type": "code",
   "execution_count": 19,
   "metadata": {},
   "outputs": [
    {
     "name": "stdout",
     "output_type": "stream",
     "text": [
      "<re.Match object; span=(0, 7), match='MR_SHOP'>\n",
      "MR_SHOP\n",
      "None\n"
     ]
    }
   ],
   "source": [
    "import re\n",
    "pattern = r'mr_\\w+'\n",
    "string = 'MR_SHOP mr_shop'\n",
    "match = re.match(pattern,string,re.I)\n",
    "print(match)\n",
    "print(string[0:7])\n",
    "string2 = '项目名称MR_SHOP mr_shop'\n",
    "match2 = re.match(pattern,string2,re.I)\n",
    "print(match2)"
   ]
  },
  {
   "cell_type": "markdown",
   "metadata": {},
   "source": [
    "#### ?re.match(pattern, string, [flags])\n",
    "\n",
    "\n",
    "|flags的参数|说明|\n",
    "| ------------- |:-------------:|\n",
    "|A / ASCII       |对于\\w,\\W,\\b,\\B,\\d,\\D,\\s,和\\S只进行ASCII匹配(仅适用于Python3.X)|\n",
    "|I / IGNORECASE    |执行不区分字母大小写的匹配|\n",
    "|M / MULTILINE     |将^和$用于包括整个字符串的开始和结尾的每一行(默认情况下,仅适用于整个字符串的开始和结尾处)|\n",
    "|S / DOTALL      |使用(.)字符匹配所有字符,包括换行符|\n",
    "|X / VERBOSE      |忽略模式字符串中未转义的空格和注释|\n",
    "\n",
    "\n"
   ]
  },
  {
   "cell_type": "code",
   "execution_count": 22,
   "metadata": {},
   "outputs": [
    {
     "name": "stdout",
     "output_type": "stream",
     "text": [
      "匹配值的起始位置:  0\n",
      "匹配值的结束位置:  7\n",
      "匹配位置的元组:  (0, 7)\n",
      "要匹配的字符串:  MR_SHOP mr_shop\n",
      "匹配的数据:  MR_SHOP\n"
     ]
    }
   ],
   "source": [
    "import re\n",
    "pattern = r'mr_\\w+'\n",
    "string = 'MR_SHOP mr_shop'\n",
    "match = re.match(pattern,string,re.I)\n",
    "print('匹配值的起始位置: ',match.start())\n",
    "print('匹配值的结束位置: ',match.end())\n",
    "print('匹配位置的元组: ',match.span())\n",
    "print('要匹配的字符串: ',match.string)\n",
    "print('匹配的数据: ',match.group())\n"
   ]
  },
  {
   "cell_type": "markdown",
   "metadata": {},
   "source": [
    "### 2.使用search()方法进行匹配\n",
    "\n",
    "re.search(pattern,string,[flags])\n",
    "\n",
    "    pattern : 模式字符串，由要匹配的正则表达式转换而来\n",
    "\n",
    "    string  ：表示要匹配的字符串\n",
    "\n",
    "    flags   ：可选参数，表示标志位，用于控制匹配方式，如区分字母大小写\n",
    "#### 不仅是开头，其他位置也可"
   ]
  },
  {
   "cell_type": "code",
   "execution_count": 1,
   "metadata": {},
   "outputs": [
    {
     "name": "stdout",
     "output_type": "stream",
     "text": [
      "<re.Match object; span=(0, 7), match='MR_SHOP'>\n",
      "MR_SHOP\n",
      "<re.Match object; span=(4, 11), match='MR_SHOP'>\n"
     ]
    }
   ],
   "source": [
    "import re\n",
    "pattern = r'mr_\\w+'\n",
    "string = 'MR_SHOP mr_shop'\n",
    "match = re.search(pattern,string,re.I)\n",
    "print(match)\n",
    "print(string[0:7])\n",
    "string2 = '项目名称MR_SHOP mr_shop'\n",
    "match2 = re.search(pattern,string2,re.I)\n",
    "print(match2)\n"
   ]
  },
  {
   "cell_type": "code",
   "execution_count": null,
   "metadata": {},
   "outputs": [],
   "source": []
  }
 ],
 "metadata": {
  "kernelspec": {
   "display_name": "Python 3",
   "language": "python",
   "name": "python3"
  },
  "language_info": {
   "codemirror_mode": {
    "name": "ipython",
    "version": 3
   },
   "file_extension": ".py",
   "mimetype": "text/x-python",
   "name": "python",
   "nbconvert_exporter": "python",
   "pygments_lexer": "ipython3",
   "version": "3.7.4"
  }
 },
 "nbformat": 4,
 "nbformat_minor": 2
}
