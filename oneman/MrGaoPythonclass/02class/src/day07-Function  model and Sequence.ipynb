{
 "cells": [
  {
   "cell_type": "code",
   "execution_count": 35,
   "metadata": {},
   "outputs": [],
   "source": [
    "#引入样本增强库\n",
    "from keras.preprocessing.image import ImageDataGenerator"
   ]
  },
  {
   "cell_type": "code",
   "execution_count": 36,
   "metadata": {},
   "outputs": [],
   "source": [
    "#创建样本生成器参数\n",
    "datagen = ImageDataGenerator(\n",
    "    rotation_range = 10,        #旋转\n",
    "    width_shift_range = 0.08,   #横向移动\n",
    "    height_shift_range = 0.08,  #纵向移动\n",
    "    shear_range = 0.1,          #一虎毒逆时针方向剪切角度\n",
    "    zoom_range = 0.1,           #随机缩放范围\n",
    "    horizontal_flip = True,     #随机水平翻转\n",
    ")"
   ]
  },
  {
   "cell_type": "code",
   "execution_count": 37,
   "metadata": {},
   "outputs": [
    {
     "name": "stdout",
     "output_type": "stream",
     "text": [
      "Found 1 images belonging to 1 classes.\n"
     ]
    }
   ],
   "source": [
    "#生成器基本配置\n",
    "gen_data = datagen.flow_from_directory(\n",
    "    directory = '../data',        #读取目录  #类别子文件夹的上一级文件夹\n",
    "    save_prefix = 'data',      #文件开头名字\n",
    "    save_format = 'jpg',\n",
    "    save_to_dir = '../data/day07/new',       #存入目录\n",
    "    target_size = (100,100)    #目标尺寸\n",
    ")"
   ]
  },
  {
   "cell_type": "code",
   "execution_count": 38,
   "metadata": {},
   "outputs": [],
   "source": [
    "#调用生成器\n",
    "for i in range(5):\n",
    "    gen_data.next()"
   ]
  },
  {
   "cell_type": "code",
   "execution_count": 28,
   "metadata": {},
   "outputs": [
    {
     "name": "stdout",
     "output_type": "stream",
     "text": [
      "Found 1 images belonging to 1 classes.\n"
     ]
    }
   ],
   "source": [
    "\n"
   ]
  },
  {
   "cell_type": "code",
   "execution_count": null,
   "metadata": {},
   "outputs": [],
   "source": []
  }
 ],
 "metadata": {
  "kernelspec": {
   "display_name": "py38",
   "language": "python",
   "name": "py38"
  },
  "language_info": {
   "codemirror_mode": {
    "name": "ipython",
    "version": 3
   },
   "file_extension": ".py",
   "mimetype": "text/x-python",
   "name": "python",
   "nbconvert_exporter": "python",
   "pygments_lexer": "ipython3",
   "version": "3.8.10"
  }
 },
 "nbformat": 4,
 "nbformat_minor": 2
}
