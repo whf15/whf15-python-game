{
 "cells": [
  {
   "cell_type": "markdown",
   "metadata": {},
   "source": [
    "C:\\ProgramData\\Anaconda3\\Scripts\\win\n",
    "\n",
    "    py38环境启动失败报错解决：ImportError: DLL load failed while importing win32api: 找不到指定的模块\n",
    "    首先，找到文件pywin32_postinstall.py，路径在[Path to Anaconda3]\\Scripts\\\n",
    "    然后执行：python [Path to Anaconda3]\\Scripts\\pywin32_postinstall.py -install 即可"
   ]
  },
  {
   "cell_type": "markdown",
   "metadata": {},
   "source": [
    "### 图片预处理和数据结构的理解\n",
    "   "
   ]
  },
  {
   "cell_type": "code",
   "execution_count": 1,
   "metadata": {},
   "outputs": [],
   "source": [
    "import tensorflow as tf"
   ]
  },
  {
   "cell_type": "code",
   "execution_count": 3,
   "metadata": {},
   "outputs": [],
   "source": [
    "import numpy as np\n",
    "from PIL import Image"
   ]
  },
  {
   "cell_type": "code",
   "execution_count": 7,
   "metadata": {},
   "outputs": [
    {
     "name": "stdout",
     "output_type": "stream",
     "text": [
      "(1080, 1920, 3)\n"
     ]
    }
   ],
   "source": [
    "#图片在计算机茨城县的状态/方式\n",
    "img = Image.open(\"../data/Duanwu Festival.jpg\")\n",
    "to_array = np.array(img)\n",
    "print(to_array.shape)"
   ]
  },
  {
   "cell_type": "markdown",
   "metadata": {},
   "source": [
    "### to_array.shape 表示数组行列大小（高h=行，宽w=列）\n",
    "\n",
    "### reshape转换前后的维度乘积要一致"
   ]
  },
  {
   "cell_type": "code",
   "execution_count": 14,
   "metadata": {},
   "outputs": [
    {
     "name": "stdout",
     "output_type": "stream",
     "text": [
      "(6220800,)\n",
      "[250 251 245 ...  40  39  35]\n"
     ]
    }
   ],
   "source": [
    "to_array1 = np.array(img).reshape(1080*1920*3)\n",
    "print(to_array1.shape)\n",
    "print(to_array1)"
   ]
  },
  {
   "cell_type": "code",
   "execution_count": 13,
   "metadata": {},
   "outputs": [
    {
     "data": {
      "text/plain": [
       "6220800"
      ]
     },
     "execution_count": 13,
     "metadata": {},
     "output_type": "execute_result"
    }
   ],
   "source": [
    "\n",
    "1080*1920*3"
   ]
  },
  {
   "cell_type": "markdown",
   "metadata": {},
   "source": [
    "### 用全连接层（Fully Connected）搭建网络\n",
    "    dropout处理过度学习"
   ]
  },
  {
   "cell_type": "code",
   "execution_count": 1,
   "metadata": {},
   "outputs": [],
   "source": [
    "import keras #keras整框架导入\n",
    "from keras.datasets import mnist #数据集\n",
    "import matplotlib.pyplot as plt #matplotlib 用于打印输出图或图表\n",
    "from keras.layers import Dense, Dropout #神经网络层导入\n",
    "from keras.models import Sequential #网络建设模式Sequential序列模型和Model函数模型\n",
    "import numpy as np "
   ]
  },
  {
   "cell_type": "code",
   "execution_count": 16,
   "metadata": {},
   "outputs": [],
   "source": [
    "#加载官方mnist数据集\n",
    "(x_train, y_train),(x_test, y_test) = mnist.load_data()\n",
    "#（训练样本，训练样本的标签）（测试样本，测试样本的标签）"
   ]
  },
  {
   "cell_type": "markdown",
   "metadata": {},
   "source": [
    "#### 数据集可视化"
   ]
  },
  {
   "cell_type": "code",
   "execution_count": 17,
   "metadata": {},
   "outputs": [
    {
     "name": "stdout",
     "output_type": "stream",
     "text": [
      "0\n"
     ]
    },
    {
     "data": {
      "image/png": "[encoded data removed]",
      "text/plain": [
       "<Figure size 432x288 with 1 Axes>"
      ]
     },
     "metadata": {
      "needs_background": "light"
     },
     "output_type": "display_data"
    }
   ],
   "source": [
    "index = 1\n",
    "print(y_train[index])\n",
    "plt.imshow(x_train[index])\n",
    "plt.title('Label Number: '+str(y_train[index]))\n",
    "plt.show()"
   ]
  },
  {
   "cell_type": "code",
   "execution_count": 18,
   "metadata": {},
   "outputs": [],
   "source": [
    "#第一部数据的预先处理之归一化 即将0-255之间的数据 压缩到0-1之间\n",
    "x_train = x_train / 255.0\n",
    "x_test = x_test / 255.0\n",
    "#根据网络要求改变数组输入的shape\n",
    "x_train = x_train.reshape(60000, 784).astype('float32')\n",
    "x_test = x_test.reshape(10000, 784).astype('float32')"
   ]
  },
  {
   "cell_type": "code",
   "execution_count": 19,
   "metadata": {},
   "outputs": [],
   "source": [
    "#标签转one-hot-encoding\n",
    "y_train = keras.utils.to_categorical(y_train,num_classes=10)\n",
    "y_test = keras.utils.to_categorical(y_test,num_classes=10)\n"
   ]
  },
  {
   "cell_type": "code",
   "execution_count": 20,
   "metadata": {},
   "outputs": [],
   "source": [
    "#搭建网络结构 - 全连接层\n",
    "model = Sequential() #实例化\n",
    "#像模型中添加层Dense层为全连接层\n",
    "model.add(Dense(units=128, input_shape=(784,), activation='relu'))\n",
    "model.add(Dense(units=128, activation='relu'))\n",
    "model.add(Dropout(0.25)) #dropout是一个层，防止网络过度学习，比如学习了100个就保留一部分\n",
    "model.add(Dense(units=10,activation='softmax'))"
   ]
  },
  {
   "cell_type": "code",
   "execution_count": 21,
   "metadata": {},
   "outputs": [],
   "source": [
    "# 模型编译-设置模型的损失loss、优化器optimizier\n",
    "model.compile(loss='categorical_crossentropy', optimizer='adam', metrics=['accuracy'])\n"
   ]
  },
  {
   "cell_type": "markdown",
   "metadata": {},
   "source": [
    "### 训练"
   ]
  },
  {
   "cell_type": "code",
   "execution_count": 27,
   "metadata": {},
   "outputs": [
    {
     "name": "stdout",
     "output_type": "stream",
     "text": [
      "Epoch 1/10\n",
      "844/844 [==============================] - 3s 3ms/step - loss: 0.0225 - accuracy: 0.9926 - val_loss: 0.0130 - val_accuracy: 0.9960\n",
      "Epoch 2/10\n",
      "844/844 [==============================] - 3s 3ms/step - loss: 0.0197 - accuracy: 0.9932 - val_loss: 0.0144 - val_accuracy: 0.9950\n",
      "Epoch 3/10\n",
      "844/844 [==============================] - 3s 3ms/step - loss: 0.0166 - accuracy: 0.9944 - val_loss: 0.0209 - val_accuracy: 0.9933\n",
      "Epoch 4/10\n",
      "844/844 [==============================] - 3s 3ms/step - loss: 0.0162 - accuracy: 0.9943 - val_loss: 0.0211 - val_accuracy: 0.9923\n",
      "Epoch 5/10\n",
      "844/844 [==============================] - 3s 3ms/step - loss: 0.0139 - accuracy: 0.9953 - val_loss: 0.0246 - val_accuracy: 0.9922\n",
      "Epoch 6/10\n",
      "844/844 [==============================] - 3s 3ms/step - loss: 0.0145 - accuracy: 0.9949 - val_loss: 0.0336 - val_accuracy: 0.9883\n",
      "Epoch 7/10\n",
      "844/844 [==============================] - 3s 3ms/step - loss: 0.0154 - accuracy: 0.9951 - val_loss: 0.0387 - val_accuracy: 0.9875\n",
      "Epoch 8/10\n",
      "844/844 [==============================] - 3s 3ms/step - loss: 0.0129 - accuracy: 0.9960 - val_loss: 0.0405 - val_accuracy: 0.9873\n",
      "Epoch 9/10\n",
      "844/844 [==============================] - 3s 4ms/step - loss: 0.0091 - accuracy: 0.9968 - val_loss: 0.0427 - val_accuracy: 0.9892\n",
      "Epoch 10/10\n",
      "844/844 [==============================] - 3s 4ms/step - loss: 0.0139 - accuracy: 0.9956 - val_loss: 0.0360 - val_accuracy: 0.9903\n"
     ]
    },
    {
     "data": {
      "text/plain": [
       "<tensorflow.python.keras.callbacks.History at 0x246b68c7dc0>"
      ]
     },
     "execution_count": 27,
     "metadata": {},
     "output_type": "execute_result"
    }
   ],
   "source": [
    "model.fit(\n",
    "    x = x_train,\n",
    "    y = y_train,\n",
    "    batch_size = 64, #60000/63=938\n",
    "    epochs = 10,     #训练轮数\n",
    "    \n",
    "    validation_split=0.1 #拿出10%训练样本作为验证样本，随着训练就开始验证\n",
    ")"
   ]
  },
  {
   "cell_type": "markdown",
   "metadata": {},
   "source": [
    "### 使用测试集测试效果\n"
   ]
  },
  {
   "cell_type": "code",
   "execution_count": 28,
   "metadata": {},
   "outputs": [
    {
     "name": "stdout",
     "output_type": "stream",
     "text": [
      "313/313 [==============================] - 1s 2ms/step - loss: 0.1007 - accuracy: 0.9807\n",
      "0.10068202018737793 0.9807000160217285\n"
     ]
    }
   ],
   "source": [
    "loss, acc = model.evaluate(x_test, y_test)\n",
    "print(loss, acc)"
   ]
  },
  {
   "cell_type": "code",
   "execution_count": 29,
   "metadata": {},
   "outputs": [],
   "source": [
    "model.save('../output/mnistTrain.h5')"
   ]
  },
  {
   "cell_type": "code",
   "execution_count": 51,
   "metadata": {},
   "outputs": [
    {
     "name": "stdout",
     "output_type": "stream",
     "text": [
      "Model: \"sequential_1\"\n",
      "_________________________________________________________________\n",
      "Layer (type)                 Output Shape              Param #   \n",
      "=================================================================\n",
      "dense_3 (Dense)              (None, 128)               100480    \n",
      "_________________________________________________________________\n",
      "dense_4 (Dense)              (None, 128)               16512     \n",
      "_________________________________________________________________\n",
      "dropout_1 (Dropout)          (None, 128)               0         \n",
      "_________________________________________________________________\n",
      "dense_5 (Dense)              (None, 10)                1290      \n",
      "=================================================================\n",
      "Total params: 118,282\n",
      "Trainable params: 118,282\n",
      "Non-trainable params: 0\n",
      "_________________________________________________________________\n"
     ]
    }
   ],
   "source": [
    "model.summary()"
   ]
  },
  {
   "cell_type": "markdown",
   "metadata": {},
   "source": [
    "## 预测"
   ]
  },
  {
   "cell_type": "code",
   "execution_count": 30,
   "metadata": {},
   "outputs": [],
   "source": [
    "import matplotlib.pyplot as plt\n",
    "from keras.models import load_model\n",
    "from PIL import Image\n",
    "import numpy as np"
   ]
  },
  {
   "cell_type": "code",
   "execution_count": 37,
   "metadata": {},
   "outputs": [],
   "source": [
    "### 加载DIY样本并进行预处理\n",
    "img_open = Image.open('../data/3.jpg')"
   ]
  },
  {
   "cell_type": "code",
   "execution_count": 46,
   "metadata": {},
   "outputs": [
    {
     "name": "stdout",
     "output_type": "stream",
     "text": [
      "(1, 784)\n"
     ]
    }
   ],
   "source": [
    "img_to_array = np.array(img_open).reshape(1,784,)/255.0\n",
    "print(img_to_array.shape)"
   ]
  },
  {
   "cell_type": "code",
   "execution_count": null,
   "metadata": {},
   "outputs": [],
   "source": []
  },
  {
   "cell_type": "code",
   "execution_count": 40,
   "metadata": {},
   "outputs": [],
   "source": [
    "model = load_model('../output/mnistTrain.h5')"
   ]
  },
  {
   "cell_type": "code",
   "execution_count": 42,
   "metadata": {},
   "outputs": [
    {
     "data": {
      "text/plain": [
       "array([[2.1866647e-07, 6.0129300e-05, 8.2924409e-04, 9.5674980e-01,\n",
       "        9.9961499e-06, 3.2953180e-06, 1.3889957e-09, 8.4316153e-03,\n",
       "        3.8246217e-03, 3.0091064e-02]], dtype=float32)"
      ]
     },
     "execution_count": 42,
     "metadata": {},
     "output_type": "execute_result"
    }
   ],
   "source": [
    "prediction = model.predict(img_to_array)\n",
    "prediction"
   ]
  },
  {
   "cell_type": "code",
   "execution_count": 43,
   "metadata": {},
   "outputs": [],
   "source": [
    "Final_Pred = [result.argmax() for result in prediction][0]"
   ]
  },
  {
   "cell_type": "code",
   "execution_count": 44,
   "metadata": {},
   "outputs": [
    {
     "name": "stdout",
     "output_type": "stream",
     "text": [
      "3\n"
     ]
    }
   ],
   "source": [
    "print(Final_Pred)"
   ]
  },
  {
   "cell_type": "code",
   "execution_count": 49,
   "metadata": {},
   "outputs": [
    {
     "name": "stdout",
     "output_type": "stream",
     "text": [
      "0概率 0.00%\n",
      "1概率 0.01%\n",
      "2概率 0.08%\n",
      "3概率 95.67%\n",
      "4概率 0.00%\n",
      "5概率 0.00%\n",
      "6概率 0.00%\n",
      "7概率 0.84%\n",
      "8概率 0.38%\n",
      "9概率 3.01%\n"
     ]
    }
   ],
   "source": [
    "counter = 0\n",
    "for i in prediction[0]:\n",
    "    percent = \"%.2f%%\"%(i*100)\n",
    "    print(str(counter)+\"概率\",percent)\n",
    "    counter += 1"
   ]
  },
  {
   "cell_type": "code",
   "execution_count": null,
   "metadata": {},
   "outputs": [],
   "source": []
  }
 ],
 "metadata": {
  "kernelspec": {
   "display_name": "py38",
   "language": "python",
   "name": "py38"
  },
  "language_info": {
   "codemirror_mode": {
    "name": "ipython",
    "version": 3
   },
   "file_extension": ".py",
   "mimetype": "text/x-python",
   "name": "python",
   "nbconvert_exporter": "python",
   "pygments_lexer": "ipython3",
   "version": "3.8.10"
  }
 },
 "nbformat": 4,
 "nbformat_minor": 2
}
