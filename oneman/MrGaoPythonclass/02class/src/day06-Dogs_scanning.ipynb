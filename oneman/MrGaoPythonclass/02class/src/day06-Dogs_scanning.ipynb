{
 "cells": [
  {
   "cell_type": "markdown",
   "metadata": {},
   "source": [
    "## 制作自己的数据集\n",
    "\n",
    "### 要解决的问题：\n",
    "    1.实体样本与数据样本（先找图再变成数组）\n",
    "    2.样本标注问题（通过某种方式把图（样本）本身的内容做成标签对应到标注中，形成标注数组）\n",
    "    3.入网之前的数据结构\n",
    "\n",
    "### how:\n",
    "    1.样本的获取（官方数据集...）\n",
    "    2.样本的预处理（尺寸统一与网络匹配，对文件进行标注）\n",
    "    3.入网前数据预处理（图片转numpy数组，读取标签转onehot）"
   ]
  },
  {
   "cell_type": "code",
   "execution_count": 1,
   "metadata": {},
   "outputs": [
    {
     "name": "stdout",
     "output_type": "stream",
     "text": [
      "__MACOSX\n"
     ]
    }
   ],
   "source": [
    "import os\n",
    "import random\n",
    "from PIL import Image\n",
    "root = 'C:\\\\Users\\\\whfo\\\\Downloads\\\\第24讲资料和源码.zip\\\\第6讲资料和源码\\\\猫狗数据集\\\\'\n",
    "for mydir in os.listdir(root):\n",
    "    print(mydir)\n",
    "    break\n",
    "    for files in os.listdir(root+mydir):\n",
    "#         print(files)\n",
    "        try:\n",
    "            img = Image.open(root+mydir+'/'+files)\n",
    "            img = img.resize((100,100))\n",
    "            print(root+mydir+'/'+files)\n",
    "            img.save(root+mydir+'/'+files)\n",
    "        except:\n",
    "            os.remove(root+mydir+'/'+files)"
   ]
  },
  {
   "cell_type": "code",
   "execution_count": 2,
   "metadata": {},
   "outputs": [
    {
     "name": "stdout",
     "output_type": "stream",
     "text": [
      "__MACOSX\n"
     ]
    }
   ],
   "source": [
    "import os\n",
    "import random\n",
    "from PIL import Image\n",
    "\n",
    "root = 'C:\\\\Users\\\\whfo\\\\Downloads\\\\第24讲资料和源码.zip\\\\第6讲资料和源码\\\\猫狗数据集\\\\'\n",
    "counter = 0\n",
    "for mydir in os.listdir(root):\n",
    "    print(mydir)\n",
    "    break\n",
    "    for files in os.listdir(root+mydir):\n",
    "        os.rename(root+mydir+'/'+str(files),root+mydir+'/'+str(counter)+'_'+str(files))\n",
    "    counter += 1\n",
    "    "
   ]
  },
  {
   "cell_type": "markdown",
   "metadata": {},
   "source": [
    "### train_dogs"
   ]
  },
  {
   "cell_type": "code",
   "execution_count": 1,
   "metadata": {},
   "outputs": [],
   "source": [
    "from keras.layers import Conv2D, MaxPool2D, Flatten, Dropout, Dense, BatchNormalization\n",
    "from keras.utils import to_categorical\n",
    "from keras.optimizers import Adam\n",
    "from keras.losses import categorical_crossentropy\n",
    "import matplotlib.pyplot as plt\n",
    "import numpy as np\n",
    "import os\n",
    "from PIL import Image"
   ]
  },
  {
   "cell_type": "code",
   "execution_count": 2,
   "metadata": {},
   "outputs": [],
   "source": [
    "dataset_path = 'C:\\\\Users\\\\whfo\\\\Downloads\\\\第24讲资料和源码.zip\\\\第6讲资料和源码\\\\猫狗数据集\\\\'\n",
    "n_class = 2\n",
    "epochs = 250\n",
    "batchsize = 256"
   ]
  },
  {
   "cell_type": "code",
   "execution_count": 7,
   "metadata": {},
   "outputs": [
    {
     "name": "stdout",
     "output_type": "stream",
     "text": [
      "C:\\Users\\whfo\\Downloads\\第24讲资料和源码.zip\\第6讲资料和源码\\猫狗数据集\\狗\n",
      "0_0_100058493.jpg\n"
     ]
    },
    {
     "ename": "FileNotFoundError",
     "evalue": "[Errno 2] No such file or directory: 'C:\\\\Users\\\\whfo\\\\Downloads\\\\第24讲资料和源码.zip\\\\第6讲资料和源码\\\\猫狗数据集\\\\0_0_100058493.jpg'",
     "output_type": "error",
     "traceback": [
      "\u001b[1;31m---------------------------------------------------------------------------\u001b[0m",
      "\u001b[1;31mFileNotFoundError\u001b[0m                         Traceback (most recent call last)",
      "\u001b[1;32mC:\\Users\\Public\\Documents\\Wondershare\\CreatorTemp/ipykernel_1192/725390906.py\u001b[0m in \u001b[0;36m<module>\u001b[1;34m\u001b[0m\n\u001b[0;32m      6\u001b[0m         \u001b[0mprint\u001b[0m\u001b[1;33m(\u001b[0m\u001b[0mfile\u001b[0m\u001b[1;33m)\u001b[0m\u001b[1;33m\u001b[0m\u001b[1;33m\u001b[0m\u001b[0m\n\u001b[0;32m      7\u001b[0m         \u001b[1;32mbreak\u001b[0m\u001b[1;33m\u001b[0m\u001b[1;33m\u001b[0m\u001b[0m\n\u001b[1;32m----> 8\u001b[1;33m     \u001b[0mimg\u001b[0m \u001b[1;33m=\u001b[0m \u001b[0mImage\u001b[0m\u001b[1;33m.\u001b[0m\u001b[0mopen\u001b[0m\u001b[1;33m(\u001b[0m\u001b[0mdataset_path\u001b[0m\u001b[1;33m+\u001b[0m\u001b[0mfile\u001b[0m\u001b[1;33m)\u001b[0m\u001b[1;33m\u001b[0m\u001b[1;33m\u001b[0m\u001b[0m\n\u001b[0m",
      "\u001b[1;32m~\\.conda\\envs\\py38\\lib\\site-packages\\PIL\\Image.py\u001b[0m in \u001b[0;36mopen\u001b[1;34m(fp, mode, formats)\u001b[0m\n\u001b[0;32m   2966\u001b[0m \u001b[1;33m\u001b[0m\u001b[0m\n\u001b[0;32m   2967\u001b[0m     \u001b[1;32mif\u001b[0m \u001b[0mfilename\u001b[0m\u001b[1;33m:\u001b[0m\u001b[1;33m\u001b[0m\u001b[1;33m\u001b[0m\u001b[0m\n\u001b[1;32m-> 2968\u001b[1;33m         \u001b[0mfp\u001b[0m \u001b[1;33m=\u001b[0m \u001b[0mbuiltins\u001b[0m\u001b[1;33m.\u001b[0m\u001b[0mopen\u001b[0m\u001b[1;33m(\u001b[0m\u001b[0mfilename\u001b[0m\u001b[1;33m,\u001b[0m \u001b[1;34m\"rb\"\u001b[0m\u001b[1;33m)\u001b[0m\u001b[1;33m\u001b[0m\u001b[1;33m\u001b[0m\u001b[0m\n\u001b[0m\u001b[0;32m   2969\u001b[0m         \u001b[0mexclusive_fp\u001b[0m \u001b[1;33m=\u001b[0m \u001b[1;32mTrue\u001b[0m\u001b[1;33m\u001b[0m\u001b[1;33m\u001b[0m\u001b[0m\n\u001b[0;32m   2970\u001b[0m \u001b[1;33m\u001b[0m\u001b[0m\n",
      "\u001b[1;31mFileNotFoundError\u001b[0m: [Errno 2] No such file or directory: 'C:\\\\Users\\\\whfo\\\\Downloads\\\\第24讲资料和源码.zip\\\\第6讲资料和源码\\\\猫狗数据集\\\\0_0_100058493.jpg'"
     ]
    }
   ],
   "source": [
    "x = []\n",
    "y = []\n",
    "for mydir in os.listdir(dataset_path):\n",
    "    print(dataset_path+file)\n",
    "    for file in os.listdir(dataset_path+mydir):\n",
    "        print(file)\n",
    "        break\n",
    "    img = Image.open(dataset_path+file)"
   ]
  },
  {
   "cell_type": "code",
   "execution_count": null,
   "metadata": {},
   "outputs": [],
   "source": []
  }
 ],
 "metadata": {
  "kernelspec": {
   "display_name": "py38",
   "language": "python",
   "name": "py38"
  },
  "language_info": {
   "codemirror_mode": {
    "name": "ipython",
    "version": 3
   },
   "file_extension": ".py",
   "mimetype": "text/x-python",
   "name": "python",
   "nbconvert_exporter": "python",
   "pygments_lexer": "ipython3",
   "version": "3.8.10"
  }
 },
 "nbformat": 4,
 "nbformat_minor": 2
}
