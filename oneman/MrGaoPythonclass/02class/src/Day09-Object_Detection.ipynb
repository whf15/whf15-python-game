{
 "cells": [
  {
   "cell_type": "markdown",
   "metadata": {},
   "source": [
    "### 1.什么是目标检测\n",
    "    找出图像中所有感兴趣的目标(物体),确定他们的类别和位置\n",
    "    (分类-Classification;定位-Location;检测-Detection;分隔:Segmentation)\n",
    "### 2.最接近我们生活的目标检测应用\n",
    "### 3.常用的目标检测框架/算哒\n",
    "    Yolo(成品度高),SSD(速度捡块),FasterRCNN(精准度较高)\n",
    "### 4.目标检测训练用数据集\n",
    "### 5.目标检测实现基本原理"
   ]
  },
  {
   "cell_type": "code",
   "execution_count": null,
   "metadata": {},
   "outputs": [],
   "source": []
  }
 ],
 "metadata": {
  "kernelspec": {
   "display_name": "py38",
   "language": "python",
   "name": "py38"
  },
  "language_info": {
   "codemirror_mode": {
    "name": "ipython",
    "version": 3
   },
   "file_extension": ".py",
   "mimetype": "text/x-python",
   "name": "python",
   "nbconvert_exporter": "python",
   "pygments_lexer": "ipython3",
   "version": "3.8.10"
  }
 },
 "nbformat": 4,
 "nbformat_minor": 2
}
