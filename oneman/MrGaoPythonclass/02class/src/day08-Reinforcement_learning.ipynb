{
 "cells": [
  {
   "cell_type": "markdown",
   "metadata": {},
   "source": [
    "## 什么是强化训练，强化训练的环境以及实现\n",
    "强化学习的目标是需要学习一种策略，使得对于每一个状态，决策AI的动作\n",
    "\n",
    "就像训练小狗一样，开始动作是无序的，做对了奖励吃的，再做对了再奖励吃的，以此类推就完成了强化训练的过程\n",
    "\n",
    "Agent（操作员，算法）----action（动作）----environment（环境）----observation，reward（观察结果/回报）"
   ]
  },
  {
   "cell_type": "code",
   "execution_count": 4,
   "metadata": {},
   "outputs": [
    {
     "data": {
      "text/plain": [
       "'2.5.0'"
      ]
     },
     "execution_count": 4,
     "metadata": {},
     "output_type": "execute_result"
    }
   ],
   "source": [
    "import tensorflow as tf\n",
    "tf.__version__"
   ]
  },
  {
   "cell_type": "markdown",
   "metadata": {},
   "source": [
    "### 强化训练环境\n",
    "    1.卸载你的keras和tensorflow\n",
    "    2.重新安装keras和tensorflow\n",
    "        pip install tensorflow==1.14\n",
    "        pip install keras==2.2\n",
    "    3.安装gym环境\n",
    "        pip install gym\n",
    "        "
   ]
  },
  {
   "cell_type": "code",
   "execution_count": null,
   "metadata": {},
   "outputs": [],
   "source": [
    "!"
   ]
  },
  {
   "cell_type": "code",
   "execution_count": 1,
   "metadata": {},
   "outputs": [],
   "source": [
    "import gym\n",
    "\n",
    "import random"
   ]
  },
  {
   "cell_type": "code",
   "execution_count": 2,
   "metadata": {},
   "outputs": [
    {
     "name": "stdout",
     "output_type": "stream",
     "text": [
      "game over\n",
      "Episode:1 Score:37.0\n",
      "game over\n",
      "Episode:2 Score:18.0\n"
     ]
    }
   ],
   "source": [
    "env = gym.make('CartPole-v0')  # 建立游戏\n",
    "for episode in range(1,3):    # for循环控制游戏次数\n",
    "    state = env.reset()       # 重置游戏\n",
    "    done = False             #初始化完成状态False，即进行中    \n",
    "    score = 0                 #奖励积分\n",
    "    while not done:           #游戏主循环\n",
    "        env.render()            #渲染游戏界面\n",
    "        action = random.choice([0,1])       #随机游戏动作\n",
    "        observation, reward, done, info = env.step(action) #返回发生数据\n",
    "        score += reward                #添加积分\n",
    "        if done == True:              #判断游戏是否失败\n",
    "            print(\"game over\")\n",
    "    print('Episode:{} Score:{}'.format(episode, score))       #输出当前的积分和轮次"
   ]
  },
  {
   "cell_type": "code",
   "execution_count": null,
   "metadata": {},
   "outputs": [],
   "source": []
  }
 ],
 "metadata": {
  "kernelspec": {
   "display_name": "py38",
   "language": "python",
   "name": "py38"
  },
  "language_info": {
   "codemirror_mode": {
    "name": "ipython",
    "version": 3
   },
   "file_extension": ".py",
   "mimetype": "text/x-python",
   "name": "python",
   "nbconvert_exporter": "python",
   "pygments_lexer": "ipython3",
   "version": "3.8.10"
  }
 },
 "nbformat": 4,
 "nbformat_minor": 2
}
