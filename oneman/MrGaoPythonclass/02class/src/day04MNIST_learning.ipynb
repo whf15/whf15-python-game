{
 "cells": [
  {
   "cell_type": "markdown",
   "metadata": {},
   "source": [
    "C:\\ProgramData\\Anaconda3\\Scripts\\win\n",
    "\n",
    "    py38环境启动失败报错解决：ImportError: DLL load failed while importing win32api: 找不到指定的模块\n",
    "    首先，找到文件pywin32_postinstall.py，路径在[Path to Anaconda3]\\Scripts\\\n",
    "    然后执行：python [Path to Anaconda3]\\Scripts\\pywin32_postinstall.py -install 即可"
   ]
  },
  {
   "cell_type": "markdown",
   "metadata": {},
   "source": [
    "### 图片预处理和数据结构的理解\n",
    "   "
   ]
  },
  {
   "cell_type": "code",
   "execution_count": 2,
   "metadata": {},
   "outputs": [],
   "source": [
    "import tensorflow as tf"
   ]
  },
  {
   "cell_type": "code",
   "execution_count": 3,
   "metadata": {},
   "outputs": [],
   "source": [
    "import numpy as np\n",
    "from PIL import Image"
   ]
  },
  {
   "cell_type": "code",
   "execution_count": 7,
   "metadata": {},
   "outputs": [
    {
     "name": "stdout",
     "output_type": "stream",
     "text": [
      "(1080, 1920, 3)\n"
     ]
    }
   ],
   "source": [
    "#图片在计算机茨城县的状态/方式\n",
    "img = Image.open(\"../data/Duanwu Festival.jpg\")\n",
    "to_array = np.array(img)\n",
    "print(to_array.shape)"
   ]
  },
  {
   "cell_type": "markdown",
   "metadata": {},
   "source": [
    "### to_array.shape 表示数组行列大小（高h=行，宽w=列）\n",
    "\n",
    "### reshape转换前后的维度乘积要一致"
   ]
  },
  {
   "cell_type": "code",
   "execution_count": 14,
   "metadata": {},
   "outputs": [
    {
     "name": "stdout",
     "output_type": "stream",
     "text": [
      "(6220800,)\n",
      "[250 251 245 ...  40  39  35]\n"
     ]
    }
   ],
   "source": [
    "to_array1 = np.array(img).reshape(1080*1920*3)\n",
    "print(to_array1.shape)\n",
    "print(to_array1)"
   ]
  },
  {
   "cell_type": "code",
   "execution_count": 13,
   "metadata": {},
   "outputs": [
    {
     "data": {
      "text/plain": [
       "6220800"
      ]
     },
     "execution_count": 13,
     "metadata": {},
     "output_type": "execute_result"
    }
   ],
   "source": [
    "\n",
    "1080*1920*3"
   ]
  },
  {
   "cell_type": "code",
   "execution_count": null,
   "metadata": {},
   "outputs": [],
   "source": []
  }
 ],
 "metadata": {
  "kernelspec": {
   "display_name": "py38",
   "language": "python",
   "name": "py38"
  },
  "language_info": {
   "codemirror_mode": {
    "name": "ipython",
    "version": 3
   },
   "file_extension": ".py",
   "mimetype": "text/x-python",
   "name": "python",
   "nbconvert_exporter": "python",
   "pygments_lexer": "ipython3",
   "version": "3.8.10"
  }
 },
 "nbformat": 4,
 "nbformat_minor": 2
}
