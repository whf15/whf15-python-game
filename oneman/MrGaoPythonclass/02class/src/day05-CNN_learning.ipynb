{
 "cells": [
  {
   "cell_type": "markdown",
   "metadata": {},
   "source": [
    "### 1.什么是卷积网络-CNN\n",
    "    在使用全连接层时会出现的问题\n",
    "        1)所有立体空间信息缺失\n",
    "        2)立体空间信息缺失导致关键信息损失\n",
    "        3)全像素入网导致计算量过大\n",
    "\n",
    "通过滤波器(卷积核)以更小的代价提取图像上的特征--cnn\n",
    "\n",
    "最大池化,平均池化\n",
    "\n",
    "池化层必须放在卷积层后,卷积可以不需要池化不会影响运行"
   ]
  },
  {
   "cell_type": "markdown",
   "metadata": {},
   "source": [
    "### 2.如何实现卷积神经网络"
   ]
  },
  {
   "cell_type": "code",
   "execution_count": 2,
   "metadata": {},
   "outputs": [],
   "source": [
    "import keras #keras整框架导入\n",
    "from keras.datasets import mnist #数据集\n",
    "import matplotlib.pyplot as plt #matplotlib 用于打印输出图或图表\n",
    "from keras.layers import Dense, Dropout, Flatten, Conv2D, MaxPool2D #神经网络层导入\n",
    "from keras.models import Sequential #网络建设模式Sequential序列模型和Model函数模型\n",
    "import numpy as np \n"
   ]
  },
  {
   "cell_type": "code",
   "execution_count": 3,
   "metadata": {},
   "outputs": [],
   "source": [
    "#加载官方mnist数据集\n",
    "(x_train, y_train),(x_test, y_test) = mnist.load_data()\n",
    "#（训练样本，训练样本的标签）（测试样本，测试样本的标签）"
   ]
  },
  {
   "cell_type": "code",
   "execution_count": 4,
   "metadata": {},
   "outputs": [],
   "source": [
    "#归一化和数据reshape 与全连接层有区别\n",
    "#第一部数据的预先处理之归一化 即将0-255之间的数据 压缩到0-1之间\n",
    "x_train = x_train.reshape(-1, 28, 28, 1) / 255.0\n",
    "x_test = x_test.reshape(-1, 28, 28, 1) / 255.0\n",
    "\n",
    "# 将原有的数据28*28 reshape到28,28,1,满足卷积层的数据入网要求(三维立体空间)\n",
    "# 全连接层时reshape(60000, 784) 60000用-1代替,有多少算多少(不知道数据集有多大)"
   ]
  },
  {
   "cell_type": "code",
   "execution_count": 5,
   "metadata": {},
   "outputs": [],
   "source": [
    "#标签转one-hot-encoding\n",
    "y_train = keras.utils.to_categorical(y_train,num_classes=10)\n",
    "y_test = keras.utils.to_categorical(y_test,num_classes=10)"
   ]
  },
  {
   "cell_type": "code",
   "execution_count": 6,
   "metadata": {},
   "outputs": [],
   "source": [
    "#搭建网络结构 - 卷积神经网络\n",
    "model = Sequential() #实例化\n",
    "#像模型中添加卷积层为全连接层\n",
    "\n",
    "model.add(Conv2D(\n",
    "    filters = 10, #滤波器数量\n",
    "    kernel_size = (3,3), #滤波器长度\n",
    "    input_shape = (28, 28, 1), #输入图片尺寸\n",
    "    strides = (1, 1), #滤波器步长\n",
    "    activation = 'relu',\n",
    "))\n",
    "\n",
    "# 添加池化层\n",
    "model.add(MaxPool2D(pool_size=(2,2),strides=(2,2)))\n",
    "# 添加打平层\n",
    "model.add(Flatten())\n",
    "\n",
    "model.add(Dense(units=128, activation='relu'))\n",
    "model.add(Dropout(0.25)) #dropout是一个层，防止网络过度学习，比如学习了100个就保留一部分\n",
    "model.add(Dense(units=10,activation='softmax'))"
   ]
  },
  {
   "cell_type": "code",
   "execution_count": 7,
   "metadata": {},
   "outputs": [
    {
     "name": "stdout",
     "output_type": "stream",
     "text": [
      "Epoch 1/10\n",
      "938/938 [==============================] - 20s 18ms/step - loss: 0.2605 - accuracy: 0.9236\n",
      "Epoch 2/10\n",
      "938/938 [==============================] - 15s 16ms/step - loss: 0.0949 - accuracy: 0.9710\n",
      "Epoch 3/10\n",
      "938/938 [==============================] - 14s 15ms/step - loss: 0.0666 - accuracy: 0.9798\n",
      "Epoch 4/10\n",
      "938/938 [==============================] - 13s 14ms/step - loss: 0.0510 - accuracy: 0.9847\n",
      "Epoch 5/10\n",
      "938/938 [==============================] - 14s 15ms/step - loss: 0.0414 - accuracy: 0.9872\n",
      "Epoch 6/10\n",
      "938/938 [==============================] - 15s 15ms/step - loss: 0.0351 - accuracy: 0.98870s - los\n",
      "Epoch 7/10\n",
      "938/938 [==============================] - 16s 17ms/step - loss: 0.0292 - accuracy: 0.9905\n",
      "Epoch 8/10\n",
      "938/938 [==============================] - 15s 16ms/step - loss: 0.0244 - accuracy: 0.9916\n",
      "Epoch 9/10\n",
      "938/938 [==============================] - 16s 17ms/step - loss: 0.0224 - accuracy: 0.9924\n",
      "Epoch 10/10\n",
      "938/938 [==============================] - 16s 17ms/step - loss: 0.0191 - accuracy: 0.9933\n"
     ]
    },
    {
     "data": {
      "text/plain": [
       "<tensorflow.python.keras.callbacks.History at 0x1c85d900e50>"
      ]
     },
     "execution_count": 7,
     "metadata": {},
     "output_type": "execute_result"
    }
   ],
   "source": [
    "# 模型编译-设置模型的损失loss、优化器optimizier\n",
    "model.compile(loss='categorical_crossentropy', optimizer='adam', metrics=['accuracy'])\n",
    "# 启动训练,同时加入训练的样本,标签,训练数量和批次数量\n",
    "model.fit(\n",
    "    x = x_train,\n",
    "    y = y_train,\n",
    "    batch_size = 64, #60000/63=938\n",
    "    epochs = 10,     #训练轮数\n",
    "    \n",
    "#     validation_split=0.1 #拿出10%训练样本作为验证样本，随着训练就开始验证\n",
    ")"
   ]
  },
  {
   "cell_type": "code",
   "execution_count": 8,
   "metadata": {},
   "outputs": [],
   "source": [
    "model.save('../output/mnistTrain_cnn.h5')"
   ]
  },
  {
   "cell_type": "code",
   "execution_count": 9,
   "metadata": {},
   "outputs": [
    {
     "name": "stdout",
     "output_type": "stream",
     "text": [
      "Model: \"sequential\"\n",
      "_________________________________________________________________\n",
      "Layer (type)                 Output Shape              Param #   \n",
      "=================================================================\n",
      "conv2d (Conv2D)              (None, 26, 26, 10)        100       \n",
      "_________________________________________________________________\n",
      "max_pooling2d (MaxPooling2D) (None, 13, 13, 10)        0         \n",
      "_________________________________________________________________\n",
      "flatten (Flatten)            (None, 1690)              0         \n",
      "_________________________________________________________________\n",
      "dense (Dense)                (None, 128)               216448    \n",
      "_________________________________________________________________\n",
      "dropout (Dropout)            (None, 128)               0         \n",
      "_________________________________________________________________\n",
      "dense_1 (Dense)              (None, 10)                1290      \n",
      "=================================================================\n",
      "Total params: 217,838\n",
      "Trainable params: 217,838\n",
      "Non-trainable params: 0\n",
      "_________________________________________________________________\n"
     ]
    }
   ],
   "source": [
    "model.summary()"
   ]
  },
  {
   "cell_type": "code",
   "execution_count": 10,
   "metadata": {},
   "outputs": [
    {
     "name": "stdout",
     "output_type": "stream",
     "text": [
      "313/313 [==============================] - 2s 4ms/step - loss: 0.0430 - accuracy: 0.9870\n",
      "0.04303539916872978 0.9869999885559082\n"
     ]
    }
   ],
   "source": [
    "loss, acc = model.evaluate(x_test, y_test)\n",
    "print(loss, acc)"
   ]
  },
  {
   "cell_type": "code",
   "execution_count": 11,
   "metadata": {},
   "outputs": [],
   "source": [
    "import matplotlib.pyplot as plt\n",
    "from keras.models import load_model\n",
    "from PIL import Image\n",
    "import numpy as np"
   ]
  },
  {
   "cell_type": "code",
   "execution_count": 12,
   "metadata": {},
   "outputs": [],
   "source": [
    "### 加载DIY样本并进行预处理\n",
    "img_open = Image.open('../data/3.jpg')"
   ]
  },
  {
   "cell_type": "code",
   "execution_count": 13,
   "metadata": {},
   "outputs": [
    {
     "name": "stdout",
     "output_type": "stream",
     "text": [
      "(1, 28, 28, 1)\n"
     ]
    }
   ],
   "source": [
    "img_to_array = np.array(img_open).reshape(1,28,28,1)/255.0\n",
    "print(img_to_array.shape)"
   ]
  },
  {
   "cell_type": "code",
   "execution_count": 14,
   "metadata": {},
   "outputs": [
    {
     "data": {
      "text/plain": [
       "array([[2.2968724e-10, 1.0344683e-10, 3.6149670e-04, 9.9945754e-01,\n",
       "        7.2623391e-10, 4.9003389e-05, 1.0259845e-08, 5.6749752e-05,\n",
       "        7.5206597e-05, 1.4687100e-07]], dtype=float32)"
      ]
     },
     "execution_count": 14,
     "metadata": {},
     "output_type": "execute_result"
    }
   ],
   "source": [
    "model = load_model('../output/mnistTrain_cnn.h5')\n",
    "prediction = model.predict(img_to_array)\n",
    "prediction"
   ]
  },
  {
   "cell_type": "code",
   "execution_count": 15,
   "metadata": {},
   "outputs": [],
   "source": [
    "Final_Pred = [result.argmax() for result in prediction]"
   ]
  },
  {
   "cell_type": "code",
   "execution_count": 16,
   "metadata": {},
   "outputs": [
    {
     "name": "stdout",
     "output_type": "stream",
     "text": [
      "[3]\n"
     ]
    }
   ],
   "source": [
    "print(Final_Pred)"
   ]
  },
  {
   "cell_type": "code",
   "execution_count": 17,
   "metadata": {},
   "outputs": [
    {
     "name": "stdout",
     "output_type": "stream",
     "text": [
      "0概率 0.00%\n",
      "1概率 0.00%\n",
      "2概率 0.04%\n",
      "3概率 99.95%\n",
      "4概率 0.00%\n",
      "5概率 0.00%\n",
      "6概率 0.00%\n",
      "7概率 0.01%\n",
      "8概率 0.01%\n",
      "9概率 0.00%\n"
     ]
    }
   ],
   "source": [
    "counter = 0\n",
    "for i in prediction[0]:\n",
    "    percent = \"%.2f%%\"%(i*100)\n",
    "    print(str(counter)+\"概率\",percent)\n",
    "    counter += 1"
   ]
  },
  {
   "cell_type": "code",
   "execution_count": null,
   "metadata": {},
   "outputs": [],
   "source": []
  }
 ],
 "metadata": {
  "kernelspec": {
   "display_name": "py38",
   "language": "python",
   "name": "py38"
  },
  "language_info": {
   "codemirror_mode": {
    "name": "ipython",
    "version": 3
   },
   "file_extension": ".py",
   "mimetype": "text/x-python",
   "name": "python",
   "nbconvert_exporter": "python",
   "pygments_lexer": "ipython3",
   "version": "3.8.10"
  }
 },
 "nbformat": 4,
 "nbformat_minor": 2
}
