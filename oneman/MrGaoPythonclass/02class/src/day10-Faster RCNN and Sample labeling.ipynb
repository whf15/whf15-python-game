{
 "cells": [
  {
   "cell_type": "markdown",
   "metadata": {},
   "source": [
    "# 高精度目标检测（Faster RCNN）与样本标注之打造自己的样本集\n",
    "\n",
    "    1.目标检测样本集构成\n",
    "    2.样本集拍摄技巧\n",
    "    3.样本集预处理和增强\n",
    "    4.样本集制作工具与使用\n",
    "    5.一起动手做样本集"
   ]
  },
  {
   "cell_type": "markdown",
   "metadata": {},
   "source": [
    "标注文件（annotation.txt/annotation.csv/annotation.xml）\n"
   ]
  },
  {
   "cell_type": "code",
   "execution_count": 5,
   "metadata": {},
   "outputs": [
    {
     "name": "stdout",
     "output_type": "stream",
     "text": [
      "0.5625\n"
     ]
    }
   ],
   "source": [
    "from PIL import Image\n",
    "new_width = 640\n",
    "im = Image.open('../data/Duanwu Festival.jpg')\n",
    "(w,h) = im.size\n",
    "#计算当前图的宽高比\n",
    "ratio = h/w\n",
    "print(ratio)\n",
    "\n",
    "re_width = new_width\n",
    "re_height = new_width * ratio\n",
    "out = im.resize((re_width,int(re_height)),Image.ANTIALIAS)\n",
    "out.save('../output/n.jpg')"
   ]
  },
  {
   "cell_type": "code",
   "execution_count": null,
   "metadata": {},
   "outputs": [],
   "source": []
  }
 ],
 "metadata": {
  "kernelspec": {
   "display_name": "py38",
   "language": "python",
   "name": "py38"
  },
  "language_info": {
   "codemirror_mode": {
    "name": "ipython",
    "version": 3
   },
   "file_extension": ".py",
   "mimetype": "text/x-python",
   "name": "python",
   "nbconvert_exporter": "python",
   "pygments_lexer": "ipython3",
   "version": "3.8.10"
  }
 },
 "nbformat": 4,
 "nbformat_minor": 2
}
