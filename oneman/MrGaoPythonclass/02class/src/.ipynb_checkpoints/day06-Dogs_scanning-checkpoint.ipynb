{
 "cells": [
  {
   "cell_type": "markdown",
   "metadata": {},
   "source": [
    "## 制作自己的数据集\n",
    "\n",
    "### 要解决的问题：\n",
    "    1.实体样本与数据样本（先找图再变成数组）\n",
    "    2.样本标注问题（通过某种方式把图（样本）本身的内容做成标签对应到标注中，形成标注数组）\n",
    "    3.入网之前的数据结构\n",
    "\n",
    "### how:\n",
    "    1.样本的获取（官方数据集...）\n",
    "    2.样本的预处理（尺寸统一与网络匹配，对文件进行标注）\n",
    "    3.入网前数据预处理（图片转numpy数组，读取标签转onehot）"
   ]
  },
  {
   "cell_type": "code",
   "execution_count": 1,
   "metadata": {},
   "outputs": [
    {
     "name": "stdout",
     "output_type": "stream",
     "text": [
      "__MACOSX\n"
     ]
    }
   ],
   "source": [
    "import os\n",
    "import random\n",
    "from PIL import Image\n",
    "root = 'C:\\\\Users\\\\whfo\\\\Downloads\\\\第24讲资料和源码.zip\\\\第6讲资料和源码\\\\猫狗数据集\\\\'\n",
    "for mydir in os.listdir(root):\n",
    "    print(mydir)\n",
    "    break\n",
    "    for files in os.listdir(root+mydir):\n",
    "#         print(files)\n",
    "        try:\n",
    "            img = Image.open(root+mydir+'/'+files)\n",
    "            img = img.resize((100,100))\n",
    "            print(root+mydir+'/'+files)\n",
    "            img.save(root+mydir+'/'+files)\n",
    "        except:\n",
    "            os.remove(root+mydir+'/'+files)"
   ]
  },
  {
   "cell_type": "code",
   "execution_count": 1,
   "metadata": {},
   "outputs": [
    {
     "name": "stdout",
     "output_type": "stream",
     "text": [
      "__MACOSX\n",
      "狗\n",
      "猫\n"
     ]
    }
   ],
   "source": [
    "import os\n",
    "import random\n",
    "from PIL import Image\n",
    "\n",
    "root = 'C:\\\\Users\\\\whfo\\\\Downloads\\\\第24讲资料和源码.zip\\\\第6讲资料和源码\\\\猫狗数据集\\\\'\n",
    "counter = 0\n",
    "for mydir in os.listdir(root):\n",
    "    print(mydir)\n",
    "    \n",
    "#     for files in os.listdir(root+mydir):\n",
    "#         os.rename(root+mydir+'/'+str(files),root+mydir+'/'+str(counter)+'_'+str(files))\n",
    "#     counter += 1\n",
    "    "
   ]
  },
  {
   "cell_type": "markdown",
   "metadata": {},
   "source": [
    "### train_dogs"
   ]
  },
  {
   "cell_type": "code",
   "execution_count": 5,
   "metadata": {},
   "outputs": [],
   "source": [
    "from keras.layers import Conv2D, MaxPool2D, Flatten, Dropout, Dense, BatchNormalization\n",
    "from keras.utils import to_categorical\n",
    "from keras.optimizers import Adam\n",
    "from keras.losses import categorical_crossentropy\n",
    "import matplotlib.pyplot as plt\n",
    "import numpy as np\n",
    "import os\n",
    "from PIL import Image"
   ]
  },
  {
   "cell_type": "code",
   "execution_count": 6,
   "metadata": {},
   "outputs": [],
   "source": [
    "dataset_path = 'C:\\\\Users\\\\whfo\\\\Downloads\\\\第24讲资料和源码.zip\\\\第6讲资料和源码\\\\猫狗数据集\\\\'\n",
    "n_class = 2\n",
    "epochs = 250\n",
    "batchsize = 256"
   ]
  },
  {
   "cell_type": "code",
   "execution_count": null,
   "metadata": {},
   "outputs": [],
   "source": [
    "x = [] #建立一个样本列表\n",
    "y = [] #建立一个标注列表\n",
    "for mydir in os.listdir(dataset_path):\n",
    "#     print(mydir)\n",
    "    for file in os.listdir(dataset_path+mydir):\n",
    "        if file == '.DS_Store':\n",
    "            os.remove(dataset_path+mydir+'\\\\'+file)\n",
    "#         print(file+'1')              \n",
    "        else:\n",
    "            img = Image.open(dataset_path+mydir+'\\\\'+file) #读取图片\n",
    "            img = np.array(img)\n",
    "#             print(img)\n",
    "            label = int(str(file).split('_')[0]) #获取标签\n",
    "#             print(label)\n",
    "            x.append(img)\n",
    "            y.append(label)\n",
    "#             break\n",
    "    \n",
    "#样本列表转np数组\n",
    "x_train = np.array(x).astype('float32')/255.0\n",
    "y_train = np.array(y)\n",
    "y_train = to_categorical(y=y_train, num_classes=n_class)\n",
    "print(x_train.shape)\n",
    "print(y_train.shape)"
   ]
  },
  {
   "cell_type": "code",
   "execution_count": null,
   "metadata": {},
   "outputs": [],
   "source": []
  },
  {
   "cell_type": "code",
   "execution_count": 23,
   "metadata": {
    "collapsed": true
   },
   "outputs": [
    {
     "name": "stdout",
     "output_type": "stream",
     "text": [
      "[array([[[134, 118, 119],\n",
      "        [150, 136, 135],\n",
      "        [157, 143, 142],\n",
      "        ...,\n",
      "        [133, 131, 144],\n",
      "        [137, 135, 148],\n",
      "        [117, 115, 128]],\n",
      "\n",
      "       [[162, 146, 147],\n",
      "        [161, 145, 145],\n",
      "        [153, 139, 138],\n",
      "        ...,\n",
      "        [110, 109, 123],\n",
      "        [103, 102, 116],\n",
      "        [ 85,  84,  98]],\n",
      "\n",
      "       [[176, 157, 159],\n",
      "        [168, 152, 152],\n",
      "        [155, 141, 140],\n",
      "        ...,\n",
      "        [106, 107, 125],\n",
      "        [ 83,  84, 102],\n",
      "        [ 62,  63,  81]],\n",
      "\n",
      "       ...,\n",
      "\n",
      "       [[124, 150, 185],\n",
      "        [119, 143, 177],\n",
      "        [128, 151, 182],\n",
      "        ...,\n",
      "        [141, 138, 123],\n",
      "        [138, 136, 123],\n",
      "        [136, 134, 121]],\n",
      "\n",
      "       [[120, 146, 181],\n",
      "        [119, 143, 177],\n",
      "        [130, 153, 184],\n",
      "        ...,\n",
      "        [144, 141, 126],\n",
      "        [138, 136, 123],\n",
      "        [135, 133, 120]],\n",
      "\n",
      "       [[111, 137, 172],\n",
      "        [115, 139, 173],\n",
      "        [131, 154, 185],\n",
      "        ...,\n",
      "        [141, 138, 123],\n",
      "        [134, 132, 119],\n",
      "        [133, 131, 118]]], dtype=uint8), array([[[ 71,  56,  49],\n",
      "        [ 71,  56,  49],\n",
      "        [ 69,  55,  46],\n",
      "        ...,\n",
      "        [ 94,  87,  71],\n",
      "        [ 95,  88,  72],\n",
      "        [ 96,  89,  73]],\n",
      "\n",
      "       [[ 72,  57,  50],\n",
      "        [ 73,  58,  51],\n",
      "        [ 71,  57,  48],\n",
      "        ...,\n",
      "        [ 94,  87,  71],\n",
      "        [ 95,  88,  72],\n",
      "        [ 96,  89,  73]],\n",
      "\n",
      "       [[ 80,  65,  58],\n",
      "        [ 80,  65,  58],\n",
      "        [ 80,  66,  57],\n",
      "        ...,\n",
      "        [ 95,  88,  72],\n",
      "        [ 96,  89,  73],\n",
      "        [ 96,  89,  73]],\n",
      "\n",
      "       ...,\n",
      "\n",
      "       [[166,  90, 100],\n",
      "        [157,  81,  91],\n",
      "        [150,  73,  83],\n",
      "        ...,\n",
      "        [160,  39,  54],\n",
      "        [160,  39,  54],\n",
      "        [161,  40,  55]],\n",
      "\n",
      "       [[181,  65,  86],\n",
      "        [176,  60,  81],\n",
      "        [177,  59,  81],\n",
      "        ...,\n",
      "        [158,  37,  52],\n",
      "        [158,  37,  52],\n",
      "        [157,  36,  51]],\n",
      "\n",
      "       [[193,  56,  84],\n",
      "        [192,  55,  83],\n",
      "        [193,  54,  83],\n",
      "        ...,\n",
      "        [157,  36,  51],\n",
      "        [154,  33,  48],\n",
      "        [151,  30,  45]]], dtype=uint8)]\n",
      "[0, 1]\n"
     ]
    }
   ],
   "source": [
    "print(x)\n",
    "print(y)"
   ]
  },
  {
   "cell_type": "code",
   "execution_count": null,
   "metadata": {},
   "outputs": [],
   "source": []
  }
 ],
 "metadata": {
  "kernelspec": {
   "display_name": "py38",
   "language": "python",
   "name": "py38"
  },
  "language_info": {
   "codemirror_mode": {
    "name": "ipython",
    "version": 3
   },
   "file_extension": ".py",
   "mimetype": "text/x-python",
   "name": "python",
   "nbconvert_exporter": "python",
   "pygments_lexer": "ipython3",
   "version": "3.8.10"
  }
 },
 "nbformat": 4,
 "nbformat_minor": 2
}
