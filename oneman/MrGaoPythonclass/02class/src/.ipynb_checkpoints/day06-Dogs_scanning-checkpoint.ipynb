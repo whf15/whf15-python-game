{
 "cells": [
  {
   "cell_type": "markdown",
   "metadata": {},
   "source": [
    "## 制作自己的数据集\n",
    "\n",
    "### 要解决的问题：\n",
    "    1.实体样本与数据样本（先找图再变成数组）\n",
    "    2.样本标注问题（通过某种方式把图（样本）本身的内容做成标签对应到标注中，形成标注数组）\n",
    "    3.入网之前的数据结构\n",
    "\n",
    "### how:\n",
    "    1.样本的获取（官方数据集...）\n",
    "    2.样本的预处理（尺寸统一与网络匹配，对文件进行标注）\n",
    "    3.入网前数据预处理（图片转numpy数组，读取标签转onehot）"
   ]
  },
  {
   "cell_type": "code",
   "execution_count": 1,
   "metadata": {},
   "outputs": [
    {
     "ename": "SyntaxError",
     "evalue": "unexpected EOF while parsing (CreatorTemp/ipykernel_49428/1841074348.py, line 13)",
     "output_type": "error",
     "traceback": [
      "\u001b[1;36m  File \u001b[1;32m\"C:\\Users\\Public\\Documents\\Wondershare\\CreatorTemp/ipykernel_49428/1841074348.py\"\u001b[1;36m, line \u001b[1;32m13\u001b[0m\n\u001b[1;33m    except:\u001b[0m\n\u001b[1;37m           ^\u001b[0m\n\u001b[1;31mSyntaxError\u001b[0m\u001b[1;31m:\u001b[0m unexpected EOF while parsing\n"
     ]
    }
   ],
   "source": [
    "import os\n",
    "import random\n",
    "from PIL import Image\n",
    "root = '../data/'\n",
    "for mydir in os.listdir(root):\n",
    "    for files in os.listdir(root+mydir):\n",
    "        print(files)\n",
    "        try:\n",
    "            img = Image.open(root+mydir+'/'+files)\n",
    "            img = img.resize((100,100))\n",
    "            print(root+mydir+'/'+files)\n",
    "            img.save(root+mydir+'/'+files)\n",
    "        except:\n",
    "            os.remove(root+mydir+'/'+files)"
   ]
  },
  {
   "cell_type": "code",
   "execution_count": null,
   "metadata": {},
   "outputs": [],
   "source": []
  }
 ],
 "metadata": {
  "kernelspec": {
   "display_name": "py38",
   "language": "python",
   "name": "py38"
  },
  "language_info": {
   "codemirror_mode": {
    "name": "ipython",
    "version": 3
   },
   "file_extension": ".py",
   "mimetype": "text/x-python",
   "name": "python",
   "nbconvert_exporter": "python",
   "pygments_lexer": "ipython3",
   "version": "3.8.10"
  }
 },
 "nbformat": 4,
 "nbformat_minor": 2
}
