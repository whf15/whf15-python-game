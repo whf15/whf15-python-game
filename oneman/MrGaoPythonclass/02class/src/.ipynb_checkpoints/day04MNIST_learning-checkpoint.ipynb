{
 "cells": [
  {
   "cell_type": "markdown",
   "metadata": {},
   "source": [
    "C:\\ProgramData\\Anaconda3\\Scripts\\win\n",
    "\n",
    "    py38环境启动失败报错解决：ImportError: DLL load failed while importing win32api: 找不到指定的模块\n",
    "    首先，找到文件pywin32_postinstall.py，路径在[Path to Anaconda3]\\Scripts\\\n",
    "    然后执行：python [Path to Anaconda3]\\Scripts\\pywin32_postinstall.py -install 即可"
   ]
  },
  {
   "cell_type": "markdown",
   "metadata": {},
   "source": [
    "### 图片预处理和数据结构的理解\n",
    "   "
   ]
  },
  {
   "cell_type": "code",
   "execution_count": 2,
   "metadata": {},
   "outputs": [],
   "source": [
    "import tensorflow as tf"
   ]
  },
  {
   "cell_type": "code",
   "execution_count": 3,
   "metadata": {},
   "outputs": [],
   "source": [
    "import numpy as np\n",
    "from PIL import Image"
   ]
  },
  {
   "cell_type": "code",
   "execution_count": 6,
   "metadata": {},
   "outputs": [
    {
     "name": "stdout",
     "output_type": "stream",
     "text": [
      "[[[250 251 245]\n",
      "  [249 250 244]\n",
      "  [249 250 242]\n",
      "  ...\n",
      "  [179 185  99]\n",
      "  [165 169  84]\n",
      "  [164 171  91]]\n",
      "\n",
      " [[248 249 241]\n",
      "  [247 249 238]\n",
      "  [247 249 238]\n",
      "  ...\n",
      "  [167 172  88]\n",
      "  [170 174  80]\n",
      "  [167 172  82]]\n",
      "\n",
      " [[247 249 238]\n",
      "  [247 249 236]\n",
      "  [247 249 236]\n",
      "  ...\n",
      "  [155 162  85]\n",
      "  [178 183  91]\n",
      "  [184 189  95]]\n",
      "\n",
      " ...\n",
      "\n",
      " [[ 59  58  54]\n",
      "  [ 52  49  42]\n",
      "  [ 54  50  39]\n",
      "  ...\n",
      "  [ 14  13   9]\n",
      "  [ 16  15  11]\n",
      "  [ 26  25  21]]\n",
      "\n",
      " [[ 48  47  42]\n",
      "  [ 53  49  38]\n",
      "  [ 59  51  40]\n",
      "  ...\n",
      "  [ 16  15  11]\n",
      "  [ 14  13   9]\n",
      "  [ 16  15  11]]\n",
      "\n",
      " [[ 75  71  60]\n",
      "  [ 65  61  50]\n",
      "  [ 66  59  49]\n",
      "  ...\n",
      "  [ 26  25  21]\n",
      "  [ 27  26  22]\n",
      "  [ 40  39  35]]]\n"
     ]
    }
   ],
   "source": [
    "#图片在计算机茨城县的状态/方式\n",
    "img = Image.open(\"../data/Duanwu Festival.jpg\")\n",
    "to_array = np.array(img)\n",
    "print(to_array)"
   ]
  },
  {
   "cell_type": "code",
   "execution_count": null,
   "metadata": {},
   "outputs": [],
   "source": []
  }
 ],
 "metadata": {
  "kernelspec": {
   "display_name": "py38",
   "language": "python",
   "name": "py38"
  },
  "language_info": {
   "codemirror_mode": {
    "name": "ipython",
    "version": 3
   },
   "file_extension": ".py",
   "mimetype": "text/x-python",
   "name": "python",
   "nbconvert_exporter": "python",
   "pygments_lexer": "ipython3",
   "version": "3.8.10"
  }
 },
 "nbformat": 4,
 "nbformat_minor": 2
}
