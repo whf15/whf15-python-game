{
 "cells": [
  {
   "cell_type": "markdown",
   "metadata": {},
   "source": [
    "## Artificial Intelligence\n",
    "    人赋予机器的智能，基于人类对智能的理解，来源于人类大脑结构的灵感，“改造”了现有的计算机，让计算机具有了“智能”。做到了很多人类做不到的事情，或者把人类可以做到事情的效率提高数倍，大大提高生产效率。目前的人工智能还处于“弱智能”阶段\n",
    "\n",
    "### 监督学习\n",
    "    一个小宝宝看见一棵树，爸爸告诉他这是一颗树，宝宝努力的记下了这个树的轮廓等特征，在看到另外一颗不一样的树，爸爸又告诉他这也是一棵树，宝宝再次记忆这棵树的特征。如此重复，这个过程叫做监督学习\n",
    "    \n",
    "### 人工智能的分类\n",
    "    人工智能（AI） 大环境\n",
    "    > 机器学习（Machine Learning） 传统算法，算力要求不高CPU\n",
    "    > 深度学习（Deep Learning） 深度算法{\n",
    "                            监督学习-----分类\n",
    "                            无监督学习---聚类\n",
    "                            }\n",
    "    > 强化训练（Reinforcement Learning）"
   ]
  },
  {
   "cell_type": "markdown",
   "metadata": {},
   "source": [
    "### 计算机是如何保存和学习特征的呢？\n",
    "    ALL is Number\n",
    "  一张图片    --存储-->>    以数组的方式存储 [210,0,186,21,......]\n",
    "  \n",
    "  |\n",
    "  |学习\n",
    "  \n",
    " V  \n",
    "  \n",
    "学习的过程时一个计算的过程 + - * /\n",
    "\n",
    "     [ \n",
    "\n",
    "       [210,0,186],\n",
    "\n",
    "       [182,69,91],\n",
    "\n",
    "       [143,27,55]\n",
    "\n",
    "     ]\n",
    "  "
   ]
  },
  {
   "cell_type": "markdown",
   "metadata": {},
   "source": [
    "## 搭建AI环境\n",
    "    1.安装anaconda,视频中的python环境是3.8,由于我的是3.6,新增一个环境\n",
    "        打开anaconda prompt >> conda create -n py38 python=3.8\n",
    "        由于官网下载实在太慢,可添加相关的国内镜像\n",
    "        打开C:\\Users\\whfo中的.condarc添加\n",
    "    2.添加到jupyter中\n",
    "        先激活环境activate py38,可以看到前面出现(py38) \n",
    "        pip install ipykernel\n",
    "        python -m ipykernel install --name py38,此时新打开一个jpyter notebook,在kernel中出现py38即为成功\n",
    "    3.导入tensorflow和keras(速度很快)"
   ]
  },
  {
   "cell_type": "markdown",
   "metadata": {},
   "source": [
    "## AI名词解释\n",
    "  ### 1.网络层的概念\n",
    "  |层级|说明|\n",
    "  |:-------------:|:---------------|\n",
    "      |1)卷积层 Convolutional layer : |提取输入的不同特征,第一层卷积层可能只能提取一些低级的特征如边缘,线条和角等层级,更多层的网络能从低级特征中迭代提取更复杂的特征|\n",
    "      |2)池化层 Pooling layer     :|接着卷积层,卷积层提取出来特征,然后由池化层进行降维采样,以作到数据减少|\n",
    "      |3)全连接层 Fully connected layer|全连接层通常处在网络结构的最后部分,用于整合输出其他层的结果|\n",
    "      |4)模型 model|以上网络层组合的统称|"
   ]
  },
  {
   "cell_type": "markdown",
   "metadata": {},
   "source": [
    "### 2.基础概念\n",
    "   |名词|解释|\n",
    "   |:--------:|:---------|\n",
    "   |学习/训练 train|针对样本进行矩阵计算，即针对需要解决的识别问题进行学习或训练，最终可以达到通过机器对某个事物进行分辨的目的|\n",
    "   |预测/推理 predict|将学习的成果运用自实际场景中，对目标样本、素材进行判断或分类|\n",
    "   |样本 sample|训练集：用于神经网络在学习训练中使用的素材(越多越好) 验证集：用于神经网络在学习训练验证准确性的素（训练集的10%-20%）预测集：用于在实际环境、应用中对网络准确性的验（实际情况）|\n",
    "    "
   ]
  },
  {
   "cell_type": "markdown",
   "metadata": {},
   "source": [
    "### 3.重要的运算函数\n",
    "   |名词|解释|\n",
    "   |:--------:|:---------|\n",
    "   |运算函数 loss|用来评估模型或训练的性能或结果，直观的理解就是评估预测物体与真实物体的差异|\n",
    "   |优化器 optimizer|优化器是一个算法，以找到最优的方法减少损失loss|\n",
    "   |激活函数 activation|通过增加更多的可能性从而提高学习效率的方法或算法|"
   ]
  },
  {
   "cell_type": "code",
   "execution_count": null,
   "metadata": {},
   "outputs": [],
   "source": []
  }
 ],
 "metadata": {
  "kernelspec": {
   "display_name": "Python 3",
   "language": "python",
   "name": "python3"
  },
  "language_info": {
   "codemirror_mode": {
    "name": "ipython",
    "version": 3
   },
   "file_extension": ".py",
   "mimetype": "text/x-python",
   "name": "python",
   "nbconvert_exporter": "python",
   "pygments_lexer": "ipython3",
   "version": "3.7.4"
  }
 },
 "nbformat": 4,
 "nbformat_minor": 2
}
