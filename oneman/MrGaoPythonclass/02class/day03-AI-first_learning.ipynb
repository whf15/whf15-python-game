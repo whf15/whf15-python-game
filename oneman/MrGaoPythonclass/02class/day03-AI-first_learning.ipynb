{
 "cells": [
  {
   "cell_type": "markdown",
   "metadata": {},
   "source": [
    "## Artificial Intelligence\n",
    "    人赋予机器的智能，基于人类对智能的理解，来源于人类大脑结构的灵感，“改造”了现有的计算机，让计算机具有了“智能”。做到了很多人类做不到的事情，或者把人类可以做到事情的效率提高数倍，大大提高生产效率。目前的人工智能还处于“弱智能”阶段\n",
    "\n",
    "### 监督学习\n",
    "    一个小宝宝看见一棵树，爸爸告诉他这是一颗树，宝宝努力的记下了这个树的轮廓等特征，在看到另外一颗不一样的树，爸爸又告诉他这也是一棵树，宝宝再次记忆这棵树的特征。如此重复，这个过程叫做监督学习\n",
    "    \n",
    "### 人工智能的分类\n",
    "    人工智能（AI） 大环境\n",
    "    > 机器学习（Machine Learning） 传统算法，算力要求不高CPU\n",
    "    > 深度学习（Deep Learning） 深度算法{\n",
    "                            监督学习-----分类\n",
    "                            无监督学习---聚类\n",
    "                            }\n",
    "    > 强化训练（Reinforcement Learning）"
   ]
  },
  {
   "cell_type": "markdown",
   "metadata": {},
   "source": [
    "### 计算机是如何保存和学习特征的呢？\n",
    "    ALL is Number\n",
    "  一张图片    --存储-->>    以数组的方式存储 [210,0,186,21,......]\n",
    "  \n",
    "  |\n",
    "  |学习\n",
    "  \n",
    " V  \n",
    "  \n",
    "学习的过程时一个计算的过程 + - * /\n",
    "\n",
    "     [ \n",
    "\n",
    "       [210,0,186],\n",
    "\n",
    "       [182,69,91],\n",
    "\n",
    "       [143,27,55]\n",
    "\n",
    "     ]\n",
    "  "
   ]
  },
  {
   "cell_type": "code",
   "execution_count": null,
   "metadata": {},
   "outputs": [],
   "source": []
  },
  {
   "cell_type": "code",
   "execution_count": null,
   "metadata": {},
   "outputs": [],
   "source": []
  }
 ],
 "metadata": {
  "kernelspec": {
   "display_name": "Python 3",
   "language": "python",
   "name": "python3"
  },
  "language_info": {
   "codemirror_mode": {
    "name": "ipython",
    "version": 3
   },
   "file_extension": ".py",
   "mimetype": "text/x-python",
   "name": "python",
   "nbconvert_exporter": "python",
   "pygments_lexer": "ipython3",
   "version": "3.7.4"
  }
 },
 "nbformat": 4,
 "nbformat_minor": 2
}
