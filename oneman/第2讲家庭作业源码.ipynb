{
 "cells": [
  {
   "cell_type": "markdown",
   "metadata": {},
   "source": [
    "### 打印 姓名 年龄 爱好"
   ]
  },
  {
   "cell_type": "code",
   "execution_count": 3,
   "metadata": {},
   "outputs": [
    {
     "name": "stdout",
     "output_type": "stream",
     "text": [
      "姓名： 正正\n",
      "年龄： 28\n",
      "爱好： 航模\n"
     ]
    }
   ],
   "source": [
    "print('姓名：','正正')\n",
    "print('年龄：',28)\n",
    "print('爱好：','航模')"
   ]
  },
  {
   "cell_type": "markdown",
   "metadata": {},
   "source": [
    "###  打印心形"
   ]
  },
  {
   "cell_type": "code",
   "execution_count": 4,
   "metadata": {},
   "outputs": [
    {
     "name": "stdout",
     "output_type": "stream",
     "text": [
      "\n",
      "    @@@@@@@@@[\\@@@@@@@@@@@@@@@@@@@@@@@@@@@    \n",
      "    @@@@[         ,@@@@@@@@`         \\@@@@    \n",
      "    @@/             ,@@@@`             \\@@    \n",
      "    @@                @@                @@    \n",
      "    @^                                  ,@    \n",
      "    @                                    @    \n",
      "    @                                    @    \n",
      "    @^                                  =@    \n",
      "    @@`                                ,@@    \n",
      "    @@@\\                              /@@@    \n",
      "    @@@@@@`                        ]@@@@@@    \n",
      "    @@@@@@@@@`                  ]@@@@@@@@@    \n",
      "    @@@@@@@@@@@@`            ,@@@@@@@@@@@@    \n",
      "    @@@@@@@@@@@@@@\\        /@@@@@@@@@@@@@@    \n",
      "    @@@@@@@@@@@@@@@@\\    /@@@@@@@@@@@@@@@@    \n",
      "    @@@@@@@@@@@@@@@@@@^,@@@@@@@@@@@@@@@@@@    \n",
      "     \n",
      "\n"
     ]
    }
   ],
   "source": [
    " print('''\n",
    "     @@@@@@@@@[\\@@@@@@@@@@@@@@@@@@@@@@@@@@@    \n",
    "     @@@@[         ,@@@@@@@@`         \\@@@@    \n",
    "     @@/             ,@@@@`             \\@@    \n",
    "     @@                @@                @@    \n",
    "     @^                                  ,@    \n",
    "     @                                    @    \n",
    "     @                                    @    \n",
    "     @^                                  =@    \n",
    "     @@`                                ,@@    \n",
    "     @@@\\                              /@@@    \n",
    "     @@@@@@`                        ]@@@@@@    \n",
    "     @@@@@@@@@`                  ]@@@@@@@@@    \n",
    "     @@@@@@@@@@@@`            ,@@@@@@@@@@@@    \n",
    "     @@@@@@@@@@@@@@\\        /@@@@@@@@@@@@@@    \n",
    "     @@@@@@@@@@@@@@@@\\    /@@@@@@@@@@@@@@@@    \n",
    "     @@@@@@@@@@@@@@@@@@^,@@@@@@@@@@@@@@@@@@    \n",
    "      \n",
    " ''')"
   ]
  },
  {
   "cell_type": "markdown",
   "metadata": {},
   "source": [
    "### a-z A-Z 0-9 8位提取码"
   ]
  },
  {
   "cell_type": "code",
   "execution_count": 9,
   "metadata": {},
   "outputs": [
    {
     "name": "stdout",
     "output_type": "stream",
     "text": [
      "62\n",
      "我的提取码为： clW2XXC3\n"
     ]
    }
   ],
   "source": [
    "import random\n",
    "all_raw_code =  ['A','B','C','D','E','F','G','H','I','J','K','L','M','N','O','P','Q','R','S','T','U','V','W','X','Y','Z',\n",
    "                 '0','1','2','3','4','5','6','7','8','9',\n",
    "                 'a','b','c','d','e','f','g','h','i','j','k','l','m','n','o','p','q','r','s','t','u','v','w','x','y','z']\n",
    "\n",
    "print(len(all_raw_code)) # 26 + 26 + 10\n",
    "\n",
    "my_code = [] #列表\n",
    "for i in range(8): \n",
    "    gen_code = all_raw_code[random.randint(0,len(all_raw_code)-1)] #列表下标取值知识点\n",
    "    my_code.append(gen_code) #列表添加知识点\n",
    "print('我的提取码为：',''.join(my_code)) #"
   ]
  }
 ],
 "metadata": {
  "kernelspec": {
   "display_name": "Python 3",
   "language": "python",
   "name": "python3"
  },
  "language_info": {
   "codemirror_mode": {
    "name": "ipython",
    "version": 3
   },
   "file_extension": ".py",
   "mimetype": "text/x-python",
   "name": "python",
   "nbconvert_exporter": "python",
   "pygments_lexer": "ipython3",
   "version": "3.7.6"
  }
 },
 "nbformat": 4,
 "nbformat_minor": 4
}
