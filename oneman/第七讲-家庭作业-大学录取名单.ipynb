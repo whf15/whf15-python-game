{
 "cells": [
  {
   "cell_type": "markdown",
   "metadata": {},
   "source": [
    "### 函数家庭作业 - 大学录取名单"
   ]
  },
  {
   "cell_type": "code",
   "execution_count": null,
   "metadata": {},
   "outputs": [],
   "source": [
    "# 1.函数的参数包括如下变量：\n",
    "# 大学名称、\n",
    "# 专业、\n",
    "# 招生分数线、\n",
    "# 招生人数、\n",
    "# 招生老师名单、\n",
    "# 报考考生及其高考成绩\n",
    "\n",
    "# 2.需要用到本讲所有的参数形式\n",
    "\n",
    "# 3.给函数传参，运行后，需要输出如下信息：\n",
    "\n",
    "# 大学名称、\n",
    "# 专业、\n",
    "# 招生分数线、\n",
    "# 招生人数、\n",
    "# 招生老师名单、\n",
    "# 报考考生及其高考成绩、\n",
    "# 报考人数、\n",
    "# 达线人数、\n",
    "# 录取名单(分数由高到低排序)、\n",
    "# 录取人数\n"
   ]
  },
  {
   "cell_type": "code",
   "execution_count": 4,
   "metadata": {
    "scrolled": true
   },
   "outputs": [
    {
     "name": "stdout",
     "output_type": "stream",
     "text": [
      "**演示输出排序输出**: [('王强', 583), ('李阳', 575), ('徐增', 569), ('齐飞', 557)] \n",
      "\n",
      "学校：西北大学；\n",
      "专业：计算机科学；\n",
      "录取分数线：550；\n",
      "招生人数：2\n",
      "招生老师：('张老师', '王老师', '李老师')；\n",
      "考生名单及分数：{'张旭': '540', '李阳': '575', '王强': '583', '徐增': '569', '齐飞': '557'}；\n",
      "报考人数：5；\n",
      "达线人数：4\n",
      "录取名单(分数由高到低排序)：{'王强': 583, '李阳': 575};\n",
      "录取人数：2\n"
     ]
    }
   ],
   "source": [
    "#模拟高考录取的小练习\n",
    "\n",
    "pass_score_dic={}#过分数线名单\n",
    "pass_list=[]#最终录取名单\n",
    "\n",
    "def enroll_list(university,major,pass_score=550,pass_count=10,*args,**kwargs):\n",
    "    '''\n",
    "    函数参数说明：\n",
    "    #university大学名称， **** 关键字参数\n",
    "    #major专业，  *********** 关键字参数 \n",
    "    #pass_score招生分数线，*** 默参\n",
    "    #pass_count招生人数，  *** 默参\n",
    "    #args招生老师名单，     *** 可变参数-不确定数量\n",
    "    #kwargs报考考生及其高考成绩 ***可变关键字-不确定考生名字和成绩\n",
    "    \n",
    "    '''\n",
    "    global pass_score_dic, pass_list #注意这里！全局变量的引用！ \n",
    "    ##重要的补充知识，一会说！\n",
    "    \n",
    "    if len(kwargs)>0:  #首先要判断是否有报考的考生这个是第一判断，没有报考人，那么以下任何逻辑没有意义\n",
    "        for stu,score in kwargs.items(): #把考生和分数先分开 dict的items key和values\n",
    "            if int(score)>pass_score: #判断是否高于录取分数（达到分数线的我才要）\n",
    "                pass_score_dic[stu]=int(score) #操作列表的添加  #特别注意对全局的操作，可变类型添加无需global\n",
    "\n",
    "        #对已经过分数线的同学按照分数进行高到低排序\n",
    "        dic_desc=sorted(pass_score_dic.items(),key=lambda k:k[1],reverse=True)\n",
    "        print('**演示输出排序输出**:',dic_desc,'\\n')#注意这里返回的结构 {a:1,c:2} -> [(a,1),(c,2)]  \n",
    "\n",
    "        #设定取值的量 切片\n",
    "        for stu_pass in dic_desc[0:pass_count]:# 特别注意这里告诉系统，我要提取多少个出来pass_count是我们的录取总量\n",
    "            pass_list.append(stu_pass) #符合录取条件的前XX名同学进入 最终录取名单\n",
    "\n",
    "        print(f'学校：{university}；\\n专业：{major}；\\n录取分数线：{pass_score}；\\n招生人数：{pass_count}\\n招生老师：{args}；\\n考生名单及分数：{kwargs}；\\n报考人数：{len(kwargs)}；\\n达线人数：{len(pass_score_dic)}\\n录取名单(分数由高到低排序)：{dict(pass_list)};\\n录取人数：{len(pass_list)}')\n",
    "    \n",
    "    else:\n",
    "        print('没有人报考')\n",
    "        \n",
    "enroll_list('西北大学','计算机科学',550,2,'张老师','王老师','李老师',张旭='540',李阳='575',王强='583',徐增='569',齐飞='557') \n",
    "\n",
    "\n"
   ]
  },
  {
   "cell_type": "code",
   "execution_count": null,
   "metadata": {},
   "outputs": [],
   "source": []
  },
  {
   "cell_type": "markdown",
   "metadata": {},
   "source": [
    "### 全局变量补充知识 "
   ]
  },
  {
   "cell_type": "code",
   "execution_count": 13,
   "metadata": {},
   "outputs": [],
   "source": [
    "dict_data={1:1,2:2} #可变\n",
    "int_data = 100 #不可变\n",
    "def g_func():\n",
    "    global dict_data,int_data\n",
    "    dict_data[1]=123 #直接引用\n",
    "#     dict_data = {}\n",
    "    print('函数内:',dict_data)\n",
    "#     global int_data #不可变 修改需要 声明\n",
    "    int_data=1000\n",
    "    print('函数内:',int_data)\n"
   ]
  },
  {
   "cell_type": "code",
   "execution_count": 14,
   "metadata": {},
   "outputs": [
    {
     "name": "stdout",
     "output_type": "stream",
     "text": [
      "函数内: {1: 123, 2: 2}\n",
      "函数内: 1000\n",
      "全局变量dict-> {1: 123, 2: 2} 全局变量int-> 100\n"
     ]
    }
   ],
   "source": [
    "g_func()\n",
    "print('全局变量dict->',dict_data,'全局变量int->',int_data,sep=' ')"
   ]
  },
  {
   "cell_type": "markdown",
   "metadata": {},
   "source": [
    "### 关于列表基于索引范围取值的 特权！"
   ]
  },
  {
   "cell_type": "code",
   "execution_count": 23,
   "metadata": {},
   "outputs": [
    {
     "name": "stdout",
     "output_type": "stream",
     "text": [
      "4\n",
      "('王强', 583)\n",
      "('李阳', 575)\n"
     ]
    }
   ],
   "source": [
    "list_test = [('王强', 583), ('李阳', 575), ('徐增', 569), ('齐飞', 557)]\n",
    "print(len(list_test))\n",
    "# print(list_test[:10])\n",
    "for x in list_test[0:2]:\n",
    "    print(x)"
   ]
  }
 ],
 "metadata": {
  "kernelspec": {
   "display_name": "Python 3",
   "language": "python",
   "name": "python3"
  },
  "language_info": {
   "codemirror_mode": {
    "name": "ipython",
    "version": 3
   },
   "file_extension": ".py",
   "mimetype": "text/x-python",
   "name": "python",
   "nbconvert_exporter": "python",
   "pygments_lexer": "ipython3",
   "version": "3.7.6"
  }
 },
 "nbformat": 4,
 "nbformat_minor": 4
}
