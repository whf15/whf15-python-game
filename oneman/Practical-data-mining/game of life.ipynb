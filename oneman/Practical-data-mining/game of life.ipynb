{
 "cells": [
  {
   "cell_type": "markdown",
   "metadata": {
    "run_control": {
     "frozen": false,
     "read_only": false
    }
   },
   "source": [
    "## game of life\n",
    "生命游戏由一个无限二维平面以及被定义在这个平面上的几条简单规则组成，一般来说，这个无限二维平面是由无限个相同大小的方形网格组成的，定义于其上的规则有：\n",
    "\n",
    "+ 每个网格称为cell\n",
    "+ 每个cell有两种状态，alive和dead，分别用两种不同的颜色来表示\n",
    "+ 每个cell的状态变化受其周围8个cell影响\n",
    "+ 如果一个活的(alive)cell，其周围的活的cell数量少于2——即为0或1，则这个cell将死去(dead)\n",
    "+ 如果一个活的cell，其周围的活的cell数量为2或3，则它继续存活\n",
    "+ 如果一个活的cell，其周围的活的cell数量超过3——即为4至8，则这个cell将死去\n",
    "+ 如果一个死的cell，其周围的活的cell数量为3，则它成为活的cell，否则仍然为死的cell\n",
    "\n",
    "可以把最初的细胞结构定义为种子，当所有在种子中的细胞同时被以上规则处理后, 可以得到第一代细胞图。按规则继续处理当前的细胞图，可以得到下一代的细胞图，周而复始。\n",
    "\n",
    "For example, in the diagram below, grey cells are live. In the transition from Generation 0 to 1, the cell marked \"E\" becomes empty (dies off) because it has zero live neighbors.  In the next transition, the cell marked \"L\" becomes live, because it has 3 live neighbors. All other cells stay the same. \n",
    "\n",
    "<table><tr><td><table>\n",
    "  <tr>\n",
    "    <td >&nbsp;&nbsp;&nbsp;&nbsp;\n",
    "    <td >&nbsp;&nbsp;&nbsp;&nbsp;\n",
    "    <td >&nbsp;&nbsp;&nbsp;&nbsp;\n",
    "    <td >&nbsp;&nbsp;&nbsp;&nbsp;\n",
    "    <td >&nbsp;&nbsp;&nbsp;&nbsp;\n",
    "  <tr>\n",
    "    <td >&nbsp;&nbsp;&nbsp;&nbsp;\n",
    "    <td >&nbsp;&nbsp;&nbsp;&nbsp;\n",
    "    <td >&nbsp;&nbsp;&nbsp;&nbsp;\n",
    "    <td bgcolor=lightgrey>&nbsp;E&nbsp;\n",
    "    <td >&nbsp;&nbsp;&nbsp;&nbsp;\n",
    "  <tr>\n",
    "    <td>&nbsp;&nbsp;&nbsp;\n",
    "    <td bgcolor=lightgrey>&nbsp;&nbsp;&nbsp;\n",
    "    <td >&nbsp;&nbsp;&nbsp;\n",
    "    <td >&nbsp;&nbsp;&nbsp;\n",
    "    <td >&nbsp;&nbsp;&nbsp;&nbsp;\n",
    "  <tr>\n",
    "    <td ></td>&nbsp;&nbsp;&nbsp;\n",
    "    <td bgcolor=lightgrey>&nbsp;&nbsp;&nbsp;\n",
    "    <td bgcolor=lightgrey>&nbsp;&nbsp;&nbsp;\n",
    "    <td >&nbsp;&nbsp;&nbsp;\n",
    "    <td >&nbsp;&nbsp;&nbsp;&nbsp;\n",
    "  <tr>\n",
    "    <td >&nbsp;&nbsp;&nbsp;\n",
    "    <td >&nbsp;&nbsp;&nbsp;\n",
    "    <td >&nbsp;&nbsp;&nbsp;\n",
    "    <td >&nbsp;&nbsp;&nbsp;\n",
    "    <td >&nbsp;&nbsp;&nbsp;&nbsp;\n",
    "</table>\n",
    "<br><center>Generation 0\n",
    "\n",
    "<td><table>\n",
    "  <tr>\n",
    "    <td >&nbsp;&nbsp;&nbsp;\n",
    "    <td >&nbsp;&nbsp;&nbsp;\n",
    "    <td >&nbsp;&nbsp;&nbsp;\n",
    "    <td >&nbsp;&nbsp;&nbsp;\n",
    "    <td >&nbsp;&nbsp;&nbsp;&nbsp;\n",
    "  <tr>\n",
    "    <td >&nbsp;&nbsp;&nbsp;&nbsp;\n",
    "    <td >&nbsp;&nbsp;&nbsp;&nbsp;\n",
    "    <td >&nbsp;&nbsp;&nbsp;&nbsp;\n",
    "    <td >&nbsp;&nbsp;&nbsp;&nbsp;\n",
    "    <td >&nbsp;&nbsp;&nbsp;&nbsp;\n",
    "  <tr>\n",
    "    <td>&nbsp;&nbsp;&nbsp;\n",
    "    <td bgcolor=lightgrey>&nbsp;&nbsp;&nbsp;\n",
    "    <td >&nbsp;L\n",
    "    <td >&nbsp;&nbsp;&nbsp;\n",
    "    <td >&nbsp;&nbsp;&nbsp;&nbsp;\n",
    "  <tr>\n",
    "    <td ></td>&nbsp;&nbsp;&nbsp;\n",
    "    <td bgcolor=lightgrey>&nbsp;&nbsp;&nbsp;\n",
    "    <td bgcolor=lightgrey>&nbsp;&nbsp;&nbsp;\n",
    "    <td >&nbsp;&nbsp;&nbsp;\n",
    "    <td >&nbsp;&nbsp;&nbsp;&nbsp;\n",
    "  </tr>\n",
    "  <tr>\n",
    "    <td >&nbsp;&nbsp;&nbsp;\n",
    "    <td >&nbsp;&nbsp;&nbsp;\n",
    "    <td >&nbsp;&nbsp;&nbsp;\n",
    "    <td >&nbsp;&nbsp;&nbsp;\n",
    "    <td >&nbsp;&nbsp;&nbsp;&nbsp;\n",
    "  </tr>\n",
    "</table>\n",
    "<br><center>Generation 1\n",
    "\n",
    "<td><table>\n",
    "  <tr>\n",
    "    <td >&nbsp;&nbsp;&nbsp;\n",
    "    <td >&nbsp;&nbsp;&nbsp;\n",
    "    <td >&nbsp;&nbsp;&nbsp;\n",
    "    <td >&nbsp;&nbsp;&nbsp;\n",
    "    <td >&nbsp;&nbsp;&nbsp;&nbsp;\n",
    "  <tr>\n",
    "    <td >&nbsp;&nbsp;&nbsp;&nbsp;\n",
    "    <td >&nbsp;&nbsp;&nbsp;&nbsp;\n",
    "    <td >&nbsp;&nbsp;&nbsp;&nbsp;\n",
    "    <td >&nbsp;&nbsp;&nbsp;&nbsp;\n",
    "    <td >&nbsp;&nbsp;&nbsp;&nbsp;\n",
    "  <tr>\n",
    "    <td>&nbsp;&nbsp;&nbsp;\n",
    "    <td bgcolor=lightgrey>&nbsp;&nbsp;&nbsp;\n",
    "    <td bgcolor=lightgrey>&nbsp;&nbsp;&nbsp;\n",
    "    <td >&nbsp;&nbsp;&nbsp;\n",
    "    <td >&nbsp;&nbsp;&nbsp;&nbsp;\n",
    "  <tr>\n",
    "    <td ></td>&nbsp;&nbsp;&nbsp;\n",
    "    <td bgcolor=lightgrey>&nbsp;&nbsp;&nbsp;\n",
    "    <td bgcolor=lightgrey>&nbsp;&nbsp;&nbsp;\n",
    "    <td >&nbsp;&nbsp;&nbsp;\n",
    "    <td >&nbsp;&nbsp;&nbsp;&nbsp;\n",
    "  </tr>\n",
    "  <tr>\n",
    "    <td >&nbsp;&nbsp;&nbsp;\n",
    "    <td >&nbsp;&nbsp;&nbsp;\n",
    "    <td >&nbsp;&nbsp;&nbsp;\n",
    "    <td >&nbsp;&nbsp;&nbsp;\n",
    "    <td >&nbsp;&nbsp;&nbsp;&nbsp;\n",
    "  </tr>\n",
    "</table>\n",
    "<br><center>Generation 2\n",
    "</table>\n",
    "\n",
    "http://www.zmonster.me/2014/07/04/game-of-life-and-implementation-with-python.html\n",
    "\n",
    "# Developing a Life Program\n",
    "\n",
    "To create a program to play Life, start with the vocabulary of concepts:\n",
    "\n",
    "+ **World**\n",
    "+ **Cell**\n",
    "+ **Live/Dead**\n",
    "+ **Neighbors**\n",
    "+ **Next Generation**\n",
    "+ **Display**\n",
    "+ **Live Neighbor Counts**\n",
    "\n",
    "and consider how to implement them:\n",
    "\n",
    "+ **World**: The state of the world must represent which cells are empty and which are live. The tricky part is that the number of cells is **infinite**, and we can't store an infinite array in a finite computer.  I can think of three ways to deal with this problem:\n",
    "  1. **Change the rules**; make the world finite instead of infinite. (Cells at the edge of the world have fewer neighbors, or perhaps they wrap around to the other side of the world.)\n",
    "  2. Use a **finite rectangular window** that covers all the live cells in the infinite grid. \n",
    "<br>Example: `world = [[0, 0, 0, 0, 0], [0, 0, 0, 1, 0], [0, 1, 0, 0, 0], [0, 1, 1, 0, 0], [0, 0, 0, 0, 0]]` \n",
    "\n",
    "  3. Represent a world as a **set of live cells.**  This set will grow and shrink in size from one generation to the next, but we don't have to worry about overflowing the edges of an array.\n",
    "<br>Example: `world = {(3, 1), (1, 2), (1, 3), (2, 3)}` \n",
    "<br>I will go with this choice.\n",
    "\n",
    "\n",
    "+ **Cell**: Each cell will be represented as an (x, y) pair of integer coordinates. <br>Example: `cell = (1, 2)`.\n",
    "+ **Live/Empty**: \n",
    "A cell is live if it is a member of the set of live cells. \n",
    "<br>Example: \"`cell in world`\" is True, given the definition of `cell` and `world` above.\n",
    "+ **Neighbors**:  The cell `(x, y)` has eight neighbors, formed by adding or subtracting 1 from `x` or `y` or both. We can define\n",
    "a function `neighbors(cell)` to return this set.\n",
    "<br>Example: `neighbors((8, 8)) == [(7, 7), (8, 7), (9, 7), (7, 8), (9, 8), (7, 9), (8, 9), (9, 9)]`\n",
    "<table>\n",
    "  <tr style=\"height:3em\">\n",
    "    <td class=\"tg-031e\">(x-1, y-1)\n",
    "    <td class=\"tg-031e\">(x, y-1)\n",
    "    <td class=\"tg-031e\">(x+1, y-1)\n",
    "  <tr style=\"height:3em\">\n",
    "    <td class=\"tg-031e\">(x-1, y)</td>\n",
    "    <td bgcolor=\"lightgrey\">(x, y)</td>\n",
    "    <td class=\"tg-031e\">(x+1, y)</td>\n",
    "  <tr style=\"height:3em\">\n",
    "    <td class=\"tg-031e\">(x-1, y+1)</td>\n",
    "    <td class=\"tg-031e\">(x, y+1)</td>\n",
    "    <td class=\"tg-s6z2\">(x+1, y+1)</td>\n",
    "  </tr>\n",
    "</table>\n",
    "\n",
    "+ **Display**: We will need some way to display the state of the world. Let's defer that for now.\n",
    "\n",
    "+ **Next Generation**: We can define a function, `next_generation(world)`, that takes a world as input and returns\n",
    "a new world with the new set of live cells according to the rules.\n",
    "Example: `next_generation({(3, 1), (1, 2), (1, 3), (2, 3)}) == {(1, 2), (1, 3), (2, 3)}`\n",
    "\n",
    "+ **Live Neighbor Counts**: I need to know how many live neighbors each cell has. A good way to represent this is a dict of `{(x, y): count}`. But which cells need to be the keys of this dict? We can start with the live cells, and also add any cells neighboring the live cells. An efficient way to generate this dict is to create a `Counter` and pass it every neighbor of every live cell. This may feel like we're doing the counting \"backwards.\" Instead of asking \"for each cell, how many live neighbors does it have?\" we are saying \"for each live cell, increment the count of each of its neighbors.\" The two amount to the same thing because *neighbor* is symmetric&mdash;if P is a neighbor of Q, then Q is a neighbor of P. Below we see the neighbor counts for each of the three generations:\n",
    "\n",
    "\n",
    "<table><tr>\n",
    "\n",
    "<td><table>\n",
    "  <tr>\n",
    "    <td >&nbsp;&nbsp;&nbsp;\n",
    "    <td >&nbsp;&nbsp;&nbsp;\n",
    "    <td >&nbsp;&nbsp;1&nbsp;\n",
    "    <td >&nbsp;&nbsp;1&nbsp;\n",
    "    <td >&nbsp;&nbsp;1&nbsp;\n",
    "  <tr>\n",
    "    <td >&nbsp;&nbsp;1&nbsp;\n",
    "    <td >&nbsp;&nbsp;1&nbsp;\n",
    "    <td >&nbsp;&nbsp;2&nbsp;\n",
    "    <td bgcolor=lightgrey>&nbsp;&nbsp;&nbsp;&nbsp;\n",
    "    <td >&nbsp;&nbsp;1&nbsp;\n",
    "  <tr>\n",
    "    <td>&nbsp;&nbsp;2&nbsp;\n",
    "    <td bgcolor=lightgrey>&nbsp;&nbsp;2&nbsp;\n",
    "    <td >&nbsp;&nbsp;4&nbsp;\n",
    "    <td >&nbsp;&nbsp;2&nbsp;\n",
    "    <td >&nbsp;&nbsp;1&nbsp;\n",
    "  <tr>\n",
    "    <td >&nbsp;&nbsp;2&nbsp;\n",
    "    <td bgcolor=lightgrey>&nbsp;&nbsp;2&nbsp;\n",
    "    <td bgcolor=lightgrey>&nbsp;&nbsp;2&nbsp;\n",
    "    <td >&nbsp;&nbsp;1&nbsp;\n",
    "    <td >&nbsp;&nbsp;&nbsp;\n",
    "  </tr>\n",
    "  <tr>\n",
    "    <td >&nbsp;&nbsp;1&nbsp;\n",
    "    <td >&nbsp;&nbsp;2&nbsp;\n",
    "    <td >&nbsp;&nbsp;2&nbsp;\n",
    "    <td >&nbsp;&nbsp;1&nbsp;\n",
    "    <td >&nbsp;&nbsp;&nbsp;\n",
    "  </tr>\n",
    "</table>\n",
    "<br><center>Generation 0\n",
    "\n",
    "<td><table>\n",
    "  <tr>\n",
    "    <td >&nbsp;&nbsp;&nbsp;\n",
    "    <td >&nbsp;&nbsp;&nbsp;\n",
    "    <td >&nbsp;&nbsp;&nbsp;\n",
    "    <td >&nbsp;&nbsp;&nbsp;\n",
    "    <td >&nbsp;&nbsp;&nbsp;&nbsp;\n",
    "  <tr>\n",
    "    <td >&nbsp;&nbsp;1&nbsp;\n",
    "    <td >&nbsp;&nbsp;1&nbsp;\n",
    "    <td >&nbsp;&nbsp;1&nbsp;\n",
    "    <td >&nbsp;&nbsp;&nbsp;&nbsp;\n",
    "    <td >&nbsp;&nbsp;&nbsp;\n",
    "  <tr>\n",
    "    <td>&nbsp;&nbsp;2&nbsp;\n",
    "    <td bgcolor=lightgrey>&nbsp;&nbsp;2&nbsp;\n",
    "    <td >&nbsp;&nbsp;3&nbsp;\n",
    "    <td >&nbsp;&nbsp;1&nbsp;\n",
    "    <td >&nbsp;&nbsp;&nbsp;\n",
    "  <tr>\n",
    "    <td >&nbsp;&nbsp;2&nbsp;\n",
    "    <td bgcolor=lightgrey>&nbsp;&nbsp;2&nbsp;\n",
    "    <td bgcolor=lightgrey>&nbsp;&nbsp;2&nbsp;\n",
    "    <td >&nbsp;&nbsp;1&nbsp;\n",
    "    <td >&nbsp;&nbsp;&nbsp;\n",
    "  </tr>\n",
    "  <tr>\n",
    "    <td >&nbsp;&nbsp;1&nbsp;\n",
    "    <td >&nbsp;&nbsp;2&nbsp;\n",
    "    <td >&nbsp;&nbsp;2&nbsp;\n",
    "    <td >&nbsp;&nbsp;1&nbsp;\n",
    "    <td >&nbsp;&nbsp;&nbsp;\n",
    "  </tr>\n",
    "</table>\n",
    "<br><center>Generation 1\n",
    "\n",
    "<td><table>\n",
    "  <tr>\n",
    "    <td >&nbsp;&nbsp;&nbsp;\n",
    "    <td >&nbsp;&nbsp;&nbsp;\n",
    "    <td >&nbsp;&nbsp;&nbsp;\n",
    "    <td >&nbsp;&nbsp;&nbsp;\n",
    "    <td >&nbsp;&nbsp;&nbsp;&nbsp;\n",
    "  <tr>\n",
    "    <td >&nbsp;&nbsp;1&nbsp;\n",
    "    <td >&nbsp;&nbsp;2&nbsp;\n",
    "    <td >&nbsp;&nbsp;2&nbsp;\n",
    "    <td >&nbsp;&nbsp;1&nbsp;&nbsp;\n",
    "    <td >&nbsp;&nbsp;&nbsp;\n",
    "  <tr>\n",
    "    <td>&nbsp;&nbsp;2&nbsp;\n",
    "    <td bgcolor=lightgrey>&nbsp;&nbsp;3&nbsp;\n",
    "    <td bgcolor=lightgrey>&nbsp;&nbsp;3&nbsp;\n",
    "    <td >&nbsp;&nbsp;2&nbsp;\n",
    "    <td >&nbsp;&nbsp;&nbsp;\n",
    "  <tr>\n",
    "    <td >&nbsp;&nbsp;2&nbsp;\n",
    "    <td bgcolor=lightgrey>&nbsp;&nbsp;3&nbsp;\n",
    "    <td bgcolor=lightgrey>&nbsp;&nbsp;3&nbsp;\n",
    "    <td >&nbsp;&nbsp;2&nbsp;\n",
    "    <td >&nbsp;&nbsp;&nbsp;\n",
    "  </tr>\n",
    "  <tr>\n",
    "    <td >&nbsp;&nbsp;1&nbsp;\n",
    "    <td >&nbsp;&nbsp;2&nbsp;\n",
    "    <td >&nbsp;&nbsp;2&nbsp;\n",
    "    <td >&nbsp;&nbsp;1&nbsp;\n",
    "    <td >&nbsp;&nbsp;&nbsp;\n",
    "  </tr>\n",
    "</table>\n",
    "<br><center>Generation 2\n",
    "\n",
    "\n",
    "</table>\n",
    "\n",
    "Here is the implementation.Note that in `next_generation` the `neighbor_counts` is used two ways: `possible_cells` is used to iterate over all cells that might be live, and `counts` is used to check if a cell has the right number of neighbors."
   ]
  },
  {
   "cell_type": "code",
   "execution_count": null,
   "metadata": {
    "collapsed": true
   },
   "outputs": [],
   "source": [
    "world = {(3,1),(1,2),(1,3),(2,3)}"
   ]
  },
  {
   "cell_type": "code",
   "execution_count": 2,
   "metadata": {
    "collapsed": true
   },
   "outputs": [],
   "source": [
    "from collections import Counter\n",
    "\n",
    "def neighbors(cell):\n",
    "    (x,y) = cell\n",
    "    return [ (x-1, y-1),(x, y-1),(x+1,y-1),\n",
    "             (x-1, y),           (x+1,y),\n",
    "             (x-1,y+1), (x,y+1), (x+1,y+1)]\n",
    "\n",
    "def neighbor_counts(world):\n",
    "    \"\"\" A {cell: int} counter of number of live neighours for each cell \n",
    "    \"\"\"\n",
    "    return Counter(nb for cell in world \n",
    "                   for nb in neighbors(cell))\n",
    "    \n",
    "def next_generation(world):\n",
    "    possible_cells = counts = neighbor_counts(world)\n",
    "    return { cell for cell in possible_cells\n",
    "            if (counts[cell] == 3)\n",
    "            or (counts[cell] == 2 and cell in world)}"
   ]
  },
  {
   "cell_type": "code",
   "execution_count": 4,
   "metadata": {},
   "outputs": [
    {
     "data": {
      "text/plain": [
       "{(1, 2), (1, 3), (2, 3)}"
      ]
     },
     "execution_count": 4,
     "metadata": {},
     "output_type": "execute_result"
    }
   ],
   "source": [
    "world = {(3, 1), (1, 2), (1, 3), (2, 3)}\n",
    "next_generation(world)"
   ]
  },
  {
   "cell_type": "code",
   "execution_count": 5,
   "metadata": {},
   "outputs": [
    {
     "data": {
      "text/plain": [
       "{(1, 2), (1, 3), (2, 2), (2, 3)}"
      ]
     },
     "execution_count": 5,
     "metadata": {},
     "output_type": "execute_result"
    }
   ],
   "source": [
    "next_generation({(1, 2), (1, 3), (2, 3)})"
   ]
  },
  {
   "cell_type": "code",
   "execution_count": null,
   "metadata": {
    "collapsed": true
   },
   "outputs": [],
   "source": [
    "def run(world, n):\n",
    "    \"Run the world for n generations. No display; just return the nth generation.\"\n",
    "    for g in range(n):\n",
    "        world = next_generation(world)\n",
    "    return world"
   ]
  },
  {
   "cell_type": "markdown",
   "metadata": {},
   "source": [
    "# Display\n",
    "\n",
    "Now let's see how to display each generation. We'll consider a window on the infinite plane, specified as a range of `Xs` and `Ys` coordinates. The function `picture` turns a world into a string showing what the world looks like, and `display_run` runs the world, displaying the picture at each step."
   ]
  },
  {
   "cell_type": "code",
   "execution_count": 11,
   "metadata": {},
   "outputs": [],
   "source": [
    "from IPython.display import clear_output, display_html\n",
    "clear_output()\n"
   ]
  },
  {
   "cell_type": "code",
   "execution_count": 17,
   "metadata": {
    "collapsed": true
   },
   "outputs": [],
   "source": [
    "import time\n",
    "from IPython.display import clear_output, display_html\n",
    "\n",
    "LIVE = '@'\n",
    "EMPTY = '.'\n",
    "PAD =' '\n",
    "\n",
    "def display_run(world, n=10, Xs=range(10), Ys=range(10), pause=0.5):\n",
    "    for g in range(n+1):\n",
    "        clear_output()\n",
    "        display_html('Generation {}, Population {} \\n{}'\n",
    "                     .format(g, len(world),pre(picture(world, Xs, Ys))), raw=True)\n",
    "        time.sleep(pause)\n",
    "        world = next_generation(world)\n",
    "\n",
    "def pre(text): return '<pre>' + text + '</pre>'\n",
    "\n",
    "def picture(world, Xs, Ys):\n",
    "    def row(y):\n",
    "        return PAD.join(LIVE if(x,y) in world else EMPTY for x in Xs)\n",
    "    return '\\n'.join(row(y) for y in Ys)"
   ]
  },
  {
   "cell_type": "code",
   "execution_count": 24,
   "metadata": {
    "collapsed": true
   },
   "outputs": [],
   "source": [
    "world = {(1, 2), (0, 3), (2, 2), (2, 3)}"
   ]
  },
  {
   "cell_type": "code",
   "execution_count": 15,
   "metadata": {
    "scrolled": true
   },
   "outputs": [
    {
     "name": "stdout",
     "output_type": "stream",
     "text": [
      ". . . . .\n",
      ". . . . .\n",
      "@ . . . @\n",
      ". @ @ . .\n",
      ". . . . .\n"
     ]
    }
   ],
   "source": [
    "print(picture(world, range(5), range(5)))"
   ]
  },
  {
   "cell_type": "code",
   "execution_count": 25,
   "metadata": {},
   "outputs": [
    {
     "data": {
      "text/html": [
       "Generation 10, Population 4 \n",
       "<pre>. . . . .\n",
       ". . . . .\n",
       ". @ @ . .\n",
       ". @ @ . .\n",
       ". . . . .</pre>"
      ]
     },
     "metadata": {},
     "output_type": "display_data"
    }
   ],
   "source": [
    "display_run(world, 10, range(5), range(5))"
   ]
  },
  {
   "cell_type": "markdown",
   "metadata": {},
   "source": [
    "# Interesting Worlds\n",
    "\n",
    "Now let's take a look at some initial worlds that *Life* enthusiasts have discovered. It would be tedious to define these with an explicit set of `(x, y)` coordinates, so we will define the function `shape` that takes a picture as input and returns a world; `shape` and `picture` are more-or-less inverses. "
   ]
  },
  {
   "cell_type": "code",
   "execution_count": 27,
   "metadata": {
    "collapsed": true
   },
   "outputs": [],
   "source": [
    "def shape(picture, offset=(3, 3)):\n",
    "    \"Convert a graphical picture (e.g. '@ @ .\\n. @@') into a world (set of cells).\"\n",
    "    cells = {(x, y) \n",
    "             for (y, row) in enumerate(picture.splitlines())\n",
    "             for (x, c) in enumerate(row.replace(PAD, ''))\n",
    "             if c == LIVE}\n",
    "    return move(cells, offset)\n",
    "\n",
    "def move(cells, offset):\n",
    "    \"Move/Translate/slide a set of cells by a (dx, dy) displacement/offset.\"\n",
    "    (dx, dy) = offset\n",
    "    return {(x+dx, y+dy) for (x, y) in cells}\n",
    "\n",
    "blinker     = shape(\"@@@\")\n",
    "block       = shape(\"@@\\n@@\")\n",
    "beacon      = block | move(block, (2, 2))\n",
    "toad        = shape(\".@@@\\n@@@.\")\n",
    "glider      = shape(\".@.\\n..@\\n@@@\")\n",
    "rpentomino  = shape(\".@@\\n@@.\\n.@.\", (36, 20))\n",
    "line        = shape(\".@@@@@@@@.@@@@@...@@@......@@@@@@@.@@@@@\", (10, 10))\n",
    "growth      = shape(\"@@@.@\\n@\\n...@@\\n.@@.@\\n@.@.@\", (10, 10))\n",
    "    "
   ]
  },
  {
   "cell_type": "code",
   "execution_count": 28,
   "metadata": {},
   "outputs": [
    {
     "data": {
      "text/plain": [
       "{(2, 3), (3, 3), (3, 4), (4, 4)}"
      ]
     },
     "execution_count": 28,
     "metadata": {},
     "output_type": "execute_result"
    }
   ],
   "source": [
    "shape(\"\"\". . .\n",
    "         @ @ .\n",
    "         . @ @\"\"\", (2,2))"
   ]
  },
  {
   "cell_type": "code",
   "execution_count": 34,
   "metadata": {},
   "outputs": [
    {
     "data": {
      "text/plain": [
       "{(3, 3), (3, 4), (4, 3), (4, 4), (5, 5), (5, 6), (6, 5), (6, 6)}"
      ]
     },
     "execution_count": 34,
     "metadata": {},
     "output_type": "execute_result"
    }
   ],
   "source": [
    "beacon"
   ]
  },
  {
   "cell_type": "code",
   "execution_count": null,
   "metadata": {
    "collapsed": true,
    "scrolled": true
   },
   "outputs": [],
   "source": [
    "move(block, (100, 200))"
   ]
  },
  {
   "cell_type": "code",
   "execution_count": 30,
   "metadata": {},
   "outputs": [
    {
     "data": {
      "text/html": [
       "Generation 10, Population 4 \n",
       "<pre>. . . . . . . . . .\n",
       ". . . . . . . . . .\n",
       ". . . . . . . . . .\n",
       ". . . @ @ . . . . .\n",
       ". . . @ @ . . . . .\n",
       ". . . . . . . . . .\n",
       ". . . . . . . . . .\n",
       ". . . . . . . . . .\n",
       ". . . . . . . . . .\n",
       ". . . . . . . . . .</pre>"
      ]
     },
     "metadata": {},
     "output_type": "display_data"
    }
   ],
   "source": [
    "display_run(block)"
   ]
  },
  {
   "cell_type": "code",
   "execution_count": 31,
   "metadata": {},
   "outputs": [
    {
     "data": {
      "text/html": [
       "Generation 10, Population 3 \n",
       "<pre>. . . . . . . . . .\n",
       ". . . . . . . . . .\n",
       ". . . . . . . . . .\n",
       ". . . @ @ @ . . . .\n",
       ". . . . . . . . . .\n",
       ". . . . . . . . . .\n",
       ". . . . . . . . . .\n",
       ". . . . . . . . . .\n",
       ". . . . . . . . . .\n",
       ". . . . . . . . . .</pre>"
      ]
     },
     "metadata": {},
     "output_type": "display_data"
    }
   ],
   "source": [
    "display_run(blinker)"
   ]
  },
  {
   "cell_type": "code",
   "execution_count": 35,
   "metadata": {},
   "outputs": [
    {
     "data": {
      "text/html": [
       "Generation 10, Population 8 \n",
       "<pre>. . . . . . . . . .\n",
       ". . . . . . . . . .\n",
       ". . . . . . . . . .\n",
       ". . . @ @ . . . . .\n",
       ". . . @ @ . . . . .\n",
       ". . . . . @ @ . . .\n",
       ". . . . . @ @ . . .\n",
       ". . . . . . . . . .\n",
       ". . . . . . . . . .\n",
       ". . . . . . . . . .</pre>"
      ]
     },
     "metadata": {},
     "output_type": "display_data"
    }
   ],
   "source": [
    "display_run(beacon)"
   ]
  },
  {
   "cell_type": "code",
   "execution_count": 36,
   "metadata": {},
   "outputs": [
    {
     "data": {
      "text/html": [
       "Generation 10, Population 6 \n",
       "<pre>. . . . . . . . . .\n",
       ". . . . . . . . . .\n",
       ". . . . . . . . . .\n",
       ". . . . @ @ @ . . .\n",
       ". . . @ @ @ . . . .\n",
       ". . . . . . . . . .\n",
       ". . . . . . . . . .\n",
       ". . . . . . . . . .\n",
       ". . . . . . . . . .\n",
       ". . . . . . . . . .</pre>"
      ]
     },
     "metadata": {},
     "output_type": "display_data"
    }
   ],
   "source": [
    "display_run(toad)"
   ]
  },
  {
   "cell_type": "code",
   "execution_count": 38,
   "metadata": {},
   "outputs": [
    {
     "data": {
      "text/html": [
       "Generation 20, Population 5 \n",
       "<pre>. . . . . . . . . .\n",
       ". . . . . . . . . .\n",
       ". . . . . . . . . .\n",
       ". . . . . . . . . .\n",
       ". . . . . . . . . .\n",
       ". . . . . . . . . .\n",
       ". . . . . . . . . .\n",
       ". . . . . . . . . .\n",
       ". . . . . . . . . @\n",
       ". . . . . . . . . .</pre>"
      ]
     },
     "metadata": {},
     "output_type": "display_data"
    }
   ],
   "source": [
    "display_run(glider, 21)"
   ]
  },
  {
   "cell_type": "code",
   "execution_count": 39,
   "metadata": {},
   "outputs": [
    {
     "data": {
      "text/html": [
       "Generation 130, Population 178 \n",
       "<pre>. . . . . . . . . . . . . . . . . . . . . . . . . . . . . . . . . . . . . . . . . . . . . . . . . . . . . . .\n",
       ". . . . . . . . . . . . . . . . . . . . . . . . . . . . . . . . . . . . . . . . . . . . . . . . . . . . . . .\n",
       ". . . . . . . . . . . . . . . . . . . . . . . . . . . . . . . . . . . . . . . . . . . . . . . . . . . . . . .\n",
       ". . . . . . . . . . . . . . . . . . . . . . . . . . . . . . . . . . . . . . . . . . . . . . . . . . . . . . .\n",
       ". . . . . . . . . . . . . . . . . . . . . . . . . . . . . . . . . . . . . . . . . . . . . . . . . . . . . . .\n",
       ". . . . . . . . . . . . . . . . . . . . . . . . . . . . . . . . @ . . . . . . . . . . . . . . . . . . . . . .\n",
       ". . . . . . . . . . . . . . . . . . . . . . . . . . . . . . . . @ @ . . . . . . . . . . . . . @ . . . . . . .\n",
       ". . . . . . . . . . . . . . . . . . . . . . . . . . . . . . . @ . @ . . . . . . . . . . . . . @ . . . . . . .\n",
       ". . . . . . . . . . . . . . . . . . . . . . . . . . . . . . . . . . . . . . . . . . . . . . . @ . . . . . . .\n",
       ". . . . . . . . . . . @ . . . . . . . . . . . . . . . . . . . . . . . . . . . . . . . . . . . . . . . . . . .\n",
       ". . . . . . . . . @ @ @ @ . . . . . . . . . . . . . . . . . . . . . . . . . . . . . . . . . @ @ . . . . . . .\n",
       ". . . . . @ . @ @ @ @ . @ @ . . . . . . . . . . . . . . . . . . . . . . @ @ . . . . . . . @ . @ @ . . . . . .\n",
       ". . . @ @ . . @ @ . . @ @ @ . . . . . . . . . . . . . . . . . . . . . . @ @ . . . . . . . @ . @ . . . @ @ . .\n",
       ". . . . . @ @ @ . . . @ @ . . . . . . . . . . . . . . . . . . . . . . . . . . . . . . . . . @ . . . . . . . .\n",
       ". . . . . . . . . . . @ . . . . . . . . . . . . . . . . . . . . . . . . . . . . . . . . . . . . . . . . . . .\n",
       ". . . . . . . . @ . @ . . . . . . . . . . . . . . . . . . . . . . @ @ . . . . . . . . . . . . . . . . . . . .\n",
       ". . . . . . . . @ @ . . . . . . . . . . . . . . . . . @ . @ . . . @ @ . . . . . . . . . . . . . . . . . . . .\n",
       ". . . . @ @ @ . . @ @ . . . . . . . . . . . . . . . . @ . @ . . . . . . . . . . . . . . . . @ @ . . . . . . .\n",
       ". . . . @ @ . . . @ @ . . . . . . . . . . . . . . . . @ . . . . . . . . . . . . . . . . . @ @ @ . . @ @ . . .\n",
       ". . . . @ . . . . . . . . . . . . . . . . . . . . . . . @ . . . . . . . . @ . . . . . . . @ . . @ . @ @ @ . .\n",
       ". . . . @ @ . @ . . . . . . . . . . . . . . . . . . . . . . . . . . . @ @ . @ . . . . . . . @ . . . @ . @ . .\n",
       ". . . . . @ @ @ . . . . . . . . . . . . . . . . . . . . . . . . @ . . . . . . @ . . . . . . . . . . . @ . . .\n",
       ". . . . @ . . @ . . . . . . . . . . . . . . . . . . . . . . . @ . . . . . . @ . . . @ @ . . . . . . . . . . .\n",
       ". . . . . @ . . . . . . . . . . . . . . . . . . . . . . . . @ . . . . . @ @ . . . @ . . @ . . . . . . . . . .\n",
       "@ @ . @ @ @ . . . . . . . . . . . . . . . . . . . . . . . . @ . . @ . . . . . . . @ . . @ . . . . . . . . . .\n",
       ". . @ @ . . . . . . . . . . . . . . . . . . . . . . . . . . @ @ . @ @ @ . . . . . . @ @ . . . . . . . . . . .\n",
       ". . . @ @ . . . . . . . . . . . . . . . . . . . . . . . . . . . @ . . . @ . . . . . . . . . . . . . . . . . .\n",
       "@ @ . @ @ . . . . . . . . . . @ @ . . . . . . . . . . . . . . . @ . . . . . . . . . . . . . . . . . . @ . . .\n",
       "@ . . @ . . . . . . . . . . . @ @ . . . . . . . . . . . . . . . . . . @ . . . . . . . . . . . . . . . . @ @ .\n",
       "@ @ @ . . . . . . . . . . . . . . . . . . . . . . . . . . . . . . . . . . . . . . . . . . . . . . . . @ @ . .\n",
       ". . . . . . . . . . . . . . . . . . . . . . . . . . . . . . . . . . . . . . . . . . . . . . . . . . . . . . .\n",
       ". . . . . . . . . . . . . . . . . . . . . . . . . . . . . . . . . . . . . . . . . . . . . . . . . . . . . . .\n",
       ". . . @ . . . . . . . . . . . . . . . . . . . . . . . . . . . . . . . . . . . . . . . . . . . . . . . . . . .\n",
       ". . @ @ . . . . . . . . . . . . . . . . . . . . . . . . . . . . . . . . . . . . . . . . . . . . . . . . . . .\n",
       ". . @ . @ . @ @ . . . . . . . . . . . . . . . . . . . . . . . . . . . . . . . . . . . . . . . . . . . . . . .\n",
       ". . @ . @ . @ @ . . . . . . . . . . . . . . . . . . . . . . . . . . . . . . . . . . . . . . . . . . . . . . .\n",
       ". . @ . @ @ . . . . . . . . . . . . . . . . . . . . . . . . . . . . . . . . . . . . . . . . . . . . . . . . .\n",
       ". . @ . @ . . . . . . . . . . . . . . . . . . . . . . . . . . . . . . . . . . . . . . . . . . . . . . . . . .\n",
       ". . . . . . . . . . . . . . . . . . . . . . . . . . . . . . . . . . . . . . . . . . . . . . . . . . . . . . .\n",
       ". . . . . . . . . . . . . . . . . . . . . . . . . . . . . . . . . . . . . . . . . . . . . . . . . . . . . . .</pre>"
      ]
     },
     "metadata": {},
     "output_type": "display_data"
    }
   ],
   "source": [
    "display_run(rpentomino, 130, range(55), range(40))"
   ]
  },
  {
   "cell_type": "code",
   "execution_count": 40,
   "metadata": {},
   "outputs": [
    {
     "data": {
      "text/html": [
       "Generation 103, Population 51 \n",
       "<pre>. . . . . . . . . . . . . . . . . . . . . . . . . . . . . . . . . . . . . . . . . . . . . . . . . .\n",
       ". . . . . . . . . . . . . . . . . . . . . . . . . . . . . . . . . . . . . . . . . . . . . . . . . .\n",
       ". . . . . . . . . . . . . . . . . . . . . . . . . . . . . . . . . . . . . . . . . . . . . . . . . .\n",
       ". . . . . . . . . . . . . . . . . . . . . . . . . . . . . . . . . . . . . . . . . . . . . . . . . .\n",
       ". . . . . . . . . . . . . . . . . . . . . . . . . . . . . . . . . . . . . . . . . . . . . . . . . .\n",
       ". . . . . . . . . . . . . . . . . . . . . . . . . . . . . . . . . . . . . . . . . . . . . . . . . .\n",
       ". . . . . . . . . . . . . . . . . . . . . . . . . . . . . . . . . . . . . . . . . . . . . . . . . .\n",
       ". . . . . . . . . . . . . . . . . . . . . . . . . . . . . . . . . . . . . . @ @ . . . . . . . . . .\n",
       ". . . . . . . . . . . . . . . . . . . . . . . . . . . . . . . . . . . . . . . . @ . . . . . . . . .\n",
       ". . . . . . . . . . . . . . . . . . . . . . . . . . . . . . . . . . . @ @ @ . . . @ . . . . . . . .\n",
       ". . . . . . . . . . . . . . . . . . . . . . . . . . . . . . . . . . @ @ @ @ @ . . @ . . . . . . . .\n",
       ". . . . . . . . . . . . . . . . . . . . . . . . . . . . . . . . . @ @ . . . . . @ @ . . . . . . . .\n",
       ". . . . . . . . . . . . . . . . . . . . . . . . . . . . . . . . . . @ @ . . . . . . . . . . . . . .\n",
       ". . . . . . . . . . . . . . . . . . . . . . . . . . . . . . . . . . . . . . . . @ @ . . . . . . . .\n",
       ". . . . . . . . . . . . . . . . . . . . . . . . . . . . . . . . . . . . . . . . . . . . . . . . . .\n",
       ". . . . . . . . . . . . . . . . . . . . . . . . . . . . . . . . . . . . . . @ . . . . . . . . . . .\n",
       ". . . . . . . . . . . . . . . . . . . . . . . . . . . . . . . . . . . . . . . @ @ @ . . . . . . . .\n",
       ". . . . . . . . . . . . . . . . . . . . . . . . . . . . . . . . . . . . . . . . . . . . . . . . . .\n",
       ". . . . . . . . . . . . . . . . . . . . . . . . . . . . . . . . . . . . . . . . . . . . . . . . . .\n",
       ". . . . . . . . . . . . . . . . . . . . . . . . . . . . . . . . . . . . . . . . . . . . . . . . . .\n",
       ". . . . . . . . . . . . . . . . . . . . . . . . . . . . . . . . . . . . . . . . . @ @ . . . . . . .\n",
       ". . . . . . . . . . . . . . . . . . . . . . . . . . . . . . . . . . . . . . . . . @ @ . . . . . . .\n",
       ". . . . . . . . . . . . . . . . . . . . . . . . . . . . . . . . . . . . . . . . . . . . . . . . . .\n",
       ". . . . . . . . . . . . . . . . . . . . . . . . . . . . . . . . . . . . . . . . . . . . . . . . . .\n",
       ". . . . . . . . . . . . . . . . . . . . . . . . . . . . . . . . . . . . . . . . . . . . . . . . . .\n",
       ". . . . . . . . . . . . . . . . . . . . . . . . . . . . . . . . . . . . . . . . . . . . . . . . . .\n",
       ". . . . . . . . . . . . . . . . . . . . . . . . . . . . . . . @ . . . . . . . . . . . . . . . . . .\n",
       ". . . . . . . . . @ . . . . . . . . . . . . . . . . . . . @ @ . . . . . . . . . . . . . . . . . . .\n",
       ". . . . . . . . . @ . . . . . . @ @ . . . . . . . . . . . . @ @ . . . . . . . . . . . . . . . . . .\n",
       ". . . . . . . . . @ . . . . . @ . . @ . . . . . . . . . . . . . . . . . . . . . . . . . . . . . . .\n",
       ". . . . . . . . . . . . . . . . @ @ . . . . . . . . . . . . . . . . . . . . . . . . . . . . . . . .\n",
       ". . . . . . . . . . . . . . . . . . . . . . . . . . . . . . . . . . . . . . . . . . . . . . . . . .\n",
       ". . . . . . . . . . . . . . . . . . . . . . . . . . . . . . . . . . . . . . . . . . . . . . . . . .\n",
       ". . . . . . . . . . . . . . . . . . . . . . . . . . . . . . . . . @ @ . . . . . . . . . . . . . . .\n",
       ". . . . . . . . . . . . . . . . . . . . . . . . . . . . . . . . . @ @ . . . . . . . . . . . . . . .\n",
       ". . . . . . . . . . . . . . . . . . . . . . . . . . . . . . . . . . . . . . . . . . . . . . . . . .\n",
       ". . . . . . . . . . . . . . . . . . . . @ @ . . . . . . . . . . . . . . . . . . . . . . . . . . . .\n",
       ". . . . . . . . . . . . . . . . . . . . @ @ . . . . . . . . . . . . . . . . . . . . . . . . . . . .\n",
       ". . . . . . . . . . . . . . . . . . . . . . . . . . . . . . . . . . . . . . . . . . . . . . . . . .\n",
       ". . . . . . . . . . . . . . . . . . . . . . . . . . . . . . . . . . . . . . . . . . . . . . . . . .</pre>"
      ]
     },
     "metadata": {},
     "output_type": "display_data"
    },
    {
     "ename": "KeyboardInterrupt",
     "evalue": "",
     "output_type": "error",
     "traceback": [
      "\u001b[1;31m---------------------------------------------------------------------------\u001b[0m",
      "\u001b[1;31mKeyboardInterrupt\u001b[0m                         Traceback (most recent call last)",
      "\u001b[1;32m<ipython-input-40-8225a21b9c0f>\u001b[0m in \u001b[0;36m<module>\u001b[1;34m()\u001b[0m\n\u001b[0;32m      2\u001b[0m        move(beacon, (24, 25)) | move(toad, (30, 25))  | move(block, (13, 25)) | move(block, (17, 33)))\n\u001b[0;32m      3\u001b[0m \u001b[1;33m\u001b[0m\u001b[0m\n\u001b[1;32m----> 4\u001b[1;33m \u001b[0mdisplay_run\u001b[0m\u001b[1;33m(\u001b[0m\u001b[0mzoo\u001b[0m\u001b[1;33m,\u001b[0m \u001b[1;36m160\u001b[0m\u001b[1;33m,\u001b[0m \u001b[0mrange\u001b[0m\u001b[1;33m(\u001b[0m\u001b[1;36m50\u001b[0m\u001b[1;33m)\u001b[0m\u001b[1;33m,\u001b[0m \u001b[0mrange\u001b[0m\u001b[1;33m(\u001b[0m\u001b[1;36m40\u001b[0m\u001b[1;33m)\u001b[0m\u001b[1;33m)\u001b[0m\u001b[1;33m\u001b[0m\u001b[0m\n\u001b[0m",
      "\u001b[1;32m<ipython-input-17-0db0ccb56218>\u001b[0m in \u001b[0;36mdisplay_run\u001b[1;34m(world, n, Xs, Ys, pause)\u001b[0m\n\u001b[0;32m     11\u001b[0m         display_html('Generation {}, Population {} \\n{}'\n\u001b[0;32m     12\u001b[0m                      .format(g, len(world),pre(picture(world, Xs, Ys))), raw=True)\n\u001b[1;32m---> 13\u001b[1;33m         \u001b[0mtime\u001b[0m\u001b[1;33m.\u001b[0m\u001b[0msleep\u001b[0m\u001b[1;33m(\u001b[0m\u001b[0mpause\u001b[0m\u001b[1;33m)\u001b[0m\u001b[1;33m\u001b[0m\u001b[0m\n\u001b[0m\u001b[0;32m     14\u001b[0m         \u001b[0mworld\u001b[0m \u001b[1;33m=\u001b[0m \u001b[0mnext_generation\u001b[0m\u001b[1;33m(\u001b[0m\u001b[0mworld\u001b[0m\u001b[1;33m)\u001b[0m\u001b[1;33m\u001b[0m\u001b[0m\n\u001b[0;32m     15\u001b[0m \u001b[1;33m\u001b[0m\u001b[0m\n",
      "\u001b[1;31mKeyboardInterrupt\u001b[0m: "
     ]
    }
   ],
   "source": [
    "zoo = (move(blinker, (5, 25)) | move(glider, (8, 13)) | move(blinker, (20, 25))  |\n",
    "       move(beacon, (24, 25)) | move(toad, (30, 25))  | move(block, (13, 25)) | move(block, (17, 33)))\n",
    "\n",
    "display_run(zoo, 160, range(50), range(40))"
   ]
  },
  {
   "cell_type": "code",
   "execution_count": null,
   "metadata": {
    "collapsed": true
   },
   "outputs": [],
   "source": [
    "display_run(growth, 100, range(40), range(40))\n",
    "\n",
    "\n"
   ]
  },
  {
   "cell_type": "markdown",
   "metadata": {},
   "source": [
    "### class\n",
    "\n",
    "World\n",
    " - display_run\n",
    " - init from a shap text\n",
    " - compute next generation\n",
    "\n"
   ]
  }
 ],
 "metadata": {
  "kernelspec": {
   "display_name": "Python 3",
   "language": "python",
   "name": "python3"
  },
  "language_info": {
   "codemirror_mode": {
    "name": "ipython",
    "version": 3
   },
   "file_extension": ".py",
   "mimetype": "text/x-python",
   "name": "python",
   "nbconvert_exporter": "python",
   "pygments_lexer": "ipython3",
   "version": "3.6.3"
  }
 },
 "nbformat": 4,
 "nbformat_minor": 2
}
