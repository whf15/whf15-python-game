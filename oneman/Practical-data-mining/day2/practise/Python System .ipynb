{
 "cells": [
  {
   "cell_type": "markdown",
   "metadata": {
    "run_control": {
     "frozen": false,
     "read_only": false
    }
   },
   "source": [
    "\n",
    "### 我们将学到以下内容:\n",
    "\n",
    "1. File I/O\n",
    "3. Systems\n",
    "4. Concurrency\n",
    "\n",
    "## File I/O\n",
    "\n",
    "When your program is running, all data generated are stored in RAM. RAM is fast but has two limitations:\n",
    "\n",
    "1. Expensive (thus small in capacity)\n",
    "2. Need constant power supply\n",
    "\n",
    "Disk drivers are slower than RAM but is much cheaper and more importantly can retain data even when power is off. To keep our data persistant, we'll need to store it on disk drivers as *Files*.\n",
    "\n",
    "The simplest kind of persistence is a plain old file, aka **flat file**. It's just *a sequence of bytes stored under a filename*. You may **read** a file into memory and **write** from memory to a file (on disk driver).\n",
    "\n",
    "### 打开文件\n",
    "\n",
    "Before reading or writing a file, you'll have to open it first.\n",
    "\n",
    "```python\n",
    "fileobj = open(filename, mode)\n",
    "```\n",
    "\n",
    "**mode** is a string indicating the file's type and what you want to do with it.\n",
    "\n",
    "The first letter of mode indicates the operation:\n",
    "\n",
    "- `r`: read\n",
    "- `w`: write (If the file doesn't exist, create one. If the file exists, override it)\n",
    "- `x`: write (Only if the file doesn't exist)\n",
    "- `a`: append (write after the end) if the file exists\n",
    "\n",
    "The second letter of mode indicates the file's type:\n",
    "\n",
    "- `t (or nothing)`: plain text\n",
    "- `b`: binary\n",
    "\n",
    "### 写入文件"
   ]
  },
  {
   "cell_type": "code",
   "execution_count": 1,
   "metadata": {
    "run_control": {
     "frozen": false,
     "read_only": false
    }
   },
   "outputs": [
    {
     "data": {
      "text/plain": [
       "38"
      ]
     },
     "execution_count": 1,
     "metadata": {},
     "output_type": "execute_result"
    }
   ],
   "source": [
    "text = '''\\\n",
    "First line\n",
    "Second line\n",
    "Third line\n",
    "End\n",
    "'''\n",
    "\n",
    "len(text)"
   ]
  },
  {
   "cell_type": "code",
   "execution_count": 2,
   "metadata": {
    "run_control": {
     "frozen": false,
     "read_only": false
    }
   },
   "outputs": [
    {
     "name": "stdout",
     "output_type": "stream",
     "text": [
      "return value of write() = 38\n"
     ]
    }
   ],
   "source": [
    "fout = open('tmp1', 'wt')\n",
    "ret = fout.write(text)\n",
    "print('return value of write() =', ret)\n",
    "fout.close()"
   ]
  },
  {
   "cell_type": "code",
   "execution_count": 4,
   "metadata": {},
   "outputs": [
    {
     "data": {
      "text/plain": [
       "_io.TextIOWrapper"
      ]
     },
     "execution_count": 4,
     "metadata": {},
     "output_type": "execute_result"
    }
   ],
   "source": [
    "type(fout)"
   ]
  },
  {
   "cell_type": "code",
   "execution_count": 3,
   "metadata": {
    "collapsed": true,
    "run_control": {
     "frozen": false,
     "read_only": false
    }
   },
   "outputs": [],
   "source": [
    "fout = open('tmp2', 'w')\n",
    "print(text, file=fout)\n",
    "fout.close()"
   ]
  },
  {
   "cell_type": "markdown",
   "metadata": {
    "run_control": {
     "frozen": false,
     "read_only": false
    }
   },
   "source": [
    "> `write()` won't add any spaces or newlines, as `print()` does. However, `print()` also gives you the possibily to customize it's behavior."
   ]
  },
  {
   "cell_type": "code",
   "execution_count": 5,
   "metadata": {
    "run_control": {
     "frozen": false,
     "read_only": false
    }
   },
   "outputs": [
    {
     "name": "stdout",
     "output_type": "stream",
     "text": [
      "a b c\n",
      "d e f\n"
     ]
    }
   ],
   "source": [
    "print('a', 'b', 'c')\n",
    "print('d', 'e', 'f')"
   ]
  },
  {
   "cell_type": "code",
   "execution_count": 6,
   "metadata": {
    "run_control": {
     "frozen": false,
     "read_only": false
    }
   },
   "outputs": [
    {
     "name": "stdout",
     "output_type": "stream",
     "text": [
      "abc d,e,f\n"
     ]
    }
   ],
   "source": [
    "print('a', 'b', 'c', sep='', end=' ')\n",
    "print('d', 'e', 'f', sep=',')"
   ]
  },
  {
   "cell_type": "code",
   "execution_count": 7,
   "metadata": {
    "collapsed": true,
    "run_control": {
     "frozen": false,
     "read_only": false
    }
   },
   "outputs": [],
   "source": [
    "zen_of_py = '''\\\n",
    "The Zen of Python, by Tim Peters\n",
    "\n",
    "Beautiful is better than ugly.\n",
    "Explicit is better than implicit.\n",
    "Simple is better than complex.\n",
    "Complex is better than complicated.\n",
    "Flat is better than nested.\n",
    "Sparse is better than dense.\n",
    "Readability counts.\n",
    "Special cases aren't special enough to break the rules.\n",
    "Although practicality beats purity.\n",
    "Errors should never pass silently.\n",
    "Unless explicitly silenced.\n",
    "In the face of ambiguity, refuse the temptation to guess.\n",
    "There should be one-- and preferably only one --obvious way to do it.\n",
    "Although that way may not be obvious at first unless you're Dutch.\n",
    "Now is better than never.\n",
    "Although never is often better than *right* now.\n",
    "If the implementation is hard to explain, it's a bad idea.\n",
    "If the implementation is easy to explain, it may be a good idea.\n",
    "Namespaces are one honking great idea -- let's do more of those!\n",
    "'''"
   ]
  },
  {
   "cell_type": "code",
   "execution_count": 8,
   "metadata": {
    "collapsed": true,
    "run_control": {
     "frozen": false,
     "read_only": false
    }
   },
   "outputs": [],
   "source": [
    "fout = open('zen_of_py', 'w')\n",
    "size = len(zen_of_py)\n",
    "offset = 0\n",
    "chunk = 100\n",
    "\n",
    "while offset < size:\n",
    "    fout.write(zen_of_py[offset : offset+chunk])\n",
    "    offset += chunk\n",
    "\n",
    "fout.close()"
   ]
  },
  {
   "cell_type": "code",
   "execution_count": null,
   "metadata": {
    "collapsed": true,
    "run_control": {
     "frozen": false,
     "read_only": false
    }
   },
   "outputs": [],
   "source": [
    "fout = open('zen_of_py', 'x')"
   ]
  },
  {
   "cell_type": "code",
   "execution_count": 9,
   "metadata": {
    "collapsed": true,
    "run_control": {
     "frozen": false,
     "read_only": false
    }
   },
   "outputs": [],
   "source": [
    "fout = open('tmp1', 'a')\n",
    "fout.write('A new line after end\\n')\n",
    "fout.close()"
   ]
  },
  {
   "cell_type": "markdown",
   "metadata": {
    "run_control": {
     "frozen": false,
     "read_only": false
    }
   },
   "source": [
    "### Read Text File"
   ]
  },
  {
   "cell_type": "code",
   "execution_count": 10,
   "metadata": {
    "run_control": {
     "frozen": false,
     "read_only": false
    }
   },
   "outputs": [
    {
     "name": "stdout",
     "output_type": "stream",
     "text": [
      "First line\n",
      "Second line\n",
      "Third line\n",
      "End\n",
      "A new line after end\n",
      "\n"
     ]
    }
   ],
   "source": [
    "fin = open('tmp1', 'rt')\n",
    "text = fin.read()\n",
    "fin.close()\n",
    "print(text)"
   ]
  },
  {
   "cell_type": "markdown",
   "metadata": {
    "run_control": {
     "frozen": false,
     "read_only": false
    }
   },
   "source": [
    "> Be carefull when calling `read()` with no arguments with large files. A gigabyte file will consume a gigabyte of memory."
   ]
  },
  {
   "cell_type": "code",
   "execution_count": 11,
   "metadata": {
    "run_control": {
     "frozen": false,
     "read_only": false
    }
   },
   "outputs": [
    {
     "name": "stdout",
     "output_type": "stream",
     "text": [
      "The Zen of Python, by Tim Peters\n",
      "\n",
      "Beautiful is better than ugly.\n",
      "Explicit is better than implicit.\n",
      "Simple is better than complex.\n",
      "Complex is better than complicated.\n",
      "Flat is better than nested.\n",
      "Sparse is better than dense.\n",
      "Readability counts.\n",
      "Special cases aren't special enough to break the rules.\n",
      "Although practicality beats purity.\n",
      "Errors should never pass silently.\n",
      "Unless explicitly silenced.\n",
      "In the face of ambiguity, refuse the temptation to guess.\n",
      "There should be one-- and preferably only one --obvious way to do it.\n",
      "Although that way may not be obvious at first unless you're Dutch.\n",
      "Now is better than never.\n",
      "Although never is often better than *right* now.\n",
      "If the implementation is hard to explain, it's a bad idea.\n",
      "If the implementation is easy to explain, it may be a good idea.\n",
      "Namespaces are one honking great idea -- let's do more of those!\n",
      "\n"
     ]
    }
   ],
   "source": [
    "zen_of_py = ''\n",
    "fin = open('zen_of_py', 'r')\n",
    "chunk = 100\n",
    "\n",
    "while True:\n",
    "    fragment = fin.read(chunk)\n",
    "    if not fragment:\n",
    "        break\n",
    "    zen_of_py += fragment\n",
    "\n",
    "fin.close()\n",
    "print(zen_of_py)"
   ]
  },
  {
   "cell_type": "code",
   "execution_count": 12,
   "metadata": {
    "run_control": {
     "frozen": false,
     "read_only": false
    }
   },
   "outputs": [
    {
     "name": "stdout",
     "output_type": "stream",
     "text": [
      "First line\n",
      "Second line\n",
      "Third line\n",
      "End\n",
      "A new line after end\n"
     ]
    }
   ],
   "source": [
    "fin = open('tmp1', 'r')\n",
    "\n",
    "while True:\n",
    "    line = fin.readline()\n",
    "    if not line:\n",
    "        break\n",
    "    print(line, end='')\n",
    "\n",
    "fin.close()"
   ]
  },
  {
   "cell_type": "code",
   "execution_count": 13,
   "metadata": {
    "run_control": {
     "frozen": false,
     "read_only": false
    }
   },
   "outputs": [
    {
     "name": "stdout",
     "output_type": "stream",
     "text": [
      "First line\n",
      "Second line\n",
      "Third line\n",
      "End\n",
      "A new line after end\n"
     ]
    }
   ],
   "source": [
    "fin = open('tmp1', 'r')\n",
    "for line in fin:\n",
    "    print(line, end='')\n",
    "fin.close()"
   ]
  },
  {
   "cell_type": "code",
   "execution_count": 14,
   "metadata": {
    "run_control": {
     "frozen": false,
     "read_only": false
    }
   },
   "outputs": [
    {
     "data": {
      "text/plain": [
       "['First line\\n',\n",
       " 'Second line\\n',\n",
       " 'Third line\\n',\n",
       " 'End\\n',\n",
       " 'A new line after end\\n']"
      ]
     },
     "execution_count": 14,
     "metadata": {},
     "output_type": "execute_result"
    }
   ],
   "source": [
    "fin = open('tmp1', 'r')\n",
    "lines = fin.readlines()\n",
    "fin.close()\n",
    "\n",
    "lines"
   ]
  },
  {
   "cell_type": "markdown",
   "metadata": {
    "run_control": {
     "frozen": false,
     "read_only": false
    }
   },
   "source": [
    "### Write Binary File"
   ]
  },
  {
   "cell_type": "code",
   "execution_count": 15,
   "metadata": {
    "run_control": {
     "frozen": false,
     "read_only": false
    }
   },
   "outputs": [
    {
     "data": {
      "text/plain": [
       "256"
      ]
     },
     "execution_count": 15,
     "metadata": {},
     "output_type": "execute_result"
    }
   ],
   "source": [
    "bdata = bytes(range(256))\n",
    "len(bdata)"
   ]
  },
  {
   "cell_type": "code",
   "execution_count": 16,
   "metadata": {
    "run_control": {
     "frozen": false,
     "read_only": false
    }
   },
   "outputs": [
    {
     "name": "stdout",
     "output_type": "stream",
     "text": [
      "0\n",
      "255\n"
     ]
    }
   ],
   "source": [
    "print(bdata[0])\n",
    "print(bdata[255])"
   ]
  },
  {
   "cell_type": "code",
   "execution_count": 17,
   "metadata": {
    "run_control": {
     "frozen": false,
     "read_only": false
    }
   },
   "outputs": [
    {
     "name": "stdout",
     "output_type": "stream",
     "text": [
      "Write 256 bytes\n"
     ]
    }
   ],
   "source": [
    "fout = open('bfile', 'wb')\n",
    "ret = fout.write(bdata)\n",
    "fout.close()\n",
    "print('Write %d bytes' % ret)"
   ]
  },
  {
   "cell_type": "code",
   "execution_count": null,
   "metadata": {
    "collapsed": true,
    "run_control": {
     "frozen": false,
     "read_only": false
    }
   },
   "outputs": [],
   "source": [
    "fout = open('bfile', 'wb')\n",
    "size = len(bdata)\n",
    "offset = 0\n",
    "chunk = 100\n",
    "\n",
    "while offset < size:\n",
    "    ret = fout.write(bdata[offset : offset+chunk])\n",
    "    print(ret)\n",
    "    offset += chunk\n",
    "\n",
    "fout.close()"
   ]
  },
  {
   "cell_type": "markdown",
   "metadata": {
    "run_control": {
     "frozen": false,
     "read_only": false
    }
   },
   "source": [
    "### Read Binary File"
   ]
  },
  {
   "cell_type": "code",
   "execution_count": 18,
   "metadata": {
    "run_control": {
     "frozen": false,
     "read_only": false
    }
   },
   "outputs": [
    {
     "data": {
      "text/plain": [
       "256"
      ]
     },
     "execution_count": 18,
     "metadata": {},
     "output_type": "execute_result"
    }
   ],
   "source": [
    "fin = open('bfile', 'rb')\n",
    "bdata = fin.read()\n",
    "fin.close()\n",
    "len(bdata)"
   ]
  },
  {
   "cell_type": "markdown",
   "metadata": {
    "run_control": {
     "frozen": false,
     "read_only": false
    }
   },
   "source": [
    "### Close Files Automatically by Using `with`\n",
    "\n",
    "If you opened an file and forget to close it, Python will close it for you when you jump out of the scope where the `open` is. However, a safer way would be using `with` keyword."
   ]
  },
  {
   "cell_type": "code",
   "execution_count": null,
   "metadata": {
    "collapsed": true,
    "run_control": {
     "frozen": false,
     "read_only": false
    }
   },
   "outputs": [],
   "source": [
    "with open('tmp1', 'w') as fout:\n",
    "    fout.write(text)"
   ]
  },
  {
   "cell_type": "markdown",
   "metadata": {
    "run_control": {
     "frozen": false,
     "read_only": false
    }
   },
   "source": [
    "### Change Position\n",
    "\n",
    "As you read and write, Python keeps track fo where you are in the file. The `tell()` returns your current offset from the beginning of the file, in bytes. The `seek()` let's you jump to another byte offset in the file."
   ]
  },
  {
   "cell_type": "code",
   "execution_count": 19,
   "metadata": {
    "run_control": {
     "frozen": false,
     "read_only": false
    }
   },
   "outputs": [
    {
     "name": "stdout",
     "output_type": "stream",
     "text": [
      "starting pos = 0\n",
      "# char read = 11\n",
      "ending pos = 12\n"
     ]
    }
   ],
   "source": [
    "fin = open('tmp1', 'r')\n",
    "print('starting pos =', fin.tell())\n",
    "line = fin.readline()\n",
    "print('# char read =', len(line))\n",
    "print('ending pos =', fin.tell())\n",
    "fin.close()"
   ]
  },
  {
   "cell_type": "markdown",
   "metadata": {
    "run_control": {
     "frozen": false,
     "read_only": false
    }
   },
   "source": [
    "> This only works for text files in **ASCII** encoding where each character is store in a single byte. Encodings like **UTF-8** may use varying numbers of bytes per character."
   ]
  },
  {
   "cell_type": "code",
   "execution_count": 20,
   "metadata": {
    "run_control": {
     "frozen": false,
     "read_only": false
    }
   },
   "outputs": [
    {
     "name": "stdout",
     "output_type": "stream",
     "text": [
      "1\n",
      "255\n"
     ]
    }
   ],
   "source": [
    "fin = open('bfile', 'rb')\n",
    "fin.seek(255)\n",
    "bdata = fin.read()\n",
    "\n",
    "print(len(bdata))\n",
    "print(bdata[0])"
   ]
  },
  {
   "cell_type": "markdown",
   "metadata": {
    "run_control": {
     "frozen": false,
     "read_only": false
    }
   },
   "source": [
    "You call call `seek()` with a second argument: `seek(offset, origin)`. \n",
    "\n",
    "- If `origin` is `0` (default), go `offset` bytes from the start.\n",
    "- If `origin` is `1`, go `offset` from the current position.\n",
    "- If `origin` is `2`, go `offset` bytes relative to the end (i.e. `offset` has to be negative).\n",
    "\n",
    "> `origin` is not a keyword argument."
   ]
  },
  {
   "cell_type": "code",
   "execution_count": 21,
   "metadata": {
    "run_control": {
     "frozen": false,
     "read_only": false
    }
   },
   "outputs": [
    {
     "name": "stdout",
     "output_type": "stream",
     "text": [
      "1\n",
      "255\n"
     ]
    }
   ],
   "source": [
    "fin = open('bfile', 'rb')\n",
    "fin.seek(-1, 2)\n",
    "bdata = fin.read()\n",
    "\n",
    "print(len(bdata))\n",
    "print(bdata[0])"
   ]
  },
  {
   "cell_type": "markdown",
   "metadata": {
    "run_control": {
     "frozen": false,
     "read_only": false
    }
   },
   "source": [
    "## Structured Text Files\n",
    "\n",
    "With plain text files, the only level of organization is the *line* (separated by newline character). Somtimes you may want a richer structure. One way to do it is by introducing extra separators.\n",
    "\n",
    "- Comma-Separated Values (CSV): `\\t`, `,`, `|`\n",
    "- HTML & XML: `<`, `>`\n",
    "- JSON: `{`, `}`, `[`, `]`\n",
    "\n",
    "\n",
    "### CSV"
   ]
  },
  {
   "cell_type": "code",
   "execution_count": null,
   "metadata": {
    "collapsed": true,
    "run_control": {
     "frozen": false,
     "read_only": false
    }
   },
   "outputs": [],
   "source": [
    "import csv\n",
    "\n",
    "dc_heros = [\n",
    "    ['Flash', 'Barry Allen'],\n",
    "    ['Green Arrow', 'Oliver Queen'],\n",
    "    ['Atom', 'Ray Palmer'],\n",
    "    ['Bat Man', 'Bruce Wayne']\n",
    "]"
   ]
  },
  {
   "cell_type": "code",
   "execution_count": null,
   "metadata": {
    "collapsed": true,
    "run_control": {
     "frozen": false,
     "read_only": false
    }
   },
   "outputs": [],
   "source": [
    "with open('dc_heros.csv', 'w') as fout:\n",
    "    csvout = csv.writer(fout)\n",
    "    csvout.writerows(dc_heros)"
   ]
  },
  {
   "cell_type": "code",
   "execution_count": null,
   "metadata": {
    "collapsed": true,
    "run_control": {
     "frozen": false,
     "read_only": false
    }
   },
   "outputs": [],
   "source": [
    "with open('dc_heros.csv', 'r') as fin:\n",
    "    csvin = csv.reader(fin)\n",
    "    dc_heros = [row for row in csvin]\n",
    "\n",
    "print(dc_heros)"
   ]
  },
  {
   "cell_type": "code",
   "execution_count": null,
   "metadata": {
    "collapsed": true,
    "run_control": {
     "frozen": false,
     "read_only": false
    }
   },
   "outputs": [],
   "source": [
    "with open('dc_heros.csv', 'r') as fin:\n",
    "    csvin = csv.DictReader(fin, fieldnames=['Name', 'Real Name'])\n",
    "    dc_heros = [row for row in csvin]\n",
    "\n",
    "dc_heros"
   ]
  },
  {
   "cell_type": "code",
   "execution_count": null,
   "metadata": {
    "collapsed": true,
    "run_control": {
     "frozen": false,
     "read_only": false
    }
   },
   "outputs": [],
   "source": [
    "dc_heros = [\n",
    "    {'Name': 'Flash',       'Real Name': 'Barry Allen'},\n",
    "    {'Name': 'Green Arrow', 'Real Name': 'Oliver Queen'},\n",
    "    {'Name': 'Atom',        'Real Name': 'Ray Palmer'},\n",
    "    {'Name': 'Bat Man',     'Real Name': 'Bruce Wayne'},\n",
    "]\n",
    "\n",
    "with open('dc_heros.csv', 'w') as fout:\n",
    "    cout = csv.DictWriter(fout, dc_heros[0].keys())\n",
    "    cout.writeheader()\n",
    "    cout.writerows(dc_heros)"
   ]
  },
  {
   "cell_type": "code",
   "execution_count": null,
   "metadata": {
    "collapsed": true,
    "run_control": {
     "frozen": false,
     "read_only": false
    }
   },
   "outputs": [],
   "source": [
    "with open('dc_heros.csv', 'r') as fin:\n",
    "    csvin = csv.DictReader(fin)\n",
    "    dc_heros = [row for row in csvin]\n",
    "\n",
    "dc_heros"
   ]
  },
  {
   "cell_type": "markdown",
   "metadata": {
    "run_control": {
     "frozen": false,
     "read_only": false
    }
   },
   "source": [
    "### JSON"
   ]
  },
  {
   "cell_type": "code",
   "execution_count": null,
   "metadata": {
    "collapsed": true,
    "run_control": {
     "frozen": false,
     "read_only": false
    }
   },
   "outputs": [],
   "source": [
    "temperature = {\n",
    "    'avg': 20.0,\n",
    "    'daily': [\n",
    "        {'highest': 21.0, 'lowest': 19.0},\n",
    "        {'highest': 22.0, 'lowest': 18.0},\n",
    "        {'highest': 23.0, 'lowest': 17.0}\n",
    "    ]\n",
    "}"
   ]
  },
  {
   "cell_type": "code",
   "execution_count": null,
   "metadata": {
    "collapsed": true,
    "run_control": {
     "frozen": false,
     "read_only": false
    }
   },
   "outputs": [],
   "source": [
    "import json\n",
    "\n",
    "temperature_json = json.dumps(temperature)\n",
    "type(temperature_json)"
   ]
  },
  {
   "cell_type": "code",
   "execution_count": null,
   "metadata": {
    "collapsed": true,
    "run_control": {
     "frozen": false,
     "read_only": false
    }
   },
   "outputs": [],
   "source": [
    "print(temperature_json)"
   ]
  },
  {
   "cell_type": "code",
   "execution_count": null,
   "metadata": {
    "collapsed": true,
    "run_control": {
     "frozen": false,
     "read_only": false
    }
   },
   "outputs": [],
   "source": [
    "temperature2 = json.loads(temperature_json)\n",
    "\n",
    "from pprint import pprint\n",
    "pprint(temperature2)"
   ]
  },
  {
   "cell_type": "markdown",
   "metadata": {
    "run_control": {
     "frozen": false,
     "read_only": false
    }
   },
   "source": [
    "You may get an exception when you try to encode or decode some custom objects (or even some built-in objects like `datetime`)"
   ]
  },
  {
   "cell_type": "code",
   "execution_count": null,
   "metadata": {
    "collapsed": true,
    "run_control": {
     "frozen": false,
     "read_only": false
    }
   },
   "outputs": [],
   "source": [
    "class Person():\n",
    "    def __init__(self, name, gender):\n",
    "        self.name = name\n",
    "        self.gender = gender\n",
    "    \n",
    "    def say(self):\n",
    "        print(\"Hello I'm %s, nice to meet you.\" % self.name)"
   ]
  },
  {
   "cell_type": "code",
   "execution_count": null,
   "metadata": {
    "collapsed": true,
    "run_control": {
     "frozen": false,
     "read_only": false
    }
   },
   "outputs": [],
   "source": [
    "p = Person('Edward', 'Male')\n",
    "p_json = json.dumps(p)"
   ]
  },
  {
   "cell_type": "code",
   "execution_count": null,
   "metadata": {
    "collapsed": true,
    "run_control": {
     "frozen": false,
     "read_only": false
    }
   },
   "outputs": [],
   "source": [
    "# If your class is simple enough\n",
    "p_json = json.dumps(p.__dict__)\n",
    "print(p_json)"
   ]
  },
  {
   "cell_type": "code",
   "execution_count": null,
   "metadata": {
    "collapsed": true,
    "run_control": {
     "frozen": false,
     "read_only": false
    }
   },
   "outputs": [],
   "source": [
    "from json import JSONEncoder\n",
    "\n",
    "class PersonEncoder(JSONEncoder):\n",
    "    def default(self, obj):\n",
    "        return {'Name': obj.name, 'Gender': obj.gender}"
   ]
  },
  {
   "cell_type": "code",
   "execution_count": null,
   "metadata": {
    "collapsed": true,
    "run_control": {
     "frozen": false,
     "read_only": false
    }
   },
   "outputs": [],
   "source": [
    "p_json = json.dumps(p, cls=PersonEncoder)\n",
    "print(p_json)"
   ]
  },
  {
   "cell_type": "markdown",
   "metadata": {
    "run_control": {
     "frozen": false,
     "read_only": false
    }
   },
   "source": [
    "### Serialize by Using pickle\n",
    "\n",
    "Saving data structures to a file is called **serializing**. Formats such as JSON might require some custom converters to serialize all the data types from a Python program. Python provides the pickle module to save and restore any object in a **special binary format**."
   ]
  },
  {
   "cell_type": "code",
   "execution_count": null,
   "metadata": {
    "collapsed": true,
    "run_control": {
     "frozen": false,
     "read_only": false
    }
   },
   "outputs": [],
   "source": [
    "import pickle\n",
    "p_pickle = pickle.dumps(p)\n",
    "p_pickle"
   ]
  },
  {
   "cell_type": "code",
   "execution_count": null,
   "metadata": {
    "collapsed": true,
    "run_control": {
     "frozen": false,
     "read_only": false
    }
   },
   "outputs": [],
   "source": [
    "p2 = pickle.loads(p_pickle)\n",
    "p2.say()"
   ]
  },
  {
   "cell_type": "code",
   "execution_count": null,
   "metadata": {
    "collapsed": true,
    "run_control": {
     "frozen": false,
     "read_only": false
    }
   },
   "outputs": [],
   "source": [
    "with open('ed.pkl', 'wb') as fout:\n",
    "    pickle.dump(p, fout)"
   ]
  },
  {
   "cell_type": "markdown",
   "metadata": {
    "run_control": {
     "frozen": false,
     "read_only": false
    }
   },
   "source": [
    "> <span style=\"color:red\">**Warning**</span>: The `pickle` module is not secure against erroneous or maliciously constructed data. Never unpickle data received from an untrusted or unauthenticated source.\n",
    "\n",
    "Pickle provides 5 protocols to savae data, the higher the protocol is, the more recent Python version is needed:\n",
    "\n",
    "#### Pickle Protocols\n",
    "\n",
    "- 0: Original “human-readable” protocol and is backwards compatible with earlier versions of Python.\n",
    "- 1: Old binary format which is also compatible with earlier versions of Python.\n",
    "- 2: Provides much more efficient pickling of new-style classes. (>= Python 2.3)\n",
    "\n",
    "Python 3.x only\n",
    "\n",
    "- 3: Default. Explicit support for bytes objects and cannot be unpickled by Python 2.x.\n",
    "- 4: Adds support for very large objects, pickling more kinds of objects, and some data format optimizations.(>= Python 3.4)"
   ]
  },
  {
   "cell_type": "code",
   "execution_count": null,
   "metadata": {
    "collapsed": true,
    "run_control": {
     "frozen": false,
     "read_only": false
    }
   },
   "outputs": [],
   "source": [
    "with open('ed_readable.pkl', 'wb') as fout:\n",
    "    pickle.dump(p, fout, protocol=0)"
   ]
  },
  {
   "cell_type": "markdown",
   "metadata": {
    "run_control": {
     "frozen": false,
     "read_only": false
    }
   },
   "source": [
    "## Systems\n",
    "\n",
    "Python provides many system functions through a module names `os`.\n",
    "\n",
    "### Files"
   ]
  },
  {
   "cell_type": "code",
   "execution_count": null,
   "metadata": {
    "collapsed": true,
    "run_control": {
     "frozen": false,
     "read_only": false
    }
   },
   "outputs": [],
   "source": [
    "import os\n",
    "\n",
    "os.path.exists('tmp1')"
   ]
  },
  {
   "cell_type": "code",
   "execution_count": null,
   "metadata": {
    "collapsed": true,
    "run_control": {
     "frozen": false,
     "read_only": false
    }
   },
   "outputs": [],
   "source": [
    "os.path.exists('../T8')"
   ]
  },
  {
   "cell_type": "code",
   "execution_count": null,
   "metadata": {
    "collapsed": true,
    "run_control": {
     "frozen": false,
     "read_only": false
    }
   },
   "outputs": [],
   "source": [
    "os.path.isfile('tmp1')"
   ]
  },
  {
   "cell_type": "code",
   "execution_count": null,
   "metadata": {
    "collapsed": true,
    "run_control": {
     "frozen": false,
     "read_only": false
    }
   },
   "outputs": [],
   "source": [
    "os.path.isfile('../T8')"
   ]
  },
  {
   "cell_type": "code",
   "execution_count": null,
   "metadata": {
    "collapsed": true,
    "run_control": {
     "frozen": false,
     "read_only": false
    }
   },
   "outputs": [],
   "source": [
    "os.path.isdir('../T8')"
   ]
  },
  {
   "cell_type": "code",
   "execution_count": null,
   "metadata": {
    "collapsed": true,
    "run_control": {
     "frozen": false,
     "read_only": false
    }
   },
   "outputs": [],
   "source": [
    "os.path.isabs('tmp1')"
   ]
  },
  {
   "cell_type": "code",
   "execution_count": null,
   "metadata": {
    "collapsed": true,
    "run_control": {
     "frozen": false,
     "read_only": false
    }
   },
   "outputs": [],
   "source": [
    "os.path.isabs('/tmp1')"
   ]
  },
  {
   "cell_type": "markdown",
   "metadata": {
    "run_control": {
     "frozen": false,
     "read_only": false
    }
   },
   "source": [
    "> `isabs()` won't check whether the directory really exists or not."
   ]
  },
  {
   "cell_type": "code",
   "execution_count": null,
   "metadata": {
    "collapsed": true,
    "run_control": {
     "frozen": false,
     "read_only": false
    }
   },
   "outputs": [],
   "source": [
    "os.listdir('.')"
   ]
  },
  {
   "cell_type": "code",
   "execution_count": null,
   "metadata": {
    "collapsed": true,
    "run_control": {
     "frozen": false,
     "read_only": false
    }
   },
   "outputs": [],
   "source": [
    "os.rename('tmp2', 'tmp')\n",
    "os.listdir('.')"
   ]
  },
  {
   "cell_type": "code",
   "execution_count": null,
   "metadata": {
    "collapsed": true,
    "run_control": {
     "frozen": false,
     "read_only": false
    }
   },
   "outputs": [],
   "source": [
    "os.rename('tmp1', 'tmp')\n",
    "os.listdir('.')"
   ]
  },
  {
   "cell_type": "markdown",
   "metadata": {
    "run_control": {
     "frozen": false,
     "read_only": false
    }
   },
   "source": [
    "> `reanme()` to an exsisting file will cause overrding."
   ]
  },
  {
   "cell_type": "code",
   "execution_count": null,
   "metadata": {
    "collapsed": true,
    "run_control": {
     "frozen": false,
     "read_only": false
    }
   },
   "outputs": [],
   "source": [
    "os.remove('bfile')\n",
    "os.listdir('.')"
   ]
  },
  {
   "cell_type": "code",
   "execution_count": null,
   "metadata": {
    "collapsed": true,
    "run_control": {
     "frozen": false,
     "read_only": false
    }
   },
   "outputs": [],
   "source": [
    "import shutil\n",
    "\n",
    "shutil.copy('tmp', 'tmp_copy')\n",
    "os.listdir('.')"
   ]
  },
  {
   "cell_type": "code",
   "execution_count": null,
   "metadata": {
    "collapsed": true,
    "run_control": {
     "frozen": false,
     "read_only": false
    }
   },
   "outputs": [],
   "source": [
    "os.link('tmp', 'tmp_hard_link')\n",
    "os.listdir('.')"
   ]
  },
  {
   "cell_type": "code",
   "execution_count": null,
   "metadata": {
    "collapsed": true,
    "run_control": {
     "frozen": false,
     "read_only": false
    }
   },
   "outputs": [],
   "source": [
    "print(os.path.isfile('tmp_hard_link'))\n",
    "print(os.path.islink('tmp_hard_link'))"
   ]
  },
  {
   "cell_type": "code",
   "execution_count": null,
   "metadata": {
    "collapsed": true,
    "run_control": {
     "frozen": false,
     "read_only": false
    }
   },
   "outputs": [],
   "source": [
    "os.symlink('tmp', 'tmp_soft_link')\n",
    "os.listdir('.')"
   ]
  },
  {
   "cell_type": "code",
   "execution_count": null,
   "metadata": {
    "collapsed": true,
    "run_control": {
     "frozen": false,
     "read_only": false
    }
   },
   "outputs": [],
   "source": [
    "print(os.path.isfile('tmp_soft_link'))\n",
    "print(os.path.islink('tmp_soft_link'))"
   ]
  },
  {
   "cell_type": "code",
   "execution_count": null,
   "metadata": {
    "collapsed": true,
    "run_control": {
     "frozen": false,
     "read_only": false
    }
   },
   "outputs": [],
   "source": [
    "os.path.abspath('tmp_soft_link')"
   ]
  },
  {
   "cell_type": "code",
   "execution_count": null,
   "metadata": {
    "collapsed": true,
    "run_control": {
     "frozen": false,
     "read_only": false
    }
   },
   "outputs": [],
   "source": [
    "os.path.realpath('tmp_soft_link')"
   ]
  },
  {
   "cell_type": "code",
   "execution_count": null,
   "metadata": {
    "collapsed": true,
    "run_control": {
     "frozen": false,
     "read_only": false
    }
   },
   "outputs": [],
   "source": [
    "with open('tmp_soft_link', 'a') as f:\n",
    "    f.write('append a new line')"
   ]
  },
  {
   "cell_type": "code",
   "execution_count": null,
   "metadata": {
    "collapsed": true,
    "run_control": {
     "frozen": false,
     "read_only": false
    }
   },
   "outputs": [],
   "source": [
    "with open('tmp', 'r') as f:\n",
    "    print(f.read())"
   ]
  },
  {
   "cell_type": "code",
   "execution_count": null,
   "metadata": {
    "collapsed": true,
    "run_control": {
     "frozen": false,
     "read_only": false
    }
   },
   "outputs": [],
   "source": [
    "os.rename('tmp', 'tmp_alias')"
   ]
  },
  {
   "cell_type": "code",
   "execution_count": null,
   "metadata": {
    "collapsed": true,
    "run_control": {
     "frozen": false,
     "read_only": false
    }
   },
   "outputs": [],
   "source": [
    "os.path.realpath('tmp_soft_link')"
   ]
  },
  {
   "cell_type": "code",
   "execution_count": null,
   "metadata": {
    "collapsed": true,
    "run_control": {
     "frozen": false,
     "read_only": false
    },
    "scrolled": true
   },
   "outputs": [],
   "source": [
    "with open('tmp_soft_link', 'r') as f:\n",
    "    print(f.read())"
   ]
  },
  {
   "cell_type": "code",
   "execution_count": null,
   "metadata": {
    "collapsed": true,
    "run_control": {
     "frozen": false,
     "read_only": false
    }
   },
   "outputs": [],
   "source": [
    "with open('tmp_hard_link', 'r') as f:\n",
    "    print(f.read())"
   ]
  },
  {
   "cell_type": "code",
   "execution_count": null,
   "metadata": {
    "collapsed": true,
    "run_control": {
     "frozen": false,
     "read_only": false
    }
   },
   "outputs": [],
   "source": [
    "os.listdir('.')"
   ]
  },
  {
   "cell_type": "code",
   "execution_count": null,
   "metadata": {
    "collapsed": true,
    "run_control": {
     "frozen": false,
     "read_only": false
    }
   },
   "outputs": [],
   "source": [
    "os.remove('tmp_alias')"
   ]
  },
  {
   "cell_type": "code",
   "execution_count": null,
   "metadata": {
    "collapsed": true,
    "run_control": {
     "frozen": false,
     "read_only": false
    }
   },
   "outputs": [],
   "source": [
    "with open('tmp_hard_link', 'r') as f:\n",
    "    print(f.read())"
   ]
  },
  {
   "cell_type": "markdown",
   "metadata": {
    "run_control": {
     "frozen": false,
     "read_only": false
    }
   },
   "source": [
    "**Copy**:\n",
    "\n",
    "- You have two different versions of the file.\n",
    "- If you edit one, the other one stays the same.\n",
    "- If you delete one, the other one stays there, but it may not be identical if it was edited.\n",
    "- Twice as much disk space used (two different files).\n",
    "\n",
    "**Hard Link**:\n",
    "\n",
    "- You have one file with two different filenames.\n",
    "- If you edit one, it gets edited in all filename locations.\n",
    "- If you delete one, it still exists in other places.\n",
    "- Only one file on disk.\n",
    "\n",
    "> You may think a filename as a hard link\n",
    "\n",
    "**Soft Link**:\n",
    "\n",
    "- You have one file with one filename and a pointer to that file with the other filename.\n",
    "- If you edit the link, its really editing the original file.\n",
    "- If you delete the file, the link is broken.\n",
    "- If you remove the link, the file stays in place.\n",
    "- Only one file on disk.\n",
    "\n",
    "<img src='link.png' align='center' width='600px'>\n",
    "\n",
    "### Directories"
   ]
  },
  {
   "cell_type": "code",
   "execution_count": null,
   "metadata": {
    "collapsed": true,
    "run_control": {
     "frozen": false,
     "read_only": false
    }
   },
   "outputs": [],
   "source": [
    "os.mkdir('untitled')\n",
    "os.listdir('.')"
   ]
  },
  {
   "cell_type": "code",
   "execution_count": null,
   "metadata": {
    "collapsed": true,
    "run_control": {
     "frozen": false,
     "read_only": false
    }
   },
   "outputs": [],
   "source": [
    "os.rmdir('untitled')\n",
    "os.path.exists('untitled')"
   ]
  },
  {
   "cell_type": "code",
   "execution_count": null,
   "metadata": {
    "collapsed": true,
    "run_control": {
     "frozen": false,
     "read_only": false
    }
   },
   "outputs": [],
   "source": [
    "os.chdir('..')\n",
    "print(os.listdir('.'))"
   ]
  },
  {
   "cell_type": "markdown",
   "metadata": {
    "run_control": {
     "frozen": false,
     "read_only": false
    }
   },
   "source": [
    "### List Matching with `glob()`\n",
    "\n",
    "The `glob()` function mathces the file or directory names by using Unix shell rules rather than the more complete regular expression.\n",
    "\n",
    "- `*` mathces everything\n",
    "- `?` matches a single character\n",
    "- `[abc]` matches a character `a`, `b` or `c`\n",
    "- `[!abc]` matches any character except `a`, `b`, or `c`"
   ]
  },
  {
   "cell_type": "code",
   "execution_count": null,
   "metadata": {
    "collapsed": true,
    "run_control": {
     "frozen": false,
     "read_only": false
    }
   },
   "outputs": [],
   "source": [
    "import glob\n",
    "\n",
    "glob.glob('T*')"
   ]
  },
  {
   "cell_type": "code",
   "execution_count": null,
   "metadata": {
    "collapsed": true,
    "run_control": {
     "frozen": false,
     "read_only": false
    }
   },
   "outputs": [],
   "source": [
    "glob.glob('???')"
   ]
  },
  {
   "cell_type": "code",
   "execution_count": null,
   "metadata": {
    "collapsed": true,
    "run_control": {
     "frozen": false,
     "read_only": false
    }
   },
   "outputs": [],
   "source": [
    "glob.glob('??3')"
   ]
  },
  {
   "cell_type": "code",
   "execution_count": null,
   "metadata": {
    "collapsed": true,
    "run_control": {
     "frozen": false,
     "read_only": false
    }
   },
   "outputs": [],
   "source": [
    "glob.glob('*[1, 2]')"
   ]
  },
  {
   "cell_type": "markdown",
   "metadata": {
    "run_control": {
     "frozen": false,
     "read_only": false
    }
   },
   "source": [
    "### Programs and Processes\n",
    "\n",
    "When you run an individual program, your operating system creates a single **process**. It uses system resources (CPU, memory, disk space) and data structures in the operating system's kernel.\n",
    "\n",
    "A process is isolated from from other processes."
   ]
  },
  {
   "cell_type": "code",
   "execution_count": null,
   "metadata": {
    "collapsed": true,
    "run_control": {
     "frozen": false,
     "read_only": false
    }
   },
   "outputs": [],
   "source": [
    "import os\n",
    "\n",
    "print(os.getpid())\n",
    "print(os.getcwd())"
   ]
  },
  {
   "cell_type": "code",
   "execution_count": null,
   "metadata": {
    "collapsed": true,
    "run_control": {
     "frozen": false,
     "read_only": false
    }
   },
   "outputs": [],
   "source": [
    "import subprocess\n",
    "\n",
    "ret = subprocess.getoutput('date')\n",
    "ret"
   ]
  },
  {
   "cell_type": "code",
   "execution_count": null,
   "metadata": {
    "collapsed": true,
    "run_control": {
     "frozen": false,
     "read_only": false
    }
   },
   "outputs": [],
   "source": [
    "ret = subprocess.call('date')\n",
    "ret"
   ]
  },
  {
   "cell_type": "code",
   "execution_count": null,
   "metadata": {
    "collapsed": true,
    "run_control": {
     "frozen": false,
     "read_only": false
    }
   },
   "outputs": [],
   "source": [
    "subprocess.call('say \"When you run an individual program, your operating system creates a single process.\"', shell=True)"
   ]
  },
  {
   "cell_type": "code",
   "execution_count": null,
   "metadata": {
    "collapsed": true,
    "run_control": {
     "frozen": false,
     "read_only": false
    }
   },
   "outputs": [],
   "source": [
    "text = 'When you run an individual program, your operating system creates a single process.'\n",
    "subprocess.call(['say', '-r', '300', text])"
   ]
  },
  {
   "cell_type": "markdown",
   "metadata": {
    "run_control": {
     "frozen": false,
     "read_only": false
    }
   },
   "source": [
    "## Concurrency\n",
    "\n",
    "So far, most of the programs what we've written run in one place (one machine) and one line at a time (sequential). But we can do more than one thin at a time (concurrency) and in more than one place (distributed computing or networking)."
   ]
  },
  {
   "cell_type": "code",
   "execution_count": 22,
   "metadata": {
    "run_control": {
     "frozen": false,
     "read_only": false
    }
   },
   "outputs": [
    {
     "name": "stdout",
     "output_type": "stream",
     "text": [
      "Thread <_MainThread(MainThread, started 15980)> says\" I'm the main program\n",
      "Thread <Thread(Thread-6, started 8724)> says\" I'm function 0\n",
      "Thread <Thread(Thread-7, started 8964)> says\" I'm function 1\n",
      "Thread <Thread(Thread-8, started 17020)> says\" I'm function 2\n",
      "Thread <Thread(Thread-9, started 5548)> says\" I'm function 3\n"
     ]
    }
   ],
   "source": [
    "import threading\n",
    "\n",
    "def do_this(what):\n",
    "    whoami(what)\n",
    "\n",
    "def whoami(what):\n",
    "    print('Thread %s says\" %s' % (threading.current_thread(), what))\n",
    "\n",
    "if __name__ == '__main__':\n",
    "    whoami(\"I'm the main program\")\n",
    "    for n in range(4):\n",
    "        p = threading.Thread(target=do_this, args=(\"I'm function %s\" % n,))\n",
    "        p.start()"
   ]
  },
  {
   "cell_type": "code",
   "execution_count": null,
   "metadata": {
    "collapsed": true
   },
   "outputs": [],
   "source": []
  }
 ],
 "metadata": {
  "kernelspec": {
   "display_name": "Python 3",
   "language": "python",
   "name": "python3"
  },
  "language_info": {
   "codemirror_mode": {
    "name": "ipython",
    "version": 3
   },
   "file_extension": ".py",
   "mimetype": "text/x-python",
   "name": "python",
   "nbconvert_exporter": "python",
   "pygments_lexer": "ipython3",
   "version": "3.7.4"
  }
 },
 "nbformat": 4,
 "nbformat_minor": 2
}
