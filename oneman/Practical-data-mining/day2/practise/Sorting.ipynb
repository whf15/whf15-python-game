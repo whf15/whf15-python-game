{
 "cells": [
  {
   "cell_type": "markdown",
   "metadata": {
    "run_control": {
     "frozen": false,
     "read_only": false
    }
   },
   "source": [
    "## Buble Sort"
   ]
  },
  {
   "cell_type": "code",
   "execution_count": null,
   "metadata": {
    "run_control": {
     "frozen": false,
     "read_only": false
    }
   },
   "outputs": [],
   "source": [
    "def _bubble_sort(nums: list, reverse=False):\n",
    "    import time\n",
    "    start = time.time()\n",
    "    for i in range(len(nums)):\n",
    "        # Get (i+1) largest in the correct position\n",
    "        for j in range(len(nums) - i - 1):\n",
    "            if nums[j] > nums[j + 1]:\n",
    "                nums[j], nums[j + 1] = nums[j + 1], nums[j]\n",
    "    if reverse:\n",
    "        #nums = nums[::-1]  # why this is not working?\n",
    "        nums.reverse()\n",
    "    t = time.time() - start\n",
    "    return len(nums), t\n",
    "\n",
    "\n",
    "def bubble_sorted(nums: list, reverse=False) -> list:\n",
    "    \"\"\"Bubble Sort\"\"\"\n",
    "    nums_copy = list(nums)\n",
    "    _bubble_sort(nums_copy, reverse=reverse)\n",
    "    return nums_copy\n",
    "\n",
    "l = [1, 3, 5, 7, 9, 2, 4, 6, 8, 0]\n",
    "l = bubble_sorted(l, reverse=True)\n",
    "print(l)"
   ]
  },
  {
   "cell_type": "code",
   "execution_count": null,
   "metadata": {},
   "outputs": [],
   "source": [
    "import arrayutil\n",
    "mylist = arrayutil.generateRandomArray(10000)\n"
   ]
  },
  {
   "cell_type": "code",
   "execution_count": null,
   "metadata": {},
   "outputs": [],
   "source": [
    "random_lists = [arrayutil.generateRandomArray(100 * n) for n in range(1, 20)]\n",
    "\n",
    "rst = [_bubble_sort(l) for l in random_lists]\n",
    "\n",
    "rst"
   ]
  },
  {
   "cell_type": "code",
   "execution_count": null,
   "metadata": {},
   "outputs": [],
   "source": [
    "import matplotlib.pyplot as plt\n",
    "%matplotlib inline  \n",
    "\n",
    "x = list(zip(*rst))[0]\n",
    "y = list(zip(*rst))[1]\n",
    "\n",
    "plt.plot(x, y)"
   ]
  },
  {
   "cell_type": "code",
   "execution_count": null,
   "metadata": {},
   "outputs": [],
   "source": [
    "seq = arrayutil.generateSequenceArray(10000)\n",
    "l, t = _bubble_sort(seq)\n",
    "print(l, t)"
   ]
  },
  {
   "cell_type": "code",
   "execution_count": null,
   "metadata": {
    "collapsed": true
   },
   "outputs": [],
   "source": [
    "def bubble_sort_mod(array):\n",
    "    import time\n",
    "    start = time.time()    \n",
    "    for i in range(len(array)): # n pass\n",
    "        is_sorted = True  # initialize is_sorted\n",
    "        for j in range(1, len(array) - i):\n",
    "            if (array[j] < array[j - 1]):\n",
    "                # swap\n",
    "                array[j], array[j - 1] = array[j - 1], array[j]\n",
    "                is_sorted = False\n",
    "        \n",
    "        if (is_sorted): break\n",
    "    t = time.time() - start\n",
    "    return len(array), t            "
   ]
  },
  {
   "cell_type": "code",
   "execution_count": null,
   "metadata": {},
   "outputs": [],
   "source": [
    "l, t = bubble_sort_mod(seq)\n",
    "print(l, t)"
   ]
  },
  {
   "cell_type": "markdown",
   "metadata": {
    "run_control": {
     "frozen": false,
     "read_only": false
    }
   },
   "source": [
    "## Insert Sort"
   ]
  },
  {
   "cell_type": "code",
   "execution_count": null,
   "metadata": {
    "collapsed": true,
    "run_control": {
     "frozen": false,
     "read_only": false
    }
   },
   "outputs": [],
   "source": [
    "def insert_sort(items):\n",
    "    import time\n",
    "    start = time.time()\n",
    "    for sort_inx in range(1,len(items)):\n",
    "        unsort_inx = sort_inx\n",
    "        while unsort_inx > 0 and items[unsort_inx-1] > items[unsort_inx]:\n",
    "            items[unsort_inx-1], items[unsort_inx] = items[unsort_inx], items[unsort_inx-1]\n",
    "            unsort_inx = unsort_inx-1\n",
    "    t = time.time() - start\n",
    "    return len(items), t            \n",
    "            "
   ]
  },
  {
   "cell_type": "code",
   "execution_count": null,
   "metadata": {
    "run_control": {
     "frozen": false,
     "read_only": false
    }
   },
   "outputs": [],
   "source": [
    "l = [1, 3, 5, 7, 9, 2, 4, 6, 8, 99]\n",
    "insert_sort(l)\n",
    "print(l)"
   ]
  },
  {
   "cell_type": "code",
   "execution_count": null,
   "metadata": {},
   "outputs": [],
   "source": [
    "random_lists = [arrayutil.generateRandomArray(100 * n) for n in range(1, 20)]\n",
    "\n",
    "rst = [insert_sort(l) for l in random_lists]\n",
    "rst"
   ]
  },
  {
   "cell_type": "code",
   "execution_count": null,
   "metadata": {},
   "outputs": [],
   "source": [
    "x = list(zip(*rst))[0]\n",
    "y = list(zip(*rst))[1]\n",
    "\n",
    "plt.plot(x, y)"
   ]
  },
  {
   "cell_type": "markdown",
   "metadata": {
    "run_control": {
     "frozen": false,
     "read_only": false
    }
   },
   "source": [
    "## Merge Sort"
   ]
  },
  {
   "cell_type": "code",
   "execution_count": null,
   "metadata": {
    "code_folding": [],
    "run_control": {
     "frozen": false,
     "read_only": false
    }
   },
   "outputs": [],
   "source": [
    "def _merge(a: list, b: list) -> list:\n",
    "    \"\"\"Merge two sorted list\"\"\"\n",
    "    c = []\n",
    "    while len(a) > 0 and len(b) > 0:\n",
    "        if a[0] < b[0]:\n",
    "            c.append(a[0])\n",
    "            a.remove(a[0])\n",
    "        else:\n",
    "            c.append(b[0])\n",
    "            b.remove(b[0])\n",
    "\n",
    "    if len(a) == 0:\n",
    "        c += b\n",
    "    else:\n",
    "        c += a\n",
    "    return c\n",
    "\n",
    "\n",
    "def _merge_sorted(nums: list) -> list:\n",
    "    # Won't sort in place\n",
    "    if len(nums) <= 1:\n",
    "        return nums\n",
    "\n",
    "    m = len(nums) // 2\n",
    "    a = _merge_sorted(nums[:m])\n",
    "    b = _merge_sorted(nums[m:])\n",
    "    return _merge(a, b)\n",
    "\n",
    "\n",
    "# Wrapper\n",
    "def merge_sorted(nums: list, reverse=False) -> list:\n",
    "    import time\n",
    "    start = time.time()\n",
    "    \"\"\"Merge Sort\"\"\"\n",
    "    nums = _merge_sorted(nums)\n",
    "    if reverse:\n",
    "        nums = nums[::-1]\n",
    "\n",
    "    t = time.time() - start\n",
    "    return nums, len(nums), t\n",
    "\n",
    "l = [1, 3, 5, 7, 9, 2, 4, 6, 8, 0]\n",
    "l = merge_sorted(l, reverse=True)[0]\n",
    "print(l)"
   ]
  },
  {
   "cell_type": "code",
   "execution_count": null,
   "metadata": {},
   "outputs": [],
   "source": [
    "random_lists = [arrayutil.generateRandomArray(100 * n) for n in range(1, 51)]\n",
    "rst = [merge_sorted(l) for l in random_lists]\n",
    "r = [(l[1],l[2]) for l in rst]\n",
    "r"
   ]
  },
  {
   "cell_type": "code",
   "execution_count": null,
   "metadata": {},
   "outputs": [],
   "source": [
    "import matplotlib.pyplot as plt\n",
    "%matplotlib inline  \n",
    "\n",
    "x = list(zip(*r))[0]\n",
    "y = list(zip(*r))[1]\n",
    "\n",
    "plt.plot(x, y)"
   ]
  },
  {
   "cell_type": "markdown",
   "metadata": {
    "run_control": {
     "frozen": false,
     "read_only": false
    }
   },
   "source": [
    "## Quick Sort"
   ]
  },
  {
   "cell_type": "code",
   "execution_count": null,
   "metadata": {
    "run_control": {
     "frozen": false,
     "read_only": false
    }
   },
   "outputs": [],
   "source": [
    "def _quick_sorted(nums: list) -> list:\n",
    "    if len(nums) <= 1:\n",
    "        return nums\n",
    "\n",
    "    pivot = nums[0]\n",
    "    left_nums = _quick_sorted([x for x in nums[1:] if x < pivot])\n",
    "    right_nums = _quick_sorted([x for x in nums[1:] if x >= pivot])\n",
    "    return left_nums + [pivot] + right_nums\n",
    "\n",
    "\n",
    "def quick_sorted(nums: list, reverse=False) -> list:\n",
    "    \"\"\"Quick Sort\"\"\"\n",
    "    nums = _quick_sorted(nums)\n",
    "    if reverse:\n",
    "        nums = nums[::-1]\n",
    "    return nums\n",
    "\n",
    "\n",
    "l = [1, 3, 5, 7, 9, 2, 4, 6, 8, 0]\n",
    "l = quick_sorted(l, reverse=True)\n",
    "print(l)"
   ]
  },
  {
   "cell_type": "markdown",
   "metadata": {},
   "source": [
    "## Sequential Search"
   ]
  },
  {
   "cell_type": "code",
   "execution_count": null,
   "metadata": {},
   "outputs": [],
   "source": [
    "3 in [1, 2, 3] # => True\n",
    "nums = arrayutil.generateRandomArray(1000)\n",
    "nums.index(100)"
   ]
  },
  {
   "cell_type": "code",
   "execution_count": null,
   "metadata": {},
   "outputs": [],
   "source": [
    "random_lists = [arrayutil.generateRandomArray(10000 * n) for n in range(1, 21)]\n",
    "\n",
    "def search(nums):\n",
    "    import time\n",
    "    start = time.time()\n",
    "    r = -1 in nums\n",
    "    t = time.time() - start\n",
    "    return r, len(nums), t\n",
    "\n",
    "rst = [search(l) for l in random_lists]\n",
    "rst"
   ]
  },
  {
   "cell_type": "code",
   "execution_count": null,
   "metadata": {},
   "outputs": [],
   "source": [
    "x = list(zip(*rst))[1]\n",
    "y = list(zip(*rst))[2]\n",
    "\n",
    "plt.plot(x, y)"
   ]
  },
  {
   "cell_type": "code",
   "execution_count": null,
   "metadata": {
    "collapsed": true
   },
   "outputs": [],
   "source": [
    "def sequentialSearch(alist, item):\n",
    "    pos = 0\n",
    "    found = False\n",
    "    idx = -1\n",
    "    while pos < len(alist) and not found:\n",
    "        if alist[pos] == item:\n",
    "            found = True\n",
    "            idx = pos\n",
    "        else:\n",
    "            pos = pos+1\n",
    "    return idx"
   ]
  },
  {
   "cell_type": "code",
   "execution_count": null,
   "metadata": {},
   "outputs": [],
   "source": [
    "nums = arrayutil.generateRandomArray(1000)\n",
    "sequentialSearch(nums, 100)"
   ]
  },
  {
   "cell_type": "markdown",
   "metadata": {},
   "source": [
    "## Binary Search"
   ]
  },
  {
   "cell_type": "code",
   "execution_count": null,
   "metadata": {
    "collapsed": true
   },
   "outputs": [],
   "source": [
    "def binarysearch1(alist, item):\n",
    "    import time\n",
    "    start = time.time()    \n",
    "    left, right = 0, len(alist) - 1\n",
    "    while left <= right:\n",
    "        mid = (left + right) // 2\n",
    "        if alist[mid] < item:\n",
    "            left = mid + 1\n",
    "        elif alist[mid] > item:\n",
    "            right = mid - 1\n",
    "        else: # alist[mid] = item\n",
    "            t = time.time() - start\n",
    "            return mid, len(alist), t\n",
    "    t = time.time() - start    \n",
    "    return -1, len(alist), t\n"
   ]
  },
  {
   "cell_type": "code",
   "execution_count": null,
   "metadata": {},
   "outputs": [],
   "source": [
    "seq_lists = [arrayutil.generateSequenceArray(100000 * n) for n in range(1, 51)]"
   ]
  },
  {
   "cell_type": "code",
   "execution_count": null,
   "metadata": {},
   "outputs": [],
   "source": [
    "rst = [binarysearch1(l, 100) for l in seq_lists]\n",
    "r = [(l[1],l[2]) for l in rst]\n",
    "r"
   ]
  },
  {
   "cell_type": "code",
   "execution_count": null,
   "metadata": {
    "collapsed": true
   },
   "outputs": [],
   "source": []
  }
 ],
 "metadata": {
  "kernelspec": {
   "display_name": "Python 3",
   "language": "python",
   "name": "python3"
  },
  "language_info": {
   "codemirror_mode": {
    "name": "ipython",
    "version": 3
   },
   "file_extension": ".py",
   "mimetype": "text/x-python",
   "name": "python",
   "nbconvert_exporter": "python",
   "pygments_lexer": "ipython3",
   "version": "3.6.1"
  }
 },
 "nbformat": 4,
 "nbformat_minor": 2
}
