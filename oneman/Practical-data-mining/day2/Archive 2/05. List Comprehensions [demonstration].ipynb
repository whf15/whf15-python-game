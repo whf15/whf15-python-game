{
 "cells": [
  {
   "cell_type": "markdown",
   "metadata": {},
   "source": [
    "# List Comprehensions [demonstration]\n",
    "One of Python's most \"Pythonic\" features is the **list comprehension**. It's a way of creating a list in a compact and, once you get used to them, readable way. See the demonstrations below."
   ]
  },
  {
   "cell_type": "code",
   "execution_count": null,
   "metadata": {},
   "outputs": [],
   "source": [
    "numbers_0_to_9 = [x for x in range(10)]\n",
    "print(\"Numbers 0 to 9\", numbers_0_to_9)"
   ]
  },
  {
   "cell_type": "code",
   "execution_count": null,
   "metadata": {},
   "outputs": [],
   "source": [
    "squares = [x * x for x in range(10)]\n",
    "print(\"Squares       \", squares)"
   ]
  },
  {
   "cell_type": "code",
   "execution_count": null,
   "metadata": {},
   "outputs": [],
   "source": [
    "# note - this example uses the \"modulo\" operator\n",
    "\n",
    "odds = [x for x in range(10) if x % 2 == 1]\n",
    "print(\"Odds          \", odds)"
   ]
  },
  {
   "cell_type": "markdown",
   "metadata": {},
   "source": [
    "### Advanced List Comprehensions [optional]\n",
    "If you're already an advanced programmer, you may be interested in some of these more advanced list comprehensions. They're one of the things that experienced Python users learn to love about Python.\n",
    "\n",
    "This example also uses a data type called a namedtuple which is similar to a `struct` data type in other languages."
   ]
  },
  {
   "cell_type": "code",
   "execution_count": null,
   "metadata": {},
   "outputs": [],
   "source": [
    "from collections import namedtuple\n",
    "Person = namedtuple(\"Person\", [\"name\", \"age\", \"gender\"])\n",
    "\n",
    "people = [\n",
    "    Person(\"Andy\", 30, \"m\"),\n",
    "    Person(\"Ping\", 1, \"m\"), \n",
    "    Person(\"Tina\", 32, \"f\"),\n",
    "    Person(\"Abby\", 14, \"f\"),\n",
    "    Person(\"Adah\", 13, \"f\"),\n",
    "    Person(\"Sebastian\", 42, \"m\"),\n",
    "    Person(\"Carol\" , 68, \"f\"),\n",
    "]\n",
    "\n",
    "# first, let's show how this namedtuple works.\n",
    "\n",
    "andy = people[0]\n",
    "\n",
    "print(\"name:  \", andy.name)\n",
    "print(\"age:   \", andy.age)\n",
    "print(\"gender:\", andy.gender)"
   ]
  },
  {
   "cell_type": "code",
   "execution_count": null,
   "metadata": {},
   "outputs": [],
   "source": [
    "# now let's show what we can do with a list comprehension\n",
    "\n",
    "male_names = [person.name for person in people if person.gender==\"m\"]\n",
    "print(\"Male names:\", male_names)"
   ]
  },
  {
   "cell_type": "code",
   "execution_count": null,
   "metadata": {},
   "outputs": [],
   "source": [
    "teen_names = [p.name for p in people if 13 <= p.age <= 18 ]\n",
    "print(\"Teen names:\", teen_names)"
   ]
  }
 ],
 "metadata": {
  "kernelspec": {
   "display_name": "Python 3",
   "language": "python",
   "name": "python3"
  },
  "language_info": {
   "codemirror_mode": {
    "name": "ipython",
    "version": 3
   },
   "file_extension": ".py",
   "mimetype": "text/x-python",
   "name": "python",
   "nbconvert_exporter": "python",
   "pygments_lexer": "ipython3",
   "version": "3.6.3"
  }
 },
 "nbformat": 4,
 "nbformat_minor": 2
}
