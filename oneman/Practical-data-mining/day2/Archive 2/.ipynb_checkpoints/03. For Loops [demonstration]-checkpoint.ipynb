{
 "cells": [
  {
   "cell_type": "markdown",
   "metadata": {},
   "source": [
    "# For Loops [demonstration]\n",
    "The code below demonstrates two ways of looping through the numbers 0,1,2,3,4,5"
   ]
  },
  {
   "cell_type": "code",
   "execution_count": 2,
   "metadata": {},
   "outputs": [
    {
     "name": "stdout",
     "output_type": "stream",
     "text": [
      "1 - demonstrating for loop\n",
      "0\n",
      "1\n",
      "2\n",
      "3\n",
      "4\n",
      "5\n"
     ]
    }
   ],
   "source": [
    "print(\"1 - demonstrating for loop\")\n",
    "for i in [0,1,2,3,4,5]:\n",
    "    print(i)"
   ]
  },
  {
   "cell_type": "code",
   "execution_count": 3,
   "metadata": {},
   "outputs": [
    {
     "name": "stdout",
     "output_type": "stream",
     "text": [
      "2 - demonstrating for loop with range()\n",
      "0\n",
      "1\n",
      "2\n",
      "3\n",
      "4\n",
      "5\n"
     ]
    }
   ],
   "source": [
    "print(\"2 - demonstrating for loop with range()\")\n",
    "for i in range(6):\n",
    "    print(i)"
   ]
  },
  {
   "cell_type": "markdown",
   "metadata": {},
   "source": [
    "### The `range` function\n",
    "The `range` function is one you'll probably use a lot - often in conjunction with a for loop. The code below shows how you can use the range function to print out a multiplication table.\n",
    "\n",
    "Read through the code below. What is the biggest number you expect to see printed? "
   ]
  },
  {
   "cell_type": "code",
   "execution_count": 3,
   "metadata": {},
   "outputs": [
    {
     "name": "stdout",
     "output_type": "stream",
     "text": [
      "0 x 0 = 0\n",
      "0 x 1 = 0\n",
      "0 x 2 = 0\n",
      "0 x 3 = 0\n",
      "0 x 4 = 0\n",
      "1 x 0 = 0\n",
      "1 x 1 = 1\n",
      "1 x 2 = 2\n",
      "1 x 3 = 3\n",
      "1 x 4 = 4\n",
      "2 x 0 = 0\n",
      "2 x 1 = 2\n",
      "2 x 2 = 4\n",
      "2 x 3 = 6\n",
      "2 x 4 = 8\n",
      "3 x 0 = 0\n",
      "3 x 1 = 3\n",
      "3 x 2 = 6\n",
      "3 x 3 = 9\n",
      "3 x 4 = 12\n",
      "4 x 0 = 0\n",
      "4 x 1 = 4\n",
      "4 x 2 = 8\n",
      "4 x 3 = 12\n",
      "4 x 4 = 16\n"
     ]
    }
   ],
   "source": [
    "for left_num in range(5):\n",
    "    for right_num in range(5):\n",
    "        product = left_num * right_num\n",
    "        print(left_num, \"x\", right_num, \"=\", product)"
   ]
  },
  {
   "cell_type": "code",
   "execution_count": 23,
   "metadata": {},
   "outputs": [
    {
     "name": "stdout",
     "output_type": "stream",
     "text": [
      "1*1=1 {0}*{1}={2} 1 1 1\n",
      " \n",
      "2*1=2 {0}*{1}={2} 2 1 2\n",
      "2*2=4 {0}*{1}={2} 2 2 4\n",
      " \n",
      "3*1=3 {0}*{1}={2} 3 1 3\n",
      "3*2=6 {0}*{1}={2} 3 2 6\n",
      "3*3=9 {0}*{1}={2} 3 3 9\n",
      " \n",
      "4*1=4 {0}*{1}={2} 4 1 4\n",
      "4*2=8 {0}*{1}={2} 4 2 8\n",
      "4*3=12 {0}*{1}={2} 4 3 12\n",
      "4*4=16 {0}*{1}={2} 4 4 16\n",
      " \n",
      "5*1=5 {0}*{1}={2} 5 1 5\n",
      "5*2=10 {0}*{1}={2} 5 2 10\n",
      "5*3=15 {0}*{1}={2} 5 3 15\n",
      "5*4=20 {0}*{1}={2} 5 4 20\n",
      "5*5=25 {0}*{1}={2} 5 5 25\n",
      " \n",
      "6*1=6 {0}*{1}={2} 6 1 6\n",
      "6*2=12 {0}*{1}={2} 6 2 12\n",
      "6*3=18 {0}*{1}={2} 6 3 18\n",
      "6*4=24 {0}*{1}={2} 6 4 24\n",
      "6*5=30 {0}*{1}={2} 6 5 30\n",
      "6*6=36 {0}*{1}={2} 6 6 36\n",
      " \n",
      "7*1=7 {0}*{1}={2} 7 1 7\n",
      "7*2=14 {0}*{1}={2} 7 2 14\n",
      "7*3=21 {0}*{1}={2} 7 3 21\n",
      "7*4=28 {0}*{1}={2} 7 4 28\n",
      "7*5=35 {0}*{1}={2} 7 5 35\n",
      "7*6=42 {0}*{1}={2} 7 6 42\n",
      "7*7=49 {0}*{1}={2} 7 7 49\n",
      " \n",
      "8*1=8 {0}*{1}={2} 8 1 8\n",
      "8*2=16 {0}*{1}={2} 8 2 16\n",
      "8*3=24 {0}*{1}={2} 8 3 24\n",
      "8*4=32 {0}*{1}={2} 8 4 32\n",
      "8*5=40 {0}*{1}={2} 8 5 40\n",
      "8*6=48 {0}*{1}={2} 8 6 48\n",
      "8*7=56 {0}*{1}={2} 8 7 56\n",
      "8*8=64 {0}*{1}={2} 8 8 64\n",
      " \n",
      "9*1=9 {0}*{1}={2} 9 1 9\n",
      "9*2=18 {0}*{1}={2} 9 2 18\n",
      "9*3=27 {0}*{1}={2} 9 3 27\n",
      "9*4=36 {0}*{1}={2} 9 4 36\n",
      "9*5=45 {0}*{1}={2} 9 5 45\n",
      "9*6=54 {0}*{1}={2} 9 6 54\n",
      "9*7=63 {0}*{1}={2} 9 7 63\n",
      "9*8=72 {0}*{1}={2} 9 8 72\n",
      "9*9=81 {0}*{1}={2} 9 9 81\n",
      " \n"
     ]
    }
   ],
   "source": [
    "for i in range(1,10):\n",
    "    for j in range(1,10):\n",
    "        if(i>=j):\n",
    "            print(str(i)+'*'+str(j)+'='+str(i*j)+\" \",end=\"\")\n",
    "            print('{}*{}={}',i,j,i*j)\n",
    "    print(\" \",end=\"\\n\")"
   ]
  },
  {
   "cell_type": "code",
   "execution_count": 9,
   "metadata": {},
   "outputs": [],
   "source": [
    "?print"
   ]
  },
  {
   "cell_type": "code",
   "execution_count": 35,
   "metadata": {},
   "outputs": [
    {
     "name": "stdout",
     "output_type": "stream",
     "text": [
      "I   l o v\n"
     ]
    }
   ],
   "source": [
    "print(chr(73),chr(32),chr(108),chr(111),chr(118),)"
   ]
  },
  {
   "cell_type": "code",
   "execution_count": 34,
   "metadata": {},
   "outputs": [
    {
     "ename": "SyntaxError",
     "evalue": "invalid syntax (<ipython-input-34-1e8df910b095>, line 1)",
     "output_type": "error",
     "traceback": [
      "\u001b[1;36m  File \u001b[1;32m\"<ipython-input-34-1e8df910b095>\"\u001b[1;36m, line \u001b[1;32m1\u001b[0m\n\u001b[1;33m    print(chr(73 32 108 111 118 101 32 111 117 33))\u001b[0m\n\u001b[1;37m                  ^\u001b[0m\n\u001b[1;31mSyntaxError\u001b[0m\u001b[1;31m:\u001b[0m invalid syntax\n"
     ]
    }
   ],
   "source": [
    "print(chr(73 32 108 111 118 101 32 111 117 33))"
   ]
  },
  {
   "cell_type": "code",
   "execution_count": 43,
   "metadata": {},
   "outputs": [
    {
     "name": "stdout",
     "output_type": "stream",
     "text": [
      "I   l o v e   y o u ! "
     ]
    }
   ],
   "source": [
    "for i in [73,32,108,111,118,101,32,121,111,117,33]:\n",
    "    print(chr(i),end=\" \")"
   ]
  },
  {
   "cell_type": "code",
   "execution_count": null,
   "metadata": {},
   "outputs": [],
   "source": []
  }
 ],
 "metadata": {
  "kernelspec": {
   "display_name": "Python 3",
   "language": "python",
   "name": "python3"
  },
  "language_info": {
   "codemirror_mode": {
    "name": "ipython",
    "version": 3
   },
   "file_extension": ".py",
   "mimetype": "text/x-python",
   "name": "python",
   "nbconvert_exporter": "python",
   "pygments_lexer": "ipython3",
   "version": "3.7.4"
  }
 },
 "nbformat": 4,
 "nbformat_minor": 2
}
