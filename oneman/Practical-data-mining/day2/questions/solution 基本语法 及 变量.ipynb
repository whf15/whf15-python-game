{
 "cells": [
  {
   "cell_type": "markdown",
   "metadata": {
    "run_control": {
     "frozen": false,
     "read_only": false
    }
   },
   "source": [
    "## 基本语法 及 变量"
   ]
  },
  {
   "cell_type": "markdown",
   "metadata": {
    "run_control": {
     "frozen": false,
     "read_only": false
    }
   },
   "source": [
    "### 以下程序哪里错误了, 并给出修改意见"
   ]
  },
  {
   "cell_type": "code",
   "execution_count": null,
   "metadata": {
    "collapsed": true,
    "run_control": {
     "frozen": false,
     "read_only": false
    }
   },
   "outputs": [],
   "source": [
    "ounces per liter = 28.35"
   ]
  },
  {
   "cell_type": "markdown",
   "metadata": {
    "collapsed": false,
    "run_control": {
     "frozen": false,
     "read_only": false
    }
   },
   "source": [
    "写一个程序读取输入的两个数字，并且把数字加起来，结果输出如下：\n",
    "\n",
    "Please enter the first number:\n",
    "\n",
    "\\>\\>\\> 19.2<br/>\n",
    "Please enter the second number:<br/>\n",
    "\\>\\>\\> 3<br/>\n",
    "\n",
    "Got it!<br/>\n",
    "19.2 + 3 = 22.2\n",
    "```python\n",
    "first_num = input(\"Please enter the first number:\\n>>>\")\n",
    "second_num = input(\"Please enter the second number:\\n>>>\")\n",
    "print(first_num,\"+\",second_num,\"=\",first_num+second_num)\n",
    "```"
   ]
  },
  {
   "cell_type": "code",
   "execution_count": 68,
   "metadata": {
    "collapsed": false,
    "run_control": {
     "frozen": false,
     "read_only": false
    }
   },
   "outputs": [
    {
     "name": "stdout",
     "output_type": "stream",
     "text": [
      "Please enter the first number:\n",
      ">>>19.2\n",
      "Please enter the second number:\n",
      ">>>3\n",
      "Got it!\n",
      "19.2 + 3 = 19.23\n"
     ]
    }
   ],
   "source": [
    "first_num = input(\"Please enter the first number:\\n>>>\")\n",
    "second_num = input(\"Please enter the second number:\\n>>>\")\n",
    "print(\"Got it!\")\n",
    "print(first_num,\"+\",second_num,\"=\",first_num+second_num)"
   ]
  },
  {
   "cell_type": "markdown",
   "metadata": {
    "run_control": {
     "frozen": false,
     "read_only": false
    }
   },
   "source": [
    "### 判断输出结果"
   ]
  },
  {
   "cell_type": "code",
   "execution_count": 1,
   "metadata": {
    "collapsed": false,
    "run_control": {
     "frozen": false,
     "read_only": false
    }
   },
   "outputs": [
    {
     "name": "stdout",
     "output_type": "stream",
     "text": [
      "This is not a comment.\n"
     ]
    }
   ],
   "source": [
    "### Multi-Line Comment ###\n",
    "\"\"\"\n",
    "This is a\n",
    "multi-line comment.\n",
    "\"\"\"\n",
    "\n",
    "'''\n",
    "This is also a\n",
    "multi-line comment.\n",
    "'''\n",
    "\n",
    "print(\"This is not a comment.\")"
   ]
  },
  {
   "cell_type": "code",
   "execution_count": 2,
   "metadata": {
    "collapsed": false,
    "run_control": {
     "frozen": false,
     "read_only": false
    }
   },
   "outputs": [
    {
     "name": "stdout",
     "output_type": "stream",
     "text": [
      "+ and -: 2 0 0\n",
      "* and /: 6 10 2.0 3.0 4.0\n",
      "+, -, * and /: 14 2 -2.0 3.0\n",
      "( and ): 20 -2 -2.0 1.0\n",
      "%: 0 1 1 1 6\n",
      "** calculate the power of a number: 8 8 1\n"
     ]
    }
   ],
   "source": [
    "print(\"+ and -:\", 1 + 1, 1 - 1, 1 + 2 - 3)\n",
    "print(\"* and /:\", 2 * 3, 5 * 2, 10 / 5, 9 / 3, 2 * 3 * 4 / 6)\n",
    "print(\"+, -, * and /:\", 2 + 3 * 4, 2 * 3 - 4, 4 / 2 - 4, 4 - 2 / 2) # excecute * and / prior to + and -\n",
    "print(\"( and ):\", (2 + 3) * 4, 2 * (3 - 4), 4 / (2 - 4), (4 - 2) / 2) # excecute inside a () first\n",
    "print(\"%:\", 9 % 3, 9 % 2, 9 % 4, -8 % 3, -8 % 7)\n",
    "print(\"** calculate the power of a number:\", 2 ** 3, 2 * 2 * 2, 100 ** 0)"
   ]
  },
  {
   "cell_type": "code",
   "execution_count": 1,
   "metadata": {
    "collapsed": false,
    "run_control": {
     "frozen": false,
     "read_only": false
    }
   },
   "outputs": [
    {
     "name": "stdout",
     "output_type": "stream",
     "text": [
      "<class 'int'>\n",
      "<class 'int'> <class 'int'> <class 'int'>\n",
      "<class 'float'> <class 'float'> <class 'float'>\n",
      "<class 'int'>\n",
      "<class 'str'>\n",
      "<class 'str'>\n"
     ]
    }
   ],
   "source": [
    "print(type(2 ** 32)) # same as 2 ^ 32\n",
    "print(type(2 ** 32), type(2 ** 62), type(2 ** 63))\n",
    "print(type(4/2), type(4/3), type(4/8))\n",
    "print(type(1+1))\n",
    "print(type(\"1\"+\"1\"))\n",
    "print(type(\"1+1\"))"
   ]
  },
  {
   "cell_type": "code",
   "execution_count": null,
   "metadata": {
    "collapsed": true,
    "run_control": {
     "frozen": false,
     "read_only": false
    }
   },
   "outputs": [],
   "source": [
    "\n",
    "\n",
    "\n",
    "\n",
    "\n"
   ]
  },
  {
   "cell_type": "markdown",
   "metadata": {
    "run_control": {
     "frozen": false,
     "read_only": false
    }
   },
   "source": [
    "如果n是正数，那么 \n",
    "```python\n",
    "(n//10)%10 \n",
    "```"
   ]
  },
  {
   "cell_type": "code",
   "execution_count": null,
   "metadata": {
    "collapsed": true,
    "run_control": {
     "frozen": false,
     "read_only": false
    }
   },
   "outputs": [],
   "source": []
  },
  {
   "cell_type": "markdown",
   "metadata": {
    "run_control": {
     "frozen": false,
     "read_only": false
    }
   },
   "source": [
    "<p>请说出一下num1和num2的值分别是多少？</p>"
   ]
  },
  {
   "cell_type": "markdown",
   "metadata": {
    "run_control": {
     "frozen": false,
     "read_only": false
    }
   },
   "source": [
    "#### Case 1:\n",
    ">```\n",
    "num1 = 1\n",
    "num2 = 2\n",
    "num2 = num1\n",
    "num1 = 10\n",
    "> ```\n",
    "\n",
    "#### Case 2:\n",
    ">```\n",
    "num1 = 1\n",
    "num2 = 2\n",
    "num1 = num1 + num2\n",
    "```\n",
    "\n",
    "#### Case 3:\n",
    ">```\n",
    "num1 = 1\n",
    "num2 = 2\n",
    "num2 = num1\n",
    "num1 = num2\n",
    "```\n",
    "\n",
    "#### Case 4:\n",
    ">```\n",
    "num1 = 1\n",
    "num2 = 2\n",
    "temp = num1\n",
    "num1 = num2\n",
    "num2 = temp\n",
    "```\n",
    "\n",
    "#### Case 5:\n",
    ">```\n",
    "num1 = 1\n",
    "num2 = 2\n",
    "num1 = num2 * 4\n",
    "num2 = num1 * 3\n",
    "```"
   ]
  },
  {
   "cell_type": "code",
   "execution_count": null,
   "metadata": {
    "collapsed": true,
    "run_control": {
     "frozen": false,
     "read_only": false
    }
   },
   "outputs": [],
   "source": [
    "n=1729\n",
    "print(n % 10,n // 10,n % 100,n % 2,-n // 10)"
   ]
  },
  {
   "cell_type": "code",
   "execution_count": null,
   "metadata": {
    "collapsed": true,
    "run_control": {
     "frozen": false,
     "read_only": false
    }
   },
   "outputs": [],
   "source": [
    "import math\n",
    "\n",
    "x = math.ceil(4.2)\n",
    "print(x)\n",
    "print(math.ceil(1 + 3.8))"
   ]
  },
  {
   "cell_type": "code",
   "execution_count": 71,
   "metadata": {
    "collapsed": false,
    "run_control": {
     "frozen": false,
     "read_only": false
    }
   },
   "outputs": [
    {
     "data": {
      "text/plain": [
       "3.2"
      ]
     },
     "execution_count": 71,
     "metadata": {},
     "output_type": "execute_result"
    }
   ],
   "source": [
    "a, b, c = 5, 3.2, \"Hello\"\n"
   ]
  },
  {
   "cell_type": "code",
   "execution_count": null,
   "metadata": {
    "collapsed": true,
    "run_control": {
     "frozen": false,
     "read_only": false
    }
   },
   "outputs": [],
   "source": [
    "x = y = z = \"Hello\""
   ]
  },
  {
   "cell_type": "markdown",
   "metadata": {
    "run_control": {
     "frozen": false,
     "read_only": false
    }
   },
   "source": [
    "### 动手编程"
   ]
  },
  {
   "cell_type": "markdown",
   "metadata": {
    "run_control": {
     "frozen": false,
     "read_only": false
    }
   },
   "source": [
    "利用python计算以下公式: \n",
    "\n",
    "**不要手算**\n",
    "\n",
    ">21980 + 987345<br/>\n",
    "4950782 - 2340985<br/>\n",
    "3458 × 4390<br/>\n",
    "9285 ÷ 5<br/>\n",
    "$234^{21}$<br/>\n",
    "98434 ÷ 456的余数"
   ]
  },
  {
   "cell_type": "code",
   "execution_count": null,
   "metadata": {
    "collapsed": true,
    "run_control": {
     "frozen": false,
     "read_only": false
    }
   },
   "outputs": [],
   "source": [
    "\n",
    "\n",
    "\n",
    "\n",
    "\n",
    "\n",
    "\n",
    "\n"
   ]
  },
  {
   "cell_type": "code",
   "execution_count": 6,
   "metadata": {
    "collapsed": false,
    "run_control": {
     "frozen": false,
     "read_only": false
    }
   },
   "outputs": [
    {
     "name": "stdout",
     "output_type": "stream",
     "text": [
      "1009325\n",
      "2609797\n",
      "15180620\n",
      "1857.0\n",
      "56693465591778037583954320113201316711344252125184\n",
      "215\n"
     ]
    }
   ],
   "source": [
    "print(21980 + 987345)\n",
    "print(4950782 - 2340985)\n",
    "print(3458 * 4390)\n",
    "print(9285 / 5)\n",
    "print(234**21)\n",
    "print(98434 // 456)"
   ]
  },
  {
   "cell_type": "markdown",
   "metadata": {
    "run_control": {
     "frozen": false,
     "read_only": false
    }
   },
   "source": [
    "一个小学生问题：<br/> \n",
    "罐装可乐一罐: 355毫升<br/>\n",
    "大瓶可乐一瓶: 2升<br/>\n",
    "\n",
    "你去买了6罐可乐和两大瓶可乐，请用python计算你一共买了多少毫升可乐"
   ]
  },
  {
   "cell_type": "code",
   "execution_count": null,
   "metadata": {
    "collapsed": true,
    "run_control": {
     "frozen": false,
     "read_only": false
    }
   },
   "outputs": [],
   "source": [
    "\n",
    "\n",
    "\n",
    "\n"
   ]
  },
  {
   "cell_type": "code",
   "execution_count": 8,
   "metadata": {
    "collapsed": false,
    "run_control": {
     "frozen": false,
     "read_only": false
    }
   },
   "outputs": [
    {
     "data": {
      "text/plain": [
       "6130"
      ]
     },
     "execution_count": 8,
     "metadata": {},
     "output_type": "execute_result"
    }
   ],
   "source": [
    "v_per_can = 355 #ml\n",
    "v_per_bottle = 2 * 1000 # l\n",
    "\n",
    "6*v_per_can + 2*v_per_bottle"
   ]
  },
  {
   "cell_type": "markdown",
   "metadata": {
    "run_control": {
     "frozen": false,
     "read_only": false
    }
   },
   "source": [
    "(1) 一个小时有多少秒？这里，请把交互式解释器当作计算器使用，将每分钟的秒数（60）乘以每小时的分钟数（60）得到结果。<br/>\n",
    "(2) 将上一个练习得到的结果（每小时的秒数）赋值给名为seconds_per_hour 的变量。<br/>\n",
    "(3) 一天有多少秒？用你的seconds_per_hour 变量进行计算。<br/>\n",
    "(4) 再次计算每天的秒数，但这一次将结果存储在名为seconds_per_day 的变量中。<br/>\n",
    "(5) 用seconds_per_day 除以seconds_per_hour，使用浮点除法（/）。<br/>\n",
    "(6) 用seconds_per_day 除以seconds_per_hour，使用整数除法（//）"
   ]
  },
  {
   "cell_type": "code",
   "execution_count": 11,
   "metadata": {
    "collapsed": false,
    "run_control": {
     "frozen": false,
     "read_only": false
    }
   },
   "outputs": [
    {
     "data": {
      "text/plain": [
       "24.0"
      ]
     },
     "execution_count": 11,
     "metadata": {},
     "output_type": "execute_result"
    }
   ],
   "source": [
    "seconds_per_hour = 60*60\n",
    "seconds_per_day = seconds_per_hour*24\n",
    "seconds_per_day/seconds_per_hour"
   ]
  },
  {
   "cell_type": "code",
   "execution_count": 13,
   "metadata": {
    "collapsed": false,
    "run_control": {
     "frozen": false,
     "read_only": false
    }
   },
   "outputs": [
    {
     "data": {
      "text/plain": [
       "24.0"
      ]
     },
     "execution_count": 13,
     "metadata": {},
     "output_type": "execute_result"
    }
   ],
   "source": [
    "seconds_per_day/seconds_per_hour"
   ]
  },
  {
   "cell_type": "code",
   "execution_count": 12,
   "metadata": {
    "collapsed": false,
    "run_control": {
     "frozen": false,
     "read_only": false
    },
    "scrolled": true
   },
   "outputs": [
    {
     "data": {
      "text/plain": [
       "24"
      ]
     },
     "execution_count": 12,
     "metadata": {},
     "output_type": "execute_result"
    }
   ],
   "source": [
    "seconds_per_day//seconds_per_hour"
   ]
  },
  {
   "cell_type": "markdown",
   "metadata": {
    "run_control": {
     "frozen": false,
     "read_only": false
    }
   },
   "source": [
    "输入一个数，这个数代表从凌晨0点，过去的分钟数，请计算并输出当前时间\n",
    "\n",
    "本程序需要输出两个数: 小时(0 ～ 23) ：分钟(0 ～ 59).\n",
    "\n",
    "例如：\n",
    "如果，你输入是150, 那么应该是凌晨2:30了，所以你的程序应该输出2:30"
   ]
  },
  {
   "cell_type": "code",
   "execution_count": 38,
   "metadata": {
    "collapsed": false,
    "run_control": {
     "frozen": false,
     "read_only": false
    }
   },
   "outputs": [
    {
     "name": "stdout",
     "output_type": "stream",
     "text": [
      "0点已过150\n",
      "那么现在是 2 : 30\n"
     ]
    }
   ],
   "source": [
    "import math\n",
    "passed_min =int(input(\"0点已过\"))\n",
    "hours = passed_min // 60\n",
    "passed_min = passed_min % 60\n",
    "print(\"那么现在是\",hours,\":\",passed_min)"
   ]
  },
  {
   "cell_type": "markdown",
   "metadata": {
    "run_control": {
     "frozen": false,
     "read_only": false
    }
   },
   "source": [
    "### 超过一天了呢？！！"
   ]
  },
  {
   "cell_type": "code",
   "execution_count": null,
   "metadata": {
    "collapsed": true,
    "run_control": {
     "frozen": false,
     "read_only": false
    }
   },
   "outputs": [],
   "source": []
  },
  {
   "cell_type": "code",
   "execution_count": 63,
   "metadata": {
    "collapsed": false,
    "run_control": {
     "frozen": false,
     "read_only": false
    }
   },
   "outputs": [
    {
     "name": "stdout",
     "output_type": "stream",
     "text": [
      "0点已过多少分钟15500\n",
      "那么现在是 10 天 18 : 20\n"
     ]
    }
   ],
   "source": [
    "import math\n",
    "passed_min =int(input(\"0点已过多少分钟\"))\n",
    "days = passed_min // 60 // 24\n",
    "hours = (passed_min // 60) % 24\n",
    "passed_min = passed_min % 60\n",
    "\n",
    "print(\"那么现在是\",days,\"天\",hours,\":\",passed_min)"
   ]
  },
  {
   "cell_type": "markdown",
   "metadata": {
    "run_control": {
     "frozen": false,
     "read_only": false
    }
   },
   "source": [
    "用python表达以下公式：\n",
    "$$\n",
    "b \\times (1 + \\frac{r}{100})^n\n",
    "$$"
   ]
  },
  {
   "cell_type": "code",
   "execution_count": 4,
   "metadata": {
    "collapsed": false,
    "run_control": {
     "frozen": false,
     "read_only": false
    }
   },
   "outputs": [
    {
     "data": {
      "text/plain": [
       "11.046221254112044"
      ]
     },
     "execution_count": 4,
     "metadata": {},
     "output_type": "execute_result"
    }
   ],
   "source": [
    "b=10\n",
    "r=1\n",
    "n=10\n",
    "b * (1 + r / 100) ** n"
   ]
  },
  {
   "cell_type": "markdown",
   "metadata": {
    "run_control": {
     "frozen": false,
     "read_only": false
    }
   },
   "source": [
    "$$\n",
    "\\sqrt{\\frac{a^2+c^2}{b}}\n",
    "$$"
   ]
  },
  {
   "cell_type": "code",
   "execution_count": 14,
   "metadata": {
    "collapsed": false,
    "run_control": {
     "frozen": false,
     "read_only": false
    }
   },
   "outputs": [
    {
     "data": {
      "text/plain": [
       "0.5"
      ]
     },
     "execution_count": 14,
     "metadata": {},
     "output_type": "execute_result"
    }
   ],
   "source": [
    "from math import sqrt\n",
    "a=1\n",
    "b=8\n",
    "c=1\n",
    "(a**2 + c**2)\n",
    "sqrt((a**2 + c**2)/b)"
   ]
  }
 ],
 "metadata": {
  "kernelspec": {
   "display_name": "Python 3",
   "language": "python",
   "name": "python3"
  },
  "language_info": {
   "codemirror_mode": {
    "name": "ipython",
    "version": 3
   },
   "file_extension": ".py",
   "mimetype": "text/x-python",
   "name": "python",
   "nbconvert_exporter": "python",
   "pygments_lexer": "ipython3",
   "version": "3.6.0"
  }
 },
 "nbformat": 4,
 "nbformat_minor": 2
}
