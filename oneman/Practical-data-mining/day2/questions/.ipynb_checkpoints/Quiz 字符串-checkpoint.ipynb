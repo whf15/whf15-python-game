{
 "cells": [
  {
   "cell_type": "markdown",
   "metadata": {
    "run_control": {
     "frozen": false,
     "read_only": false
    }
   },
   "source": [
    "## 字符串"
   ]
  },
  {
   "cell_type": "markdown",
   "metadata": {
    "run_control": {
     "frozen": false,
     "read_only": false
    }
   },
   "source": [
    "### 以下程序哪里错误了, 并给出修改意见\n"
   ]
  },
  {
   "cell_type": "code",
   "execution_count": null,
   "metadata": {
    "collapsed": false,
    "run_control": {
     "frozen": false,
     "read_only": false
    }
   },
   "outputs": [],
   "source": [
    "print(Hello, World!)"
   ]
  },
  {
   "cell_type": "code",
   "execution_count": null,
   "metadata": {
    "collapsed": false,
    "run_control": {
     "frozen": false,
     "read_only": false
    }
   },
   "outputs": [],
   "source": [
    "print(\"Hello\", \"World!)"
   ]
  },
  {
   "cell_type": "code",
   "execution_count": null,
   "metadata": {
    "collapsed": false,
    "run_control": {
     "frozen": false,
     "read_only": false
    }
   },
   "outputs": [],
   "source": [
    "print(1 / 0)"
   ]
  },
  {
   "cell_type": "code",
   "execution_count": null,
   "metadata": {
    "collapsed": false,
    "run_control": {
     "frozen": false,
     "read_only": false
    }
   },
   "outputs": [],
   "source": [
    "print('abcdefghijklmnopqr\n",
    "stuvwxyz') "
   ]
  },
  {
   "cell_type": "code",
   "execution_count": null,
   "metadata": {
    "collapsed": false,
    "run_control": {
     "frozen": false,
     "read_only": false
    },
    "scrolled": true
   },
   "outputs": [],
   "source": [
    "\"abcdefghijklmnopqrstuvwxyz\"[1::a]"
   ]
  },
  {
   "cell_type": "code",
   "execution_count": null,
   "metadata": {
    "collapsed": true,
    "run_control": {
     "frozen": false,
     "read_only": false
    }
   },
   "outputs": [],
   "source": []
  },
  {
   "cell_type": "markdown",
   "metadata": {
    "run_control": {
     "frozen": false,
     "read_only": false
    }
   },
   "source": [
    "### 判断输出结果\n"
   ]
  },
  {
   "cell_type": "code",
   "execution_count": null,
   "metadata": {
    "collapsed": false,
    "run_control": {
     "frozen": false,
     "read_only": false
    }
   },
   "outputs": [],
   "source": [
    "print(\"Hello\", \"World\", \"!\")\n",
    "print(\"Hello\"+\"World\"+\"!\")"
   ]
  },
  {
   "cell_type": "code",
   "execution_count": null,
   "metadata": {
    "collapsed": true,
    "run_control": {
     "frozen": false,
     "read_only": false
    }
   },
   "outputs": [],
   "source": [
    "print('>_< ' * 5)  # >_< >_< >_< >_< >_<"
   ]
  },
  {
   "cell_type": "code",
   "execution_count": null,
   "metadata": {
    "collapsed": true,
    "run_control": {
     "frozen": false,
     "read_only": false
    }
   },
   "outputs": [],
   "source": [
    "print(len('abcdefghijklmnopqrstuvwxyz'))  # 26"
   ]
  },
  {
   "cell_type": "code",
   "execution_count": null,
   "metadata": {
    "collapsed": true,
    "run_control": {
     "frozen": false,
     "read_only": false
    }
   },
   "outputs": [],
   "source": [
    "s = str(2 ** 100)\n",
    "print(s)  # 1267650600228229401496703205376\n",
    "print(len(s))  # 31"
   ]
  },
  {
   "cell_type": "code",
   "execution_count": null,
   "metadata": {
    "collapsed": true,
    "run_control": {
     "frozen": false,
     "read_only": false
    }
   },
   "outputs": [],
   "source": [
    "### String Manipulations ###\n",
    "print \"1st\\n2nd\\n3rd\"\n",
    "print \"To enter \\\" and \\' in a string, you need the \\\\(escape symbol). Python will treat any symbol after the \\\\ as a special english text, not it's original meaning. \"\n",
    "print \"Some other example would be: \\\\t, \\\\r, etc. Google escape symbol for more information.\"\n",
    "print \"Use the + sign to concatenate strings: \" + \"like this.\"\n",
    "# print \"You should not add a string and a number:\", \"a\" + 1 # uncomment this to try it yourself\n",
    "print \"you could use the %s, %d and %r symbol to insert numbers into a string.\"\n",
    "print \"For example: 1 + 1 = %d.\" % (1 + 1)\n",
    "print \"For example: 1 + %d = %d.\" % (10, 11)\n",
    "print \"For %s: 2 + %d = %d.\" % (\"example\", 3, 5)\n",
    "# There are some slight difference between %s, %d and %r.\n",
    "# At current stage, you could treat then the same."
   ]
  },
  {
   "cell_type": "code",
   "execution_count": null,
   "metadata": {
    "collapsed": true,
    "run_control": {
     "frozen": false,
     "read_only": false
    }
   },
   "outputs": [],
   "source": [
    "s = 'abcdefg'\n",
    "print(s[1])\n",
    "print(s[-1])\n",
    "print(s[1:3])\n",
    "print(s[1:-1])\n",
    "print(s[:3])\n",
    "print(s[2:])\n",
    "print(s[:-1])\n",
    "print(s[::2])\n",
    "print(s[1::2])\n",
    "print(s[::-1])"
   ]
  },
  {
   "cell_type": "code",
   "execution_count": null,
   "metadata": {
    "collapsed": true,
    "run_control": {
     "frozen": false,
     "read_only": false
    }
   },
   "outputs": [],
   "source": [
    "s = 'Hello'\n",
    "print(s.find('e'))\n",
    "# 1\n",
    "print(s.find('ll'))\n",
    "# 2\n",
    "print(s.find('L'))\n",
    "# -1"
   ]
  },
  {
   "cell_type": "code",
   "execution_count": null,
   "metadata": {
    "collapsed": true,
    "run_control": {
     "frozen": false,
     "read_only": false
    }
   },
   "outputs": [],
   "source": [
    "s = 'abracadabra'\n",
    "print(s.find('b'))\n",
    "# 1\n",
    "print(s.rfind('b'))\n",
    "# 8"
   ]
  },
  {
   "cell_type": "code",
   "execution_count": null,
   "metadata": {
    "collapsed": true,
    "run_control": {
     "frozen": false,
     "read_only": false
    }
   },
   "outputs": [],
   "source": [
    "print('Abracadabra'.count('a'))\n",
    "# 4\n",
    "print(('aaaaaaaaaa').count('aa'))\n",
    "# 5"
   ]
  },
  {
   "cell_type": "code",
   "execution_count": null,
   "metadata": {
    "collapsed": false,
    "run_control": {
     "frozen": false,
     "read_only": false
    }
   },
   "outputs": [],
   "source": [
    "### Syntax for assigning values to a variable ###\n",
    "cars = 100            # put 100 in the integer memory, tag it as \"cars\"\n",
    "space_in_a_car = 4.0  # put 4.0 in the float memory, tag it as \"space_in_a_car\"\n",
    "passengers = 90  # put 90 in the float memory, tag it as \"passengers\"\n",
    "carpool_capacity = cars * space_in_a_car\n",
    "available_seat = carpool_capacity - passengers\n",
    "print(\"carpool_capacity: %s, available_seat: %s.\" % (carpool_capacity, available_seat))\n",
    "passengers = 20\n",
    "print(\"Now there are %s passengers out there.\" % passengers)\n",
    "print(\"carpool_capacity: %s, available_seat: %s.\" % (carpool_capacity, available_seat))"
   ]
  },
  {
   "cell_type": "markdown",
   "metadata": {
    "run_control": {
     "frozen": false,
     "read_only": false
    }
   },
   "source": [
    "### 动手编程"
   ]
  },
  {
   "cell_type": "markdown",
   "metadata": {
    "run_control": {
     "frozen": false,
     "read_only": false
    }
   },
   "source": [
    "<a id='star_matrix'></a>\n",
    "How about a matrix of stars? (10 by 4) How to print the \"*\" and \"\\n\"?\n",
    ">```\n",
    "* * * * * * * * * *\n",
    "* * * * * * * * * *\n",
    "* * * * * * * * * *\n",
    "* * * * * * * * * *\n",
    "```\n",
    "\n",
    "><code style=\"color: #ffffff\">\n",
    "for i in range(4): # change number 4 to other values\n",
    "    for j in range(10): # change number 10 to other values\n",
    "        print \"*\", \n",
    "    print \"\\n\", # every time after you print 10 stars, you need to print a new line\n",
    "</code>"
   ]
  },
  {
   "cell_type": "code",
   "execution_count": null,
   "metadata": {
    "collapsed": false,
    "run_control": {
     "frozen": false,
     "read_only": false
    }
   },
   "outputs": [],
   "source": [
    "\n",
    "\n",
    "\n",
    "\n",
    "\n",
    "\n"
   ]
  },
  {
   "cell_type": "markdown",
   "metadata": {
    "run_control": {
     "frozen": false,
     "read_only": false
    }
   },
   "source": [
    "What about something like this? How many for loops do you need? 1, 2 or 3? How will they nested with each other?\n",
    ">```\n",
    "* * * * * o\n",
    "* * * * o o\n",
    "* * * o o o\n",
    "* * o o o o\n",
    "* o o o o o\n",
    "```"
   ]
  },
  {
   "cell_type": "code",
   "execution_count": null,
   "metadata": {
    "collapsed": true
   },
   "outputs": [],
   "source": [
    "\n",
    "\n",
    "\n",
    "\n",
    "\n",
    "\n",
    "\n",
    "\n"
   ]
  },
  {
   "cell_type": "markdown",
   "metadata": {
    "run_control": {
     "frozen": false,
     "read_only": false
    }
   },
   "source": [
    "把你的 名字，年龄，性别，和你想学python的原因打印出来，请合理利用variable\n",
    "\n",
    "输出结果:\n",
    "\n",
    ">  Name: Joshua<br/>\n",
    ">  Age: 25<br/>\n",
    ">  Reason:<br/>\n",
    ">  1. ...<br/>\n",
    ">  2. ...<br/>\n",
    ">  ...<br/>"
   ]
  },
  {
   "cell_type": "code",
   "execution_count": null,
   "metadata": {
    "collapsed": true,
    "run_control": {
     "frozen": false,
     "read_only": false
    }
   },
   "outputs": [],
   "source": [
    "\n",
    "\n",
    "\n",
    "\n",
    "\n",
    "\n",
    "\n",
    "\n"
   ]
  },
  {
   "cell_type": "markdown",
   "metadata": {
    "run_control": {
     "frozen": false,
     "read_only": false
    }
   },
   "source": [
    "输入你的名字，让机器给你打招呼<br/>\n",
    "例如：<br/>\n",
    "输入:Joshua <br/>\n",
    "输出:\"Hello Joshua!\" <br/>\n",
    "\n"
   ]
  },
  {
   "cell_type": "code",
   "execution_count": null,
   "metadata": {
    "collapsed": false,
    "run_control": {
     "frozen": false,
     "read_only": false
    }
   },
   "outputs": [],
   "source": [
    "\n",
    "\n",
    "\n",
    "\n",
    "\n",
    "\n",
    "\n",
    "\n",
    "\n",
    "\n"
   ]
  },
  {
   "cell_type": "markdown",
   "metadata": {
    "run_control": {
     "frozen": false,
     "read_only": false
    }
   },
   "source": [
    "有连个字符串 a 和 b, 按照abba的顺序输出<br/>\n",
    "输出 例如\"Hi\" 和 \"Bye\" returns \"HiByeByeHi\"."
   ]
  },
  {
   "cell_type": "code",
   "execution_count": null,
   "metadata": {
    "collapsed": false,
    "run_control": {
     "frozen": false,
     "read_only": false
    }
   },
   "outputs": [],
   "source": [
    "\n",
    "\n",
    "\n",
    "\n",
    "\n",
    "\n",
    "\n",
    "\n",
    "\n",
    "\n"
   ]
  },
  {
   "cell_type": "markdown",
   "metadata": {
    "run_control": {
     "frozen": false,
     "read_only": false
    }
   },
   "source": [
    "尝试打印以下文字，限制只使用一行代码:\n",
    "```\n",
    "My name is XXX. Here is what I learned from this course:\n",
    " * If you want to print ' or \", you need to enter \\' or \\\".\n",
    " * If you want to print \\, you need to enter \\\\\\\\.\n",
    " * If you want to enter a new line, you could use \\n.\n",
    " * Some people use / instead of \\ and didn't notice the difference.\n",
    " * There are not a lot of cases to use \\t as a tab, but it's better to know.\n",
    "```\n",
    "**注意**\n",
    "本题目只为了考察大家对于python打印的理解，一般情况下不推荐只使用一个print语句打印这么多行文字\n"
   ]
  },
  {
   "cell_type": "code",
   "execution_count": null,
   "metadata": {
    "collapsed": false,
    "run_control": {
     "frozen": false,
     "read_only": false
    }
   },
   "outputs": [],
   "source": [
    "\n",
    "\n",
    "\n",
    "\n",
    "\n",
    "\n",
    "\n",
    "\n",
    "\n"
   ]
  },
  {
   "cell_type": "markdown",
   "metadata": {
    "run_control": {
     "frozen": false,
     "read_only": false
    }
   },
   "source": [
    "设计一个小费计算器,<br/>\n",
    "结果如下:\n",
    "\n",
    ">欢迎来到美食天地! (按回撤继续)\n",
    "\n",
    ">您的名字是?<br/>\n",
    ">\\>\\>\\> Sam\n",
    "\n",
    ">您好, Sam! 我是一个小费计算器. (按回车继续)<br/>\n",
    "\n",
    ">您这顿费用是多少? (输入一个数字)<br/>\n",
    ">\\>\\>\\> 21\n",
    "\n",
    ">您想给我们多少百分比的小费? (___% 输入一个数字)<br/>\n",
    ">\\>\\>\\> 12\n",
    "\n",
    ">你总共需要支出: 26.67.<br/>\n"
   ]
  },
  {
   "cell_type": "code",
   "execution_count": null,
   "metadata": {
    "collapsed": false,
    "run_control": {
     "frozen": false,
     "read_only": false
    }
   },
   "outputs": [],
   "source": [
    "\n",
    "\n",
    "\n",
    "\n",
    "\n",
    "\n",
    "\n",
    "\n",
    "\n",
    "\n",
    "\n",
    "\n"
   ]
  }
 ],
 "metadata": {
  "kernelspec": {
   "display_name": "Python 3",
   "language": "python",
   "name": "python3"
  },
  "language_info": {
   "codemirror_mode": {
    "name": "ipython",
    "version": 3
   },
   "file_extension": ".py",
   "mimetype": "text/x-python",
   "name": "python",
   "nbconvert_exporter": "python",
   "pygments_lexer": "ipython3",
   "version": "3.6.0"
  }
 },
 "nbformat": 4,
 "nbformat_minor": 2
}
