{
 "cells": [
  {
   "cell_type": "markdown",
   "metadata": {
    "run_control": {
     "frozen": false,
     "read_only": false
    }
   },
   "source": [
    "## 语法问题"
   ]
  },
  {
   "cell_type": "code",
   "execution_count": 18,
   "metadata": {
    "collapsed": false,
    "run_control": {
     "frozen": false,
     "read_only": false
    }
   },
   "outputs": [
    {
     "name": "stdout",
     "output_type": "stream",
     "text": [
      "This is not a comment.\n"
     ]
    }
   ],
   "source": [
    "### Multi-Line Comment ###\n",
    "\"\"\"\n",
    "This is a\n",
    "multi-line comment.\n",
    "\"\"\"\n",
    "\n",
    "'''\n",
    "This is also a\n",
    "multi-line comment.\n",
    "'''\n",
    "\n",
    "print(\"This is not a comment.\")\n"
   ]
  },
  {
   "cell_type": "markdown",
   "metadata": {
    "run_control": {
     "frozen": false,
     "read_only": false
    }
   },
   "source": [
    "## 变量 和 值，Variable and Value"
   ]
  },
  {
   "cell_type": "code",
   "execution_count": 1,
   "metadata": {
    "collapsed": false,
    "run_control": {
     "frozen": false,
     "read_only": false
    }
   },
   "outputs": [
    {
     "ename": "SyntaxError",
     "evalue": "invalid syntax (<ipython-input-1-ee04c299d036>, line 2)",
     "output_type": "error",
     "traceback": [
      "\u001b[0;36m  File \u001b[0;32m\"<ipython-input-1-ee04c299d036>\"\u001b[0;36m, line \u001b[0;32m2\u001b[0m\n\u001b[0;31m    ounces per liter = 28.35\u001b[0m\n\u001b[0m             ^\u001b[0m\n\u001b[0;31mSyntaxError\u001b[0m\u001b[0;31m:\u001b[0m invalid syntax\n"
     ]
    }
   ],
   "source": [
    "#以下程序哪里错误了\n",
    "ounces per liter = 28.35"
   ]
  },
  {
   "cell_type": "code",
   "execution_count": 19,
   "metadata": {
    "collapsed": false,
    "run_control": {
     "frozen": false,
     "read_only": false
    },
    "scrolled": true
   },
   "outputs": [
    {
     "name": "stdout",
     "output_type": "stream",
     "text": [
      "+ and -: 2 0 0\n",
      "* and /: 6 10 2.0 3.0 4.0\n",
      "+, -, * and /: 14 2 -2.0 3.0\n",
      "( and ): 20 -2 -2.0 1.0\n",
      "%: 0 1 1 1 6\n",
      "** calculate the power of a number: 8 8 1\n"
     ]
    }
   ],
   "source": [
    "## 判断输出结果\n",
    "print(\"+ and -:\", 1 + 1, 1 - 1, 1 + 2 - 3)\n",
    "print(\"* and /:\", 2 * 3, 5 * 2, 10 / 5, 9 / 3, 2 * 3 * 4 / 6)\n",
    "print(\"+, -, * and /:\", 2 + 3 * 4, 2 * 3 - 4, 4 / 2 - 4, 4 - 2 / 2) # excecute * and / prior to + and -\n",
    "print(\"( and ):\", (2 + 3) * 4, 2 * (3 - 4), 4 / (2 - 4), (4 - 2) / 2) # excecute inside a () first\n",
    "print(\"%:\", 9 % 3, 9 % 2, 9 % 4, -8 % 3, -8 % 7)\n",
    "print(\"** calculate the power of a number:\", 2 ** 3, 2 * 2 * 2, 100 ** 0)"
   ]
  },
  {
   "cell_type": "code",
   "execution_count": null,
   "metadata": {
    "collapsed": true,
    "run_control": {
     "frozen": false,
     "read_only": false
    }
   },
   "outputs": [],
   "source": []
  },
  {
   "cell_type": "markdown",
   "metadata": {
    "run_control": {
     "frozen": false,
     "read_only": false
    }
   },
   "source": [
    "一个小学生问题：<br/> \n",
    "罐装可乐一罐: 355毫升<br/>\n",
    "大瓶可乐一瓶: 2升<br/>\n",
    "\n",
    "你去买了6罐可乐和两大瓶可乐，请用python计算你一共买了多少毫升可乐"
   ]
  },
  {
   "cell_type": "code",
   "execution_count": null,
   "metadata": {
    "collapsed": true,
    "run_control": {
     "frozen": false,
     "read_only": false
    }
   },
   "outputs": [],
   "source": []
  },
  {
   "cell_type": "markdown",
   "metadata": {
    "run_control": {
     "frozen": false,
     "read_only": false
    }
   },
   "source": [
    "用python表达以下公式：\n",
    "$$\n",
    "b \\times (1 + \\frac{r}{100})^n\n",
    "$$"
   ]
  },
  {
   "cell_type": "markdown",
   "metadata": {
    "run_control": {
     "frozen": false,
     "read_only": false
    }
   },
   "source": [
    "$$\n",
    "\\sqrt{\\frac{a^2+c^2}{b}}\n",
    "$$"
   ]
  },
  {
   "cell_type": "code",
   "execution_count": null,
   "metadata": {
    "collapsed": true,
    "run_control": {
     "frozen": false,
     "read_only": false
    }
   },
   "outputs": [],
   "source": []
  },
  {
   "cell_type": "markdown",
   "metadata": {
    "collapsed": true,
    "run_control": {
     "frozen": false,
     "read_only": false
    }
   },
   "source": [
    "如果n是正数，那么 \n",
    "```python\n",
    "(n//10)%10 \n",
    "```"
   ]
  },
  {
   "cell_type": "code",
   "execution_count": null,
   "metadata": {
    "collapsed": false,
    "run_control": {
     "frozen": false,
     "read_only": false
    }
   },
   "outputs": [],
   "source": []
  },
  {
   "cell_type": "code",
   "execution_count": null,
   "metadata": {
    "collapsed": true,
    "run_control": {
     "frozen": false,
     "read_only": false
    }
   },
   "outputs": [],
   "source": []
  },
  {
   "cell_type": "markdown",
   "metadata": {
    "run_control": {
     "frozen": false,
     "read_only": false
    }
   },
   "source": [
    "尝试打印以下文字，限制只使用一行代码:\n",
    "\n",
    "> My name is XXX. Here is what I learned from this course:\n",
    " * If you want to print ' or \", you need to enter \\' or \\\".\n",
    " * If you want to print \\, you need to enter \\\\\\\\.\n",
    " * If you want to enter a new line, you could use \\n.\n",
    " * Some people use / instead of \\ and didn't notice the difference.\n",
    " * There are not a lot of cases to use \\t as a tab, but it's better to know.\n",
    "\n",
    "**注意**\n",
    "本题目只为了考察大家对于python打印的理解，一般情况下不推荐只使用一个print语句打印这么多行文字\n"
   ]
  },
  {
   "cell_type": "code",
   "execution_count": null,
   "metadata": {
    "collapsed": true,
    "run_control": {
     "frozen": false,
     "read_only": false
    }
   },
   "outputs": [],
   "source": []
  },
  {
   "cell_type": "markdown",
   "metadata": {
    "run_control": {
     "frozen": false,
     "read_only": false
    }
   },
   "source": [
    "请说出一下num1和num2的值分别是多少？"
   ]
  },
  {
   "cell_type": "markdown",
   "metadata": {
    "run_control": {
     "frozen": false,
     "read_only": false
    }
   },
   "source": [
    "#### Case 1:\n",
    ">```\n",
    "num1 = 1\n",
    "num2 = 2\n",
    "num2 = num1\n",
    "num1 = 10\n",
    "> ```\n",
    "\n",
    "#### Case 2:\n",
    ">```\n",
    "num1 = 1\n",
    "num2 = 2\n",
    "num1 = num1 + num2\n",
    "```\n",
    "\n",
    "#### Case 3:\n",
    ">```\n",
    "num1 = 1\n",
    "num2 = 2\n",
    "num2 = num1\n",
    "num1 = num2\n",
    "```\n",
    "\n",
    "#### Case 4:\n",
    ">```\n",
    "num1 = 1\n",
    "num2 = 2\n",
    "temp = num1\n",
    "num1 = num2\n",
    "num2 = temp\n",
    "```\n",
    "\n",
    "#### Case 5:\n",
    ">```\n",
    "num1 = 1\n",
    "num2 = 2\n",
    "num1 = num2 * 4\n",
    "num2 = num1 * 3\n",
    "```"
   ]
  },
  {
   "cell_type": "code",
   "execution_count": null,
   "metadata": {
    "collapsed": true,
    "run_control": {
     "frozen": false,
     "read_only": false
    }
   },
   "outputs": [],
   "source": []
  },
  {
   "cell_type": "markdown",
   "metadata": {
    "run_control": {
     "frozen": false,
     "read_only": false
    }
   },
   "source": [
    "写一个程序读取输入的两个数字，并且把数字加起来，结果输出如下：\n",
    "\n",
    "> Please enter the first number:\n",
    ">\n",
    "\\>\\>\\> 19.2<br/>\n",
    "Please enter the second number:<br/>\n",
    "\\>\\>\\> 3<br/>\n",
    "\n",
    ">Got it!<br/>\n",
    ">19.2 + 3 = 22.2"
   ]
  },
  {
   "cell_type": "code",
   "execution_count": null,
   "metadata": {
    "collapsed": true,
    "run_control": {
     "frozen": false,
     "read_only": false
    }
   },
   "outputs": [],
   "source": []
  },
  {
   "cell_type": "markdown",
   "metadata": {
    "run_control": {
     "frozen": false,
     "read_only": false
    }
   },
   "source": [
    "Save your name, age, gender, and the reasons you want to learn python into different variables and print them out.\n",
    "\n",
    "The result should like this:\n",
    "\n",
    ">  Name: Yijun<br/>\n",
    ">  Age: 25<br/>\n",
    ">  Reason:<br/>\n",
    ">  1. ...<br/>\n",
    ">  2. ...<br/>\n",
    ">  ...<br/>\n",
    "\n",
    "Your code below:"
   ]
  },
  {
   "cell_type": "code",
   "execution_count": null,
   "metadata": {
    "collapsed": true,
    "run_control": {
     "frozen": false,
     "read_only": false
    }
   },
   "outputs": [],
   "source": []
  },
  {
   "cell_type": "markdown",
   "metadata": {
    "run_control": {
     "frozen": false,
     "read_only": false
    }
   },
   "source": [
    "Calculate the result for the following formula and print them one by one: \n",
    "\n",
    "**You should not calculate them yourself**\n",
    "\n",
    ">21980 + 987345<br/>\n",
    "4950782 - 2340985<br/>\n",
    "3458 × 4390<br/>\n",
    "9285 ÷ 5<br/>\n",
    "234^21 (^ means power)<br/>\n",
    "the remainder of 98434 ÷ 456"
   ]
  },
  {
   "cell_type": "code",
   "execution_count": null,
   "metadata": {
    "collapsed": true,
    "run_control": {
     "frozen": false,
     "read_only": false
    }
   },
   "outputs": [],
   "source": []
  },
  {
   "cell_type": "markdown",
   "metadata": {
    "run_control": {
     "frozen": false,
     "read_only": false
    }
   },
   "source": [
    "Try to create a tip calculator. After executing the program,<br/>\n",
    "the result should look like this:\n",
    "\n",
    ">Welcome to Yummy Restaurant! (press enter)\n",
    "\n",
    ">What's your name please?<br/>\n",
    ">\\>\\>\\> Sam\n",
    "\n",
    ">Hi, Sam! I am a simple python tip calculator. (press enter)<br/>\n",
    "\n",
    ">What's the cost of your meal? (enter a number)<br/>\n",
    ">\\>\\>\\> 21\n",
    "\n",
    ">What's the tax ratio of the resturant? (__% enter a number)<br/>\n",
    ">\\>\\>\\> 15\n",
    "\n",
    ">How many percent of tip do you want to give? (__ % enter a number)<br/>\n",
    ">\\>\\>\\> 12\n",
    "\n",
    ">The total cost of your meal is: 26.67.<br/>\n",
    "\n",
    "- The program would pause when it shows \"press enter\". \n",
    "- User would enter their name and 3 numbers.\n",
    "- The tip formular is: \n",
    "$$\n",
    "total\\_cost = cost + cost \\times tax\\_ratio + cost \\times tip\\_ratio\n",
    "$$\n",
    "\n",
    "**Hint**\n",
    "\n",
    "1. Use `input(\"press enter\")` to capture useless input. For Python2, use `raw_input(\"press enter\")`, for Python3 use `input(\"press enter\")`\n",
    "2. Use `print(\"%.2f\", 26.666666)` to limit the float to 2 decimal points."
   ]
  },
  {
   "cell_type": "markdown",
   "metadata": {
    "run_control": {
     "frozen": false,
     "read_only": false
    }
   },
   "source": [
    "## 字符串， string"
   ]
  },
  {
   "cell_type": "code",
   "execution_count": null,
   "metadata": {
    "collapsed": true,
    "run_control": {
     "frozen": false,
     "read_only": false
    }
   },
   "outputs": [],
   "source": []
  },
  {
   "cell_type": "code",
   "execution_count": 6,
   "metadata": {
    "collapsed": false,
    "run_control": {
     "frozen": false,
     "read_only": false
    },
    "scrolled": true
   },
   "outputs": [
    {
     "name": "stdout",
     "output_type": "stream",
     "text": [
      "I could use single quote too!\n",
      "I could therefore print \"\" and '' for example:\n"
     ]
    }
   ],
   "source": [
    "print('I could use single quote too!')\n",
    "print('I could therefore print \"\"',\n",
    "      \"and ''\",\n",
    "      \"for example:\")"
   ]
  },
  {
   "cell_type": "code",
   "execution_count": null,
   "metadata": {
    "collapsed": true,
    "run_control": {
     "frozen": false,
     "read_only": false
    }
   },
   "outputs": [],
   "source": []
  },
  {
   "cell_type": "markdown",
   "metadata": {
    "collapsed": true,
    "run_control": {
     "frozen": false,
     "read_only": false
    }
   },
   "source": [
    "Write a function that takes a string as input and returns the string reversed.\n"
   ]
  }
 ],
 "metadata": {
  "kernelspec": {
   "display_name": "Python 3",
   "language": "python",
   "name": "python3"
  },
  "language_info": {
   "codemirror_mode": {
    "name": "ipython",
    "version": 3
   },
   "file_extension": ".py",
   "mimetype": "text/x-python",
   "name": "python",
   "nbconvert_exporter": "python",
   "pygments_lexer": "ipython3",
   "version": "3.6.0"
  }
 },
 "nbformat": 4,
 "nbformat_minor": 2
}
