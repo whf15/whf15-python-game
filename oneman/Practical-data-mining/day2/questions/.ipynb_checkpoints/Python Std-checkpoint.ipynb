{
 "cells": [
  {
   "cell_type": "markdown",
   "metadata": {
    "run_control": {
     "frozen": false,
     "read_only": false
    }
   },
   "source": [
    "写一个程序读取输入的两个数字，并且把数字加起来，结果输出如下：\n",
    "> Please enter the first number:\n",
    ">\n",
    "\\>\\>\\> 19.2<br/>\n",
    "Please enter the second number:<br/>\n",
    "\\>\\>\\> 3<br/>\n",
    "\n",
    ">Got it!<br/>\n",
    ">19.2 + 3 = 22.2"
   ]
  },
  {
   "cell_type": "code",
   "execution_count": 4,
   "metadata": {
    "collapsed": false
   },
   "outputs": [
    {
     "name": "stdout",
     "output_type": "stream",
     "text": [
      "Please enter the first number: \n",
      ">>> 3\n",
      "Please enter the second number: \n",
      ">>> 5\n",
      "Got it!\n",
      "3 + 5 = 8.0\n"
     ]
    }
   ],
   "source": [
    "num1 = input(\"Please enter the first number: \\n>>> \")\n",
    "num2 = input(\"Please enter the second number: \\n>>> \")\n",
    "print (\"Got it!\")\n",
    "print (\"%s + %s = %s\" % (num1, num2, float(num1) + float(num2)))"
   ]
  }
 ],
 "metadata": {
  "celltoolbar": "Raw Cell Format",
  "kernelspec": {
   "display_name": "Python 3",
   "language": "python",
   "name": "python3"
  },
  "language_info": {
   "codemirror_mode": {
    "name": "ipython",
    "version": 3
   },
   "file_extension": ".py",
   "mimetype": "text/x-python",
   "name": "python",
   "nbconvert_exporter": "python",
   "pygments_lexer": "ipython3",
   "version": "3.6.0"
  }
 },
 "nbformat": 4,
 "nbformat_minor": 2
}
