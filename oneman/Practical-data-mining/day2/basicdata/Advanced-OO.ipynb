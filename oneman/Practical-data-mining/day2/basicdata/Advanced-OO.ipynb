{
 "cells": [
  {
   "cell_type": "markdown",
   "metadata": {
    "run_control": {
     "frozen": false,
     "read_only": false
    }
   },
   "source": [
    "### overloading?"
   ]
  },
  {
   "cell_type": "code",
   "execution_count": 1,
   "metadata": {
    "collapsed": true,
    "run_control": {
     "frozen": false,
     "read_only": false
    }
   },
   "outputs": [],
   "source": [
    "def add(a,b):\n",
    "    return a+b"
   ]
  },
  {
   "cell_type": "code",
   "execution_count": 2,
   "metadata": {
    "collapsed": true,
    "run_control": {
     "frozen": false,
     "read_only": false
    }
   },
   "outputs": [],
   "source": [
    "def add(a,b,c):\n",
    "    return a+b+c"
   ]
  },
  {
   "cell_type": "code",
   "execution_count": 4,
   "metadata": {
    "run_control": {
     "frozen": false,
     "read_only": false
    }
   },
   "outputs": [
    {
     "data": {
      "text/plain": [
       "6"
      ]
     },
     "execution_count": 4,
     "metadata": {},
     "output_type": "execute_result"
    }
   ],
   "source": [
    "add(1,2,3)"
   ]
  },
  {
   "cell_type": "markdown",
   "metadata": {
    "run_control": {
     "frozen": false,
     "read_only": false
    }
   },
   "source": [
    "## What are Object\n",
    "\n",
    "*Everything in Python is an object, from numbers to modules.*\n",
    "\n",
    "However, Python hides most of the object machinery by menas of special syntax. You can type `num = 7` to create a object of type *integer* with value 7, and assign an object reference to the name `num`. \n",
    "\n",
    "The only time you need to look inside objects is when you want to make your own or modify the behavior of existing objects.\n",
    "\n",
    "An object contains:\n",
    "\n",
    "1. data (vairbales, called *attributes*)\n",
    "2. code (functions, called *methods*)\n",
    "\n",
    "It represents a unique instance of some concerete thing.\n",
    "\n",
    "> Think of objects as nouns and their methods as verbs.\n",
    "\n",
    "## Define Class with `class`\n",
    "\n",
    "If an object is like a box, then a **class** is like the mold that makes the box."
   ]
  },
  {
   "cell_type": "code",
   "execution_count": 56,
   "metadata": {
    "run_control": {
     "frozen": false,
     "read_only": false
    }
   },
   "outputs": [
    {
     "data": {
      "text/plain": [
       "__main__.Person"
      ]
     },
     "execution_count": 56,
     "metadata": {},
     "output_type": "execute_result"
    }
   ],
   "source": [
    "class Person():\n",
    "    pass\n",
    "\n",
    "someone = Person()\n",
    "type(someone)"
   ]
  },
  {
   "cell_type": "code",
   "execution_count": 2,
   "metadata": {
    "run_control": {
     "frozen": false,
     "read_only": false
    }
   },
   "outputs": [
    {
     "data": {
      "text/plain": [
       "int"
      ]
     },
     "execution_count": 2,
     "metadata": {},
     "output_type": "execute_result"
    }
   ],
   "source": [
    "a = int()\n",
    "type(a)"
   ]
  },
  {
   "cell_type": "code",
   "execution_count": 57,
   "metadata": {
    "run_control": {
     "frozen": false,
     "read_only": false
    }
   },
   "outputs": [
    {
     "data": {
      "text/plain": [
       "123"
      ]
     },
     "execution_count": 57,
     "metadata": {},
     "output_type": "execute_result"
    }
   ],
   "source": [
    "a = int('123')\n",
    "a"
   ]
  },
  {
   "cell_type": "code",
   "execution_count": null,
   "metadata": {
    "collapsed": true,
    "run_control": {
     "frozen": false,
     "read_only": false
    }
   },
   "outputs": [],
   "source": [
    "a = set()\n",
    "type(a)"
   ]
  },
  {
   "cell_type": "code",
   "execution_count": 3,
   "metadata": {
    "collapsed": true,
    "run_control": {
     "frozen": false,
     "read_only": false
    }
   },
   "outputs": [],
   "source": [
    "class Person():\n",
    "    def __init__(self): # Self refers to the infividual object itself\n",
    "        pass\n",
    "\n",
    "someone = Person()"
   ]
  },
  {
   "cell_type": "code",
   "execution_count": 4,
   "metadata": {
    "collapsed": true,
    "run_control": {
     "frozen": false,
     "read_only": false
    }
   },
   "outputs": [],
   "source": [
    "class Person():\n",
    "    def __init__(self, name, gender): # The first parameter has to be self\n",
    "        self.name = name\n",
    "        self.gender = gender\n",
    "\n",
    "ed = Person('Edward', 'Male')"
   ]
  },
  {
   "cell_type": "markdown",
   "metadata": {
    "run_control": {
     "frozen": false,
     "read_only": false
    }
   },
   "source": [
    "Behind the scene:\n",
    "\n",
    "- Look up the definition of `Person` class\n",
    "- Create a new object in memory\n",
    "- Call the `__init__` method, passing the newly-created object as `self` and the others as `name` and `gender`\n",
    "- Store the value of `name` and `gender` in the object\n",
    "- Return the new object\n",
    "- Attach the name `ed` to the object"
   ]
  },
  {
   "cell_type": "code",
   "execution_count": 5,
   "metadata": {
    "run_control": {
     "frozen": false,
     "read_only": false
    }
   },
   "outputs": [
    {
     "name": "stdout",
     "output_type": "stream",
     "text": [
      "Name: Edward\n",
      "Gender: Male\n"
     ]
    }
   ],
   "source": [
    "print('Name:', ed.name)\n",
    "print('Gender:', ed.gender)"
   ]
  },
  {
   "cell_type": "code",
   "execution_count": 6,
   "metadata": {
    "run_control": {
     "frozen": false,
     "read_only": false
    }
   },
   "outputs": [
    {
     "name": "stdout",
     "output_type": "stream",
     "text": [
      "Hi I'm Edward, it's nice to meet you!\n"
     ]
    }
   ],
   "source": [
    "class Person():\n",
    "    def __init__(self, name, gender): # The first parameter has to be self\n",
    "        self.name = name\n",
    "        self.gender = gender\n",
    "    \n",
    "    def say(self):\n",
    "        print(\"Hi I'm \" + self.name + \", it's nice to meet you!\")\n",
    "\n",
    "ed = Person('Edward', 'Male')\n",
    "ed.say()"
   ]
  },
  {
   "cell_type": "markdown",
   "metadata": {
    "run_control": {
     "frozen": false,
     "read_only": false
    }
   },
   "source": [
    "## Inheritance\n",
    "\n",
    "Create a new class from an existing class but with some additions or changes (When x *is a* y)."
   ]
  },
  {
   "cell_type": "code",
   "execution_count": 7,
   "metadata": {
    "run_control": {
     "frozen": false,
     "read_only": false
    }
   },
   "outputs": [
    {
     "name": "stdout",
     "output_type": "stream",
     "text": [
      "Hi I'm Edward, it's nice to meet you!\n"
     ]
    }
   ],
   "source": [
    "class MDPerson(Person):\n",
    "    pass\n",
    "\n",
    "ed = MDPerson(\"Edward\", 'Male')\n",
    "ed.say()"
   ]
  },
  {
   "cell_type": "code",
   "execution_count": 8,
   "metadata": {
    "run_control": {
     "frozen": false,
     "read_only": false
    }
   },
   "outputs": [
    {
     "name": "stdout",
     "output_type": "stream",
     "text": [
      "You need some treatment.\n"
     ]
    }
   ],
   "source": [
    "class MDPerson(Person):\n",
    "    def diagnose(self):\n",
    "        print('You need some treatment.')\n",
    "\n",
    "ed = MDPerson(\"Edward\", 'Male')\n",
    "ed.diagnose()"
   ]
  },
  {
   "cell_type": "code",
   "execution_count": 9,
   "metadata": {
    "run_control": {
     "frozen": false,
     "read_only": false
    }
   },
   "outputs": [
    {
     "ename": "AttributeError",
     "evalue": "'Person' object has no attribute 'diagnose'",
     "output_type": "error",
     "traceback": [
      "\u001b[0;31m---------------------------------------------------------------------------\u001b[0m",
      "\u001b[0;31mAttributeError\u001b[0m                            Traceback (most recent call last)",
      "\u001b[0;32m<ipython-input-9-9df1d87c1c46>\u001b[0m in \u001b[0;36m<module>\u001b[0;34m()\u001b[0m\n\u001b[1;32m      1\u001b[0m \u001b[0msomeone\u001b[0m \u001b[0;34m=\u001b[0m \u001b[0mPerson\u001b[0m\u001b[0;34m(\u001b[0m\u001b[0;34m'Someone'\u001b[0m\u001b[0;34m,\u001b[0m \u001b[0;34m'NA'\u001b[0m\u001b[0;34m)\u001b[0m\u001b[0;34m\u001b[0m\u001b[0m\n\u001b[0;32m----> 2\u001b[0;31m \u001b[0msomeone\u001b[0m\u001b[0;34m.\u001b[0m\u001b[0mdiagnose\u001b[0m\u001b[0;34m(\u001b[0m\u001b[0;34m)\u001b[0m\u001b[0;34m\u001b[0m\u001b[0m\n\u001b[0m",
      "\u001b[0;31mAttributeError\u001b[0m: 'Person' object has no attribute 'diagnose'"
     ]
    }
   ],
   "source": [
    "someone = Person('Someone', 'NA')\n",
    "someone.diagnose()"
   ]
  },
  {
   "cell_type": "code",
   "execution_count": 10,
   "metadata": {
    "run_control": {
     "frozen": false,
     "read_only": false
    }
   },
   "outputs": [
    {
     "name": "stdout",
     "output_type": "stream",
     "text": [
      "Hi I'm Doctor Edward from Cardiac Surgery department, how can I help you\n"
     ]
    }
   ],
   "source": [
    "class MDPerson(Person):\n",
    "    def __init__(self, name, gender, dept='Cardiac Surgery'):\n",
    "        self.name = 'Doctor ' + name\n",
    "        self.gender = gender\n",
    "        self.dept = dept\n",
    "    \n",
    "    def say(self):\n",
    "        print(\"Hi I'm %s from %s department, how can I help you\" % (self.name, self.dept))\n",
    "\n",
    "ed = MDPerson(\"Edward\", 'Male')\n",
    "ed.say()"
   ]
  },
  {
   "cell_type": "markdown",
   "metadata": {
    "run_control": {
     "frozen": false,
     "read_only": false
    }
   },
   "source": [
    "## Get Help from Your Parent with `super`"
   ]
  },
  {
   "cell_type": "code",
   "execution_count": 11,
   "metadata": {
    "run_control": {
     "frozen": false,
     "read_only": false
    }
   },
   "outputs": [
    {
     "name": "stdout",
     "output_type": "stream",
     "text": [
      "Hi I'm Doctor Edward from Cardiac Surgery department, how can I help you\n"
     ]
    }
   ],
   "source": [
    "class MDPerson(Person):\n",
    "    def __init__(self, name, gender, dept='Cardiac Surgery'):\n",
    "        super().__init__(name, gender)\n",
    "        self.name = 'Doctor ' + self.name\n",
    "        self.dept = dept\n",
    "        \n",
    "    def say(self):\n",
    "        print(\"Hi I'm %s from %s department, how can I help you\" % (self.name, self.dept))  \n",
    "        \n",
    "ed = MDPerson(\"Edward\", 'Male')\n",
    "ed.say()"
   ]
  },
  {
   "cell_type": "markdown",
   "metadata": {
    "run_control": {
     "frozen": false,
     "read_only": false
    }
   },
   "source": [
    "If the definition of `Person` changes in the future, using `super()` will ensure that the attributes and methods that `MDPerson` inherits from `Person` will reflect the change.\n",
    "\n",
    "## In self Defense\n",
    "\n",
    "Python uses the `self` argument to find the right object's attributes and method."
   ]
  },
  {
   "cell_type": "code",
   "execution_count": 12,
   "metadata": {
    "run_control": {
     "frozen": false,
     "read_only": false
    }
   },
   "outputs": [
    {
     "name": "stdout",
     "output_type": "stream",
     "text": [
      "Hi I'm Edward, it's nice to meet you!\n"
     ]
    }
   ],
   "source": [
    "ed = Person('Edward', 'Male')\n",
    "ed.say()"
   ]
  },
  {
   "cell_type": "markdown",
   "metadata": {
    "run_control": {
     "frozen": false,
     "read_only": false
    }
   },
   "source": [
    "Behind the scene:\n",
    "\n",
    "- Loop up the class (`Person`) of the object `ed`\n",
    "- Pass the object `ed` to the `say()` method of the `Person` class as the self parameter."
   ]
  },
  {
   "cell_type": "code",
   "execution_count": 13,
   "metadata": {
    "run_control": {
     "frozen": false,
     "read_only": false
    }
   },
   "outputs": [
    {
     "name": "stdout",
     "output_type": "stream",
     "text": [
      "Hi I'm Edward, it's nice to meet you!\n"
     ]
    }
   ],
   "source": [
    "Person.say(ed)"
   ]
  },
  {
   "cell_type": "markdown",
   "metadata": {
    "run_control": {
     "frozen": false,
     "read_only": false
    }
   },
   "source": [
    "## Properties\n",
    "\n",
    "Python doesn't need getters and setters, because all attributes and method are *public*.\n",
    "\n",
    "If you do need to protect your data somehow, use *properties* -- Pythonic getters and setters."
   ]
  },
  {
   "cell_type": "code",
   "execution_count": 64,
   "metadata": {
    "collapsed": true,
    "run_control": {
     "frozen": false,
     "read_only": false
    }
   },
   "outputs": [],
   "source": [
    "class Person():\n",
    "    def __init__(self, input_name):\n",
    "        self.hidden_name = input_name\n",
    "        \n",
    "    def get_name(self):\n",
    "        print('Inside getter')\n",
    "        return self.hidden_name\n",
    "    \n",
    "    def set_name(self, input_name):\n",
    "        print('Inside setter')\n",
    "        self.hidden_name = input_name\n",
    "    \n",
    "#    name = property(get_name, set_name)"
   ]
  },
  {
   "cell_type": "code",
   "execution_count": 63,
   "metadata": {
    "run_control": {
     "frozen": false,
     "read_only": false
    }
   },
   "outputs": [
    {
     "ename": "AttributeError",
     "evalue": "'Person' object has no attribute 'name'",
     "output_type": "error",
     "traceback": [
      "\u001b[0;31m---------------------------------------------------------------------------\u001b[0m",
      "\u001b[0;31mAttributeError\u001b[0m                            Traceback (most recent call last)",
      "\u001b[0;32m<ipython-input-63-d86f5f8994fa>\u001b[0m in \u001b[0;36m<module>\u001b[0;34m()\u001b[0m\n\u001b[1;32m      1\u001b[0m \u001b[0msomeone\u001b[0m \u001b[0;34m=\u001b[0m \u001b[0mPerson\u001b[0m\u001b[0;34m(\u001b[0m\u001b[0;34m'Edward'\u001b[0m\u001b[0;34m)\u001b[0m\u001b[0;34m\u001b[0m\u001b[0m\n\u001b[0;32m----> 2\u001b[0;31m \u001b[0msomeone\u001b[0m\u001b[0;34m.\u001b[0m\u001b[0mname\u001b[0m\u001b[0;34m\u001b[0m\u001b[0m\n\u001b[0m",
      "\u001b[0;31mAttributeError\u001b[0m: 'Person' object has no attribute 'name'"
     ]
    }
   ],
   "source": [
    "someone = Person('Edward')\n",
    "someone.name"
   ]
  },
  {
   "cell_type": "code",
   "execution_count": 17,
   "metadata": {
    "run_control": {
     "frozen": false,
     "read_only": false
    }
   },
   "outputs": [
    {
     "name": "stdout",
     "output_type": "stream",
     "text": [
      "Inside setter\n"
     ]
    }
   ],
   "source": [
    "someone.name = 'Ed'"
   ]
  },
  {
   "cell_type": "code",
   "execution_count": 18,
   "metadata": {
    "collapsed": true,
    "run_control": {
     "frozen": false,
     "read_only": false
    }
   },
   "outputs": [],
   "source": [
    "class Person():\n",
    "    def __init__(self, input_name):\n",
    "        self.hidden_name = input_name\n",
    "    \n",
    "    @property\n",
    "    def name(self):\n",
    "        print('Inside getter')\n",
    "        return self.hidden_name\n",
    "    \n",
    "    @name.setter\n",
    "    def name(self, input_name):\n",
    "        print('Inside setter')\n",
    "        self.hidden_name = input_name"
   ]
  },
  {
   "cell_type": "code",
   "execution_count": 19,
   "metadata": {
    "run_control": {
     "frozen": false,
     "read_only": false
    }
   },
   "outputs": [
    {
     "name": "stdout",
     "output_type": "stream",
     "text": [
      "Inside getter\n"
     ]
    },
    {
     "data": {
      "text/plain": [
       "'Edward'"
      ]
     },
     "execution_count": 19,
     "metadata": {},
     "output_type": "execute_result"
    }
   ],
   "source": [
    "someone = Person('Edward')\n",
    "someone.name"
   ]
  },
  {
   "cell_type": "code",
   "execution_count": 20,
   "metadata": {
    "run_control": {
     "frozen": false,
     "read_only": false
    }
   },
   "outputs": [
    {
     "name": "stdout",
     "output_type": "stream",
     "text": [
      "Inside setter\n"
     ]
    }
   ],
   "source": [
    "someone.name = 'Ed'"
   ]
  },
  {
   "cell_type": "code",
   "execution_count": 21,
   "metadata": {
    "collapsed": true,
    "run_control": {
     "frozen": false,
     "read_only": false
    }
   },
   "outputs": [],
   "source": [
    "class Person():\n",
    "    def __init__(self, input_name):\n",
    "        self.hidden_name = input_name\n",
    "    \n",
    "    @property\n",
    "    def name(self):\n",
    "        print('Inside getter')\n",
    "        return self.hidden_name"
   ]
  },
  {
   "cell_type": "code",
   "execution_count": 22,
   "metadata": {
    "run_control": {
     "frozen": false,
     "read_only": false
    }
   },
   "outputs": [
    {
     "ename": "AttributeError",
     "evalue": "can't set attribute",
     "output_type": "error",
     "traceback": [
      "\u001b[0;31m---------------------------------------------------------------------------\u001b[0m",
      "\u001b[0;31mAttributeError\u001b[0m                            Traceback (most recent call last)",
      "\u001b[0;32m<ipython-input-22-a57db850cece>\u001b[0m in \u001b[0;36m<module>\u001b[0;34m()\u001b[0m\n\u001b[1;32m      1\u001b[0m \u001b[0msomeone\u001b[0m \u001b[0;34m=\u001b[0m \u001b[0mPerson\u001b[0m\u001b[0;34m(\u001b[0m\u001b[0;34m'Edward'\u001b[0m\u001b[0;34m)\u001b[0m\u001b[0;34m\u001b[0m\u001b[0m\n\u001b[0;32m----> 2\u001b[0;31m \u001b[0msomeone\u001b[0m\u001b[0;34m.\u001b[0m\u001b[0mname\u001b[0m \u001b[0;34m=\u001b[0m \u001b[0;34m'Ed'\u001b[0m\u001b[0;34m\u001b[0m\u001b[0m\n\u001b[0m",
      "\u001b[0;31mAttributeError\u001b[0m: can't set attribute"
     ]
    }
   ],
   "source": [
    "someone = Person('Edward')\n",
    "someone.name = 'Ed'"
   ]
  },
  {
   "cell_type": "code",
   "execution_count": 23,
   "metadata": {
    "collapsed": true,
    "run_control": {
     "frozen": false,
     "read_only": false
    }
   },
   "outputs": [],
   "source": [
    "class Circle():\n",
    "    def __init__(self, radius):\n",
    "        self.radius = radius\n",
    "    \n",
    "    @property\n",
    "    def diameter(self):\n",
    "        return 2 * self.radius"
   ]
  },
  {
   "cell_type": "code",
   "execution_count": 24,
   "metadata": {
    "run_control": {
     "frozen": false,
     "read_only": false
    }
   },
   "outputs": [
    {
     "name": "stdout",
     "output_type": "stream",
     "text": [
      "radius = 5, diameter = 10\n"
     ]
    }
   ],
   "source": [
    "c = Circle(5)\n",
    "print('radius = %d, diameter = %d' % (c.radius, c.diameter))"
   ]
  },
  {
   "cell_type": "code",
   "execution_count": 25,
   "metadata": {
    "run_control": {
     "frozen": false,
     "read_only": false
    }
   },
   "outputs": [
    {
     "data": {
      "text/plain": [
       "14"
      ]
     },
     "execution_count": 25,
     "metadata": {},
     "output_type": "execute_result"
    }
   ],
   "source": [
    "c.radius = 7\n",
    "c.diameter"
   ]
  },
  {
   "cell_type": "markdown",
   "metadata": {
    "run_control": {
     "frozen": false,
     "read_only": false
    }
   },
   "source": [
    "## Name Mangling for Privacy\n",
    "\n",
    "Python has a naming convention for attributes that should not be visible outside of their class definition: begin by using with two underscores (`__`)"
   ]
  },
  {
   "cell_type": "code",
   "execution_count": 26,
   "metadata": {
    "collapsed": true,
    "run_control": {
     "frozen": false,
     "read_only": false
    }
   },
   "outputs": [],
   "source": [
    "class Person():\n",
    "    def __init__(self, input_name):\n",
    "        self.hidden_name = input_name\n",
    "    \n",
    "    @property\n",
    "    def name(self):\n",
    "        print('Inside getter')\n",
    "        return self.hidden_name\n",
    "    \n",
    "    @name.setter\n",
    "    def name(self, input_name):\n",
    "        print('Inside setter')\n",
    "        self.hidden_name = input_name"
   ]
  },
  {
   "cell_type": "code",
   "execution_count": 27,
   "metadata": {
    "run_control": {
     "frozen": false,
     "read_only": false
    }
   },
   "outputs": [
    {
     "name": "stdout",
     "output_type": "stream",
     "text": [
      "Inside getter\n"
     ]
    },
    {
     "data": {
      "text/plain": [
       "'Edward'"
      ]
     },
     "execution_count": 27,
     "metadata": {},
     "output_type": "execute_result"
    }
   ],
   "source": [
    "someone = Person('Edward')\n",
    "someone.name"
   ]
  },
  {
   "cell_type": "code",
   "execution_count": 28,
   "metadata": {
    "run_control": {
     "frozen": false,
     "read_only": false
    }
   },
   "outputs": [
    {
     "data": {
      "text/plain": [
       "'Edward'"
      ]
     },
     "execution_count": 28,
     "metadata": {},
     "output_type": "execute_result"
    }
   ],
   "source": [
    "someone.hidden_name"
   ]
  },
  {
   "cell_type": "code",
   "execution_count": 112,
   "metadata": {
    "collapsed": true,
    "run_control": {
     "frozen": false,
     "read_only": false
    }
   },
   "outputs": [],
   "source": [
    "class Person():\n",
    "    def __init__(self, input_name):\n",
    "        self.__name = input_name\n",
    "    \n",
    "    @property\n",
    "    def name(self):\n",
    "        print('Inside getter')\n",
    "        return self.__name\n",
    "    \n",
    "    @name.setter\n",
    "    def name(self, input_name):\n",
    "        print('Inside setter')\n",
    "        self.__name = input_name"
   ]
  },
  {
   "cell_type": "code",
   "execution_count": 113,
   "metadata": {
    "run_control": {
     "frozen": false,
     "read_only": false
    }
   },
   "outputs": [
    {
     "name": "stdout",
     "output_type": "stream",
     "text": [
      "Inside getter\n"
     ]
    },
    {
     "data": {
      "text/plain": [
       "'Edward'"
      ]
     },
     "execution_count": 113,
     "metadata": {},
     "output_type": "execute_result"
    }
   ],
   "source": [
    "someone = Person('Edward')\n",
    "someone.name"
   ]
  },
  {
   "cell_type": "code",
   "execution_count": 114,
   "metadata": {
    "run_control": {
     "frozen": false,
     "read_only": false
    }
   },
   "outputs": [
    {
     "name": "stdout",
     "output_type": "stream",
     "text": [
      "Inside setter\n"
     ]
    }
   ],
   "source": [
    "someone.name = 'Ed'"
   ]
  },
  {
   "cell_type": "code",
   "execution_count": 115,
   "metadata": {
    "run_control": {
     "frozen": false,
     "read_only": false
    }
   },
   "outputs": [
    {
     "ename": "AttributeError",
     "evalue": "'Person' object has no attribute '__name'",
     "output_type": "error",
     "traceback": [
      "\u001b[0;31m---------------------------------------------------------------------------\u001b[0m",
      "\u001b[0;31mAttributeError\u001b[0m                            Traceback (most recent call last)",
      "\u001b[0;32m<ipython-input-115-58c6c1a7c522>\u001b[0m in \u001b[0;36m<module>\u001b[0;34m()\u001b[0m\n\u001b[0;32m----> 1\u001b[0;31m \u001b[0msomeone\u001b[0m\u001b[0;34m.\u001b[0m\u001b[0m__name\u001b[0m\u001b[0;34m\u001b[0m\u001b[0m\n\u001b[0m",
      "\u001b[0;31mAttributeError\u001b[0m: 'Person' object has no attribute '__name'"
     ]
    }
   ],
   "source": [
    "someone.__name"
   ]
  },
  {
   "cell_type": "markdown",
   "metadata": {
    "run_control": {
     "frozen": false,
     "read_only": false
    }
   },
   "source": [
    "well, actually python change the $__name$ to$ _Person__name$ :)"
   ]
  },
  {
   "cell_type": "code",
   "execution_count": 33,
   "metadata": {
    "run_control": {
     "frozen": false,
     "read_only": false
    }
   },
   "outputs": [
    {
     "data": {
      "text/plain": [
       "'Ed'"
      ]
     },
     "execution_count": 33,
     "metadata": {},
     "output_type": "execute_result"
    }
   ],
   "source": [
    "someone._Person__name"
   ]
  },
  {
   "cell_type": "markdown",
   "metadata": {
    "run_control": {
     "frozen": false,
     "read_only": false
    }
   },
   "source": [
    "## Method Types\n",
    "\n",
    "Some data (*attributes*) and functions (*methods*) are part of the **class** itself, and some are part of the **objects** that are created from that class.\n",
    "\n",
    "1. When you see an initial `self` argument in a method, it's an **instance method**. \n",
    "2. In contrast, a **class method** affects the class as a whole.\n",
    "3. A third type of method affects neither the class nor its objects, it's just in there for convenience instead of floating around on its own. It's a **static method**"
   ]
  },
  {
   "cell_type": "code",
   "execution_count": 117,
   "metadata": {
    "collapsed": true,
    "run_control": {
     "frozen": false,
     "read_only": false
    }
   },
   "outputs": [],
   "source": [
    "class A():\n",
    "    count = 0 # Belong to class\n",
    "    \n",
    "    def __init__(self):\n",
    "        A.count += 1\n",
    "    \n",
    "    @classmethod\n",
    "    def kids(cls):\n",
    "        print(\"A has\", cls.count, \"objects\")"
   ]
  },
  {
   "cell_type": "code",
   "execution_count": 119,
   "metadata": {
    "run_control": {
     "frozen": false,
     "read_only": false
    }
   },
   "outputs": [
    {
     "name": "stdout",
     "output_type": "stream",
     "text": [
      "A has 0 little objects\n"
     ]
    }
   ],
   "source": [
    "A.kids()"
   ]
  },
  {
   "cell_type": "code",
   "execution_count": 133,
   "metadata": {
    "run_control": {
     "frozen": false,
     "read_only": false
    }
   },
   "outputs": [
    {
     "name": "stdout",
     "output_type": "stream",
     "text": [
      "A has 26 little objects\n"
     ]
    }
   ],
   "source": [
    "a1= A()\n",
    "a2= A()\n",
    "A.kids()"
   ]
  },
  {
   "cell_type": "markdown",
   "metadata": {
    "run_control": {
     "frozen": false,
     "read_only": false
    }
   },
   "source": [
    "The first parameter `cls` is the class itself. The Python tradition is to call the parameter `cls` since `class` is a reserved keyword."
   ]
  },
  {
   "cell_type": "code",
   "execution_count": 134,
   "metadata": {
    "run_control": {
     "frozen": false,
     "read_only": false
    }
   },
   "outputs": [
    {
     "name": "stdout",
     "output_type": "stream",
     "text": [
      "I'm just a static method. You need to call my by class since I don't have self argument\n"
     ]
    }
   ],
   "source": [
    "class A():\n",
    "    cnt = 0 # Belong to class\n",
    "    \n",
    "    def __init__(self):\n",
    "        A.count += 1\n",
    "    \n",
    "    @classmethod\n",
    "    def kids(cls):\n",
    "        print(\"A has\", cls.count, \"little objects\")\n",
    "        \n",
    "    @staticmethod\n",
    "    def whoami():\n",
    "        print(\"I'm just a static method. You need to call my by class since I don't have self argument\")\n",
    "\n",
    "A.whoami()"
   ]
  },
  {
   "cell_type": "code",
   "execution_count": 163,
   "metadata": {
    "collapsed": true,
    "run_control": {
     "frozen": false,
     "read_only": false
    }
   },
   "outputs": [],
   "source": [
    "## no overloading for constructor\n",
    "class Date(object):\n",
    "\n",
    "    def __init__(self, day=0, month=0, year=0):\n",
    "        self.day = day\n",
    "        self.month = month\n",
    "        self.year = year\n",
    "        \n",
    "    def __init__(self, day=0, month=0):\n",
    "        self.day = day\n",
    "        self.month = month"
   ]
  },
  {
   "cell_type": "code",
   "execution_count": 162,
   "metadata": {
    "run_control": {
     "frozen": false,
     "read_only": false
    }
   },
   "outputs": [],
   "source": [
    "date1=Date(1,2)"
   ]
  },
  {
   "cell_type": "code",
   "execution_count": 135,
   "metadata": {
    "collapsed": true,
    "run_control": {
     "frozen": false,
     "read_only": false
    }
   },
   "outputs": [],
   "source": [
    "# https://stackoverflow.com/questions/12179271/meaning-of-classmethod-and-staticmethod-for-beginner\n",
    "\n",
    "class Date(object):\n",
    "\n",
    "    def __init__(self, day=0, month=0, year=0):\n",
    "        self.day = day\n",
    "        self.month = month\n",
    "        self.year = year\n",
    "\n",
    "    @classmethod\n",
    "    def from_string(cls, date_as_string):\n",
    "        day, month, year = map(int, date_as_string.split('-'))\n",
    "        date1 = cls(day, month, year)\n",
    "        return date1\n",
    "\n",
    "    @staticmethod\n",
    "    def is_date_valid(date_as_string):\n",
    "        day, month, year = map(int, date_as_string.split('-'))\n",
    "        return day <= 31 and month <= 12 and year <= 3999\n",
    "\n",
    "date2 = Date.from_string('11-09-2012')\n",
    "is_date = Date.is_date_valid('11-09-2012')"
   ]
  },
  {
   "cell_type": "code",
   "execution_count": 167,
   "metadata": {
    "collapsed": true,
    "run_control": {
     "frozen": false,
     "read_only": false
    }
   },
   "outputs": [],
   "source": [
    "class Date(object):\n",
    "    def show(self, today):\n",
    "        print(\"today:\",today)\n",
    "        \n",
    "    def show(self, today, tomorrow):\n",
    "        print(\"today:\",today, \"tomorrow\",tomorrow)"
   ]
  },
  {
   "cell_type": "code",
   "execution_count": 165,
   "metadata": {
    "collapsed": true,
    "run_control": {
     "frozen": false,
     "read_only": false
    }
   },
   "outputs": [],
   "source": [
    "date1=Date()"
   ]
  },
  {
   "cell_type": "code",
   "execution_count": 168,
   "metadata": {
    "run_control": {
     "frozen": false,
     "read_only": false
    }
   },
   "outputs": [
    {
     "name": "stdout",
     "output_type": "stream",
     "text": [
      "today: 1216 tomorrow 1217\n"
     ]
    }
   ],
   "source": [
    "date1.show(\"1216\",\"1217\")"
   ]
  },
  {
   "cell_type": "markdown",
   "metadata": {
    "run_control": {
     "frozen": false,
     "read_only": false
    }
   },
   "source": [
    "> use *args for overloading"
   ]
  },
  {
   "cell_type": "markdown",
   "metadata": {
    "run_control": {
     "frozen": false,
     "read_only": false
    }
   },
   "source": [
    "## Duck Typing"
   ]
  },
  {
   "cell_type": "markdown",
   "metadata": {
    "run_control": {
     "frozen": false,
     "read_only": false
    }
   },
   "source": [
    "Python has a loose implementation of *polymorphism*, this means that it applies the same operation to different objects, regardless of their class.\n",
    "\n",
    "> Again, this is part of EAFP design pattern. Python will also assume an object has such method and try to call it. It will throw exception if method is not found."
   ]
  },
  {
   "cell_type": "code",
   "execution_count": 5,
   "metadata": {
    "collapsed": true,
    "run_control": {
     "frozen": false,
     "read_only": false
    }
   },
   "outputs": [],
   "source": [
    "class Quote():\n",
    "    def __init__(self, person, words):\n",
    "        self.person = person\n",
    "        self.words = words\n",
    "    def who(self):\n",
    "        return self.person\n",
    "    def says(self):\n",
    "        return self.words + '.'\n",
    "\n",
    "class QuestionQuote(Quote):\n",
    "    def says(self):\n",
    "        return self.words + '?'\n",
    "\n",
    "class ExclamationQuote(Quote):\n",
    "    def says(self):\n",
    "        return self.words + '!'"
   ]
  },
  {
   "cell_type": "code",
   "execution_count": 6,
   "metadata": {
    "collapsed": true,
    "run_control": {
     "frozen": false,
     "read_only": false
    }
   },
   "outputs": [],
   "source": [
    "def who_says(obj):\n",
    "    print(obj.who(), 'says:', obj.says())"
   ]
  },
  {
   "cell_type": "code",
   "execution_count": 12,
   "metadata": {
    "collapsed": true,
    "run_control": {
     "frozen": false,
     "read_only": false
    }
   },
   "outputs": [],
   "source": [
    "# 不需要制定类型，duck typing, python只假设了有who和says函数\n",
    "q1 = Quote('Ed', 'Normal quote')\n",
    "q2 = QuestionQuote('Ed', 'Question quote')\n",
    "q3 = ExclamationQuote('Ed', 'Exclamation quote')\n",
    "\n",
    "quotes = [q1, q2, q3,ed]"
   ]
  },
  {
   "cell_type": "code",
   "execution_count": 13,
   "metadata": {
    "run_control": {
     "frozen": false,
     "read_only": false
    }
   },
   "outputs": [
    {
     "name": "stdout",
     "output_type": "stream",
     "text": [
      "Ed says: Normal quote.\n",
      "Ed says: Question quote?\n",
      "Ed says: Exclamation quote!\n",
      "Ed says: Hi I'm Edward :)\n"
     ]
    }
   ],
   "source": [
    "for q in quotes:\n",
    "    who_says(q)"
   ]
  },
  {
   "cell_type": "code",
   "execution_count": 10,
   "metadata": {
    "collapsed": true,
    "run_control": {
     "frozen": false,
     "read_only": false
    }
   },
   "outputs": [],
   "source": [
    "class Ed():\n",
    "    def who(self):\n",
    "        return 'Ed'\n",
    "    def says(self):\n",
    "        return \"Hi I'm Edward :)\""
   ]
  },
  {
   "cell_type": "code",
   "execution_count": 11,
   "metadata": {
    "run_control": {
     "frozen": false,
     "read_only": false
    }
   },
   "outputs": [
    {
     "name": "stdout",
     "output_type": "stream",
     "text": [
      "Ed says: Hi I'm Edward :)\n"
     ]
    }
   ],
   "source": [
    "ed = Ed()\n",
    "who_says(ed)"
   ]
  },
  {
   "cell_type": "code",
   "execution_count": 42,
   "metadata": {
    "run_control": {
     "frozen": false,
     "read_only": false
    }
   },
   "outputs": [
    {
     "name": "stdout",
     "output_type": "stream",
     "text": [
      "1 b True 12.3\n"
     ]
    }
   ],
   "source": [
    "print(1, 'b', True, 12.3) #任何类型都可以输出，内置类都有__str__"
   ]
  },
  {
   "cell_type": "markdown",
   "metadata": {
    "run_control": {
     "frozen": false,
     "read_only": false
    }
   },
   "source": [
    "> If it walks like a duck and quacks like a duck, it's a duck.\n",
    "> 如果一个东西，像鸭子一样走路，像鸭子一样叫，它就是一个鸭子\n",
    "\n",
    "## Special Methods\n",
    "\n",
    "When you type somthing like `a = 3 + 8`, you may wonder how do the integer objects know how to implement `+`. Also, how to use `=` to get the result? These operators are using Python's *special methods* (aka *magic methods*).\n",
    "\n",
    "The names of these special methods all begin and end with double underscores (`__`), just like `__init__`.\n",
    "\n",
    "**Task**: Write a Word class that can compare words case insensitive."
   ]
  },
  {
   "cell_type": "code",
   "execution_count": 179,
   "metadata": {
    "collapsed": true,
    "run_control": {
     "frozen": false,
     "read_only": false
    }
   },
   "outputs": [],
   "source": [
    "class Word():\n",
    "    def __init__(self, text):\n",
    "        self.text = text\n",
    "    def equals(self, word2):\n",
    "        return self.text.lower() == word2.text.lower()"
   ]
  },
  {
   "cell_type": "code",
   "execution_count": 180,
   "metadata": {
    "run_control": {
     "frozen": false,
     "read_only": false
    }
   },
   "outputs": [
    {
     "name": "stdout",
     "output_type": "stream",
     "text": [
      "True\n",
      "False\n"
     ]
    }
   ],
   "source": [
    "w1 = Word('Test')\n",
    "w2 = Word('test')\n",
    "w3 = Word('Tes')\n",
    "\n",
    "print(w1.equals(w2))\n",
    "print(w1.equals(w3))"
   ]
  },
  {
   "cell_type": "markdown",
   "metadata": {
    "run_control": {
     "frozen": false,
     "read_only": false
    }
   },
   "source": [
    "It would be greate if we can simply write something like `w1 == w2` to compare."
   ]
  },
  {
   "cell_type": "code",
   "execution_count": 176,
   "metadata": {
    "collapsed": true,
    "run_control": {
     "frozen": false,
     "read_only": false
    }
   },
   "outputs": [],
   "source": [
    "class Word():\n",
    "    def __init__(self, text):\n",
    "        self.text = text\n",
    "    def __eq__(self, word2):\n",
    "        return self.text.lower() == word2.text.lower()"
   ]
  },
  {
   "cell_type": "code",
   "execution_count": 177,
   "metadata": {
    "run_control": {
     "frozen": false,
     "read_only": false
    }
   },
   "outputs": [
    {
     "name": "stdout",
     "output_type": "stream",
     "text": [
      "True\n",
      "False\n"
     ]
    }
   ],
   "source": [
    "w1 = Word('Test')\n",
    "w2 = Word('test')\n",
    "w3 = Word('Tes')\n",
    "\n",
    "print(w1 == w2)\n",
    "print(w1 == w3)"
   ]
  },
  {
   "cell_type": "markdown",
   "metadata": {
    "run_control": {
     "frozen": false,
     "read_only": false
    }
   },
   "source": [
    "Magic methods for comparison:\n",
    "\n",
    "- `__eq__`:`==` \n",
    "- `__ne__`: `!=` \n",
    "- `__lt__`: `<` \n",
    "- `__gt__`: `>` \n",
    "- `__le__`: `<=` \n",
    "- `__ge__`: `>=` \n",
    "\n",
    "Magic methods for numbers:\n",
    "\n",
    "- `__add__`: `+`\n",
    "- `__sub__`: `-`\n",
    "- `__mul__`: `*`\n",
    "- `__floordiv__`: `//`\n",
    "- `__truediv__`: `/`\n",
    "- `__mod__`: `%`\n",
    "- `__pow__`: `**`"
   ]
  },
  {
   "cell_type": "code",
   "execution_count": 47,
   "metadata": {
    "run_control": {
     "frozen": false,
     "read_only": false
    }
   },
   "outputs": [
    {
     "data": {
      "text/plain": [
       "'abcdef'"
      ]
     },
     "execution_count": 47,
     "metadata": {},
     "output_type": "execute_result"
    }
   ],
   "source": [
    "'abc' + 'def'"
   ]
  },
  {
   "cell_type": "code",
   "execution_count": 181,
   "metadata": {
    "run_control": {
     "frozen": false,
     "read_only": false
    }
   },
   "outputs": [
    {
     "name": "stdout",
     "output_type": "stream",
     "text": [
      "abcdef\n"
     ]
    }
   ],
   "source": [
    "print('abc' + 'def')"
   ]
  },
  {
   "cell_type": "markdown",
   "metadata": {
    "run_control": {
     "frozen": false,
     "read_only": false
    }
   },
   "source": [
    "Ohter usefule magic methods:\n",
    "\n",
    "- `__str__`: `str(self)`\n",
    "- `__repr__`: `repr(self)`\n",
    "- `__len__`: `len(self)`"
   ]
  },
  {
   "cell_type": "code",
   "execution_count": 48,
   "metadata": {
    "run_control": {
     "frozen": false,
     "read_only": false
    }
   },
   "outputs": [
    {
     "name": "stdout",
     "output_type": "stream",
     "text": [
      "<__main__.Word object at 0x10afcccc0>\n"
     ]
    }
   ],
   "source": [
    "w = Word('word')\n",
    "print(w)"
   ]
  },
  {
   "cell_type": "code",
   "execution_count": 49,
   "metadata": {
    "run_control": {
     "frozen": false,
     "read_only": false
    }
   },
   "outputs": [
    {
     "data": {
      "text/plain": [
       "'<__main__.Word object at 0x10afcccc0>'"
      ]
     },
     "execution_count": 49,
     "metadata": {},
     "output_type": "execute_result"
    }
   ],
   "source": [
    "str(w)"
   ]
  },
  {
   "cell_type": "code",
   "execution_count": 182,
   "metadata": {
    "collapsed": true,
    "run_control": {
     "frozen": false,
     "read_only": false
    }
   },
   "outputs": [],
   "source": [
    "class Word():\n",
    "    def __init__(self, text):\n",
    "        self.text = text\n",
    "    def __eq__(self, word2):\n",
    "        return self.text.lower() == word2.text.lower()\n",
    "    def __str__(self):\n",
    "        return self.text"
   ]
  },
  {
   "cell_type": "code",
   "execution_count": 183,
   "metadata": {
    "run_control": {
     "frozen": false,
     "read_only": false
    }
   },
   "outputs": [
    {
     "name": "stdout",
     "output_type": "stream",
     "text": [
      "word\n"
     ]
    }
   ],
   "source": [
    "w = Word('word')\n",
    "print(w)"
   ]
  },
  {
   "cell_type": "code",
   "execution_count": 184,
   "metadata": {
    "run_control": {
     "frozen": false,
     "read_only": false
    }
   },
   "outputs": [
    {
     "data": {
      "text/plain": [
       "<__main__.Word at 0x10b0959e8>"
      ]
     },
     "execution_count": 184,
     "metadata": {},
     "output_type": "execute_result"
    }
   ],
   "source": [
    "w"
   ]
  },
  {
   "cell_type": "code",
   "execution_count": 185,
   "metadata": {
    "collapsed": true,
    "run_control": {
     "frozen": false,
     "read_only": false
    }
   },
   "outputs": [],
   "source": [
    "class Word():\n",
    "    def __init__(self, text):\n",
    "        self.text = text\n",
    "    def __eq__(self, word2):\n",
    "        return self.text.lower() == word2.text.lower()\n",
    "    def __str__(self):\n",
    "        return self.text\n",
    "    def __repr__(self):\n",
    "        return \"Word('\" + self.text + \"')\""
   ]
  },
  {
   "cell_type": "code",
   "execution_count": 186,
   "metadata": {
    "run_control": {
     "frozen": false,
     "read_only": false
    }
   },
   "outputs": [
    {
     "data": {
      "text/plain": [
       "Word('word')"
      ]
     },
     "execution_count": 186,
     "metadata": {},
     "output_type": "execute_result"
    }
   ],
   "source": [
    "w = Word('word')\n",
    "w"
   ]
  },
  {
   "cell_type": "markdown",
   "metadata": {
    "run_control": {
     "frozen": false,
     "read_only": false
    }
   },
   "source": [
    "## Composition  组合\n",
    "\n",
    "Create a new class by using existing class as attributes (when x *has-a* y)."
   ]
  },
  {
   "cell_type": "code",
   "execution_count": 55,
   "metadata": {
    "run_control": {
     "frozen": false,
     "read_only": false
    }
   },
   "outputs": [
    {
     "data": {
      "text/plain": [
       "__main__.Tire"
      ]
     },
     "execution_count": 55,
     "metadata": {},
     "output_type": "execute_result"
    }
   ],
   "source": [
    "class Tire():\n",
    "    pass\n",
    "\n",
    "class Car():\n",
    "    def __init__(self):\n",
    "        self.left_front_tire = Tire()\n",
    "        self.right_front_tire = Tire()\n",
    "        self.left_rear_tire = Tire()\n",
    "        self.right_rear_tire = Tire()\n",
    "\n",
    "car = Car()\n",
    "type(car.left_front_tire)"
   ]
  }
 ],
 "metadata": {
  "kernelspec": {
   "display_name": "Python 3",
   "language": "python",
   "name": "python3"
  },
  "language_info": {
   "codemirror_mode": {
    "name": "ipython",
    "version": 3
   },
   "file_extension": ".py",
   "mimetype": "text/x-python",
   "name": "python",
   "nbconvert_exporter": "python",
   "pygments_lexer": "ipython3",
   "version": "3.6.3"
  }
 },
 "nbformat": 4,
 "nbformat_minor": 2
}
