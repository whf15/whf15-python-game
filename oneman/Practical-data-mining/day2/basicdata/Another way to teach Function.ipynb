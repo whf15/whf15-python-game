{
 "cells": [
  {
   "cell_type": "markdown",
   "metadata": {
    "run_control": {
     "frozen": false,
     "read_only": false
    }
   },
   "source": [
    "# motivation of procedures / Functions\n",
    "\n",
    "save life....\n",
    "\n",
    "Function is a named piece of code, separate from all others.\n",
    "\n",
    "A function can take any numebr and type of input _parameters_ and return any number and type of output _result_."
   ]
  },
  {
   "cell_type": "markdown",
   "metadata": {
    "run_control": {
     "frozen": false,
     "read_only": false
    }
   },
   "source": [
    "# the most common code sequence\n",
    "\n",
    "顺序"
   ]
  },
  {
   "cell_type": "markdown",
   "metadata": {
    "run_control": {
     "frozen": false,
     "read_only": false
    }
   },
   "source": [
    "<ul class=\"herolist clearfix\"><li><a href=\"herodetail/194.shtml\" target=\"_blank\"><img src=\"http://game.gtimg.cn/images/yxzj/img201606/heroimg/194/194.jpg\" width=\"91px\" alt=\"苏烈\">苏烈</a></li><li><a href=\"herodetail/195.shtml\" target=\"_blank\"><img src=\"http://game.gtimg.cn/images/yxzj/img201606/heroimg/195/195.jpg\" width=\"91px\" alt=\"百里玄策\">百里玄策</a></li><li><a href=\"herodetail/196.shtml\" target=\"_blank\"><img src=\"http://game.gtimg.cn/images/yxzj/img201606/heroimg/196/196.jpg\" width=\"91px\" alt=\"百里守约\">百里守约</a></li><li><a href=\"herodetail/193.shtml\" target=\"_blank\"><img src=\"http://game.gtimg.cn/images/yxzj/img201606/heroimg/193/193.jpg\" width=\"91px\" alt=\"铠\">铠</a></li></ul>"
   ]
  },
  {
   "cell_type": "code",
   "execution_count": 116,
   "metadata": {
    "run_control": {
     "frozen": false,
     "read_only": false
    }
   },
   "outputs": [],
   "source": [
    "page_hero = '''<ul class=\"herolist clearfix\"><li><a href=\"herodetail/194.shtml\" target=\"_blank\"><img src=\"http://game.gtimg.cn/images/yxzj/img201606/heroimg/194/194.jpg\" width=\"91px\" alt=\"苏烈\">苏烈</a></li><li><a href=\"herodetail/195.shtml\" target=\"_blank\"><img src=\"http://game.gtimg.cn/images/yxzj/img201606/heroimg/195/195.jpg\" width=\"91px\" alt=\"百里玄策\">百里玄策</a></li><li><a href=\"herodetail/196.shtml\" target=\"_blank\"><img src=\"http://game.gtimg.cn/images/yxzj/img201606/heroimg/196/196.jpg\" width=\"91px\" alt=\"百里守约\">百里守约</a></li><li><a href=\"herodetail/193.shtml\" target=\"_blank\"><img src=\"http://game.gtimg.cn/images/yxzj/img201606/heroimg/193/193.jpg\" width=\"91px\" alt=\"铠\">铠</a></li></ul>\n",
    "'''"
   ]
  },
  {
   "cell_type": "code",
   "execution_count": 60,
   "metadata": {
    "run_control": {
     "frozen": false,
     "read_only": false
    }
   },
   "outputs": [
    {
     "data": {
      "text/plain": [
       "'<ul class=\"herolist clearfix\"><li><a href=\"herodetail/194.shtml\" target=\"_blank\"><img src=\"http://game.gtimg.cn/images/yxzj/img201606/heroimg/194/194.jpg\" width=\"91px\" alt=\"苏烈\">苏烈</a></li><li><a href=\"herodetail/195.shtml\" target=\"_blank\"><img src=\"http://game.gtimg.cn/images/yxzj/img201606/heroimg/195/195.jpg\" width=\"91px\" alt=\"百里玄策\">百里玄策</a></li><li><a href=\"herodetail/196.shtml\" target=\"_blank\"><img src=\"http://game.gtimg.cn/images/yxzj/img201606/heroimg/196/196.jpg\" width=\"91px\" alt=\"百里守约\">百里守约</a></li><li><a href=\"herodetail/193.shtml\" target=\"_blank\"><img src=\"http://game.gtimg.cn/images/yxzj/img201606/heroimg/193/193.jpg\" width=\"91px\" alt=\"铠\">铠</a></li></ul>\\n'"
      ]
     },
     "execution_count": 60,
     "metadata": {},
     "output_type": "execute_result"
    }
   ],
   "source": [
    "page_hero"
   ]
  },
  {
   "cell_type": "code",
   "execution_count": 117,
   "metadata": {
    "run_control": {
     "frozen": false,
     "read_only": false
    }
   },
   "outputs": [
    {
     "data": {
      "text/plain": [
       "'苏烈'"
      ]
     },
     "execution_count": 117,
     "metadata": {},
     "output_type": "execute_result"
    }
   ],
   "source": [
    "# extract 苏烈\n",
    "start_link=page_hero.find('<img src=\"')\n",
    "start_quote=page_hero.find('\"',start_link)\n",
    "end_quote =page_hero.find('\"',start_quote+1)\n",
    "page_hero[start_quote+1:end_quote]\n",
    "end_bracket =page_hero.find('>',end_quote+1)\n",
    "start_bracket =page_hero.find('<',end_bracket+1)\n",
    "\n",
    "page_hero[end_bracket+1:start_bracket]"
   ]
  },
  {
   "cell_type": "code",
   "execution_count": 118,
   "metadata": {
    "run_control": {
     "frozen": false,
     "read_only": false
    },
    "scrolled": true
   },
   "outputs": [
    {
     "name": "stdout",
     "output_type": "stream",
     "text": [
      "http://game.gtimg.cn/images/yxzj/img201606/heroimg/194/194.jpg\n",
      "苏烈\n"
     ]
    }
   ],
   "source": [
    "print(page_hero[start_quote+1:end_quote])\n",
    "print(page_hero[end_bracket+1:start_bracket])"
   ]
  },
  {
   "cell_type": "code",
   "execution_count": 119,
   "metadata": {
    "run_control": {
     "frozen": false,
     "read_only": false
    }
   },
   "outputs": [
    {
     "data": {
      "text/plain": [
       "'</a></li><li><a href=\"herodetail/195.shtml\" target=\"_blank\"><img src=\"http://game.gtimg.cn/images/yxzj/img201606/heroimg/195/195.jpg\" width=\"91px\" alt=\"百里玄策\">百里玄策</a></li><li><a href=\"herodetail/196.shtml\" target=\"_blank\"><img src=\"http://game.gtimg.cn/images/yxzj/img201606/heroimg/196/196.jpg\" width=\"91px\" alt=\"百里守约\">百里守约</a></li><li><a href=\"herodetail/193.shtml\" target=\"_blank\"><img src=\"http://game.gtimg.cn/images/yxzj/img201606/heroimg/193/193.jpg\" width=\"91px\" alt=\"铠\">铠</a></li></ul>\\n'"
      ]
     },
     "execution_count": 119,
     "metadata": {},
     "output_type": "execute_result"
    }
   ],
   "source": [
    "page_hero[start_bracket:]"
   ]
  },
  {
   "cell_type": "markdown",
   "metadata": {
    "run_control": {
     "frozen": false,
     "read_only": false
    }
   },
   "source": [
    "# how to extract  百里玄策"
   ]
  },
  {
   "cell_type": "code",
   "execution_count": 120,
   "metadata": {
    "run_control": {
     "frozen": false,
     "read_only": false
    }
   },
   "outputs": [],
   "source": [
    "page_hero = page_hero[start_bracket:]\n",
    "\n",
    "start_link=page_hero.find('<img src=\"')\n",
    "start_quote=page_hero.find('\"',start_link)\n",
    "end_quote =page_hero.find('\"',start_quote+1)\n",
    "page_hero[start_quote+1:end_quote]\n",
    "end_bracket =page_hero.find('>',end_quote+1)\n",
    "start_bracket =page_hero.find('<',end_bracket+1)"
   ]
  },
  {
   "cell_type": "code",
   "execution_count": 83,
   "metadata": {
    "run_control": {
     "frozen": false,
     "read_only": false
    }
   },
   "outputs": [
    {
     "name": "stdout",
     "output_type": "stream",
     "text": [
      "http://game.gtimg.cn/images/yxzj/img201606/heroimg/195/195.jpg\n",
      "百里玄策\n"
     ]
    }
   ],
   "source": [
    "print(page_hero[start_quote+1:end_quote])\n",
    "print(page_hero[end_bracket+1:start_bracket])"
   ]
  },
  {
   "cell_type": "markdown",
   "metadata": {
    "run_control": {
     "frozen": false,
     "read_only": false
    }
   },
   "source": [
    "# how to extract  百里守约 ???.... \n",
    "What am I doing!!!!\n"
   ]
  },
  {
   "cell_type": "markdown",
   "metadata": {
    "run_control": {
     "frozen": false,
     "read_only": false
    }
   },
   "source": [
    "```python\n",
    "start_link=page_hero.find('<img src=\"')\n",
    "start_quote=page_hero.find('\"',start_link)\n",
    "end_quote =page_hero.find('\"',start_quote+1)\n",
    "page_hero[start_quote+1:end_quote]\n",
    "end_bracket =page_hero.find('>',end_quote+1)\n",
    "start_bracket =page_hero.find('<',end_bracket+1)\n",
    "```\n",
    "```python\n",
    "def function_name(parameter):\n",
    "    return value\n",
    "```"
   ]
  },
  {
   "cell_type": "code",
   "execution_count": 146,
   "metadata": {
    "collapsed": true,
    "run_control": {
     "frozen": false,
     "read_only": false
    }
   },
   "outputs": [],
   "source": [
    "def extract_hero_and_img(current_page):\n",
    "    start_link=current_page.find('<img src=\"')\n",
    "    start_quote=current_page.find('\"',start_link)\n",
    "    end_quote =current_page.find('\"',start_quote+1)\n",
    "    current_page[start_quote+1:end_quote]\n",
    "    end_bracket =current_page.find('>',end_quote+1)\n",
    "    start_bracket =current_page.find('<',end_bracket+1)\n",
    "    print(current_page[start_quote+1:end_quote])\n",
    "    print(current_page[end_bracket+1:start_bracket])    \n",
    "    return start_bracket"
   ]
  },
  {
   "cell_type": "code",
   "execution_count": 148,
   "metadata": {
    "run_control": {
     "frozen": false,
     "read_only": false
    }
   },
   "outputs": [
    {
     "name": "stdout",
     "output_type": "stream",
     "text": [
      "http://game.gtimg.cn/images/yxzj/img201606/heroimg/194/194.jpg\n",
      "苏烈\n"
     ]
    }
   ],
   "source": [
    "page_hero = '''<ul class=\"herolist clearfix\"><li><a href=\"herodetail/194.shtml\" target=\"_blank\"><img src=\"http://game.gtimg.cn/images/yxzj/img201606/heroimg/194/194.jpg\" width=\"91px\" alt=\"苏烈\">苏烈</a></li><li><a href=\"herodetail/195.shtml\" target=\"_blank\"><img src=\"http://game.gtimg.cn/images/yxzj/img201606/heroimg/195/195.jpg\" width=\"91px\" alt=\"百里玄策\">百里玄策</a></li><li><a href=\"herodetail/196.shtml\" target=\"_blank\"><img src=\"http://game.gtimg.cn/images/yxzj/img201606/heroimg/196/196.jpg\" width=\"91px\" alt=\"百里守约\">百里守约</a></li><li><a href=\"herodetail/193.shtml\" target=\"_blank\"><img src=\"http://game.gtimg.cn/images/yxzj/img201606/heroimg/193/193.jpg\" width=\"91px\" alt=\"铠\">铠</a></li></ul>\n",
    "'''\n",
    "entry_sulie=extract_hero_and_img(page_hero)"
   ]
  },
  {
   "cell_type": "code",
   "execution_count": 157,
   "metadata": {
    "run_control": {
     "frozen": false,
     "read_only": false
    }
   },
   "outputs": [
    {
     "name": "stdout",
     "output_type": "stream",
     "text": [
      "\n",
      "\n"
     ]
    }
   ],
   "source": [
    "page_hero = page_hero[entry_sulie:]\n",
    "entry_xuance = extract_hero_and_img(page_hero)"
   ]
  },
  {
   "cell_type": "code",
   "execution_count": 133,
   "metadata": {
    "run_control": {
     "frozen": false,
     "read_only": false
    }
   },
   "outputs": [
    {
     "name": "stdout",
     "output_type": "stream",
     "text": [
      "http://game.gtimg.cn/images/yxzj/img201606/heroimg/196/196.jpg\n",
      "百里守约\n"
     ]
    }
   ],
   "source": [
    "page_hero = page_hero[entry_xuance:]\n",
    "entry_shouyue=extract_hero_and_img(page_hero)"
   ]
  },
  {
   "cell_type": "code",
   "execution_count": 134,
   "metadata": {
    "run_control": {
     "frozen": false,
     "read_only": false
    },
    "scrolled": true
   },
   "outputs": [
    {
     "name": "stdout",
     "output_type": "stream",
     "text": [
      "http://game.gtimg.cn/images/yxzj/img201606/heroimg/193/193.jpg\n",
      "铠\n"
     ]
    }
   ],
   "source": [
    "page_hero = page_hero[entry_shouyue:]\n",
    "entry_shouyue=extract_hero_and_img(page_hero)"
   ]
  },
  {
   "cell_type": "code",
   "execution_count": 3,
   "metadata": {
    "run_control": {
     "frozen": false,
     "read_only": false
    }
   },
   "outputs": [
    {
     "data": {
      "text/plain": [
       "function"
      ]
     },
     "execution_count": 3,
     "metadata": {},
     "output_type": "execute_result"
    }
   ],
   "source": [
    "# An empty function that does nothing\n",
    "def do_nothing():\n",
    "    pass\n",
    "\n",
    "type(do_nothing)"
   ]
  },
  {
   "cell_type": "code",
   "execution_count": 135,
   "metadata": {
    "run_control": {
     "frozen": false,
     "read_only": false
    },
    "scrolled": true
   },
   "outputs": [
    {
     "name": "stdout",
     "output_type": "stream",
     "text": [
      "Hello Python\n"
     ]
    }
   ],
   "source": [
    "# A function without parameters and returns values\n",
    "def greeting():\n",
    "    print(\"Hello Python\")\n",
    "\n",
    "# Call the function\n",
    "a = greeting()"
   ]
  },
  {
   "cell_type": "code",
   "execution_count": 136,
   "metadata": {
    "run_control": {
     "frozen": false,
     "read_only": false
    }
   },
   "outputs": [
    {
     "name": "stdout",
     "output_type": "stream",
     "text": [
      "None\n"
     ]
    }
   ],
   "source": [
    "print(a)"
   ]
  },
  {
   "cell_type": "code",
   "execution_count": 8,
   "metadata": {
    "run_control": {
     "frozen": false,
     "read_only": false
    }
   },
   "outputs": [
    {
     "name": "stdout",
     "output_type": "stream",
     "text": [
      "Hello Josh\n"
     ]
    }
   ],
   "source": [
    "# A function with a parameter that returns nothing\n",
    "def greeting(name):\n",
    "    print(\"Hello %s\" % name)\n",
    "\n",
    "# Call the function\n",
    "greeting(\"Josh\")"
   ]
  },
  {
   "cell_type": "code",
   "execution_count": 139,
   "metadata": {
    "run_control": {
     "frozen": false,
     "read_only": false
    }
   },
   "outputs": [
    {
     "name": "stdout",
     "output_type": "stream",
     "text": [
      "Hello again Joshua\n"
     ]
    }
   ],
   "source": [
    "# A function with a parameter and return a string\n",
    "def greeting_str(name):\n",
    "    return \"Hello again \" + name\n",
    "\n",
    "# Use the function\n",
    "s = greeting_str(\"Joshua\")\n",
    "print(s)"
   ]
  },
  {
   "cell_type": "markdown",
   "metadata": {
    "run_control": {
     "frozen": false,
     "read_only": false
    }
   },
   "source": [
    "### Positional Arguments\n",
    "\n",
    "Like many programming languages, Python support _positional arguments_, whose values are copied to their corresponding parameters in order."
   ]
  },
  {
   "cell_type": "code",
   "execution_count": 9,
   "metadata": {
    "run_control": {
     "frozen": false,
     "read_only": false
    }
   },
   "outputs": [
    {
     "data": {
      "text/plain": [
       "'wine:chardonnay,entree:chicken,dessert:cake'"
      ]
     },
     "execution_count": 9,
     "metadata": {},
     "output_type": "execute_result"
    }
   ],
   "source": [
    "# A function with 3 parameters\n",
    "def menu(wine, entree, dessert):\n",
    "    return \"wine:{},entree:{},dessert:{}\".format(wine,entree,dessert)\n",
    "\n",
    "# Get a menu\n",
    "menu('chardonnay', 'chicken', 'cake')"
   ]
  },
  {
   "cell_type": "code",
   "execution_count": 144,
   "metadata": {
    "run_control": {
     "frozen": false,
     "read_only": false
    }
   },
   "outputs": [
    {
     "data": {
      "text/plain": [
       "'wine:beef,entree:bagel,dessert:bordeaux'"
      ]
     },
     "execution_count": 144,
     "metadata": {},
     "output_type": "execute_result"
    }
   ],
   "source": [
    "menu('beef', 'bagel', 'bordeaux')"
   ]
  },
  {
   "cell_type": "markdown",
   "metadata": {
    "run_control": {
     "frozen": false,
     "read_only": false
    }
   },
   "source": [
    "### Keyword Arguments\n",
    "\n",
    "To avoid positional argument confusion, you can specify arguments by the names of their corresponding parameters, even in a different order from their definition in the function."
   ]
  },
  {
   "cell_type": "code",
   "execution_count": 11,
   "metadata": {
    "run_control": {
     "frozen": false,
     "read_only": false
    }
   },
   "outputs": [
    {
     "data": {
      "text/plain": [
       "'wine:bordeaux,entree:beef,dessert:cake'"
      ]
     },
     "execution_count": 11,
     "metadata": {},
     "output_type": "execute_result"
    }
   ],
   "source": [
    "menu(entree='beef', dessert='cake', wine='bordeaux')"
   ]
  },
  {
   "cell_type": "markdown",
   "metadata": {
    "run_control": {
     "frozen": false,
     "read_only": false
    }
   },
   "source": [
    "You can even mix positional and keyword arguments.\n",
    "\n",
    "> **Note**: You have to provide all positional arguments before feed in any keyword arguments."
   ]
  },
  {
   "cell_type": "markdown",
   "metadata": {
    "run_control": {
     "frozen": false,
     "read_only": false
    }
   },
   "source": [
    "### Default Parameter Values\n",
    "\n",
    "You can set default values for parameter incase the caller does not provide any."
   ]
  },
  {
   "cell_type": "code",
   "execution_count": 12,
   "metadata": {
    "run_control": {
     "frozen": false,
     "read_only": false
    }
   },
   "outputs": [
    {
     "data": {
      "text/plain": [
       "'wine:chardonnay,entree:chicken,dessert:pudding'"
      ]
     },
     "execution_count": 12,
     "metadata": {},
     "output_type": "execute_result"
    }
   ],
   "source": [
    "# default dessert is pudding\n",
    "def menu(wine, entree, dessert='pudding'):\n",
    "    return \"wine:{},entree:{},dessert:{}\".format(wine,entree,dessert)\n",
    "\n",
    "\n",
    "# Call menu without providing dessert\n",
    "menu('chardonnay', 'chicken')"
   ]
  },
  {
   "cell_type": "code",
   "execution_count": 13,
   "metadata": {
    "run_control": {
     "frozen": false,
     "read_only": false
    }
   },
   "outputs": [
    {
     "data": {
      "text/plain": [
       "'wine:chardonnay,entree:chicken,dessert:doughnut'"
      ]
     },
     "execution_count": 13,
     "metadata": {},
     "output_type": "execute_result"
    }
   ],
   "source": [
    "# Default value will be overwritten if caller provide a value\n",
    "menu('chardonnay', 'chicken', 'doughnut')"
   ]
  },
  {
   "cell_type": "markdown",
   "metadata": {},
   "source": [
    "### Gather Positional Arguments with `*`\n"
   ]
  },
  {
   "cell_type": "code",
   "execution_count": null,
   "metadata": {
    "collapsed": true
   },
   "outputs": [],
   "source": [
    "def print_args(*args):\n",
    "    print('Positional args:', args)"
   ]
  },
  {
   "cell_type": "code",
   "execution_count": null,
   "metadata": {
    "collapsed": true
   },
   "outputs": [],
   "source": [
    "print_args(1,2,3,'hello',)"
   ]
  },
  {
   "cell_type": "code",
   "execution_count": null,
   "metadata": {
    "collapsed": true
   },
   "outputs": [],
   "source": [
    "def print_args_with_required(req1, req2, *args):\n",
    "    print('required arg 1:', req1)\n",
    "    print('required arg 2:', req2)\n",
    "    print('All other args:', args)"
   ]
  },
  {
   "cell_type": "markdown",
   "metadata": {},
   "source": [
    "### Gather Keyword Arguments with `**`"
   ]
  },
  {
   "cell_type": "code",
   "execution_count": null,
   "metadata": {
    "collapsed": true
   },
   "outputs": [],
   "source": [
    "def print_kwargs(**kwargs):\n",
    "    print('Keyword args:', kwargs)"
   ]
  },
  {
   "cell_type": "code",
   "execution_count": null,
   "metadata": {
    "collapsed": true
   },
   "outputs": [],
   "source": [
    "print_kwargs(first = 1,second = 2)"
   ]
  },
  {
   "cell_type": "code",
   "execution_count": null,
   "metadata": {
    "collapsed": true
   },
   "outputs": [],
   "source": [
    "def print_all_args(req1, *args, **kwargs):\n",
    "    print('required arg1:', req1)\n",
    "    print('Positional args:', args)\n",
    "    print('Keyword args:', kwargs)"
   ]
  },
  {
   "cell_type": "code",
   "execution_count": null,
   "metadata": {
    "collapsed": true
   },
   "outputs": [],
   "source": [
    "print_all_args(1,2,3,s='hello')"
   ]
  },
  {
   "cell_type": "markdown",
   "metadata": {},
   "source": [
    "> **Note**: Again, if you want to mix positional arguments (`*args`) with keyword arguments (`**kwargs`), positonal arguemnts must come first"
   ]
  },
  {
   "cell_type": "markdown",
   "metadata": {},
   "source": [
    "### Docstrings\n",
    "\n",
    "Like we talked earlier, we can attach documentation to a function definition by including a string at the beginning of the function body. This can be super helpful when you're working with others or when you're using IDE."
   ]
  },
  {
   "cell_type": "code",
   "execution_count": null,
   "metadata": {
    "collapsed": true
   },
   "outputs": [],
   "source": [
    "def print_if_true(thing, check):\n",
    "    '''\n",
    "    Prints the first argument if the seconde argument is true.\n",
    "    The operation is:\n",
    "        1. Check whther the *second* argument is true\n",
    "        2. If it is, print the *first* argument.\n",
    "    '''\n",
    "    if check:\n",
    "        print(thing)\n",
    "        \n",
    "# Use help to get the docstring of a function\n",
    "help(print_if_true)"
   ]
  },
  {
   "cell_type": "code",
   "execution_count": null,
   "metadata": {
    "collapsed": true
   },
   "outputs": [],
   "source": [
    "# We can also get the raw docstrint by using __doc__\n",
    "print(print_if_true.__doc__)"
   ]
  },
  {
   "cell_type": "markdown",
   "metadata": {},
   "source": [
    "### Lambda\n",
    "\n",
    "A lambda function is an anonymous function expressed as a single statement. You can use it instead of a normal tiny function."
   ]
  },
  {
   "cell_type": "code",
   "execution_count": null,
   "metadata": {
    "collapsed": true
   },
   "outputs": [],
   "source": [
    "def mul(op1, op2):\n",
    "    return op1 * op2\n",
    "\n",
    "print(\"2 * 4 = \", binary_operation(mul, 2, 4))"
   ]
  },
  {
   "cell_type": "code",
   "execution_count": null,
   "metadata": {
    "collapsed": true
   },
   "outputs": [],
   "source": [
    "binary_operation(lambda op1,op2: op1 * op2, 2, 4)"
   ]
  },
  {
   "cell_type": "markdown",
   "metadata": {
    "run_control": {
     "frozen": false,
     "read_only": false
    }
   },
   "source": [
    "### First-Class Citizens\n",
    "\n",
    "Everthing in Python is an object, including functions. You can assign functions to variables, use them as arguments to other functions and return them from functions."
   ]
  },
  {
   "cell_type": "code",
   "execution_count": 14,
   "metadata": {
    "run_control": {
     "frozen": false,
     "read_only": false
    }
   },
   "outputs": [],
   "source": [
    "def answer1():\n",
    "    print(\"Python is the best computer language!\")\n",
    "    \n",
    "def answer2():\n",
    "    print(\"No! PHP is the best one!\")\n",
    "\n",
    "# A function that takes another function as argument\n",
    "def run_somthing(func):\n",
    "    func()"
   ]
  },
  {
   "cell_type": "code",
   "execution_count": 15,
   "metadata": {},
   "outputs": [
    {
     "name": "stdout",
     "output_type": "stream",
     "text": [
      "Python is the best computer language!\n",
      "No! PHP is the best one!\n"
     ]
    }
   ],
   "source": [
    "run_somthing(answer1)\n",
    "run_somthing(answer2)"
   ]
  },
  {
   "cell_type": "code",
   "execution_count": 17,
   "metadata": {
    "collapsed": true,
    "run_control": {
     "frozen": false,
     "read_only": false
    }
   },
   "outputs": [],
   "source": [
    "def exp_factory(n):\n",
    "    def exp(a):\n",
    "        return a ** n\n",
    "    return exp"
   ]
  },
  {
   "cell_type": "code",
   "execution_count": 18,
   "metadata": {
    "run_control": {
     "frozen": false,
     "read_only": false
    }
   },
   "outputs": [
    {
     "data": {
      "text/plain": [
       "function"
      ]
     },
     "execution_count": 18,
     "metadata": {},
     "output_type": "execute_result"
    }
   ],
   "source": [
    "square = exp_factory(2)\n",
    "type(square)"
   ]
  },
  {
   "cell_type": "code",
   "execution_count": 19,
   "metadata": {
    "run_control": {
     "frozen": false,
     "read_only": false
    }
   },
   "outputs": [
    {
     "data": {
      "text/plain": [
       "9"
      ]
     },
     "execution_count": 19,
     "metadata": {},
     "output_type": "execute_result"
    }
   ],
   "source": [
    "square(3)"
   ]
  }
 ],
 "metadata": {
  "kernelspec": {
   "display_name": "Python 3",
   "language": "python",
   "name": "python3"
  },
  "language_info": {
   "codemirror_mode": {
    "name": "ipython",
    "version": 3
   },
   "file_extension": ".py",
   "mimetype": "text/x-python",
   "name": "python",
   "nbconvert_exporter": "python",
   "pygments_lexer": "ipython3",
   "version": "3.6.3"
  }
 },
 "nbformat": 4,
 "nbformat_minor": 2
}
