{
 "cells": [
  {
   "cell_type": "markdown",
   "metadata": {
    "run_control": {
     "frozen": false,
     "read_only": false
    },
    "slideshow": {
     "slide_type": "slide"
    }
   },
   "source": [
    "# Python Code Structures\n",
    "\n",
    "In this notebook, you will learn the following concepts in Python:\n",
    "\n",
    "- Code Structure: Sequence\n",
    "- Code Structure, condition: If (Cont.)\n",
    "- Code Structure: Loop (Cont.)\n",
    "\n",
    "![hello](choose.jpg)"
   ]
  },
  {
   "cell_type": "code",
   "execution_count": 3,
   "metadata": {
    "collapsed": true,
    "run_control": {
     "frozen": false,
     "read_only": false
    }
   },
   "outputs": [],
   "source": [
    "possibility_to_rain = 0.7"
   ]
  },
  {
   "cell_type": "code",
   "execution_count": 10,
   "metadata": {
    "collapsed": true,
    "run_control": {
     "frozen": false,
     "read_only": false
    }
   },
   "outputs": [],
   "source": [
    "possibility_to_rain = 1"
   ]
  },
  {
   "cell_type": "code",
   "execution_count": 5,
   "metadata": {
    "run_control": {
     "frozen": false,
     "read_only": false
    }
   },
   "outputs": [
    {
     "data": {
      "text/plain": [
       "False"
      ]
     },
     "execution_count": 5,
     "metadata": {},
     "output_type": "execute_result"
    }
   ],
   "source": [
    "possibility_to_rain > 0.8"
   ]
  },
  {
   "cell_type": "code",
   "execution_count": 6,
   "metadata": {
    "run_control": {
     "frozen": false,
     "read_only": false
    }
   },
   "outputs": [
    {
     "data": {
      "text/plain": [
       "True"
      ]
     },
     "execution_count": 6,
     "metadata": {},
     "output_type": "execute_result"
    }
   ],
   "source": [
    "possibility_to_rain > 0.3"
   ]
  },
  {
   "cell_type": "markdown",
   "metadata": {
    "run_control": {
     "frozen": false,
     "read_only": false
    }
   },
   "source": [
    "## 想法"
   ]
  },
  {
   "cell_type": "code",
   "execution_count": 18,
   "metadata": {
    "run_control": {
     "frozen": false,
     "read_only": false
    },
    "slideshow": {
     "slide_type": "slide"
    }
   },
   "outputs": [
    {
     "name": "stdout",
     "output_type": "stream",
     "text": [
      "Do take your umberalla with you.\n"
     ]
    }
   ],
   "source": [
    "possibility_to_rain = 0.9\n",
    "if possibility_to_rain > 0.8:\n",
    "    print(\"Do take your umberalla with you.\") ## 这个地方标准格式是四个空格的缩进\n",
    "elif possibility_to_rain > 0.3:\n",
    "    print(\"Take your umberalla just in case. hhhaha\")\n",
    "else:\n",
    "    print(\"Enjoy the sunshine!\")"
   ]
  },
  {
   "cell_type": "code",
   "execution_count": 19,
   "metadata": {
    "run_control": {
     "frozen": false,
     "read_only": false
    },
    "slideshow": {
     "slide_type": "slide"
    }
   },
   "outputs": [
    {
     "name": "stdout",
     "output_type": "stream",
     "text": [
      "Checkings selectd.\n"
     ]
    }
   ],
   "source": [
    "card_type = \"debit\"\n",
    "account_type = \"checking\"\n",
    "\n",
    "if card_type == \"debit\":\n",
    "    if account_type == \"checking\":\n",
    "        print(\"Checkings selectd.\")\n",
    "    else:\n",
    "        print(\"Savings selected.\")\n",
    "else:\n",
    "    print(\"Credit card.\")"
   ]
  },
  {
   "cell_type": "code",
   "execution_count": null,
   "metadata": {
    "run_control": {
     "frozen": false,
     "read_only": false
    },
    "slideshow": {
     "slide_type": "slide"
    }
   },
   "outputs": [],
   "source": [
    "a = 10\n",
    "if a > 1:\n",
    "    print(1)\n",
    "else:\n",
    "    print(2)\n",
    "    print(3)"
   ]
  },
  {
   "cell_type": "code",
   "execution_count": 22,
   "metadata": {
    "run_control": {
     "frozen": false,
     "read_only": false
    }
   },
   "outputs": [
    {
     "name": "stdout",
     "output_type": "stream",
     "text": [
      "Please enter an integer: -1\n",
      "Negative changed to zero\n"
     ]
    }
   ],
   "source": [
    "x = int(input(\"Please enter an integer: \"))\n",
    "if x < 0:\n",
    "    x = 0\n",
    "    print('Negative changed to zero')\n",
    "elif x == 0:\n",
    "    print('Zero')\n",
    "elif x == 1:\n",
    "    print('Single')\n",
    "else:\n",
    "    print('More')"
   ]
  },
  {
   "cell_type": "markdown",
   "metadata": {
    "run_control": {
     "frozen": false,
     "read_only": false
    },
    "slideshow": {
     "slide_type": "slide"
    }
   },
   "source": [
    "# Tips\n",
    "![](blocks.png)"
   ]
  },
  {
   "cell_type": "markdown",
   "metadata": {
    "run_control": {
     "frozen": false,
     "read_only": false
    },
    "slideshow": {
     "slide_type": "slide"
    }
   },
   "source": [
    "# Switch Case ??\n",
    "no, need complex support\n",
    "Why isn’t there a switch or case statement in Python?\n",
    "\n",
    "[NO~~~~](https://docs.python.org/2/faq/design.html#why-isn-t-there-a-switch-or-case-statement-in-python)"
   ]
  },
  {
   "cell_type": "code",
   "execution_count": null,
   "metadata": {
    "code_folding": [],
    "run_control": {
     "frozen": false,
     "read_only": false
    },
    "scrolled": true
   },
   "outputs": [],
   "source": [
    "class SMTP:\n",
    "    def lookupMethod(self, command):\n",
    "        return getattr(self, 'do_' + command.upper(), None)\n",
    "    def do_HELO(self, rest):\n",
    "        return 'Howdy ' + rest\n",
    "    def do_QUIT(self, rest):\n",
    "        return 'Bye'\n",
    "\n",
    "SMTP().lookupMethod('HELO')('foo.bar.com') # => 'Howdy foo.bar.com'\n",
    "SMTP().lookupMethod('QUIT')('') # => 'Bye'"
   ]
  },
  {
   "cell_type": "code",
   "execution_count": null,
   "metadata": {
    "code_folding": [],
    "run_control": {
     "frozen": false,
     "read_only": false
    }
   },
   "outputs": [],
   "source": [
    "def zero():\n",
    "    print(\"You typed zero.\\n\")\n",
    "\n",
    "def sqr():\n",
    "    print(\"n is a perfect square\\n\")\n",
    "\n",
    "def even():\n",
    "    print(\"n is an even number\\n\")\n",
    "\n",
    "def prime():\n",
    "    print (\"n is a prime number\\n\")\n",
    "\n",
    "options = {0 : zero,\n",
    "           1 : sqr,\n",
    "           4 : sqr,\n",
    "           9 : sqr,\n",
    "           2 : even,\n",
    "           3 : prime,\n",
    "           5 : prime,\n",
    "           7 : prime,}"
   ]
  },
  {
   "cell_type": "code",
   "execution_count": null,
   "metadata": {
    "run_control": {
     "frozen": false,
     "read_only": false
    }
   },
   "outputs": [],
   "source": [
    "options[0]()"
   ]
  },
  {
   "cell_type": "code",
   "execution_count": null,
   "metadata": {
    "run_control": {
     "frozen": false,
     "read_only": false
    }
   },
   "outputs": [],
   "source": [
    "while True:\n",
    "    print(\"heelo\")"
   ]
  },
  {
   "cell_type": "markdown",
   "metadata": {
    "run_control": {
     "frozen": false,
     "read_only": false
    },
    "slideshow": {
     "slide_type": "slide"
    }
   },
   "source": [
    "##  Code Structure: Loop (Cont.)\n",
    "\n",
    "![](dogloop.jpg)\n",
    "In Python, `else` can also be paired with a loop structure. Statements in `else` will be called if the `loop` finish without `break`.\n",
    "\n",
    "```python\n",
    "\n",
    "# while loop\n",
    "while condition:\n",
    "    statements_1\n",
    "else:\n",
    "    statments_2\n",
    "\n",
    "# For loop\n",
    "for item in sequence:\n",
    "    statments_1\n",
    "else:\n",
    "    statments_2\n",
    "```\n",
    "\n",
    "#### While Loop"
   ]
  },
  {
   "cell_type": "code",
   "execution_count": null,
   "metadata": {
    "run_control": {
     "frozen": false,
     "read_only": false
    },
    "scrolled": true,
    "slideshow": {
     "slide_type": "slide"
    }
   },
   "outputs": [],
   "source": [
    "cnt = 1\n",
    "while cnt <= 5:\n",
    "    print(\"cnt = %d\" % cnt)\n",
    "    cnt += 1\n",
    "print(\"finish\")"
   ]
  },
  {
   "cell_type": "code",
   "execution_count": null,
   "metadata": {
    "run_control": {
     "frozen": false,
     "read_only": false
    },
    "slideshow": {
     "slide_type": "slide"
    }
   },
   "outputs": [],
   "source": [
    "cnt = 1\n",
    "while True:\n",
    "    print(\"cnt = %d\" % cnt)\n",
    "    ch = input('Do you want to continue? [y:n]: ')\n",
    "    if ch == 'y':\n",
    "        cnt += 1\n",
    "    else:\n",
    "        break\n",
    "        "
   ]
  },
  {
   "cell_type": "code",
   "execution_count": null,
   "metadata": {
    "run_control": {
     "frozen": false,
     "read_only": false
    },
    "scrolled": true,
    "slideshow": {
     "slide_type": "slide"
    }
   },
   "outputs": [],
   "source": [
    "count =1\n",
    "print(count)\n",
    "count+=1\n",
    "print(count)\n",
    "count+=1\n",
    "print(count)\n",
    "count+=1\n",
    "print(count)\n",
    "count+=1\n",
    "print(count)\n",
    "count+=1\n",
    "print(count)\n",
    "count+=1\n",
    "print(count)\n",
    "count+=1\n",
    "print(count)\n",
    "count+=1\n",
    "print(count)\n",
    "count+=1\n",
    "print(count)"
   ]
  },
  {
   "cell_type": "markdown",
   "metadata": {
    "run_control": {
     "frozen": false,
     "read_only": false
    },
    "slideshow": {
     "slide_type": "slide"
    }
   },
   "source": [
    "## Let's make a plan\n",
    "![let's make a plan](counter_pseudo.jpg)"
   ]
  },
  {
   "cell_type": "code",
   "execution_count": null,
   "metadata": {
    "run_control": {
     "frozen": false,
     "read_only": false
    }
   },
   "outputs": [],
   "source": [
    "count = 1\n",
    "while count < 11:\n",
    "    print(count)\n",
    "    count = count + 1\n",
    "if count == 11:\n",
    "    print('Counting complete.')"
   ]
  },
  {
   "cell_type": "code",
   "execution_count": 8,
   "metadata": {
    "run_control": {
     "frozen": false,
     "read_only": false
    }
   },
   "outputs": [
    {
     "name": "stdout",
     "output_type": "stream",
     "text": [
      "while count: 0\n",
      "while count: 1\n",
      "while count: 2\n",
      "while count: 3\n",
      "while count: 4\n",
      "while count: 5\n",
      "while count: 6\n",
      "while count: 7\n",
      "while count: 8\n",
      "while count: 9\n",
      "while count: 10\n"
     ]
    }
   ],
   "source": [
    "count=0\n",
    "while count < 11:\n",
    "    print(\"while count:\",count)\n",
    "    count = count + 1\n",
    "    if(count == 11):\n",
    "        break\n",
    "else:\n",
    "    print(\"else:\",count)"
   ]
  },
  {
   "cell_type": "markdown",
   "metadata": {
    "run_control": {
     "frozen": false,
     "read_only": false
    },
    "slideshow": {
     "slide_type": "slide"
    }
   },
   "source": [
    "# For Loop?\n"
   ]
  },
  {
   "cell_type": "code",
   "execution_count": null,
   "metadata": {
    "run_control": {
     "frozen": false,
     "read_only": false
    }
   },
   "outputs": [],
   "source": [
    "range(10)"
   ]
  },
  {
   "cell_type": "code",
   "execution_count": null,
   "metadata": {
    "collapsed": true,
    "run_control": {
     "frozen": false,
     "read_only": false
    }
   },
   "outputs": [],
   "source": [
    "?range"
   ]
  },
  {
   "cell_type": "code",
   "execution_count": null,
   "metadata": {
    "run_control": {
     "frozen": false,
     "read_only": false
    },
    "slideshow": {
     "slide_type": "slide"
    }
   },
   "outputs": [],
   "source": [
    "for i in range(10):\n",
    "    print(i)"
   ]
  },
  {
   "cell_type": "code",
   "execution_count": null,
   "metadata": {
    "run_control": {
     "frozen": false,
     "read_only": false
    }
   },
   "outputs": [],
   "source": [
    "for i in range(4,10):\n",
    "    print(i)"
   ]
  },
  {
   "cell_type": "code",
   "execution_count": null,
   "metadata": {
    "run_control": {
     "frozen": false,
     "read_only": false
    }
   },
   "outputs": [],
   "source": [
    "for i in range(4,10,2):\n",
    "    print(i)"
   ]
  },
  {
   "cell_type": "code",
   "execution_count": null,
   "metadata": {
    "run_control": {
     "frozen": false,
     "read_only": false
    },
    "slideshow": {
     "slide_type": "slide"
    }
   },
   "outputs": [],
   "source": [
    "for i in range(10):\n",
    "    print(i) \n",
    "    if i == 5:\n",
    "        break"
   ]
  },
  {
   "cell_type": "code",
   "execution_count": null,
   "metadata": {
    "run_control": {
     "frozen": false,
     "read_only": false
    },
    "slideshow": {
     "slide_type": "slide"
    }
   },
   "outputs": [],
   "source": [
    "result = 0\n",
    "\n",
    "for num in range(1,100):\n",
    "    if num % 2 == 0:\n",
    "        result = result + num"
   ]
  },
  {
   "cell_type": "code",
   "execution_count": null,
   "metadata": {
    "run_control": {
     "frozen": false,
     "read_only": false
    }
   },
   "outputs": [],
   "source": [
    "print(result)"
   ]
  },
  {
   "cell_type": "code",
   "execution_count": 15,
   "metadata": {
    "run_control": {
     "frozen": false,
     "read_only": false
    }
   },
   "outputs": [
    {
     "name": "stdout",
     "output_type": "stream",
     "text": [
      "2\n",
      "6\n",
      "12\n",
      "20\n",
      "here it is 9\n"
     ]
    }
   ],
   "source": [
    "result = 0\n",
    "for num in range(1,10):\n",
    "    if num % 2 == 0:\n",
    "        result = result + num\n",
    "        print(result)\n",
    "else:\n",
    "    print(\"here it is\",num)"
   ]
  },
  {
   "cell_type": "markdown",
   "metadata": {
    "run_control": {
     "frozen": false,
     "read_only": false
    },
    "slideshow": {
     "slide_type": "slide"
    }
   },
   "source": [
    "# option to read"
   ]
  },
  {
   "cell_type": "code",
   "execution_count": null,
   "metadata": {
    "collapsed": true,
    "run_control": {
     "frozen": false,
     "read_only": false
    }
   },
   "outputs": [],
   "source": [
    "from random import randint\n",
    "mystery = randint(1, 100)"
   ]
  },
  {
   "cell_type": "code",
   "execution_count": null,
   "metadata": {
    "run_control": {
     "frozen": false,
     "read_only": false
    }
   },
   "outputs": [],
   "source": [
    "mystery"
   ]
  },
  {
   "cell_type": "code",
   "execution_count": null,
   "metadata": {
    "collapsed": true,
    "run_control": {
     "frozen": false,
     "read_only": false
    }
   },
   "outputs": [],
   "source": [
    "# guess "
   ]
  },
  {
   "cell_type": "code",
   "execution_count": null,
   "metadata": {
    "code_folding": [],
    "run_control": {
     "frozen": false,
     "read_only": false
    }
   },
   "outputs": [],
   "source": [
    "from random import randint\n",
    "mystery = 80\n",
    "times = 30\n",
    "print(\"I've thought a number from 1 to 100. You have %s times to guess it out.\" % times)\n",
    "\n",
    "def guess_number(times):\n",
    "    for i in range(0, times):\n",
    "        user_input = int(input(\"Please enter a number:\\n>>> \"))\n",
    "        if user_input == mystery:\n",
    "            print(\"Great, you are right, the number is %s.\" % mystery)\n",
    "            break\n",
    "        elif user_input > mystery:\n",
    "            print(\"Your input is too big.\")\n",
    "            print(\"You have %s time(s) left. Good luck!\" % (times - i))\n",
    "        else:\n",
    "            print(\"Your input is too small.\")\n",
    "            print(\"You have %s time(s) left. Good luck!\" % (times - i))\n",
    "\n",
    "    print(\"\")\n",
    "    print(\"Game is over...\")"
   ]
  },
  {
   "cell_type": "code",
   "execution_count": null,
   "metadata": {
    "run_control": {
     "frozen": false,
     "read_only": false
    }
   },
   "outputs": [],
   "source": [
    "guess_number(10)"
   ]
  },
  {
   "cell_type": "code",
   "execution_count": null,
   "metadata": {
    "run_control": {
     "frozen": false,
     "read_only": false
    },
    "slideshow": {
     "slide_type": "slide"
    }
   },
   "outputs": [],
   "source": [
    "?randint"
   ]
  },
  {
   "cell_type": "markdown",
   "metadata": {
    "run_control": {
     "frozen": false,
     "read_only": false
    },
    "slideshow": {
     "slide_type": "slide"
    }
   },
   "source": [
    "### 1) Syntax of Nested Loop\n",
    "The syntax for a nested while loop in Python is as follows:\n",
    ">```\n",
    "while condition:\n",
    "    statements(s)\n",
    ">    \n",
    "    while condition:\n",
    "        statements(s)\n",
    ">    \n",
    "    statements(s)\n",
    "```\n",
    "\n",
    "The syntax for a nested for loop in Python is as follows:\n",
    ">```\n",
    "for num1 in range(10):\n",
    "    statements(s)\n",
    ">    \n",
    "    for num2 in range(10):\n",
    "        statements(s)\n",
    ">    \n",
    "    statements(s)\n",
    "```\n",
    "\n",
    "In this course, we will focus on the nested for loop."
   ]
  },
  {
   "cell_type": "code",
   "execution_count": null,
   "metadata": {
    "collapsed": true,
    "run_control": {
     "frozen": false,
     "read_only": false
    }
   },
   "outputs": [],
   "source": [
    "?print()"
   ]
  },
  {
   "cell_type": "code",
   "execution_count": null,
   "metadata": {
    "run_control": {
     "frozen": false,
     "read_only": false
    }
   },
   "outputs": [],
   "source": [
    "print(\"hello\")"
   ]
  },
  {
   "cell_type": "code",
   "execution_count": null,
   "metadata": {
    "run_control": {
     "frozen": false,
     "read_only": false
    },
    "slideshow": {
     "slide_type": "slide"
    }
   },
   "outputs": [],
   "source": [
    "for i in range(4):          # change number 4 to other values\n",
    "    for j in range(10):     # change number 10 to other values\n",
    "        print(\"x\", end=\"\")\n",
    "    print(\"\")\n"
   ]
  },
  {
   "cell_type": "code",
   "execution_count": null,
   "metadata": {
    "run_control": {
     "frozen": false,
     "read_only": false
    },
    "slideshow": {
     "slide_type": "slide"
    }
   },
   "outputs": [],
   "source": [
    "for i in range(5):\n",
    "    for j in range(i+1):    # change +1 to other values\n",
    "        print(\"x\", end=\"\")\n",
    "    print(\"\")"
   ]
  },
  {
   "cell_type": "code",
   "execution_count": null,
   "metadata": {
    "run_control": {
     "frozen": false,
     "read_only": false
    },
    "slideshow": {
     "slide_type": "slide"
    }
   },
   "outputs": [],
   "source": [
    "for i in range(5):\n",
    "    for j in range(5 + 1):\n",
    "        if i + j > 4:\n",
    "            print(\"x\", end=\"\")\n",
    "        else:\n",
    "            print(\"T\", end=\"\")\n",
    "    print(\"\")"
   ]
  },
  {
   "cell_type": "markdown",
   "metadata": {
    "run_control": {
     "frozen": false,
     "read_only": false
    },
    "slideshow": {
     "slide_type": "slide"
    }
   },
   "source": [
    "### 2) More Senario for using nested loop?\n",
    "1. When you want to find a book in a shelf:\n",
    "```\n",
    "For each row in a shelf:\n",
    "       For each book in the row:\n",
    "           Check the book\n",
    "```\n",
    "2. When you want to calculate word frequency:\n",
    "```\n",
    "For each article in a website:\n",
    "       For each the word in the article:\n",
    "           do something with the word\n",
    "```"
   ]
  },
  {
   "cell_type": "markdown",
   "metadata": {},
   "source": [
    "\n",
    "### Generators\n",
    "\n",
    "With generator, you can iterate potentially huge sequences without creating and storing the entire sequence in memory at once. It also comes handy when we're not sure how many items are in the sequence (e.g.: streaming).\n",
    "\n",
    "We've acutally seen a generator before: `range()`. You may pass it into a function or iterate over it as if it is a list."
   ]
  },
  {
   "cell_type": "code",
   "execution_count": null,
   "metadata": {
    "collapsed": true
   },
   "outputs": [],
   "source": [
    "sum(range(1,10))"
   ]
  },
  {
   "cell_type": "code",
   "execution_count": null,
   "metadata": {
    "collapsed": true
   },
   "outputs": [],
   "source": [
    "for i in (range(5)):\n",
    "    print(i)"
   ]
  },
  {
   "cell_type": "code",
   "execution_count": null,
   "metadata": {
    "collapsed": true
   },
   "outputs": [],
   "source": [
    "def my_range(first=0, last=1, step=1):\n",
    "    n = first\n",
    "    while n < last:\n",
    "        yield n\n",
    "        n += step"
   ]
  },
  {
   "cell_type": "code",
   "execution_count": null,
   "metadata": {
    "collapsed": true
   },
   "outputs": [],
   "source": [
    "sum(my_range(1,10))"
   ]
  },
  {
   "cell_type": "code",
   "execution_count": null,
   "metadata": {
    "collapsed": true
   },
   "outputs": [],
   "source": [
    "for i in (range(0, 5)):\n",
    "    print(i)"
   ]
  },
  {
   "cell_type": "code",
   "execution_count": null,
   "metadata": {
    "collapsed": true
   },
   "outputs": [],
   "source": [
    "g = my_range(5, 10)\n",
    "type(g)"
   ]
  },
  {
   "cell_type": "markdown",
   "metadata": {},
   "source": [
    "> **Note**: You may only iterat over a generator **only once**."
   ]
  },
  {
   "cell_type": "markdown",
   "metadata": {},
   "source": [
    "### Decorators\n",
    "\n",
    "Somtimes, you want to modify an existing function without changing its source code. Some common use cases are logging and debugging."
   ]
  },
  {
   "cell_type": "code",
   "execution_count": null,
   "metadata": {
    "collapsed": true
   },
   "outputs": [],
   "source": [
    "def should_log(func):\n",
    "    def func_with_log(*args, **kwargs):\n",
    "        print(\"Calling:\", func.__name__)\n",
    "        return func(*args, **kwargs)\n",
    "    return func_with_log"
   ]
  },
  {
   "cell_type": "code",
   "execution_count": null,
   "metadata": {
    "collapsed": true
   },
   "outputs": [],
   "source": [
    "def add(op1, op2):\n",
    "    return op1 + op2"
   ]
  },
  {
   "cell_type": "code",
   "execution_count": null,
   "metadata": {
    "collapsed": true
   },
   "outputs": [],
   "source": [
    "def operate(func):\n",
    "    print(func(1,2))"
   ]
  },
  {
   "cell_type": "code",
   "execution_count": null,
   "metadata": {
    "collapsed": true
   },
   "outputs": [],
   "source": [
    "with_log=should_log(add)"
   ]
  },
  {
   "cell_type": "code",
   "execution_count": null,
   "metadata": {
    "collapsed": true
   },
   "outputs": [],
   "source": [
    "with_log(1,2)"
   ]
  },
  {
   "cell_type": "code",
   "execution_count": null,
   "metadata": {
    "collapsed": true
   },
   "outputs": [],
   "source": [
    "add_with_log = should_log(add)\n",
    "add_with_log(1, 2)"
   ]
  },
  {
   "cell_type": "code",
   "execution_count": null,
   "metadata": {
    "collapsed": true
   },
   "outputs": [],
   "source": [
    "@should_log\n",
    "def add(op1, op2):\n",
    "    return op1 + op2\n",
    "\n",
    "add(1, 2)"
   ]
  },
  {
   "cell_type": "markdown",
   "metadata": {},
   "source": [
    "> **Note**: You may use decorator to record time elapse of function. (Included in homework)"
   ]
  },
  {
   "cell_type": "markdown",
   "metadata": {},
   "source": [
    "### Nampespace & Scope\n",
    "\n",
    "Each function defines its own namespace. If you define a variable called x in a main program and another variable called x in a function, they refer to different things."
   ]
  },
  {
   "cell_type": "code",
   "execution_count": null,
   "metadata": {
    "collapsed": true
   },
   "outputs": [],
   "source": [
    "# global x\n",
    "x = 1\n",
    "\n",
    "def new_x():\n",
    "    x = 5 # x within a function\n",
    "    print(x)\n",
    "\n",
    "new_x()"
   ]
  },
  {
   "cell_type": "code",
   "execution_count": null,
   "metadata": {
    "collapsed": true
   },
   "outputs": [],
   "source": [
    "# global x\n",
    "x = 1\n",
    "\n",
    "def print_global():\n",
    "    print(x)\n",
    "\n",
    "print_global();"
   ]
  },
  {
   "cell_type": "code",
   "execution_count": null,
   "metadata": {
    "collapsed": true
   },
   "outputs": [],
   "source": [
    "# global x\n",
    "x = 1\n",
    "\n",
    "def change_x():\n",
    "    x = 5 # Try to change x within a function\n",
    "\n",
    "print(x)\n",
    "change_x()\n",
    "print(x)"
   ]
  },
  {
   "cell_type": "markdown",
   "metadata": {},
   "source": [
    "## Use of `__` in Names\n",
    "\n",
    "Names that begin and end with two underscores(`__`) are reserved for use within Python, you should not use them with your own variables.\n",
    "\n",
    "- `function.__name__` returns the name of the function.\n",
    "- `function.__doc__` returns the documentation string of the function.\n",
    "\n",
    "## Exception"
   ]
  },
  {
   "cell_type": "code",
   "execution_count": null,
   "metadata": {
    "collapsed": true
   },
   "outputs": [],
   "source": [
    "def binary_operation(func, op1, op2):\n",
    "    return func(op1, op2)\n",
    "    \n",
    "def div(op1, op2):\n",
    "    try:\n",
    "        return op1 / op2\n",
    "    except ZeroDivisionError:\n",
    "        print(\"Division by zero!\")\n",
    "\n",
    "print(\"5 / 2 = \", binary_operation(div, 5, 2))"
   ]
  }
 ],
 "metadata": {
  "kernelspec": {
   "display_name": "Python 3",
   "language": "python",
   "name": "python3"
  },
  "language_info": {
   "codemirror_mode": {
    "name": "ipython",
    "version": 3
   },
   "file_extension": ".py",
   "mimetype": "text/x-python",
   "name": "python",
   "nbconvert_exporter": "python",
   "pygments_lexer": "ipython3",
   "version": "3.6.3"
  }
 },
 "nbformat": 4,
 "nbformat_minor": 2
}
