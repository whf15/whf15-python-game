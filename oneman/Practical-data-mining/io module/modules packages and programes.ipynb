{
 "cells": [
  {
   "cell_type": "markdown",
   "metadata": {
    "run_control": {
     "frozen": false,
     "read_only": false
    }
   },
   "source": [
    "# Modules, Packages, and Programs\n",
    "\n",
    "In previous class, we've talked about how to organize our code into logical groups called *function*. Now, it's about time to go bigger. In this notebook, you'll learn even larger code blocks: **Moduls**, **Packages** and eventually a realistic Python **Program**.\n",
    "\n",
    "There is a table of content for this notebook:\n",
    "\n",
    "1. Standalone Programs\n",
    "2. Command-Line Arguments\n",
    "3. Modules and the `import` Statement\n",
    "4. Packages\n",
    "5. Python Standard Library\n",
    "\n",
    "## Standalone Programs"
   ]
  },
  {
   "cell_type": "code",
   "execution_count": null,
   "metadata": {
    "run_control": {
     "frozen": false,
     "read_only": false
    }
   },
   "outputs": [],
   "source": [
    "print(\"Hello Python! From a standalone program\")"
   ]
  },
  {
   "cell_type": "markdown",
   "metadata": {
    "run_control": {
     "frozen": false,
     "read_only": false
    }
   },
   "source": [
    "You may put this into a separate file, with extension `.py` and then run it in the following way:\n",
    "\n",
    "```\n",
    "$ python test.py\n",
    "```\n",
    "\n",
    "In your terminal, you should see something like:\n"
   ]
  },
  {
   "cell_type": "markdown",
   "metadata": {
    "collapsed": true,
    "run_control": {
     "frozen": false,
     "read_only": false
    }
   },
   "source": [
    "> **Note**:  If you don't want to type `python3` evertime you run a Python script, you may do the following (only works for \\*nix system):\n",
    "\n",
    "> 1. Use `which python3` to find where your Python3 interpreter is.\n",
    "> 2. Add `#!path_of_interpreter` to your `.py` file.\n",
    "> 3. Use `chmod a+x your_py_file.py` to change the permission of the file.\n",
    "> 4. Now you may simply run the script by `./your_py_file.py`"
   ]
  },
  {
   "cell_type": "markdown",
   "metadata": {
    "collapsed": true,
    "run_control": {
     "frozen": false,
     "read_only": false
    }
   },
   "source": [
    " ## Command-Line Arguments\n",
    " \n",
    " Creat a file called test2.py and put the following lines into it:\n",
    " \n",
    " ```python\n",
    " import sys\n",
    " print('Command Line Arguments:', sys.argv)\n",
    " ```\n",
    " \n",
    " Run it in terminal and you will see somthing similar to:\n",
    " \n"
   ]
  },
  {
   "cell_type": "markdown",
   "metadata": {
    "run_control": {
     "frozen": false,
     "read_only": false
    }
   },
   "source": [
    "## Modules and the imoport Statement\n",
    "\n",
    "*A module is a file of Python code*\n",
    "\n",
    "- **Data types** are like words, statements are like sentences, \n",
    "- **Functions** are like paragraphs\n",
    "- and **Modules** are like chapters.\n",
    "\n",
    "### Import a Module\n",
    "\n",
    "```python\n",
    "import module\n",
    "\n",
    "module.func()\n",
    "```"
   ]
  },
  {
   "cell_type": "code",
   "execution_count": null,
   "metadata": {
    "run_control": {
     "frozen": false,
     "read_only": false
    }
   },
   "outputs": [],
   "source": [
    "import report\n",
    "report.get_description()"
   ]
  },
  {
   "cell_type": "markdown",
   "metadata": {
    "run_control": {
     "frozen": false,
     "read_only": false
    }
   },
   "source": [
    "### Import a Module with Another Name\n",
    "\n",
    "Some modules may have long names. In this case, you may rename the module when you do `import` which can save you some time later.\n",
    "\n",
    "```python\n",
    "import module as md\n",
    "```"
   ]
  },
  {
   "cell_type": "code",
   "execution_count": null,
   "metadata": {
    "run_control": {
     "frozen": false,
     "read_only": false
    }
   },
   "outputs": [],
   "source": [
    "import report as rp\n",
    "rp.get_description()"
   ]
  },
  {
   "cell_type": "markdown",
   "metadata": {
    "run_control": {
     "frozen": false,
     "read_only": false
    }
   },
   "source": [
    "### Import Only What You Want\n",
    "\n",
    "Some modules may have a huge number of definitions in it. If you don't want to import all of them, you may only import what you need to use from it.\n",
    "\n",
    "```python\n",
    "from module import what_you_need\n",
    "```"
   ]
  },
  {
   "cell_type": "code",
   "execution_count": null,
   "metadata": {
    "run_control": {
     "frozen": false,
     "read_only": false
    }
   },
   "outputs": [],
   "source": [
    "from report import get_description\n",
    "get_description()"
   ]
  },
  {
   "cell_type": "code",
   "execution_count": null,
   "metadata": {
    "run_control": {
     "frozen": false,
     "read_only": false
    }
   },
   "outputs": [],
   "source": [
    "from report import get_description as get_weather\n",
    "get_weather()"
   ]
  },
  {
   "cell_type": "markdown",
   "metadata": {
    "run_control": {
     "frozen": false,
     "read_only": false
    }
   },
   "source": [
    "> **Note**: Scope also works for import statment."
   ]
  },
  {
   "cell_type": "markdown",
   "metadata": {
    "run_control": {
     "frozen": false,
     "read_only": false
    }
   },
   "source": [
    "### Module Search Path"
   ]
  },
  {
   "cell_type": "code",
   "execution_count": 1,
   "metadata": {
    "run_control": {
     "frozen": false,
     "read_only": false
    }
   },
   "outputs": [
    {
     "data": {
      "text/plain": [
       "['',\n",
       " 'C:\\\\ProgramData\\\\Anaconda3\\\\python36.zip',\n",
       " 'C:\\\\ProgramData\\\\Anaconda3\\\\DLLs',\n",
       " 'C:\\\\ProgramData\\\\Anaconda3\\\\lib',\n",
       " 'C:\\\\ProgramData\\\\Anaconda3',\n",
       " 'C:\\\\ProgramData\\\\Anaconda3\\\\lib\\\\site-packages',\n",
       " 'C:\\\\ProgramData\\\\Anaconda3\\\\lib\\\\site-packages\\\\Babel-2.5.0-py3.6.egg',\n",
       " 'C:\\\\ProgramData\\\\Anaconda3\\\\lib\\\\site-packages\\\\win32',\n",
       " 'C:\\\\ProgramData\\\\Anaconda3\\\\lib\\\\site-packages\\\\win32\\\\lib',\n",
       " 'C:\\\\ProgramData\\\\Anaconda3\\\\lib\\\\site-packages\\\\Pythonwin',\n",
       " 'C:\\\\ProgramData\\\\Anaconda3\\\\lib\\\\site-packages\\\\IPython\\\\extensions',\n",
       " 'C:\\\\Users\\\\Administrator\\\\.ipython']"
      ]
     },
     "execution_count": 1,
     "metadata": {},
     "output_type": "execute_result"
    }
   ],
   "source": [
    "import sys\n",
    "sys.path"
   ]
  },
  {
   "cell_type": "markdown",
   "metadata": {
    "run_control": {
     "frozen": false,
     "read_only": false
    }
   },
   "source": [
    "## Packages\n",
    "\n",
    "We went from single lines of codes, to multiline functions, to stanalone programs, to multiple modules in the same directory. To allow Python application scale even more, you can organize modules into *file hierarchies* called **packages**."
   ]
  },
  {
   "cell_type": "code",
   "execution_count": null,
   "metadata": {
    "run_control": {
     "frozen": false,
     "read_only": false
    }
   },
   "outputs": [],
   "source": [
    "from source import daily, weekly\n",
    "\n",
    "print('Daily forecast:', daily.forecast())\n",
    "print('Weekly forecast:', weekly.forecast())"
   ]
  },
  {
   "cell_type": "markdown",
   "metadata": {
    "run_control": {
     "frozen": false,
     "read_only": false
    }
   },
   "source": [
    "> **Note**: Python 3.3 introduced [Implicit Namespace Packages](https://www.python.org/dev/peps/pep-0420/) that allowed us to create a packages without an `__init__.py` file. \n",
    "\n",
    "## Python Standard Library\n",
    "\n",
    "One of Python's prominent claims is that it has \"batteris included\" -- a large standard library of moduls that perform many useful tasks, and are kept separate to avoid bloating the core language. \n",
    "\n",
    "It is always helpful to do some exploration on Python's standard library from time to time.\n",
    "\n",
    "### Handle Missing Keys"
   ]
  },
  {
   "cell_type": "code",
   "execution_count": null,
   "metadata": {
    "run_control": {
     "frozen": false,
     "read_only": false
    }
   },
   "outputs": [],
   "source": [
    "periodic_table = {'H': 1, 'He': 2}\n",
    "periodic_table"
   ]
  },
  {
   "cell_type": "code",
   "execution_count": null,
   "metadata": {
    "run_control": {
     "frozen": false,
     "read_only": false
    }
   },
   "outputs": [],
   "source": [
    "c = periodic_table.setdefault('C', 12)\n",
    "print('c =', c)\n",
    "print('prediotic table:', periodic_table)"
   ]
  },
  {
   "cell_type": "code",
   "execution_count": null,
   "metadata": {
    "run_control": {
     "frozen": false,
     "read_only": false
    }
   },
   "outputs": [],
   "source": [
    "c = periodic_table.setdefault('He', 233)\n",
    "print('c =', c)\n",
    "print('prediotic table:', periodic_table)"
   ]
  },
  {
   "cell_type": "code",
   "execution_count": null,
   "metadata": {
    "run_control": {
     "frozen": false,
     "read_only": false
    }
   },
   "outputs": [],
   "source": [
    "from collections import defaultdict\n",
    "periodic_table = defaultdict(lambda: 'default value')\n",
    "periodic_table"
   ]
  },
  {
   "cell_type": "code",
   "execution_count": null,
   "metadata": {
    "run_control": {
     "frozen": false,
     "read_only": false
    }
   },
   "outputs": [],
   "source": [
    "periodic_table['H'] = 1\n",
    "periodic_table"
   ]
  },
  {
   "cell_type": "code",
   "execution_count": null,
   "metadata": {
    "run_control": {
     "frozen": false,
     "read_only": false
    }
   },
   "outputs": [],
   "source": [
    "periodic_table['He']"
   ]
  },
  {
   "cell_type": "code",
   "execution_count": null,
   "metadata": {
    "run_control": {
     "frozen": false,
     "read_only": false
    }
   },
   "outputs": [],
   "source": [
    "periodic_table"
   ]
  },
  {
   "cell_type": "markdown",
   "metadata": {
    "run_control": {
     "frozen": false,
     "read_only": false
    }
   },
   "source": [
    "> **Note**: This is a very good way when you need to fill up a dictionary of list, where you may need to reserve space for the list. \n"
   ]
  },
  {
   "cell_type": "code",
   "execution_count": null,
   "metadata": {
    "collapsed": true,
    "run_control": {
     "frozen": false,
     "read_only": false
    }
   },
   "outputs": [],
   "source": [
    "# Write a counter for dna seq\n",
    "dna = 'ACCCGTTATGCAATCGCA'"
   ]
  },
  {
   "cell_type": "code",
   "execution_count": null,
   "metadata": {
    "run_control": {
     "frozen": false,
     "read_only": false
    }
   },
   "outputs": [],
   "source": [
    "# Dict comprehension\n",
    "dna_cnt = {c: dna.count(c) for c in dna}\n",
    "dna_cnt"
   ]
  },
  {
   "cell_type": "code",
   "execution_count": null,
   "metadata": {
    "run_control": {
     "frozen": false,
     "read_only": false
    }
   },
   "outputs": [],
   "source": [
    "# Std dict\n",
    "dna_cnt = {}\n",
    "for c in dna:\n",
    "    if c not in dna_cnt:\n",
    "        dna_cnt[c] = 0\n",
    "    dna_cnt[c] += 1\n",
    "\n",
    "dna_cnt"
   ]
  },
  {
   "cell_type": "code",
   "execution_count": null,
   "metadata": {
    "run_control": {
     "frozen": false,
     "read_only": false
    }
   },
   "outputs": [],
   "source": [
    "# Default dict\n",
    "from collections import defaultdict\n",
    "\n",
    "dna_cnt = defaultdict(int)\n",
    "for c in dna:\n",
    "    dna_cnt[c] += 1\n",
    "\n",
    "dna_cnt"
   ]
  },
  {
   "cell_type": "markdown",
   "metadata": {
    "run_control": {
     "frozen": false,
     "read_only": false
    }
   },
   "source": [
    "### Order by Key with `OrderedDict`"
   ]
  },
  {
   "cell_type": "code",
   "execution_count": null,
   "metadata": {
    "run_control": {
     "frozen": false,
     "read_only": false
    }
   },
   "outputs": [],
   "source": [
    "quotes = {\n",
    "    'Moe': 'A wise guy, huh?',\n",
    "    'Larry': 'Ow!',\n",
    "    'Curly': 'Nyuk nyuk!',\n",
    "}\n",
    "\n",
    "quotes"
   ]
  },
  {
   "cell_type": "code",
   "execution_count": null,
   "metadata": {
    "run_control": {
     "frozen": false,
     "read_only": false
    }
   },
   "outputs": [],
   "source": [
    "from collections import OrderedDict\n",
    "quotes = OrderedDict(quotes.items())\n",
    "\n",
    "quotes"
   ]
  },
  {
   "cell_type": "code",
   "execution_count": null,
   "metadata": {
    "run_control": {
     "frozen": false,
     "read_only": false
    }
   },
   "outputs": [],
   "source": [
    "for stooge in quotes:\n",
    "    print(stooge)"
   ]
  },
  {
   "cell_type": "markdown",
   "metadata": {
    "run_control": {
     "frozen": false,
     "read_only": false
    }
   },
   "source": [
    "### Print Nicely with `pprint`"
   ]
  },
  {
   "cell_type": "code",
   "execution_count": null,
   "metadata": {
    "collapsed": true,
    "run_control": {
     "frozen": false,
     "read_only": false
    }
   },
   "outputs": [],
   "source": [
    "from pprint import pprint\n",
    "\n",
    "print(quotes)"
   ]
  },
  {
   "cell_type": "code",
   "execution_count": null,
   "metadata": {
    "collapsed": true,
    "run_control": {
     "frozen": false,
     "read_only": false
    }
   },
   "outputs": [],
   "source": [
    "pprint(quotes)"
   ]
  }
 ],
 "metadata": {
  "kernelspec": {
   "display_name": "Python 3",
   "language": "python",
   "name": "python3"
  },
  "language_info": {
   "codemirror_mode": {
    "name": "ipython",
    "version": 3
   },
   "file_extension": ".py",
   "mimetype": "text/x-python",
   "name": "python",
   "nbconvert_exporter": "python",
   "pygments_lexer": "ipython3",
   "version": "3.6.3"
  }
 },
 "nbformat": 4,
 "nbformat_minor": 2
}
