{
 "cells": [
  {
   "cell_type": "code",
   "execution_count": 1,
   "metadata": {},
   "outputs": [
    {
     "name": "stdout",
     "output_type": "stream",
     "text": [
      "hello world!\n"
     ]
    }
   ],
   "source": [
    "print('hello world!')"
   ]
  },
  {
   "cell_type": "code",
   "execution_count": 4,
   "metadata": {},
   "outputs": [
    {
     "name": "stdout",
     "output_type": "stream",
     "text": [
      "b'Hello world!'\n"
     ]
    }
   ],
   "source": [
    "import tensorflow as tf\n",
    "\n",
    "hw = tf.constant(\"Hello world!\")\n",
    "sess = tf.Session()\n",
    "print(sess.run(hw))\n",
    "sess.close()"
   ]
  },
  {
   "cell_type": "code",
   "execution_count": null,
   "metadata": {},
   "outputs": [
    {
     "name": "stdout",
     "output_type": "stream",
     "text": [
      "2049 60000\n",
      "[5 0 4 ... 5 6 8]\n",
      "2051 60000 28 28\n",
      "[[0 0 0 ... 0 0 0]\n",
      " [0 0 0 ... 0 0 0]\n",
      " [0 0 0 ... 0 0 0]\n",
      " ...\n",
      " [0 0 0 ... 0 0 0]\n",
      " [0 0 0 ... 0 0 0]\n",
      " [0 0 0 ... 0 0 0]]\n",
      "2049 10000\n",
      "[7 2 1 ... 4 5 6]\n",
      "2051 10000 28 28\n",
      "[[0 0 0 ... 0 0 0]\n",
      " [0 0 0 ... 0 0 0]\n",
      " [0 0 0 ... 0 0 0]\n",
      " ...\n",
      " [0 0 0 ... 0 0 0]\n",
      " [0 0 0 ... 0 0 0]\n",
      " [0 0 0 ... 0 0 0]]\n"
     ]
    }
   ],
   "source": [
    "import os\n",
    "import struct\n",
    "import numpy as np\n",
    "import matplotlib.pyplot as plt\n",
    "\n",
    "def load_mnist(path, kind=\"train\"):\n",
    "    #读写文件用，这里的文件应该是已经解压完的文件\n",
    "    labels_path = os.path.join(path, '%s-labels.idx1-ubyte' % kind)\n",
    "    images_path = os.path.join(path, '%s-images.idx3-ubyte' % kind)\n",
    "    \n",
    "    with open(labels_path, 'rb') as lbpath:\n",
    "        magic, num = struct.unpack('>II', lbpath.read(8))\n",
    "        print(magic, num)\n",
    "        #I表示一个无符号整数，4字节\n",
    "        #>说明按照大段顺序读取\n",
    "        labels = np.fromfile(lbpath, dtype=np.uint8)\n",
    "        #按照uint8，返回一个数组，一直读到尾部\n",
    "        print(labels)\n",
    "    with open(images_path, 'rb') as imgpath:\n",
    "        magic, num, rows, cols = struct.unpack('>IIII', imgpath.read(16))\n",
    "        print(magic, num, rows, cols)\n",
    "        images = np.fromfile(imgpath, dtype=np.uint8).reshape(num, rows * cols)\n",
    "        print(images)\n",
    "        \n",
    "    return images, labels\n",
    "\n",
    "X_train, y_train = load_mnist(\"MNIST_data/\", kind=\"train\")\n",
    "X_test, y_test = load_mnist(\"MNIST_data/\", kind=\"t10k\")\n",
    "\n",
    "fig, ax = plt.subplots(nrows=5, ncols=5, sharex=True, sharey=True)\n",
    "ax = ax.flatten()\n",
    "for i in range(25):\n",
    "    img = X_train[y_train == 9][i].reshape(28, 28)\n",
    "    ax[i].imshow(img, cmap=\"Greys\")\n",
    "    \n",
    "ax[0].set_xticks([])\n",
    "ax[0].set_yticks([])\n",
    "plt.tight_layout()\n",
    "plt.show()"
   ]
  },
  {
   "cell_type": "code",
   "execution_count": 15,
   "metadata": {},
   "outputs": [
    {
     "name": "stdout",
     "output_type": "stream",
     "text": [
      "WARNING:tensorflow:From <ipython-input-15-b2e8f0cb0d98>:4: read_data_sets (from tensorflow.contrib.learn.python.learn.datasets.mnist) is deprecated and will be removed in a future version.\n",
      "Instructions for updating:\n",
      "Please use alternatives such as official/mnist/dataset.py from tensorflow/models.\n",
      "WARNING:tensorflow:From d:\\newprogram\\workspace\\tf112\\lib\\site-packages\\tensorflow\\contrib\\learn\\python\\learn\\datasets\\mnist.py:260: maybe_download (from tensorflow.contrib.learn.python.learn.datasets.base) is deprecated and will be removed in a future version.\n",
      "Instructions for updating:\n",
      "Please write your own downloading logic.\n",
      "WARNING:tensorflow:From d:\\newprogram\\workspace\\tf112\\lib\\site-packages\\tensorflow\\contrib\\learn\\python\\learn\\datasets\\mnist.py:262: extract_images (from tensorflow.contrib.learn.python.learn.datasets.mnist) is deprecated and will be removed in a future version.\n",
      "Instructions for updating:\n",
      "Please use tf.data to implement this functionality.\n",
      "Extracting MNIST_data/train-images-idx3-ubyte.gz\n",
      "WARNING:tensorflow:From d:\\newprogram\\workspace\\tf112\\lib\\site-packages\\tensorflow\\contrib\\learn\\python\\learn\\datasets\\mnist.py:267: extract_labels (from tensorflow.contrib.learn.python.learn.datasets.mnist) is deprecated and will be removed in a future version.\n",
      "Instructions for updating:\n",
      "Please use tf.data to implement this functionality.\n",
      "Extracting MNIST_data/train-labels-idx1-ubyte.gz\n",
      "WARNING:tensorflow:From d:\\newprogram\\workspace\\tf112\\lib\\site-packages\\tensorflow\\contrib\\learn\\python\\learn\\datasets\\mnist.py:110: dense_to_one_hot (from tensorflow.contrib.learn.python.learn.datasets.mnist) is deprecated and will be removed in a future version.\n",
      "Instructions for updating:\n",
      "Please use tf.one_hot on tensors.\n",
      "Extracting MNIST_data/t10k-images-idx3-ubyte.gz\n",
      "Extracting MNIST_data/t10k-labels-idx1-ubyte.gz\n",
      "WARNING:tensorflow:From d:\\newprogram\\workspace\\tf112\\lib\\site-packages\\tensorflow\\contrib\\learn\\python\\learn\\datasets\\mnist.py:290: DataSet.__init__ (from tensorflow.contrib.learn.python.learn.datasets.mnist) is deprecated and will be removed in a future version.\n",
      "Instructions for updating:\n",
      "Please use alternatives such as official/mnist/dataset.py from tensorflow/models.\n",
      "0.9194\n"
     ]
    }
   ],
   "source": [
    "from tensorflow.examples.tutorials.mnist import input_data\n",
    "import tensorflow as tf\n",
    "\n",
    "mnist = input_data.read_data_sets(\"MNIST_data/\", one_hot=True)\n",
    "\n",
    "# 定义一个占位符x\n",
    "x = tf.placeholder(tf.float32, [None, 784])  # 张量的形状是[None, 784]，None表第一个维度任意\n",
    "\n",
    "# 定义变量W,b,是可以被修改的张量，用来存放机器学习模型参数\n",
    "W = tf.Variable(tf.zeros([784, 10]))\n",
    "b = tf.Variable(tf.zeros([10]))\n",
    "\n",
    "# 实现模型, y是预测分布\n",
    "y = tf.nn.softmax(tf.matmul(x, W) + b)\n",
    "\n",
    "# 训练模型，y_是实际分布\n",
    "y_ = tf.placeholder(\"float\", [None, 10])\n",
    "cross_entropy = -tf.reduce_sum(y_ * tf.log(y))  # 交叉嫡，cost function\n",
    "\n",
    "# 使用梯度下降来降低cost，学习速率为0.01\n",
    "train_step = tf.train.GradientDescentOptimizer(0.01).minimize(cross_entropy)\n",
    "\n",
    "# 初始化已经创建的变量\n",
    "init = tf.global_variables_initializer()\n",
    "\n",
    "# 在一个Session中启动模型，并初始化变量\n",
    "sess = tf.Session()\n",
    "sess.run(init)\n",
    "\n",
    "# 训练模型，运行6000次，每次随机抽取100个\n",
    "for i in range(1, 6000):\n",
    "    batch_xs, batch_ys = mnist.train.next_batch(100)\n",
    "    sess.run(train_step, feed_dict={x: batch_xs, y_: batch_ys})\n",
    "\n",
    "# 验证正确率\n",
    "correct_prediction = tf.equal(tf.argmax(y, 1), tf.argmax(y_, 1))\n",
    "accuracy = tf.reduce_mean(tf.cast(correct_prediction, 'float'))\n",
    "print(sess.run(accuracy, feed_dict={x: mnist.test.images, y_: mnist.test.labels}))"
   ]
  },
  {
   "cell_type": "code",
   "execution_count": 16,
   "metadata": {},
   "outputs": [
    {
     "name": "stdout",
     "output_type": "stream",
     "text": [
      "Extracting MNIST_data/train-images-idx3-ubyte.gz\n",
      "Extracting MNIST_data/train-labels-idx1-ubyte.gz\n",
      "Extracting MNIST_data/t10k-images-idx3-ubyte.gz\n",
      "Extracting MNIST_data/t10k-labels-idx1-ubyte.gz\n",
      "WARNING:tensorflow:From <ipython-input-16-2ad7d84c2c91>:39: softmax_cross_entropy_with_logits (from tensorflow.python.ops.nn_ops) is deprecated and will be removed in a future version.\n",
      "Instructions for updating:\n",
      "\n",
      "Future major versions of TensorFlow will allow gradients to flow\n",
      "into the labels input on backprop by default.\n",
      "\n",
      "See `tf.nn.softmax_cross_entropy_with_logits_v2`.\n",
      "\n",
      "Iter0,Testing Accuracy0.9477\n",
      "Iter1,Testing Accuracy0.9612\n",
      "Iter2,Testing Accuracy0.9637\n",
      "Iter3,Testing Accuracy0.9661\n",
      "Iter4,Testing Accuracy0.9661\n",
      "Iter5,Testing Accuracy0.9673\n",
      "Iter6,Testing Accuracy0.9683\n",
      "Iter7,Testing Accuracy0.9684\n",
      "Iter8,Testing Accuracy0.9695\n",
      "Iter9,Testing Accuracy0.9693\n",
      "Iter10,Testing Accuracy0.9695\n",
      "Iter11,Testing Accuracy0.9709\n",
      "Iter12,Testing Accuracy0.9697\n",
      "Iter13,Testing Accuracy0.9706\n",
      "Iter14,Testing Accuracy0.9695\n",
      "Iter15,Testing Accuracy0.9701\n",
      "Iter16,Testing Accuracy0.9704\n",
      "Iter17,Testing Accuracy0.9708\n",
      "Iter18,Testing Accuracy0.971\n",
      "Iter19,Testing Accuracy0.9706\n",
      "Iter20,Testing Accuracy0.9706\n"
     ]
    }
   ],
   "source": [
    "import tensorflow as tf\n",
    "from tensorflow.examples.tutorials.mnist import input_data\n",
    "  \n",
    "#载入数据集\n",
    "mnist=input_data.read_data_sets('MNIST_data/',one_hot=True)\n",
    "  \n",
    "#设置每个批次的大小\n",
    "batch_size=100\n",
    "#计算一共有多少个批次\n",
    "n_batch=mnist.train.num_examples//batch_size\n",
    "  \n",
    "#定义三个placeholder\n",
    "x=tf.placeholder(tf.float32,[None,784])\n",
    "y=tf.placeholder(tf.float32,[None,10])\n",
    "keep_prob=tf.placeholder(tf.float32)  #存放百分率\n",
    "  \n",
    "#创建一个多层神经网络模型\n",
    "#第一个隐藏层\n",
    "W1=tf.Variable(tf.truncated_normal([784,2000],stddev=0.1))\n",
    "b1=tf.Variable(tf.zeros([2000])+0.1)\n",
    "L1=tf.nn.tanh(tf.matmul(x,W1)+b1)\n",
    "L1_drop=tf.nn.dropout(L1,keep_prob) #keep_prob设置工作状态神经元的百分率\n",
    "#第二个隐藏层\n",
    "W2=tf.Variable(tf.truncated_normal([2000,2000],stddev=0.1))\n",
    "b2=tf.Variable(tf.zeros([2000])+0.1)\n",
    "L2=tf.nn.tanh(tf.matmul(L1_drop,W2)+b2)\n",
    "L2_drop=tf.nn.dropout(L2,keep_prob)\n",
    "#第三个隐藏层\n",
    "W3=tf.Variable(tf.truncated_normal([2000,1000],stddev=0.1))\n",
    "b3=tf.Variable(tf.zeros([1000])+0.1)\n",
    "L3=tf.nn.tanh(tf.matmul(L2_drop,W3)+b3)\n",
    "L3_drop=tf.nn.dropout(L3,keep_prob)\n",
    "#输出层\n",
    "W4=tf.Variable(tf.truncated_normal([1000,10],stddev=0.1))\n",
    "b4=tf.Variable(tf.zeros([10])+0.1)\n",
    "prediction=tf.nn.softmax(tf.matmul(L3_drop,W4)+b4)\n",
    "  \n",
    "#定义交叉熵代价函数\n",
    "loss=tf.reduce_mean(tf.nn.softmax_cross_entropy_with_logits(labels=y,logits=prediction))\n",
    "#定义反向传播算法（使用梯度下降算法）\n",
    "train_step=tf.train.GradientDescentOptimizer(0.2).minimize(loss)\n",
    "  \n",
    "#结果存放在一个布尔型列表中(argmax函数返回一维张量中最大的值所在的位置)\n",
    "correct_prediction=tf.equal(tf.argmax(y,1),tf.argmax(prediction,1))\n",
    "  \n",
    "#求准确率(tf.cast将布尔值转换为float型)\n",
    "accuracy=tf.reduce_mean(tf.cast(correct_prediction,tf.float32))\n",
    "  \n",
    "#创建会话\n",
    "with tf.Session() as sess:\n",
    "    sess.run(tf.global_variables_initializer()) #初始化变量\n",
    "    #训练次数\n",
    "    for i in range(21):\n",
    "        for batch in range(n_batch):\n",
    "            batch_xs,batch_ys=mnist.train.next_batch(batch_size)\n",
    "            sess.run(train_step,feed_dict={x:batch_xs,y:batch_ys,keep_prob:1.0})\n",
    "        #测试数据计算出的准确率\n",
    "        test_acc=sess.run(accuracy,feed_dict={x:mnist.test.images,y:mnist.test.labels,keep_prob:1.0})\n",
    "        print(\"Iter\"+str(i)+\",Testing Accuracy\"+str(test_acc))"
   ]
  },
  {
   "cell_type": "code",
   "execution_count": null,
   "metadata": {},
   "outputs": [],
   "source": []
  }
 ],
 "metadata": {
  "kernelspec": {
   "display_name": "Python 3",
   "language": "python",
   "name": "python3"
  },
  "language_info": {
   "codemirror_mode": {
    "name": "ipython",
    "version": 3
   },
   "file_extension": ".py",
   "mimetype": "text/x-python",
   "name": "python",
   "nbconvert_exporter": "python",
   "pygments_lexer": "ipython3",
   "version": "3.7.4"
  }
 },
 "nbformat": 4,
 "nbformat_minor": 4
}
