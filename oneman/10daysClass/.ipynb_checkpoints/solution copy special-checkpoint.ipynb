{
 "cells": [
  {
   "cell_type": "markdown",
   "metadata": {},
   "source": [
    "- 找到特定的文件\n",
    "- 拷贝到特定的地方\n",
    "- 并且可以打包\n"
   ]
  },
  {
   "cell_type": "code",
   "execution_count": 3,
   "metadata": {},
   "outputs": [],
   "source": [
    "import sys\n",
    "import re\n",
    "import os\n",
    "import shutil\n",
    "#import commands\n",
    "import zipfile"
   ]
  },
  {
   "cell_type": "code",
   "execution_count": 4,
   "metadata": {},
   "outputs": [],
   "source": [
    "def zip_to(paths, newfile):\n",
    "    \"\"\"Zip up all of the given files into a new zip file with the given name.\"\"\"\n",
    "    print('creating archive',newfile)\n",
    "    zf = zipfile.ZipFile(newfile, 'w')\n",
    "    try:\n",
    "        for file in paths:\n",
    "            zf.write(file)\n",
    "    finally:\n",
    "        print('closing')\n",
    "        zf.close()"
   ]
  },
  {
   "cell_type": "code",
   "execution_count": 5,
   "metadata": {
    "run_control": {
     "frozen": false,
     "read_only": false
    }
   },
   "outputs": [],
   "source": [
    "def get_special_paths(dirname):\n",
    "    \"\"\"Given a dirname, returns a list of all its special files.\"\"\"\n",
    "    result = []\n",
    "    paths = os.listdir(dirname)  # list of paths in that dir\n",
    "    for fname in paths:\n",
    "        match = re.search(r'__(\\w+)__', fname)\n",
    "        if match:\n",
    "            result.append(os.path.abspath(os.path.join(dirname, fname)))\n",
    "    return result"
   ]
  },
  {
   "cell_type": "code",
   "execution_count": 6,
   "metadata": {},
   "outputs": [],
   "source": [
    "def copy_to(paths, to_dir):\n",
    "    \"\"\"Copy all of the given files to the given dir, creating it if necessary.\"\"\"\n",
    "    if not os.path.exists(to_dir):\n",
    "        os.mkdir(to_dir)\n",
    "    for path in paths:\n",
    "        fname = os.path.basename(path)\n",
    "        shutil.copy(path, os.path.join(to_dir, fname))\n",
    "        # could error out if already exists os.path.exists():"
   ]
  },
  {
   "cell_type": "code",
   "execution_count": 8,
   "metadata": {},
   "outputs": [
    {
     "name": "stdout",
     "output_type": "stream",
     "text": [
      "['D:\\\\python_using\\\\text01\\\\stickman\\\\oneman\\\\hello\\\\xyz__hello__.txt', 'D:\\\\python_using\\\\text01\\\\stickman\\\\oneman\\\\hello\\\\zz__something__.jpg']\n",
      "creating archive zipdir.zip\n",
      "closing\n"
     ]
    }
   ],
   "source": [
    "paths = []\n",
    "todir = \"\"\n",
    "tozip = \"zipdir.zip\"\n",
    "for dirname in [\".\",\"hello\"]:\n",
    "    paths.extend(get_special_paths(dirname))\n",
    "print(paths)\n",
    "\n",
    "if todir:\n",
    "    copy_to(paths, todir)\n",
    "elif tozip:\n",
    "    zip_to(paths, tozip)\n",
    "else:\n",
    "    print('\\n'.join(paths))"
   ]
  },
  {
   "cell_type": "code",
   "execution_count": null,
   "metadata": {},
   "outputs": [],
   "source": []
  }
 ],
 "metadata": {
  "kernelspec": {
   "display_name": "Python 3",
   "language": "python",
   "name": "python3"
  },
  "language_info": {
   "codemirror_mode": {
    "name": "ipython",
    "version": 3
   },
   "file_extension": ".py",
   "mimetype": "text/x-python",
   "name": "python",
   "nbconvert_exporter": "python",
   "pygments_lexer": "ipython3",
   "version": "3.7.4"
  }
 },
 "nbformat": 4,
 "nbformat_minor": 2
}
