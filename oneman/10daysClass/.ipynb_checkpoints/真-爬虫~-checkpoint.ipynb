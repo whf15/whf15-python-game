{
 "cells": [
  {
   "cell_type": "code",
   "execution_count": 2,
   "metadata": {
    "run_control": {
     "frozen": false,
     "read_only": false
    }
   },
   "outputs": [],
   "source": [
    "from bs4 import BeautifulSoup\n",
    "import urllib\n",
    "import re\n",
    "import pandas as pd\n",
    "import requests\n",
    "from urllib.request import urlopen\n",
    "from urllib.parse import urlparse\n",
    "import os"
   ]
  },
  {
   "cell_type": "code",
   "execution_count": null,
   "metadata": {
    "collapsed": true,
    "run_control": {
     "frozen": false,
     "read_only": false
    }
   },
   "outputs": [],
   "source": [
    "def search_on_baidu(keywords):\n",
    "    baidu_search = \"http://www.baidu.com/s?wd=\"+keywords\n",
    "    baidu_response = requests.get(baidu_search)\n",
    "    return baidu_response.text"
   ]
  },
  {
   "cell_type": "code",
   "execution_count": null,
   "metadata": {
    "run_control": {
     "frozen": false,
     "read_only": false
    }
   },
   "outputs": [],
   "source": [
    "seed_page = search_on_baidu(\"王者荣耀\")"
   ]
  },
  {
   "cell_type": "code",
   "execution_count": null,
   "metadata": {
    "run_control": {
     "frozen": false,
     "read_only": false
    }
   },
   "outputs": [],
   "source": [
    "seed_page = search_on_baidu(\"王者荣耀\")\n",
    "\n",
    "soup = BeautifulSoup(seed_page, 'lxml')\n"
   ]
  },
  {
   "cell_type": "code",
   "execution_count": null,
   "metadata": {
    "run_control": {
     "frozen": false,
     "read_only": false
    }
   },
   "outputs": [],
   "source": [
    "all_result=soup.find_all('div',attrs={'class':['result']})"
   ]
  },
  {
   "cell_type": "code",
   "execution_count": null,
   "metadata": {
    "code_folding": [],
    "run_control": {
     "frozen": false,
     "read_only": false
    }
   },
   "outputs": [],
   "source": [
    "all_seeds = [item['href'] \n",
    "             for result in all_result \n",
    "             for item in result.find_all('a') \n",
    "             if 'href' in item.attrs and 'data-click' in item.attrs]"
   ]
  },
  {
   "cell_type": "code",
   "execution_count": null,
   "metadata": {
    "collapsed": true,
    "run_control": {
     "frozen": false,
     "read_only": false
    }
   },
   "outputs": [],
   "source": []
  },
  {
   "cell_type": "code",
   "execution_count": null,
   "metadata": {
    "run_control": {
     "frozen": false,
     "read_only": false
    }
   },
   "outputs": [],
   "source": [
    "all_seeds = [seed for seed in all_seeds \n",
    "             if not seed.startswith(\"http://cache\") and not seed.startswith(\"https\")]"
   ]
  },
  {
   "cell_type": "code",
   "execution_count": null,
   "metadata": {
    "run_control": {
     "frozen": false,
     "read_only": false
    }
   },
   "outputs": [],
   "source": [
    "all_seeds"
   ]
  },
  {
   "cell_type": "code",
   "execution_count": null,
   "metadata": {
    "run_control": {
     "frozen": false,
     "read_only": false
    }
   },
   "outputs": [],
   "source": [
    "baidu_search = \"http://www.baidu.com/link?url=QzgJ4xRympelmMFHwU67u8we3uIyRVGCS9yVFw0FARq\"\n",
    "baidu_response = requests.get(baidu_search)\n",
    "print(baidu_response)"
   ]
  },
  {
   "cell_type": "code",
   "execution_count": null,
   "metadata": {
    "run_control": {
     "frozen": false,
     "read_only": false
    }
   },
   "outputs": [],
   "source": [
    "baidu_response.headers"
   ]
  },
  {
   "cell_type": "markdown",
   "metadata": {
    "run_control": {
     "frozen": false,
     "read_only": false
    }
   },
   "source": [
    " - 一个一个页面爬链接\n",
    " - 处理完一个页面， 再处理其所含链接\n",
    " - "
   ]
  },
  {
   "cell_type": "code",
   "execution_count": 2,
   "metadata": {
    "collapsed": true,
    "run_control": {
     "frozen": false,
     "read_only": false
    }
   },
   "outputs": [],
   "source": [
    "def get_page(page_url):\n",
    "    \"\"\"\n",
    "    based on the url, get the page information\n",
    "    \"\"\"\n",
    "    try:\n",
    "        r = requests.get(page_url)        \n",
    "        return r.text\n",
    "    except Exception as inst:\n",
    "        return None"
   ]
  },
  {
   "cell_type": "code",
   "execution_count": 3,
   "metadata": {
    "collapsed": true,
    "run_control": {
     "frozen": false,
     "read_only": false
    }
   },
   "outputs": [],
   "source": [
    "## string find version\n",
    "def get_all_links(page):\n",
    "    links = []\n",
    "    while True:\n",
    "        url, endpos = get_next_target(page)\n",
    "        if url:\n",
    "            print(url)\n",
    "            page = page[endpos:]\n",
    "        else:\n",
    "            break"
   ]
  },
  {
   "cell_type": "code",
   "execution_count": null,
   "metadata": {
    "run_control": {
     "frozen": false,
     "read_only": false
    }
   },
   "outputs": [],
   "source": []
  },
  {
   "cell_type": "code",
   "execution_count": 4,
   "metadata": {
    "run_control": {
     "frozen": false,
     "read_only": false
    }
   },
   "outputs": [],
   "source": [
    "## beautiful soup version \n",
    "\n",
    "def get_all_links(page):\n",
    "    soup = BeautifulSoup(page, 'lxml')\n",
    "\n",
    "    all_links = [item['href'] \n",
    "                 for item in soup.find_all('a') \n",
    "                 if 'href' in item.attrs]\n",
    "    return all_links"
   ]
  },
  {
   "cell_type": "markdown",
   "metadata": {
    "run_control": {
     "frozen": false,
     "read_only": false
    }
   },
   "source": [
    "## 我们不想处理静态文件链接\n",
    "\n",
    "starting crawing http://dldir1.qq.com/dlomg/qqcom/mini/QQNewsMini6.exe\n"
   ]
  },
  {
   "cell_type": "code",
   "execution_count": 6,
   "metadata": {
    "collapsed": true,
    "run_control": {
     "frozen": false,
     "read_only": false
    }
   },
   "outputs": [],
   "source": [
    "test = [1,3,4,5,6]\n",
    "test.remove(5)"
   ]
  },
  {
   "cell_type": "code",
   "execution_count": 7,
   "metadata": {
    "run_control": {
     "frozen": false,
     "read_only": false
    }
   },
   "outputs": [
    {
     "data": {
      "text/plain": [
       "[1, 3, 4, 6]"
      ]
     },
     "execution_count": 7,
     "metadata": {},
     "output_type": "execute_result"
    }
   ],
   "source": [
    "test"
   ]
  },
  {
   "cell_type": "code",
   "execution_count": null,
   "metadata": {
    "run_control": {
     "frozen": false,
     "read_only": false
    }
   },
   "outputs": [],
   "source": [
    "parsed_url = urlparse(\"http://dlied5.myapp.com/myapp/1104466820/sgame/2017_com.tencent.tmgp.sgame_h157_1.31.4.29.apk\")\n",
    "if parsed_url.path:\n",
    "    file_path, ext_name = os.path.splitext(parsed_url.path)\n",
    "    print(file_path, ext_name)"
   ]
  },
  {
   "cell_type": "code",
   "execution_count": 5,
   "metadata": {
    "run_control": {
     "frozen": false,
     "read_only": false
    }
   },
   "outputs": [],
   "source": [
    "## beautiful soup version \n",
    "def get_all_links(page):\n",
    "    soup = BeautifulSoup(page, 'lxml')\n",
    "\n",
    "    all_links = [item['href'] \n",
    "                 for item in soup.find_all('a') \n",
    "                 if 'href' in item.attrs]\n",
    "    if all_links:\n",
    "        all_links = [link.strip(\"/\") for link in all_links \n",
    "                     if link.startswith(\"http\") or link.startswith(\"//\")]\n",
    "\n",
    "        ## filter as early as possible\n",
    "        for link in all_links:\n",
    "            parsed_url = urlparse(link)\n",
    "            if parsed_url.path:\n",
    "                file_path, ext_name = os.path.splitext(parsed_url.path)\n",
    "                if ext_name in ('.mp4', '.avi', '.asf', \n",
    "                                '.mov', '.flv', '.pdf',\n",
    "                                '.mpg', '.mpeg', '.wmv',\n",
    "                                '.exe','.rar','.zip','.apk'):\n",
    "                    print(\"skip file download\",link)\n",
    "                    all_links.remove(link)\n",
    "        return all_links\n",
    "    else:\n",
    "        return None"
   ]
  },
  {
   "cell_type": "code",
   "execution_count": 6,
   "metadata": {
    "collapsed": true,
    "run_control": {
     "frozen": false,
     "read_only": false
    }
   },
   "outputs": [],
   "source": [
    "def get_page(page_url):\n",
    "    \"\"\"\n",
    "    based on the url, get the page information\n",
    "    \"\"\"\n",
    "    try:\n",
    "        r = requests.get(page_url)\n",
    "        if 'Content-Type' in r.headers and r.headers['Content-Type'] == 'text/html':\n",
    "            return r.text\n",
    "        else:\n",
    "            return None\n",
    "    except Exception as inst:\n",
    "        return None"
   ]
  },
  {
   "cell_type": "markdown",
   "metadata": {
    "run_control": {
     "frozen": false,
     "read_only": false
    }
   },
   "source": [
    "### we need a function to merge to list"
   ]
  },
  {
   "cell_type": "code",
   "execution_count": 7,
   "metadata": {
    "collapsed": true,
    "run_control": {
     "frozen": false,
     "read_only": false
    }
   },
   "outputs": [],
   "source": [
    "def union(p,q):\n",
    "    for e in q:\n",
    "        if e not in p:\n",
    "            p.append(e)"
   ]
  },
  {
   "cell_type": "code",
   "execution_count": 8,
   "metadata": {
    "collapsed": true,
    "run_control": {
     "frozen": false,
     "read_only": false
    }
   },
   "outputs": [],
   "source": [
    "def crawl_web(seed):\n",
    "    tocrawl = seed\n",
    "    crawled = []\n",
    "    while tocrawl:\n",
    "        page_url = tocrawl.pop()\n",
    "        print(\"starting crawing\",page_url)\n",
    "        if page_url not in crawled:\n",
    "            union(tocrawl, get_all_links(get_page(page_url)))\n",
    "            crawled.append(page_url)\n",
    "    return crawled   "
   ]
  },
  {
   "cell_type": "code",
   "execution_count": 9,
   "metadata": {
    "run_control": {
     "frozen": false,
     "read_only": false
    },
    "scrolled": false
   },
   "outputs": [],
   "source": [
    "#all_crawed = crawl_web(all_seeds)"
   ]
  },
  {
   "cell_type": "code",
   "execution_count": 10,
   "metadata": {
    "collapsed": true,
    "run_control": {
     "frozen": false,
     "read_only": false
    }
   },
   "outputs": [],
   "source": [
    "def crawl_web(seed):\n",
    "    tocrawl = seed\n",
    "    crawled = []\n",
    "    while tocrawl:\n",
    "        page_url = tocrawl.pop()\n",
    "        print(\"starting crawing\",page_url)\n",
    "        if page_url not in crawled:\n",
    "            page_content= get_page(page_url)\n",
    "            if page_content:\n",
    "                all_links_onpage = get_all_links(page_content)\n",
    "                if all_links_onpage: #if we got any link on the pages\n",
    "                    union(tocrawl, all_links_onpage)\n",
    "            crawled.append(page_url)\n",
    "    return crawled "
   ]
  },
  {
   "cell_type": "markdown",
   "metadata": {
    "run_control": {
     "frozen": false,
     "read_only": false
    }
   },
   "source": [
    "### 爬所有的？"
   ]
  },
  {
   "cell_type": "code",
   "execution_count": 11,
   "metadata": {
    "collapsed": true,
    "run_control": {
     "frozen": false,
     "read_only": false
    }
   },
   "outputs": [],
   "source": [
    "## max_pages solution\n",
    "def crawl_web(seed, max_pages):\n",
    "    \"\"\"\n",
    "    max pages solution\n",
    "    \"\"\"        \n",
    "    tocrawl = seed\n",
    "    crawled = []\n",
    "    while tocrawl:\n",
    "        page_url = tocrawl.pop()\n",
    "        print(\"starting crawing\",page_url)\n",
    "        if page_url not in crawled and len(crawled) < max_pages:\n",
    "            page_content= get_page(page_url)\n",
    "            if page_content:\n",
    "                all_links_onpage = get_all_links(page_content)\n",
    "                if all_links_onpage: #if we got any link on the pages\n",
    "                    union(tocrawl, all_links_onpage)\n",
    "            crawled.append(page_url)\n",
    "    return crawled "
   ]
  },
  {
   "cell_type": "code",
   "execution_count": null,
   "metadata": {
    "collapsed": true,
    "run_control": {
     "frozen": false,
     "read_only": false
    }
   },
   "outputs": [],
   "source": []
  },
  {
   "cell_type": "code",
   "execution_count": 12,
   "metadata": {
    "collapsed": true,
    "run_control": {
     "frozen": false,
     "read_only": false
    }
   },
   "outputs": [],
   "source": [
    "def crawl_web(seed,max_depth):\n",
    "    tocrawl = seed\n",
    "    crawled = []\n",
    "    next_depth = []\n",
    "    depth = 0    \n",
    "    while tocrawl and depth <= max_depth:\n",
    "        page_url = tocrawl.pop()\n",
    "        print(\"starting crawing\",page_url)\n",
    "        if page_url not in crawled:\n",
    "            page_content= get_page(page_url)\n",
    "            if page_content:\n",
    "                all_links_onpage = get_all_links(page_content)\n",
    "                if all_links_onpage: #if we got any link on the pages\n",
    "                    union(next_depth, all_links_onpage)\n",
    "            crawled.append(page_url)\n",
    "\n",
    "        if not tocrawl:\n",
    "            print(\"next round\")            \n",
    "            tocrawl, next_depth = next_depth, []\n",
    "            depth = depth + 1\n",
    "            \n",
    "    return crawled     "
   ]
  },
  {
   "cell_type": "code",
   "execution_count": 16,
   "metadata": {
    "run_control": {
     "frozen": false,
     "read_only": false
    },
    "scrolled": true
   },
   "outputs": [],
   "source": [
    "all_seeds = ['http://www.baidu.com/link?url=WG24npTa_esGBWGowM7AwbfE89O5-kayPil32UCog8u',\n",
    " 'http://www.baidu.com/tools?url=http%3A%2F%2Fwww.baidu.com%2Flink%3Furl%3DWG24npTa_esGBWGowM7AwbfE89O5-kayPil32UCog8u&jump=http%3A%2F%2Fkoubei.baidu.com%2Fp%2Fsentry%3Ftitle%3D%02%E7%8E%8B%E8%80%85%01%E8%8D%A3%E8%80%80%03%E5%AE%98%E6%96%B9%01%E7%BD%91%E7%AB%99%01-%01%E8%85%BE%E8%AE%AF%01%E6%B8%B8%E6%88%8F%01%26q%3D%E7%8E%8B%E8%80%85%E8%8D%A3%E8%80%80%26from%3Dps_pc4&key=surl',\n",
    " 'http://www.baidu.com/link?url=4Ztof3OKJWS3d-STmizZzRpfMSMohrxIDi1KszkhYEIf1STJTVkiq93o47_P_6ia37bhG5y18uJe1FkmKWZPrq',\n",
    " 'http://www.baidu.com/link?url=WRNtTgOWbNmShMTfC6dR5gjyd66YEl_BlQV4JyoIli0zI27L__KRLHfauv1B20eRzEEP4yDdjai1CeNdKyaxh27kco4j0eoZStJOFBqDRq7',\n",
    " 'http://www.baidu.com/link?url=p3dtT2x_SOnaoL3f07nzqqC3jHF-bwHQCgL7s_LxrU9fFTfnZw5kWgQMsDG5yw62',\n",
    " 'http://www.baidu.com/link?url=9Hf047idLOOXSQvHoCS4VL14SB0jCB_T1l_0Pb949xS4DpMatrdmR4K3v-SPGwKD',\n",
    " 'http://www.baidu.com/link?url=l1qX2IKSzDV-u8TJtqpV-UhGYVRVUm1eQOSBRZEyknPjeV-GnfHUvM0DXxjG3P3-xbqxBgHGGpiIrbvX2sGnu_']\n",
    "#all_crawed = crawl_web(all_seeds,max_depth=1)"
   ]
  },
  {
   "cell_type": "markdown",
   "metadata": {
    "run_control": {
     "frozen": false,
     "read_only": false
    }
   },
   "source": [
    "### 忽略这些东西， 放入 hero seeds"
   ]
  },
  {
   "cell_type": "code",
   "execution_count": 1,
   "metadata": {
    "run_control": {
     "frozen": false,
     "read_only": false
    }
   },
   "outputs": [
    {
     "ename": "UnicodeDecodeError",
     "evalue": "'gbk' codec can't decode byte 0x80 in position 120: illegal multibyte sequence",
     "output_type": "error",
     "traceback": [
      "\u001b[1;31m---------------------------------------------------------------------------\u001b[0m",
      "\u001b[1;31mUnicodeDecodeError\u001b[0m                        Traceback (most recent call last)",
      "\u001b[1;32m<ipython-input-1-3ca7439a25ed>\u001b[0m in \u001b[0;36m<module>\u001b[1;34m\u001b[0m\n\u001b[0;32m      1\u001b[0m \u001b[0mcontent\u001b[0m\u001b[1;33m=\u001b[0m \u001b[1;32mNone\u001b[0m\u001b[1;33m\u001b[0m\u001b[1;33m\u001b[0m\u001b[0m\n\u001b[0;32m      2\u001b[0m \u001b[1;32mwith\u001b[0m \u001b[0mopen\u001b[0m\u001b[1;33m(\u001b[0m\u001b[1;34m'wangzhe.html'\u001b[0m\u001b[1;33m)\u001b[0m \u001b[1;32mas\u001b[0m \u001b[0mhtml_data\u001b[0m\u001b[1;33m:\u001b[0m\u001b[1;33m\u001b[0m\u001b[1;33m\u001b[0m\u001b[0m\n\u001b[1;32m----> 3\u001b[1;33m     \u001b[0mcontent\u001b[0m\u001b[1;33m=\u001b[0m \u001b[0mhtml_data\u001b[0m\u001b[1;33m.\u001b[0m\u001b[0mread\u001b[0m\u001b[1;33m(\u001b[0m\u001b[1;33m)\u001b[0m\u001b[1;33m\u001b[0m\u001b[1;33m\u001b[0m\u001b[0m\n\u001b[0m\u001b[0;32m      4\u001b[0m     \u001b[0mprint\u001b[0m\u001b[1;33m(\u001b[0m\u001b[0mcontent\u001b[0m\u001b[1;33m)\u001b[0m\u001b[1;33m\u001b[0m\u001b[1;33m\u001b[0m\u001b[0m\n",
      "\u001b[1;31mUnicodeDecodeError\u001b[0m: 'gbk' codec can't decode byte 0x80 in position 120: illegal multibyte sequence"
     ]
    }
   ],
   "source": [
    "content= None\n",
    "with open('wangzhe.html') as html_data:\n",
    "    content= html_data.read()\n",
    "    print(content)"
   ]
  },
  {
   "cell_type": "code",
   "execution_count": 31,
   "metadata": {
    "run_control": {
     "frozen": false,
     "read_only": false
    }
   },
   "outputs": [],
   "source": [
    "wangzhe_soup = BeautifulSoup(content, 'lxml')"
   ]
  },
  {
   "cell_type": "code",
   "execution_count": 44,
   "metadata": {
    "run_control": {
     "frozen": false,
     "read_only": false
    }
   },
   "outputs": [
    {
     "data": {
      "text/plain": [
       "'\\n\\n\\n王者荣耀改!\\n\\n\\n\\n\\n\\n\\n综合\\n定位\\n\\n\\n\\n\\n本周免费\\n\\n\\n\\n新手推荐\\n\\n\\n\\n\\n\\n全部\\n\\n\\n\\n坦克\\n\\n\\n\\n战士\\n\\n\\n\\n刺客\\n\\n\\n\\n法师\\n\\n\\n\\n射手\\n\\n\\n\\n辅助\\n\\n\\n\\n\\n输入英雄不存在，请重新输入\\n\\n苏烈\\n定位:坦克|战士|战士皮肤:不屈铁壁|爱与和平\\n百里玄策定位:刺客|全部皮肤:嚣狂之镰|威尼斯狂欢\\n百里守约定位:射手|全部|刺客皮肤:静谧之眼|绝影神枪\\n铠定位:战士|全部|坦克皮肤:破灭刃锋|龙域领主\\n鬼谷子定位:辅助|全部皮肤:万物有灵|阿摩司公爵\\n干将莫邪定位:法师|全部皮肤:淬命双剑|第七人偶\\n东皇太一定位:坦克|全部皮肤:噬灭日蚀|东海龙王\\n大乔定位:辅助|全部皮肤:沧海之曜|伊势巫女\\n黄忠定位:射手|全部皮肤:燃魂重炮|芝加哥教父\\n诸葛亮定位:法师|全部皮肤:绝代智谋|星航指挥官|黄金分割率\\n哪吒定位:战士|全部皮肤:桀骜炎枪|三太子\\n太乙真人定位:辅助|全部|坦克皮肤:炼金大师|圆桌骑士\\n蔡文姬定位:辅助|全部皮肤:天籁弦音|蔷薇王座\\n雅典娜定位:战士|全部|坦克皮肤:圣域余晖|战争女神\\n杨戬定位:战士|全部皮肤:根源之目|埃及法老\\n成吉思汗定位:射手|全部皮肤:苍狼末裔|维京掠夺者\\n钟馗定位:法师|全部|战士皮肤:虚灵城判|地府判官\\n虞姬定位:射手|全部皮肤:森之风灵|加勒比小姐|霸王别姬|凯尔特女王\\n李元芳定位:射手|全部皮肤:王都密探|特种部队|黑猫爱糖果\\n张飞定位:坦克|全部|辅助皮肤:禁血狂兽|五福同心|乱世虎臣\\n刘备定位:战士|全部皮肤:仁德义枪|万事如意|纽约教父|汉昭烈帝\\n后羿定位:射手|全部皮肤:半神之弓|精灵王|阿尔法小队\\n牛魔定位:坦克|全部|辅助皮肤:精英酋长|西部大镖客\\n孙悟空定位:战士|全部|刺客皮肤:齐天大圣|地狱火|西部大镖客|美猴王|至尊宝\\n亚瑟定位:战士|全部|坦克皮肤:圣骑之力|死亡骑士|狮心王\\n橘右京定位:刺客|全部|战士皮肤:神梦一刀\\n娜可露露定位:刺客|全部皮肤:鹰之守护\\n不知火舞定位:法师|全部|刺客皮肤:明媚烈焰\\n张良定位:法师|全部皮肤:言灵之书|天堂福音|一千零一夜\\n花木兰定位:战士|全部|刺客皮肤:传说之刃|剑舞者|兔女郎|水晶猎龙者\\n兰陵王定位:刺客|全部皮肤:暗影刀锋|隐刃|暗隐猎兽者\\n王昭君定位:法师|全部皮肤:冰雪之华|精灵公主|偶像歌手|凤凰于飞\\n韩信定位:刺客|全部|战士皮肤:国士无双|街头霸王|教廷特使|白龙吟|逐梦之影\\n刘邦定位:坦克|全部|辅助皮肤:双面君主|圣殿之光|德古拉伯爵\\n姜子牙定位:法师|全部|辅助皮肤:太古魔导|时尚教父\\n露娜定位:战士|全部|法师皮肤:月光之女|哥特玫瑰|绯红之刃|紫霞仙子\\n程咬金定位:坦克|全部|战士皮肤:热烈之斧|爱与正义|星际陆战队|华尔街大亨\\n安琪拉定位:法师|全部皮肤:暗夜萝莉|玩偶对对碰|魔法小厨娘\\n貂蝉定位:法师|全部|刺客皮肤:绝世舞姬|异域舞娘|圣诞恋歌|逐梦之音|仲夏夜之梦\\n关羽定位:战士|全部|坦克皮肤:一骑当千|天启骑士|冰锋战神|龙腾万里\\n老夫子定位:战士|全部皮肤:万古长明|潮流仙人|圣诞老人\\n武则天定位:法师|全部皮肤:女帝|东方不败|海洋之心\\n项羽定位:坦克|全部皮肤:霸王|帝国元帅|苍穹之光|海滩派对|职棒王牌|霸王别姬\\n达摩定位:战士|全部皮肤:拳僧|大发明家|拳王\\n狄仁杰定位:射手|全部皮肤:断案大师|锦衣卫|魔术师|超时空战士|阴阳师\\n马可波罗定位:射手|全部皮肤:远游之枪|激情绿茵\\n李白定位:刺客|全部|战士皮肤:青莲剑仙|范海辛|千年之狐|凤求凰\\n宫本武藏定位:战士|全部皮肤:剑圣|鬼剑武藏|未来纪元|万象初新|地狱之眼\\n典韦定位:战士|全部皮肤:狂战士|黄金武士\\n曹操定位:战士|全部皮肤:鲜血枭雄|超能战警|幽灵船长|死神来了\\n甄姬定位:法师|全部皮肤:洛神降临|冰雪圆舞曲|花好人间\\n夏侯惇定位:坦克|全部|战士皮肤:不羁之风|战争骑士|乘风破浪\\n周瑜定位:法师|全部皮肤:铁血都督|海军大将|真爱至上\\n吕布定位:战士|全部|坦克皮肤:无双之魔|圣诞狂欢|天魔缭乱|末日机甲\\n芈月定位:法师|全部|坦克皮肤:永恒之月|红桃皇后|大秦宣太后\\n白起定位:坦克|全部皮肤:最终兵器|白色死神|狰\\n扁鹊定位:法师|全部|辅助皮肤:善恶怪医|红莲之瞳|化身博士|炼金王\\n孙膑定位:辅助|全部|法师皮肤:逆流之时|未来旅行|天使之翼|妖精王\\n钟无艳定位:战士|全部|坦克皮肤:野蛮之锤|生化警戒|王者之锤|海滩丽影\\n阿轲定位:刺客|全部皮肤:信念之刃|爱心护理|暗夜猫娘|致命风华\\n高渐离定位:法师|全部皮肤:叛逆吟游|金属狂潮|死亡摇滚\\n刘禅定位:坦克|全部皮肤:暴走机关|英喵野望|绅士熊喵\\n庄周定位:辅助|全部|坦克皮肤:逍遥幻梦|鲤鱼之梦|蜃楼王\\n鲁班七号定位:射手|全部皮肤:机关造物|木偶奇遇记|福禄兄弟|电玩小子\\n孙尚香定位:射手|全部皮肤:千金重弩|火炮千金|水果甜心|蔷薇恋人|杀手不太冷|末日机甲\\n嬴政定位:法师|全部皮肤:王者独尊|摇滚巨星|暗夜贵公子|优雅恋人\\n妲己定位:法师|全部皮肤:魅惑之狐|女仆咖啡|魅力维加斯|仙境爱丽丝|少女阿狸|热情桑巴\\n墨子定位:法师|全部|坦克皮肤:和平守望|金属风暴|龙骑士|进击墨子号\\n赵云定位:战士|全部|刺客皮肤:苍天翔龙|忍●炎影|未来纪元|皇家上将|嘻哈天王|白执事|引擎之心\\n小乔定位:法师|全部皮肤:恋之微风|万圣前夜|天鹅之梦|纯白花嫁|缤纷独角兽\\n廉颇定位:坦克|全部皮肤:正义爆轰|地狱岩魂\\n\\n\\n\\n\\n\\n'"
      ]
     },
     "execution_count": 44,
     "metadata": {},
     "output_type": "execute_result"
    }
   ],
   "source": [
    "wangzhe_soup.text"
   ]
  },
  {
   "cell_type": "code",
   "execution_count": 43,
   "metadata": {
    "run_control": {
     "frozen": false,
     "read_only": false
    }
   },
   "outputs": [
    {
     "name": "stdout",
     "output_type": "stream",
     "text": [
      "<style type=\"text/css\">\n",
      ".clearfix:after {\n",
      "    content: '\\20';\n",
      "    display: block;\n",
      "    height: 0;\n",
      "    line-height: 0;\n",
      "    visibility: hidden;\n",
      "    clear: both;\n",
      "}    \n",
      ".herolist-content li {\n",
      "    float: left;\n",
      "    width: 500px;\n",
      "}   \n",
      "    </style>\n"
     ]
    }
   ],
   "source": [
    "for script in wangzhe_soup([\"script\", \"style\"]):\n",
    "    script.extract()  \n"
   ]
  },
  {
   "cell_type": "code",
   "execution_count": null,
   "metadata": {
    "run_control": {
     "frozen": false,
     "read_only": false
    },
    "scrolled": true
   },
   "outputs": [],
   "source": [
    "wangzhe_soup.title"
   ]
  },
  {
   "cell_type": "code",
   "execution_count": null,
   "metadata": {
    "run_control": {
     "frozen": false,
     "read_only": false
    }
   },
   "outputs": [],
   "source": [
    "all_heros = [item['href'] \n",
    "             for item in wangzhe_soup.findAll('a')\n",
    "             if 'href' in item.attrs and item['href'].startswith(\"http\")]"
   ]
  },
  {
   "cell_type": "code",
   "execution_count": 72,
   "metadata": {
    "collapsed": true,
    "run_control": {
     "frozen": false,
     "read_only": false
    }
   },
   "outputs": [],
   "source": [
    "page = get_page(\"http://pvp.qq.com/web201605/herodetail/194.shtml\")"
   ]
  },
  {
   "cell_type": "code",
   "execution_count": 73,
   "metadata": {
    "run_control": {
     "frozen": false,
     "read_only": false
    }
   },
   "outputs": [
    {
     "data": {
      "text/plain": [
       "bytes"
      ]
     },
     "execution_count": 73,
     "metadata": {},
     "output_type": "execute_result"
    }
   ],
   "source": [
    "type(page)"
   ]
  },
  {
   "cell_type": "code",
   "execution_count": null,
   "metadata": {
    "run_control": {
     "frozen": false,
     "read_only": false
    }
   },
   "outputs": [],
   "source": [
    "page.decode('gbk')"
   ]
  },
  {
   "cell_type": "code",
   "execution_count": 74,
   "metadata": {
    "run_control": {
     "frozen": false,
     "read_only": false
    }
   },
   "outputs": [],
   "source": [
    "wangzhe_soup = BeautifulSoup(page, 'lxml')\n",
    "all_heros = [item['href'].strip(\"/\")\n",
    "             for item in wangzhe_soup.findAll('a')\n",
    "             if 'href' in item.attrs \n",
    "             and ( item['href'].startswith(\"http\") or item['href'].startswith(\"//\"))]"
   ]
  },
  {
   "cell_type": "code",
   "execution_count": 78,
   "metadata": {
    "run_control": {
     "frozen": false,
     "read_only": false
    }
   },
   "outputs": [
    {
     "data": {
      "text/plain": [
       "'苏烈-王者荣耀官网网站\\n不屈铁壁\\n苏烈\\n生存能力\\n攻击伤害\\n技能效果\\n上手难度\\n英雄故事\\n历史上的ta\\n王者荣耀首页\\n>\\n英雄介绍\\n>\\n苏烈\\n194\\n技能介绍\\n不屈铁壁\\n冷却值：90\\n消耗：0\\n被动：苏烈在濒临死亡时会立即回复60%最大生命值，同时会陷入虚弱状态，持续4.5秒；虚弱状态下将禁止一切操作并免疫控制效果，自身会减少25%物理和法术防御；虚弱状态结束时，苏烈将发出怒吼，对附近敌人造成150（+100%物理加成）法术伤害并减少其50%移动速度，持续2秒；虚弱状态结束时，苏烈还将增加50%攻击速度和30%移动速度，持续2秒；刚陷入虚弱状态时，苏烈周围会出现3盏烽火台，队友可通过触碰烽火灯台来点亮烽火，每点亮一盏将会为苏烈和该名队友回复10%最大生命值;3盏烽火台都被点亮时，会立即结束虚弱状态；苏烈每90秒才能触发一次虚弱状态；苏烈的意志力能增加60点物理防御和法术防御，但不屈铁壁处于冷却时会暂时失效\\n复活过程中，需要队友协助点燃烽火，让苏烈可以快速站起投入战斗。\\n烽烟踏破\\n冷却值： 9/8.4/7.8/7.2/6.6/6\\n消耗：60\\n苏烈的下三次普通攻击变更为强化攻击，每次攻击造成100/130/160/190/220/250（+120%物理加成）点物理伤害，第三击将会对敌人造成0.75秒击飞。\\n主要输出技能，第三击可以击飞敌人，配合被动的加速效果时，可以在短时间内打出高额伤害。\\n所向披靡\\n冷却值：10/9.6/9.2/8.8/8.4/8\\n消耗：80\\n苏烈短暂蓄力后，朝指定方向冲撞，对敌人造成100/130/160/190/220/250（+40%物理加成）点物理伤害并将其击退。如果敌人在击退至地形边缘，将会受到额外50%伤害并晕眩1秒。如果苏烈冲撞敌方建筑，将对建筑造成250（+100%物理加成）点物理伤害。\\n释放时需要一定的预判，尽量将对手冲撞到地形边缘造成晕眩效果。推进的时候，可以释放此技能直接攻击防御塔。\\n豪烈万军\\n冷却值：45/40/35\\n消耗：120\\n苏烈举起柱子开始蓄力，释放时会用力将柱子砸向地面，对范围内敌人造成300/375/450（+150%物理加成）点~1000(+150%物理加成)点物理伤害并将其击飞1秒；蓄力时间越长，攻击范围越大，伤害越高；被击飞的敌人在落地时还会以该名敌人为中心再产生一次震荡攻击，对附近的其他敌人额外造成50%物理伤害；蓄力期间可以移动，取消时会减少80%冷却时间；被动：苏烈释放技能攻击或者强化攻击时将引发地震，持续3秒，对附近的敌人目标造成38（+25%物理加成）点法术伤害\\n蓄力阶段要避免被对手打断，时刻观察目前的攻击范围和敌人的分布情况，确保在最佳的时机进行释放，对敌人造成毁灭一击。\\n冷却值：\\n消耗：\\n铭文搭配建议\\nTips：因为苏烈整体的防御能力较强，所以符文推荐以攻击和移速为主，达到攻守平衡。\\n技能加点建议\\n主升\\n火焰三尖枪\\n副升\\n混天绫.束\\n召唤师技能\\n闪现/斩杀\\n英雄关系\\n最佳搭档\\n压制英雄\\n被压制英雄\\n最佳搭档\\n大招隐身加速帮助苏烈进场。配合2技能，让苏烈的大招发挥最大效果。\\n配合庄周大招的免控效果，苏烈可以更好的选择释放大招的位置和时机。\\n压制英雄\\n苏烈被动自带超高的护甲和魔抗，阿珂想近身与苏烈肉搏是基本没有胜算的。\\n苏烈拥有超强的控制技能，当孙悟空对脆皮英雄发起突袭时，苏烈可以轻松克制并保护队友。\\n被压制英雄\\n苏烈进场释放大招的时候，达摩可以迅速打断他，并将他击飞到战场以外。\\n苏烈的控制技能都有一定的释放前摇，孙尚香可以快速频繁的位移躲开苏烈的攻击。\\n出装建议\\n推荐出装一\\n推荐出装二\\nTips：坦克出门装，红莲斗篷配合大招被动可以持续对附近敌人造成伤害，超强防御能力，配合各种被动效果可以持续在人群中输出。\\nTips：战士出门装，中前期可以打出较高的伤害，对敌方后排威胁较大。后期通过装备大幅度提升自身的生存能力，增强持续输出。\\n英雄攻略\\n更多\\n英雄故事\\n青年时代的苏烈于科举中拔得头筹之时，似乎便注定了人生的坦途：出身世家望族，才华横溢又深得老师赏识，前途无量。然而同窗们大跌眼镜的是，他选择了投笔从戎。\\n自幼生活于长安，见惯东市和西市的繁华，无数次想象来自远方的珍奇异物，如何经过漫长的丝绸之路被送到长安。碧眼的异乡商人，讲述着惊心动魄引人入胜的旅途故事。摇曳的驼铃，汗血的宝马，绿洲之上的古老城池……还有长城，守护一路繁荣的长城，遥遥看到它的屹立，就能让长途跋涉的旅人们心安。对此心驰神往的青年，放弃仕途，作为长城守卫军一员在边塞度过十年时光。\\n离开故乡长安的十年里，曾经握笔的手生满老茧。与意气风发的诗人饮过送别的美酒，也从沙漠中挖来瓣鳞花精心栽培。他愈发坚定相信，长城才是自己生命的羁绊与归宿。\\n彼时商旅往来长城频繁，但小范围的纷争时常发生。苏烈向戍边的他国将领提议放下干戈。对方耳闻他的宽厚，信任这份诚意而欣然接受，双双去掉警备。自此边民们可以在固定的日子举行关市互通有无，那些年的长城内外畜牧遍野，繁盛尤似关内。\\n直到令他终身悔恨的不幸发生。\\n盖着朱红印章的密令，用高高在上不容置疑的口吻，质问关市开放乃通敌行为，命他将功赎罪。\\n苏烈不解而愤慨，一连好几封奏章抗议，皆石沉大海。反倒催促行动的密令道道紧逼。贪图功劳的监军急不可待，私领随从偷袭参加关市的戈壁之民，好为平步青云邀功。苏烈策马赶去为时已晚，昔日繁华的市集徒留废墟与硝烟。深深的痛苦与愧疚灼烧着心灵——尤其听闻旧日缔约的对方将领也下落不明。\\n毫无疑问，袭击破裂了长久的信任，长城两侧的氛围骤然紧张。而上峰大堆的军功赏赐，明晃晃嘲笑着他的古板，使他如芒在背。\\n辜负信任。\\n辜负和平的期望。\\n是自己的过错。\\n抱着难以遏制的悔恨，终于，大漠马贼冲击大唐边城的战斗中，奉命援助的苏烈挡在摇摇欲坠的城门前，钢刀早已卷刃，面对蜂拥的敌人，他大吼着挥起粗围的撑木迎击而上。\\n要赎罪才行，哪怕是用生命。\\n身躯轰然倒下。\\n不知过去多久，苏烈从昏迷中醒来。一群流民拼凑出为数不多的食物，努力挽留他的生命。\\n“是守卫军的人吗？”浑身灰扑扑的小孩好奇心满满：“长大了，我也想加入。站在长城之上……”他摆出舞剑的姿势。\\n“不，……你们认错了……”苏烈从喉咙中艰难的挤出几个字。内心的声音在呐喊……为什么自己仍然活着，没有守护住从少年时便珍视的、向往的东西，不得不厚颜苟活着。自己……不配拥有这名号！\\n从这天起，昔日世家子弟，曾经长城守卫军的猛将，彻底抛弃所有。他混迹于流民之中，俨然成为领头人，教他们读书识字，狩猎耕种乃至武技兵法。当动荡和冲突发生，那魁梧的身影便带着衣衫褴褛的伙伴，出其不意的出现，援救危难中的人们。偶尔在月色下，他会想起和友人诀别的那杯酒，想起或许此生再也回不去的长安。\\n这是他的赎罪。\\n苏烈这个人，恐怕早就作为牺牲者的一员，被世人遗忘吧。\\n可命运总是出其不意，时时勾连起苏烈与长城之间的羁绊。那绯红身影的出现，断然结束了他的自我放逐。\\n“你，不是长城守卫军吗？”\\n“我没有资格。”\\n“那不更应该像个守卫军的样子，堂堂正正担起该担的责任吗？”她说。“至少设法弄弄清楚，当年发出袭击密令的主使者，真正的面目！”\\n宽大的手掌猛然握紧。遥远暮霭中，起伏的长城傲然耸立，犹如十多年前所望的第一眼那样。\\n长城在，故乡就在\\n历史上的TA\\n//此段代码不能放到外链JS中，\\nvar setSite={ //设置网站属性\\n    siteType:\"os\", //必填项:\"os\"代表是官网，如果不是，则填写actName例如a20160701xxx\\n    pageType:\"herodetail\", //必填项:本页面的定位；按照页面含义填写例如main||list||detail||download||share||page1||pageN\\n    pageName:\"致胜宝典\", //必填项:页面中文名\\n    osact:0, //选填项:是否是官网专题(在官网运营的专题)boolean；默认是0；可以在链接上加入参数osact=1来灵活设置\\n    ingame:0, //选填项:是否投放在游戏APP内boolean；默认是0；可以在链接上加入参数ingame=1来灵活设置\\n    stayTime:0 //选填项:是否需要统计停留时长boolean；默认是0\\n}\\nif(typeof(pgvMain) == \\'function\\')pgvMain();\\nvar cname = \\'苏烈\\',ename = \\'194\\';'"
      ]
     },
     "execution_count": 78,
     "metadata": {},
     "output_type": "execute_result"
    }
   ],
   "source": [
    "'\\n'.join([text for text in wangzhe_soup.stripped_strings])"
   ]
  },
  {
   "cell_type": "code",
   "execution_count": null,
   "metadata": {
    "run_control": {
     "frozen": false,
     "read_only": false
    }
   },
   "outputs": [],
   "source": [
    "wangzhe_soup.title.text"
   ]
  },
  {
   "cell_type": "code",
   "execution_count": null,
   "metadata": {
    "run_control": {
     "frozen": false,
     "read_only": false
    }
   },
   "outputs": [],
   "source": [
    "type(wangzhe_soup.title.text)"
   ]
  },
  {
   "cell_type": "code",
   "execution_count": null,
   "metadata": {
    "run_control": {
     "frozen": false,
     "read_only": false
    }
   },
   "outputs": [],
   "source": [
    "all_heros=\n",
    "['http://www.baidu.com/link?url=WG24npTa_esGBWGowM7AwbfE89O5-kayPil32UCog8u',\n",
    " 'http://www.baidu.com/tools?url=http%3A%2F%2Fwww.baidu.com%2Flink%3Furl%3DWG24npTa_esGBWGowM7AwbfE89O5-kayPil32UCog8u&jump=http%3A%2F%2Fkoubei.baidu.com%2Fp%2Fsentry%3Ftitle%3D%02%E7%8E%8B%E8%80%85%01%E8%8D%A3%E8%80%80%03%E5%AE%98%E6%96%B9%01%E7%BD%91%E7%AB%99%01-%01%E8%85%BE%E8%AE%AF%01%E6%B8%B8%E6%88%8F%01%26q%3D%E7%8E%8B%E8%80%85%E8%8D%A3%E8%80%80%26from%3Dps_pc4&key=surl',\n",
    " 'http://www.baidu.com/link?url=4Ztof3OKJWS3d-STmizZzRpfMSMohrxIDi1KszkhYEIf1STJTVkiq93o47_P_6ia37bhG5y18uJe1FkmKWZPrq',\n",
    " 'http://www.baidu.com/link?url=WRNtTgOWbNmShMTfC6dR5gjyd66YEl_BlQV4JyoIli0zI27L__KRLHfauv1B20eRzEEP4yDdjai1CeNdKyaxh27kco4j0eoZStJOFBqDRq7',\n",
    " 'http://www.baidu.com/link?url=p3dtT2x_SOnaoL3f07nzqqC3jHF-bwHQCgL7s_LxrU9fFTfnZw5kWgQMsDG5yw62',\n",
    " 'http://www.baidu.com/link?url=9Hf047idLOOXSQvHoCS4VL14SB0jCB_T1l_0Pb949xS4DpMatrdmR4K3v-SPGwKD',\n",
    " 'http://www.baidu.com/link?url=l1qX2IKSzDV-u8TJtqpV-UhGYVRVUm1eQOSBRZEyknPjeV-GnfHUvM0DXxjG3P3-xbqxBgHGGpiIrbvX2sGnu_']\n",
    "\n",
    "all_crawed = crawl_web(all_heros,max_depth=1)"
   ]
  },
  {
   "cell_type": "markdown",
   "metadata": {
    "collapsed": true,
    "run_control": {
     "frozen": false,
     "read_only": false
    }
   },
   "source": [
    "### 我们需要每个页面保存什么信息？\n",
    "```\n",
    "{\n",
    "\"url\":\"\",\n",
    "\"title\":\"\",\n",
    "\"image\":\"\",\n",
    "\"pagecontent\":\"\",\n",
    "}\n",
    "```\n",
    "改进 页面获取信息"
   ]
  },
  {
   "cell_type": "code",
   "execution_count": null,
   "metadata": {
    "collapsed": true,
    "run_control": {
     "frozen": false,
     "read_only": false
    }
   },
   "outputs": [],
   "source": [
    "def get_page(page_url):\n",
    "    \"\"\"\n",
    "    based on the url, get the page information\n",
    "    \"\"\"\n",
    "    try:\n",
    "        r = requests.get(page_url)\n",
    "        if 'Content-Type' in r.headers and r.headers['Content-Type'] == 'text/html':\n",
    "            return r.content\n",
    "        else:\n",
    "            return None\n",
    "    except Exception as inst:\n",
    "        return None"
   ]
  },
  {
   "cell_type": "code",
   "execution_count": 212,
   "metadata": {
    "code_folding": [],
    "run_control": {
     "frozen": false,
     "read_only": false
    }
   },
   "outputs": [],
   "source": [
    "def extract_information(page_url,page_content):\n",
    "    page_soup = BeautifulSoup(page_content, 'lxml')\n",
    "    page_info = {}\n",
    "    page_title = image_url = page_text= \"\"\n",
    "    for script in page_soup([\"script\", \"style\"]):\n",
    "        script.extract()          \n",
    "    try:\n",
    "        image_url = page_soup.find('img')['src'].strip('/')\n",
    "        if not image_url.startswith(\"http\"):\n",
    "            image_url = \"http://\"+image_url\n",
    "        page_text = ','.join([text for text in page_soup.stripped_strings])\n",
    "        page_title = page_soup.title.text.strip('\\n')\n",
    "    except:\n",
    "        image_url = \"\"\n",
    "    finally:\n",
    "        page_info= {\"url\": page_url,\"title\": page_title, \"image\": image_url,\"content\":page_text}\n",
    "\n",
    "    return page_info"
   ]
  },
  {
   "cell_type": "markdown",
   "metadata": {
    "run_control": {
     "frozen": false,
     "read_only": false
    }
   },
   "source": [
    "### 异常出现了？\n",
    "pvp.qq.com/v/detail.shtml?G_Biz=18&tid=177158"
   ]
  },
  {
   "cell_type": "code",
   "execution_count": 189,
   "metadata": {
    "collapsed": true,
    "run_control": {
     "frozen": false,
     "read_only": false
    }
   },
   "outputs": [],
   "source": [
    "def get_page(page_url):\n",
    "    \"\"\"\n",
    "    based on the url, get the page information\n",
    "    \"\"\"\n",
    "    try:\n",
    "        if not page_url.startswith(\"http\"):\n",
    "            page_url = \"http://\"+page_url\n",
    "        r = requests.get(page_url)\n",
    "        if 'Content-Type' in r.headers and r.headers['Content-Type'] == 'text/html':\n",
    "            return page_url, r.content\n",
    "        else:\n",
    "            return None\n",
    "    except Exception as inst:\n",
    "        return None"
   ]
  },
  {
   "cell_type": "code",
   "execution_count": 20,
   "metadata": {
    "collapsed": true,
    "run_control": {
     "frozen": false,
     "read_only": false
    }
   },
   "outputs": [],
   "source": [
    "page"
   ]
  },
  {
   "cell_type": "code",
   "execution_count": 215,
   "metadata": {
    "run_control": {
     "frozen": false,
     "read_only": false
    }
   },
   "outputs": [],
   "source": [
    "page_content= None\n",
    "with open('wangzhe.html') as html_data:\n",
    "    page_content= html_data.read()\n",
    "    \n",
    "wangzhe_soup = BeautifulSoup(page_content, 'lxml')    \n",
    "\n",
    "all_heros = [item['href'] \n",
    "             for item in wangzhe_soup.findAll('a')\n",
    "             if 'href' in item.attrs and item['href'].startswith(\"http\")]\n",
    "    "
   ]
  },
  {
   "cell_type": "code",
   "execution_count": 214,
   "metadata": {
    "run_control": {
     "frozen": false,
     "read_only": false
    }
   },
   "outputs": [],
   "source": [
    "all_heros = all_heros[0:len(all_heros)//2]"
   ]
  },
  {
   "cell_type": "code",
   "execution_count": 206,
   "metadata": {
    "run_control": {
     "frozen": false,
     "read_only": false
    }
   },
   "outputs": [
    {
     "data": {
      "text/plain": [
       "['http://pvp.qq.com/web201605/herodetail/194.shtml',\n",
       " 'http://pvp.qq.com/web201605/herodetail/195.shtml',\n",
       " 'http://pvp.qq.com/web201605/herodetail/196.shtml',\n",
       " 'http://pvp.qq.com/web201605/herodetail/193.shtml',\n",
       " 'http://pvp.qq.com/web201605/herodetail/189.shtml',\n",
       " 'http://pvp.qq.com/web201605/herodetail/182.shtml',\n",
       " 'http://pvp.qq.com/web201605/herodetail/187.shtml',\n",
       " 'http://pvp.qq.com/web201605/herodetail/191.shtml',\n",
       " 'http://pvp.qq.com/web201605/herodetail/192.shtml',\n",
       " 'http://pvp.qq.com/web201605/herodetail/190.shtml',\n",
       " 'http://pvp.qq.com/web201605/herodetail/180.shtml',\n",
       " 'http://pvp.qq.com/web201605/herodetail/186.shtml',\n",
       " 'http://pvp.qq.com/web201605/herodetail/184.shtml',\n",
       " 'http://pvp.qq.com/web201605/herodetail/183.shtml',\n",
       " 'http://pvp.qq.com/web201605/herodetail/178.shtml',\n",
       " 'http://pvp.qq.com/web201605/herodetail/177.shtml',\n",
       " 'http://pvp.qq.com/web201605/herodetail/175.shtml',\n",
       " 'http://pvp.qq.com/web201605/herodetail/174.shtml',\n",
       " 'http://pvp.qq.com/web201605/herodetail/173.shtml',\n",
       " 'http://pvp.qq.com/web201605/herodetail/171.shtml',\n",
       " 'http://pvp.qq.com/web201605/herodetail/170.shtml',\n",
       " 'http://pvp.qq.com/web201605/herodetail/169.shtml',\n",
       " 'http://pvp.qq.com/web201605/herodetail/168.shtml',\n",
       " 'http://pvp.qq.com/web201605/herodetail/167.shtml',\n",
       " 'http://pvp.qq.com/web201605/herodetail/166.shtml',\n",
       " 'http://pvp.qq.com/web201605/herodetail/163.shtml',\n",
       " 'http://pvp.qq.com/web201605/herodetail/162.shtml',\n",
       " 'http://pvp.qq.com/web201605/herodetail/157.shtml',\n",
       " 'http://pvp.qq.com/web201605/herodetail/156.shtml',\n",
       " 'http://pvp.qq.com/web201605/herodetail/154.shtml',\n",
       " 'http://pvp.qq.com/web201605/herodetail/153.shtml',\n",
       " 'http://pvp.qq.com/web201605/herodetail/152.shtml',\n",
       " 'http://pvp.qq.com/web201605/herodetail/150.shtml',\n",
       " 'http://pvp.qq.com/web201605/herodetail/149.shtml',\n",
       " 'http://pvp.qq.com/web201605/herodetail/148.shtml']"
      ]
     },
     "execution_count": 206,
     "metadata": {},
     "output_type": "execute_result"
    }
   ],
   "source": [
    "all_heros"
   ]
  },
  {
   "cell_type": "code",
   "execution_count": 216,
   "metadata": {
    "collapsed": true,
    "run_control": {
     "frozen": false,
     "read_only": false
    }
   },
   "outputs": [],
   "source": [
    "url,ppp = get_page(\"http://pvp.qq.com/web201605/herodetail/148.shtml\")\n",
    "pgi = extract_information(url,ppp)"
   ]
  },
  {
   "cell_type": "code",
   "execution_count": 217,
   "metadata": {
    "run_control": {
     "frozen": false,
     "read_only": false
    }
   },
   "outputs": [
    {
     "data": {
      "text/plain": [
       "{'content': '姜子牙-王者荣耀官网网站,太古魔导,姜子牙,生存能力,攻击伤害,技能效果,上手难度,英雄故事,历史上的ta,王者荣耀首页,>,英雄介绍,>,姜子牙,148,技能介绍,心魔,冷却值：0,消耗：0,被动：每10秒为友军增加25点经验，经验随英雄等级提升,功能型被动技能，可以使友方英雄等级领先于敌方，前期在3级到4级的时间点尤为重要,忏悔,冷却值：8,消耗：70,姜子牙聚集能量对目标区域的敌人进行冲击，命中的敌人在接下来的五秒内每0.5秒受到60/72/84/96/108/120（+7%法术加成）点法术伤害，并且移动速度和双抗会逐渐减少。最多降低90%移动速度，100/120/140/160/180/200点物理防御和100/120/140/160/180/200点法术防御,AOE范围技能，有较高的AP伤害加成和可叠加的减速效果，在人群中使用效果极佳,湮灭,冷却值：10/9.4/8.8/8.2/7.6/7,消耗：80,姜子牙在指定地点引爆能量，击退爆炸点周围的敌人并造成310/350/390/430/470/510（+47%法术加成）点法术伤害，并造成减速,范围内造成法术伤害并能击退敌人，是姜子牙重要的保命技能,断罪,冷却值：10.0/8.0/6.0,消耗：100,姜子牙召唤能量聚集持续3秒，蓄力过程中进行任意操作都会中断蓄力并放出冲击波造成450/600/750（+35%法术加成）点法术伤害，蓄力越久伤害越高，可对建筑造成10%伤害,姜子牙最主要的输出和消耗技能，施法范围非常大，距离和伤害根据蓄力的时间而定，但施法时间较长，需要有非常好的预判能力,冷却值：,消耗：,铭文搭配建议,Tips：红色梦魇提供的法术攻击和法术穿透能有效提高前期的输出，绿色献祭提高输出频率增加输出伤害，蓝色轮回能在后期高伤害的情况下获得一定的续航能力。,技能加点建议,主升,火焰三尖枪,副升,混天绫.束,召唤师技能,闪现/斩杀,英雄关系,最佳搭档,压制英雄,被压制英雄,最佳搭档,牛魔：姜子牙身板非常非常脆，需要一个有足够坦度的辅助提供支援，牛魔的AOE控制和能力是一个很好的选择，开启团战时候牛魔在前方吸收伤害打出有效控制，可以提高姜子牙的大招命中率，保护时也可以给姜子牙很好的逃生机会。,钟馗/墨子：这两个英雄的大招作用相似，钟馗墨子的大招在释放可以长时间控制住敌方英雄，姜子牙可以有足够的时间蓄力大招对敌方造成毁灭性打击。,压制英雄,黄忠/王昭君：大招很像所以放在一起说。黄忠王和王昭君的大招都有同一个特点，那就是站桩，不能移动，而姜子牙的大招则拥有超远距离且超高伤害的特点，且敌方的大招站桩特点给了姜子牙足够的蓄力时间，一旦命中王昭君、黄忠基本会直接失去战斗力甚至被击杀。,露娜：露娜的无限连有个条件那就是必须命中标记单位，也就是说大招一定是往人脸上放的，姜子牙的二技能可以推开露娜甚至使其断大而使其陷入困境，大招不只是造成伤害的作用，因为长时间的蓄力常常使大招很难命中，这时的大招作为逼走位的技能使用，对战场区域释放大招，不仅是露娜，敌方全体都要规避。,被压制英雄,身为脆皮法师，姜子牙害怕韩信等位移多伤害高的刺客英雄,兰陵王在团战中能够一套技能直接带走姜子牙,出装建议,推荐出装一,推荐出装二,Tips：暴力的法师全输出装备，能够形成非常高的伤害输出，但需依赖较好的走位与操作,Tips：一套比较肉的法师出装，生存能力超强，并且有一定输出能力，适合逆风局出的装备,英雄攻略,更多,英雄故事,“夫子夫子，这么晚不睡，偷偷摸摸在干嘛？”,“去去！老夫可是光明正大在替某个家伙点蜡！”,“什么嘛，原来是个挂掉的倒霉家伙。嗯！说不定生前还很不幸。”,“别说挂掉，早在什么地方烂透了也有可能，虽说活着时也是烂人一个。不幸……那家伙倒确实曾让很多人不幸以及……发霉。”,“哦哦，八卦之魂开始燃烧了！夫子夫子，那家伙都有些什么丰功伟绩？”,“也不算什么啦。不过就是带领大家干掉纣王，顺手在大陆搞出几个强国，再躲起来调教了几个美貌又可爱的小徒弟罢了，像动动嘴皮子就成了天才军师的张良啦，每天霸气侧漏拖着大裙子要砍要杀的武则天啦……”,“简直是比夫子您还要变态的教育狂也！啊，莫非……您这位朋友……就是传说中的太古魔导姜子牙！”,“什么朋友……老家伙可是正义凛然的跟夫子我决裂了一场。唉，一点都不给面子。”,“你们为什么决裂呢？”,“人哪，总是有自己认为很重要，一定要坚持的事。为了这样的坚持，可以放弃自己的生命，可以残忍对待朋友，爱人，亲人。对那个老家伙来说，守护人间界就是他的坚持。制造妲己，灭杀纣王，驱除魔种，警惕西方世界……当然啦，他从来不替自己着想，所做的一切都是要把整个人间界平安的重责背到肩膀上。,可夫子我抱有疑惑。什么样才算人间界呢？是只有人类没有异族的世界吗？还是杀四十九人以活五十一人，只有强者没有弱者的世界？虽然老家伙毕生致力于驱除魔种，却对人类之间的战争杀戮袖手旁观……这样真的是和平的人间界吗？,我们谁也无法说服谁，只好干上一架，再绝交，再分手。”,“最后谁赢了？”,“傻！这种事怎么可能有赢家。那老家伙用尽了手段，坑蒙拐骗威逼利诱徒弟们彼此争斗杀戮魔种，最后作茧自缚被武则天背叛，被封禁在不知哪个角落……”,“那就是您赢了嘛！活到最后的就是赢家！”,“傻！老家伙可是永远走在潮流前头的男人，对别人狠对自己更狠！据老夫对他的了解，他多半一手安排好自己的新生，借此机会完成人生的重启参与新的战争。我们之间的孽缘，看来还会继续纠缠下去……”,“夫子，那就撸起袖子预备大干一场啊！干嘛还偷偷摸摸祭奠！”,“都说了是光明正大！年轻人不懂，老夫祭奠的哪里是人，老夫是在缅怀逝去的友谊和青春啊。”,当稷下的青烟在空中飘散之时，遥远的云和山的彼端，似乎永远也打不倒的老人从沉睡中苏醒。,“非我族类，其心必异！”,历史上的TA,姜子牙，商末周初的人物。《史记·齐太公世家》称其为东海人，先祖封于吕，本姓姜，所以，后世有称他为姜尚的，也有称吕尚的。传说他已经80余岁了，在渭水垂钓，遇到了周文王姬昌，姬昌把姜尚视为圣人，言听计从，后来姜尚辅佐文王的儿子姬发，灭商建立了西周。而姜尚也得封于齐，为齐国始祖。小说《封神演义》，把姜尚说成了一个神话人物，是正道阐教的核心成员。',\n",
       " 'image': 'http://game.gtimg.cn/images/yxzj/img201606/heroimg/148/148-mobileskin-1.jpg',\n",
       " 'title': '姜子牙-王者荣耀官网网站',\n",
       " 'url': 'http://pvp.qq.com/web201605/herodetail/148.shtml'}"
      ]
     },
     "execution_count": 217,
     "metadata": {},
     "output_type": "execute_result"
    }
   ],
   "source": [
    "pgi"
   ]
  },
  {
   "cell_type": "code",
   "execution_count": 218,
   "metadata": {
    "code_folding": [],
    "collapsed": true,
    "run_control": {
     "frozen": false,
     "read_only": false
    }
   },
   "outputs": [],
   "source": [
    "def crawl_web(seed,max_depth):\n",
    "    tocrawl = seed\n",
    "    crawled = []\n",
    "    next_depth = []\n",
    "    depth = 0    \n",
    "    all_info=[]\n",
    "    while tocrawl and depth <= max_depth:\n",
    "        page_url = tocrawl.pop()\n",
    "        print(\".\",end=\" \")\n",
    "        if page_url not in crawled:\n",
    "            get_url,page_content= get_page(page_url)\n",
    "            page_info = extract_information(get_url,page_content)\n",
    "            if page_content:\n",
    "                all_links_onpage = get_all_links(page_content)\n",
    "                if all_links_onpage: #if we got any link on the pages\n",
    "                    union(next_depth, all_links_onpage)\n",
    "            all_info.append([page_url,page_info])\n",
    "            crawled.append(page_url)\n",
    "\n",
    "        if not tocrawl:\n",
    "            print(\"next round\")            \n",
    "            tocrawl, next_depth = next_depth, []\n",
    "            depth = depth + 1\n",
    "            \n",
    "    return crawled, all_info"
   ]
  },
  {
   "cell_type": "code",
   "execution_count": 219,
   "metadata": {
    "run_control": {
     "frozen": false,
     "read_only": false
    },
    "scrolled": true
   },
   "outputs": [
    {
     "name": "stdout",
     "output_type": "stream",
     "text": [
      ". . . . . . . . . . . . . . . . . . . . . . . . . . . . . . . . . . . . . . . . . . . . . . . . . . . . . . . . . . . . . . . . . . . . . . . next round\n",
      ". . . . . . . . . . . . . . . . . . . . . . . . . . . "
     ]
    }
   ],
   "source": [
    "processed_web, all_pages = crawl_web(all_heros, max_depth=1)"
   ]
  },
  {
   "cell_type": "code",
   "execution_count": 220,
   "metadata": {
    "run_control": {
     "frozen": false,
     "read_only": false
    }
   },
   "outputs": [
    {
     "data": {
      "text/plain": [
       "[['http://pvp.qq.com/web201605/herodetail/105.shtml',\n",
       "  {'content': '廉颇-王者荣耀官网网站,正义爆轰,廉颇,生存能力,攻击伤害,技能效果,上手难度,英雄故事,历史上的ta,王者荣耀首页,>,英雄介绍,>,廉颇,105,技能介绍,友情守护,冷却值：0,消耗：0,被动：释放技能的过程中处于霸体状态（不会受到控制效果），并减少所受到的伤害20%,施放技能减伤，而且不会被控制,豪情突进,冷却值：9/8.4/7.8/7.2/6.6/6,消耗：60,廉颇发动豪情的冲锋，对敌人造成115/130/145/160/175/190（+100%物理加成）点物理伤害并将其短暂击飞,利用突进技能，可击飞敌人,激情迸发,冷却值：12/11/10/9/8/7,消耗：70,短暂蓄力后爆发战斗激情为自身提供抵免350/420/490/560/700点伤害的护盾，对范围内的敌人造成500/560/620/680/740/800（+155%物理加成）点物理伤害与减速,12技能连招可打出小爆发伤害,正义豪腕,冷却值：54/45/36,消耗：150,廉颇跳向目标地点并连续砸地三下，第一次造成150/200/250（+80%物理加成）点物理伤害与减速，随后的打击伤害递增。第三次会将范围内的敌人击飞，并造成更高的375（+200%物理加成）点物理伤害,找机会突进技能开团，尽量大招控制到更多敌人,冷却值：,消耗：,铭文搭配建议,Tips：廉颇在团战中吸收伤害，骗取敌方关键技能，因为技能有免控效果，蓝色选择生命值提升，绿色选择双防提升让廉颇在前中期就能抗更多伤害，由于技能都是物理收益，异变的攻击和穿透效果可以给廉颇带来技能伤害的提升。,技能加点建议,主升,火焰三尖枪,副升,混天绫.束,召唤师技能,闪现/斩杀,英雄关系,最佳搭档,压制英雄,被压制英雄,最佳搭档,阿轲：廉颇拥有比较强的坦克能力，在团战和对线时都可以主动利用1技能开团后2技能消耗找敌方英雄换血，等到敌方英雄交出关键技能后，可以利用自己的13技能控制配合阿轲完成击杀和收割。,马可波罗：马可波罗拥有比较强的远程poke能力，2技能的突进也可以快速跟上廉颇的1技能突进，对线时廉颇可以利用1技能和3技能控制限制敌方刺客对己方马可波罗的刺杀，也可以主动利用1技能开团，3技能配合闪现打出双段控制，为马可波罗创造良好的输出环境。,压制英雄,张良：张良作为一个比较依赖控制效果的法师，1技能的控制和大招的控制，对拥有免伤的廉颇来说效果甚微，而且廉颇的1技能和3技能都可以很好的打断张良的大招技能对己方进行保护，为队友提供良好的生存环境。,王昭君：作为一个比较依赖2技能控制效果的英雄，面对廉颇时会很尴尬，因为廉颇本身拥有比较强的坦克能力，即使被王昭君大到也很难一套秒杀，王昭君开大后廉颇1技能和3技能都可以轻松打断，进攻时利用控制技能也配合队友黏住王昭君轻松将其击杀。,被压制英雄,后羿普攻有减速效果，很容易风筝廉颇,廉颇不能很容易控制到灵活的貂蝉,出装建议,推荐出装一,推荐出装二,Tips：这是全肉装坦克的出装方法，团战技能有一定输出能力，也有非常强的承伤能力,Tips：对方物理输出较多情况下，冰脉护手能降低敌方输出的攻击速度，魔女斗篷配合被动能有更大的收益,英雄攻略,更多,英雄故事,人人都有青春年少，廉颇也不例外。,正直，忠诚，勇猛……是人们给予他的赞美之词。他出身于赵国的贵族家庭，年少从军，就立下了汗马功劳。他的言谈，行为和功绩都无可非议符合高贵军人的楷模标准，被家族和祖国奉为骄傲。,介于秦和齐之间艰难生存的赵国，经常与两国发生战争。在抵挡齐国的战场上，廉颇第一次遇到生平的对手：手执大锤的野蛮女人，却如此威风凛凛。当铁锤与巨拳碰撞，酣畅淋漓的快感震慑了他的全身。自此以后，这位将军的内心便铭刻下了这个名字：钟无艳。,没有永远的敌人，只有永恒的利益。秦军展露吞灭六国的意图后，廉颇来到稷下接受传说中三贤者的教诲与试炼。他的全部天赋被激发出来，技艺得到了飞速的升华。更意外的是，能够以非敌人的身份再度邂逅钟无艳。当旗鼓相当的对手成为强力的盟友，这感觉真是无比美妙。,现在，廉颇已经做好了全部的准备，以热情和勇气来向自己的朋友证明他们信任的价值！也许，还有别的什么值得期待……,浴血奋战！重量级的人物已经登场。,历史上的TA,廉颇是战国后期的赵国名将。嬴姓，廉氏。廉颇为将，非常稳重，赢多败少，曾大破东方强国的齐国，取阳晋。取得了赵国对齐的优势地位，由此被封为上卿。蔺相如因完璧归赵得封相国之后，廉颇曾经跟蔺相如闹过矛盾， 蔺相如不予计较，廉颇闻之，非常惭愧，由此演出负荆请罪的故事，将相和的佳话。公元前226年，秦在先后基本打垮韩魏之后，打起了赵国的主意。秦赵两国主力在赵之长平对峙。秦国的主将是名将白起，而赵国的主将则是廉颇。两军相持，谁也占不了上风。于是秦国使用反间计，在赵国散布流言说，秦人最怕赵国另一个名将赵奢的儿子赵括。于是赵王听信谗言，用赵括换下了廉颇，结果赵国长平大败，四十万主力赵军被歼灭。从此元气大伤，无法与秦国为敌。在赵国被灭亡前夕，廉颇已经老了，但尚有为国出力之心。但秦人收买了赵王前去探望廉颇的使节，让他回报说“廉颇一饭三遗矢”（吃一顿饭，去三次茅房），使赵王打消了启用廉颇之心。',\n",
       "   'image': 'http://game.gtimg.cn/images/yxzj/img201606/heroimg/105/105-mobileskin-1.jpg',\n",
       "   'title': '廉颇-王者荣耀官网网站',\n",
       "   'url': 'http://pvp.qq.com/web201605/herodetail/105.shtml'}],\n",
       " ['http://pvp.qq.com/web201605/herodetail/106.shtml',\n",
       "  {'content': '小乔-王者荣耀官网网站,恋之微风,小乔,生存能力,攻击伤害,技能效果,上手难度,英雄故事,历史上的ta,王者荣耀首页,>,英雄介绍,>,小乔,106,技能介绍,治愈微笑,冷却值：0,消耗：0,被动：释放技能命中敌人时，短时间2秒内提升自身移动速度25%,利用技能命中敌人，被动提供的移速加成能让小乔更好的追击敌人或撤退,绽放之舞,冷却值：5,消耗：60,小乔扔出一把回旋飞行的扇子，对触碰的敌人造成360/435/510/585/660/735（+100%法术加成）点法术伤害，每命中一个单位后续伤害衰减20%，最低减到原伤害40%为止,小乔的主要输出技能，这个技能命中直线上更多的敌人能有效打出AOE伤害，在面对敌人的追击时使用此技能命中率会更高,甜蜜恋风,冷却值：14.5/13.3/12.1/10.9/9.7/8.5,消耗：80,小乔在敌人脚下召唤出恋之旋风，对敌人造成260/292/324/356/388/420（+62%法术加成）点法术伤害并击飞,小乔的主要控制技能，利用2技能击飞敌人能极大提高1技能的命中率，打出连招爆发伤害,星华缭乱,冷却值：42/35/28,消耗：140,用爱心召唤流星，不断打击附近的敌人，每次造成400/500/600（+100%法术加成）点法术伤害，每个敌人最多承受4次攻击（同一目标多次命中，后续伤害衰减50%），持续5秒,团战时利用此群攻技能能打出不错的伤害，但注意走位保证生存,冷却值：,消耗：,铭文搭配建议,Tips：狩猎提升10％移速加成，对于被动具有加速效果的小乔来说，适合放风筝，可以进行中远距离的输出，机动性高。心眼和梦魇提升法穿效果。对于小乔这种伤害比较高的英雄来说，增加法穿可以在对方出法抗时也打出高额伤害。,技能加点建议,主升,火焰三尖枪,副升,混天绫.束,召唤师技能,闪现/斩杀,英雄关系,最佳搭档,压制英雄,被压制英雄,最佳搭档,韩信：在通过二技能击飞之后，韩信可以通过一技能的第一段挑飞来进行二次控制，增加队友的输出时间，可以让小乔的大招更好的命中敌人。,阿轲：在团战时，阿轲通过隐身要接近敌人时，对方通过阿轲隐身时的红色位置提示，可能做出走位，但是通过小乔二技能的辅助，完全可以使得限制对方走位，给阿轲一个输出的位置。,压制英雄,东皇太一：因为通过二技能命中之后的被动位移加速以及通过不断一技能骚扰，充分的拉开与东皇的距离，使得他身边的能量体无法贴近小乔进行回血，只能被迫放风筝。,高渐离：高渐离在团战时想要发挥优势，就必须进到人群中，才能充分利用减伤以及技能的范围伤害，但是小乔可以通过二技能的短暂击飞使队友可以和他拉开一定的距离，能有一定的时间做出反制。,被压制英雄,身为脆皮法师，小乔害怕韩信等位移多伤害高的刺客英雄,兰陵王在团战中能够一套技能直接带走小乔,出装建议,推荐出装一,推荐出装二,Tips：暴力的法师全输出装备，能够形成非常高的伤害输出,Tips：一套比较肉的法师出装，生存能力超强，并且有一定输出能力，适合逆风局出的装备,英雄攻略,更多,英雄故事,十多年前，江东名门乔氏诞生一对双生女婴时，曾掀起一场轩然大波。对精于魔道的家族而言，双胞胎是不吉利的。最终，双胞胎中的妹妹被送往稷下寄养。也许因为缺少家族的束缚，小乔并没有成为姐姐那样的完美女性，而是更加无拘无束的长大。,成长为少女的小乔终于被接回家中时，人人都嘲笑她的天真，同情心，以及不切实际的乐观——直到他们被她强大的法力所震慑。小乔天生就能将复杂的魔道运用自如，那种天赋就流淌在她的血液里，无需教导也挥之不去。,长辈们担忧暴露家族的秘密陷入恐慌，再度将小乔送往东海边的城镇，要让女孩在乡下终老。,没过多久，奇怪的疾病莫名开始在沿海流行。恐慌中的人们向封锁城镇的士兵发起冲击，最后演变成暴乱。而奉命前来镇压的，正是周瑜。,小乔敏锐意识到风的影响。她试图唤起和风吹散带有染病孢子的毒雾.。一片慌乱，她镇定施展的强大法术引起了周瑜的注意。他无情的将少女作为嫌疑犯羁押。两人的初次会面发生在简陋的大牢中，小乔少有固执的说服英俊的军官。整整一夜过去，周瑜终于相信傻气少女的空气传染理论，而她则彻底沦陷在一见钟情的爱慕中。,两人的合作不仅解救人们的生命，意外的收获是，周瑜开始警惕到数百里外的海面上的小岛和血族的传闻。几个月后瘟疫终于平息，周瑜返回吴国都城时，他已经无法违背心意丢下小乔独自离开了。对他背负重任的人生而言，小乔是照亮阴暗心海、最璀璨的星辉。,世人皆知，铁血都督周公瑾以坚定的意志和不苟言笑的冷酷著称。任何人都无法动摇他。在他如尺规般明确的人生中，只有小乔是违背人生信条的唯一意外。,“希望和奇迹是存在的！”,历史上的TA,本应是小桥。小桥和大桥是姐妹俩，是东汉末年庐江士族桥玄的女儿。《三国演义》将二人说成大小乔。江南而乔，是出名的美女，大乔嫁于孙策，小乔嫁给了周瑜。周瑜风流倜傥，人称度曲周郎，跟小乔十分相得。曹操率军南下，击破荆州刘表，威逼江南。有传说，说曹操就是为了二乔而来。抢夺二乔，置于铜雀台。所以，唐朝诗人杜牧有诗道：“东风不与周郎便，铜雀春深锁二乔。”《三国演义》里诸葛亮游说孙权抗曹，也沿用了这个传说。',\n",
       "   'image': 'http://game.gtimg.cn/images/yxzj/img201606/heroimg/106/106-mobileskin-1.jpg',\n",
       "   'title': '小乔-王者荣耀官网网站',\n",
       "   'url': 'http://pvp.qq.com/web201605/herodetail/106.shtml'}],\n",
       " ['http://pvp.qq.com/web201605/herodetail/107.shtml',\n",
       "  {'content': '赵云-王者荣耀官网网站,苍天翔龙,赵云,生存能力,攻击伤害,技能效果,上手难度,英雄故事,历史上的ta,王者荣耀首页,>,英雄介绍,>,赵云,107,技能介绍,龙鸣,冷却值：0,消耗：0,被动：每损失3%最大生命值获得额外1%免伤效果,赵云的生命值越低，免伤效果越强，提升了赵云的战斗生存能力，也使得他更容易形成残血反杀,惊雷之龙,冷却值：7/6.4/5.8/5.2/4.6/4,消耗：40,赵云执枪冲锋陷阵，对前方直线路径敌人造成190/214/238/262/286/310（+100%物理加成）点物理伤害，重置普攻并使得下一次普通攻击造成65/74/83/92/101/110（+135%物理加成）点物理伤害并减少敌人移动速度,突进技能，利用此技能突进敌方后排或选择撤退,破云之龙,冷却值：8/7.2/6.4/5.6/4.8/4,消耗：60,赵云快速刺出龙枪，对前方范围内敌人造成高额伤害，每段造成140/158/176/194/212/230（+60%物理加成）点物理伤害，命中英雄后回复35/39/43/47/51/55（+14%物理加成）点生命值,此技能范围较近，能持续对敌人造成伤害，但很依赖走位和操作技巧,天翔之龙,冷却值：18/15/12,消耗：135,赵云跃向空中，向地面目标发动雷霆一击，对范围内敌人造成370/460/550（+140%物理加成）点物理伤害将其短暂击飞，并让目标感电，赵云的普攻和技能伤害对感电目标造成额外30/45/60（+13%物理加成）点法术伤害,突进技能，有AOE伤害和控制效果，但是技能有一定时间的前摇，所以使用前需要预判好敌方位置,冷却值：,消耗：,铭文搭配建议,Tips：100的物穿使赵云在前期击杀脆皮上更加有效，在面对面前排时也有一定的击杀能力，45的物理攻击也是提高了前期的伤害量，而且在清野上也更加的快速，10%的移速加成是为了赵云在gank、支援、追击、逃跑时跑的更快。,技能加点建议,主升,火焰三尖枪,副升,混天绫.束,召唤师技能,闪现/斩杀,英雄关系,最佳搭档,压制英雄,被压制英雄,最佳搭档,达摩：团战处理上，都具有较强的先手开团能力，对于对面的后排威胁较大，并且技能的连环combo可以起到很好的控制效果。游走gank上，依靠达摩的大招将敌方英雄踢到墙上，紧接着赵云大招命中，可以打出很高的输出。,宫本武藏：团战处理上，都有较强的先手开团能力，宫本先手跳大，大中对面后排，此时赵云就可以接大招，将对面后排直接一套带走。游走gank上，赵云打野，宫本武藏边路，在野区入侵时，利用宫本先手开大，然后赵云再开大，这样保证了赵云大招的命中率，从而提高了赵云的输出能力，有着较强的技能combo。,压制英雄,后羿：团战中，赵云只要找到后羿的位置，就可以先手大后羿，如果是没有闪现的后羿，那么后羿基本上就被赵云一套带走。gank时，在前中期，后羿没有位移的，并且在近距离后羿的大招也没有很好的发挥，所以我们可以优先选择gank后羿，配合边路英雄，一旦大招命中后羿就插翅难逃，很好的限制了后羿的发育。,小乔：团战中，在团战中小乔作为敌方法师，猥琐在后面，赵云需要找准时机，等待小乔出现，利用大招直接果断先手开团，在装备成型的赵云，相当能抗大，并且具有不错的伤害量，所以既能切死小乔，又可以保证了自己的生存。所以赵云在抓小乔时，一旦大招命中则可以配合中路英雄将小乔带走。,被压制英雄,刘邦的嘲讽技能能有效控制赵云输出或击杀赵云,王昭君的减速和控制技能限制赵云的输出能力,出装建议,推荐出装一,推荐出装二,Tips：半肉半输出的出装思路，能有效提升赵云生存能力和作战能力,Tips：全输出装备赵云，输出能力极强，但生存能力较弱,英雄攻略,更多,英雄故事,长久以来，佣兵辗转于不同主人之间，用血肉之躯为自己赢得一席之地。朝不保夕，危险，背叛和死亡都是家常便饭。今天的朋友可能是明日的敌人，过去的对手也能摇身一变成为如今的同盟。,但仍有杰出者脱颖而出，人称他为“龙”。龙不仅是收钱杀人，更以强烈的领袖气质将亡命之徒们团结起来，发展为强大的佣兵组织。,曹操多次雇佣龙为自己效命，看到龙的组织壮大后，产生了让他们永远归属自己的念头。但龙拒绝了。,这件事成为阴谋的开端。此后，曹操巧妙撩拨着龙的野心。龙产生了摆脱佣兵身份，成为人上之人的渴望。杀死战神吕布，则是实现这个梦想的第一步。,但组织中有人站出来反对。那就是“影子”，龙长久以来最亲密的助手和朋友。事实上连曹操也不知道，所谓“龙”，其实是两个人的合作：一个负责召集手下联络生意，真正以一敌百的存在是影子。,这是两人首次爆发严重的分歧。影子反对龙的野心，他不相信曹操会扶持对自己可能有威胁的对手。龙则认为自己足以掌控全局。在影子眼中，这是一场豪赌……用所有成员生命下注的豪赌。无法说服龙的影子退出组织。,失去同伴的龙决定采纳曹操的建议，用秘法来对抗吕布。然而战神就是战神，即便落入陷阱。一切上不得台面的伎俩在绝对实力面前都是虚妄。整个组织几乎被吕布单枪匹马屠戮殆尽。危急关头，终究无法舍弃朋友的影子出现，和龙一起合力杀死了吕布。他们成为这场惨烈战斗唯二的幸存者。,腥风血雨之后，影子转身离去，就此下落不明。龙捡回了性命，却因自尊心和屈辱恼羞成怒。他认为是影子的背叛导致一切。如今他再无容身之地，只能投入曹操的麾下，同时，仇恨的种子也在内心悄然增长。,数年后，曹操的大军席卷了三国，却在长坂坡遭遇前所未有的重挫。惊天动地的雷霆涤荡着曹军引以自豪的名将。,影子已死。,“赵子龙，参见！”,历史上的TA,赵云是三国时的蜀汉名将。常山真定人，字子龙。东汉末年大乱，群雄并起之时，起兵归于公孙瓒。公孙瓒败亡，投奔刘备，时刘备未成气候。刘备依附荆州刘表，兵微将寡。赶上曹操大军南下，刘备于混战之中溃退，丢下了妻儿。赵云于长坂坡救下当时刘备唯一的儿子刘禅并甘夫人，由此闻名天下。此后，赵云在刘备军中，地位一直低于关羽和张飞，但却屡立战功。夺取荆州、益州，都冲锋在前，夺取汉中之时，以少胜多，击退曹操大军。刘备战后走过赵云争战之地，感慨说：子龙一身都是胆。赵云不仅勇冠三军，而且非常有见识。征服蜀地之后，有人建议把蜀中良田美宅分给诸将，赵云则说蜀中大乱甫定，应该把这些分给百姓，以安定民心。荆州被关羽丢了之后，刘备在激愤之中起兵跟东吴争斗。完全违背了诸葛亮为他制定的南和东吴、北拒曹操的大政方针，只有赵云规劝他不要兴兵。刘备死后，赵云成为诸葛亮最为倚重的将领，最初几次出岐山，进攻中原，以攻为守，都有赵云参与。可惜，出师未捷身先死，赵云一生都效忠于蜀国。',\n",
       "   'image': 'http://game.gtimg.cn/images/yxzj/img201606/heroimg/107/107-mobileskin-1.jpg',\n",
       "   'title': '赵云-王者荣耀官网网站',\n",
       "   'url': 'http://pvp.qq.com/web201605/herodetail/107.shtml'}],\n",
       " ['http://pvp.qq.com/web201605/herodetail/108.shtml',\n",
       "  {'content': '墨子-王者荣耀官网网站,和平守望,墨子,生存能力,攻击伤害,技能效果,上手难度,英雄故事,历史上的ta,王者荣耀首页,>,英雄介绍,>,墨子,108,技能介绍,兼爱非攻,冷却值：0,消耗：0,被动：连续的第四次普通攻击会将正前方的目标击退并造成125%法术加成及150%物理加成的法术伤害，释放所有技能都会获得短暂的护盾效果，吸收250（+35%法术加成）点伤害,承受敌方攻击时，释放技能形成护盾抵消部分伤害，第四次普攻有物理和法术加成已经击退效果，在血量充足的情况下尽量打出此被动技能造成伤害，击退能有小团控的效果,和平漫步,冷却值：10/9/8/7/6/5,消耗：70,墨子驾驶机关人向前突进，对穿过的目标造成250/300/350/400/450/500（+38法术加成）点法术伤害，将下一次普攻替换为能够击退敌人的炮击,可利用此技能突进，控制敌人，也可利用此技能进行穿墙逃跑,机关重炮,冷却值：7,消耗：70,墨子驾驶机关人向目标开炮，对范围内的敌人造成450/550/650/750/850/950（+140%法术加成）点法术伤害与晕眩,远程范围控制技能，可用于远距离开团或撤退时控制敌人,墨守成规,冷却值：42/35/28,消耗：150,墨子驾驶机关人展开高能屏障，每次对触碰到屏障的敌人造成200/250/300（+45%法术加成）点法术伤害并将其晕眩在原地,拥有长达5秒的控制时间，但是这段时间内很容易被敌方技能打断控制效果.,冷却值：,消耗：,铭文搭配建议,Tips：梦魇的法术攻击和穿透搭配墨子的高法强可以快速清线，消耗敌人。狩猎可使墨子更快的打出普攻的被动。而怜悯的10%冷却可让墨子的技能冷却更快,技能加点建议,主升,火焰三尖枪,副升,混天绫.束,召唤师技能,闪现/斩杀,英雄关系,最佳搭档,压制英雄,被压制英雄,最佳搭档,鬼谷子：鬼谷子的强势开团能力控制可以无缝衔接墨子的2、3技能控制，墨子虽然有位移但是技能释放大多有抬手动作，鬼谷子提供的加速可以有效的降低墨子在释放技能的容错率。,宫本武藏：团战中墨子先行二技能命中后可以完美配合宫本大招，而后墨子接大招控制，宫本输出敌方英雄。,压制英雄,黄忠：墨子的二技能可以击中刚刚开大架起炮台的黄忠。伤害高附带眩晕，此时队友即可上前击杀黄忠。,刘禅：刘禅，刘禅的一二技能有较长的前摇，并且施法距离较短，墨子可使用二技能进行击晕和消耗，配合队友进行压制。,被压制英雄,项羽的技能能有效打断墨子的大招,花木兰的超高爆发输出能力能快速击杀走位不慎的墨子,出装建议,推荐出装一,推荐出装二,Tips：偏肉型的法师出装，使得墨子成为标准法坦，能抗能打,Tips：全输出装备，墨子后期需要远程进行输出，最后进入收割节奏,英雄攻略,更多,英雄故事,上古时代创造了极为辉煌的文明，其中最伟大的发明之一便是机关术。但随着上古时代的终结，机关术的奥秘也逐渐湮没。谁也没想到的是，机关术重新复兴，是通过一名普通的平民工匠之手。,当夫子想要开宗立派，传承知识时，得到了王室的慷慨赞助，稷下学院就建设在过去朝歌的土地上。被征集来的工匠中，包括当时叫做墨翟的青年。之后，他花费了三十年时间，走遍了稷下的每一个角落，包括深埋地下的朝歌城——这座硕果仅存的由太古先贤亲手建设的城市，以及已经改名为通天塔的摘星楼遗迹。凭借天赋的才华，他很快领悟到了机关的秘诀，并且开始动手尝试。借助他改良的机关器械，稷下建造起了供各地精英拜师学艺，切磋技艺的大量设施，包括著名的墨家机关道。因为稷下的建设集合了墨子以及许多机关师的智慧，从此机关术再度普及开来。,这时，墨子已经名列稷下三贤者之一。接下来，他完成了一生中最伟大的功绩：建造长安城——这座位于大陆中心繁华城市，凝结了他全部心血和智慧，被称为上古文明终结后最大的奇迹。长安绝顶的雄姿，被诗人们所歌咏，为异国所向往，甚至超越了过去朝歌的盛况。,但如此显赫而重要的长安城，也吸引着野心者的觊觎。据不完全统计，强盛的大唐帝国建立之前，每隔数年，长安就要经历一次杀戮的浩劫。它那连绵的城壁承受过各式大型机关器械的轮番破坏。这样的事实令墨子出离愤怒！他不断挑战机关术的巅峰，绝不是为了让辛劳的和平成果毁之一旦。,之后，墨子将研究的核心转向了机关人制造。他驾驶着威力无比的机关人，亲自上阵战斗。这位半生都在建设和平的宗师，决心为守卫自己的心血结晶而战。,”亲手建造的和平，也将亲手捍卫！“,历史上的TA,名翟，春秋战国之际的思想家，墨家的创始人。其学说跟儒家一样，同出于西周的王官之学，与儒家并称显学。提倡兼爱、非攻、尚同思想，对下层士人，很有吸引力。墨家学派的人，具有严密的组织，其首领被称为钜子。墨子还是一位高明的工匠，可以制作各种高明的机械，为了阻止楚国攻打宋国，曾与名匠公输般（鲁班）进行攻防演练，折服了对方。由于墨子的门徒有严密的组织，好抱打不平，行侠仗义，也被认为是后世侠客的始祖。',\n",
       "   'image': 'http://game.gtimg.cn/images/yxzj/img201606/heroimg/108/108-mobileskin-1.jpg',\n",
       "   'title': '墨子-王者荣耀官网网站',\n",
       "   'url': 'http://pvp.qq.com/web201605/herodetail/108.shtml'}],\n",
       " ['http://pvp.qq.com/web201605/herodetail/109.shtml',\n",
       "  {'content': '妲己-王者荣耀官网网站,魅力之狐,妲己,生存能力,攻击伤害,技能效果,上手难度,英雄故事,历史上的ta,王者荣耀首页,>,英雄介绍,>,妲己,109,技能介绍,失心,冷却值：0,消耗：0,被动：造成的伤害会减少目标的法术抗性，共3层，每次减少目标30～72点法术抗性（随英雄等级成长）,妲己能输出高额法术伤害的保证,灵魂冲击,冷却值：8/7.4/6.8/6.2/5.6/5,消耗：80,妲己挥出灵魂冲击波，对命中的敌人造成520/585/650/715/780/845（+122%法术加成）点法术伤害,妲己的主要伤害与消耗技能，攻击距离较长，有强大的消耗能力.但技能出手较慢，有一定的施法延迟,偶像魅力,冷却值：12/11/10/9/8/7,消耗：90,妲己抛出魅力爱心，对命中的敌人造成285/320/355/390/425/460（+66%法术加成）点法术伤害，并眩晕1.5秒,妲己的控制技能，缺点是施法范围较小，所以务必保证敌人在施法范围内时再释放技能控制敌人,女王崇拜,冷却值：18/15/12,消耗：120,妲己放出至多5团狐火攻击附近的敌人，每团狐火造成325/405/485（+75%法术加成）点法术伤害，狐火命中同一个单位，第二发开始将只造成50%伤害,配合控制技能可瞬间将敌人打成残血，后期在法伤足够条件下，可瞬间秒杀敌人,冷却值：,消耗：,铭文搭配建议,Tips：妲己是一个拥有超强爆发的法师英雄，231可以秒杀大多数脆皮英雄，红色梦魇可以提供法术强度和穿透，蓝色轮回可以提升法术强度和吸血赖线能力，绿色怜悯可以减少CD，在中后期几秒就可以释放一套231连招秒人。,技能加点建议,主升,火焰三尖枪,副升,混天绫.束,召唤师技能,闪现/斩杀,英雄关系,最佳搭档,压制英雄,被压制英雄,最佳搭档,孙悟空：猴子是高爆发英雄，和妲己配合双重控制爆发，妲己先手控制，231技能跟上，猴子一技能接平A，敌人就算不死也是残血，猴子大招控制跟上，在接平A，即使是坦克也很难生存，游走抓人效率极高。,阿轲：阿轲的埋伏和绕后能力强，妲己蹲草伏击爆发秒人能力强，两人配合埋伏蹲人可以达到瞬秒的效果。配合游走gank 能力非常很强。,压制英雄,露娜：露娜4级后比较强，建立优势后很难针对，妲己的2技能控制无法躲避，可以见到露娜就231打一套消耗，在己方塔下完全不用担心被露娜强杀，注意不要强推线，在后期打团高额伤害也可以让露娜很难受。,貂蝉：貂蝉比较怕硬控和集火秒杀，妲己的单体爆发比较高，可以在貂蝉秀起来之前一套231连招秒掉，注意在貂蝉交出2技能消失后在眩晕打出一套连招（中后期妲己经济碾压的情况下，即使貂蝉满血也可以秒掉）。,被压制英雄,兰陵王的隐身和秒杀能力很容易接近妲己将其秒杀,花木兰的超高爆发输出能力能快速击杀走位不慎的妲己,出装建议,推荐出装一,推荐出装二,Tips：全输出法师出装，后期秒杀敌方刺客和脆皮,Tips：输出装备为主，带一点生命值属性的法强提高团战的容错率,英雄攻略,更多,英雄故事,很久以前，世界的面貌与日后截然不同，机关术和魔道造就了繁华盛世，人们沉浸于奢靡的生活，役使着大量魔种作为奴隶。当然，也有魔种因为怨恨而对人类发起了反抗，但很快就被镇压下去。,精通魔道的老人隐居在渭水之畔。他按照记忆中的模样，用机关术制造了一个人偶，又用魔道为她注入灵魂。,老人反复雕琢着人偶。人偶也很努力，想要做到父亲眼里的完美。但老人依旧会叹息，为何始终无法成为记忆中的模样。人偶不解的歪着头，心中充满迷惑。为什么？是因为自己没有心吗？啊，什么时候，才能成为真正的人类呢？,这一天来的比想象中更早。,当人偶一举一动跟真正的人没有什么两样时，老人将她送往朝歌献给纣王。人偶又害怕，又担心。自己，被主人遗弃了吗？,此时纣王正沉浸在失去爱人的悲痛中。人偶和死去的爱人如此相似。他抑制不住收下这可疑的礼物，温柔的叫她“妲己”。,妲己过上了期盼中的，像人类一样的生活。只是，心依旧空空如也。纣王向她倾诉着思念。于是她知道纣王的爱人本是魔种与人类的混血。为了她，纣王希望人类和魔种能够和平共处，并不断做着努力。,臣民们反对这样的努力。他们无法忍受魔种与人类平起平坐。站出来召集唤灵师们发动叛乱的，正是创造了妲己的老人。,妲己似懂非懂的聆听着，充满同情。自己算是爱上了纣王吗？据说人类都有“爱”这种感情。可什么才是真正的爱？她不敢肯定。因为自己没有心。,纣王出征了。妲己在宫殿中游荡。脑海中神秘的声音在指引她，她要去找自己的心。,她被指引到纣王为爱人建造的陵墓。无声的咒语打开白玉的棺材，一颗心脏鲜活的跳动着。她拿起那颗心。心破裂了，封印的灵魂飞入躯体。,妲己和那灵魂在人偶的身躯中痛苦搏斗了很长时间，争夺主导，奇怪的声音嘈杂的争辩，记忆的碎片不断闪过。,纣王爱上魔种少女。纣王在反对声中失去爱人，纣王用自己的心脏保存爱人的灵魂。纣王把人偶当成了爱人。魔种少女的灵魂认为纣王背叛了自己，在嫉妒中发了狂。纣王的心脏破碎了，老人的阴谋得逞了！,此刻，纣王感受到心碎的痛楚。不，不止是心，连身体也逐渐化为灰烬，徒留下躯壳，这是魔道反噬的作用。他知道自己终究被欺骗和背叛。也许这是最好的结局，能从双重的痛苦中得到解脱。,两个妲己的争吵终结于无边无际的梦境中。直到很久以后，路过的唤灵师解开封印，天真的人偶妲己才再度醒来。,“请尽情吩咐妲己吧，主人。”这一次，请帮助我寻找到真正的心吧。主人……,历史上的TA,关于妲己，历史上的记载非常稀少，只有《史记》和《国语》里有寥寥数语。我们只知道她是商朝最后一个王商纣王的妃子，出自有苏氏。更多的信息，实际上来自明代的小说《封神演义》。在小说里，在纣王身边妲己实际上是狐狸精。她蛊惑纣王干下了种种祸害百姓、残害忠良的倒行逆施，最终断送了商朝的天下。小说中的妲己，就是“女色祸国论”的形象。',\n",
       "   'image': 'http://game.gtimg.cn/images/yxzj/img201606/heroimg/109/109-mobileskin-1.jpg',\n",
       "   'title': '妲己-王者荣耀官网网站',\n",
       "   'url': 'http://pvp.qq.com/web201605/herodetail/109.shtml'}],\n",
       " ['http://pvp.qq.com/web201605/herodetail/110.shtml',\n",
       "  {'content': '嬴政-王者荣耀官网网站,王者独尊,嬴政,生存能力,攻击伤害,技能效果,上手难度,英雄故事,历史上的ta,王者荣耀首页,>,英雄介绍,>,嬴政,110,技能介绍,王者审判,冷却值：0,消耗：0,被动：普通攻击附带穿透效果，造成70（+100%物理加成）（+30%法术加成）的法术伤害（对防御塔伤害衰减50%）,前期在清理兵线时有较大作用而且能神不知鬼不觉的消耗对手,王者惩戒,冷却值：8,消耗：100,嬴政召唤黄金剑阵，每0.5秒对范围内的敌人造成100/120/140/160/180/200（+27%法术加成）的法术伤害，并降低他们的移动速度,嬴政主要输出和伤害技能，但有一定的延迟效果，所以需要准确的预判敌人走位,王者守御,冷却值：12/11/10/9/8/7,消耗：40,嬴政开启王之护盾，持续时间内增加自身法术强度140/168/196/224/252/280和移动速度10/11/12/13/14/15%，被动：增加嬴政自身法术强度70/84/98/112/126/140和移动速度2/3/3/4/4/5%,在使用其他输出技能前开启，能增强其它技能输出能力，并且护盾效果也能提升一定的自保能力,至尊王权,冷却值：30,消耗：150,嬴政展示王者权力，提高视野并在5秒内号令55只飞剑持续对前方敌人进行打击，每只飞剑造成70/90/110（+10%法术加成）点法术伤害，该技能对小兵和野怪额外造成25%伤害,霸气无比的伤害技能，伤害极高，使用过程中嬴政可以移动，不断调整位置扫射敌人,冷却值：,消耗：,铭文搭配建议,Tips：嬴政前期较其他法师类英雄普攻伤害很高，而且带有穿透效果，适合带攻速类铭文提高普攻输出，提高清兵速度，移速提高了嬴政的支援速度和自保能力。,技能加点建议,主升,火焰三尖枪,副升,混天绫.束,召唤师技能,闪现/斩杀,英雄关系,最佳搭档,压制英雄,被压制英雄,最佳搭档,墨子：墨子频繁的控制可以让嬴政技能命中率提高，大招群控更是完美的配合嬴政一技能打出极高的aoe伤害。,白起：白起二技能可以调整敌方位置，帮助缺乏控制技能的嬴政留人，开大嘲讽住敌人也可以帮助嬴政更安全的进行输出，打出成吨伤害。,压制英雄,黄忠：嬴政大招超远射程可以在黄忠大招范围外命中黄忠，逼迫他收起炮台，方便队友进行击杀，若不收起炮台则可以直接单杀。,王昭君：嬴政大招可以直接在王昭君大招范围外攻击王昭君，逼迫她交闪现或者断大走开，为队友击杀提供更安全的环境。,被压制英雄,兰陵王的隐身和秒杀能力很容易接近嬴政将其秒杀,花木兰的超高爆发输出能力能快速击杀走位不慎的嬴政,出装建议,推荐出装一,推荐出装二,Tips：全输出法师出装，后期技能释放好会有爆炸伤害,Tips：输出装备为主，带一点生命值属性的法强提高团战的容错率,英雄攻略,更多,英雄故事,嬴政是天生的王者。,从诞生之日起，就被预言为将重新一统大周帝国的王者，从小就展现的惊人天分和气魄也让所有人对他充满期待。人人都臣服他，惧怕他，养成了他高傲自大，肆意无忌的脾气。,要说有什么不满足，就是一个人唯我独尊的日子实在无聊。他对神神秘秘的黑衣御医徐福的实验室产生了兴趣。那是芈月太后绝对禁止他涉足的地方。,“那里在制造兵器。”这悄悄的谈论激起了嬴政的好奇。,暗无天日的房间布满奇奇怪怪的机关仪器。然而没有看到想象中的武器，只有一个因为实验伤痕累累的少年。,房间，太暗了。,就像黑夜，无尽的黑夜。,嬴政起了捉弄之心。“想出去吗？”,少年的眼睛里写满了渴望。,“作我的沙袋，让我满意的话，就下令徐福放你出去。”,少年要喝很苦的药。少年要忍受奇怪仪器的折磨。少年永远只能待在暗无天日的房间里。少年还要忍受他的拳脚。,可有一次，当他挥出拳头时，出乎意料，少年竟然挡下了这一击。,“怎么敢反抗朕！”天之骄子被激怒了。,“怎么敢反抗朕！”心情从生气变成了不解。,鼻青脸肿的少年微笑着辩解：“不，不是反抗。只是，想试着能不能变强……再强一点……。”少年其实一直都清楚，来看自己的这个孩子是什么人。他是未来帝国的主人，可更重要的是，他是困境中，唯一的希望。就像只有日落时才会从狭小的窗户里照射到房间的那丝阳光。,“如果有一天，我能站在阳光下，也会在离你很近的地方，保护你。”,多么荒唐。可是嬴政竟然觉得是可以相信的。,没多久，房间空了。几天后，太后芈月带他去看一个拥有成年人奇怪而坚硬的躯壳，没有脸也不会生长的家伙：“看，阿政，这是你新的奴隶，以及兵器……是不是很有意思？”,它露出了扭曲的微笑……令人可怕：“太好了阿政，你看，我终于能够跟你一起，站在阳光之下了。现在我有能力保护你。”,嬴政忽然感到深深的愤怒。,对沉迷于吹捧的自己的愤怒，对无力扭转既成事实的愤怒，对凌驾于自己之上，代替自己做出决定的所有人的愤怒。,这样的自己，更不用说实现那可怜家伙的小小心愿，令他屹立于光明之下。,一伙陌生人的侵入成为改变的契机。芈月太后的左膀右臂徐福，被驱逐出王宫。自那之后第十年，嬴政终于真正执掌秦国。阳光明亮得令人炫目，照耀着他身边的大将：白起。,“朕是天生的君主，手握最强的利剑。朕将统一六国，君临天下！”意气风发的嬴政向民众宣告。凭自己和手中的利刃，四分五裂的大周帝国，即将迎来统一的腥风血雨。,“天上天下，唯朕独尊！”,历史上的TA,嬴政又称秦王政，秦始皇。他是秦朝第一个皇帝，也是秦国的最后一个国王。关于他的出身，有很传奇的经历。他的父亲，本是秦国被遗弃在外的王子，因为赵国富商吕不韦的运作，才得以回国接班。所以，秦王政即位时，称吕不韦为亚父。但是，作为枭雄的嬴政，很快就运用铁腕，从吕不韦的手中夺过了大权，囚禁了信任宦官、秽乱宫廷的母后，放手任用法家信徒，把军国主义政治推向极致，终于灭了六国，一统天下。他是中国大一统帝制王朝的开创者，也是以吏为师的专制文化的倡导者。',\n",
       "   'image': 'http://game.gtimg.cn/images/yxzj/img201606/heroimg/110/110-mobileskin-1.jpg',\n",
       "   'title': '嬴政-王者荣耀官网网站',\n",
       "   'url': 'http://pvp.qq.com/web201605/herodetail/110.shtml'}],\n",
       " ['http://pvp.qq.com/web201605/herodetail/111.shtml',\n",
       "  {'content': '孙尚香-王者荣耀官网网站,千金重弩,孙尚香,生存能力,攻击伤害,技能效果,上手难度,英雄故事,历史上的ta,王者荣耀首页,>,英雄介绍,>,孙尚香,111,技能介绍,活力迸发,冷却值：0,消耗：0,被动：普通攻击减少翻滚突袭0.5秒冷却时间,利用更多的普攻来减少1技能翻滚突袭的CD时间，可以让孙尚香更灵活,翻滚突袭,冷却值：5,消耗：35,孙尚香朝前方翻滚，强化下一次普攻，对一条直线的敌人造成330/360/390/420/450/480（+115%物理加成）点物理伤害（翻滚后附近有敌方英雄将获得短暂移速加成），释放强化攻击后短时间内提升下一次普通攻击的攻击范围。,孙尚香主要的位移技能和输出技能，用于追人和撤退使用,红莲爆弹,冷却值：10/9.2/8.4/7.6/6.8/6,消耗：80,孙尚香朝敌人投掷爆弹，对范围内敌人造成125/140/155/170/185/200（+50%物理加成）点物理伤害并造成持续1秒减速，命中敌方附带灼烧效果，每秒灼烧敌方最大生命比例伤害2%,相当于一个范围性的软控制技能，命中敌人后，能让孙尚香更好的输出敌人或选择撤退,究极弩炮,冷却值：30/25/20,消耗：140,孙尚香蓄力发射一枚弩炮，对范围内敌人造成400/500/600（+150%物理加成）点物理伤害,这个技能最好在战斗初使用，尽量将敌人打残，让孙尚香尽早进入收割的节奏,冷却值：,消耗：,铭文搭配建议,Tips：蓝色隐匿移速方便孙尚香更好的移动寻找输出位置，团战支援也比较迅速，物理攻击可以提伤害。绿色鹰眼，穿透护甲后孙尚香的攻击伤害会更高。前期在有祸源铭文的情况下，暴击更多，清野，清兵线的速度更快，发育更快。,技能加点建议,主升,火焰三尖枪,副升,混天绫.束,召唤师技能,闪现/斩杀,英雄关系,最佳搭档,压制英雄,被压制英雄,最佳搭档,庄周：孙尚香是比较灵活的射手类英雄，但是如果被控制怎么也灵活不起来，所以推荐庄周作为孙尚香的搭档，在携带净化的情况下，无论是单抓还是团战，孙尚香都不在畏惧敌方的控制性技能，轻松打出成吨的输出。,东皇太一：东皇太一的大招可以控制敌方英雄，是应对敌方突进英雄的不二选择，东皇的超强回复能力注定了东皇也是一名合格的坦克，有东皇在前排吸收敌方火力，后排的孙尚香就可以安心输出。,压制英雄,典韦：在前中期，典韦的输出不足以秒掉孙尚香，而孙尚香面对近身的典韦也可以利用一技能加速效果轻松跑路。后期，典韦的反伤刺甲和不祥征兆对于多段攻击的射手可能不太友好，但是面对孙尚香的强化普攻仍容易被压制。,东皇太一：东皇太一大招范围小，只有能量球触碰到敌方英雄才会回血，所以，孙尚香的超远射程就可以轻松克制他，东皇的二技能虽然控制长达一秒，但是延迟太高，面对拥有位移的孙尚香命中率低。大招作为强力控制，范围是硬伤，无法靠近孙尚香就会被消耗至死。,被压制英雄,兰陵王的隐身和秒杀能力很容易接近孙尚香将其秒杀,花木兰的超高爆发输出能力能快速击杀走位不慎的孙尚香,出装建议,推荐出装一,推荐出装二,Tips：全输出装备，团战能打出爆炸伤害，需要较高的操作技巧,Tips：输出装为主，配合魔女斗篷，后期团战中有更强的容错率,英雄攻略,更多,英雄故事,“吴地会成为一个怎样的国家呢？”,被父亲抱在膝头的小女孩，时常会听到兄长们的讨论。富庶的江南地区时常引来海盗和掠夺者的觊觎，甚至还有来自遥远扶桑的浪人骚扰。名门们各自盘踞，为了利益互相攻讦，丝毫不在意平民的死活。,改变源于一场突袭。长兄孙策以摧枯拉朽之势，奇袭了江东。新的国家被建立起来了。长久的混乱，终于可以因这场胜利而终结，,孙策将军派出得力干将，人称“铁血都督”的周瑜以强力手段扫荡不法之徒。作为最富天分的王室一员，孙尚香请缨同行，开始自己武道修行之旅。,很快，精力过剩的小公主和她那把经过特殊改装的巨大枪炮就扬名沿海。她雷厉风行的辗转于饱受掠夺的各个地区，即使是名门乔氏，也不得不接受咽下非法交易带来的苦果。……腐朽和保守的风气，被看似没有章法的一扫而空。更出乎意料的是，香香反倒与乔氏被放逐的女儿小乔成为无话不谈的好闺蜜。她们甚至亲密的分享彼此嗜好的言情小说，当然还有喜欢男生的类型。,“真羡慕，那是我希望的模样。”当身为兄长的孙策将军试图安抚同样出身乔氏的妻子时，听到如此感慨。,可那时的香香，没有意识到危机悄然生长。“欲戴王冠，必承其重”，通往理想的道路上布满荆棘。没过多久，她所敬爱的兄长遇刺身亡。,围绕下一任领导者的候选，吴地的豪族们沸腾了。当周瑜还在赶回王宫的路上时，他们已经试图逼迫看似无助的夫人大乔作出决定。,高傲而尊贵女性抬起头，平静的回答：“那么就选择香香吧。”,这句话差点酿出暴乱。而香香本人则断然拒绝接受：,“王位什么的，才没有兴趣！本小姐更适合用炮火来开路……找出要让吴国成为一个怎样的国家！”,最终，王位被交到了另一位兄长孙权手中。香香依旧按照自己的心愿，继续活跃着。直到某天，那行奇怪的队伍出现在眼前：（据说）没落王室的后裔，提着大刀的猎魔人，魔种混血的机关师，还有手持古怪扇子的青年和比大炮更强健的老年人。,“用枪炮开路，找出办法让蜀地成为一个人人愉快生活的地方。”笑起来很温暖的青年说到。尽管身后的拖油瓶对老爹宏大志向满脸不信任的样子。,胸口中有什么被触动，呼之欲出。,共同的喜好、共同的愿望、共同的理想以及共同的……是那种叫做爱情的东西吗？,“大小姐驾到！统统闪开”,历史上的TA,刘备的续弦夫人，人称孙夫人，孙尚香只是孙夫人在民间传说中的名字。孙夫人是东吴之主孙权的妹妹，在赤壁之战后，嫁给了刘备，成为孙刘两家结盟的象征。据《三国志·庞统法正传》，孙夫人尚武，有才具。连刘备进了她的房间，都心生敬畏。但是，据说孙夫人嫁到荆州之后颇为凶悍，归宁之日居然要带走刘备唯一的儿子刘禅，幸亏被赵云截下。后来由于孙刘两家闹翻，回到娘家的孙夫人，再也没能回到刘备身边。',\n",
       "   'image': 'http://game.gtimg.cn/images/yxzj/img201606/heroimg/111/111-mobileskin-1.jpg',\n",
       "   'title': '孙尚香-王者荣耀官网网站',\n",
       "   'url': 'http://pvp.qq.com/web201605/herodetail/111.shtml'}],\n",
       " ['http://pvp.qq.com/web201605/herodetail/112.shtml',\n",
       "  {'content': '鲁班七号-王者荣耀官网网站,机关造物,鲁班七号,生存能力,攻击伤害,技能效果,上手难度,英雄故事,历史上的ta,王者荣耀首页,>,英雄介绍,>,鲁班七号,112,技能介绍,火力压制,冷却值：0,消耗：0,被动：鲁机班七号连续使用普通攻击时，第五次普通攻击会掏出机关枪进行扫射，扫射会造成3次伤害，每次造成120（+50%物理加成）点物理伤害,有被动的鲁班是相当强势的，对线时尽量叠被动那一下去消耗敌方远程英雄,河豚手雷,冷却值：12/11/10/9/8/7,消耗：70,鲁班向指定位置投掷一枚河豚手雷，对范围内的敌人造成300/350/400/450/500/550（+100%物理加成）点物理伤害并减少其25%移动速度，持续2秒;使用手雷后鲁班七号下一次普通攻击更变为扫射,能造成短时间减速和眩晕效果，团战时尽可能命中更多敌人，利用普攻配合技能持续输出,无敌鲨嘴炮,冷却值：17/16/15/14/13/12,消耗：70,鲁班向指定方向发射火箭炮击退身前敌人，命中英雄后造成260/295/330/365/400/435（+100%物理加成）点物理伤害，并附带目标已损生命5/6/7/8/9/10%法术伤害，发射火箭后鲁班七号下一次普通攻击变更为扫射,全屏技能，伤害不高，可以在对线时进行消耗，可以在将敌人致残后进行远程收割,空中支援,冷却值：40/30/20,消耗：100,鲁班召唤河豚飞艇向指定方向进行空中支援，支援持续14秒，河豚飞艇每秒对范围内随机一个敌人投掷炸弹，炸弹会在0.75秒后落下，对目标范围内的敌人造成320/400/480（+123%物理加成)点物理伤害，召唤飞艇后鲁班七号下一次普通攻击变更为扫射,技能速度很慢，范围极大，能起到一定的威慑作用，团战可打出可观的AOE伤害,冷却值：,消耗：,铭文搭配建议,Tips：鲁班七号的核心玩法是利用1技能后的被动扫射在短时间内打出超额爆发，百穿的增益可以确保鲁班七号的有效伤害，攻速收益可以帮鲁班七号更容易叠被动，移速可以帮鲁班增加逃生能力。,技能加点建议,主升,火焰三尖枪,副升,混天绫.束,召唤师技能,闪现/斩杀,英雄关系,最佳搭档,压制英雄,被压制英雄,最佳搭档,太乙真人：鲁班七号本身没有位移，是敌方英雄主要针对目标，太乙真人的双控制技能与大招可以保障鲁班的输出环境，在追击时群眩晕稳定控制伤害也能配合鲁班轻松完成击杀。,牛魔：牛魔的被动效果可以为鲁班七号提供超高的双抗收益，鲁班是一个后期英雄，需要减少前期被gank针对的机会，牛魔的1技能降低敌方英雄伤害，2技能减速控制和大招的AOE控制都可以有效的保护鲁班，在一些有利地形强势开团也可以配合鲁班七号打出爆炸伤害。,压制英雄,黄忠：鲁班七号是一名后期强势的英雄，在后期装备成型后可以对很多英雄产生压制效果，黄忠开启大招后无法移动，鲁班七号可以先手大招对黄忠产生威胁，1技能晕眩后配合扫射2技能扫射可以轻松击杀黄忠。,王昭君：王昭君比较依赖己身的2技能控制效果，身板比较脆皮，经常会被鲁班的扫射火力压制，2个技能打一套就能秒掉王昭君，1技能的眩晕也可以打断王昭君的大招。,被压制英雄,鲁班没有位移技能，兰陵王的隐身和秒杀能力很容易接近鲁班将其秒杀,李白超高的伤害能力能快速击杀走位不慎的鲁班并安然离开,出装建议,推荐出装一,推荐出装二,Tips：全输出装备，团战能打出爆炸伤害，需要较高的操作技巧和队友的保护,Tips：输出装为主，配合魔女斗篷，后期团战中有更强的容错率,英雄攻略,更多,英雄故事,只有一个词汇，拥有荣幸冠名于鲁班大师的大名之前：天才天才天才天天天天天天……才！,鲁班大师的年龄？秘密！鲁班大师的身高？秘密！鲁班大师的性别？男！——少女崇拜者的情书，请尽情飞过来吧！鲁班大师每天会抽出宝贵的一小时回信，由机关鸟寄达！,鲁班大师的真实面目？秘密！请忘记你眼前看到的样子！青春！潇洒！风趣！讨人喜欢！每一个毛孔都彰显出碾压凡人的高等智商！鲁班大师，就是这么自信！（针对崇拜者的重要说明：发际线也是很低的！）,鲁班大师的来历？久远的应当追溯到稷下在废墟上重建之时！鲁班大师生平唯一的悔恨，就是让名为墨子的民工，抢先让古老的机关术重现世间！从那时起，鲁班大师就视其为生平唯一的宿敌！,墨子建完稷下建长安时，鲁班大师发奋的！沉默的！完全沉浸！在破坏性机关的研究中。怨念如此之深刻！以至于鲁班大师永远只会开发与墨子主张的和平相悖逆的课题！然而无论是稷下的机关道也好，还是长安巍峨的城墙也好，都抵挡住了一波又一波超强破坏性机关的冲击。这是深刻的！难以忍受的！耻辱！,高智商理性人士怎会就此沉沦！鲁班大师冷静审视自己和对手。啊，等着吧！来个出其不意的进攻！新的武器，很快会出现！他睿智的决定制造一个真正的破坏性机关！呸，才不是什么塑料小人！对，不碰模型就不会死，为什么不明白！,从那以后，当唤灵师们相互厮杀时，鲁班大师将躲在某地看着你！也许是草丛，也许是基地，也是商店的背面，也许是暴君的水坑……谁在乎呢！总之，他默默数下一，二，三，按下遥控器。于是，战场上的鲁班七号，极致的强大嘴炮哦不鲨嘴炮，立刻将挡在前路的任何物体轰飞！,是的，这才是鲁班大师和他的天才机关造物鲁班七号，真正的面目！,“借你们肉体试验下新发明的威力！”,历史上的TA,即历史上的公输般。这是历史上有记载的能工巧匠。但是，在后来的传说中，人们将之传成了神，把各种战争和生产工具的发明，都归功于他。他是木匠之祖，也是瓦工之祖。许多历史上著名的建筑，都被附会成是他的手笔。如果按《墨子·公输》的记载，他的工匠水准还不如墨翟。但在道教经典《抱朴子》里，他被称为机械之圣。',\n",
       "   'image': 'http://game.gtimg.cn/images/yxzj/img201606/heroimg/112/112-mobileskin-1.jpg',\n",
       "   'title': '鲁班七号-王者荣耀官网网站',\n",
       "   'url': 'http://pvp.qq.com/web201605/herodetail/112.shtml'}],\n",
       " ['http://pvp.qq.com/web201605/herodetail/113.shtml',\n",
       "  {'content': '庄周-王者荣耀官网网站,逍遥梦幻,庄周,生存能力,攻击伤害,技能效果,上手难度,英雄故事,历史上的ta,王者荣耀首页,>,英雄介绍,>,庄周,113,技能介绍,自然意志,冷却值：0,消耗：0,被动：每隔6秒，庄周会进入自然梦境，解除所有控制效果，并提高伤害免疫15%及15%移速持续2秒,被动效果无疑提升了庄周的生存能力,化蝶,冷却值：8,消耗：80,庄周幻化出蝴蝶飞向前方，对路径上的敌人造成375/450/525/600/675/750(+69%法术加成)点法术伤害，并降低他们的移动速度，持续2秒,此技能配合被动效果能在追击敌人时留人，能在面对追击时减速多个敌人安全撤退,蝴蝶效应,冷却值：6/5.4/4.8/4.2/3.6/3,消耗：40,庄周梦中蝴蝶扇起翅膀，对身边的敌人造成250/320/390/460/530/600（+30%法术加成）点法术伤害，并增加范围内友军移动速度持续5秒，5秒内的连续命中会增加对敌人造成的伤害和叠加移动速度，额外最多增加4层效果；被动：每隔6秒，庄周会自动释放一次蝴蝶效应.,该技能CD较短，可多次使用，不管是追击还是撤退都是好的选择,天人合一,冷却值：60/55/50,消耗：150,庄周幻化梦域保护附近友军，解除他们所受的控制效果，并使他们免控并提高伤害减免持续2秒,一个非常强大的保护技能，此技能效果为友军减伤并提高伤害，配合装备军团荣耀效果极佳,冷却值：,消耗：,铭文搭配建议,Tips：新版本的庄周不仅仅是一个只能辅助的坦克，其被动结合二技能叠起四层被动，可打出爆炸伤害。庄周佩戴输出铭文，提高法术攻击、法术吸血、法术穿透的能力，让庄周前期也能拥有很强的输出能力，为团队建立优势。,技能加点建议,主升,火焰三尖枪,副升,混天绫.束,召唤师技能,闪现/斩杀,英雄关系,最佳搭档,压制英雄,被压制英雄,最佳搭档,不知火舞：不知火舞作为法刺，常常需要切入敌方后排，但是自身较脆的特点让她非常惧怕控制，很容易被集火秒杀。而庄周提供的免伤免控能让她的输出环境安全很多，大招解控，让火舞能够轻易进团，打出爆炸伤害。,黄忠：庄周可以为黄忠提供很好的输出环境。在高端局对战中，庄周提供的免控免伤能够让黄忠不会被迅速击杀。黄忠在架起状态下，敌方突进如果强行切入，同时会进入庄周的攻击范围。不仅无法击杀黄忠，还会受到黄忠和庄周的双重伤害。,压制英雄,花木兰：对局进行到中期时，花木兰便无法和庄周正面交锋。庄周不受控制，让花木兰的多数输出技能无效使用，而自身被动结合二技能伤害能让身板较脆的花木兰无法接受。即使残血对线，庄周也能轻易脱逃。,后羿：即使是出肉装的庄周，后期伤害也异常可怕，自身技能特点也让他根本不会被风筝。叠起被动的伤害能轻易击杀没有位移的脆皮，对此类英雄进行强力压制。,被压制英雄,庄周很害怕孤军作战，所以单独遇到输出型刺客会被一顿暴打,由于灵活的貂蝉附带真实伤害，所以庄周在血量较低时需要注意貂蝉的追击,出装建议,推荐出装一,推荐出装二,Tips：这是全肉装坦克的出装方法，团战能有强大的保人能力，也有非常强的承伤能力,Tips：这套装备使得庄周能抗能打，输出能力与保护能力都很强,英雄攻略,更多,英雄故事,“蝴蝶是我，抑或我就是蝴蝶？”,“是我在梦中邂逅了这个世界，抑或世界原本就是我的梦？”,“从有记忆起，我所梦见的一切，最终都能从无中生出有，化为现实。这或许是很了不起的能力，但旁人都以异类的眼光看着我。我空想出了庞大的异界，却没有一个地方可以让我安放它。”,“曾经也有国君因为这能力而聘请我，但我并不愿成为供奉在祭坛的牛，披着锦绣被送到供桌上。”,“幸好，在名叫稷下的地方，我终于能无拘无束继续做自己的梦。”,“在梦里，我曾经化身大鹏，飞往九万里的高空。从那里，可以看到世界浮沉于星海之上，渺小如同沙砾。它们诞生，发出夺目的光彩，转瞬之间又消失掉。“,“还做过一个漫长的梦，那是很久很久以前，遥远的时代，满眼令人惊异的景象：高耸入云的建筑栉比鳞次。不用马拉的车子飞速穿梭，长翼的铁鸟轰鸣着从头顶掠过。,“啊，你问我活在梦里是否感到快乐？”,“人生有涯，而梦，无边无际。”,历史上的TA,庄周，一般人称庄子。是战国时的思想家，跟老子一道，为道家的代表人物之一，后世老庄并称。其学说崇尚自然，推崇自由。其代表作为《庄子》，不仅具有哲学意蕴，而且文学性极强，有夸张的想象力。其齐物论的相对主义，对心灵自由的追崇，影响了几千年的读书人。而化蝶的梦想、鲲鹏展翅的想象，一直是中国文化的原创元素。',\n",
       "   'image': 'http://game.gtimg.cn/images/yxzj/img201606/heroimg/113/113-mobileskin-1.jpg',\n",
       "   'title': '庄周-王者荣耀官网网站',\n",
       "   'url': 'http://pvp.qq.com/web201605/herodetail/113.shtml'}],\n",
       " ['http://pvp.qq.com/web201605/herodetail/114.shtml',\n",
       "  {'content': '刘禅-王者荣耀官网网站,暴走机关,刘禅,生存能力,攻击伤害,技能效果,上手难度,英雄故事,历史上的ta,王者荣耀首页,>,英雄介绍,>,刘禅,114,技能介绍,磁力屏障,冷却值：0,消耗：0,被动：刘禅的技能可以对机关造成等量的伤害，当刘禅技能对敌方机关造成伤害时会掠夺零件为自身恢复200点生命值（每级成长14点），并且刘禅的控制效果可对防御塔造成短暂的干扰效果,被动让刘禅能更快的摧毁敌方的防御塔和水晶,小霸王护盾,冷却值：12/11/10/9/8/7,消耗：70,刘禅立即重置普攻并开启护盾向前发起冲锋，吸收600/840/1080/1320/1560/1800点伤害同时提升自身移动速度持续3秒，并强化下一次普通攻击，造成350/400/450/500/550/600（+122%物理加成）点物理伤害并短暂击飞,几乎每次开团都是由刘禅的1技能开启的，开启护盾冲锋将敌人击飞，留住敌人，辅助队友将其击杀，当然这个技能在面对敌方gank或追击时也可用来逃跑,机关魔爪,冷却值：8,消耗：65,刘禅操纵机关熊猫伸出魔爪攻击前方区域敌人，造成400/480/560/640/720/800（+100%物理加成）点物理伤害并眩晕,2技能控制指定方向范围上的敌人，为队友创造输出条件,暴走熊猫,冷却值：40/35/30,消耗：140,机关熊猫伸展双臂原地回转，持续对周围敌人打击，每段造成240/320/400（+75%物理加成）点物理伤害。,大招是AOE伤害，范围较大，输出不高但威慑力十足.,冷却值：,消耗：,铭文搭配建议,Tips：宿命增加刘禅的坦克能力；调和，配合1技能控制效果，可以黏住大多数核心输出；刘禅的技能有控制和拆塔的效果，虚空的冷却缩减可以起到加快拆塔速度的作用。,技能加点建议,主升,火焰三尖枪,副升,混天绫.束,召唤师技能,闪现/斩杀,英雄关系,最佳搭档,压制英雄,被压制英雄,最佳搭档,黄忠：这两个英雄在一起玩的就是速推流。刘禅的被动和一二技能的干扰，加上大招对塔的高额伤害，配上黄忠的炮台，能够以极短的时间推掉一座防御塔。并且刘禅的一二技能控制时间较长，能够很好的保护好黄忠，敌人在黄忠的大招圈内越久受到的伤害越高。,高渐离：刘婵和高渐离可以产生很好的联动，刘禅的控制技能比较多，在用一技能配合二技能时不光可以开团，也可以干扰防御塔无法攻击，高渐离可以直接大招进场，释放出高额的爆发输出击杀对方英雄，是正面开团和越塔强杀的利器。,压制英雄,阿轲：当前版本的阿轲多是刺客玩法，出装偏向输出摆法型，攻击力高的同时身板也很脆，当阿轲隐身突进结束，将会面对刘禅2秒左右的控制，在这两秒的时间内刘婵可以配合队友对阿轲进行毁灭性打击。即使阿轲隐身寻找机会切入己方核心输出位，刘禅也可以站在己方输出位利用1技能和2技能的连控轻松保护己方输出。,鲁班：刘婵可以利用技能控制效果轻松打断鲁班扫射，鲁班的被动效果承担了鲁班大部分的输出，每次鲁班在扫射被动时，刘婵都可以用1技能配合2技能轮次打断，使鲁班输出最低化，而且鲁班的技能CD比刘禅长，鲁班在被刘禅这样的坦克贴脸时，很难打出有效伤害，合理的使用技能甚至可以轻松把鲁班击杀。,被压制英雄,刘禅很害怕孤军作战，所以单独遇到输出型刺客会被一顿暴打,由于灵活的貂蝉附带真实伤害，使得刘禅的控制技能不容易控制到貂蝉,出装建议,推荐出装一,推荐出装二,Tips：这是全肉装坦克的出装方法，团战能有强大的保人能力，也有非常强的承伤能力,Tips：对方物理输出较多情况下，冰脉护手能降低敌方输出的攻击速度，坦度十足,英雄攻略,更多,英雄故事,古老的蜀地曾是机关术最兴盛的城市之一。时至今日，在精神领袖诸葛亮的倡导和鼓励下，这座拥有良好学术氛围和宽松悠闲研究环境的城市，不断涌现机关术发明，使蜀地成为大陆最为富有的地区之一。,俗话说，做天才难，做天才的弟子更难，既是天才又是天才的弟子更是难上加难。从出生起，少爷刘禅人生中最大的烦恼在于如何证明自己是老爹和师父青出于蓝的继承者。,七岁，他驾驶著名的木牛流马，撞毁了三间民房和一座猪圈，成功验证了制造杀伤性载具武器的可能性。从此，天才之名开始流传。,八岁，他初次走上战场。作为后备驾驶员，将运载的粮包倾倒进枯水期的河道，成功开辟一条捷径，为最后胜利创造了出其不意的贡献。,十岁，他已不满足于驾驶，自行设计全新破坏性载具。强大功率，拉风熊猫造型，有效弥补驾驶者身高的特制座椅，令蓉城人民津津乐道。自然，老爹和师父会为历次试验摧毁的民房，农田和树木买单。,十二岁，全面升级初号机后，他认为有必要全面检验自己的发明。于是，天才小霸王刘禅，做出了生平第一重要决策：,他……离家出走了！,目标：挑战全大陆机关术第一，魔道第一的稷下三贤者。,然而，雄心壮志的计划仅仅实践了一半便戛然而止。,随着血族之王徐福与枭雄曹操的结盟，魏蜀吴三国被卷入了战乱的漩涡中。赤壁大战一触即发。,少爷刘禅立刻决定暂时中止稷下征服计划，投身于史无前例的战争事业。果然，对天才而言，做二代继承者什么的始终是太过狭隘的想法。,“我的征途是毁灭世界！”,刘禅意气风发的宣告。,这才是天才展示自己的正确姿势。,然而，就像每个天才主角必然有一个宿命的敌人。赤壁战场上，宿命的邂逅发生了。,可爱的眼镜，艳丽的发色，前卫的装扮，一看就很有文化的魔法书，简直跟学识渊博的自己的天生一对。,经历了长达十八又三分之二秒的对视后，少爷的脸红了。,“啊，好像……全面沦陷了。”,似乎，蓉城小霸王的继承者之路，依旧漫漫……,“少爷我……也是有尊严的！”,历史上的TA,三国时蜀国开国皇帝刘备之子，史称后主，小名阿斗，《三国志·蜀书》上有专传介绍。刘禅系刘备甘夫人所生，出生之后，在战乱中颠沛流离，两次遇险，均为赵云所救。刘备去世后，他继承蜀汉的帝位。但国土狭小，资源贫乏，难有作为。他继位之后，一切由诸葛亮做主。诸葛亮死后，姜维等人继续对魏征战，耗尽了蜀汉的国力。当魏国的权臣司马昭派两路大军进兵蜀国，蜀遂被灭。被俘之后的刘禅，被封为安乐公，表示乐不思蜀。到底是自污之计，还是真的没有心肝，无从知晓。但是，由于《三国演义》小说的描写，阿斗成了饭桶的代名词。',\n",
       "   'image': 'http://game.gtimg.cn/images/yxzj/img201606/heroimg/114/114-mobileskin-1.jpg',\n",
       "   'title': '刘禅-王者荣耀官网网站',\n",
       "   'url': 'http://pvp.qq.com/web201605/herodetail/114.shtml'}],\n",
       " ['http://pvp.qq.com/web201605/herodetail/115.shtml',\n",
       "  {'content': '高渐离-王者荣耀官网网站,叛逆吟游,高渐离,生存能力,攻击伤害,技能效果,上手难度,英雄故事,历史上的ta,王者荣耀首页,>,英雄介绍,>,高渐离,115,技能介绍,哀歌,冷却值：0,消耗：0,被动：进行四次演奏以后（普攻或者释放技能），下次普通攻击将会向前弹奏出带有穿透效果的能量和弦，造成300（+100%法术加成）的法术伤害,能量和弦具有穿透效果，同时拥有物理与法术加成.这个效果不管在前后期都是不错的消耗方式,狂歌,冷却值：7,消耗：80,高渐离弹奏出音符，对附近至多2名敌人造成350/410/470/530/590/650（+47%法术加成）点法术伤害，音符命中敌人后，将向附近的敌人进行弹射，至多弹射2次.如果敌人被多个音符命中，后续音符只造成30%的伤害,技能可同时攻击两个敌方单位，并且施法范围较大，对线或团战前都可以用来消耗敌人，前期伤害也是较为可观的.,离歌,冷却值：12/11/10/9/8/7,消耗：70,高渐离震慑琴弦，对附近敌人造成500/560/620/680/740/800（+65%法术加成）点法术伤害，并降低其移动速度35%/40%/45%/50%/55%/60%，持续2秒,AOE技能，造成伤害并减速，能留住敌人，配合大招使用效果更佳.但需注意，此技能范围较小，注意与敌军距离，靠近后再释放,魔音贯耳,冷却值：50/45/40,消耗：140,高渐离激情演奏持续对附近敌人造成伤害（每0.5秒演奏一次，总共10次），每段造成200/250/300（+15%法术加成）点法术伤害，释放技能的瞬间高渐离获得15%免伤效果，身边每个敌方英雄将增加额外5%的免伤效果，持续5秒，并在3秒内获得70%的爆发移动速度加成（持续衰减）。,持续性的AOE输出加上免伤效果和移动速度加成，这个技能在后期有着高额的法术伤害和极强的机动性，是非常棒的团战切后排的技能.,冷却值：,消耗：,铭文搭配建议,Tips：高渐离是一名AOE输出爆炸的法师英雄，高额的法术收益和法穿可以帮助他打出更多的伤害，吸血恢复能力可以提升高渐离的赖线能力，打团时利用免伤和恢复可以有更好的生存能力，攻速加成可以更容易组合技能打出被动伤害。,技能加点建议,主升,火焰三尖枪,副升,混天绫.束,召唤师技能,闪现/斩杀,英雄关系,最佳搭档,压制英雄,被压制英雄,最佳搭档,白起：白起钩子和嘲讽技能能够让对方全部聚集到一起，高渐离这时候开大进场能够打出恐怖的伤害，这一套往往能够击杀对面多人，取得巨大的优势。,庄周：高渐离最怕开大进场时候被对面控住，打不出输出，庄周可以很好的避免这个问题，大招的解控和免控可以有效提升高渐离的输出环境，庄周大招免伤配合高渐离大招时使用技能的免伤效果也可以让高渐离生存能力满值。,压制英雄,黄忠：黄忠是站桩输出型英雄，没有任何位移技能，而且开大时不能移动，虽然增加了一定的魔抗，但是对于穿透和爆发比较高的高渐离来说效果甚微，高渐离开大后使用技能靠近黄忠后受到的伤害也比较少，可以轻松秒掉黄忠。,貂蝉：高渐离有非常强的瞬间爆发输出能力，可以利用大招状态下的免伤效果提升自己的生存环境，配合被动伤害效果可以在短时间内成为一个恐怖的输出点。貂蝉更偏向于持续输出，利用位移和回复效果维持生存的同时打出高额的伤害。在对线或者团战的时候，貂蝉很难和高渐离对抗，经常都会被高渐离一套带走。,被压制英雄,刺客的爆发输出很容易切入击杀高渐离,花木兰的超高爆发输出能力能快速击杀走位不慎的高渐离,出装建议,推荐出装一,推荐出装二,Tips：这是高渐离走高输出路线的一种出装思路，输出非常高但是很脆，需要有较好的操作和团战处理能力,Tips：这套装备使得高渐离既有很强的输出能力也能在团战中有较大的容错率.,英雄攻略,更多,英雄故事,说起大陆最传奇的乐师，人们一定会提到高渐离的名字。,这位天才乐师从初次公开演奏起，就以完美的琴音，狂放不羁的个性征服了人们——尤其是纯情的少女。在声名巅峰时，他夜夜笙歌，将轻松得来的金钱大笔挥霍，身旁围绕着各色美人。,然而放荡的生活没能带给他长久的满足。随着时间的推移，内心产生可怕的空虚。一切来得容易，抛却也并不心疼。忽然“高渐离”这个名字，就像出现时那样突如其来的消失。,他背着心爱的琴开始游历大陆，风餐露宿，日夜不停。去过东南之海聆听波涛，也登高过泰山，和音松风，这使得他的琴技越发炉火纯青。自如的操纵琴弦和每一个乐音，它们将按照自己的心愿取悦别人，或者——杀死他们。,旅途中某天，高渐离误入长平战场。当他躲藏起来等待厮杀结束时，无意目睹了改变命运的一幕：秦军中出现前所未见的怪物收割了成百上千的生命，牺牲者瞬间被吸干。那一刹那，被深深震撼的他认为自己找到了比音乐更重要的使命——杀秦止战。怪物发现了他，但最终他仍然惊险的全身而退。,离开长平后，高渐离四处联络反秦志士，结识了燕国太子丹。这是他邂逅一生中最重要之人的开始……所谓“荆轲”并不是一个人……以乐师身份参加宴会的高渐离救下了刺杀太子丹后重伤昏迷的刺客。,没想到闻名天下的刺客竟然是少女……大胆的计划形成了:用美妙乐音治愈荆轲的伤痕，实践刺秦的意志。,六个月之后，荆轲如他所愿，走向秦王的所在。,那是舍身的剑法，也是单方面的屠杀。,但是，看到浑身伤痕的荆轲倒在秦军的尸骸中，为何填充空洞心灵的只有悔恨？,之后世人仅知道的是刺秦以失败告终，从此世上再也没有了高渐离和荆轲。与此同时，漂泊的乐师与少女阿轲，则踏上了新的旅途。他们并没有放弃战斗，只是从此之后，他们将只为彼此而战。,“爱情与死亡，永恒的乐章。”,历史上的TA,高渐离，战国末期的燕国人，音乐家，善击筑（一种古之打击乐）。据《战国策》记载，高渐离与荆轲相友善，饮与市，边击筑边引吭高歌。当燕太子丹招募荆轲谋刺秦王政之际，燕太子丹在易水边为英雄送别，高渐离为之击筑。荆轲刺秦失败之后，传说高渐离隐姓埋名，浪迹天涯，后来得以凭音乐技能混迹于秦宫，为秦始皇击筑，谋刺秦皇，未果而身死。',\n",
       "   'image': 'http://game.gtimg.cn/images/yxzj/img201606/heroimg/115/115-mobileskin-1.jpg',\n",
       "   'title': '高渐离-王者荣耀官网网站',\n",
       "   'url': 'http://pvp.qq.com/web201605/herodetail/115.shtml'}],\n",
       " ['http://pvp.qq.com/web201605/herodetail/116.shtml',\n",
       "  {'content': '阿轲-王者荣耀官网网站,信念之刃,阿轲,生存能力,攻击伤害,技能效果,上手难度,英雄故事,历史上的ta,王者荣耀首页,>,英雄介绍,>,阿轲,116,技能介绍,死吻,冷却值：0,消耗：0,被动：阿轲在敌人身后发起的攻击，必定暴击(包括技能)，但是基础暴击伤害只有125%（阿轲每1%暴击几率将提升额外的0.5%暴击伤害）。阿轲所有的正面发起的进攻，都不能产生暴击效果（对非英雄单位造成最多1500伤害）,被动技能导致阿轲在敌人正面和背后的输出完全不在一个档次上，在敌人背后进行输出能造成巨大的伤害,弧光,冷却值：4/3.8/3.6/3.4/3.2/3,消耗：0,阿轲立即使用双刺攻击目标（短时间内攻击2次且可触发攻击特效），造成175/200/225/250/275/300（+65%额外物理加成）点物理伤害（施法期间可以移动）。,普攻间隙使用，瞬间造成大量输出，注意施法时继续移动缠住对手,瞬华,冷却值：9/8.6/8.2/7.8/7.4/7,消耗：0,阿轲朝指定方向开始快速位移（突进过程中不造成伤害），在抵达终点后，立即对附近的一名敌人发起攻击（优先英雄），造成350/390/430/470/510/550（+100%额外物理加成）点物理伤害并标记目标持续10秒。阿轲每次攻击标记目标时将附带短暂减速并缩短瞬华1秒冷却时间。被标记的目标攻击阿轲时造成的伤害降低30%，阿轲同一时间只能标记一个敌人。,2技能先手标记敌人后再进行输出，并且2技能的位移能帮助阿轲瞬间到达敌方背后,幻舞,冷却值：20,消耗：0,阿轲短暂时间后进入隐身状态，每0.5秒恢复生命值并增加自身40%移动速度持续3秒（隐身解除后效果消失）。阿轲发起攻击时解除隐身状态，在解除隐身后3秒内增加自身150/175/200点攻击力并且阿轲对敌人造成伤害时增加自身30%移动速度（持续1秒）。被动：击杀或者助攻时刷新所有技能冷却时间。,利用大招的隐身和加速效果切入战场并利用2技能迅速靠近敌方后排进行输出，击杀/助攻后再利用大招逃生或伺机而动,冷却值：,消耗：,铭文搭配建议,Tips：选择无双提升暴击效果，配合无尽大大提升阿轲的爆发能力，狩猎的移速配合位移大招，可以让阿轲更轻松接近对手完成刺杀，攻速可以让阿轲在背击时可以配合技能完成普攻，鹰眼的物穿效果可以为阿轲提供稳定的输出能力。,技能加点建议,主升,火焰三尖枪,副升,混天绫.束,召唤师技能,闪现/斩杀,英雄关系,最佳搭档,压制英雄,被压制英雄,最佳搭档,庄周：作为刺客阿轲的身板比较脆，经常会出现被敌方针对，先手控制集火秒杀的情况，庄周的大招解控和免伤效果可以大大提升阿轲的生存能力，可以帮助阿轲轻松击灭后排，收割战场，同时庄周1技能的减速留人，2技能的提升移速也可以给阿轲追击敌方带来很大方便。,墨子：墨子在中后期应有很强的poke输出和AOE控制能力，和墨子抓人gank时，墨子利用控制可以帮助阿轲轻松完成背击刺杀，团战时墨子的2技能poke输出制造残血也可以给阿轲带来很多收割战场的机会。,压制英雄,王昭君：王昭君是一个脆皮站桩输出英雄，等待王昭君使用2技能后的真空期后，可以快速贴近使用2技能背击，1技能配合普攻打出高额伤害，即使王昭君闪现，也可以用大招继续粘人追击，高额的暴击伤害能轻松收割秒杀王昭君。,鲁班七号：面对鲁班七号需要注意躲避好鲁班七号的1技能命中眩晕效果，可以选择大招绕后利用暴击打出高额伤害，在鲁班七号选择闪现时用2技能跟进秒杀，如果鲁班七号选择站撸，可以在鲁班七号技能后的连射时使用2技能绕后可以轻松击杀。,被压制英雄,牛魔：强力的控制和坚硬的身板让阿轲无论是对他还是对他保护的英雄都难以下手,太乙真人：太乙真人的复活给到队友后即使阿轲击杀也无法刷新自己的大招逃命,出装建议,推荐出装一,推荐出装二,Tips：拥有强大的物理爆发能力，能够在短时间内秒掉敌方脆皮,Tips：后期牺牲了一定的爆发，但是持续输出能力更强,英雄攻略,更多,英雄故事,自古以来，在暗夜中隐藏着神秘的刺客一族“荆氏”。他们掌握着代代相传的杀人之剑的秘诀，收受佣金为雇主服务，并且守口如瓶。,当大周帝国四分五裂的时候，这一族只剩下最后相依为命的兄妹二人兄长继承了“荆轲”的名号，白日里混迹街头，与市井无赖为伍，夜幕降临时则化身为致命杀手。将军樊於期，窥探到秦王的秘密被迫逃亡，成为燕国的客人。但是，他的声望引起了太子丹的嫉妒。“落魄的流浪者，竟然取代孤成为反秦的首领，不可容忍。”太子丹的手下将大笔金钱送到了杀手荆轲的手中。,荆轲产生了生平第一次犹豫。豪爽的樊於期与年轻的刺客荆轲，不知不觉间早已超越身份的差距结为好友。最终他拒绝了这笔生意。,次日，樊於期前来拜访荆轲，从怀里掏出一册木简，上面刻着秦宫的布防图。他对好友诉说计划，想要雇佣“荆氏”刺秦，却不知道眼前人正是那位著名的刺客。荆轲敏锐察觉到有人跟踪而至，他打开门，发现外面大批私兵包围。,“真可惜啊，我还没有机会为自己挥出过一剑。”荆轲叹息着，提剑走向了残忍的凶手。生命的最后一刻，他想到的是小妹，自己死去后，家族的命运将降临到少女的身上。,惨烈的战斗持续到黄昏，熊熊烈焰将半条街映红。次日，太子丹志得意满的起身去参加又一场反秦者的宴会，向与会者展示了樊於期和荆轲的头颅。然而众人的惊叹声中，闪烁着寒光的利刃袭来——宣示着代代传承的刺客“荆轲”，并不因一人的死去而死去。,太子丹的侍卫彻夜搜索着大胆的刺客，却不知宴会的乐师已将她带走。,不知过了多久，继承了家族之名的少女被琴声唤醒，她失去了记忆，只记得自己的名字叫阿轲。悠扬的琴声向她述说着漫长的故事，包含家族，死亡和刺秦的意志。她沉默的聆听着。那卷在火焰中燃烧的地图，已深深镌刻在她的脑海里。,千百年来，延续着雇佣刺客命运的荆氏一族的最后一人，终将是为了自己和所挚爱的亲人，挥出致命的一剑。,历史上的TA',\n",
       "   'image': 'http://game.gtimg.cn/images/yxzj/img201606/heroimg/116/116-mobileskin-1.jpg',\n",
       "   'title': '阿轲-王者荣耀官网网站',\n",
       "   'url': 'http://pvp.qq.com/web201605/herodetail/116.shtml'}],\n",
       " ['http://pvp.qq.com/web201605/herodetail/117.shtml',\n",
       "  {'content': '钟无艳-王者荣耀官网网站,野蛮之锤,钟无艳,生存能力,攻击伤害,技能效果,上手难度,英雄故事,历史上的ta,王者荣耀首页,>,英雄介绍,>,钟无艳,117,技能介绍,石之炼金,冷却值：0,消耗：0,被动：钟无艳造成伤害时，会有50%几率将敌方英雄石化1秒，每个敌方英雄在8秒内只会受到一次石化效果,被动的石化效果无疑增强了钟无艳的控制效果，也变相的增加了他的生存能力,狂飙突进,冷却值：5,消耗：50,钟无艳向指定方向突进，并将下一次普通攻击替换为重击，重击将造成225/270/315/360/405/450（+120%物理加成）点物理伤害，并  且会减少50%移动速度，持续2秒,钟无艳在追击敌人或逃跑时都能利用此技能进行位移，重击也有可观的输出伤害,震慑打击,冷却值：10/9/8/7/6/5,消耗：70,钟无艳蓄力后用大锤猛击地面，对范围内的敌人造成350/420/490/560/630/700（+150%物理加成）点物理伤害，对范围中心的敌人造  成双倍伤害,非常强大的范围控制技能，将范围内的敌人击飞，对敌人造成高额的伤害，配合被动的石化效果能形成非常强力的控制,飓风之锤,冷却值：40/35/30,消耗：100,钟无艳抡起大锤持续旋转攻击附近敌人，持续3.2秒，每0.4秒造成150/200/250（+80%物理加成）点物理伤害，并且当敌人处于外圈时  将额外造成40%伤害；被动：钟无艳召唤大地之力，每3秒生成一个持续存在的岩土护盾，岩土护盾可抵免80/120/160(+35%物理加成)点伤害,钟无艳的主要输出技能，持续性的AOE伤害输出配合被动的石化效果会非常恐怖,冷却值：,消耗：,铭文搭配建议,Tips：调和提高最大生命以及移速加成，提升回复能力；鹰眼和异变提高物理攻击和物理穿透，在一定程度上的提高了钟无艳的伤害，抗伤害的同时自身也可以打出伤害。,技能加点建议,主升,火焰三尖枪,副升,混天绫.束,召唤师技能,闪现/斩杀,英雄关系,最佳搭档,压制英雄,被压制英雄,最佳搭档,虞姬：虞姬自身被动带有减速效果，二技能也能一定的保全自己前期，虞姬的被动减速配合钟无艳的石化可以对敌方上单英雄有效的压制。即便被抓，钟无艳的一技能也可以很好的护住虞姬。后期团战中，钟无艳石化技能更好的是去前排抗伤害而不是保护后排，虞姬的二技能也有一定自保能力，可以在刺客手中逃过一劫。,马可波罗：马可子弹有粘人效果，二技能可以位移也在一定程度上可以保护自己，钟无艳石化敌方，马可输出。团战中，钟无艳开启大招，作为先手，马可作为后手 ，是一个很强力的可以控可以输出的组合。,压制英雄,钟馗：团战时，钟馗勾人技能十分厉害，但是对上钟无艳，把钟无艳勾过去，钟无艳一个大招基本可以让对面团灭。钟馗本身没有位移技能，面对钟无艳很是吃亏。即便钟无艳没有大招，被勾过去仍可以选择一技能逃跑 。,兰陵王：兰陵王作为一个自身没有位移技能的刺客，虽然大招隐身非常厉害，钟无艳可以在兰陵王靠近时靠近我方后排，释放一二技能，不给兰陵王近身的机会。即便敌方兰陵王隐身秒掉我方后排，也会被钟无艳石化，以命换命。,被压制英雄,钟无艳在大招期间，项羽能将她推开限制她对友方的输出与控制,灵活的貂蝉会让钟无艳的技能很难打中她,出装建议,推荐出装一,推荐出装二,Tips：半肉半输出的出装思路，能有效提升钟无艳生存能力和作战能力,Tips：全输出装备钟无艳，输出能力极强，但生存能力较弱,英雄攻略,更多,英雄故事,强健，美貌（自称），意志坚定（公认）的钟无艳，我行我素的夺宝猎人。以一己之力去对抗既成事实，似乎是她的乐趣。因为出生的卑微，她幼年曾经饱受歧视和嘲笑。她的回应是以天赋神力让那些认为可以随意欺辱她的人们饱尝判断失误的可怕后果。可这个谁都瞧不起的女人流落到稷下时，却出人意料的通过试炼而入学。夫子收留了这个异类，并包容了她此后数不清的冲撞、校规违反和讨价还价。她所书写的检讨长度，已经成为七个不可思议的传说之一，并被后来的学弟学妹们津津乐道。她很喜欢金钱，似乎金钱能带给她童年缺失的安全感。,可就在数年之前，行事永远出人意料的钟无艳找到了归宿：她和一个男人相爱并且生活在了一起——所有稷下学子都惊掉下巴，并且争相为可怜男人的生命安全下注……,这场婚姻让她摇身一变成为齐国的王族（尽管他们并不情愿接受她），并豪爽的将稷下的土地正式赠送给了夫子。或许在她的心里，稷下某种意义上也是等同于“家”的存在。,“安定”两个字永远都不适合钟无艳的人生。生命中的温暖没有持续太久。一场事故中，她的丈夫被潜伏的魔种所杀害。那些记忆中被忘却的孤独，再度涌现出来。无所留恋的她，回到了稷下。开始执着追寻魔种和魔种的秘密，因为爱人，血脉抑或强大而神秘的力量。,想要阻挠她的人都得好好掂量下，自己的骨头是否硬到足以抵挡著名的百万吨大锤。,给你的麻烦开个价吧！,历史上的TA,钟无艳，史称钟离春，后世以无盐之名称世。故事始见于《列女传·辩通传》，但更多的见于民间传说。说她是齐国出了名的丑女，但见识高远，才华横溢。齐宣王时，齐国处在内外交困的危机之中，无盐去见了齐宣王，说服齐王改弦更张，发奋图治，从而导致齐国的中兴，成为战国中期最富庶，最强大的国家。因此，齐宣王立无盐为后。当然，齐宣王时齐国中兴是真的，但是不是因为无盐，还无确证。无盐的故事，只是美色祸国论的又一种传说中的例证。',\n",
       "   'image': 'http://game.gtimg.cn/images/yxzj/img201606/heroimg/117/117-mobileskin-1.jpg',\n",
       "   'title': '钟无艳-王者荣耀官网网站',\n",
       "   'url': 'http://pvp.qq.com/web201605/herodetail/117.shtml'}],\n",
       " ['http://pvp.qq.com/web201605/herodetail/118.shtml',\n",
       "  {'content': '孙膑-王者荣耀官网网站,逆流之时,孙膑,生存能力,攻击伤害,技能效果,上手难度,英雄故事,历史上的ta,王者荣耀首页,>,英雄介绍,>,孙膑,118,技能介绍,时间沙漏,冷却值：0,消耗：0,被动：孙膑释放技能会增加20%移动速度，持续1秒,施放技能会短暂提升移动速度，这无疑提升了孙膑的生存能力，一定程度影响敌人的攻击节奏,时空爆弹,冷却值：8/7.6/7.2/6.8/6.4/6,消耗：60,孙膑向指定方向投掷一枚炸弹，并附带着在目标身上，持续3秒后爆炸，附着目标时造成180/225/270/315/360/405（+18%法术加成）点法术伤害，爆炸对范围内敌人造成540/675/810/945/1080/1215（+54%法术加成）点法术伤害并减少其40%移动速度，持续2秒。,这是孙膑一个重要的团控技能，技能范围较远，可以用来很好的留人或撤退.该技能还能降低敌方魔抗，对于我方法师来说，放大了他们的输出能力,时之波动,冷却值：12/11.2/10.4/9.6/8.8/8,消耗：60,孙膑引导时空之力，使得范围内友军增加30%/36%/42%/48%/54%/60%移动速度和20%冷却缩短，持续2秒，持续时间结束后会时光倒流，并返还期间所受到40%的伤害,为附近友军补充承受伤害的护盾，并提高移动速度，提升友军的输出能力，这个技能无论是追击或者掩护队友撤退都很强，这是孙膑作为法师辅助最有特点的技能之一,时光流逝,冷却值：45/40/35,消耗：100,孙膑向指定方向投掷一枚强化炸弹，附着敌人或飞行到最大距离后展开力场，展开时会对范围内敌人造成500/625/750（+45%法术加成）点法术伤害并减少其50%移动速度，同时敌人还会被沉默1秒；力场将持续5秒，处于力场中的敌人会减少25%冷却的恢复速度，5秒后会再次对范围内敌人造成1500/1875/2250（+135%法术加成）点法术伤害。,这个技能范围较大，团战时如果命中多个敌人，能沉默并减速敌方对手，变相降低了敌人的输出，为我方英雄创造非常好的输出条件.,冷却值：,消耗：,铭文搭配建议,Tips：孙膑作为一个辅助，他需要高频率的释放技能来辅助队友。回声提供冷却缩减与双抗，增加续航能力。梦魇适当地增加伤害。狩猎增加移速可以提升机动性。,技能加点建议,主升,火焰三尖枪,副升,混天绫.束,召唤师技能,闪现/斩杀,英雄关系,最佳搭档,压制英雄,被压制英雄,最佳搭档,马可波罗：马可波罗的一技能弹道是一条直线，对于有位移的英雄容易躲避，但在躲开时孙斌通过二技能的小加速可以使马可进行技能弹道的平移来追击敌人。并且在马可需要进团放大时，孙斌可以通过大招沉默给马可提供良好输出环境。,高渐离：通过孙斌的二技能加速来弥补高渐离机动性的不足，并且可以在团战时充分利用时机，放出大招沉默敌人帮助高渐离进团输出。,压制英雄,诸葛亮：在残血队友暴露在诸葛亮面前时可以通过大招造成沉默限制诸葛亮技能，使得队友逃脱，也可以在残血诸葛亮逃脱时通过大招沉默阻止他用二技能离开。,李白：李白通过一技能切入之后孙斌的大招沉默可以阻止李白的离开，使得李白留在人群中，让队友能做出足够的输出，进行压制。,被压制英雄,兰陵王的隐身和秒杀能力很容易接近孙膑将其秒杀,刺客的爆发输出很容易击杀持续伤害型的孙膑,出装建议,推荐出装一,推荐出装二,Tips：全输出法师出装，会有较高的法术伤害，但比较脆皮，生存能力较弱，需要比较好的走位技巧,Tips：输出装备为主，带一些生命值属性的法强提高生存能力，团战中能持久的对队友进行保护，提升了阵容的容错率,英雄攻略,更多,英雄故事,稷下三贤者培养了许多极具天分的弟子，孙膑是其中佼佼者之一。这个害羞的少年将兵法与机关术天才的结合在一起。面对各国王室争相聘请的巨大荣耀，他依然保持了谦逊和好学，赢得了人们的称赞。,但这份才华最终带来的是灾难。孙膑的成果令师兄庞涓感到威胁，产生了激烈的竞争之心，甚至当众蔑称他为“小姑娘”和“爱哭鬼”。即使被诋毁，孙膑仍以对师兄的礼节友善相待，这令周围的人们为之不平，尤其是好友田忌，多次训斥庞涓狭窄的心胸。,庞涓在学院陷入孤立。他已分不清自己是嫉妒孙膑的才华，抑或恼怒于孙膑和田忌之间的友情。不久，孙膑前往稷下附近调查遗迹的途中遭遇狂暴的魔种。被追赶时摔下山崖，埋入一片废墟中。田忌发现好友失踪后，焦急的四处寻找。借助机关微弱征兆的引导，他冒险闯入废墟，试图解救双腿重伤的孙膑。不幸的是，古老的机关被触动，引发了小小的时空波动。于是就在孙膑的眼前，田忌的身躯卷入黑暗的漩涡中。,造成事故的巧合并非偶然。庞涓精心策划的完美报复实现了。但上天并不忍心葬送才华横溢的孙膑。他被闻讯而来的大宗师墨子救出，保住了生命，代价则是双腿和好友田忌。,庞涓以为孙膑即使继续活下去，也将一蹶不振。但将自己关在家中六个月后，孙膑以机关翼代替双腿，重新出现在人们眼前。这一次亮相连三贤者都惊动了。曾经比谁都脆弱，一点小事都哭个没完的少年，坚定宣布他没空悲伤，有更加紧迫的事必须完成。,那个黑暗中的恐怖时刻，虽然亲眼目睹好友被拉入时间漩涡，但没有鲜血，没有残骸，什么都没有。田忌，一定还在某个地方活着。孙膑如此坚信。他要将太古遗迹的秘密找出来。就像噩梦的夜晚，田忌焦急呼唤着他名字一样，现在轮到他以机关术的力量，重新打开无边无垠的时空之门，将最好的朋友带回家。,“时间和波浪，变化无常。”,历史上的TA,齐国人，兵家始祖孙武子之后，为战国兵家的代表人物。被称为孙膑，是因为他受过膑刑。传说他与庞涓同为鬼谷子门下，庞涓嫉妒他的才华，将他骗入魏国，受了膑刑，差点死掉。孙膑逃脱之后，进入齐国，为齐国大将田忌的军师。著名的田忌赛马，以下驷对上驷的故事，就是他的主意。后来齐魏桂陵交战，孙膑设围魏救赵之计，大败庞涓率领的魏军，马陵再战，庞涓败死。孙膑著有《孙膑兵法》，经后世考古发现得之。',\n",
       "   'image': 'http://game.gtimg.cn/images/yxzj/img201606/heroimg/118/118-mobileskin-1.jpg',\n",
       "   'title': '孙膑-王者荣耀官网网站',\n",
       "   'url': 'http://pvp.qq.com/web201605/herodetail/118.shtml'}],\n",
       " ['http://pvp.qq.com/web201605/herodetail/119.shtml',\n",
       "  {'content': '扁鹊-王者荣耀官网网站,善恶怪医,扁鹊,生存能力,攻击伤害,技能效果,上手难度,英雄故事,历史上的ta,王者荣耀首页,>,英雄介绍,>,扁鹊,119,技能介绍,恶德医疗,冷却值：0,消耗：0,被动：普通攻击和技能都会附带持续25（+5%法术加成）点法术伤害的中毒效果，并叠加1层毒药印记，当友方英雄受到善恶诊断的治疗时叠加1层恢复印记，并持续回复5（+3%法术加成）点生命值。毒药印记和恢复印记的效果都可以叠加至多5层，持续7秒,该技能可以在技能或普攻后有持续伤害，所以线上消耗和换血都是一个不错的选择，在与其对拼时，不要等到残血再撤退，否则有可能被持续伤害的效果击杀,致命灵药,冷却值：2,消耗：40,扁鹊朝敌人扔出致命毒药，毒药散布后持续4秒对范围内敌人造成70/76/82/88/94/100（+12%法术加成）点法术伤害和减速效果，扁鹊每15/14.4/13.8/13.2/12.6/12秒可制作1瓶毒药，最多存放3瓶,伤害不太高，主要的作用还是在于减速，相当于一个软性控制技能，限制敌方的走位,善恶诊断,冷却值：5,消耗：60,扁鹊朝指定方向释放药剂，对路径上的敌人造成100/120/140/160/180/200（+30%法术加成）点法术伤害，并对触碰的友军英雄施加恢复印记并回复50/60/70/80/90/100（+15%法术加成）点生命值,该技能可以对友军和自己进行治疗，在蓝量健康的情况下，可以施放技能来回血，团战中，能给队友形成不错的治疗效果,生命主宰,冷却值：18/15/12,消耗：130,扁鹊引爆附近所有印记，对敌人造成200/250/300（+40%法术加成）点法术伤害，对友军英雄治疗120/150/180（+24%法术加成）点生命值.每层印记额外增加50%的伤害与治疗效果。,大范围的伤害和回复技能，在被动印记层数较高时，能对敌方造成强力的法术伤害，对友军有很强的治疗效果,冷却值：,消耗：,铭文搭配建议,Tips：对扁鹊来说最重要的是攻速和冷却，冷却效果可以通过装备补充，选择标准的攻速铭文可以让扁鹊轻松普攻叠加被动到5层，达到最大收益，穿透效果可以帮助扁鹊在前期达到伤害最大化，移速可以增加扁鹊gank支援能力。,技能加点建议,主升,火焰三尖枪,副升,混天绫.束,召唤师技能,闪现/斩杀,英雄关系,最佳搭档,压制英雄,被压制英雄,最佳搭档,蔡文姬：①团战处理：这两个英雄具有较好的恢复能力，称为奶妈奶爸，在团战中给队友足够回血效果，使队友的血量处于一个较为健康的状态，可以保证团战的容错率。②技能配合：蔡文姬的2技能弹弹乐给扁鹊提供了很好的留人效果，配合扁鹊的1，2技能加普攻，可以轻松打出5层被动，辅助用大招可以打出高额的输出量。,项羽：项羽拥有很起那个的坦克和控制能力，可以把敌方切入英雄推向指定位置，配合扁鹊减速叠毒，让敌人无法接近，大招控制也可以让敌方失去反制能力，时刻保护在扁鹊身边会让敌方英雄很痛苦。,压制英雄,妲己：妲己初期清理兵线能力比较弱，扁鹊强的AOE清理兵线能力会更强一些，可以使经济和等级领先；在前中期妲己的伤害比较低无法一套技能秒发扁鹊，技能冷却时间内又是妲己的真空期，扁鹊利用比较强的恢复和赖线能力，可以轻松和妲己对线压制。,东皇太一：东皇太一初期具有较强的入侵野区能力，扁鹊和其他中单不同，扁鹊主要靠普攻叠被动来打更多输出的，所以当东皇太一来己方蓝buff时，扁鹊可以通过普攻和技能不断对他进行消耗，可以避免了近战英雄和东皇太一站撸的情况。使东皇太一初期入侵能力下降，避免敌方在初期拿到节奏。,被压制英雄,兰陵王的隐身和秒杀能力很容易接近扁鹊将其秒杀,花木兰的超高爆发输出能力能快速击杀走位不慎的扁鹊,出装建议,推荐出装一,推荐出装二,Tips：输出较高的一套法师装备，缺点是比较脆皮，生存能力较弱,Tips：输出装备为主，带一些生命值属性的法强提高生存能力，团战中能持久的对队友进行保护，持续作战能力超强,英雄攻略,更多,英雄故事,扁鹊从记事起就与师父相依为命。起初他是年轻纯真的青年，怀抱着救世的热情，醉心于医术的研究，看到病人因为自己妙手回春而无比自豪。偏偏忽略了师父竭力隐藏行踪的可疑，以及双目中不时流露的警觉与战栗。,直到某个看似寻常的日子，师父背上药箱出诊再没归来。扁鹊不得不开始了独自行医的生涯。凭借精妙的医术，他救治了无数病人。在路过稷下时，也首次了解到世间曾经有过古老的医术，能让受伤的肉体重新生长，能让衰老的面容变得青春，甚至从无至有创造出新的生命——人们将这不可思议的医术含糊的视为“魔道”的一部分，作为禁忌而不愿谈论。,随着神医之名越传越广，惊动了秦王前来求医。迎接他的竟是失踪已久的师父。此时，师父摇身一变成为芈月太后最信任的御医。扁鹊治好了秦王的病，师父却希望弟子协助自己进行秘密的魔道手术试验。毫无戒心的扁鹊答应了师父的请求。,孰料，手术方结束，师父就撕下了慈爱的面具。秦王猝死，扁鹊以下毒凶手的名义遭到逮捕。此时，他才意识到自己被最信任的亲人推入了阴谋。,自己还不想死，腰带的夹层中还藏着手术用的麻药。终于，临刑前，扁鹊抓住时机迷晕狱卒逃出了秦国。师父不打算轻易放过他。残忍的杀手在稷下附近追上他，就地挖了大坑将他活埋。,扁鹊陷入了死亡的深深绝望中。但突如其来的暴雨冲开岩石。随着山崖崩裂，他从泥土的禁锢中解脱，随即又被抛向更深的黑暗。醒来时，发现自己身处于静寂的地下之城——传说中的废都朝歌。幽暗神秘的光芒照亮前所未见的文字，太古时代的魔道文明活生生呈现在眼前。,他终究从谋杀中幸存，随之重见天日的还有用衣衫拓印的奇妙文字。那个善良天真的医生消失了，取而代之的是冷酷无情的非法怪医。求诊的病人被索以高额金钱，求教医术的同行首先要奉上供解剖的材料，他不再相信任何人，不再介意世俗的目光，一意进行着可怕的实验。,无论付出多大代价，他终究会超越那个人，并给予他致命一击。,“生存还是死亡，这是个问题。想要操纵它？愚不可及！”,历史上的TA,古代最有名的名医，《史记》上有传。春秋时人，秦氏，名越人。曾遇奇人学医，学成之后，四处行医，人们用上古时代的神医扁鹊称呼之，本名反而不显。扁鹊有许多神奇的治病故事，比如，在齐桓侯看似没事的时候，就看出他有重病，但齐桓侯一直不信，等到病重了，扁鹊说你已病入膏肓，没法治了。还比如，他将已经被认为暴病身亡的虢国太子救了过来。最后，他入秦为秦武王治病，引起秦国太医的嫉妒，遭暗算身亡。',\n",
       "   'image': 'http://game.gtimg.cn/images/yxzj/img201606/heroimg/119/119-mobileskin-1.jpg',\n",
       "   'title': '扁鹊-王者荣耀官网网站',\n",
       "   'url': 'http://pvp.qq.com/web201605/herodetail/119.shtml'}],\n",
       " ['http://pvp.qq.com/web201605/herodetail/120.shtml',\n",
       "  {'content': '白起-王者荣耀官网网站,最终兵器,白起,生存能力,攻击伤害,技能效果,上手难度,英雄故事,历史上的ta,王者荣耀首页,>,英雄介绍,>,白起,120,技能介绍,反击之镰,冷却值：0,消耗：0,被动：白起的普通攻击和技能将会减少目标对白起造成5％~12％的伤害，持续3秒，减少幅度随英雄等级成长,白起通过堆肉装能更有效的利用被技能，让白起在团战中更加坚挺，一战到底.,血之回响,冷却值：7,消耗：40,白起回旋大镰血洗四方，对范围内的敌人造成150/200/250/300/350/400（+40％物理加成）（+3％最大生命值）点物理伤害，并回复2％已损失生命值，命中敌方英雄时会额外回复2％已损生命；被动：白起受伤时有20％几率释放血之回响,白起唯一的输出技能，伤害不高，但CD较短，可以反复使用此技能进行消耗,死神之镰,冷却值：14/13/12/11/10/9,消耗：60,白起在指定位置召唤镰刀，镰刀在一定延迟后收回，对范围内的敌人造成200/230/260/290/320/350（+100％物理加成）点法术伤害并将其拉回；同时敌人会减少50％移动速度，持续2.5秒；被动：白起对生命值低于30％的目标会额外造成30％伤害,群体控制技能，但缺点是距离短，出手时间长，先手很容易被躲开，但作为后手时，会较容易控制到敌方多人,傲慢嘲讽,冷却值：40/35/30,消耗：100,白起向指定位置跳跃，造成300/380/460（+100％物理加成）点法术伤害并嘲讽敌人，持续1/1.3/1.5秒；嘲讽时间会随着白起的额外生命值增加，每1000点额外生命值额外提供0.2秒嘲讽时长，最多持续2.5秒；期间受到生命回复效果提升100％；被动：白起受到攻击时会获得庇佑，增加10点移动速度与30/60/90点物理防御，持续3秒，最多叠加3层,控制技能，团战时冲到人群尽量嘲讽更多敌人形成控制效果，为友军创造输出条件,冷却值：,消耗：,铭文搭配建议,Tips：白起作为一名坦克，红色宿命可以提升血量和物理防御能力；蓝色推荐长生，可以增加白起的坦克能力；绿色推荐均衡可以提升白起的双抗能力。,技能加点建议,主升,火焰三尖枪,副升,混天绫.束,召唤师技能,闪现/斩杀,英雄关系,最佳搭档,压制英雄,被压制英雄,最佳搭档,王昭君：防守面，王昭君是一个高爆发输出的脆皮法师，很容易被敌方刺客作为主要目标针对，有白起在身旁保护，合理利用控制可以达到很好的效果；进攻面：王昭君比较依赖2技能的控制，2技能的释放需要预判，也会被敌方利用2技能刚使用的真空期，而白起的双控能力，可以为王昭君提供更精准的2技能命中率。,黄忠：黄忠开启大招时拥有很高的持续输出能力，白起可以选择把握时机，利用23组合技能将敌方英雄限制在黄忠大招范围内，也可以站在黄忠前面保护，面对白起这种坦克控制英雄很难突破防线威胁到己方黄忠，是防守无敌战术的核心玩法。,压制英雄,露娜：露娜的月下无限连可以在团战中打出恐怖的持续输出，白起可以利用二技能勾回露娜或者闪现接近露娜直接开启大招控制，配合队友集火可以轻松秒杀露娜。,阿轲：白起针对近战脆皮刺客、依赖普攻的英雄压制能力比较强。白起身板硬，利用反甲装配合1技能被动的触发伤害，可以与刺客正面刚；阿坷的身板相对脆一些，需要绕后刺杀后排射手和法师，己身抗击打和抵抗能力都一般，有白起的保护时很难切入击杀敌方后排，一旦被白起大招嘲讽，很容易遭到集火反杀。,被压制英雄,白起的单兵作战和追人能力很差，单独遇到刺客韩信会毫无办法,白起不能很容易控制到灵活的貂蝉,出装建议,推荐出装一,推荐出装二,Tips：这是全肉装坦克的出装方法，团战技能有一定输出能力，也有非常强的承伤能力,Tips：这是白起偏团队型的坦克出装，能为团队创造更大的收益,英雄攻略,更多,英雄故事,“我不是人。而是兵器。”,“即使也有过身为普通人的岁月。那段记忆已变得混乱模糊。”,“作为人的时候，我是如此弱小，残缺不健全。一个普通孩童的力量都可以把我掀翻。”,“从有意识起，我就待在黑暗之中，待在狭小的，没有光芒的房间。”,“直到有一天，唯一的门被推开，阳光照射了进来。是那个孩子。他是那样尊贵，那样聪颖而博识，那样炫目如同光明。”,“当我被芈月太后找来的奇怪太医徐福实施的手术折磨时，只有他会来看我。”,“他为什么知道我渴求着什么？他竟然承诺要让我走出黑暗。”,“是的，我如此渴望拥抱光明。为了光，为了照亮我暗无天日的生活中的这道光明。”,“身在黑暗，心向光明。”,“所以我想变强。我想有一天，走出这狭小的房间，堂堂正正站在阿政的身边，站在阳光之下，为他开疆拓土。”,“徐福发现了这件事。他哈哈大笑，让我无地自容。”,“干嘛做这些多余的事。他说。很快，你将变得强大。比任何人都强大。”,“接下来发生什么，我就不记得了。徐福找来他过去的弟子，一起为我施行了手术。”,“我……不再是我，甚至连人都不是。”,“坚硬的躯壳，令人窒息的皮肤……”,“但是我的确变得强。我走出狭小房间，在荒原上，轻而易举埋葬了整整一支军队。”,“天与地都变成暗色，就像囚禁我好多年的房间的颜色。”,“徐福说，你不是人，而是一把武器。最强的剑，只会被最强的手所挥动。”,“从那时候起，已经过了多少年了呢？我一直记得这句话。”,“能挥动我这把剑的，永远只有一个人——阿政。那个过去的小孩子，现在是君临秦国的君主，而且还将统一六国，争霸天下。”,“我并不怨恨徐福将我变成这副奇怪的模样。我实现了自己的梦想。曾经我仅能仰望阿政，现在我可以为他冲锋在前。”,“徐福的离开一度让我认为自己会因渴血而死。还好我找到了当年徐福的弟子，医师扁鹊。他为我再次施行了手术。”,“‘你应该知道，做完手术后，你也可以如常人般生存。但你的身体衰败的速度会异于常人。这样也没关系吗？’扁鹊问。”,“当然没关系。”,“有件小事，我从来没有告诉过阿政。在实施过手术刚苏醒时，听到芈月太后说，逝去武王的孩子，也被送给了徐福作为手术素材之一。那个孩子是我吗？我不知道。王座本应是我的吗？我也不在乎。”,能够作为阿政的臣子，为他冲锋在前，这便足矣。,“身在黑暗，心向光明”,历史上的TA,战国四大名将之首，其事迹见于《史记·白起王翦列传》。白起是平民出身的将领，凭着自己的战功升上来的杰出战将。生平七十余战，未尝败绩。击破韩魏，打败楚齐燕，秦赵长平一战，坑杀赵40万降卒，让六国胆寒。后因功高盖主，遭人嫉妒，死在雄猜之主秦王政手里。为将杀戮过重，也是他一生的短处。',\n",
       "   'image': 'http://game.gtimg.cn/images/yxzj/img201606/heroimg/120/120-mobileskin-1.jpg',\n",
       "   'title': '白起-王者荣耀官网网站',\n",
       "   'url': 'http://pvp.qq.com/web201605/herodetail/120.shtml'}],\n",
       " ['http://pvp.qq.com/web201605/herodetail/121.shtml',\n",
       "  {'content': '芈月-王者荣耀官网网站,永恒之月,芈月,生存能力,攻击伤害,技能效果,上手难度,英雄故事,历史上的ta,王者荣耀首页,>,英雄介绍,>,芈月,121,技能介绍,永生之血,冷却值：0,消耗：0,被动：芈月释放技能会召唤暗影仆从，自动搜寻身边敌人进行攻击造成40（+7%法术加成）点法术伤害并回复芈月20（+3%法术加成）点生命值；召唤暗影仆从时芈月获得30点暗影之力，暗影之力消失时暗影仆从也会立即消失；暗影仆从最多存在6个,芈月施放技能召唤暗影仆从，合理的召唤并使用仆从可以大大增强自己吸收伤害能力,痛苦冲击,冷却值：10/9.6/9.2/8.8/8.4/8,消耗：0,芈月向前释放能量，对命中的敌人造成200/220/240/260/280/300（+24%法术加成）点法术伤害，在能量飞行的过程中芈月能够再次使用技能降临在能量的当前位置，对范围内敌人造成法术伤害；第二段技能命中敌人会为芈月召唤一个暗影仆从,芈月可以使用这个技能来进行位移和造成伤害，并且在第二段施放前，芈月可以随意走位迷惑对手进行位移,幻翼仆从,冷却值：9,消耗：0,芈月向指定方向释放锁链持续4秒，连接命中的第一个单位，每0.5秒抽取目标的生命、10点攻击力与30点法术强度，每段造成50/60/70/80/90/100（+7%法术加成）点法术伤害，如果链条最终没有断裂，则为芈月召唤一个暗影仆从,芈月利用此技能降低敌方的输出，所以敌方后排英雄要注意通过走位躲避其技能，不然无法输出更多伤害,暗影之月,冷却值：24/22/20,消耗：0,芈月遁入黑暗能量，增加自身移动速度并免疫所有效果持续2秒，技能开启及结束时都将对范围内的敌人造成400/500/600（+50%法术加成）点法术伤害，如果第二段伤害命中敌人，则为芈月召唤一个暗影仆从；被动：芈月普通攻击得到强化，造成法术伤害与减速效果，同时增加自身10点暗影之力,这是芈月高自保能力的保障，增加移速和免疫效果。被动使得芈月普攻得到强化，造成法术伤害和控制效果,冷却值：,消耗：,铭文搭配建议,Tips：红色梦魇提供了法术攻击和法术穿透的加成，可以在前期让芈月有非常高的伤害，芈月的持续伤害源于技能和被动，因此选择可以增加攻速的铭文狩猎。绿色选择怜悯，减少芈月技能冷却的时间。,技能加点建议,主升,火焰三尖枪,副升,混天绫.束,召唤师技能,闪现/斩杀,英雄关系,最佳搭档,压制英雄,被压制英雄,最佳搭档,刘邦：刘邦自身拥有一身控制，能弥补芈月控制方面的不足。而刘邦落地后的双抗加成可以让芈月更加肆无忌惮地冲进人群里输出，一个偏肉的法坦和一个偏输出的法坦一起相得益彰。,钟无艳，芈月是一个持续输出的法师，但控制方面薄弱，钟无艳的石化控制，可以为芈月留住敌方英雄。,压制英雄,王昭君：芈月的大招拥有无法被选择的效果可以完美躲过王昭君的二技能，1技能也可逃离或接近王昭君。从而大大降低王昭君造成的伤害。,露娜，露娜的持续输出需要依赖连续的标记支持，而芈月大招可以免疫一切效果，导致露娜不能持续衔接技能，从而配合队友轻松击杀.,被压制英雄,张良：拥有硬控的英雄可以很好的控制住芈月让她无法随心所欲施放技能,东皇太一：拥有硬控的英雄可以很好的控制住芈月让她无法随心所欲施放技能,出装建议,推荐出装一,推荐出装二,Tips：半肉半输出装备，有一定的输出，配合被动有一定的坦度,Tips：输出能力略显缺乏，但能够成为一个合格的前排，拥有恐怖的血量和双抗,英雄攻略,更多,英雄故事,芈月永远不会忘记，自己卑微的少女时代结束于秦王赞叹而惊艳的眼神。凭借美貌这件武器，以及对权谋的洞悉，她成为漫长岁月的胜利者。不仅自后宫的倾轧中生存下来，甚至成为了秦国的太后。但时间不会对任何人有所怜悯。青春容颜似细沙般从指间流逝，年幼的帝王逐渐长大成人，权力与尊贵便如风中烛火，转瞬间就可能熄灭。她意识到这点，开始一天比一天陷入恐惧。,此时，自称徐福的男人颤抖着伏在她的脚下，急迫惊惶的请求她的庇护。奉上的贡礼则是永葆青春的灵药。,她服下灵药，做起美妙的梦。梦里她重回年华鼎盛的时代，俯瞰着过去的敌人。梦醒时刻，她知道一切并非幻觉。从镜子里看到的，俨然是二十年前的模样。正如徐福所言，消逝的青春美貌又回来了。,徐福如愿以偿得到了他所渴求的庇护。太后赐予他专门的药室来炼制那种珍稀的灵药。,徐福请求着灵药的材料。死囚和战俘成为最初的牺牲品，之后甚至开始为此饲养魔种。,然而灵药效力所能持续的时间越来越短。面对太后不耐烦的质问，徐福再次献上新的秘方——长生不老之药。芈月初次得知，过去曾经存在一个辉煌的时代。那时的人们经由魔道拥有更长久的生命，以及更长久的青春。,很快，徐福开始了新的实验：他将一个卑贱之子浸泡进药池，并实施了魔道手术，将他改造为强大的战士，并拥有了远超出人类的寿命。,芈月目睹了这个奇迹，欣喜若狂，她想要变得美貌而强大。可此时，神秘的人侵入了王宫，经历腥风血雨的一夜后，徐福失踪了。,芈月无法忍受近在咫尺的美梦破灭。,“渴求青春美貌，并愿意付出一切代价。”,“年龄？那是秘密。”,历史上的TA,史称芈八子，秦昭襄王时的秦宣太后。在《史记》和《战国策》里都有关于芈月的零星记载，她本是秦惠文王的妃子，惠文王死后，秦武王继位，不久即举鼎而死，芈八子的儿子昭襄王继位，芈八子作为太后辅政。在她辅政期间，秦国得到了长足的发展，但功劳未必都是她一个人的。',\n",
       "   'image': 'http://game.gtimg.cn/images/yxzj/img201606/heroimg/121/121-mobileskin-1.jpg',\n",
       "   'title': '芈月-王者荣耀官网网站',\n",
       "   'url': 'http://pvp.qq.com/web201605/herodetail/121.shtml'}],\n",
       " ['http://pvp.qq.com/web201605/herodetail/123.shtml',\n",
       "  {'content': '吕布-王者荣耀官网网站,无双之魔,吕布,生存能力,攻击伤害,技能效果,上手难度,英雄故事,历史上的ta,王者荣耀首页,>,英雄介绍,>,吕布,123,技能介绍,饕餮血统,冷却值：0,消耗：0,被动：吕布拥有比其他近战更远的攻击距离；方天画戟附魔状态下，普通攻击会造成100%物理加成的真实伤害并且回复自身已损生命值1%（+25%额外物理加成）点生命值；如果下一次方天画斩未命中英雄，会立刻失去附魔效果,吕布拥有比普通战士更远的普攻距离，附魔状态下，有更高的伤害和血量回复，保证了吕布的续航能力，也能更好的进行发育,方天画斩,冷却值：5,消耗：0,吕布向指定方向挥动方天画斩，造成500/620/740/860/980/1100（+275%额外物理加成）点物理伤害，如果命中英雄，将会附魔自身武器，武器附魔状态下，方天画戟会造成500/620/740/860/980/1100（+275%额外物理加成）点真实伤害，并且每命中一位敌方英雄会回复自身已损生命4%（+50%额外物理加成）点生命值,在命中敌方英雄后，普攻能造成真实伤害和血量回复，是吕布在团战中持续输出的重要保证,贪狼之握,冷却值：12/11/10/9/8/7,消耗：0,吕布夺取指定方向范围内敌人的魂灵，对其造成80（+35%额外物理加成）点物理伤害并减少其30%移动速度，持续3秒，每夺取一个魂灵都会为自身增加可抵免300/420/540/660/780/900点伤害的护盾，最多叠加3层,在命中更多敌方单位后护盾效果更强，也能进行轻微的减速留人,魔神降世,冷却值：60/55/50,消耗：0,吕布在指定位置从天而降展开杀戮，落地时会标记范围并将范围内敌人击飞1秒，在标记范围内施展方天画斩会造成400/650/900（+250%额外物理加成）点物理伤害，并且方天画斩攻击范围会增加；吕布在范围内会获得额外的240/300/360点物理防御和法术防御，触碰范围边缘的敌人会受到150（+87%额外物理加成）点物理伤害并减少其50%移动速度，持续2秒；当敌方英雄触碰时还会额外回复吕布自身已损生命4%（+50%额外物理加成）点生命值,非常强大的控制技能，范围非常大，能够击飞范围内所有敌人，非常适合开团使用.当然，在面对敌方gank时，也可以用来当作位移技能逃跑,冷却值：,消耗：,铭文搭配建议,Tips：吕布作为一名近战英雄，物理攻击及生存能力至关重要，移速的增加能提高吕布的支援速度，在战场上以更灵活的身姿作战，6%的冷却缩减可让吕布更频繁地使用技能去打出更多的伤害,技能加点建议,主升,火焰三尖枪,副升,混天绫.束,召唤师技能,闪现/斩杀,英雄关系,最佳搭档,压制英雄,被压制英雄,最佳搭档,武则天：武则天的连续控制及伤害可以较好的配合吕布进行输出。团战中吕布先手开大控制敌方后排，武则天在再开大造成控制和成吨输出。,白起：白起在团战中是一个主坦的位置，主要在团战中承受伤害、控制敌方英雄，而吕布这样一个偏进攻型的战士则是非常需要一个控制留人的英雄打配合。,压制英雄,张飞：张飞大招变身和二技能都能为自己套上一个较厚的护盾，但附魔时的吕布为真实伤害无视护盾。,黄忠：黄忠是个移动炮台，但开大后的黄忠无法移动，此时吕布使用大招，，造成控制和伤害，配合队友轻松击杀黄忠。,被压制英雄,项羽的1技能可以有效打断吕布施放大招,王昭君的减速和控制技能很好风筝吕布,出装建议,推荐出装一,推荐出装二,Tips：半肉半输出装备，在持续输出能力上非常强,Tips：这是吕布偏团队型的坦克出装，能为团队创造更大的收益，在被动的存在下，他在团战中也会有不俗的伤害,英雄攻略,更多,英雄故事,男人倒在路边，奄奄一息。伤口引来苍蝇嗡嗡作响。肮脏又脆弱的小虫子，等待着吞噬身躯庞大的猎物的一刻。,可它们终究没有等到。流浪的车队驻扎下来，温柔的手送上清水。“活下去。”小小女孩的声音，动听如天籁。,活下去。,夜幕降临了。微风吹拂着蒿草，围绕着燃烧的火堆，女孩翩然起舞。濒死的男人心驰神往，自己身在梦中吗？,大地微微的颤动。敏锐的耳力立刻察觉到，那是快速接近的马蹄。,梦，醒了。男人握紧拳头。怀疑滋长。,人们围绕篝火走动，预备夜晚的宿营。疑心被出卖的男人果决的举起了武器。,老弱们毫无反抗之力一一倒下。,马蹄声渐行渐远，始终没有接近，原来，真的只是路经而已。死寂弥漫在道边。方才的欢快像场梦，男人提着方天画戟，孤独的矗立着。梦，总是昙花一现。,之后又过了多少年呢？,“马中赤兔，人中吕布。”,他的力量超乎寻常，纵横大陆所向无敌。但与威震天下的“战神”相提并论的，则是“有勇无谋”之名。,吕布在内心冷笑着。不是想利用自己，就是想自己死。这个世界，就是这么残酷。,是的，也许有人心甘情愿成为别人手中的武器，譬如……白起。吕布显然对这样的命运毫无兴趣。,没有人生来贱如猪狗，我会活下去，得到想要的一切。,隐忍又隐忍，背叛再背叛，差一点，他以为自己触摸到了天下。,直到那个女人在眼前舞蹈。,透过曼妙的舞姿，他看到了一个梦。很久很久以前，遥远的篝火边……那片刻的喜悦太过美好，就像夜晚回味无数次的拯救生命的泉水。,再一次的，梦醒了。,身躯轰然倒下，意识清醒如斯。,绝无仅有的真心，换来最惨烈的下场。英雄终究末路。,黑袍的男人发出嘶哑的笑声。“你可以选择的。”,选择什么？唯一选择不过是活下去而已，得到唯有轮回的天谴。,只想活下去，因为没有人想死，可所有人都想你死。,“这个世界，有个最大的秘密，线索隐藏在天书中。”黑袍男人自顾自的说。“我努力想要接近它。你，是最好的实验品。”,“不甘心？那就超越轮回吧。”,不知不觉，身体，又可以开始行动。熟悉触感，是方天画戟。力量，力量不断涌入。意识，如风中烛火，忽明忽暗。而那种执念，却越发清晰。,不能成人，那就成魔吧。,活下去，之后……,“我是这个世界的梦魇！”,历史上的TA,吕布，字奉先，东汉末年的猛将。《三国志》和《后汉书》上均有记载。擅长骑射，勇武过人。在东汉末大乱中，如鱼得水，先后为丁原和董卓收用。后于司徒王允合谋，诛杀董卓，但旋即被董卓部将所击败。先后投奔袁术和袁绍，最终割据一方，建安三年，被曹操击败，兵败身死。在《三国演义》中，吕布被渲染成武艺绝伦、无人可敌、位列第一的武将，须得关羽、张飞和刘备三人合战，才能抵挡，所谓三英战吕布的故事，流传甚广。',\n",
       "   'image': 'http://game.gtimg.cn/images/yxzj/img201606/heroimg/123/123-mobileskin-1.jpg',\n",
       "   'title': '吕布-王者荣耀官网网站',\n",
       "   'url': 'http://pvp.qq.com/web201605/herodetail/123.shtml'}],\n",
       " ['http://pvp.qq.com/web201605/herodetail/124.shtml',\n",
       "  {'content': '周瑜-王者荣耀官网网站,铁血都督,周瑜,生存能力,攻击伤害,技能效果,上手难度,英雄故事,历史上的ta,王者荣耀首页,>,英雄介绍,>,周瑜,124,技能介绍,引燃,冷却值：0,消耗：0,被动：周瑜普攻和技能的火焰会对目标叠加引燃印记，持续4秒。叠加满4层后目标被引燃(可引燃敌方建筑)，减速60%持续1秒，并且在4秒内每秒承受125（+17%法术加成）点法术伤害。引燃期间目标不会再被叠加印记。,周瑜通过被动可以快速推线拿塔，并且让处于火区的敌人停留更长的时间,东风浩荡,冷却值：6/5.6/5.2/4.8/4.4/4,消耗：60,周瑜周围产生单向风区，持续5秒。火区若被风区持续覆盖1.5秒，会朝风向方向蔓延出新的火区，火区每隔0.5秒对敌人造成125/150/175/200/225/250（+17%法术加成）点法术伤害。风区内己方英雄移速提升10%，敌方英雄移速降低20%。狂风吹起瞬间，还会将身旁小范围内敌人朝风向方向击退并造成法术伤害200/240/280/320/360/400（+30%法术加成）点法术伤害,风向决定了火区扩散的方向，需要准确的判断战场的位置以及随后的发展趋势,流火之矢,冷却值：0.6,消耗：50,周瑜下令发射火箭矢轰击指定区域，火箭矢落地造成250/300/350/400/450/500（+34%法术加成）点法术伤害，并制造一块火区，持续8秒，期间每0.5秒对火区内敌人造成一次125/150/175/200/225/250（+17法术加成）点法术伤害。火区的数量若超过5个将清除较早生成的火区。该技能每10秒储备1次（受冷却缩减影响），最多可储备3次,火区重叠的部分持续伤害不会叠加，所以需要让火区合理的分散分布于战场,烽火赤壁,冷却值：10/9/8,消耗：100,周瑜用火焰掠过扇形区域，造成200/300/400（+40%法术加成）点法术伤害，火焰若掠过火区会激起一道火风，火风会造成额外200/300/400（+40%法术加成）点法术伤害以及1秒晕眩效果,通过扩散开的火区可以发起大范围的控制和制造大量伤害，并且让处于控制中的敌人停留于火区受到更多的持续伤害,冷却值：,消耗：,铭文搭配建议,Tips：周瑜作为一名法师，符文主要补充法术穿透和法术吸血，高级符文补充一些冷却缩短,技能加点建议,主升,火焰三尖枪,副升,混天绫.束,召唤师技能,闪现/斩杀,英雄关系,最佳搭档,压制英雄,被压制英雄,最佳搭档,配合老夫子大招可以让敌人承受满额的火区伤害,配合吕布可以预先判断出战场位置，轻松让火区布满战场,压制英雄,没有人可以在周瑜的火区范围内进行站桩输出,直来直去的英雄会被预判移动路线，面对他的会是刀山火海,被压制英雄,兰陵王大招的隐身近身和二段位移斩杀，十分克制需要布置战场的周瑜,百里守约超远的攻击范围超出了周瑜作战半径,出装建议,推荐出装一,推荐出装二,Tips：圣杯增加耗线续航能力，回响之杖增加走位能力，高冷却，高法术攻击可以直观的打出大量伤害,Tips：冰霜法杖提供减速，使得敌人更难摆脱火区，该出装拥有极高的生存能力和控制能力，但对蓝buff依赖较大,英雄攻略,更多,英雄故事,“我出身江东名门，毕业于稷下学院，出仕为海军大都督，以吴国的守护者之称扬名东海。世人眼里，我的人生光辉璀璨。”,“叫孔明的家伙也许造成了一些阴影，但最终他还是会输给我，毋庸置疑。”,“从稷下学成后，我回到出生的江东，和最好的兄弟孙策一道，以谋略和武勇夺取吴郡，建立我们新的国家。”,“那时候的我意气风发，自信而无所畏惧。”,“直到生命中出现了意外。我的意外叫小乔。”,“她的出现像一道微风，让我得以放下重责自由呼吸；也揭开了惨淡的未来，让我陷入深渊。”,“小乔，流淌着魔道家族的血液。”,“从认识她开始，那份异乎寻常的魔道天赋就让我疑心，调查结果打破侥幸：乔氏热衷于以血统传承魔道。小乔和大乔姐妹，与其说是家族的女儿，不如说是家族的作品。”,“乔氏的野心大得出乎意料。贪婪和阴谋带来的裂隙在阿策和大乔之间流动，最终导致了无可挽回的后果。我失去了兄弟，大乔失去了爱人，并愤而离开。”,“我能够将生活中最残酷的一面揭示给那纯洁无暇的少女吗？不，绝不。”,“要保护她，只剩下一个办法。”,“不久，乔氏的族长暴毙了。研究魔道的庄园则被乱兵毁掉。”,“这件事本应天衣无缝。可一个老家伙找上门来。他自称叫姜子牙。”,“他讲了很多。西方的同盟必然会与东方的帝国一战，魔种将趁机卷土重来。大陆会在反复的战争与冲击中崩溃。”,“我不动声色：关我什么事？”,“‘我欣赏你为那个女孩做的一切。可据我所知，为寻求魔道之力这么做的家族，并不仅有乔氏。他们寻求力量，最终让自己变成魔种那副人不人，鬼不鬼的样子。你还相信夫子那套无论出身如何都该和平共处的鬼话吗？你的行为已经背叛了自己。’老家伙说。”,“老头揭开了我深埋的伤痕和恐惧。”,“‘你想让我做什么？’我问。”,“‘在这个世界上，还存在第三种力量’他抛出惊天言论，并讲述了自己在大河流域的森林中沉思的发现，还有太古毁灭的‘日之塔’的历史。”,“我颤栗了。他想要引出这股力量，想要驾驭它，想要……”,“但他的确说服了我。我想守护主公和香香，我想守护江东和吴国，我更想守护小乔。”,“所以，要做自己该做的事。按老头的说法，即使付出众多生命的代价也在所不惜。它会因破坏被唤醒……”,“一场战争正中下怀。就在那个叫赤壁的地方，东海的血族，魏蜀吴三国，数十万大军齐聚于此，史无前例的毁灭”,“有个东西，叫东风祭坛。”,“身为男人，无法让步的只有两件事：胜利和小乔。”,历史上的TA,周瑜，字公瑾，三国江东英豪之一。先辅佐孙策，后在孙权帐下为都督。为人风流倜傥，善音律，人称度曲周郎，留下“曲有误，周郎顾”的美谈。周瑜最著名的战绩，是在赤壁之战中，与刘备合作，大败曹军，奠定了天下三分的格局。周瑜在此战役，起了最主要的作用。而《三国演义》中那个心胸狭隘的周瑜，并非历史的真实。',\n",
       "   'image': 'http://game.gtimg.cn/images/yxzj/img201606/heroimg/124/124-mobileskin-1.jpg',\n",
       "   'title': '周瑜-王者荣耀官网网站',\n",
       "   'url': 'http://pvp.qq.com/web201605/herodetail/124.shtml'}],\n",
       " ['http://pvp.qq.com/web201605/herodetail/126.shtml',\n",
       "  {'content': '夏侯惇-王者荣耀官网网站,不羁之风,夏侯惇,生存能力,攻击伤害,技能效果,上手难度,英雄故事,历史上的ta,王者荣耀首页,>,英雄介绍,>,夏侯惇,126,技能介绍,噬目,冷却值：60,消耗：0,被动：夏侯惇生命值低于50%时，每一次技能或普通攻击命中目标都会为其回复3%的生命值，持续8秒.（该效果每30秒冷却一次）,在夏侯惇生命值低于50%时，面对追击时不要一味的逃跑，可以适当的施放技能或普攻进行回血，在追击敌人时更加要利用这个回血效果，将技能的收益达到最大化,豪气斩,冷却值：7,消耗：50,夏侯惇挥动大刀，向前发射一道刃风.对刃风命中的敌人造成240/290/340/390/440/490（+100%物理加成）点物理伤害并减速，刃风命中英雄后可再次施放豪气斩，击飞前方一定区域的敌人造成240（+100%物理加成）点物理伤害.,这个技能只有在第一段命中敌方英雄后才能接上第二段豪气斩击飞敌人，形成范围控制效果，第一段如果对小兵或者野怪施放时，是无法触发第二段技能的哦！,龙卷闪,冷却值：12/11/10/9/8/7,消耗：60,夏侯惇获得一个额外最大生命值15%的护盾，对周围敌人造成200/225/250/275/300/325（+70%物理加成）点法术伤害.夏侯惇8秒内的下三次普通攻击获得额外的100/120/140/160/180/200点真实伤害，并减少1秒不羁之刃的冷却时间.,由于是生命值加成，所以夏侯惇需要一定的血量装备，在护盾开启短时间内对敌人进行的普攻输出为真实伤害，不仅如此，每次普攻可以减少大招的冷却时间，所以可以通过此技巧对小兵或野怪进行普攻，尽快刷新大招.,不羁之刃,冷却值：15,消耗：80,夏侯惇扔出链刃将自己拉向既定位置，对范围敌人造成300/425/550（+118%物理加成)点物理伤害并使第一个碰撞到的敌人昏迷1秒，夏侯惇飞抵目标区域后还将追加300（+118%物理加成）点物理伤害.,这个技能是夏侯惇超强的留人技能，需要预判对手走位，利用大招进行追人或gank都能发挥非常好的效果，并且逃命时也可以通过对小兵、野怪甚至场景建筑施放进行位移撤退.,冷却值：,消耗：,铭文搭配建议,Tips：夏侯惇是一个典型的坦克英雄，红色宿命提供攻速和生命物理防御；蓝色铭文调和补充移速和生命回血，更加方便于支援游走；同时绿色鹰眼补足一些伤害。,技能加点建议,主升,火焰三尖枪,副升,混天绫.束,召唤师技能,闪现/斩杀,英雄关系,最佳搭档,压制英雄,被压制英雄,最佳搭档,鲁班七号：鲁班七号搭配辅助走下路，一级点一技能之后的二段控住非常容易控住敌人，配合带红buff的鲁班七号可以给对面上单很大压力甚至拿下人头，后期同样如此，配合鲁班七号抓人非常方便。,李白：夏侯惇在团战之中可以制造很大的混乱，配合一三技能的控制可以打乱敌人阵型并拖延时间给李白刷大招的机会。,压制英雄,鲁班七号：夏侯惇虽然是个坦克，但是全肉的夏侯惇依然有着不俗是伤害，而且二技能之后有着真实伤害，大招位移可进可退，可攻可守，面对鲁班七号这种脆脆皮短腿英雄有着很大优势。,钟无艳：钟无艳虽然有控制有位移，但是如果打到后期装备成型，钟无艳将完全不是夏侯惇的对手。钟无艳控制有着时间限制且输出不足，而夏侯惇有真实伤害和被动回血，较有优势。,被压制英雄,孙尚香可以通过位移轻松躲过夏侯惇的技能,貂蝉能在躲避技能同时很好的风筝夏侯惇,出装建议,推荐出装一,推荐出装二,Tips：前中期以输出装为主，后期补上一定的血量装备以保证持续输出能力,Tips：全肉装夏侯惇，能抗能打，可以承受巨量伤害,英雄攻略,更多,英雄故事,广阔的荒漠上，流传着不羁之风的名号。,这位扛着大刀，名为夏侯惇的佣兵，以百人斩之名令丝绸之路上的盗匪闻风丧胆。他从何而来？无人知晓，而他的强大却是众所周知，威名仅次于传说中的佣兵团“龙”。,一天黄昏，佣兵们聚集的客栈，将面孔掩藏于黑色披风下的可疑家伙将闪瞎所有在场者的大笔黄金堆到酒桌上。,“前往这里，金子全归你们。”他摊开潦草绘制的地图，指向一个地名。佣兵们哗然了，梦寐以求的大买卖！,“来路不明的交易，怎么看都很可疑。”豪迈的汉子擦拭着大刀，漫不经心的质疑着。,“你在害怕吗？”,“不，比起金子，能跟你决斗会更吸引我。”,然而他的声音淹没在喧哗中。人们欢天喜地的带走黄金，留下前往指定地点集合的承诺。,佣兵们，流浪者们，逃荒的难民们，从四面八方涌入荒芜的废墟。残破的断壁之间，他们谈论着是即将发起一场掠夺，或者准备迎接游牧民族的突袭。,可惜，雇佣者需要的只是他们的生命。,随着可疑家伙的呢喃，枭雄——曹操高举大剑，庆贺自己的新生。,他还沉浸在陶醉中，摇摇晃晃的夏侯惇站了起来，手则按住刀柄，摆出即将进攻的架势。,施法的黑衣男人露出惊讶的表情，竟然还有人从自己的术法下逃脱？噢，不……他用一只眼的代价换取了存活……这是……这是……,“要为自己的同伴复仇吗？”,曹操发出了大笑。“白白送死而已。”,“我很小的时候，养父教给我生存之道。”夏侯惇说，“这是一个弱肉强食的世界，但俺却不这么认为。你很强大，我却能因挑战你变得更强。所以，来决斗吧！”,黑衣的男人产生了危险的预感。他想要先发制人，却被枭雄阻止：,“何不投入我的麾下？我保证，会让你遇到更多值得决斗的对手。”,男人挥动着大刀：,“那你要小心罗。等到没有对手的那一天，我还是会向你挑战！”,夏侯惇没有说出口的是，当一只眼的视力被剥夺时，记忆的残片被唤醒，关于他的出身，关于秘法……,暂且追随枭雄吧，或许有天，能找到想要的答案。那时，他也将变得更加强大，足以去守护想要的东西。,看不见的那只眼在隐隐作痛。,里面有自己的过去。,以及 ……,“独眼，是男人的浪漫！”,历史上的TA,夏侯惇，东汉末年沛国谯县人，字元让，其事迹见于《三国志·魏书》。早年以豪烈闻名，勇冠绝伦。曾诛杀羞辱其师的人，以义闻名乡里。因与曹操同族，常年跟随曹操征战，屡立战功。在征讨吕布之役中失一目，因此人称盲夏侯。为太守时，善抚百姓，招徕亡命，讲求耕稼，一郡为之大安。',\n",
       "   'image': 'http://game.gtimg.cn/images/yxzj/img201606/heroimg/126/126-mobileskin-1.jpg',\n",
       "   'title': '夏侯惇-王者荣耀官网网站',\n",
       "   'url': 'http://pvp.qq.com/web201605/herodetail/126.shtml'}],\n",
       " ['http://pvp.qq.com/web201605/herodetail/127.shtml',\n",
       "  {'content': '甄姬-王者荣耀官网网站,洛神降临,甄姬,生存能力,攻击伤害,技能效果,上手难度,英雄故事,历史上的ta,王者荣耀首页,>,英雄介绍,>,甄姬,127,技能介绍,凝泪成冰,冷却值：0,消耗：0,被动：每次技能伤害都会为目标叠加印记，当印记叠满三层时目标将会被冰冻并造成350（+52%法术加成）点法术伤害（该效果5秒内对同一目标只会生效一次）。,甄姬通过被动技能的存在来打出控制效果和更多的伤害,泪如泉涌,冷却值：8,消耗：90,甄姬召唤水柱冲出地面，对接触的敌人造成500/590/680/770/860/950（+70%法术加成）点法术伤害并击飞。,甄姬的控制技能，技能有一定的延迟时间，作为先手效果很差，不容易控制对手，需要预判对手的走位施放,叹息水流,冷却值：6,消耗：70,甄姬引导水流在敌人间流动，对敌人造成300/350/400/450/500/550（+45%法术加成）点法术伤害。,这是一个不错的AOE技能，伤害也很高，而且是选中单体目标，非常稳定，团战中能造成非常可观的输出，CD也比较短，前期主要用作清线和消耗使用,洛神降临,冷却值：50/45/40,消耗：150,甄姬释放水之精魄，对直接命中的敌人造成400/500/600（+65%法术加成）点法术伤害，并形成一片水域，对触碰的敌人造成200/250/300（+32%法术加成）点法术伤害与减速效果。,五杀神技！在范围内持续造成高额伤害，而且可以配合被动形成AOE控制技能,冷却值：,消耗：,铭文搭配建议,Tips：这套铭文提供法术强度、法术穿透、冷却减缩，以及法术吸血。法术穿透和法术强度增加甄姬的输出能力，法术吸血让甄姬有一定的续航能力，冷却减缩减少技能CD，让甄姬能更快得打出技能被动冰冻敌方并造成伤害。,技能加点建议,主升,火焰三尖枪,副升,混天绫.束,召唤师技能,闪现/斩杀,英雄关系,最佳搭档,压制英雄,被压制英雄,最佳搭档,张飞：张飞开大前的一二技能能保护甄姬，让甄姬能用出技能对敌方造成伤害及控制。大招也能保护甄姬，开大后一二技能对敌方造成伤害和减速，甄姬也能在安全的距离用出技能对敌方造成伤害。,黄忠：黄忠架炮后通常会成为敌方目标，当敌方进攻黄忠时，甄姬的大招过去，能打到更多敌人，输出的同时被动控制，为黄忠缓一波压力，在辅助的保护下，和黄忠一起击杀敌方英雄。,压制英雄,鲁班七号：鲁班七号作为没有位移的射手，团战时甄姬能把大招放在他脚下，为了规避伤害，鲁班必定会离开，大招带减速，鲁班离开也需要一定时间，限制了敌方射手的输出时间，若是鲁班交了闪现，也有利于我方刺客战士击杀敌方射手。,貂蝉：甄姬特点是团控，远程消耗，团战时甄姬能在安全的地方对交战区使用技能，二技能的弹射以及三技能的范围持续伤害，让甄姬极容易打出被动。一般貂蝉带净化，过了这两秒，甄姬在远处就能控住貂蝉，让我方输出击杀貂蝉。优势就在于，甄姬能远程消耗，而貂蝉必须近身打伤害。,被压制英雄,身为脆皮法师，甄姬害怕韩信等位移多伤害高的刺客英雄,甄姬的技能并不能很好的限制貂蝉,出装建议,推荐出装一,推荐出装二,Tips：暴力的法师全输出装备，能够形成非常高的伤害输出,Tips：一套比较肉的法师出装，生存能力超强，并且有一定输出能力，适合逆风局出的装备,英雄攻略,更多,英雄故事,甄姬本是以温柔仁慈闻名大陆的绝代美女，出身极为高贵，被认为流着古代圣者的血脉，从而受到世人的崇敬。她从小被教育要肩负责任，克制自己的欲望，无私的感化世人，净化世间的污秽。,可十八年的坚守，所有小心谨慎，都在遇到那个人时被打破。他青春洋溢的面孔，大胆无畏的行动力，痴情持续的追求，还有那些令人心跳的甜言蜜语，都令她头晕目眩。,“我全部的生命意义都是为了邂逅你。”,“请接受卑微男子送上的赞美：若轻云之蔽月，若流风之回雪。”,“翩若惊鸿，婉若游龙。”,甄姬平静如水的心中产生涟漪，第一次有了要挣脱身份束缚的想法。她想为自己的生命争取一次。,经历重重波折，抛弃了家族，宿命和高贵的身份，她终究如愿以偿嫁入了正快速崛起的曹氏一族。然而，新婚之夜出现在眼前的人既熟悉又陌生，他曾经是才华横溢的恋人，如今是撕破面具的陌生人；一面是风流潇洒的翩翩公子，一面是野心勃勃的继承者。,甄姬这才惊觉自己落入了一个圈套。曹氏一族迫切想得到她，所寻求的并不是美貌，而是她所拥有的自血脉中传承的力量。,一切为时太晚。她卷入野心，阴谋和战乱中，无法自拔。除了随波逐流，似乎已没有选择。,“明明说好了，要永远在一起……”,历史上的TA,甄姬，中山无极人氏，出身官宦世家。自幼聪明貌美，颇有才华。先嫁袁绍之子袁熙，袁绍败后，被曹丕收纳，曹丕登基称帝后不久，即失宠，被赐死。其子曹叡即魏明帝继位后，追封她为文昭皇后。曹丕的弟弟曹植写的著名诗篇《洛神赋》，据说就是以她为原型。',\n",
       "   'image': 'http://game.gtimg.cn/images/yxzj/img201606/heroimg/127/127-mobileskin-1.jpg',\n",
       "   'title': '甄姬-王者荣耀官网网站',\n",
       "   'url': 'http://pvp.qq.com/web201605/herodetail/127.shtml'}],\n",
       " ['http://pvp.qq.com/web201605/herodetail/128.shtml',\n",
       "  {'content': '曹操-王者荣耀官网网站,鲜血枭雄,曹操,生存能力,攻击伤害,技能效果,上手难度,英雄故事,历史上的ta,王者荣耀首页,>,英雄介绍,>,曹操,128,技能介绍,争霸,冷却值：0,消耗：0,被动：释放技能时提升自身攻击速度10%，至多增加50%，持续3秒,这是曹操能够在战斗中打出爆发输出的基础，在被动技能支持下，曹操只需要再拥有足够的冷却缩减，就可以不断的施放纵横天下，从而对敌方造成更高的伤害,霸道之刃,冷却值：10/9.4/8.8/8.2/7.6/7,消耗：0,曹操向前发起冲锋，对路径上的敌人造成160/185/210/235/260/285（+84%物理加成）点物理伤害，该技能可以在短时间内连续释放3次.第三次攻击将会击飞敌人,这个技能使得曹操非常灵活，连续释放三次可有以产生很远的位移和伤害.不论在追人或逃跑时都非常实用,纵横天下,冷却值：12/11/10/9/8/7,消耗：0,曹操剑指天下，向前挥出强大剑气对命中的敌人造成240/300/360/420/480/540（+90%物理加成）点物理伤害并短暂减速.被动：普通攻击命中敌人时减少纵横天下1秒冷却时间,对直线上敌人造成物理伤害，并减速，配合被动技能可以频繁使用,浴血枭雄,冷却值：30,消耗：0,曹操以鲜血意志强化大剑，开启时对附近敌人造成300/375/400（+100%物理加成）点物理伤害，并大幅度提升自身攻击力100/150/200及20%韧性效果，每次普攻或技能命中敌方将回复自身生命120/180/240（+40%物理加成）点，持续8秒,这个技能在提升曹操伤害的同时，也增强了曹操在团战中的生存能力,冷却值：,消耗：,铭文搭配建议,Tips：曹操作为一名战士，宿命提高突进时的生存能力，鹰眼保证在切入后排时能有足够的伤害击杀脆皮，狩猎提供的移动速度提高机动性。,技能加点建议,主升,火焰三尖枪,副升,混天绫.束,召唤师技能,闪现/斩杀,英雄关系,最佳搭档,压制英雄,被压制英雄,最佳搭档,庄周：利用2技能增加移动速度，增加己方突进的机动性，在gank的时候除了有加速增益外，还能使用1技能为敌人施加减速效果，这样更能帮助曹操留住敌人。在进行团战时，这时候庄周的大招天人合一可以完美的解决曹操控制的烦恼，并且还有持续2秒的免疫控制以及提高伤害减免效果，可以让曹操更加放心的冲锋陷阵。,孙膑：孙膑在和曹操打配合时可以为他增加技能冷却以及移动速度加成。使用2技能加速可以让曹操贴近敌人进行打击，生命恢复可以很好的提高曹操的生存能力。在曹操进行突进切入敌军后排时可以开启大招，能帮助曹操对后排输出英雄进行大范围沉默以及减速效果，曹操利用技能突进配合孙膑可以达到1+1＞2的效果。,压制英雄,王昭君：王昭君的关键点于2技能的冰冻效果，冻住英雄大招打出极高的爆发。曹操的大招能够增加韧性、再加上抵抗之靴的增加的韧性，不管冰冻还是减速对曹操来说都是没有太大威胁的，而且曹操1技能位移也可以轻松躲掉王昭君的2技能，突进击杀王昭君。,鲁班七号：曹操的一套技能很少有脆皮能够承受的住。他的高机动性和强大控制能力，也让没有位移的脆皮十分头疼，即使鲁班的高伤害可以给予他一定的自保能力，曹操强大的大招回血效果也能抵消这个优势，可以轻松压制近乎无解。,被压制英雄,刘邦的嘲讽技能能有效控制曹操输出,王昭君的减速和控制技能限制曹操的输出能力,出装建议,推荐出装一,推荐出装二,Tips：全输出曹操，伤害爆炸，但是很脆，对操作要求较高,Tips：半肉半输出曹操出装，在爆发和生存能力上都很强,英雄攻略,更多,英雄故事,战争是什么？,是铭文？是力量？是权力？,不，这是一场游戏，一场野心与欲望的游戏。,既然是游戏，必然有游戏的规则。,曹操想做的，就是那个制订游戏秩序的人。,然而，阻碍实在太多太多：人间界的守护者夫子和他的稷下学院，不知踪迹的太古魔导姜子牙，最强帝国大唐和它的统治者……,他不得不一边思考着如何打破游戏秩序，一边扩张势力。很快，狡诈与野心大放异彩，不仅收揽了神秘的佣兵组织“龙”，连挡在前路的战神吕布也死于他的计算与阴谋。,但这样太慢了。支配这个世界的，是机关术和魔道。要打破这两者的秩序，还需要新的力量源泉。,契机出现在沧海之滨，血族之王徐福自东瀛扶桑归来，为卷土重来谋求合作：若曹操愿提供战俘建立血族大军，他将助其统一三国。,曹操却表示，自己想成为血族。,徐福发出了低哑的笑声，他认为曹操已经被自己展现的力量迷惑，终究会成为芈月那样受自己操纵的傀儡。,然而转化为血族后，曹操所做的第一件事，是制造意外，将通晓机关术与魔道，却不愿为自己效力的蔡邕及其一族全部置于死地。,蔡邕所收养的野兽，被阴谋蒙蔽双眼，反倒投效了曹操。至于幼小的蔡文姬，她的天才也将在成人后为其所用。,曹操开始下自己的棋。,他大张旗鼓依据蔡邕的研究寻找上古遗留的大规模杀伤性武器。当他探寻到东风祭坛的所在，并将大军派往赤壁时，所有人都以为其意图在于统一三国，感受到危机的吴国和蜀国结为盟友。联军将全部注意力投向东风祭坛。殊不知这只是一招障眼法。他谋划的是更为惊天的阴谋，也是计划中颠覆人间界秩序的第一步。,敌人什么的，就是用来玩弄的。,离东海不远的小岛上，徐福精心雕琢着继白起之后又一得意之作：曾震撼整个大陆的战神吕布，正在秘密重生。这才是曹操真正的杀手锏。徐福沉浸在鲜血进化的艺术中，却忘记了螳螂捕蝉，黄雀在后的真理。,队友什么的，就是用来垫背的。,是的，卧榻之侧，岂容他人酣睡！不仅要统一三国，连虎视眈眈的徐福，也将被一并剿灭。如果计划成功，血族之力将完全为曹操所独占。,这是一局很大的棋。,“宁教我负天下人！”,历史上的TA,曹操，字孟德。东汉末年的第一号豪杰。出身官宦世家，但其父是大宦官曹腾的养子，难免有凭借宦官上位之讥，比起汉末的清流来，身份上有些不清不白。但是曹操有才华，有魄力，治兵治国都有一套。在东汉末的大乱之中，招揽人才，稳扎稳打，早早就把汉献帝拢在自己的辖区，挟天子以令诸侯，逐步扫平北方群雄。三分天下，曹魏握有其半。曹操还是一个传世的文学巨匠，领袖建安文学群体。《观沧海》、《短歌行》、《龟虽寿》等名篇，为传世之作。',\n",
       "   'image': 'http://game.gtimg.cn/images/yxzj/img201606/heroimg/128/128-mobileskin-1.jpg',\n",
       "   'title': '曹操-王者荣耀官网网站',\n",
       "   'url': 'http://pvp.qq.com/web201605/herodetail/128.shtml'}],\n",
       " ['http://pvp.qq.com/web201605/herodetail/129.shtml',\n",
       "  {'content': '典韦-王者荣耀官网网站,狂战士,典韦,生存能力,攻击伤害,技能效果,上手难度,英雄故事,历史上的ta,王者荣耀首页,>,英雄介绍,>,典韦,129,技能介绍,激怒,冷却值：0,消耗：0,被动：每一次击杀或者助攻会增加1层攻击BUFF，共20层，每层提高12点物理攻击力,在前中期，典韦需要尽量的蹭队友助攻或击杀更多敌人，可以保证优势的建立,红眼,冷却值：9/8.6/8.2/7.8/7.4/7,消耗：55,典韦冲锋陷阵，大幅度提升自身移动速度，并强化下一次普通攻击，对附近敌人造成额外250/300/350/400/450/500（+120%物理加成）点物理伤害，激活时移除自身控制效果。,较高的攻速与移速加成，可以利用此技能开团，也可灵活选择撤退,狂暴,冷却值：8/7.4/6.8/6.2/5.6/5,消耗：65,暴怒的典韦践踏大地，命中敌人后将强化自身突破至极限攻速，对附近敌人造成250/280/310/340/370/400（+100%物理加成）点物理伤害并造成持续2秒减速。,典韦的群体控制技能，范围减速，配合队友的控制能创造完美的输出环境,嗜血,冷却值：30/25/20,消耗：130,典韦对目标发起跳斩造成300/375/450（+140%物理加成）点真实伤害和减速，并强化自身，对敌人造成的所有伤害附带目标最大生命3%的真实伤害，持续5秒。,典韦最强的输出技能，自身附带真实伤害，不论对前后排英雄都能轻松击杀,冷却值：,消耗：,铭文搭配建议,Tips：典韦是后期英雄，输出更依赖于大招的真实伤害，传承可以让他造成更多真实伤害，隐匿移速提升配合1技能可以黏住敌方核心输出英雄，虚空提升一定的坦克能力。,技能加点建议,主升,火焰三尖枪,副升,混天绫.束,召唤师技能,闪现/斩杀,英雄关系,最佳搭档,压制英雄,被压制英雄,最佳搭档,庄周：跟典韦进行组合的时候可以利用2技能增加移动速度，增加己方突进的机动性，还能使用1技能为敌人施加减速效果，这样更能帮助典韦留住敌人。在进行团战时，典韦直接开启大招配合反伤甲吸收伤害的同时对敌方造成成吨伤害，庄周同步开启大招免疫控制以及提高伤害减免效果，可以为典韦提供以少打多的环境。,孙膑：典韦与孙膑的配合主要体现在中后期的团战中，典韦一般是半肉承担伤害时对敌方核心输出造成伤害的英雄，自身经常会被集火斩杀，孙膑的2技能可以为典韦恢复生命，大招控制和沉默也可以在关键时刻为典韦争取逃生和输出环境，1技能延迟爆炸伤害和减速也能在小规模团战中发挥至关重要的作用。,压制英雄,马可波罗：马可波罗的攻击频率比较高，不仅仅体现在普攻，1技能9段伤害和2技能后的普攻都会被典韦大招以及反甲反弹，在中后期经常会出现一技能或者大招打完典韦自己半血的现象，针对马可波罗用典韦有奇效。,宫本：典韦是一个中后期英雄，与宫本前期对线因为半肉坦装关系几乎不需，不用担心被强杀，前期可以轻松过度，后期有核心装反甲火甲成型后，近战开大招与宫本正面刚，即使经济略微落后也可以轻松击败宫本，针对攻击频率比较高，特别是近战的英雄，典韦开大招配合火甲反甲的伤害可以轻松战胜对手。,被压制英雄,敌方的孙膑能利用加速和控制配合输出很好的风筝典韦,貂蝉的灵活和减速会使得典韦没有太多击杀办法,出装建议,推荐出装一,推荐出装二,Tips：这是全肉装坦克的出装方法，团战技能有一定输出能力，也有非常强的承伤能力,Tips：这是典韦偏团队型的坦克出装，能为团队创造更大的收益,英雄攻略,更多,英雄故事,疯狂，疯狂吞噬了身体。,这不是属于人的时代。,若要生存，须先化身野兽。,身躯如山的壮汉趴在军帐之中，他未来的主人正估量着他会有多少忠心，以及这忠心的价值。,“狂化，是携带魔种基因的人体产生的特殊变异。”黑袍男人用冷静的声音讲述。“能够在最短的时间内，快速提升心，技，体三者之力。当然，代价是丧失理智。狂化者在战斗结束后能够短暂清醒。但整体来说，是不可逆转的。”,“我只需要忠仆，有用的忠仆……不，是忠犬。”枭雄宣布。,壮汉浑身颤抖。没有痛觉的野兽在乱世中无论如何都可以活下去，但娇弱的女婴不能。而自己，是自己害死了她的父亲，也是恩重如山的老师。,被当成野兽鄙视和唾骂的日子，因为与老师的相遇得以摆脱。老师的怜悯和耐心教导，让他成为人。还有初次的建功立业！在老师的鼓励下，才能以一己之力挽救一座城市。没错，自己能像正常人一样拥有理智吧，甚至还能像真正的战士般去争取荣耀。,这个期望被一场疯狂打破。幸存的只有……,怀里小小的婴儿无忧无虑的笑着，纯洁得令人心碎。,如果必须借由至亲至爱之人的生命让自己清醒，那还不如一直沉迷在疯狂中，直到毁灭。,很轻易就做出决定，这具残躯卖给枭雄又如何？能让老师的骨血顺利成长的话……,但还有一个最后的请求：,“请用沉重的铁甲束缚我吧。”,这是惩罚，也是赎罪。,英雄，末路。,取而代之的是……,“身体里沉睡的野兽，觉醒了！”,历史上的TA,典韦是东汉末曹操帐下的勇将，《三国志》说他“形貌魁梧，膂力过人”，长年担任曹操的贴身护卫。在张绣作乱时，他为了掩护曹操突围恶战而亡。《三国演义》上说，是因为他的一对手戟被偷，不得已拎起两个人战斗，才被杀的。所以，民间传说典韦的武艺，在三国中排名第三，仅仅在吕布和赵云之下，比关羽、张飞都强。',\n",
       "   'image': 'http://game.gtimg.cn/images/yxzj/img201606/heroimg/129/129-mobileskin-1.jpg',\n",
       "   'title': '典韦-王者荣耀官网网站',\n",
       "   'url': 'http://pvp.qq.com/web201605/herodetail/129.shtml'}],\n",
       " ['http://pvp.qq.com/web201605/herodetail/130.shtml',\n",
       "  {'content': '宫本武藏-王者荣耀官网网站,剑圣,宫本武藏,生存能力,攻击伤害,技能效果,上手难度,英雄故事,历史上的ta,王者荣耀首页,>,英雄介绍,>,宫本武藏,130,技能介绍,狩魔,冷却值：0,消耗：0,被动：宫本武藏释放技能将会为下一次普通攻击蓄力，造成额外30（+60%物理加成）点物理伤害并减少所有技能1秒冷却时间,被动使得宫本对技能和普攻的衔接使用更起作用了，能提升输出伤害并减少技能CD,空明斩,冷却值：10/9.6/9.2/8.8/8.4/8,消耗：0,宫本武藏向前斩出一道剑气，对穿过的敌人造成340/440/540/640/740/840（+125%物理加成）点物理伤害并减速，同时击落路径上的敌方飞行物；释放1技能期间宫本武藏处于霸体状态；被动：宫本武藏对敌方英雄造成伤害后会在3秒内持续回复生命值总共30/48/66/84/102/120（+21%物理加成）点，这个效果不会叠加,施放这个技能需要预判对手的走位，期间宫本为霸体状态不受控制，在对敌方造成伤害后能短时间内回复生命值,神速,冷却值：10/9.6/9.2/8.8/8.4/8,消耗：0,宫本武藏向前冲刺，对穿过的敌人造成100/130/160/190/220/250（+60%物理加成）点物理伤害，如果该技能穿过敌军将获得抵免100/160/220/280/340/400（+60%物理加成）点伤害的护盾效果并返还50%的冷却时间，护盾每4秒只能获得一次,利用此技能效果，宫本无论在打野或对拼时都可以用来很好的抵消一部分伤害，注意作为位移逃跑时，就没有护盾效果了哦,二天一流,冷却值：80/75/70,消耗：0,宫本武藏跃向空中，在短暂延迟后拔出鸣雷斩落，对目标周围的区域造成400/550/700（+100%物理加成）点物理伤害，同时将当前目标击飞并减速；在接下来的12秒内宫本武藏进入二刀流状态，所有普攻与技能都会附带鸣雷的35（+15%物理加成）点法术伤害，狩魔范围提升，神速将获得额外突进距离,宫本的大招能够形成非常好的控制效果，并且在开启大招后一段时间内，他的所有技能都有一定的提升，所以在一些情况下，大招先手后进行输出能造成能多的伤害,冷却值：,消耗：,铭文搭配建议,Tips：宫本的玩法是在poke时寻找时机切入并击败敌方的核心输出，宫本比较依赖普攻，同时技能后可以为普攻增加海量物理伤害加成，百穿铭文可以帮助宫本伤害收益最大化，让宫本可以更好的利用技能配合普攻产生高额伤害。,技能加点建议,主升,火焰三尖枪,副升,混天绫.束,召唤师技能,闪现/斩杀,英雄关系,最佳搭档,压制英雄,被压制英雄,最佳搭档,太乙真人：宫本开大落地后最尴尬的就是没有秒杀敌方后排核心输出，太乙真人的大招可以给宫本提供很好的续航，使宫本能够继续站起来继续输出或者逃离战场。太乙真人的1技能和2技能都能造成稳定的控制和输出效果，帮助宫本增加更多的输出机会。,牛魔：牛魔的技能具备高机动性和无视地形，2技能减速在前期可以配合宫本持续输出GANK敌方关键英雄，大招的控制和伤害能帮助宫本轻松击杀敌方输出为队友建立优势。,压制英雄,关羽：因为宫本大招指定性，关羽进场时被宫本大招后再接一技能是很轻松可以做到的情况，被宫本大到配合1技能减速的关羽会直接失去加速状态，很容易会被集火击杀。,干将莫邪：干将莫邪只有1技能可以作为防身手段，大招都可以被宫本1技能击落。干将莫邪在施放完飞剑后会进入一个长达7秒的真空期，宫本可以直接近身输出，面对1技能弹飞直接开启大招输出就可以轻松击败干净。,被压制英雄,宫本1技能对张良的技能不起作用,貂蝉能在躲避技能同时很好的风筝宫本武藏,出装建议,推荐出装一,推荐出装二,Tips：前中期以输出装为主，后期补上一定的血量装备以保证持续输出能力,Tips：打野出装思路，半肉宫本，主要利用控制效果配合队友输出,英雄攻略,更多,英雄故事,夕阳西下的路边，茶棚老板跟客人天南海北聊着八卦。,“哟，剑客老兄，旅行过不少地方吧，应该见识过很多厉害的人物。”,“我遇到的，好像都是些弱手。”,“是吗？哈哈，听说武道大会可是高手如云。特别是今年的冠军……”,“哦，那家伙已经挂了。”,“真是……天有不测风云。咳咳，果然年纪轻轻，该少熬夜多运动。对了，最近有条大新闻。东海岛上出现了血族之王，据说他有三个脑袋，四对翅膀，八条胳膊……”,“徐福吗？他也挂了。”,“您可真是位消息灵通人士！听您的口音，是从扶桑来的吧。扶桑，也有很厉害的人物，有个叫宫本武藏的……左手一把长刀，右手一把短剑，神挡杀神，魔挡杀魔，取过的人头比吃过的米还多……”,“哦，那个家伙还是可以一战的。”,“这么说，莫非您……”,“是啊，我就是那个武藏。你还知道什么值得我挑战的对手吗？”,“大唐！剑圣大人，只有大唐帝国，那里人才济济。剑仙李白大人，治安官狄仁杰大人……都是如雷贯耳。一定有人能成为您可敬的对手。”,“大唐吗？正有此意前往。可是……”,“可是？”,“我迷路了……”,“告诉你个秘密：我，是无敌的！”你个秘密：我，是无敌的！”,历史上的TA,宫本武藏是日本战国末期到江户时代初年的剑术大师。日本那时代的剑术师，靠的就是游走四方跟人比武来谋生，击败的人越多，名分越高，你的地位越高，跟随你的徒弟也越多。宫本武藏还是无名小卒之时，挑战当时名满日本的佐佐木小次郎并且击败了他，从此扬名。六十余战，未尝有败绩。他使用双刀，号称“二天一流”。晚年著作有《五轮书》、《兵道镜》等。堪称日本剑术的集大成者，日本关于他的传说，非常之多。',\n",
       "   'image': 'http://game.gtimg.cn/images/yxzj/img201606/heroimg/130/130-mobileskin-1.jpg',\n",
       "   'title': '宫本武藏-王者荣耀官网网站',\n",
       "   'url': 'http://pvp.qq.com/web201605/herodetail/130.shtml'}],\n",
       " ['http://pvp.qq.com/web201605/herodetail/131.shtml',\n",
       "  {'content': '李白-王者荣耀官网网站,青莲剑仙,李白,生存能力,攻击伤害,技能效果,上手难度,英雄故事,历史上的ta,王者荣耀首页,>,英雄介绍,>,李白,131,技能介绍,侠客行,冷却值：0,消耗：0,被动：李白施展侠客行，连续（3秒内）的第四次普通攻击（对建筑除外）会触发侠客行，提升自身攻击力5%，并解除青莲剑歌的使用限制持续5秒.,李白的大招能否施放的关键，普攻出第四下后触发侠客行，还能提升攻击力,将进酒,冷却值：12/10.6/9.2/7.8/6.4/5,消耗：80,李白以醉剑势向指定方向突进，对经过的目标造成120/144/168/192/216/240（+100%物理加成）点物理伤害，并造成晕眩，释放技能后5秒内再次启用发起冲锋，并在5秒内第三次启用回到原地.,一定要控制好CD时间，这是李白对敌方进行消耗的主要技能，起到杀人红尘中，脱身白刃里的效果.当然该技能可突进可逃跑，注意灵活使用,神来之笔,冷却值：12/11.6/11.2/10.8/10.4/10,消耗：60,李白以自身为中心化剑为青莲剑阵，对范围内敌人造成110/142/174/206/238/270（+54%物理加成）点物理伤害，并对撞到剑圈的敌人造成180（+90%物理加成）点物理伤害及减速，并降低目标的护甲100/175/250/325/400/475点，释放技能期间不可被选中,该技能用于造成伤害和减速敌人，敌人触碰剑圈还能减少敌人护甲，这是李白造成高额输出的前提,青莲剑歌,冷却值：12,消耗：120,李白化身为剑气，对范围敌人飞速穿梭斩击5次剑气，每次剑气造成150/215/280（+68%物理加成）点物理伤害（若多个英雄单位生效，每增加一个目标伤害衰减15%，最多衰减至原伤害70%）释放技能时李白不可被选中和攻击。青莲剑歌需要由侠客行解除限制后方可释放，使用后立即进入限制状态,这是李白团战造成超高AOE伤害的关键，同时也可以用来躲避敌方技能，防止被秒,冷却值：,消耗：,铭文搭配建议,Tips：这套铭文可以为李白提供物理攻击能力和百穿效果，能确保李白在初期就可以配合2技能减少抗性把大招伤害完美呈现，虽然解封大招是李白的关键玩法，但是李白最常用是野区累积解封或者1技能后平A组合技能解封。,技能加点建议,主升,火焰三尖枪,副升,混天绫.束,召唤师技能,闪现/斩杀,英雄关系,最佳搭档,压制英雄,被压制英雄,最佳搭档,鬼谷子：鬼谷子和李白可以产生很好的联动效果，李白2技能减伤后大招可以伤害爆炸，鬼谷子的1技能可以减少敌方抗性，配合李白的2技能大招会让伤害最大化，大招隐身技能也可以让李白的行踪难以被掌控。,黄忠：在初期黄忠的2技能减破甲和减速效果可以配合李白轻松完成gank，双破甲效果在前中期可以轻松秒杀敌方脆皮英雄为己方建立优势，李白在中后期身板比较脆皮，经常会出现不敢去攻击兵线或者野怪解封大招的现象，在黄忠大招的范围内可以轻松解封大招消耗敌方，不管是防守还是进攻都可以玩出很多战术。,压制英雄,妲己：妲己是一个操作简单的英雄，直接释放技能231，即使不能将敌方英雄击杀也可以做到残血降低威胁的效果，但是李白拥有灵活的位移和免疫伤害技能，面对妲己时可以解封大招后2技能大招poke，也可以1技能先手控制妲己，在妲己准备释放技能时用2技能或者大招抵消，李白可以轻松对妲己进行压制。,诸葛亮：诸葛亮的位移距离比较短，如果被李白切近身很难逃脱，本身身板也比较脆弱，一旦被李白的2技能配合大招攻击会降低血线甚至被击杀，同时李白的二技能和大招都可以完美躲诸葛亮的大招和技能，李白可以轻松应对诸葛亮。,被压制英雄,孙膑的大招沉默效果可以在李白进场后施放配合队友将其秒杀,张良的硬控能控住李白将其击杀,出装建议,推荐出装一,推荐出装二,Tips：全输出装备李白，输出能力极强，但团战容错率较低,Tips：输出装提升中期的输出能力，防御型装备能有效提升李白生存能力和持续作战能力,英雄攻略,更多,英雄故事,巍峨的长安城，数百年间屹立不倒。但长安的门户，守卫严密的朱雀门却镌刻着一道剑痕，那是一个青年醉后以长剑所书的诗句“欲上青天揽明月”，轰动整个京城。当治安官狄仁杰欲以破坏长安的罪名逮捕他时，爱才的女帝拒绝了。女帝甚至下令保留朱雀门上饱含剑意的诗痕。数日之间，这名一人一剑，直入长安的青年“剑仙”之名传遍大唐。他就是李白。,彼时的李白，年少轻狂，拒绝了女帝入朝为官的邀请后，开始试剑天下的旅途。当他初次见到滔滔黄河时，心中的剑意迸发而出，奔流到海不复回。从那时起，没有机关的师承，没有魔道的秘法，没有魔种的血脉的李白，仅仅依靠自己和手中的剑，成为大唐强者中的第一人，乃真正的天纵之才。他会给每个败于己的对手赋诗，因此，诗名和剑名也一同流传开来。后来，甚至有人视之为荣耀，为得诗篇而求一败，令人哭笑不得。,就在李白的剑意到达巅峰之后不久，旅途也来到了西域。很少有人知道，身为唐人的李白，出生西域的海市蜃楼之下。他怀着剑仙荣耀归来，却发现幼年记忆里充满异域风情的繁华城池已经不复存在。被贩为奴隶的楼兰公主，向他倾诉自己的遭遇：唐军的铁骑越过长城，踏平了整个西域。荒废的城池很快被黄沙掩埋。李白想要救出她，少女却选择了从屈辱中自我了断。,鲜血激起了李白的侠义之心。他第二次闯入长安，质问女帝讨要征平西域的说法。一夜长安风云变色，大明宫也在剑仙之剑下黯然无光。有史以来从未曾被外力攻破的长安城，第一次因为一个普通人而动摇。,没有人知道最后发生了什么事。李白自长安城中全身而退。他和女帝的密谈，被视为禁忌，不见于史官的笔下。,只有李白自己清楚，他的骄傲被挫败了，在最强的巅峰。从那之后，他开始自我放逐，从寂寞的旅途中寻求新的意义，陪伴他的，除了剑，还多了酒。,人人都以为剑仙就此一蹶不振。但长安的府衙中，狄仁杰查看着关于李白的行踪报告，露出难以捉摸的冷笑。“再次出鞘的时候，会更加惊天动地吧。这家伙，太过骄傲，又太过寂寞了。”,而狄仁杰所预言的这一天，在数年之后到来。,这是长安城平常的一天。晨钟回响在上空，自西域的旅人远途而来，正抬首打量朱雀门上的剑痕；热闹的长乐坊中，五陵少年们因前所未有的美妙琴声而骚动；感业寺的银杏树依旧枝繁叶茂。唯有狄仁杰手下的密探隐入黑暗，紧张注视着那个白衣潇洒，酒剑相伴的男子身影。,剑仙李白，三入长安了。,这次长安城又将怎样被动摇呢？,“大河之剑天上来！”,历史上的TA,李白，字太白，又称青莲居士。唐代大诗人，与杜甫齐名，人称李杜，后世誉之为诗仙。为人豪放，好酒，好剑术，好远游，好做侠客行，仗义疏财。虽然诗才天下独步，但对自己的剑术和治国平天下的本事更加自负。进长安，被贺知章誉为“谪仙人”，被唐明皇招为翰林供奉。因此有传说他让杨贵妃捧砚，让高力士脱靴。李白壮游天下，留下名篇不下百首。安史之乱，他有意报效国家，却报国无门，因李璘之案受牵连下狱，幸而得脱，从此漂流四方，客死他乡。',\n",
       "   'image': 'http://game.gtimg.cn/images/yxzj/img201606/heroimg/131/131-mobileskin-1.jpg',\n",
       "   'title': '李白-王者荣耀官网网站',\n",
       "   'url': 'http://pvp.qq.com/web201605/herodetail/131.shtml'}],\n",
       " ['http://pvp.qq.com/web201605/herodetail/132.shtml',\n",
       "  {'content': '马可波罗-王者荣耀官网网站,远游之枪,马可波罗,生存能力,攻击伤害,技能效果,上手难度,英雄故事,历史上的ta,王者荣耀首页,>,英雄介绍,>,马可波罗,132,技能介绍,连锁反应,冷却值：0,消耗：0,被动：马可波罗每一次普通攻击都会连续发射两枪，第一枪命中造成70%物理加成点物理伤害，第二枪命中造成40%物理加成点物理伤害。,这是马可波罗与其他射手不同的一点，使得他每一发普攻都能打出更多伤害,华丽左轮,冷却值：7/6.6/6.2/5.8/5.4/5,消耗：70,马可波罗向指定方向连续射击并加速，每一枪造成140/154/168/182/196/210（+12%物理加成）点物理伤害都能触发普攻的法球效果，命中回复10点能量，额外攻击速度会影响技能射出的子弹数目，在攻速达到0/75%/150%时射出子弹数5/7/9。,由于马可波罗是能量机制，所以这个技能在对线时可以频繁使用来清理兵线，使用这个技能时，一定要选准技能施放方向，并通过调整走位尽量使所有子弹都打到敌方身上，攻速会影响技能子弹射出数目，所以在出装选择上可以适当选择更多的攻速装备，在面对敌人的追击时，能更好地将技能伤害打满哦！,漫游之枪,冷却值：5/4.8/4.6/4.4/4.2/4,消耗：70,马可波罗向指定方向翻滚，并使得接下来3秒攻击附带35/41/47/53/59/65（+11%物理加成）点法术伤害。,马可波罗的位移技能，可以灵活使用用来追人、逃跑、躲避技能和穿越地形，由于施放后攻击附带额外物理伤害，所以在安全的情况下，也可以使用来增加攻击伤害；,狂热弹幕,冷却值：40/35/30,消耗：70,马可波罗向周围发射弹幕触发普攻的发球效果并加速，造成200/250/300（+30%物理加成）点物理伤害，额外攻击速度会影响技能射出的弹幕波数，在攻速达到0/75%/150%时射出子弹数5/7/9；被动：马可波罗身边5500范围内存在敌方英雄时，提升20%的伤害和25%移动速度；,在出装上选择更多攻速装备，能提升技能造成伤害；由于是AOE技能，所以在装备成型的情况下在合适的时机进场能造成高额的AOE伤害，但在技能施放过程中需要注意的是灵活走位躲避敌方技能,冷却值：,消耗：,铭文搭配建议,Tips：马可波罗是一名极其依赖攻速的ADC，移速的增加可以提高马可波罗的机动性，物理穿透使马可波罗造成更多的伤害,技能加点建议,主升,火焰三尖枪,副升,混天绫.束,召唤师技能,闪现/斩杀,英雄关系,最佳搭档,压制英雄,被压制英雄,最佳搭档,钟无艳：钟无艳是一名拥有强力控制的坦克，在保护马可波罗输出的同时，也能为马可波罗留人，是一对能攻能守的强力组合。,牛魔：牛魔的被动可以提供200点护甲魔抗，同时一技能的虚弱效果能够降低敌方输出，二技能和大招的控制能力，能够为马可波罗童工良好的输出环境。,压制英雄,吕布：马可波罗是一名十分飘逸的射手，二技能可以完美躲避吕布的一技能，不能附魔的吕布是十分脆弱的，而马可波罗的POKE能力也十分强大，使吕布进退两难。,东皇太一：东皇太一的被动需要近身才能回血，而马可波罗灵活的身姿可以充分拉开距离，强行风筝,被压制英雄,兰陵王的隐身和秒杀能力很容易接近马可波罗将其秒杀,花木兰的超高爆发输出能力能快速击杀走位不慎的马可波罗,出装建议,推荐出装一,推荐出装二,Tips：全输出装备，团战能打出爆炸伤害，需要较高的操作技巧,Tips：输出装为主，配合魔女斗篷，后期团战中有更强的容错率,英雄攻略,更多,英雄故事,旅行者，冒险家，语言天才……人们这样称呼他，马可·波罗。他的家族曾富甲一方，父亲和叔叔都执掌着庞大的商队，生意从大陆的最西面一直延伸到中部的西域诸国。可惜的是，整个家族人丁凋零。马可·波罗尚未成年，父亲就已经去世了。他由叔叔马泰奥抚养长大。,马泰奥视他如同亲子，为侄儿提供了最好的教育条件。整个家就像庞大的图书馆，堆满了父亲和叔父从各地带回的珍贵典籍和手抄本，还有各种各样的罕见的机关和古董。马可·波罗喜欢听叔父讲他们年轻时的旅途故事，从地图上搜寻父亲的足迹所踏过的土地。当他年长一些后，开始热衷于拆装那些古怪的机关，精密的调试它们，并向大师达芬奇求学，请教深奥而奇妙的机关知识。,从大师口中，他听说了关于“死海文书”的故事。从古老的废墟中挖掘出的经卷，由商人高价收购带回，轰动了西方的土地，里面记载着闻所未闻的知识和机关。东方人似乎叫它“天书”。作为机关的权威，大师亲自鉴定了这珍贵的古籍，认为“死海文书”正是通往传说中知识根源的钥匙，并期待着它能被运用于机关制造。可惜事与愿违，文书不久后下落不明。,马可·波罗如同遭到雷霆直击。他直觉收购并带回文书的商人就是自己的父亲。自己却对父亲过去的经历一无所知。他匆匆辞别大师，回到家里四处搜寻，什么都没有找到。沮丧的马可波罗第一千零一次摆弄着望远镜睡去。他梦见了父亲远去的身影，还有报告父亲失踪的信使……忽然，他惊醒过来。信使从未报告过父亲的死亡，他只是一去不回。他突然记起那小小的玩具，父亲最后出门前塞到手心中的碎片：一片古老的，镌刻在石板上的铭文。,马可·波罗找出铭文，用精密的机关仪器来观察它。当阴影被投射到穹顶上，他看到了什么？一封信。许多年前，父亲留给独子的信。,“儿子：当你看到这些文字时，我已经不存在于王者大陆。不要伤心，这是每个知识的寻求者都会坦然接受的宿命。但不得不与你分离，也是令我追悔莫及的痛苦。请记住我爱你，我会永远在知识根源的另一端看着你。”,总督府的布告栏前，人头耸动。那里张贴着招募的告示，聘请勇敢无畏的冒险者前往遥远的东方大陆。接到手下报告的马泰奥匆匆赶来，目瞪口呆的看着侄儿一把撕下告示。他突然发现马可·波罗长成了风度翩翩的年轻人，腰间携带着心爱的双枪，就像兄长年轻时的模样。泪水布满苍老的面颊，他大声呐喊着试图喝止侄儿。通往知识的根源，那是条多么危险和坎坷的道路，没人比他更清楚。可马可·波罗仅仅转过身，朝着人群中的叔父优雅的鞠躬行礼，随即义无反顾踏入总督府。,“世界那么大，我想来看看。”,历史上的TA,马可波罗，中古时期的威尼斯商人。其父亲和叔叔，都曾到东方经商，而他本人，则在元世祖忽必烈的时代，来到中国。他穿越沙漠和帕米尔高原，经河西走廊来到元大都，游历了许多城市，据说还见过忽必烈，接受过元朝的官职。回到威尼斯之后，因带回的东方珍宝而成为巨富。后来参与威尼斯与热那亚的战争中被俘，在狱中，向同牢的作家口述了他的东方见闻，遂成著名的《马可波罗游记》。《马可波罗游记》极大地开拓了欧洲人的东方视野，丰富了他们关于东方的想象，激起了欧洲人向往东方的雄心。但也有人质疑游记的真实性，比如游记没有提到著名的长城，不过，作为一个口述游记，记录长城作用几乎完全消失的元代的事情，缺失长城也是可以理解的。',\n",
       "   'image': 'http://game.gtimg.cn/images/yxzj/img201606/heroimg/132/132-mobileskin-1.jpg',\n",
       "   'title': '马可波罗-王者荣耀官网网站',\n",
       "   'url': 'http://pvp.qq.com/web201605/herodetail/132.shtml'}],\n",
       " ['http://pvp.qq.com/web201605/herodetail/133.shtml',\n",
       "  {'content': '狄仁杰-王者荣耀官网网站,断案大师,狄仁杰,生存能力,攻击伤害,技能效果,上手难度,英雄故事,历史上的ta,王者荣耀首页,>,英雄介绍,>,狄仁杰,133,技能介绍,迅捷,冷却值：0,消耗：0,被动：狄仁杰的普通攻击会增加自身攻击速度3%与移动速度5%，最多叠加5层。,这个技能能让狄仁杰的持续输出能力得到显著额提升,六令追凶,冷却值：8/7.6/7.2/6.8/6.4/6,消耗：60,狄仁杰甩出六枚令牌（可触发普攻法球效果），对命中的目标造成65%物理加成点物理伤害与80/88/96/104/112/120（+20%法术加成）（+40%额外物理加成）点法术伤害（蓝牌伤害减半），蓝牌可对目标造成额外减速效果，同一目标受到多发红蓝牌伤害后续伤害衰减70%；被动：第三次普通攻击将会随机强化为一张蓝牌或红牌,这个技能是狄仁杰主要输出技能，有很强的推线能力，攻击敌人时能造成很好的AOE伤害效果,逃脱,冷却值：14/13.6/13.2/12.8/12.4/12,消耗：70,狄仁杰清除自身负面效果（可触发普攻发球效果），增加移动速度，并向周围掷出八道令牌，令牌的伤害和效果与【1技能六令追凶】相同,这个技能能提升狄仁杰的自保能力，被控制后开启得到移速提升，可以在追人或逃跑时使用,王朝密令,冷却值：30/25/20,消耗：100,狄仁杰向指定方向投掷一枚金色令牌，对命中的第一个英雄造成300/375/450（+60%法术加成）（+120%额外物理加成）点物理伤害与等量的法术伤害，并造成晕眩减少目标双抗30%，获得目标视野持续5秒；期间友军向目标移动会增加移动速度10%,这个技能是狄仁杰主要的控制技能，在攻击前排时使用，降低其护甲魔抗，打前排能力大大增强,冷却值：,消耗：,铭文搭配建议,Tips：纷争的物理吸血属性可以提高狄仁杰前期的续航能力，鹰眼可以大幅度提高狄仁杰在前期的物理输出，狩猎则可以额外强化狄仁杰的攻速和移速，配合被动的移速加成，可以让自身移动能力接近于一般刺客，增加生存能力。,技能加点建议,主升,火焰三尖枪,副升,混天绫.束,召唤师技能,闪现/斩杀,英雄关系,最佳搭档,压制英雄,被压制英雄,最佳搭档,牛魔：牛魔强大的控制能力能够让狄仁杰的技能更容易命中目标，牛魔提供的双抗和控制也能够起到很好的保护作用，2技能减速后可以让狄仁杰有更好的输出环境。,孙膑：狄仁杰需要利用走A输出，孙膑的2技能可以让狄仁杰加速，1技能和3技能可以让对面减速和沉默，能给狄仁杰制造很好的输出环境。,压制英雄,露娜：狄仁杰的一旦控住露娜，配合高额输出能够瞬间击杀露娜，即使无法击杀也能压低血线，露娜已经入场1技能或者2技能标记狄仁杰时，狄仁杰使用二技能净化也能很容易让露娜断大,虞姬：拥有物理免伤的虞姬会因为狄仁杰的伤害附加额外法术伤害而导致实用性降低，狄仁杰可以轻松利用2技能本身的净化效果来化解虞姬大招的控制和被动的减速，狄仁杰被动的移速加成也可以更加轻松地躲开虞姬的1技能。,被压制英雄,狄仁杰没有位移技能，兰陵王的隐身和秒杀能力很容易接近他将其秒杀,花木兰的超高爆发输出能力能快速击杀走位不慎的狄仁杰,出装建议,推荐出装一,推荐出装二,Tips：全输出装备，团战能打出爆炸伤害，需要较高的操作技巧,Tips：输出装为主，配合魔女斗篷，后期团战中有更强的容错率,英雄攻略,更多,英雄故事,长安，大宗师墨子亲手建造的大陆第一繁华的伟大城市，大唐帝国强盛实力的象征。尽管如此，它光辉的雄姿背后依旧免不了阴霾与暗影。以雷厉风行的姿态守护长安和平的，不是战功赫赫的将军，不是至高无上的帝王，而是人称强迫症名侦探的狄仁杰。,狄仁杰生来就在推理方面具有惊人才能，并演变为血液里流淌的本能。他曾在人生中最潦倒的时刻，为迷惑的少女法师准确无误推导出神秘导师的身份和目的。这场精彩的论述对他而言不过是雕虫小技，却赢得了一份世界上最重要的信任——日后君临大唐的女帝武则天陛下的信任。,女帝登基后的次日，新的长安治安官狄仁杰走马上任。他面对的是华丽都市光鲜背后的另一面：盘根错节的贪官污吏，敲诈勒索的地痞流氓，活动于地下世界的非法帮派。他们联合起来，要看看谁才是长安真正的主宰。,他们的手段也许堪称高明，却完全用错了对象。,不法之徒们很快发现，这位治安官才是最不计后果，最肆无忌惮的危险人物。除了聪明才智，他有着极为强烈的强迫症和洁癖倾向：到达现场精确如钟表，搜查赃物像打扫清洁，审讯犯人如同逻辑课。他让长安城每一块砖头都打上了自己的印记，污秽无处可藏。越是复杂的案件越能取悦他，并且不允许任何权势者干涉——他的个人美学。,罪犯们也组织过反抗，换来的是更盛大的搜捕行动。长安城地下世界在他的打击下变得更加富有秩序和……美感。甚至其中某些成员，譬如那个活泼的混血魔种，屈服于他的威逼和高额工资诱惑，从事起了包打听的行当，并美其名曰“密探。”,居民们第一次呼吸到了毫无雾霾的清新空气。当然有人嘲笑他是女皇陛下的忠犬。但无人能揣测官衙中正襟危坐的狄大人的心思。尤其他的案桌上又收到新的线报：意图动摇长安之人，正在集结。,“罪犯们，你们已无路可逃！”,历史上的TA,狄仁杰，字怀英，唐代的名相之一。他是少数几个通过明经科考试而跻身高位的人之一，《旧唐书》上有传。在武则天临朝称制之时，也被人诬告而蒙冤，差点死掉。如不是他机智地把消息送出，让武则天来见他，会跟众多蒙冤者一样早就死了。他为官清廉正直，敢于说实话，因此而得到武则天的重用，两次拜相。为御史中丞期间，处理成百件案件，无一冤屈。西方汉学家因此而创作狄公案，特意强调其断案如神。',\n",
       "   'image': 'http://game.gtimg.cn/images/yxzj/img201606/heroimg/133/133-mobileskin-1.jpg',\n",
       "   'title': '狄仁杰-王者荣耀官网网站',\n",
       "   'url': 'http://pvp.qq.com/web201605/herodetail/133.shtml'}],\n",
       " ['http://pvp.qq.com/web201605/herodetail/134.shtml',\n",
       "  {'content': '达摩-王者荣耀官网网站,拳僧,达摩,生存能力,攻击伤害,技能效果,上手难度,英雄故事,历史上的ta,王者荣耀首页,>,英雄介绍,>,达摩,134,技能介绍,真言·心经,冷却值：0,消耗：0,被动：达摩每次释放技能将会获得真言护体，每层真言增加80点物理防御，最多叠加3层；如果技能命中目标，下两次普通攻击将增加100%攻击速度，并会造成额外的（+30%物理加成）的物理伤害并回复60点生命值,被动技能使得达摩抗性增强，可以承受更多的伤害，技能结合普攻可以造成更高的输出,真言·无相,冷却值：7,消耗：45,达摩往前冲刺挥出强力冲拳，对路径上的敌人造成200/240/280/320/360/400（+100%物理加成）点物理伤害并击飞目标0.5秒,这是达摩重要的位移技能，可以用来追击和逃跑，并且能造成控制效果，留住敌人,真言·明王,冷却值：10/9.6/9.2/8.8/8.4/8,消耗：60,达摩快速朝指定方向连续打出五拳，每一拳造成75/90/105/120/135/150（+33%物理加成）点物理伤害并减少目标20/28/36/44/52/60点物理防御，最多叠加5层，持续5秒,这是达摩的主要输出技能，在控制敌人后使用更能将伤害打足,真言·普渡,冷却值：35/30/25,消耗：100,达摩向指定方向挥出超强一拳，对附近的敌人造成150/225/300（+65%物理加成）点物理伤害并将敌人向该方向击退；被击退的敌人如果在飞行过程中触碰了地形边缘将会再次受到225（+97%物理加成）点物理伤害并晕眩1.5秒；成功将敌方击退至地形边缘可再次释放真言·普渡，再次释放时达摩会向指定方向飞踢，对路径上的敌人造成150/225/300（+65%物理加成）点物理伤害并附带目标已损生命值20%的额外伤害,尽量将敌方击飞到地形边缘，可以眩晕敌人并解锁大招2段释放，造成斩杀伤害,冷却值：,消耗：,铭文搭配建议,Tips：这套铭文增加物理攻击、物理穿透、移速与攻击速度。物理攻击与穿透的加成增加技能和普攻的伤害，配合技能大幅度削弱敌人的护甲和防御效果，移速加成提高机动性，攻速加成让释放技能后能更快速打出被动的额外伤害。,技能加点建议,主升,火焰三尖枪,副升,混天绫.束,召唤师技能,闪现/斩杀,英雄关系,最佳搭档,压制英雄,被压制英雄,最佳搭档,赵云：赵云的定位和达摩类似，都是半肉战士，自身带控和技能回血，又同时具备突进技能。二人搭配起来抓人成功率是非常高的，技能combo是达摩一技能突进击飞，然后赵云大招打上击飞，达摩寻找好的角度一脚踢大，二人同时释放二技能，达摩减甲，赵云刺出高额物理伤害接普攻，这二人组几乎可以杀掉任何英雄。,李白：在这二人组中，达摩如果先手一技能突进，李白跟上一技能眩晕，这眩晕的时间能够给达摩有充足的选择大招位置的空间，当达摩大招晕到敌方时，李白可以接上二技能减甲，同时达摩二技能继续减甲，达摩大招眩晕的时间同时又为李白刷大减少了难度，二人同时减甲之后，由李白大招收尾，完成击杀。,压制英雄,王昭君：王昭君是其非常惧怕能够打断自己大招的人，达摩就是其中之一，达摩的一技能能够完美躲避王昭君的2技能冰封，同时击飞属性又能打断王昭君的大招，而大招的将敌方位移和眩晕的属性，也是可以打断王昭君的，这些均是达摩克制王昭君的原因，而王昭君脆弱的身板又十分惧怕达摩一套技能过来秒杀。,韩信：尽管韩信有多段位移技能，但是达摩大招的眩晕可以很完美的克制这一点，加上眩晕后的二段伤害可以轻松击杀。,被压制英雄,项羽可以即时将入场的达摩推走，保护后排,貂蝉能在躲避技能同时很好的风筝达摩,出装建议,推荐出装一,推荐出装二,Tips：前中期以输出装为主，后期补上一定的血量装备以保证持续输出能力,Tips：打野出装思路，半肉达摩，主要利用控制效果配合队友输出,英雄攻略,更多,英雄故事,达摩是为降伏邪恶而生的。曾经有人这样预言。,他是王者之子，生在一棵优美的菩提树下，从小由德高望重的大师教导经书和拳法，那时他日日刻苦修行，救助身边不幸的人们，并对自己的使命坚信不疑。,但国破家亡就在转瞬之间。父王被叛徒毒死，黑色风暴席卷了大地。人们哀嚎着被杀害。最后，他被逼入绝境。自己的拳头可以面对最强大的敌人，却无法对同胞出手。尽管血脉相连的亲人们在权力的诱惑下陷入疯魔，变得面目可憎。,叛变的头目，也是他兄弟之一狞笑着以人质进行胁迫，他认出那是被寺庙收养的孤儿。现在叛军要他交出王者金印，多耽误一刻钟的时间，就要杀害一个孩童。,达摩愤怒了。他的拳法已不再为自己所控制。半座皇宫被夷为平地。叛军粉身碎骨。可经过这场浩劫，王国不复繁华，满目苍夷。,更糟糕的是，当罪恶被湮灭，幸存而不知真相的人们唾弃他为恶魔之子，辱骂他，驱赶他。,达摩没有辩解，他陷入深深的自我忏悔。他永远记得那被胁迫的小孩明亮双眼中如何充满生存的渴望。,这双眼睛变成了心魔，深深折磨着他。他开始了自我放逐的流浪，没有方向，没有目的地，直到身躯绝望倒在路边，暴晒于烈日中。乌鸦飞来飞去，要将他当作腐肉叼食。,不知道昏迷了多久，朦朦胧胧中，一只手舀给他清凉的泉水。那是个年轻的僧侣，风尘仆仆，似乎远道而来。僧侣向他问路，他绝望的回答：“那个地方已经变成地狱，为什么还要前往。”,僧侣平静的问：“你似乎被心魔所困扰。”,达摩说：“是啊，因为这不幸的结果是我亲手造成的。”他大笑着，自己生来的使命本该是降服邪恶，最终自己反倒变成邪恶。,僧侣却摇了摇头：“你并非邪恶，只是太过懦弱。毁灭容易，建造太难。你一直徘徊在这里：不敢回头，因为不相信自己造就了黑暗；没有勇气离去，因为不敢跨出这片黑暗。”,达摩反问他：“那你呢？明知已降下黑暗，还为何来到这里。”,僧侣“阿弥陀佛”了一声：“贫僧自东土大唐而来，要前往西天取经之地。大唐，很快也将黑夜降临。贫僧跋涉千山万水，或许可以找到重建的方法，带回一丝光明。”,达摩握紧了拳头。,他不相信自己生来为魔。,他本应肩挑凡世，拳握初心。,他在黑夜中迷惘，忘记了走不通的路，应该用拳头来打开。,他的本性如此，并不重要。然而见性，方能成佛。,人生是场穷游，偶尔也需要暴走。,道路很远，脚步更长。,告别僧侣，他毅然迈向相反的方向。已回不去故土，就只能继续前进。他要去看看僧侣出发地方——大唐，内心的声音告诉他，那里有他寻找的东西。,最深的黑夜，往往是光明所在。,“肩挑凡世，拳握初心。”,历史上的TA,达摩，古印度的南天竺人，达摩是其尊称，又称菩提达摩。修习大乘佛教，颇有成就。北魏时，来到中土，先后在洛阳、嵩山传播大乘佛教。后来风靡中土的禅宗，追奉他为禅宗一世祖。恰是由于后来禅宗的地位，达摩随之水涨船高。而且，他又在富有传奇色彩的嵩山少林寺开山，所以，民间给了这位法师很多神奇的光环，说他如何如何法力无边，一苇渡江的神话，就是其中之一。',\n",
       "   'image': 'http://game.gtimg.cn/images/yxzj/img201606/heroimg/134/134-mobileskin-1.jpg',\n",
       "   'title': '达摩-王者荣耀官网网站',\n",
       "   'url': 'http://pvp.qq.com/web201605/herodetail/134.shtml'}],\n",
       " ['http://pvp.qq.com/web201605/herodetail/135.shtml',\n",
       "  {'content': '项羽-王者荣耀官网网站,霸王,项羽,生存能力,攻击伤害,技能效果,上手难度,英雄故事,历史上的ta,王者荣耀首页,>,英雄介绍,>,项羽,135,技能介绍,陷阵之志,冷却值：90,消耗：0,被动：项羽生命低于30%时，自身减少40%所受到的伤害，持续6秒，每90秒最多触发一次；项羽的普通攻击会对目标额外造成其6%最大生命值比例的物理伤害，每个目标每6秒只能触发一次,项羽的生命值低于30%时，会持续回复生命值，最大生命值越高，回复血量越多,无畏冲锋,冷却值：14/13/12/11/10/9,消耗：50,项羽向指定方向冲撞，冲撞时触碰到的所有敌人会被一起击退，冲撞结束时项羽还会向前方发动一次挑斩，挑斩会将敌人击飞0.5秒，冲撞和挑斩都会对敌人造成120/144/168/192/216/240（+48%物理加成）点物理伤害，技能命中敌方会减少30%无畏冲锋的冷却时间,项羽的突进和控制技能，敌方多个英雄站在路径上可以控制一群人，这个技能也能在敌方刺客切入后将其推开保护队友，同时它也可以当作一个位移技能来使用,破釜沉舟,冷却值：9,消耗：40,项羽发出怒吼，对附近范围内的敌人造成150/180/210/240/270/300（+80%物理加成）点法术伤害，并且会减少30%的移动速度和25/28/31/34/37/40%的伤害输出，持续2秒； 被动：项羽的每1点物理防御会额外增加1.5-2.5点最大生命值（随技能等级成长）,群体控制技能，控制范围内的敌人，可以配合1技能打出2段控制效果,霸王斩,冷却值：50/45/40,消耗：100,项羽朝指定方向蓄力后斩出一道刀气，对路径上的敌人造成540/810/1080（+96%物理加成）点物理伤害，对被枪刃命中的敌人会造成额外66%伤害并将其眩晕1秒；被动：项羽会对等级低于或等于自身的目标造成额外15%的伤害,这是个附带真实伤害的AOE技能，但有一定的延迟时间，技能范围较大，尽量打到更多的人,冷却值：,消耗：,铭文搭配建议,Tips：这是一套标准的肉坦铭文，调和提升他的抗肉和续航能力。宿命提供的攻击速度可以让他打出更多的普攻，虚空提供的冷却缩减大幅度降低技能CD。,技能加点建议,主升,火焰三尖枪,副升,混天绫.束,召唤师技能,闪现/斩杀,英雄关系,最佳搭档,压制英雄,被压制英雄,最佳搭档,鲁班七号：鲁班七号由于本身机动性不高，被一些高爆发的英雄近身后很难逃脱，项羽的一技能既可以保护鲁班七号的安全让敌方刺客远离我方射手，又可以用一技能将敌方推入鲁班七号的大招范围之内并用二技能减速的同时降低敌方的输出，让鲁班进行完美的输出。,花木兰：花木兰由于本身缺乏强力的控制技能，所以导致伤害并不稳定，项羽的一技能的推人，和大招的眩晕效果可以让花木兰打出很好的伤害，另外项羽的二技能削弱敌方伤害效果，配合花木兰的重剑放技能时的免伤有不错的效果。,压制英雄,王昭君：项羽可以冲进王昭君的大招范围之内将王昭君的技能强制打断，大招因为超远的距离也可以达到这个效果。,宫本武藏：宫本武藏最具威胁力的就是开大招切脆皮了，但是由于宫本武藏的大招有一定的延迟，所以我方项羽可以利用这个机会，将宫本武藏推离我方的射手或者法师，让他无法进行输出。,被压制英雄,项羽单人作战能力不强，遇到花木兰这种刺客简直没有还手之力,项羽不能很容易控制到灵活的貂蝉,出装建议,推荐出装一,推荐出装二,Tips：这是全肉装坦克的出装方法，团战技能有一定输出能力，也有非常强的承伤能力,Tips：多以军团荣耀、冰脉护手等装备作为一个团队型的坦克，能对队友起到强大的保护作用,英雄攻略,更多,英雄故事,长久以来，大陆一直流传着关于灭世魔王的传说。他象征着绝对的黑暗，要将人间界带入永夜和毁灭之中。,第一个被宣布为魔王的是纣王。他试图让人类和魔种平起平坐，最终魂飞魄散。,然而魔王的灵魂不死不灭。他的阴影从未离开过人们的内心。此后几百年，姜子牙的弟子们依旧警惕注视着大陆的异常，防止魔王死而复生。,漫长的梦境始终困扰着项羽。每当夜晚降临，他都会踏入梦中，环视身边成千上万的敌人。他们中不乏绝顶的高手，聚集在一起布下声势浩大的埋伏。,狂怒的夜风在呼号，燃烧的火把亮如白昼，奔马嘶鸣。只为将他一个人置于死地。,“为什么？”,他的质问被埋没在滔滔东去的江流中。,若要战，那便战吧！,惨叫和哀嚎响起，很快，看似密不透风的埋伏七零八落，变成了单方面的屠杀。,项羽发出仰天长啸。他是这片大陆数一数二巅峰的武者，能胜过他的只有苍天。,然而他并不相信有天命存在。,对面的敌人忽然如潮涌般让开一条路。,黑色的身影慢步而前，闲庭信步。身姿美妙，如瀑的长发垂下。,那是虞姬。自己所爱着的，也是世上最爱自己的虞姬。,项羽如山的身躯像惊雷般掠过，随着刀光落下，敌人纷纷后退。他要离虞姬近一些，更近一些……,虞姬的嘴角发出微笑。他们注定要同生共死的。,她轻舒手臂，仿佛是弹奏琴弦的一下，长箭从冰冷的弓弦中飞出，直戳项羽的身体。无穷无尽的光辉从伤口燃烧。这光辉灼烧着项羽的躯干。让他逐渐分崩离析。,被背叛了吗？,项羽退后。他的每个动作都引起四周的骚动。就算知道他快要死了，仍然没有人敢靠近。,不，这不是真正的虞姬……他想起来了，真正的虞姬已经……,荡气回肠的悲鸣在空旷的原野上回响。这是霸王最后的呐喊。,项羽大叫着醒来。发现自己躺在湿润的荒草中。他清楚的意识到，那不是梦，而是死亡时最后一刻的情景。不知道发生了什么，自己竟然带着清醒的记忆复生。时间，也回到了垓下之战之前。,是有了重活一世，推倒重来的机会吗？,……等着我吧……虞姬。这一次，再不会有什么诀别。,“天不容我，我必逆天！”,历史上的TA,项羽，名籍，字羽，事迹主要见于《史记·项羽本纪》。秦末乱世中随叔父项梁起兵，于巨鹿之战消灭秦军主力，进军关中推翻了暴秦，并于鸿门宴后自立为西楚霸王。然而在之后与刘邦展开的楚汉战争中，于垓下遭遇大败，于乌江自刎。项羽凭神勇于乱世中角逐争驱，千古无二。其叱咤之雄，以及悲剧性的结局，震慑人心，通过史书和历代文学作品的额创造代代相传。',\n",
       "   'image': 'http://game.gtimg.cn/images/yxzj/img201606/heroimg/135/135-mobileskin-1.jpg',\n",
       "   'title': '项羽-王者荣耀官网网站',\n",
       "   'url': 'http://pvp.qq.com/web201605/herodetail/135.shtml'}],\n",
       " ['http://pvp.qq.com/web201605/herodetail/136.shtml',\n",
       "  {'content': '武则天-王者荣耀官网网站,女帝,武则天,生存能力,攻击伤害,技能效果,上手难度,英雄故事,历史上的ta,王者荣耀首页,>,英雄介绍,>,武则天,136,技能介绍,天命之女,冷却值：0,消耗：0,被动：武则天脱离战斗后会获得50点移动速度，同时每秒回复1%最大法力值,施放任意两个技能可以强化下一次1技能，并刷新冷却时间，需要注意武则天技能的施放连招,女帝辉光,冷却值：3,消耗：60,武则天向指定方向释放能量法球，碰到敌人后爆开，对范围内的敌人造成350/410/470/530/590/650（+45%法术加成）点法术伤害，由被动强化的女帝辉光将造成额外伤害并附带击飞效果；被动：释放任意两个技能会强化3秒内的下一次【女帝辉光】并清除当前【女帝辉光】的冷却时间。,这个技能命中敌人后能减速敌人，CD比较短，配合被动技能可在短时间打出多次技能,女帝威严,冷却值：8/7.4/6.8/6.2/5.6/5,消耗：90,武则天的威严不可侵犯，击退身边靠近她的敌人并对他们造成250/280/310/340/370/400（+30%法术加成）点法术伤害；如果技能命中目标，则增加武则天移动速度30/34/38/42/46/50%，并降低命中目标的移动速度30/34/38/42/46/50%。,逃命技能，面对敌人突进时，将敌人推开.这个技能也可以在队友被追时推开敌人救下队友,生杀予夺,冷却值：80/70/60,消耗：150,武则天以女帝权威施行制裁，在所有敌方英雄脚下召唤法阵并引爆，对范围内敌人造成750/925/1100（+90%法术加成）点法术伤害和晕眩。并获得敌方视野持续3秒。,这个技能在前期多用于，帮助队友控制抓人时释放，后期主要在团战中敌方站位靠近时施放能打出更多的伤害和控制,冷却值：,消耗：,铭文搭配建议,Tips：一定的冷却缩减可以保证技能持续输出，法强和法穿在前中期能保证一定的伤害量，法术吸血保证续航能力，在线上依赖被动回蓝，技能吸血来保证发育。,技能加点建议,主升,火焰三尖枪,副升,混天绫.束,召唤师技能,闪现/斩杀,英雄关系,最佳搭档,压制英雄,被压制英雄,最佳搭档,庄周：庄周这个英雄有很着团体免控减伤的效果，如果庄周配合武则天，对面没有团战免控能力，可以依赖武则天的控制配合庄周的大招让队友可以安全输出。,达摩：达摩拥有强控制能力，可以配合武则天。在团战中，达摩先手踢对方的英雄，武则天再开大配合，可以打出非常高的伤害。,压制英雄,关羽：武则天自身拥有许多的控制能力，关羽如果强切进入，武则天可以利用二技能瓦解他的被动再利用技能持续控制让关羽无法触发被动。,王昭君：王昭君输出能力非常强，主要是依赖她大招的超高伤害，但是王昭君的大招可以被控制解除，而武则天技能全部带控制，任何一个技能都能打断王昭君的大招，让王昭君无法在团战中持续输出。,被压制英雄,身为脆皮法师，武则天害怕韩信等位移多伤害高的刺客英雄,兰陵王在团战中能够一套技能直接带走武则天,出装建议,推荐出装一,推荐出装二,Tips：暴力的法师全输出装备，能够形成非常高的伤害输出，但需依赖较好的走位与操作,Tips：一套比较肉的法师出装，生存能力超强，并且有一定输出能力，适合逆风局出的装备,英雄攻略,更多,英雄故事,大唐帝国至高无上的女帝陛下，永远不会忘记自己被诅咒的命运与理想国的梦想。,身为天才法师，她在十四岁时暂露头角，并被谄媚的地方官贡献给大唐的宫廷。但因为芈月的前车之鉴，她的美貌以及破坏性法力引起了王室的警惕，将她囚禁在寺院中。,彼时天真的少女为不公平的待遇感到愤怒和痛苦。然而寺院中无名的预言老人接近她，向她揭示了未来的命运与古代魔道的奥秘。武则天很快被前所未有的知识吸引。老人要求她发誓运用力量和地位对抗魔种。因他预知自己时日无多，需要扶持一个傀儡来防止魔种卷土重来。,就像老人预言的那样，先帝即位后，前往寺院祭祀时对武则天一见钟情，将她带入皇宫。走出寺院的武则天展开巧妙而痛快的报复。她献计献策，促使新帝从疯狂的血族手中守护大唐，收揽了如狄仁杰和李靖这样的能臣名将，俨然成为了崇高与光明的化身。崇尚强者的大唐人很快为她所倾倒，当先帝驾崩后，她如愿成为大唐的女帝。,她的野心成长到足够茁壮后，不愿再受腐朽老者的操纵，更不愿作他的傀儡。她偷偷与召唤师签订了契约，借来了更多的力量。随后在那一天，她约请老者重逢。老者一踏入寺院时便遭遇了袭击。他并不畏惧，他是太古魔导，世间最强的英雄之一。但是在召唤师的帮助下，武则天召唤出有史以来最强烈的光辉，这股力量来自被老者击败并深深厌恶的大魔王，却更加明亮和纯粹。魔王已死，他的理想依然借助召唤师之手在人间王者中流转。这种理想的执念，连生存了漫长时光的老者也无法抵御。他没有想到，他的预言竟应验在最得意的弟子身上。,老者被封禁陷入长眠。女帝的力量已登峰造极。她发现了老者遗留的典籍，得知远方还有另一个世界。被称为恶魔之王的撒旦统治着黑暗的手下，并策划着吞灭东方世界的阴谋。老者终身追求的，就是从恶魔手中预防灭世末日的来临。,女帝露出轻蔑的笑容。如果恶魔能够吞并东土，那么为何自己不能反过来抢先吞灭恶魔的王者？所有的王者都应该被她踩到脚下，向她朝拜。无论他们是人是魔。,说到底，这个天下，这个世界，以及所有王者梦想的未来统一的理想国，终究都属于她——武则天。,“别低头，皇冠会掉。别流泪，女王会笑。”,历史上的TA,武则天，名曌，这个字，是她自己为自己造的，取明月当空之意。中国历史上的女主不少，但称帝当皇帝的，只有她一个。武则天最初是唐太宗的才人，后与太宗的儿子李治相恋，李治登基后，封为昭仪，进一步被封为皇后。高宗多病，武则天临朝听政，宫中并称二圣。高宗死后，几经折腾，先后废掉两个儿子，武则天剪除了忠于李唐的朝中势力，改国号为周，自立为帝。武则天虽然任用酷吏，鼓励告密，杀了不少朝臣，但为政还算清明，在她当政期间，国家强盛，民众安泰。临死因传位问题无法解决，最终把天下又还给了李家。',\n",
       "   'image': 'http://game.gtimg.cn/images/yxzj/img201606/heroimg/136/136-mobileskin-1.jpg',\n",
       "   'title': '武则天-王者荣耀官网网站',\n",
       "   'url': 'http://pvp.qq.com/web201605/herodetail/136.shtml'}],\n",
       " ['http://pvp.qq.com/web201605/herodetail/139.shtml',\n",
       "  {'content': '老夫子-王者荣耀官网网站,万古长明,老夫子,生存能力,攻击伤害,技能效果,上手难度,英雄故事,历史上的ta,王者荣耀首页,>,英雄介绍,>,老夫子,139,技能介绍,师道尊严,冷却值：0,消耗：0,被动：老夫子普通攻击命中获得训诫值，训诫值满5点后获得强化效果，增加老夫子60点移动速度及25%攻击速度，普通攻击附带60点真实伤害并能够减少1技能与2技能1秒CD，持续5秒；,可以通过普攻小兵或野怪积攒被动强化效果，攒满后对敌方英雄进行攻击，此状态下老夫子战斗力爆表,圣人训诫,冷却值：8,消耗：0,老夫子挥动戒尺，将前方范围内的敌人抽到自己身前，造成200/240/280/320/360/400（+80%物理加成）点物理伤害与减速效果,这是老夫子主要控制留人技能，施法时要注意与敌人的距离和施法方向,举一反三,冷却值：10,消耗：0,老夫子爆发气场，在2秒内增加移动速度与高额免伤，并反弹普通攻击，对攻击者造成物理伤害与减速效果并附带普攻法球（包括回复训诫），每个单位只会被反弹一次。被动：有25%几率造成两次普攻，第二次普攻仅造成50%伤害,这是老夫子在刚正面时非常重要的一个技能，在和敌人对拼时适当的时机施放会是的老夫子的战斗力更强,圣人之威,冷却值：45/40/35,消耗：0,老夫子向前冲锋造成400/500/600（+120%物理加成）点物理伤害，将撞到的第一个敌方英雄捆在明灯上持续5秒，期间目标伤害输出降低，且无法离开明灯的范围,对于被老夫子抓住的敌人来说，这个技能简直是脆皮英雄的噩梦，超强的控制效果能够帮助他和队友更好的击杀敌人，这个技能由于是非指向性的，所以施放时需要准确预判敌人走位,冷却值：,消耗：,铭文搭配建议,Tips：这套铭文其中物理攻击和物理穿透可以提高老夫子的伤害，暴击率搭配老夫子的高攻击速度表现非常的不俗，移动速度加成提升老夫子支援和gank速度，攻击速度的加成让普攻速度更快，在触发被动效果后能够打出更高的伤害。,技能加点建议,主升,火焰三尖枪,副升,混天绫.束,召唤师技能,闪现/斩杀,英雄关系,最佳搭档,压制英雄,被压制英雄,最佳搭档,大乔：老夫子是一个单挑能力很强的英雄，可以选择与大乔进行41分推的玩法配合，敌方来一个英雄守线很难战胜老夫子，来2个其他战场就会星辰4打2的局面，大乔的大招也可以及时召唤老夫子或帮老夫子逃生。,李白：老夫子属于单挑带线十分强势的英雄，一般选择上单位置抗压，老夫子达到4级后就有足够的控制，但是前中期输出能力不足以轻松击杀敌方英雄，可以防守的形式在塔下清兵线，配合李白抓敌方推进英雄，老夫子大招后李白可以轻松打出2技能大招配合老夫子秒杀敌方英雄。,压制英雄,关羽：关羽是一个依赖冲锋后技能收益的英雄，最害怕控制和减速类技能针对，老夫子使用大招命中关羽后，就像绳子拴住了马，关羽很难有效发挥自己的AOE伤害和控制，老夫子的1技能也可以打断，被控到单路或者配合队友集火可以轻松压制关羽。,哪吒：哪吒有一个核心玩法是41分推，既能牵制敌方英雄又可以及时支援战场，带线推进让人防不胜防，老夫子对抗哪吒是一个很好的选择，真实伤害可以无视哪吒的免伤能正面单挑战胜哪吒，在哪吒需要支援战场时，使用大招也可以组织哪吒发挥自己的作用。,被压制英雄,老夫子在进入战场切入后排时很容易被项羽推走,孙尚香的机动性可以很好的风筝老夫子,出装建议,推荐出装一,推荐出装二,Tips：前中期以输出装为主，后期补上一定的血量装备以保证持续输出能力,Tips：打野出装思路，半肉老夫子，主要利用控制效果配合队友输出,英雄攻略,更多,英雄故事,天不生夫子，万古如长夜。,在大陆，即使三岁小儿，也能斩钉截铁告诉你：世间最强的人，是老夫子。这既是传说，也是一种坚定不移的信仰。,夫子的年龄有多大？大概就像滔滔大河，日夜奔流，只能惊叹叹逝者如斯夫，却看不见源头。,夫子的实力有多高？大概就像冰封的雪山，高耸入云的通天塔以及九重之天那样望不到巅峰。,曾经唯一能与夫子媲美的智者是姜子牙。姜子牙继承了太古的知识，并将它们以机关术和魔道的形式分别传承给后人。然而，夫子预感到了这种做法的危险：对至高的，作为天地根源知识的追求，极易让人失去对生命的畏惧之心，从而步入歧途。已毁灭的上古时代，就是因为对魔道无节制的探索，使作为非人生命体的魔种一度威胁到了人类的存在，并招致了纣王的覆灭。,姜子牙一心要重现上古的辉煌，听不进夫子的劝告，这种分歧终究导致了两位伟大智者的决裂。但是后世帝王认同夫子的智慧。为了传承知识，又不至于引发失控的灾难后果，夫子创办了稷下学院，成为与庄周，墨子并称的“稷下三贤者”之首，广收大陆的天才们为弟子，不论出身，不论技艺，不论种族，因材施教。渐渐的，稷下成为青年精英们所向往的圣地。即使身为召唤师，能得到孔夫子的指点，也是无上的光荣。,“天不生夫子，万古如长夜。”,历史上的TA,老夫子的历史原型为儒家学派创始人孔子，《史记》中有《孔子世家》记载其事迹。孔子，名丘，字仲尼，是春秋时期鲁国人。他广收门徒，周游列国，号称三千弟子，传播其学说。他的政治，经济和教育思想，深深影响了后世。孔子修订了六经，他和弟子的言语被记录整理，成为儒家经典《论语》。司马迁评曰：“孔子布衣，传十余世，学者宗之。自天子王侯，中国言六艺者折中于夫子，可谓至圣矣！”',\n",
       "   'image': 'http://game.gtimg.cn/images/yxzj/img201606/heroimg/139/139-mobileskin-1.jpg',\n",
       "   'title': '老夫子-王者荣耀官网网站',\n",
       "   'url': 'http://pvp.qq.com/web201605/herodetail/139.shtml'}],\n",
       " ['http://pvp.qq.com/web201605/herodetail/140.shtml',\n",
       "  {'content': '关羽-王者荣耀官网网站,一骑当千,关羽,生存能力,攻击伤害,技能效果,上手难度,英雄故事,历史上的ta,王者荣耀首页,>,英雄介绍,>,关羽,140,技能介绍,一骑当千,冷却值：0,消耗：0,被动：关羽每主动移动100距离速度将提高2%，移动达到2000距离时将进入冲锋状态.冲锋时对敌人造成普攻伤害并附带自身最大生命值12%的物理伤害.该姿态下关羽受到减速或者控制导致其速度低于375时.将停止冲锋。冲锋姿态普攻可击退敌人，面朝敌方将获得20%移动加速.,关羽需要尽量通过一直移动来触发被动的冲锋状态，这样才能增加自己的普攻输出和造成击退效果，由于是最大生命值的百分比伤害，所以关羽在装备选择上尽量选择肉装和移速装,单刀赴会,冷却值：8/7.2/6.4/5.6/4.8/4,消耗：0,关羽旋转大刀对附近造成敌人215/430/645/860/1075/1290（+127%物理加成）点物理伤害.冲锋姿态下将发起冲锋造成（+100%物理加成）（+最大生命值的12%）点物理伤害，并在结束时向前劈砍，造成250/500/750/1000/1250/1500（+150%物理加成）点物理伤害,非冲锋状态下是AOE范围伤害，团战中关羽尽量在混战中心多次使用此技能，打到更多的人，才能发挥更大的价值；冲锋状态下配合普攻有一个不错的突进效果和小爆发伤害,青龙偃月,冷却值：14,消耗：0,关羽清啸一声，大幅度增加自身移动速度并解除自身控制效果。冲锋姿态下前跃击退敌人，造成335/470/605/740/875/1010（+112%物理加成）点物理伤害，增加自身移速解除控制效果,移速加成效果无疑使得关羽更加灵活，由于可以解除控制效果，这就成为了关羽绝佳的逃跑技能，所以需要注意要在敌方交了控制技能后再使用此技能，在安全的情况下，可以利用此技能进行突进留人,刀锋铁骑,冷却值：70/60/50,消耗：0,关羽激发潜能，将冲锋准备距离从100缩短至50持续10秒。冲锋姿态下召唤铁骑突击撞退敌人，冲锋造成（+100%物理加成）（+最大生命值的12%）点物理伤害，将冲锋准备距离从100缩短至50%持续10秒。,关羽能快速进入冲锋状态，冲锋状态下能击退大范围的敌人，对于保护队友和突进先手都是非常实用的,冷却值：,消耗：,铭文搭配建议,Tips：异变和鹰眼的百穿效果再加上异变和隐匿的36的物理攻击，能够让关羽的每一刀都特别痛。而隐匿的10%的移速能够让这匹马跑得更快，追杀或者逃跑都很方便。,技能加点建议,主升,火焰三尖枪,副升,混天绫.束,召唤师技能,闪现/斩杀,英雄关系,最佳搭档,压制英雄,被压制英雄,最佳搭档,庄周：关羽需要不停脱离控制达到冲刺状态才能打出伤害，如果团队中有庄周，加上自身的净化和二技能，关羽在一次团战中很轻松就可以打出3-4次冲刺，如果对手想控制关羽，就需要浪费大量控制技能，因此庄周对于关羽可以起到锦上添花的作用。,大乔：大乔的1技能可以为关羽冲锋进行加速配合，靠技能伤害的关羽经常需要回家补充状态，大乔的回城能够很好的帮助关羽续航，而且大乔的沉默可以使关羽前去冲锋的时候降低被技能控制的风险。,压制英雄,干将莫邪：关羽算是能够限制干将的少有几个英雄之一了。干将的一技能和闪现能够躲好多英雄的技能，但是关羽只需要绕后，到敌方二塔直接用大推出干将，然后把他顶到回不了塔，干将就必死。,黄忠：黄忠在中心战场之外开大招时候，输出会有很高的伤害，也有安全保障，正常英雄如果不能快速切到黄忠身边，很难近身切入，关羽可以凭借冲刺绕后配合技能快速切到黄忠身边，也可以用大招和一技能把黄忠推到战场中央而且造成高额伤害，没有位移的黄忠很难有反制手段。,被压制英雄,孙尚香可以很好躲过关羽的技能，从而进行风筝,孙膑大招的沉默可以让关羽进场时无事可做,出装建议,推荐出装一,推荐出装二,Tips：这套装备使得关羽在后期能有一定的输出，并且抗击打能力也很强,Tips：这使得关羽成为不折不扣的肉坦，团战中只需要冲到混沌中心，干扰敌人的输出,英雄攻略,更多,英雄故事,青龙偃月刀是件圣物。,唤动傀儡骑兵的力量，对付魔种堪称摧枯拉朽。,二爷则是世间最强的猎魔人之一。在与古老魔种的战斗中，他最终赢得了这件宝物，代价是数十个猎魔人兄弟的性命。正因如此，二爷视宝刀如同兄弟一般。,乱世中人心惶惶，生存不易。即使最贫穷的村落，人们节衣缩食也要凑出金钱来，聘请猎魔人驱赶威胁性命的魔种。,这天，又接到了一单买卖。二爷很厌恶这样的生意。他喜欢高难度挑战，对混血的魔种却下不了手。不死心的主顾竟然提出借刀的请求：,“借您的刀使使。怎么说，也是十余人的魔种家族。一个不小心，就会反受其害。”主顾巧舌如簧。“对了，那些魔种可是机关师，不知制造了多少灭绝武器。您是担心自己的宝刀不如人吗？”,二爷高傲的心被激怒了。他自信来人不敢欺骗自己，答允了他的请求。,没多久，青龙偃月刀被完好送回。但接踵而来的，还有高挂的通缉令。原来，整片人类的村庄被屠灭。幸存者供认，凶手所持的正是青龙偃月刀。,人人都知道宝刀的主人是二爷，一夜之间，猎魔人成为被猎者。,二爷明白自己中了借刀杀人的伎俩。他愤怒了，自己蒙上罪名，连兄弟们以命换来的青龙偃月也被玷污。,是与自己为敌的魔种的阴谋吗？二爷冷笑着向阴暗的巢穴进发了。,没过多久，魏国大军的营帐中，黑袍的男人便开始愤怒咆哮。他所饲养的血源，赖以生存的血源，一个接一个覆灭。,枭雄生出了欣赏之心，邀请二爷成为自己的属下。,“不如加入我们吧。乱世中适者生存，成为血族，拥有更强的力量，不是很好吗？”,二爷一口拒绝。“猎魔人与魔种誓不两立。”,“你只是不甘心罢了。”枭雄不屑一顾：“就算知道是谁主使的又如何？也许，他的力量强大到你无法挑战。”,“抱歉，也许在您眼里，坚守正道是件很蠢的事，可自己选择的路，再荒谬也要走完。”二爷头也不回的离开。那时候他还不知道，孤独旅途的重点竟是命定的邂逅。,多少时光流逝。二爷终究找到了线索。,可当他来到蜀地，面对的却是那位旧日主顾，如今蜀郡督邮长官燃烧的府邸。,“听说，是饲养的魔种跑掉了。”围观的人群议论纷纷。,冥冥之中，无形的手操控着所有人的命运。二爷冷笑着，扛着大刀昂然注视着疯狂的烈焰。,他会弄清一切的，以青龙偃月之名立誓。,“决定了内心的正道，便绝无动摇。”,历史上的TA,关羽，字云长，事迹主要见于《三国志·蜀书》。关羽是刘备的爱将，是刘备集团起家的班底成员。他们结盟的事儿，后来被传为刘关张桃园三结义的故事。关羽在刘备集团，战功赫赫。一度投奔曹操，也为曹操斩颜良文丑，被封为汉寿亭侯（档次比较低的一种侯）。后复归刘备，刘备夺取益州之时，留他守荆州。他违背诸葛亮北拒曹操、南和孙吴的大政方针，两面作战，最终兵败身死，丢了荆州。关羽在清代倍受推崇，被封为大帝、武圣，到处都是关帝庙。戏班子唱关公戏，演员得提前沐浴更衣。',\n",
       "   'image': 'http://game.gtimg.cn/images/yxzj/img201606/heroimg/140/140-mobileskin-1.jpg',\n",
       "   'title': '关羽-王者荣耀官网网站',\n",
       "   'url': 'http://pvp.qq.com/web201605/herodetail/140.shtml'}],\n",
       " ['http://pvp.qq.com/web201605/herodetail/141.shtml',\n",
       "  {'content': '貂蝉-王者荣耀官网网站,绝世舞姬,貂蝉,生存能力,攻击伤害,技能效果,上手难度,英雄故事,历史上的ta,王者荣耀首页,>,英雄介绍,>,貂蝉,141,技能介绍,语·花印,冷却值：0,消耗：0,被动：貂蝉的技能命中会为目标叠加花之印记，每四层印记触发一次爆炸，回复自身100点生命并对周围敌人造成160（+64%法术加成）点真实伤害与减速效果,貂蝉每次使用其它技能对敌人造成印记爆炸的时候，爆炸效果会对敌方造成范围伤害并减速，而且该爆炸伤害无视对方护甲防御，是真实伤害.,落·红雨,冷却值：5,消耗：50,貂蝉向前挥出花球并收回，每段造成180/220/260/300/340/380（+57%法术加成）点法术伤害,一条直线上造成两次伤害，由于有一定的延迟，所以需要预判对手的走位施放,缘·心结,冷却值：10,消耗：50,貂蝉瞬间消失，并立即出现在指定方向的终点，散发3枚花球攻击终点附近的敌人，每枚造成140/155/170/185/200/215（+24%法术加成）点法术伤害，命中敌人会减少技能4秒冷却时间,貂蝉2技能位移并且对最近的敌人造成3次伤害，如果3次都全命中在同一敌人身上，将会直接触发被动减速，该技能也能用于穿墙逃跑，在没有大招的情况下谨慎使用,绽·风华,冷却值：40/35/30,消耗：80,貂蝉绽放风华，原地结成法阵，法阵生成及消失都将造成210/245/280（+50%法术加成）点法术伤害.在法阵之中貂蝉的一、二级技能会加快冷却回复,大招是貂蝉非常霸道的AOE技能，虽然大招伤害很一般，但能在大范围对敌人触发被动效果，使得貂蝉其它技能造成更多伤害，冷却也更快,冷却值：,消耗：,铭文搭配建议,Tips：法术攻击和穿透可以在初期保障伤害，应对敌方换血和快速清线，吸血提供的恢复能力可以增加貂蝉的赖线能力；貂蝉对冷却缩减的效果非常依赖，符文选择带10％冷却，在初期配合回血书就有一定的作战能力。,技能加点建议,主升,火焰三尖枪,副升,混天绫.束,召唤师技能,闪现/斩杀,英雄关系,最佳搭档,压制英雄,被压制英雄,最佳搭档,庄周：貂蝉是一个比较怕控制的英雄，需要一个队友去为她承受住来自敌人的打击，庄周大招可以为其解除大部分控制并增加免伤，能提高貂蝉的生存能力以及作战能力，是搭配貂蝉的不二选择。,白起：面对切入型英雄，貂蝉需要拉开范围，而白起不仅能做到大招嘲讽，使貂蝉能在较安全的环境输出，也能在对方站位密集的地方群控(嘲讽效果)，让貂蝉尽情输出打出更多AOE真实伤害。,压制英雄,露娜：貂蝉一般带净化居多，净化解控露娜成功断大一次都可以造成致命伤，貂蝉的2技能消失也可以完美躲避任何技能，把握好时机也能轻松断露娜的大降低他的威胁力，貂蝉在开大时的，2技能命中人后的cd是很快的，在团战中也有不输露娜的AOE输出。,张飞：貂蝉在团战中的爆发很高（被动连爆），利用被动的真实伤害效果很好压制张飞这种技能的护盾的英雄，而且被动还带有减速效果，在单抓或者在团战中很好击杀或者压制住张飞，自身也不会遭受很高的伤害。,被压制英雄,张良的硬控很容易控住貂蝉,花木兰的超高爆发输出能力能快速击杀走位不慎的貂蝉,出装建议,推荐出装一,推荐出装二,Tips：全输出法师出装，后期秒杀敌方刺客和脆皮，但容错率较低，需要一定的操作技巧,Tips：这是貂蝉偏2法坦的出装思路，团战伤害稳定，生存能力很强,英雄攻略,更多,英雄故事,你，会跳舞吗？,满天花雨中，舞动着曼妙的身姿。无数眼光目不转睛。,一直跳下去吧……,“这个乱世中，你的存在就是一个梦。让男人们做梦就好了，他们会全部屈从在你的舞裙之下。”,梦里，唯一清醒的就是自己。,清醒，是为了活下去。,她替胜利者斟满美酒。男人高冠长翎，容貌堂堂，带着满身的酒意紧紧挽住她的手腕。“貂蝉，等着。明日一过，我会把天下呈到你的面前……”,战神吕布，是在袒露真心吗？她的眼中充满敬仰和感动，真切的连自己都会被欺骗。要争夺那活下去的机会时，真心是如此无足轻重。,方天画戟擦破了战神的手，一丝鲜血流入酒杯。,帷幕的阴影深处，龙接过了酒杯。,“有了这个……魔道的秘法，即使是战神也无法抵挡。貂蝉，等着。明天……”,太阳升起又落下。,若有若无的淡香飘散在战场，身影像舞蹈般风中摇曳。,不是舞姬貂蝉，而是斥候貂蝉，迎着四散的逃兵寻找熟悉的身影。,死了吗？,都死了吗？,战神，吕布，果然是不可战胜的吗？在绝对的实力面前，一切上不得台面的伎俩都是虚妄。,但我知道你就在这里，此地……。,我在光明中起舞，你是我的烛之影。你在黑暗中厮杀，我是你的月之影。,清风拂过山丘，扛着龙枪的男人回首战场。,遍地死尸，血腥弥漫，这熟悉的味道，就像我们初遇的地方。,可是，影子已死。,貂蝉焦急的寻觅着。却不知道，他们正离得越来越远。,魅影般的舞姬潜入大营。那里高坐着新的胜利者，渔翁得利的枭雄。以及拜倒在地的……泪水无声无息的流下面颊。,“谁？”枭雄察觉到了什么。,“是故友。”龙起身，伸出他的手。,貂蝉微笑着踏入营帐，泪痕无影无踪。身如暗影却仪态万方，心有悲伤而绝代风华。清醒。清醒，是为了活下去。活下去，是为了重逢。,做到这些很简单，编织美梦就好了。,花有再开的那天，人会有重逢的时刻。,“不要爱上妾身哟！”,历史上的TA,貂蝉，是一个仅仅存在于小说和戏剧中的人物。从《三国志平话》到《三国演义》，貂蝉的故事虽然不多，但形象相当丰满。说貂蝉是一位绝色佳人，在司徒王允家为婢女，为了报答王允，她巧使连环计，使吕布和董卓互相残杀。董卓死后，貂蝉归于吕布。',\n",
       "   'image': 'http://game.gtimg.cn/images/yxzj/img201606/heroimg/141/141-mobileskin-1.jpg',\n",
       "   'title': '貂蝉-王者荣耀官网网站',\n",
       "   'url': 'http://pvp.qq.com/web201605/herodetail/141.shtml'}],\n",
       " ['http://pvp.qq.com/web201605/herodetail/142.shtml',\n",
       "  {'content': '安琪拉-王者荣耀官网网站,暗夜萝莉,安琪拉,生存能力,攻击伤害,技能效果,上手难度,英雄故事,历史上的ta,王者荣耀首页,>,英雄介绍,>,安琪拉,142,技能介绍,咒术火焰,冷却值：0,消耗：0,被动：使用技能会对敌人造成额外灼烧伤害，可以在短时间内叠加至多10层,咒术火焰是安琪拉的核心技能，她能够使安琪拉的所有技能伤害都附加一个额外魔法伤害，依靠这个被动技能效果，安琪拉在施放技能持续攻击敌人时，能够造成成吨的伤害.,火球术,冷却值：6,消耗：70,安琪拉召唤5颗火球朝指定位置攻击，每颗火球对敌人造成350/390/430/470/510/550（+30%法术加成）点法术伤害。当敌人被多颗火球命中时，额外的火球只能造成30%伤害。火球命中英雄时会停止移动并销毁。,非指向性技能，需要预判敌方走位释放.敌人受到控制效果时能极大提高此技能命中率,混沌火种,冷却值：10/9.6/9.2/8.8/8.4/8,消耗：80,安琪拉朝指定位置释放混沌火种，火种在触碰敌人或者散播到最远距离时，裂变为火焰漩涡使命中的敌方短暂眩晕，之后缓慢飞行对周围的敌人每次灼伤造成130/145/160/175/190/205（+17%法术加成）点法术伤害并减速。,变为火焰漩涡时，会对第一个敌人造成短暂的眩晕效果，所以尽量在眩晕期释放其他技能会极大提高命中率和输出伤害,炽热光辉,冷却值：30/26/22,消耗：120,安琪拉蓄力朝面前持续释放炽热光辉，对触碰的敌人每0.3秒造成150/190/230（+21%法术加成）点法术伤害并获得炽热护盾，护盾存在期间不会受到控制效果，护盾可抵免600/800/1000（+60%法术加成）点伤害。（施法1秒后再次释放该技能可以取消引导）,安琪拉在引导过程中，是可以通过左摇杆来控制自己的当前朝向，精准控制，能够让敌人无处可逃.在释放技能同时，安琪拉会获得炽热护盾，护盾存在期间不会受到敌方的控制效果.当然，如果你觉得释放技能位置不好，可以随时再次点击技能按钮取消技能施法,冷却值：,消耗：,铭文搭配建议,Tips：安琪拉是一个高爆发的法师英雄，操作简单，技能的法术强度收益超高是她的特色，三个铭文都可以为安琪拉提供法术强度收益是最好的选择，轮回的法术吸血也可以提升安琪拉的前中期续航能力。,技能加点建议,主升,火焰三尖枪,副升,混天绫.束,召唤师技能,闪现/斩杀,英雄关系,最佳搭档,压制英雄,被压制英雄,最佳搭档,钟馗：安琪拉的技能是AOE可以同时对多人造成伤害的，钟馗利用大招闪现把敌方3-5人控制住，安琪拉接21技能配合大招可以轻松将敌方团灭。,白起：白起闪现2技能家大招可以轻松把敌方英雄聚拢，配合安琪拉21技能家大招可以轻松将敌方团灭。,压制英雄,鲁班七号：针对鲁班七号类型的后排无位移英雄，可以在草丛伏击，先手2技能打中后接1技能大招可以轻松秒杀敌方英雄。,后羿：针对后羿类型的后排无位移英雄，可以在草丛伏击，先手2技能打中后接1技能大招可以轻松秒杀敌方英雄。,被压制英雄,身为脆皮法师，安琪拉害怕韩信等位移多伤害高的刺客英雄,兰陵王在团战中能够一套技能直接带走安琪拉,出装建议,推荐出装一,推荐出装二,Tips：暴力的法师全输出装备，能够形成非常高的伤害输出,Tips：一套比较肉的法师出装，生存能力超强，并且有一定输出能力，适合逆风局出的装备,英雄攻略,更多,英雄故事,梅林“曾经”是大陆上最神秘的法师之一，堪比东方两大宗师。她还肩负着伟大的使命——辅助王者，让勇士之地再度复兴。,遗憾的称之为“曾经”……因为她的晚节不保。是的，她使用魔法（东方人称为魔道）时失手，极其不幸的把自己关在了透明的气泡囚笼中！这个囚笼则摇摇晃晃挂在一棵古老的大树上。,没人知道过了多少年，她绞尽脑汁打破气泡，最好的成果也无非是将自己制造的小玩意儿扔出气泡，本体依然无法脱离。直到发现偶尔会有猎人的小孩路过，引发新的灵感：制造一个超！可！爱！的玩偶，然后扔到树下。,小女孩安琪拉发现了玩偶。她拾取来看了又看，爱不释手。这时，附着在玩偶上的魔法发动了：灵魂交换。,成功！梅林离开囚笼，进入小女孩的身体。可是……感觉有点怪怪的？顾不上那么多，梅林想操纵新的身体走出森林。她开始施展寻路法术。也许太专注……就像所有故事里那样，一只手轻轻搭在她的肩膀上。,那是个好心的圣骑士，发现了迷路的女孩子，要带她回家。,一瞬间，梅林知道问题所在了。当她看到那家伙，眼睛就再也移不开，脚步也不由自主紧跟着他，他说什么就会顺从的照着去办。这具身体，想必一直憧憬仰慕着这位圣骑士。这种仰慕如此强烈，让梅林无法抵御。,梅林抓狂了！她才不要刚离开囚笼，就单恋上弱爆了的人类。她果断决定一回到村镇，立刻暗杀这位救命恩人。,幸亏，他们所遇到的第一个行人，朝圣骑士打招呼，并叫他“亚瑟”！,一瞬间，所有不堪回忆的黑历史都涌到了梅林……哦不，现在名为安琪拉的小女孩脑中：是的，她被称为世界上最伟大和正义的巫师，但这是假象。她是个失败者。天才的她计划要谋夺世界，无耻的家伙践踏了她的自尊心，诅咒了她，让她被迫听命于亚瑟王。什么复兴勇士之地！她本想毁灭它！亚瑟王死后，她以为自己终于解脱，却又失手被困。如今，命运的诅咒再度生效。小女孩的单相思让眼前这个同样叫亚瑟的圣骑士成为她新的主人。真是倒霉透顶！,愤怒焚烧了安琪拉的理智。她召唤出巨大火球。圣骑士反应神速的拔出长剑：,“你是谁！”他警惕的问。,“请接受我——法师安琪拉的效忠。这是命运安排我们重逢。”小女孩展现出与年龄不符的微笑，“我的陛下……”,服从亚瑟又如何？无论如何，我回来了。我要报复，我要找回尊严和自信。,“知识，就是力量！”,历史上的TA',\n",
       "   'image': 'http://game.gtimg.cn/images/yxzj/img201606/heroimg/142/142-mobileskin-1.jpg',\n",
       "   'title': '安琪拉-王者荣耀官网网站',\n",
       "   'url': 'http://pvp.qq.com/web201605/herodetail/142.shtml'}],\n",
       " ['http://pvp.qq.com/web201605/herodetail/144.shtml',\n",
       "  {'content': '程咬金-王者荣耀官网网站,热烈之斧,程咬金,生存能力,攻击伤害,技能效果,上手难度,英雄故事,历史上的ta,王者荣耀首页,>,英雄介绍,>,程咬金,144,技能介绍,舍生忘死,冷却值：0,消耗：0,被动：程咬金每损失1%最大生命值获得额外3～7点物理攻击力，增加幅度随英雄等级成长，并且程咬金释放普通技能会消耗当前8%的最大生命值，大招消耗16%的当前生命值；每次释放技能还会回复6%已损失生命值，回复过程持续3秒,被动是以损失最大生命值来增加伤害输出，但同时也提供了回复效果，所以纯肉装也是不错的选择,爆裂双斧,冷却值：15/14.4/13.8/13.2/12.6/12,消耗：0,程咬金向指定目标位置猛力一跃并挥动双斧斩击，对范围内敌人造成120/155/190/225/260/295（+50%物理加成）点物理伤害并造成50%的减速效果，持续2秒；被动：程咬金的普通攻击命中敌方英雄会减少1秒爆裂双斧的冷却时间。,程咬金位移的控制技能，被动效果普通攻击可减少CD，对线或是抓人时可以作先手减速留人，持续输出粘住敌人.掩护队友时，也可让队友从容撤退.,激热回旋,冷却值：5,消耗：0,程咬金转动双斧劈砍敌人，对范围内的敌人造成两段伤害，每段造成125/150/175/200/225/250（+60%物理加成）点物理伤害。,程咬金的主要输出技能，用来清线是不错选择，团战中，由于CD很短可多次使用该技能进行AOE伤害输出,正义潜能,冷却值：30,消耗：0,程咬金迸发正义热情，每秒回复8%最大生命，同时增加移动速度30%，持续5秒。,程咬金在团战中保证了自己的超高生存能力，持续回复大量生命值并提升移动速度，在追人和撤退时使用都是很好的选择,冷却值：,消耗：,铭文搭配建议,Tips：程咬金定位是战士和坦克，既坦克承受伤害的能力又有输出能力；异变可以为程咬金提升一些攻击力和穿透能力，蓝色隐匿可以提供攻击力和移速，方便黏人输出，绿色均衡提升双抗可以让程咬金承受更多伤害。,技能加点建议,主升,火焰三尖枪,副升,混天绫.束,召唤师技能,闪现/斩杀,英雄关系,最佳搭档,压制英雄,被压制英雄,最佳搭档,花木兰：在野外地形时作为突进开团玩法进行配合，程咬金可以在前排承受高额伤，黏住敌方核心输出位交出关键技能，花木兰把握时机突进配合程咬金完成击杀或者收割，面对程咬金不交技能很难打出有效伤害，交技能就无法有效针对花木兰，依次作为配合战术效果会很好。,高渐离；高渐离拥有比较高的AOE爆发输出能力，有程咬金吸引敌方火力，骗敌方交出关键技能，由高渐离进场大招收割是最好的，程咬金可以视血量情况返场去追击敌方核心输出位，利用大招恢复黏住敌方核心输出位无法脱离战场。,压制英雄,鲁班七号：鲁班七号没有位移，爆发伤害对程咬金无法构成威胁，程咬金可以利用低血量高伤害能力站撸鲁班，血量比较低也可以开启大招恢复生命值，移速快即使打不过也可以轻松逃生。,妲己：高爆发秒人英雄妲己在面对程咬金的超强坦克能力和高恢复能力非常的难受，经济同等情况下一套技能也无法把程咬金带走，因为只有2技能控制效果比较薄弱，很容易会被程咬金近身击败。,被压制英雄,程咬金单人作战能力不强，遇到花木兰这种刺客简直没有还手之力,机动性很高的孙尚香很容易风筝程咬金,出装建议,推荐出装一,推荐出装二,Tips：这是全肉装坦克的出装方法，团战技能有一定输出能力，也有非常强的承伤能力,Tips：多以军团荣耀、冰脉护手等装备作为一个团队型的坦克，能对队友起到强大的保护作用,英雄攻略,更多,英雄故事,比起猛将的功勋，更多以“大唐帝国弱小人们的守护神”著称。与健美的肌肉体魄极不相称的，拥有动不动泪流满面的热血男儿情怀，以及神速爆衣变装的小癖好。在大唐境内，听到程咬金的名字，连小孩子都会停止哭泣，要求奶奶再讲一个他的传说。,程咬金对弱小者充满同情。年轻时，让他迷恋的不是打打杀杀，而是自然和平的生活。在他看来，绝顶的武艺，健美的肌肉，都应该是为了挑战自然而非互相杀戮而生的。,某天，他所居住的村庄到来一位旅行者。无论他如何奔跑，跳跃或是展现与众不同的力量，旅行者丝毫也不落后。日落时分，他们已经成为朋友。,但次日，一伙暴徒闯入村庄，他们是来捕捉传说中的白虎。火焰与浓烟中，妇女和儿童发出痛苦呼号。程咬金愤怒了。,“如果世界上存在太阳照不到的阴暗角落，那就让我的肌肉和汗水来散发光辉吧！”暴徒们在巨斧面前落荒而逃。可很快又卷土重来，并更加有组织和浩大。,旅行者挺身而出。程咬金第一次见识到比肌肉和武力更强大的力量，那就是智谋。他们一起联手打败暴徒。旅行者离开时，程咬金提出随同的请求：,“只有武艺不足以保卫家乡。当太阳的光辉照耀到每个角落，才会有真正的和平。”,从那时起过去十五年，程咬金成为战功赫赫的名将。女帝武则天登基后，不耐烦遵守严格考勤制度的程咬金隐姓埋名开始周游大陆，顺便肩负起巡视的秘密任务。,他接受当年的旅行者，如今的大将军李靖邀请来到北方时，很快以动物般惊人的直觉感知到安禄山不同寻常的动向。,看来，肌肉和汗水的光辉，又要发光发热了。,“一个字：干！”,历史上的TA,即程知节，本名程咬金。《旧唐书》上说他“少骁勇，善用马槊”。在隋末大乱中，他先投李密，加入瓦岗军，后归于唐，与秦琼一道，成为秦王李世民帐下的骁将。李世民发动玄武门之变时，他是参与事件的主将之一。李世民登基之后，命画家阎立本为二十四位功臣画像，是为凌烟阁二十四功臣，程知节即是其中之一。程咬金的战功并不最多，但他对李世民的忠诚，却一时无两。在《说唐》和《隋唐演义》等小说中，将程咬金说成是一个鲁莽的混世魔王，为人滑稽好笑，同时也是一员福将，怎么打都不死。',\n",
       "   'image': 'http://game.gtimg.cn/images/yxzj/img201606/heroimg/144/144-mobileskin-1.jpg',\n",
       "   'title': '程咬金-王者荣耀官网网站',\n",
       "   'url': 'http://pvp.qq.com/web201605/herodetail/144.shtml'}],\n",
       " ['http://pvp.qq.com/web201605/herodetail/146.shtml',\n",
       "  {'content': '露娜-王者荣耀官网网站,月光之女,露娜,生存能力,攻击伤害,技能效果,上手难度,英雄故事,历史上的ta,王者荣耀首页,>,英雄介绍,>,露娜,146,技能介绍,月光之舞,冷却值：0,消耗：0,被动：露娜的第一次普通攻击会向目标发起冲锋，第三次普攻将会造成范围伤害并标记敌人（无法标记机关),这是露娜团战输出的主要AOE伤害之一，更重要的是能进行标记刷新大招CD，使得技能连招更多样化,弦月斩,冷却值：5,消耗：50,露娜挥出一道剑气冲击波，对命中的敌人造成350/430/510/590/670/750(+51%法术加成)点法术伤害，并标记敌人（无法标记机关),主要的作用是进行标记，刷新大招CD.同时有一定的施法范围，在线上进行消耗非常不错,炙热剑芒,冷却值：8,消耗：50,露娜将剑插入大地，以炙热剑芒牵引附近敌人靠近自己并眩晕他们，造成120/135/150/165/180/195（+31%法术加成）点法术伤害，获得可抵挡400/480/560/640/720/800（+80%法术加成）点伤害的护盾并标记敌人（无法标记机关)，造成持续2秒50%的减速,该技能可以控制范围内的敌人，可以配合队友留人，也可在晕眩时间内打出被动，造成更多伤害,新月突击,冷却值：25/20/15,消耗：80,露娜向指定位置发起突击，对路径上敌人造成500/625/750（+60%法术加成）点法术伤害，如果露娜命中了标记敌人，将会刷新该技能冷却时间,露娜的大招是她最重要的技能，在1技能和被动都能重置CD的情况下，灵活利用标记可以在一波团战中一直使用大招进行突进和输出,冷却值：,消耗：,铭文搭配建议,Tips：露娜的技能需要配合普攻才能多次刷新大招，攻速加成可以提升露娜的攻击频率，移速加成可以提升支援gank的能力，法穿可以增加露娜的伤害能力，冷却可以减少技能CD。,技能加点建议,主升,火焰三尖枪,副升,混天绫.束,召唤师技能,闪现/斩杀,英雄关系,最佳搭档,压制英雄,被压制英雄,最佳搭档,庄周：露娜最怕张良、妲己、达摩这类硬控英雄，庄周的大可以让露娜有良好的环境确保至少打出一套技能连招，1技能的减速效果可以2技能加速效果可以帮露娜更好的追击与逃生，大招免伤也可以增加露娜的生存能力。,孙膑：孙膑的1技能减速可以帮露娜更好的追击敌人，2技能冷却能恢复露娜的技能CD，即使出现失误大招断掉也可以很快冷却，大招的沉默效果可以配合露娜进场，避免被敌方集火瞬秒的情况出现。,压制英雄,虞姬：虞姬是一个身板比较催的射手，2技能免疫物理攻击的效果对露娜0作用，面对露娜这种高机动性，有持续输出和追击能力的存在很难有逃生的能力，露娜的2技能也有高额的护盾，可以免疫很多持续伤害，大招可以轻松躲避虞姬的1技能poke。,鲁班：鲁班没有逃生技能，唯一的控制技能又需要预判位置才能放中，在身板灵活的露娜面前很难控制住露娜，本身身板很脆，被露娜切到一套以后很难生存。,被压制英雄,露娜很怕被控制秒杀，张良的长时间控制，足以配合队友将其击杀,钟馗可以将露娜团战前拉回来将其秒杀,出装建议,推荐出装一,推荐出装二,Tips：这套装备既保证了露娜核心的爆发输出能力，也增强了她的身板，使得生存能力大大提升,Tips：这是露娜法坦的出装思路，虽然损失了部分输出能力，但是能保证露娜团战的生存力，能持续作战,英雄攻略,更多,英雄故事,大陆上存在古老的魔道家族，他们继承了古代魔种的血液，能比正常人类更轻易获得魔力。而这种力量也让他们背负着残酷的宿命。,露娜就出生在这样的家族。她的家族最擅长的事，就是将魔道之力赋予在武器上。在成年礼上，露娜被选作继承人，并得到了寄托家族力量的徽章。,按照法则，整个家族中能够继承这种力量的只有一个后羿，当继承仪式之后，她的七个兄弟姐妹本应过着平常人的生活。但惨剧在当夜发生了。,月光冰冷的照耀着大地，她的长兄，她最敬爱的亲人，害死了父母，亲人，以及所有的兄弟姐妹。,“小妹，你不是我的对手。”那个面目全非的人说。,“为什么要这样做？哥哥，想成为继承人，我可以让给你。为什么连父亲，母亲，连家人都要杀掉？”,“小妹，记得吗？你十一岁时，闯入村子的盗贼挟持了你，我将他们全部击倒的事？”,“是的，我记得……”,“其实，我没想过救你，不过是单纯无法控制自己而已。”,魔道能赋予人力量，也能让人疯狂。露娜意识到，她的哥哥，正陷入这样的危险。,“你很美丽，小妹，我指的是，你越来越强了。我对继承人的位置没兴趣，我就是单纯想击败你而已。”,“哥哥……”,“为什么还不开始？你还在迟疑？”,“哥哥，我对你充满敬仰，想成为你这样的强者……哥哥，我无法忘记你教导我的一切，就像无法忽视月光。”,“说废话干嘛！拔剑啊！那些小事，我统统忘了。”,“但我不会忘记。我愿意把生命还给你。”,兄长收起了他的刀。,“没意思。”他说。“跟不反抗的人决斗，没意思。”,他拾起她的剑，轻松折断，然后离开。,露娜擦干了最后的眼泪。魔道的宿命，是一种多么恐怖的东西。不知不觉间，哥哥替她背负了这份罪恶。,总有一天，总有一天能再见面吧。我会找到你，然后做一个了结。,“燃烧的剑，燃烧的心！”,历史上的TA',\n",
       "   'image': 'http://game.gtimg.cn/images/yxzj/img201606/heroimg/146/146-mobileskin-1.jpg',\n",
       "   'title': '露娜-王者荣耀官网网站',\n",
       "   'url': 'http://pvp.qq.com/web201605/herodetail/146.shtml'}],\n",
       " ['http://pvp.qq.com/web201605/herodetail/148.shtml',\n",
       "  {'content': '姜子牙-王者荣耀官网网站,太古魔导,姜子牙,生存能力,攻击伤害,技能效果,上手难度,英雄故事,历史上的ta,王者荣耀首页,>,英雄介绍,>,姜子牙,148,技能介绍,心魔,冷却值：0,消耗：0,被动：每10秒为友军增加25点经验，经验随英雄等级提升,功能型被动技能，可以使友方英雄等级领先于敌方，前期在3级到4级的时间点尤为重要,忏悔,冷却值：8,消耗：70,姜子牙聚集能量对目标区域的敌人进行冲击，命中的敌人在接下来的五秒内每0.5秒受到60/72/84/96/108/120（+7%法术加成）点法术伤害，并且移动速度和双抗会逐渐减少。最多降低90%移动速度，100/120/140/160/180/200点物理防御和100/120/140/160/180/200点法术防御,AOE范围技能，有较高的AP伤害加成和可叠加的减速效果，在人群中使用效果极佳,湮灭,冷却值：10/9.4/8.8/8.2/7.6/7,消耗：80,姜子牙在指定地点引爆能量，击退爆炸点周围的敌人并造成310/350/390/430/470/510（+47%法术加成）点法术伤害，并造成减速,范围内造成法术伤害并能击退敌人，是姜子牙重要的保命技能,断罪,冷却值：10.0/8.0/6.0,消耗：100,姜子牙召唤能量聚集持续3秒，蓄力过程中进行任意操作都会中断蓄力并放出冲击波造成450/600/750（+35%法术加成）点法术伤害，蓄力越久伤害越高，可对建筑造成10%伤害,姜子牙最主要的输出和消耗技能，施法范围非常大，距离和伤害根据蓄力的时间而定，但施法时间较长，需要有非常好的预判能力,冷却值：,消耗：,铭文搭配建议,Tips：红色梦魇提供的法术攻击和法术穿透能有效提高前期的输出，绿色献祭提高输出频率增加输出伤害，蓝色轮回能在后期高伤害的情况下获得一定的续航能力。,技能加点建议,主升,火焰三尖枪,副升,混天绫.束,召唤师技能,闪现/斩杀,英雄关系,最佳搭档,压制英雄,被压制英雄,最佳搭档,牛魔：姜子牙身板非常非常脆，需要一个有足够坦度的辅助提供支援，牛魔的AOE控制和能力是一个很好的选择，开启团战时候牛魔在前方吸收伤害打出有效控制，可以提高姜子牙的大招命中率，保护时也可以给姜子牙很好的逃生机会。,钟馗/墨子：这两个英雄的大招作用相似，钟馗墨子的大招在释放可以长时间控制住敌方英雄，姜子牙可以有足够的时间蓄力大招对敌方造成毁灭性打击。,压制英雄,黄忠/王昭君：大招很像所以放在一起说。黄忠王和王昭君的大招都有同一个特点，那就是站桩，不能移动，而姜子牙的大招则拥有超远距离且超高伤害的特点，且敌方的大招站桩特点给了姜子牙足够的蓄力时间，一旦命中王昭君、黄忠基本会直接失去战斗力甚至被击杀。,露娜：露娜的无限连有个条件那就是必须命中标记单位，也就是说大招一定是往人脸上放的，姜子牙的二技能可以推开露娜甚至使其断大而使其陷入困境，大招不只是造成伤害的作用，因为长时间的蓄力常常使大招很难命中，这时的大招作为逼走位的技能使用，对战场区域释放大招，不仅是露娜，敌方全体都要规避。,被压制英雄,身为脆皮法师，姜子牙害怕韩信等位移多伤害高的刺客英雄,兰陵王在团战中能够一套技能直接带走姜子牙,出装建议,推荐出装一,推荐出装二,Tips：暴力的法师全输出装备，能够形成非常高的伤害输出，但需依赖较好的走位与操作,Tips：一套比较肉的法师出装，生存能力超强，并且有一定输出能力，适合逆风局出的装备,英雄攻略,更多,英雄故事,“夫子夫子，这么晚不睡，偷偷摸摸在干嘛？”,“去去！老夫可是光明正大在替某个家伙点蜡！”,“什么嘛，原来是个挂掉的倒霉家伙。嗯！说不定生前还很不幸。”,“别说挂掉，早在什么地方烂透了也有可能，虽说活着时也是烂人一个。不幸……那家伙倒确实曾让很多人不幸以及……发霉。”,“哦哦，八卦之魂开始燃烧了！夫子夫子，那家伙都有些什么丰功伟绩？”,“也不算什么啦。不过就是带领大家干掉纣王，顺手在大陆搞出几个强国，再躲起来调教了几个美貌又可爱的小徒弟罢了，像动动嘴皮子就成了天才军师的张良啦，每天霸气侧漏拖着大裙子要砍要杀的武则天啦……”,“简直是比夫子您还要变态的教育狂也！啊，莫非……您这位朋友……就是传说中的太古魔导姜子牙！”,“什么朋友……老家伙可是正义凛然的跟夫子我决裂了一场。唉，一点都不给面子。”,“你们为什么决裂呢？”,“人哪，总是有自己认为很重要，一定要坚持的事。为了这样的坚持，可以放弃自己的生命，可以残忍对待朋友，爱人，亲人。对那个老家伙来说，守护人间界就是他的坚持。制造妲己，灭杀纣王，驱除魔种，警惕西方世界……当然啦，他从来不替自己着想，所做的一切都是要把整个人间界平安的重责背到肩膀上。,可夫子我抱有疑惑。什么样才算人间界呢？是只有人类没有异族的世界吗？还是杀四十九人以活五十一人，只有强者没有弱者的世界？虽然老家伙毕生致力于驱除魔种，却对人类之间的战争杀戮袖手旁观……这样真的是和平的人间界吗？,我们谁也无法说服谁，只好干上一架，再绝交，再分手。”,“最后谁赢了？”,“傻！这种事怎么可能有赢家。那老家伙用尽了手段，坑蒙拐骗威逼利诱徒弟们彼此争斗杀戮魔种，最后作茧自缚被武则天背叛，被封禁在不知哪个角落……”,“那就是您赢了嘛！活到最后的就是赢家！”,“傻！老家伙可是永远走在潮流前头的男人，对别人狠对自己更狠！据老夫对他的了解，他多半一手安排好自己的新生，借此机会完成人生的重启参与新的战争。我们之间的孽缘，看来还会继续纠缠下去……”,“夫子，那就撸起袖子预备大干一场啊！干嘛还偷偷摸摸祭奠！”,“都说了是光明正大！年轻人不懂，老夫祭奠的哪里是人，老夫是在缅怀逝去的友谊和青春啊。”,当稷下的青烟在空中飘散之时，遥远的云和山的彼端，似乎永远也打不倒的老人从沉睡中苏醒。,“非我族类，其心必异！”,历史上的TA,姜子牙，商末周初的人物。《史记·齐太公世家》称其为东海人，先祖封于吕，本姓姜，所以，后世有称他为姜尚的，也有称吕尚的。传说他已经80余岁了，在渭水垂钓，遇到了周文王姬昌，姬昌把姜尚视为圣人，言听计从，后来姜尚辅佐文王的儿子姬发，灭商建立了西周。而姜尚也得封于齐，为齐国始祖。小说《封神演义》，把姜尚说成了一个神话人物，是正道阐教的核心成员。',\n",
       "   'image': 'http://game.gtimg.cn/images/yxzj/img201606/heroimg/148/148-mobileskin-1.jpg',\n",
       "   'title': '姜子牙-王者荣耀官网网站',\n",
       "   'url': 'http://pvp.qq.com/web201605/herodetail/148.shtml'}],\n",
       " ['http://pvp.qq.com/web201605/herodetail/149.shtml',\n",
       "  {'content': '刘邦-王者荣耀官网网站,双面君主,刘邦,生存能力,攻击伤害,技能效果,上手难度,英雄故事,历史上的ta,王者荣耀首页,>,英雄介绍,>,刘邦,149,技能介绍,君主野望,冷却值：0,消耗：0,被动：刘邦第三次普通攻击将附带最大生命值4-8%的法术伤害，增加幅度随英雄等级成长，该效果无法对机关造成伤害,增加自己的最大生命值来使普攻输出增高。,损人利己,冷却值：10,消耗：75,刘邦开启护盾将自身笼罩，持续5秒，护盾可抵免500/650/800/950/1100/1250（+168）（最大生命值的5/6/7/8/9/10%）点伤害，结束时对周围造成400/520/640/760/880/1000（+134）（最大生命值的4/4/5/6/7/8%）点法术伤害；2秒后再次施放可立即结束护盾，若护盾被击破，则不会造成伤害,利用护盾吸收尽可能多的伤害并且不让护盾被击破来贴近敌方造成伤害和减速效果。,双重恐吓,冷却值：10/9.6/9.2/8.8/8.4/8,消耗：70,刘邦蓄力后挥剑冲锋300-500距离，对路径上敌人造成150/180/210/240/270/300~600（+60%物理加成）点法术伤害和0.5-1秒晕眩效果，冲锋距离、攻击伤害和晕眩时长和蓄力时间成正比。蓄力达2秒后各效果强度达到上限，最多可保存蓄力状态5秒，蓄力期间若取消或被打断，该技能会执行40%冷却时间,强力控制技能，近距离同时命中多个敌人是收益最大的一种方式。,统御战场,冷却值：70/65/60,消耗：140,刘邦指定一名队友并开始原地吟唱，持续2.2秒，期间刘邦和该队友将减少40%所受到的伤害，并且1技能损人利己将以援护队友作为添加护盾目标；吟唱后刘邦将传送到该队友位置；传送后刘邦增加30%移动速度，持续1.5秒；同时会生成一个跟随自身的法术场，法术场为范围内队友提供60/105/150点物理防御和法术防御，持续6秒,刘邦的3技能现在能为队友提供高额的免疫伤害效果但持续时间较短，在敌方集火队友时及时使用；传送后的刘邦会提供免伤法术场，尽可能覆盖到更多的队友。,冷却值：,消耗：,铭文搭配建议,Tips：宿命提供的属性可以让刘邦更好的为队友吸收伤害，攻速加成可以让刘邦打出更多的普攻配合被动技能打出更多伤害，技能冷却可以让刘邦有机会放出更多次技能。,技能加点建议,主升,火焰三尖枪,副升,混天绫.束,召唤师技能,闪现/斩杀,英雄关系,最佳搭档,压制英雄,被压制英雄,最佳搭档,貂蝉：貂蝉是持续输出型英雄，在团战时刘邦的大招可以提高貂蝉的生存能力，正面团战时貂蝉开启大招配合刘邦大招的双抗和二技能的控制效果，可以拥有非常良好的输出环境，能轻松打出多段输出。,高渐离：高渐离拥有超高的AOE爆发输出能力，己身在开启大招后使用技能有一定的免伤能力，刘邦开启大招为高渐离提升双抗后可以让高渐离生存环境得到进一步提升，2技能控制效果也可以帮助高渐离追击或者撤退。,压制英雄,宫本武藏：对于拥有较少位移的宫本来说，中后期面对刘邦单带很难有反制手段。由于刘邦的坦克能力比较强，宫本可以对刘邦造成的伤害有限，而刘邦却能依靠被动和护盾伤害正面压制宫本，一旦被黏住很难脱身，同时刘邦可以使用大招轻松支援队友。,兰陵王：兰陵王的输出手法是2技能后的一套组合技能秒杀，作为一个高强度的坦克，在中后期兰陵王很难有效击杀刘邦，在单带时可以利用技能减速和控制效果与兰陵王正面刚，在团战时可以用大招保护己方输出防止被兰陵王击杀，落地后的2技能可以控制敌方兰陵王，为己方输出争取逃生和反杀的机会，能克制兰陵王。,被压制英雄,刘邦的大招会让队友尽可能与他站在一起，此时拥有范围控制的牛魔无论是强行开团还是控制敌人后撤都能起到很好的效果,吕布的大招团控能对和刘邦紧紧抱团的队友造成控制和高额输出,出装建议,推荐出装一,推荐出装二,Tips：后期拥有高额血量和双抗，配合技能输出能力也不弱,Tips：后期冷却缩减很高，可以频繁释放技能帮助队友，并且自身的血量和抗性也不低,英雄攻略,更多,英雄故事,楚汉之地，东方最神秘的地域之一。大河缓行穿过，沿途残留着森林，沼泽和遗迹。这里依旧传承着对太古当权者的信仰，而诠释这些信仰的权力，掌握在阴阳家们的手中。他们凭借这种权力，以及所握有的“奇迹”，统治着这片土地。,星移斗转，再虔诚的地方，最终也将产生腐朽和堕落。阴阳家们逐渐老朽，已不再适应时代，原本严谨的秩序开始逐渐瓦解，很快，有投机取巧的家伙瞅准机会，试图从中渔利。,刘邦，就是其中一位。虔诚的大河子民中，他那样另类：既无视信仰，又热衷利益，更不择手段。凭借煞费苦心的钻营，谋取小小的官职，但很快发现付出和收获不成正比——大人们利用他，也防范他。他可不愿白白装作傻子，一个胆大妄为的想法产生了，关于那由阴阳家们掌握的，唯一非实体，需要借助仪式来展现的太古奥秘。如果自己得到“奇迹”，是否可以代替阴阳家们成为这片土地的王者？这个想法令他激动不已。,他敢于如此妄想，多亏了天才的友人张良。掌握言灵之力的张良因不通俗事频频惹出大麻烦，甚至不得不为下一餐饭发愁。刘邦替他解围，并得到了他的信任，不费吹灰之力便说服他带领自己走入通往阴阳家们祭祀“奇迹”的大泽。张良自己，也对所谓“奇迹”产生了好奇。,借助言灵之力，他们成功迷惑守卫，目睹了神秘的仪式。“奇迹”璀璨的光芒笼罩着九位呢喃着咒语的阴阳家，以及窥视的两人。张良以言灵与“奇迹”对话。他都听说了些什么？师父姜子牙的话得到印证，还有更多……更多……关于大魔王的命运……,至于刘邦，却为惊人的发现而兴奋着……当仪式中的阴阳家们揭开神秘的面具……啊，原来统治楚汉之地的，竟然是这样一群……一群怪物！阴阳家们的真面目！那瞬间，他的脑海中涌现出更加激动人心的计划。,他偷偷拔出护身剑。仪式完成，阴阳家们一个接一个结束膜拜。待最后一名阴阳家落单的瞬间，发动了无耻的偷袭。那高高在上的统治者，哀嚎着露出真容——蛇的面孔。张良也加入了战局，言灵的枷锁缠绕着他，让他无法动弹。只听见哀嚎回荡，阴阳家“礼魂”就这样不明不白化为灰烬，那无处安放的力量，尽数进入刘邦的身躯。,张良心情复杂望着眼前欣喜若狂的男人。出手的那刻，便是决定追随于他。命运又开始了轮回，而身为姜子牙的弟子，他必须作出选择。,需要一个家伙去斩断这可怕的宿命。,哪怕，他是如此野心勃勃。,“不客观的说，我是个好人！”,历史上的TA,刘邦为西汉开国皇帝，平民出身，父母在史籍中没有留下名字。时人称他刘季，季是排行，即刘家老四。做过沛县的亭长，类似于基层公路交通站站长兼派出所所长的职位。跟沛县掌管钱粮的小吏萧何相识，同时有一帮酒肉朋友，经常喝酒赌博，入不敷出，有时要到兄长家蹭饭，嫂子和老爸都看不起他。娶了富户吕公的女儿吕雉为妻后，境况稍微改善。陈胜吴广起义之后，天下群雄并起。刘邦也趁机起事，被尊为沛公。刘邦比较机敏，一直避开秦军主力，势力逐步发展壮大，最终抢先一步进入咸阳。此后刘邦与项羽争天下，项羽只凭蛮力，而刘邦比较知人善任，许多项羽帐下的人，比如韩信、陈平后来都归于他的麾下。而且后方稳固，汉中和巴蜀在萧何统筹下，源源不断地给他输送粮草。最终打败了项羽，一统天下，建立汉朝。他成功之后，人们传说他曾经押送刑徒前往骊山，途中斩杀拦路的白蛇。于是有老妇人痛哭，说他是赤帝之子，斩了白帝之子。这是做了皇帝后自我神话的一部分。',\n",
       "   'image': 'http://game.gtimg.cn/images/yxzj/img201606/heroimg/149/149-mobileskin-1.jpg',\n",
       "   'title': '刘邦-王者荣耀官网网站',\n",
       "   'url': 'http://pvp.qq.com/web201605/herodetail/149.shtml'}],\n",
       " ['http://pvp.qq.com/web201605/herodetail/150.shtml',\n",
       "  {'content': '韩信-王者荣耀官网网站,国士无双,韩信,生存能力,攻击伤害,技能效果,上手难度,英雄故事,历史上的ta,王者荣耀首页,>,英雄介绍,>,韩信,150,技能介绍,杀意之枪,冷却值：0,消耗：0,被动：第四次普通攻击将会挑飞目标，释放技能命中目标后会获得50%攻击速度加成,拥有一定的控制性可以在一定的时候打断敌方连续攻击触发的技能，挑起后是一种空挡状态可以进行技能的连接.短暂的攻击速度加成有助于让韩信更好的触发被动.,无情冲锋,冷却值：9.6/8.8/8/7.2/6.4/5.6,消耗：55,韩信持枪冲锋后挑飞目标，对其造成135/151/167/183/199/215（+62%物理加成）点物理伤害，这个技能释放后的5秒内可以再次使用,两段的位移和一次击飞是韩信的主要技能，它让韩信进可攻退可跑.一起用是一大段的位移，分开用利于触发被动，开头的控制让大招更容易全部命中.,背水一战,冷却值：5,消耗：80,韩信向后跳跃，并使3秒内的下一次普通攻击变为横扫，造成180/200/220/240/260/280（+100%物理加成）点物理伤害,一次位移和一次更高的伤害，与无情冲锋配合起来可以进行快速的支援和打击.同时，CD较短，进行撤退也会很实用,国士无双,冷却值：36/30/24,消耗：140,韩信长枪乱舞，对范围内敌人造成多段130/165/200（+62%物理加成）点物理伤害，最后一次伤害会击飞目标，乱舞期间韩信处于霸体状态,提供一次击飞，与隐性的霸体(虽然会被一定的技能打断但打断后是无冷却的)抵挡一定的控制效果.突进敌阵用大招进行扰乱敌方阵型也是不错的选择.,冷却值：,消耗：,铭文搭配建议,Tips：红色纷争，物理攻击可以让韩信足够的输出，提升清野效率和与敌方的对抗能力；绿色鹰眼，物理穿透进一步提高韩信的穿甲输出能力；蓝色兽痕，暴击率的加成可以在一定程度上使得韩信的输出最大化。,技能加点建议,主升,火焰三尖枪,副升,混天绫.束,召唤师技能,闪现/斩杀,英雄关系,最佳搭档,压制英雄,被压制英雄,最佳搭档,赵云：赵云大招通常是需要预判敌方走位的，而韩信的一技能挑飞可以极大的提高赵云大招的命中率，且这样的配合无论是前中期抓人、反野还是后期团战切后排都是非常实用并且难以反制的。,墨子：墨子的控制能力和poke能力非常突出，但是墨子的技能需要比较好的预判。韩信挑飞后，墨子可以和韩信更好的衔接组合技能，在追击敌方英雄时，墨子可以2技能远程控制人，韩信可以2技能瞬间拉进距离进行击杀。墨子的大招轻松控制敌方给予韩信充足的输出空间。,压制英雄,露娜：露娜是比较吃发育的中后期英雄，前期韩信是野区小霸王，带着红蓝双buff强制反野，露娜打野在韩信面前会持续被等级压制，无法升到4级完全没有gank能力，韩信的高机动性可以轻松干扰露娜的发育同时完成对己方队友的支援，后期面对露娜即使打不过也可以通过位移技能轻松逃生。,李白：在对局的前中期两个人相遇几乎是五五开，都有高机动性的特典，但是后期的输出韩信，利用被动攻速和技能效果可以做到一套技能轻松秒掉李白，而韩信的追击能力可以轻松限制李白的位移。,被压制英雄,韩信进场后，项羽可选择将其推开或控制限制其输出,张良的硬控能控住韩信将其击杀,出装建议,推荐出装一,推荐出装二,Tips：全输出装备韩信，输出能力极强，但团战容错率较低,Tips：输出装提升中期的输出能力，防御型装备能有效提升韩信生存能力和持续作战能力,英雄攻略,更多,英雄故事,人可以忍受屈辱到什么时候？,答案是：并不能忍受多久。,对于一个余孽来说，生存太过艰难。韩信不想死。他想继续活下去。所以他并不是忍受，而是选择。他选择的也不是屈辱，而是生存。,因此，当年轻的霸者举起长刀羞辱自己，他选择了从对方的胯下钻过去。当未婚妻被带走成为祭品，他选择了沉默。当更强大的权力者出现，他选择了屈从，自己为自己套上牵狗的锁链。,他并非在忍受，只是在等待能够一击必杀的出手时机。,还没有成为大陆有名的强者和谋者之前，他就已经开始谋划一场风暴，一场刮过大陆，能在历史上永久留下自己名字的风暴。,不信天，不信命。唯一能相信的，只有自己。,“必将百倍奉还！”,历史上的TA,韩信，淮阴人，秦末最著名的战将，谋略家。微时，曾经受过胯下之辱，还受漂母一饭之恩。秦末大乱，他先投项羽，不得重用，后投刘邦，也没被看上。只有萧何赏识他，极力推举他为将。《史记·淮阴侯列传》说萧何称韩信“国士无双”。后来，果然在韩信的谋划和亲自领兵打击下，项羽一步步被削弱，最终十面埋伏，在垓下击败项羽。楚汉相争结束，韩信被封为楚王，但刘邦对其不信任，很快就夺了其爵位，降为淮阴侯，最后，在吕后和萧何的合谋下，无辜被害。',\n",
       "   'image': 'http://game.gtimg.cn/images/yxzj/img201606/heroimg/150/150-mobileskin-1.jpg',\n",
       "   'title': '韩信-王者荣耀官网网站',\n",
       "   'url': 'http://pvp.qq.com/web201605/herodetail/150.shtml'}],\n",
       " ['http://pvp.qq.com/web201605/herodetail/152.shtml',\n",
       "  {'content': '王昭君-王者荣耀官网网站,冰雪之华,王昭君,生存能力,攻击伤害,技能效果,上手难度,英雄故事,历史上的ta,王者荣耀首页,>,英雄介绍,>,王昭君,152,技能介绍,冰封之心,冷却值：0,消耗：0,被动：王昭君脱离战斗后会获得可抵免450（+52%法术加成）点伤害的寒冰护盾，护盾破裂时对附近敌人造成一次冰霜冲击，造成450（+52%法术加成）点法术伤害与减速效果；寒冰护盾有3秒的回复冷却时间。,护甲破裂时将对附近敌人造成一次冰霜冲击，及时衔接技能配合2技能的被动效果，打敌人个措手不及！,凋零冰晶,冷却值：5,消耗：80,王昭君操控碎裂冰晶绽开，对范围内的敌军造成400/480/560/640/720/800（+65%法术加成）点法术伤害与减速，并获得他们的视野2秒,这个技能CD很短，而且是AOE伤害伴有减速效果，在对线和团战前都是很好的消耗技能，同时能提高王昭君2技能的命中率,禁锢寒霜,冷却值：8/7.6/7.2/6.8/6.4/6,消耗：80,王昭君引领寒霜之力，一定时间后将范围内敌人冰冻并造成250/280/310/340/370/400（+47%法术加成）点法术伤害.被动：对被冰冻的敌人造成额外250/280/310/340/370/400（+50%法术加成）点法术伤害。,这个技能能够触发王昭君的被动，但是有一定延时，需要预判对手的走位，在友方控制敌人后施放可极大提升命中率哦,凛冬已至,冷却值：50/45/40,消耗：150,王昭君召唤寒冬之力刷新寒冰护盾，在身边降下暴风雪对范围内敌人每次打击造成300/375/450（+50%法术加成）点法术伤害与减速，期间获得600点护甲加成。,王昭君最具有输出的技能，施放时获得600护甲，因为技能持续时间很长，范围很大，选择一个很好的位置施放大招是最关键的，最好的情况是，保证打到更多的敌人，而敌人又不容易近身切入,冷却值：,消耗：,铭文搭配建议,Tips：法术攻击的叠加，提高昭君带线能力，前期较有优势，达到四级时就可以带走敌方中单，或者边路支援打野抓人。CD的缩减主要针对后期，可以使昭君技能频繁使用，进行消耗。吸血效果可以很好的提升线上续航能力。,技能加点建议,主升,火焰三尖枪,副升,混天绫.束,召唤师技能,闪现/斩杀,英雄关系,最佳搭档,压制英雄,被压制英雄,最佳搭档,庄周：昭君的大招太多英雄可以解掉，而庄周的大是起到一个净化的作用，昭君放大时，庄周放大，可以保证了昭君的大招持续不会被断掉。或者庄周先放大，尤其面对宫本武藏、吕布等对王昭君开大，可以解控保护王昭君，帮助王昭君寻找合适位置控制加放大，进行收割。,阿轲：王昭君放大招时的范围大且伤害高，在团战的过程中，很难同时控住五个人，或者很难带走半肉纯肉出装的英雄，但是却可以大范围打成残血，这个时候阿轲可以利用她的被动，可以更好地收割。,压制英雄,鲁班七号：鲁班七号没有位移技能，王昭君可以通过一二技能的连用，配合大招，一套带走鲁班七号。而鲁班七号除了一技能的眩晕效果，没有其他的控制技能打断王昭君的大招，在经济相当的同时，鲁班除了闪现之外，没有更好的方式躲避王昭君二技能的冰冻效果，所以王昭君在对抗鲁班时很有优势甚至非常强势。,吕布：吕布开大招有时间延迟，且跳下的地方有标记，所以当吕布跳大时，昭君直接二技能跟上放到吕布的大招中心位置即可，待吕布跳下来直接被控，队友配合集火秒杀。,被压制英雄,身为脆皮法师，王昭君害怕韩信等位移多伤害高的刺客英雄,兰陵王在团战中能够一套技能直接带走王昭君,出装建议,推荐出装一,推荐出装二,Tips：暴力的法师全输出装备，能够形成非常高的伤害输出,Tips：一套比较肉的法师出装，生存能力超强，并且有一定输出能力，适合逆风局出的装备,英雄攻略,更多,英雄故事,北方延绵数千里的草原上，生活着北夷部落。他们逐水草而居，与牛羊和狼群为伍，男女都是强悍的战士。然而极北严寒侵袭着草原，让他们生活的环境越来越严苛。为了得到粮食，他们自塞外南下，一次次向长城发起冲击。,彼时中原正陷入混乱，焦头烂额的诸侯们无暇应付这群野人，又不能放任他们掠夺，只好联合起来与之谈判。最终，以粮食和布匹为代价暂时达成停战协议。随着这些和平礼物一同抵达的，还有和亲的公主。,北夷人将公主送往他们的圣地——凛冬之海，将她献祭给神明作为新娘。他们坚信，这能让他们的神明重新来到世界上，护佑部族。久而久之，这演变成一项残忍而神圣的传统。,然而经历多年战乱后，几个强大的国家开始在大陆崛起。统治者们不再需要盟约，开始谋划要将北方的蛮夷们一网打尽。他们计划了残酷的阴谋：趁人们举行祭典毫无防备之时，进攻了整片草原。那一天，整片大地都变成红色。后世史书将这一事件记载为“血色婚礼”。,即便如此，将军们依然不满足。他们还想寻找冰川中的宝物——公主们长眠的地方，埋葬着蛮夷历年献给神明的珍宝。,刽子手们如愿以偿。人人都发出欢呼，庆贺史无前例的成功，忙碌着将成堆的黄金带回中原。然而在他们没有察觉之时，天色阴暗起来，暴风雪突如其来，随之是浩大的雪崩。,这是北夷人神明的愤怒吗？刚刚还不可一世的士兵哀嚎着逃窜，然而归去的路已被冰雪封锁。他们只能像琥珀中的小虫般挣扎，眼睁睁看着自己的身躯被冰封进透明的棺材。,一夜之后，天空逐渐晴朗。幸存的北夷人从藏身之处走出来，簇拥着他们的公主——王昭君。她高雅，美丽，明亮的双眸饱含哀伤，纤长的手指拂过故乡来客们冰冷狰狞的脸庞。,“告诉我，故乡的梅花开了吗？”,历史上的TA,王昭君，字嫱，系历史上著名的美女。据《汉书·元帝纪》，王昭君本是普通宫女，内附的匈奴呼韩邪单于来朝请求和亲，元帝赐昭君与呼韩邪单于为阏氏（王妃），这就是著名的昭君出塞的故事。后来，她又进一步被封为宁胡阏氏。有传说说元帝由于后宫人太多，令画师画像，视其美丑招幸。宫女们纷纷贿赂画师毛延寿，但昭君不肯，于是毛延寿就把昭君画得很丑，等到和亲之后，元帝亲见昭君，才知道美若天仙，后悔也晚了。',\n",
       "   'image': 'http://game.gtimg.cn/images/yxzj/img201606/heroimg/152/152-mobileskin-1.jpg',\n",
       "   'title': '王昭君-王者荣耀官网网站',\n",
       "   'url': 'http://pvp.qq.com/web201605/herodetail/152.shtml'}],\n",
       " ['http://pvp.qq.com/web201605/herodetail/153.shtml',\n",
       "  {'content': '兰陵王-王者荣耀官网网站,暗影刀锋,兰陵王,生存能力,攻击伤害,技能效果,上手难度,英雄故事,历史上的ta,王者荣耀首页,>,英雄介绍,>,兰陵王,153,技能介绍,秘技·极意,冷却值：0,消耗：0,被动：兰陵王朝敌方英雄移动时会增加20%移动速度,被动技能让兰陵王更容易黏住敌人，并且无需借助位移技能，也就不会打断普攻节奏，因此兰陵王在追击敌人时也可以保持较高的普攻频率,秘技·分身,冷却值：5,消耗：50,兰陵王以拳刃挥砍身边敌人，造成215/260/305/350/395/440（+85%物理加成）点物理伤害，同时召唤出影分身随机攻击附近一名敌人，影分身会造成等量的伤害,这是兰陵王主要的输出手段，用来对付落单的敌人更加有效，在团战时，兰陵王也可以调整自己的走位远离混战中心，让自己和猎物处于一个相对独立的范围内，更加有效的对猎物进行输出,秘技·影蚀,冷却值：9.6/8.8/8/7.2/6.4/5.6,消耗：80,兰陵王向指定方向投射暗影匕首，造成165/186/207/228/249/270（+57%物理加成）点物理伤害并减少其90%移动速度，持续2秒；匕首命中的敌人会被标记，持续3秒，期间再次受到兰陵王攻击将晕眩1秒并使兰陵王回复140/168/196/224/252/280（+50%物理加成）点生命值；标记消失时该目标还会受到已损失生命值24%物理伤害,匕首的2段伤害是基于已损失生命值的，因此如果能在此时间段内尽量伤害敌人，就可以大大提升伤害,秘技·隐袭,冷却值：36/30/24,消耗：120,兰陵王开始准备并于1.5秒后进入隐身状态，持续30秒，期间再次施放该技能，将向指定方向冲锋并对路径上敌人造成660/830/1000（+188%物理加成）点物理伤害，解除影身状态后兰陵王会增加50%攻击速度，持续5秒；隐身时若处于敌人附近超过3秒，隐身状态将会自动解除,进入隐身状态，兰陵王可利用此技能神不知鬼不觉的贴近猎物将其击杀，当然这个技能也能用来逃命使用,冷却值：,消耗：,铭文搭配建议,Tips：兰陵王是刺客，依赖技能短期高爆发，输出节奏为阶梯式；最大化收益属性就是破甲和物理伤害，移动。；红色选择异变，提供破甲＋物理伤害；绿色鹰眼，提供破甲＋物理伤害；蓝色隐匿，提供高额物理输出＋机动性。,技能加点建议,主升,火焰三尖枪,副升,混天绫.束,召唤师技能,闪现/斩杀,英雄关系,最佳搭档,压制英雄,被压制英雄,最佳搭档,宫本武藏：兰陵王独立作战能力比较强，前期可以频繁游走抓人。宫本武藏拥有指向留人的控制，能先手快速留住敌方英雄，提高兰陵王连招刺杀的容错率；宫本武藏的特性是高伤害，高爆发，短期高伤害可以快速压低目标血线，让兰陵王的2技能收益更高。,诸葛亮：兰陵王游走抓人的时候，经常会让敌人残血闪现逃走，诸葛的大招就可以远程收割敌方残血英雄，诸葛有位移很适合与兰陵王中野联动的打法；团站的时候，兰陵王是单体高爆发伤害英雄，诸葛的被动加1技能可以弥补兰陵王作为刺客的不足，可以消耗敌方英雄，为兰陵王创造单杀条件或者创造切入时机。,压制英雄,鲁班七号：无位移技能的英雄，兰陵王几乎是他们最大的威胁，高爆发一套流的特性，可以非常好的压制鲁班这个控制技能不多，无自保能力的英雄。,李白：李白在初期的伤害能力比较差，单挑无法打赢兰陵王，被兰陵王2技能加1技能组合技能后会直接残血，兰陵王可以在野区抢李白的资源，压制李白无法发育，寻找机会击杀李白，在中后期2技能配合1技能控制大招也可以直接秒杀李白、,被压制英雄,项羽能在兰陵王切入后将其控制并推开，限制他的输出,张良的硬控能控住兰陵王将其击杀,出装建议,推荐出装一,推荐出装二,Tips：全输出装备兰陵王，输出能力极强，只要技能命中，一套带走|,Tips：输出装提升中期的输出能力，防御型装备能有效提升兰陵王生存能力和持续作战能力,英雄攻略,更多,英雄故事,干旱和战乱，使曾经繁荣的国家成为荒漠。重重废墟之下，掩埋着被遗忘的古国。,很少有人能想象出过去这里是怎样的辉煌，唯有他永远不会忘记。兰陵王，曾经高贵的王子，如今潜行于黑暗的死神。,他还是孩子时，亲眼看到大唐的铁骑踏破了王都的城池。父母从塔楼一跃而下，种下了仇恨的种子。,山中老人带走了他，培养他成为杀手。他隐身黑暗中。许多次受雇于位高权重者，为他们暗杀和谈的使者，挑起争斗，巧妙撩拨起恐惧。,然而，抛弃高贵身份的兰陵王从没有放弃复仇的想法。他必须要用这样的方式来寄托过往的哀思，否则内心膨胀的黑暗，终究连他自己也会吞噬掉。,阻碍他的是道铁壁——长城。长城矗立，唐国便不会轻易倒塌。长城坚不可摧，能瓦解它的唯有它的守护者。,多少次，兰陵王攀爬上那堵高墙，窥探堡垒中的隐秘。他清楚守卫者们的名字，出身，他们的派系和矛盾，兰陵王耐心寻找着那致命的弱点，并适时推波助澜。,长官倒下了，被误解的叛徒潜逃，守卫们群龙无首。混乱很短暂，但一瞬间已足矣。至少，对于那些得到消息，又虎视眈眈的蛮族来说是这样。他们的进攻让长城变为了血与火的地狱。,一人敌一国，多么荒诞，又是多么简单。,他反复着这样的伎俩，散布死亡。恐惧滋生，长城驻军被玩弄在掌中。,直到某个夜晚，另一把剑的锋芒刺穿黑暗。,“是你，幽灵！”,啊，那个叛徒，还没有离开吗？竟然如此不甘心，而且……女人？,兰陵王微笑着。,也好，一直都赢，挺无聊的。,“刀锋所划之地，便是疆土。”,历史上的TA,即高长恭，南北朝时北齐王子，北齐高祖高欢之孙，封为兰陵王。《资治通鉴》上说他美姿仪但勇武过人。北齐高家，本是鲜卑化的汉人，有好武之风。《北齐书》记载芒山大战，高长恭率五百骑突入敌阵，直抵被困的金墉城下。因为此战告捷，兰陵王立头功。人们编了歌谣传唱，于是有了著名的《兰陵王入阵曲》。但是，不幸的是，由于他文武兼备，勇武善战，受到奸人嫉妒，最后被后主高纬赐死。',\n",
       "   'image': 'http://game.gtimg.cn/images/yxzj/img201606/heroimg/153/153-mobileskin-1.jpg',\n",
       "   'title': '兰陵王-王者荣耀官网网站',\n",
       "   'url': 'http://pvp.qq.com/web201605/herodetail/153.shtml'}],\n",
       " ['http://pvp.qq.com/web201605/herodetail/154.shtml',\n",
       "  {'content': '花木兰-王者荣耀官网网站,传说之刃,花木兰,生存能力,攻击伤害,技能效果,上手难度,英雄故事,历史上的ta,王者荣耀首页,>,英雄介绍,>,花木兰,154,技能介绍,长城巡守者,冷却值：0,消耗：0,被动：花木兰使用两把短剑时，移动速度提升，普通攻击和技能伤害将会持续破坏目标的平衡，连续5次攻击触发印记造成200%物理加成点物理伤害沉默并减速目标；花木兰使用重剑时，普通攻击造成50%额外伤害但基础攻速降低，使用技能过程中处于霸体状态并大幅度提升免伤50%,花木兰的双剑形态更倾向于刺客，沉默与减速效果能有效的追击敌方后排和落单英雄/花木兰的重剑形态更倾向于战士，拥有更加强大的输出能力和身体强度.,空裂斩,冷却值：8/7.6/7.2/6.8/6.4/6,消耗：0,花木兰向指定方向冲锋后向前挥砍，对命中的目标造成80/90/100/110/120/130（+43%物理加成）点物理伤害；如果该技能命中至少一个单位，那么能够在5秒内使用第二次,花木兰快速的接近和追击敌人，也可以用来逃离战场/花木兰在重剑形态下的范围输出技能并附带控制，由于需要蓄力，尽可能与队友的控制配合打出高额伤害和控制效果.,旋舞之华,冷却值：12,消耗：0,花木兰向指定方向投掷短剑，对过程中敌人造成180/200/220/240/260/280（+90%物理加成）点物理伤害，短剑在到达终点后在空中旋转，持续对范围内敌人造成72（+36%物理加成）点物理伤害与减速效果，短剑在空中最多持续3秒，花木兰能够通过拾起短剑减少技能5秒冷却时间,尽可能将技能放在能够伤害到对方并且在追击敌人时自己会经过的路径上，通过多次拾起短剑来更多的使用这个技能打出输出/离花木兰较近的敌方单位会被连续击退.,绽放刀锋,冷却值：6,消耗：0,花木兰拔出重剑横扫，对范围内敌人造成200/280/360（+110%）物理伤害，并切换至重剑技能，同时在重剑形态下提升攻击力60点持续5秒,在双剑形态下快速接近敌人并在技能进入冷却时开启3技能，配合队友控制利用重剑形态下的技能对敌方造成大量伤害/团战时配合队友利用重剑形态的技能打出输出，在敌人逃跑时使用3技能后用双剑形态的技能追击敌方英雄.,冷却值：,消耗：,铭文搭配建议,Tips：花木兰的铭文根据玩法不同有很多变化，推荐百穿玩法，攻击力和穿透可以提升花木兰的普攻和技能伤害，移速提升可以帮助花木兰支援队友，对于新手来说可以选择这套铭文轻松打出有效伤害。,技能加点建议,主升,火焰三尖枪,副升,混天绫.束,召唤师技能,闪现/斩杀,英雄关系,最佳搭档,压制英雄,被压制英雄,最佳搭档,庄周：庄周的大招拥有免控效果加免伤，而花木兰也有免伤技能，两个技能双叠加可以保证自己团战存活能力，免控可以保证花木兰可以打出很好的输出（轻松切入敌方后排）。,刘邦：花木兰是需要深入敌后的战士，自身硬度并不够，极易被集火秒杀。而有了刘邦的大招保护，可以有多种打法。不管是先手开团切后排，还是进行重剑控制，甚至用轻剑形态下对多个敌人打出沉默效果，都能获得很高的收益。,压制英雄,鲁班七号：鲁班七号做为射手后期输出很高，但是自保能力太差，没有位移技能只能依靠闪现逃生，花木兰可以在草丛蹲着等到鲁班出现后先手2技能配合移打出沉默效果，切重剑控制一套伤害，可以轻松击杀鲁班七号。,墨子：墨子比较强力的点是控制和poke能力，花木兰2技能打到墨子配合普攻可以沉默，切换重剑技能也可以免疫控制，高额免伤可以避免被墨子秒杀，不管是单挑还是团战都可以轻松压制墨子。,被压制英雄,带控制的坦克能让花木兰在双剑形态下很难发挥,超高的爆发和灵活的技能让花木兰在哪个形态都难以应对,出装建议,推荐出装一,推荐出装二,Tips：后期输出非常高，缺点是容错率低，需要较好的操作技巧,Tips：牺牲一部分的输出，保证自己能够尽可能的站在战场上,英雄攻略,更多,英雄故事,长城，连绵不绝的长城，横亘在北方广大的荒漠上。坚壁割断了大沙海，守护着背后的东方帝国。,一面是无垠富庶的平原，一面是苍茫的不毛之地，使得长城的存在成为分界线。它的背后，象征着文明与和平，令人心驰神往。,当东方帝国陷入分裂时，长城的防卫一度衰弱。为了填充漫长的防线，守卫者除了军人，还加入了临时武装的拓荒者和走投无路，愿以劳役换取生存的人们。,这一年，长城守卫迎来新的守卫者。分配了粗糙的装备和武器后，这群新兵被赶到堡垒中。,“长城耸立，你们活着。长城倒下，你们去死。”长官冷酷的说。“不要妄想逃跑和背叛！”他特别强调了后者。,“有人背叛过吗？”好奇的年轻人问。,回答他的是可怕的沉默。,“从前有个家伙。”老兵们站岗时无聊的八卦。“主动要求来守长城。是不是很奇怪？”,“他很厉害。”,“上任长官力派众议，对他委以重任。”,“可是不久，长城的防线接二连三被攻破了。”,“大家都怀疑他。只有上任长官信任他的忠诚。”,“他逃跑了。长官的尸体次日被发现。”,“后来，仍有人见过他。据说，他从未远离，一直徘徊在长城外。”,没多久，号角吹响，狼烟燃起。守卫们面对百倍，千倍于己的敌人陷入绝望。,年轻人被入侵的士兵围在角落里，瑟瑟发抖。,哇，没想到死前还能英雄一把。年轻人闭上眼睛，乱挥铁剑冲上去了。,他踉踉跄跄扑了个空，差点绊倒在地。惨叫声此起彼伏，想象中的武器始终没有落到身上。,他睁开眼睛，看到一地狼藉以及……转身离去，持剑战士的身影。,还没有死透的敌人从地上一跃而起。,小心啊！年轻人想提醒他，可喉咙发不出声音。,电光火石之间，剑刃擦过。,静如影，疾如风。,金属的撞击声中，身影掠过。,不动如山，迅烈如火。,偷袭者重重跌倒在地。,战士的头盔裂开，被她扔到地上。发丝飘散出来。,女人！,“想活命吗？紧跟着我！”,前方是无际的长城，以及无际的敌人。,“姐可是传说！”,历史上的TA,即木兰，是传说中的一个从军的女子。见于叙事诗《木兰辞》，作者已经无考，被宋人收入《乐府诗集》中。《木兰辞》记录了一位女扮男装、替父从军的女英雄的传奇故事，被传唱至今。后世还有相关的传奇小说和戏剧。一般认为，《木兰辞》产生于南北朝时期的北朝，那么就应该有原型，北朝女子剽悍，从军是有可能的。',\n",
       "   'image': 'http://game.gtimg.cn/images/yxzj/img201606/heroimg/154/154-mobileskin-1.jpg',\n",
       "   'title': '花木兰-王者荣耀官网网站',\n",
       "   'url': 'http://pvp.qq.com/web201605/herodetail/154.shtml'}],\n",
       " ['http://pvp.qq.com/web201605/herodetail/156.shtml',\n",
       "  {'content': '张良-王者荣耀官网网站,言灵之书,张良,生存能力,攻击伤害,技能效果,上手难度,英雄故事,历史上的ta,王者荣耀首页,>,英雄介绍,>,张良,156,技能介绍,言灵·咒印,冷却值：0,消耗：0,被动：张良技能和第三次普攻给目标叠加咒印。每叠加3层引爆，造成140（+60%法术加成）点真实伤害,被动技能提升了张良技能连招和普攻的爆发能力，要善于利用被动技能，造成更多的伤害,言灵·壁垒,冷却值：14/13/12/11/10/9,消耗：80,张良以言灵之术召唤一道法术壁垒，触碰到的敌人将受到400/450/500/550/600/650（+75%法术加成）点法术伤害和眩晕，并被叠加1层咒印,主要用于控制敌人，在留人或撤退封路时非常实用，而且能保证2技能打出更多的伤害,言灵·侵蚀,冷却值：10,消耗：80,张良以言灵之术召唤侵蚀法阵，持续侵蚀踏入的敌人，每段侵蚀造成125/150/175/200/225/250（+28%法术加成）点法术伤害。法阵在启动和结束时各对敌人叠加1层咒印,张良的刷线技能，前期伤害不高，主要用于叠加咒印，配合被动技能打出更多伤害,言灵·操纵,冷却值：30/25/20,消耗：130,张良以言灵之术抓住一名敌方英雄，持续2秒，期间每0.5秒造成200/250/300（+36%法术加成）点法术伤害，并持续支配对方。技能启动和结束时各对敌人叠加1层咒印,恐怖的单体控制技能，控制时间很长，可配合其它技能完成秒杀，这个技能是刺客英雄的噩梦,冷却值：,消耗：,铭文搭配建议,Tips：移速提供更快的支援速度，和狩猎不同的是，调和少了一部分的移速，但是却拥有一定的生命回复。虚空提供冷却缩减。圣人提供法强，提高伤害的同时增加清线能力。,技能加点建议,主升,火焰三尖枪,副升,混天绫.束,召唤师技能,闪现/斩杀,英雄关系,最佳搭档,压制英雄,被压制英雄,最佳搭档,王昭君：昭君的二技能是需要前摇的硬控，但张良一三技能并不需要前摇，正好可以弥补，两个人配合张良一技能+昭君二技能，基本就可以让昭君冻住的几率大很多，然后同时张良开二技能持续消耗，昭君放心的开大，张良再用大招抓住身手灵敏的刺客，当然这需要一定的操作水平和默契度。,妲己：妲己的对点眩晕加之本身的高伤害输出，配合张良，有效压制没有魔抗的英雄。就算遇到打野强杀，两个人都有必中的控制技能，残血情况下也能保证控住敌方英雄，成功逃脱甚至反杀。,压制英雄,貂蝉：貂蝉需要反复使用技能的机动性来带来强大的续航和伤害，如果张良的控制技能控到貂蝉，用净化也不可以解开。在有张良的局，貂蝉在线上不能压线，一但压线被张良长时间控制配合打野足够杀貂蝉很多次，后期也能长时间控制貂蝉，在貂蝉一个人面对有张良的情况下是没有办法反抗的。,露娜：露娜刷新技能需要打标记，并需要不断的普攻和贴近施放技能才能打出伤害，而张良一技能可以放在人群中，使露娜无法开出大招，再加上张良大招的强行支配，可以配合队友秒掉露娜。,被压制英雄,兰陵王的隐身和秒杀能力很容易接近张良将其秒杀,花木兰的超高爆发输出能力能快速击杀走位不慎的张良,出装建议,推荐出装一,推荐出装二,Tips：全输出法师出装，后期秒杀敌方刺客和脆皮,Tips：输出装备为主，带一点生命值属性的法强提高团战的容错率,英雄攻略,更多,英雄故事,古老，几乎荒废的寺院中，沉睡着危险的魔法。这里曾隐居着一位叫姜子牙的老人，秘密培养着能继承自己志向的传人。,也许世间有许多天才，但像张良这般，无视现有的魔道体系，开创自己独有魔法的人也是寥寥无几。,他所自创的魔道，叫做“言灵”。他完全突破了语言的壁垒，掌握了世界上几乎所有人类的语言。在他的耳朵里，万物真正共通为一体。是的，他甚至能与大陆，能与整个世界对话。这让他无限的接近于世界的真理。所有魔法师使用的咒语在这种能力面前都不堪一击。,即使是姜子牙也为弟子的力量所颤抖，他仿佛看到了无限的可能性。既然已经突破了世间的认知，自然不再是普通人。是的——只要张良愿意，随时可以成为神。,也许这个弟子，能够将混乱太久的世间秩序，纠正过来吧！,肩负着这样的使命，张良进入俗世。他所面对的，是分裂和对峙的楚汉之地。那个崛起的青年，项羽，如师父所言，乃传说中大魔王的转世吗？,真有趣。,然而，传说中的大贤者唯一没有计算到的却是天才隐居太久，已完全无法理解世俗的法则。他拥有莫大的杀伤力，却不能挣到一文钱；他的思想超越时代，却找不到前进的道路；他能听懂所有语言，却听不明白女孩子们的调侃……,看来，成为神之前，得先学会做个人。,“如果世上还有什么我不懂的学问，那就是女孩子们……”,历史上的TA,张良，字子房，事迹主要见于《史记·留侯列传》。张良系韩国贵族，秦灭六国之后，张良收买刺客，于博浪用铁椎刺杀秦始皇，可惜误中副车，被迫逃亡。秦末大乱，张良追随刘邦，为其出谋划策，系刘邦的主要谋士。功成之后，不邀功请赏，只要了一个贫瘠的留地。传说中张良偶遇黄石公，得了三卷天书，所以才如此厉害。',\n",
       "   'image': 'http://game.gtimg.cn/images/yxzj/img201606/heroimg/156/156-mobileskin-1.jpg',\n",
       "   'title': '张良-王者荣耀官网网站',\n",
       "   'url': 'http://pvp.qq.com/web201605/herodetail/156.shtml'}],\n",
       " ['http://pvp.qq.com/web201605/herodetail/157.shtml',\n",
       "  {'content': '不知火舞-王者荣耀官网网站,明媚烈焰,不知火舞,生存能力,攻击伤害,技能效果,上手难度,英雄故事,历史上的ta,王者荣耀首页,>,英雄介绍,>,不知火舞,157,技能介绍,忍蜂,冷却值：0,消耗：0,被动：不知火舞脱离战斗后的第一次普通攻击将会向前朝向释放忍蜂，造成100（+100%法术加成）的法术伤害并将敌人击退；不知火舞使用技能后能够在结束时翻滚一段距离，并且会增加50%移动速度，持续0.5秒，该效果会随时间衰减。,被动技能不但加强了不知火舞的输出伤害，并且同时提升了该英雄的机动能力，在每第3次普攻触发被动前，你可以调整自己的走位，将敌人推向你需要的位置.在每次施放技能后，你都可以立即操纵轮盘方向来控制翻滚的方向，进可攻退可守,飞翔龙炎阵,冷却值：10/9.2/8.4/7.6/6.8/6,消耗：70,不知火舞向上飞踢腾空，对范围内敌人造成550/620/690/760/830/900（+73%法术加成）点法术伤害并将其击飞0.75秒；技能命中回复25点能量值,飞翔龙炎阵是不知火舞的主要输出与控制手段.利用此技能位移靠近目标并形成短暂的击飞效果，在此时间内配合其他技能或普攻尽量打出被动，使得输出最大化.当逃跑时，这个技能可以当作一个不错的位移技能来使用,花蝶扇,冷却值：4/3.6/3.2/2.8/2.4/2,消耗：40,不知火舞扔出扇子，对第一个命中的目标造成500/590/680/770/860/950（+100%法术加成）点法术伤害并减少其90%移动速度，持续1秒，同时减少50/100/150/200/250/300点法术防御，持续3秒；技能命中将回复25点能量值,花蝶扇除了提供可观的法术伤害还可造成短暂的减速效果，是一个不错的留人技能.需要注意的是，花蝶扇只能对路径上的第一个命中目标有效，所以当敌人站位在兵线或坦克英雄身后时，请一定要等待时机施放花蝶扇，配合被动技能的翻滚位移，在追击和逃跑时都能轻松应对,必杀·忍蜂,冷却值：25/22.5/20,消耗：110,不知火舞向前冲刺，对命中的敌人造成800/1000/1200（+110%法术加成）点法术伤害并将其击退；同时敌人会减少20%/25%/30%物理攻击力，持续2.5秒；技能命中将回复25点能量值,必杀·忍蜂是不知火舞超强力的AOE输出技能，向自定方向冲刺，造成高额的法术伤害并伴随击退效果，团战时，该技能命中的敌方英雄数往往决定了一场团战的成败.所以，你需要在团战中注意走位、找准时机，尽量在此技能施放时打到更多的敌人,冷却值：,消耗：,铭文搭配建议,Tips：此铭文法术攻击加成能让火舞在前中期就打出一定的伤害量，同时火舞没有蓝条的限制，一定的吸血铭文可以在很大程度上减少其回家补给的次数，冷却缩减可以更好的消耗敌方，同时再配上其被动以达到最优输出或是撤离战场。,技能加点建议,主升,火焰三尖枪,副升,混天绫.束,召唤师技能,闪现/斩杀,英雄关系,最佳搭档,压制英雄,被压制英雄,最佳搭档,达摩：不知火舞4级后可以配合达摩游走gank，不知火舞2技能减速，达摩大招贴墙一套秒杀的套路，不管先手还是后手都很强，在小规模团战中2个人的AOE控制伤害也可以达到很高收益。,虞姬：不知火舞的二技能与虞姬的一技能都属于长距离的强消耗技能，不知火舞的二技能的减速效果可以很好的弥补虞姬的一技能前摇，提高其命中率，对敌方造成很大的消耗，在我方劣势守塔时，虞姬的一技能配合火舞的二技能能很快的清理兵线，从而保护我方建筑物。同样，在我方优势进攻时也可以达到推进的目的。,压制英雄,关羽：关羽比较依赖被动的冲锋，不知火舞的每个技能包括被动都能打断其冲锋状态，失去被动冲锋的关羽几乎和超级兵一样，所以不知火舞是天克关羽的。,高渐离：不知火舞与高渐离对线，前期可以用扇子无限消耗手短的高渐离。即使4级之后高渐离有一套爆发伤害，不知火的位移也可以完全避过，并且可以在高渐离没有大招的时候轻松秒掉高渐离。,被压制英雄,刺客的爆发输出很容易击杀不知火舞,花木兰的超高爆发输出能力能快速击杀走位不慎的不知火舞,出装建议,推荐出装一,推荐出装二,Tips：这是不知火舞的高爆发法师出装路线，但生存能力一般，需要较好的操作,Tips：这套装备使得不知火舞既有很强的输出能力也能在团战中有较大的容错率，能进行持续的输出,英雄攻略,更多,英雄故事,不知火流，扶桑最古老的忍术流派之一，源远流长，甚至可以追溯至太古之前。当家不知火半藏，亦是德高望重的宗师。他唯一的继承人和孙女，名为不知火舞。,舞在爷爷的道场，与流派的弟子们修习着流派的拳法长大。她成年之后，奇怪的梦境中反反复复出现一个熟悉的身影，梦中的自己总是怀抱着热情去追寻他，唤起他的名字。那个人，应该是自己所爱的人。舞这样认定。,她从家族的典籍中发现，上面记载着围绕“秦之秘传书”发生的残酷争斗。“秦之秘传书”虽然毁掉，但据说仍然有被血所污秽的暗黑拓本流传。参与了秘传书争斗的祖先，名字也正是叫做舞，这是巧合吗？过去时代的舞所爱的，则是曾经拥有秘传书的武术家的养子。这个异乡人的身影，从纸张的记载进入如今舞的梦境中，渐渐合为一体。,当神秘的黑衣人远渡而来，贵族们纷纷为其吹嘘的长生不老药而倾倒，甚至连不知火流派中魔种混血的强者，也经受不住诱惑为黑衣人效命。半藏无法眼睁睁的看着流派的弟子们卷入这种狂热。他的反对激起了被迷惑人们的声讨，也因此成为黑衣人的眼中钉。,这时候，从京都传来消息，一艘来自西方的船只停靠港口，船上金发碧眼的异乡人被狂热的血族所围困起来。舞所期盼的那个人，是否也在其中？感到不安的舞，向爷爷提出前往京都的请求。,舞出发了，去追寻自己的梦和宿命中的那个人。可就在她离开不久，爷爷被背叛者残酷的杀害了。报信的弟子追上舞，她明白自己就像曾经的舞一样，再次卷入秘传书和异乡人的战斗中。血液里流传的斗志被点燃了，她现在是不知火流新的当家！流派的安危，心爱的男人，还有爷爷的仇恨，一切，在京都来决断吧！,历史上的TA',\n",
       "   'image': 'http://game.gtimg.cn/images/yxzj/img201606/heroimg/157/157-mobileskin-1.jpg',\n",
       "   'title': '不知火舞-王者荣耀官网网站',\n",
       "   'url': 'http://pvp.qq.com/web201605/herodetail/157.shtml'}],\n",
       " ['http://pvp.qq.com/web201605/herodetail/162.shtml',\n",
       "  {'content': '娜可露露-王者荣耀官网网站,鹰之守护,娜可露露,生存能力,攻击伤害,技能效果,上手难度,英雄故事,历史上的ta,王者荣耀首页,>,英雄介绍,>,娜可露露,162,技能介绍,流刀舞术,冷却值：0,消耗：0,被动：娜可露露的技能命中敌人时，强化下一次普通攻击额外造成80（+100%额外物理加成）的物理伤害。,大幅度提升娜可露露普攻的输出能力，因为效果不可叠加，所以需要控制技能的施放节奏，而且要保证技能的命中率,飞鹰攻击,冷却值：10/9.5/9/8.5/8/7.5,消耗：70,娜可露露召唤玛玛哈哈攻击敌人造成350/400/450/500/550/600（+155%额外物理加成）点物理伤害，并对敌人施加鹰眼标记.娜可露露的其它伤害可以触发印记，对敌人造成最大生命值8%物理伤害（每40点额外物理攻击额外增幅1%），减少该技能3秒冷却并恢复法力值.,尽量用此技能先手标记，然后利用其他伤害来触发标记，对敌人造成高额的伤害,风之刃,冷却值：6,消耗：50,娜可露露向前冲刺，对路径上的敌人造成350/420/490/560/630/700（+170%额外物理加成）点物理伤害，每命中一个英雄将回复250/300/350/400/450/500（+100%额外物理加成）点自身生命值.,尽量命中足够多的英雄来回复自己血量,飞鹰急袭,冷却值：12,消耗：120,娜可露露召唤玛玛哈哈并肩作战，大幅度提升自身移动速度，再次释放该技能，娜可露露朝指定区域发起进攻，对敌人造成600/850/1100（+265%额外物理加成）点物理伤害并减速.受到冲击的敌人在3秒内降低30%伤害输出.,进可攻退可守的技能，不但机动性强，而且伤害可观，需要注意在飞行阶段，不能施放普攻或其它技能,冷却值：,消耗：,铭文搭配建议,Tips：鹰眼和异变提供的攻击力及穿透可让娜可露露造成大量伤害，大招配合隐匿的移速使她更快的加入战局,技能加点建议,主升,火焰三尖枪,副升,混天绫.束,召唤师技能,闪现/斩杀,英雄关系,最佳搭档,压制英雄,被压制英雄,最佳搭档,钟馗：钟馗具备的控制能力，是娜可露露这种高爆发却没有硬控能力英雄的最佳搭档，控制后娜可露露即可放心输出，打出成吨伤害。,白起：娜可露露的伤害非常高，但攻击范围较小，而白的大招和2技能可帮助娜可露露留人，留住人后娜可露露即可利用大招跟上，一套技能击杀敌方。,压制英雄,后羿：后羿作为无位移的射手，极易被游走的娜可露露gank，灵巧的娜可露露可以躲开其控制并高效率中击杀落单的后羿。,干将莫邪：干将莫邪的机动性很差，且惧怕贴脸英雄，并且由于射程较远，所以位置极易落单。此时娜可露露使用大招绕后贴脸截杀干将莫邪。,被压制英雄,娜可露露进场后，项羽可选择将其推开或控制限制其输出,张良的硬控能控住娜可露露将其击杀,出装建议,推荐出装一,推荐出装二,Tips：全输出装备娜可露露，输出能力极强，但团战容错率较低,Tips：输出装提升中期的输出能力，防御型装备能有效提升娜可露露生存能力和持续作战能力,英雄攻略,更多,英雄故事,身为自然的巫女，娜可露露聆听着自然的声音。然而风接二连三送来的是噩耗。飘洋而来的血的生物，令自然的灵魂发出痛苦的哀鸣。,那是名叫徐福的逃亡者，悄然无声来到扶桑都城。他进献的长生不老药迷惑了贵族们，接下来，那些寻求长生的人们一个接一个成为血族。,这场血的瘟疫蔓延开来。更糟糕的是，许多人自愿成为血族，以换取所谓永恒的生命。而血族与血族之间，为了争夺食粮，陷入相互杀戮。,玛玛哈哈不安的拍打着翅膀，血腥的味道传入神之村落。娜可露露反复做着同样的梦，梦里的扶桑在血海中沉没。如果再这样下去，扶桑，连同自然之灵，都会死去吧。感到不安的娜可露露，终于决定再次带着玛玛哈哈朝京都展开旅行。,情形比想象中更加糟糕。行人们看似与常人无异，双眼中却充满了对鲜血的渴求。玛玛哈哈不停的徘徊，它的叫声引导娜可露露救起一名重伤的少女——阿通。阿通所居住的村落遭到血洗，全村人都成为食粮，只有阿通逃了出来。而力竭的她，也到了灯尽油枯之时。娜可露露为濒临死亡的少女祈祷。听她断断续续讲述自己的遭遇：曾经青梅竹马的武藏，在追寻天下第一的路上失去踪迹。阿通苦苦期待着重逢，可等来的只有血族的杀手。,当天边露出第一丝曙光时，阿通闭上了眼睛。娜可露露和玛玛哈哈将她埋葬在古老的树下。猖獗的血族，因污秽而悲号的自然，可怜少女的最后嘱托……娜可露露决定改变旅途的方向，向着那位武藏最后决斗后失踪的地方前进。,历史上的TA',\n",
       "   'image': 'http://game.gtimg.cn/images/yxzj/img201606/heroimg/162/162-mobileskin-1.jpg',\n",
       "   'title': '娜可露露-王者荣耀官网网站',\n",
       "   'url': 'http://pvp.qq.com/web201605/herodetail/162.shtml'}],\n",
       " ['http://pvp.qq.com/web201605/herodetail/163.shtml',\n",
       "  {'content': '橘右京-王者荣耀官网网站,神梦一刀,橘右京,生存能力,攻击伤害,技能效果,上手难度,英雄故事,历史上的ta,王者荣耀首页,>,英雄介绍,>,橘右京,163,技能介绍,秘剑胧刀,冷却值：5,消耗：0,被动：每间隔5秒，橘右京下一次普攻将进行一次强力拔刀斩，对前方敌人造成130%物理加成物理伤害并减速50%持续2秒，处于攻击边缘的敌人将承受50%的额外伤害.,每隔一段时间，橘右京的普攻强化，造成高额物理伤害，使得他的对拼能力增强，并且有减速效果，让他能更好的追击敌人,燕返,冷却值：7,消耗：0,橘右京向后方进行跳跃，同时出剑，对附近的敌人造成200/240/280/320/360/400（+145%物理加成）点物理伤害，如果成功命中一名敌方英雄，该技能冷却时间缩短50%,这个技能可进可退，既可以用它来进行位移逃跑，也可以用来当作突进技能追击并造成伤害，在线上是一个非常好的消耗敌人的技能，需要注意的是，要通过对局势的判断来选择合适的施法方向打出适当的效果,居合,冷却值：10/9.5/9/8.5/8/7.5,消耗：0,橘右京快速出剑，对一条路径上的第一个敌人造成330/375/420/465/510/555（+212%物理加成）点物理伤害，后续敌人承受的伤害衰减50%，被剑气末端命中的敌人，将会被短暂晕眩.,这是橘右京技能范围最大的一个技能，具有高额的AOE伤害，是他主要的输出技能，并且还能形成一定的控制效果，将敌人控制住后施放3技能连招，能保证3技能可以足够稳定的命中敌人,细雪,冷却值：12/11.5/11,消耗：0,橘右京向指定方向连续拔刀四次，每次命中造成100/150/200（+70%物理加成）点物理伤害并且每次命中敌方英雄，自身将回复70/100/130（+35%物理加成）点生命值（命中非英雄单位效果减半）,这个技能能造成高额的物理伤害，但因为是非指向性技能，所以需要注意判断正确的施法方向，或在敌人被控制后施放效果更佳.对拼时，这个技能在每次命中敌方英雄时，都能回复生命值,冷却值：,消耗：,铭文搭配建议,Tips：橘右京是一个依赖技能伤害的英雄，需要高额的穿透能力打足伤害，移速的提升可以帮助橘右京配合被动减速技能风筝敌方英雄，物理伤害的提升可以帮橘右京提升初期的清线能力。,技能加点建议,主升,火焰三尖枪,副升,混天绫.束,召唤师技能,闪现/斩杀,英雄关系,最佳搭档,压制英雄,被压制英雄,最佳搭档,赵云：两个人都是能抗能打的英雄，有位移，有爆发，有控制，有吸血，技能cd短。配合抓人，无论战士还是射手，互相配合一套技能都可以轻松带走对手。,杨戬：杨戬打野或者橘右京打野都可以，是经典的上野组合，利用两个人技能的配合去游走gank，高爆发加控制很多英雄都难以阻挡，高强度的恢复能力也会让敌方英雄不得不牺牲经济提前做制裁类装备限制2人组的能力。,压制英雄,孙悟空：孙悟空的前期伤害比较低，即使被孙悟空打一套伤害，橘右京控制后释放大招就可以回很多血，但是孙悟空没有这么强的赖线能力只能选择回家补血。橘右京技能范围比较远，清兵能力也比较强，可以从初期就压制孙悟空，后期出半肉坦装也可以轻松对抗孙悟空。,鲁班七号：前中期对线遇到鲁班，可以等技能冷却，打完一套231就撤退，利用恢复效果和鲁班对线，风筝效果追击或逃跑，4级可以正面刚配合减速轻松击杀鲁班。,被压制英雄,灵活的孙尚香令橘右京的控制不容易命中并且被远程消耗,王昭君的大招令橘右京在突进时必须考虑能否活着出去,出装建议,推荐出装一,推荐出装二,Tips：装备效果配合橘又京被动能打出更加高额的伤害,Tips：橘右京以防守为主的出装，依靠控制与技能基础伤害尽可能在逆风局中帮助队友,英雄攻略,更多,英雄故事,在近江的村落里，没落的武士后羿橘右京，却有着高超的剑术 “神梦想一刀流”，是远近闻名的居合斩名家。他温柔文雅的容貌，俘获了许多少女的芳心。她们所不知道的是，右京因为肺病的折磨，陷入深深的空虚与孤独感，认为自己会独自死去。,这个想法在某一天有了改变。因为躲避京都的瘟疫而来到乡下的领主一家的女儿，恬淡文静的小田桐圭出现在右京的面前。柔和的谈吐和凛然的气质，与众不同。只是由于身份的差距，少有相见的机会。 田间的道上，两人偶然邂逅。圭无论如何都想为整日病卧的母亲摘下峭壁边绽放的美丽花朵。右京替她摘下了花，圭文雅的向他道谢：“右京先生，也喜欢花吗？无意中看到盛开的花朵，打动了我。”如同在平静的水里投下石子，那一刹那，右京的心中涌起了继续生存的乐趣，他可以为自己所爱的少女献上世间美好的花朵。,圭因为母亲的病陷入惆怅。蔓延的瘟疫令人们惶恐不安。这时候传来消息，遥远的京都盛开了究极的花朵。那是能够治愈百病，延长生命的灵药。,望着忧心忡忡的恋人，右京决定前往京都。那里似乎已经变得凶险无比，不仅有瘟疫流传，还有狂热的血族作乱。然而，若是只有究极之花才能带回恋人的笑容……,右京带上爱刀“自作·无铭”，踏上了京都之路。,历史上的TA',\n",
       "   'image': 'http://game.gtimg.cn/images/yxzj/img201606/heroimg/163/163-mobileskin-1.jpg',\n",
       "   'title': '橘右京-王者荣耀官网网站',\n",
       "   'url': 'http://pvp.qq.com/web201605/herodetail/163.shtml'}],\n",
       " ['http://pvp.qq.com/web201605/herodetail/166.shtml',\n",
       "  {'content': '亚瑟-王者荣耀官网网站,圣骑之力,亚瑟,生存能力,攻击伤害,技能效果,上手难度,英雄故事,历史上的ta,王者荣耀首页,>,英雄介绍,>,亚瑟,166,技能介绍,圣光守护,冷却值：0,消耗：0,被动：亚瑟获得圣光守护，每2秒回复1%的最大生命值,保证了亚瑟充足的赖线能力，因为本身亚瑟就是一个无蓝耗英雄，加上他的恢复能力，只要他不跟对手硬拼，一般情况下很难被击杀,誓约之盾,冷却值：10/9/8/7/6/5,消耗：0,亚瑟增加30%移动速度，持续3秒，下一次普通攻击变更为跳斩，跳斩会造成180/205/230/255/280/305（+100%物理加成）点物理伤害并将目标沉默1秒，同时跳斩命中的敌方英雄会被标记，持续5秒，亚瑟的普通攻击和技能会额外造成目标最大生命值1%的法术伤害；标记附近的友军会增加10%的移动速度,这是亚瑟的主要技能，移速加成可以很好的用来追击或逃跑.附加的护盾效果可用于对线耗血使用,回旋打击,冷却值：12/11.4/10.8/10.2/9.6/9,消耗：0,亚瑟召唤圣盾围绕自身旋转，对路径上的敌人会造成145/163/181/199/217/235（+50%物理加成）点物理伤害，圣盾最多持续5秒,范围性伤害技能，线上用于快速清兵，再有了一定装备后，团战中可以造成非常可观的伤害,圣剑裁决,冷却值：42/35/28,消耗：0,亚瑟举起圣剑跃向敌方英雄，造成敌方英雄最大生命12/16/20%法术伤害并将其击飞0.5秒；同时召唤圣印覆盖落点范围，持续5秒，圣印会对范围内敌人造成每秒85/105/125点法术伤害,这个技能在最后收割的时候使用，敌方血量损失越多，伤害越高，千万不要在目标血量较高时使用此技能,冷却值：,消耗：,铭文搭配建议,Tips：红色宿命增加血量，物理护甲以提高前期抗压能力。绿色虚空增加血量，降低技能CD使亚瑟的技能更加频繁。蓝色调和增加血量，增加移速，可以使亚瑟更加灵活。,技能加点建议,主升,火焰三尖枪,副升,混天绫.束,召唤师技能,闪现/斩杀,英雄关系,最佳搭档,压制英雄,被压制英雄,最佳搭档,所有己方ADC：当己方ADC遭到敌方干扰进攻时，亚瑟的沉默等控制可以配合我方ADC击杀敌方，技能效果非常适合保护己方ADC。,阿轲：亚瑟的一技能非常频繁，对敌方单体的沉默能力非常突出，而阿轲正好也是对单体输出非常强的英雄，且机动性很高，配合亚瑟的控制可以轻松的击杀目标。,压制英雄,韩信：韩信是个非常依赖技能的英雄，亚瑟的一技能沉默可以非常轻松的打断韩信的攻势，二技能和大招可以轻松将韩信的血量进行消耗。,阿轲：根据阿轲的隐身标记来判断出阿轲的进攻目标，守株待兔等待阿轲的进攻，现身就立即打出沉默来保护己方脆弱目标，甚至可以直接使用大招配合队友控制击杀阿轲。,被压制英雄,亚瑟入场后，项羽能将他推开或控制，限制对友方的输出与控制,孙尚香很容易风筝亚瑟,出装建议,推荐出装一,推荐出装二,Tips：半肉半输出的出装思路，能保证亚瑟的生存能力同时提供给他持续的作战能力,Tips：全输出装备亚瑟，输出能力极强，但生存能力较弱，需要一定的操作技巧,英雄攻略,更多,英雄故事,长久以来，崇尚英勇，荣耀与美德的圣骑士们守护着勇士之地。他们每年秋季都会举行武道大会，并演变为一大盛事。人们白天比武，夜晚饮酒作乐，欢庆丰收。最后的胜利者将加入圣骑士团，成为其中的一员。,然而，随着帝国与同盟的战争常年不熄，英勇的圣骑士相继牺牲，圣骑士团的力量逐渐衰落，进而陷入争吵和分裂。这件事被敌对者所利用，策划着要将圣骑士们一举抹杀。,这一年的武道大会如期举行，人们从四面八方涌向勇士之地。此时同盟的军队发动了突袭。他们如暴风般席卷了防卫空虚的城镇和村庄，又像闪电一样离开，当圣骑士团赶到时，只留下焚烧后的废墟与悲泣的人们。,这样的惨剧在短短数天内反复上演了三次。勇士之地陷入了恐慌中。圣骑士团疲于奔命却无能为力。紧接着，更加大胆的第四次袭击，直指圣骑士团的所在之地。如果让他们得逞，圣骑士团数百年来的荣耀会彻底的丧失。,骑士们星夜奔回时，却看到与预想完全不同的景象：神圣的殿堂依然庄严高耸，鲜血和头颅都来自卑鄙的袭击者。独自一人完成这丰功伟绩的，是位远道而来的青年旅人。而他手中竟然持着被称为“王者之剑”的誓约胜利之剑。这把剑原本插在圣堂供奉的巨石中，据说是由湖中仙女敬献给远古最伟大的亚瑟王。,得救的人们讲述了当时的情景：袭击者们冲入圣地，人们四散逃窜。旅人原本的铁剑在砍杀中折断。他看到了巨石中的圣剑，轻松拔出它，并击退所有敌人。,圣骑士团轰动了。拔出誓约胜利之剑的人将获得圣骑士们的效忠，这古老的条约代代相传。他们将拯救了圣地的青年围在中间，举剑向他宣誓忠诚！,亚瑟率领下，圣骑士团开始伟大的复兴。在他们的支持下，亚瑟集合了勇士之地的力量，将创造新的理想乡作为自己的信仰。现在，这位王者将他的剑指向了过去的袭击者们。这些强盗将为血的回忆付出代价。,“因剑而生，因剑而亡！”,历史上的TA',\n",
       "   'image': 'http://game.gtimg.cn/images/yxzj/img201606/heroimg/166/166-mobileskin-1.jpg',\n",
       "   'title': '亚瑟-王者荣耀官网网站',\n",
       "   'url': 'http://pvp.qq.com/web201605/herodetail/166.shtml'}],\n",
       " ['http://pvp.qq.com/web201605/herodetail/167.shtml',\n",
       "  {'content': '孙悟空-王者荣耀官网网站,齐天大圣,孙悟空,生存能力,攻击伤害,技能效果,上手难度,英雄故事,历史上的ta,王者荣耀首页,>,英雄介绍,>,孙悟空,167,技能介绍,大圣神威,冷却值：0,消耗：0,被动：每次释放技能后强化下一次普攻，使伤害提升至210（+140%物理加成）的物理伤害，附带位移效果。孙悟空天生拥有20%暴击率，但初始暴击效果为150%,孙悟空需要利用技能接普攻打出更高的伤害，被动的暴击加上暴击装备的加成能迅速击杀对方脆皮英雄,护身咒法,冷却值：12/11.6/11.2/10.8/10.4/10,消耗：80,孙悟空念起护身咒，护身咒可在1秒内为孙悟空抵挡一次敌方技能。若成功抵挡，孙悟空将获得极短暂的无敌效果，以及持续4秒的护盾。开启技能还会获得短暂加速效果,在适当的时间开启，成功抵挡敌方技能后，能让孙悟空抵挡大量的伤害,斗战冲锋,冷却值：8/7.4/6.8/6.2/5.6/5,消耗：60,孙悟空朝指定方向冲锋，命中敌人后借力腾空跳跃。跳跃过程中可使用普攻或英雄技能可中断跳跃,这是孙悟空很重要的位移技能，主要利用它来接近敌人或借力位移追击其他的敌人,如意金箍,冷却值：40/35/30,消耗：150,孙悟空将金箍棒变大直插入地，造成巨大震动对周围敌人造成150/190/230（+50%物理加成）点物理伤害并晕眩1秒。并对命中敌人打上3层印记。孙悟空的普攻命中带有印记的敌人将造成额外120点物理伤害（随英雄等级每级提升30点），并消耗一层印记,这是孙悟空主要的控制技能，能形成很好的AOE控制效果，并且对印记标记的敌人有更高的伤害,冷却值：,消耗：,铭文搭配建议,Tips：孙悟空的被动是自带暴击率，无双与兽痕可以增加13％的暴击率，使得初始暴击率能达到33％。通过无双的弥补，使得初始暴击效果为186％，使得输出更高。鹰眼提供物理穿透可以增加孙悟空的穿透效果，增加伤害。,技能加点建议,主升,火焰三尖枪,副升,混天绫.束,召唤师技能,闪现/斩杀,英雄关系,最佳搭档,压制英雄,被压制英雄,最佳搭档,墨子：墨子二技能眩晕住敌人后，孙悟空可以直接二技能近身开始输出，留下一技能来保命，使得容错率增加，操作压力降低。,王昭君：若王昭君的二技能控制得当，冰冻时间足够孙悟空进行一套技能输出，使得孙悟空的技能浪费降低，增加收益，更容易拉开局内经济差距。,压制英雄,妲己：孙悟空的1技能可以抵挡一次敌方技能，抵挡成功还可以获得无敌效果，对抗妲己这种爆发一套技能秒人类型的英雄有很大的优势，成功抵消后妲己很难对孙悟空产生威胁，孙悟空可以把握无敌效果和4秒的护盾轻松击杀妲己。,马可波罗：马可波罗是一个可以poke和持续输出的英雄，位移能力让马可面对刺客会有更好的输出环境，孙悟空面对马可时开启1技能可以更轻松获得无敌和护盾效果，2技能位移可以抵消马可的2技能位移，利用被动追击可以轻松追上马可，同时孙悟空使用技能后强化普攻的爆发伤害很高。可以一套秒到马可。,被压制英雄,芈月大招可以很好的躲掉孙悟空的技能攻击,孙悟空在切入后排时可使用项羽将其推开作为保护,出装建议,推荐出装一,推荐出装二,Tips：全输出孙悟空，需要较高的操作技巧，能打出高额伤害,Tips：半肉半输出孙悟空，能保证自己更容易存活,英雄攻略,更多,英雄故事,“人类历史上黑暗的一天!”,“它像突如其来的飓风扫过凡间，半座城市因此颤栗。与此相对，奴隶们开始欢呼起解放，自由，以及诸如此类的字眼。”,“当权者恐惧着，召唤出同样拥有强大力量的魔种与之对抗。然而，它的长笑贯穿晴空，如意金箍棒所及之处，枷锁碎裂。魔种们高喊着它的名字，纷纷倒戈。,是的，它并非孤身战斗，越来越多的奴隶加入它的麾下。它们浩浩荡荡，势不可挡，人们几乎以为大陆会在一夜之间颠覆。魔道的时代，将就此终止吗？”,——《竹书纪年，灾难的一天》,这是有史记载以来第一次魔种起义。关于那只猴子的故事，就此戛然而止。它死了吗？被俘虏了吗？最终的命运如何？一切都成为问号，只于史学家，或者孩童的睡前故事里流传。,“什么齐天大圣，没用的猴子罢了。”,“它是传奇。”,“失败者不配被历史铭记。”,“有这样一个齐天大圣，它率领你们，保护你们。之后，你就无所畏惧。”,时间又翻过多久呢……几百年？几千年？昔日的当权者埋进坟墓。旅人们自青山脚下走说笑着走过，毫不在意路旁的青石，以及青石前默默矗立的僧侣。,沉睡，沉睡了多久?,是谁在呼唤我？,“和平又安宁的时代，不需要我的存在。”,西方，西方的风暴将袭来。,“危机，超越了人类与魔种的界限。跟我一起，寻找新的道路，去抵达根源吧。”,路在哪里？我曾经竭尽全力的探索过，往前，往前，依旧只能看到虚无和黑暗。,我失败了，我不后悔。,我是齐天大圣，我不会死。,回应着呼唤与呢喃，大地开始剧烈的颤抖。就像千百年前诞生时一样，冲破枷锁和束缚。它的身影如此高大，矗立于天地之间。,大圣，归来。,“取经之路，就在脚下。”,历史上的TA,《西游记》中的神话人物。仙石感天地灵气所生，拜菩提祖师为师，得名孙悟空，学了一身本事。后率群猴入花果山水帘洞，自封为美猴王，再后被天庭招安，自封齐天大圣，大闹天宫之后，练成金刚不坏之身。旋被如来佛压在五行山下五百年。因唐僧取经的因缘，保护唐僧，一路赶往西天，降妖伏魔，历经九九八十一难，终成正果。',\n",
       "   'image': 'http://game.gtimg.cn/images/yxzj/img201606/heroimg/167/167-mobileskin-1.jpg',\n",
       "   'title': '孙悟空-王者荣耀官网网站',\n",
       "   'url': 'http://pvp.qq.com/web201605/herodetail/167.shtml'}],\n",
       " ['http://pvp.qq.com/web201605/herodetail/168.shtml',\n",
       "  {'content': '牛魔-王者荣耀官网网站,精英酋长,牛魔,生存能力,攻击伤害,技能效果,上手难度,英雄故事,历史上的ta,王者荣耀首页,>,英雄介绍,>,牛魔,168,技能介绍,强力援护,冷却值：0,消耗：0,被动：周围500范围内有友方英雄时，牛魔和范围内血量最少的友方英雄会获得200点护甲魔抗.,这是牛魔非常重要的保人技能，牛头尽量和血量最少的友方英雄靠近，保护其撤退和输出,咆哮之斧,冷却值：6,消耗：55,牛魔以大斧横劈，对前方大范围内的敌人造成250/300/350/400/450/500（+110%物理加成）点物理伤害，被斧刃刮到的敌人会额外受到虚弱效果，降低15%的攻击力和法术强度（只对英雄生效），持续3秒.如果命中了敌方英雄，牛魔接下来的1次普攻或技能会触发额外法术伤害,尽量使用此技能命中敌方输出位置，降低其输出伤害,横行霸道,冷却值：10/9.6/9.2/8.8/8.4/8,消耗：80,牛魔朝指定方向冲锋，击飞沿途的敌人造成450/530/610/690/770/850（+90%物理加成）点物理伤害并击飞0.75秒，敌人落地后会额外受到1秒的90%减速效果,可以当做位移技能使用，突进敌人造成击飞及减速效果，对友军为友军增加护盾减少伤害,山崩地裂,冷却值：40/35/30,消耗：150,短暂蓄力后，牛魔以巨斧猛力劈开大地，击飞面前路径上的敌人，并造成550/700/850（+130%物理加成）点物理伤害.同时沿途的大地被牛魔力量撕裂，持续5秒，踏入撕裂范围的敌人将遭受减速和持续伤害.,此技能在团战会有巨大的作用，技能命中敌方英雄的数量往往决定了团战的走向，用来进行反手控制是最佳选择,冷却值：,消耗：,铭文搭配建议,Tips：牛魔作为一个坦克、辅助位英雄，在团战中需要让自身拥有更高的血量及护甲魔抗才能为队友抵抗敌方的输出。,技能加点建议,主升,火焰三尖枪,副升,混天绫.束,召唤师技能,闪现/斩杀,英雄关系,最佳搭档,压制英雄,被压制英雄,最佳搭档,马可波罗：牛魔的被动可以提供200点护甲魔抗，同时一技能的虚弱效果能够降低敌方输出，二技能和大招的控制能力和持续伤害，能够为马可波罗的进场提供良好的输出环境。,高渐离：牛魔强力的被动效果，能够为高渐离的进场提供护甲魔抗，配合高渐离的大招免伤效果，能够使高渐离更为稳固的在战场中央站稳脚跟输出。,压制英雄,王昭君：在团战中牛魔可以利用被动增加自己和一名队友的双抗，让王昭君的消耗能力降低，当敌方王昭君开大时牛魔可以利用2.3技能来打断王昭君，随后配合队友将其击杀。,墨子：墨子虽是一位有控制有输出的英雄但其技能前摇较久，牛魔可通过二三技能的控制打断墨子的技能释放，之后配合队友完成击杀。,被压制英雄,牛魔单人作战能力不强，遇到花木兰这种刺客简直没有还手之力,牛魔不能很容易控制到灵活的貂蝉,出装建议,推荐出装一,推荐出装二,Tips：这是全肉装坦克的出装方法，团战技能有一定输出能力，也有非常强的承伤能力,Tips：多以军团荣耀、冰脉护手等装备作为一个团队型的坦克，能对队友起到强大的保护作用,英雄攻略,更多,英雄故事,牛魔坐在炽热的宝座上，惬意饮下满盅的酒。美味，畅快。盘踞一方的荒漠霸主，偶尔也会回忆起很久很久以前的某一天……,呵~生命中最为痛快的一天。,那个年代，它还是低贱的奴隶……是的，魔种的血统赋予了它强健的筋肉，非人的铁躯，以及显示身份的尖角，也让沉重的枷锁桎梏了它。人类奴役它漫长时光：作为角斗士被观赏，作为强有力的运输工具被使用。一直以来，它显得那样顺从……直到某天，结识了另一个家伙，猴子。,“哥们，在忍耐些什么？让我们大干一场！”,迈出这步比想象中更容易。它们联手发动了一场起义。是的，就是被后世称为暴乱之夜的那天。从黎明到日落，牛魔已经由奴隶摇身变为魔种的首领。,这种感觉真好，千军万马都在自己麾下……,比起自由，似乎权力的味道更令人沉醉！,人类不容许秩序的颠覆，很快发动了反扑。起义的魔种奴隶们陷入步步后退的窘境。腥风血雨中，猴子依然从容。但当人类的军队簇拥着超大规模杀伤性武器：元气炮出现时，牛魔动摇了。纵使是异于人类的魔种，血肉之躯也难以抵挡机关术的轰击。,也许猴子是最可贵的战友，但跟同性死在一起什么的——并没有兴趣。,决战前夜，牛魔背叛了它的同伴。随后……它目睹有史最强烈的人造光束，贯穿猴子和魔种起义者的营地。,……,想念你，可贵的朋友——然而，并不后悔出卖你以换取如今的所有。,最近都有些什么新传闻来着？关于重现世间，几乎轰平赤壁的元气炮——哦，如今的新名字叫东风祭坛，以及大唐帝国的使者四处探访古代遗迹的消息，并没有瞒过它的耳朵。,猴子，你在地下还好吗？,什么时候能再重逢呢？,要知道，初次见面的情形，还历历在目。,“很好，你已经成功引起了我的注意！”,历史上的TA',\n",
       "   'image': 'http://game.gtimg.cn/images/yxzj/img201606/heroimg/168/168-mobileskin-1.jpg',\n",
       "   'title': '牛魔-王者荣耀官网网站',\n",
       "   'url': 'http://pvp.qq.com/web201605/herodetail/168.shtml'}],\n",
       " ['http://pvp.qq.com/web201605/herodetail/169.shtml',\n",
       "  {'content': '后羿-王者荣耀官网网站,半神之弓,后羿,生存能力,攻击伤害,技能效果,上手难度,英雄故事,历史上的ta,王者荣耀首页,>,英雄介绍,>,后羿,169,技能介绍,惩戒射击,冷却值：0,消耗：0,后羿的普攻命中敌人后增加自身10%攻击速度，可叠加至多3层。当攻速加成叠加到3层时，后羿的普攻将射出3支箭矢，每支箭矢造成原伤害的40%，强化持续3秒。（期间每次命中刷新持续时间）。,后羿需要进行三次普攻命中来触发被动效果，一旦触发被动以后，将会造成高额伤害。,多重箭矢,冷却值：10,消耗：60,后羿强化自身攻击，每次攻击造成100/120/140/160/180/200（+50%物理加成）点物理伤害（若触发惩戒射击则每支箭矢造成原伤害的40%）并对面前区域内另外2名敌人造成50%伤害，该效果持续5秒。,主要输出技能，配合被动效果，每次普攻至多可发射9支箭矢，范围伤害能力极强。,落日余晖,冷却值：10/9/8/7/6/5,消耗：60,后羿命令日炙塔对指定区域进行攻击，短暂时间后召唤一束激光打击指定位置。对命中的敌人造成240/280/320/360/400/440（+80%物理加成）点法术伤害和50%减速效果，持续2秒，被中心点命中的敌人将受到额外50%的伤害。,后羿常规的控制技能，精准打击时也可以提供一定的爆发伤害。必要的时候可以在远处释放该技能骚扰敌人。,灼日之矢,冷却值：45/40/35,消耗：130,后羿向前方射出火焰箭。击中敌方英雄时造成500/625/750（+140%物理加成）点物理伤害并晕眩此目标(晕眩时长取决于火焰箭的飞行距离，最多造成3.5秒晕眩)。目标周围的敌人会受到爆炸伤害。,非常强力的开团技能，一旦命中远处的敌人将造成长时间的晕眩效果。另外这是一个全屏释放的技能，意味着后羿可以随时释放大招支援远处的队友，不过距离较远时，需要对释放方向进行一定的预判。,冷却值：,消耗：,铭文搭配建议,Tips：后羿是一个高爆发型的射手，非常依赖普攻效果，攻速，暴击，移速，对于后羿都是非常关键的属性,技能加点建议,主升,火焰三尖枪,副升,混天绫.束,召唤师技能,闪现/斩杀,英雄关系,最佳搭档,压制英雄,被压制英雄,最佳搭档,一旦敌人被后羿的大招命中，那么钟馗的钩子几乎是百发百中。,后羿是没有位移的射手，在团战中比较依赖队友的保护，牛魔的被动可以给后羿提供防御属性，而他极强的控制技能，可以帮助后羿逃离对手的攻击范围。,压制英雄,百里守约释放2技能蓄力阶段是不会移动的，利用这个时机对他释放大招，然后集火攻击他。,当张良释放大招控制住队友的时候，立即释放大招攻击张良，可以打断张良大招保护队友。,被压制英雄,后羿自身比较脆弱，一旦遇到高爆发的法师，可能会被一套带走。,李白释放技能的时候，有一个短暂的不可选中的过程，可以轻松躲避后羿的关键技能。,出装建议,推荐出装一,推荐出装二,Tips：射手出门装，末世配合后羿的被动技能可以大幅度提升后羿的普攻输出，超高爆发输出，破甲弓在中后期可以对敌方坦克构成较大威胁,Tips：射手出门装，末世配合后羿的被动技能，可以大幅度提升后羿的普攻输出，泣血之刃配合末世，结合后羿的多重射击，给后羿提供爆炸伤害和不俗的吸血效果。,英雄攻略,更多,英雄故事,茫茫时空中，渺小蔚蓝的星球上，曾存在着遥远的时代……到达巅峰后一夕毁灭的时代。过去的文明湮灭在时光中，新的生命从新的大陆中生存，繁盛。而引领他们的，是乘坐方舟降临的“超智慧生命体”。,是的，相较于新大陆原生的普通，平凡的人类，他们无论从体力，智慧上，都远远胜之。至于他们的领袖，更是其中的佼佼者，声名如雷贯耳：女娲，伏羲，黄帝，炎帝 ，共工……在这些杰出领导者的带领下，新人类们建设的文明，短短数百年的时间内，繁盛璀璨便超越了过往的总和。,让这些伟大人物创下不世功绩的，是两大通往终极知识的秘术：魔道与机关。只有少数领导者掌握这秘密，并代代传承。他们俨然就是这个时代的超强者，接受人们的膜拜。,然而，有秘密，就有觊觎秘密者。后羿，英勇的神射手，他的赫赫功勋引起了王者的注意。有一天，这位英雄被带入到华丽的居所，由上官向他陈述机密的计划：破坏遥远边境矗立的“日之塔”。因为“日之塔”的存在，魔道能量源源不断的被制造出来。那股庞大而又不稳定的力量，若是落入西方的手中，大陆会陷入战争危机。,后羿成功了。他完成了破坏九座日之塔的壮举。但他被这炫目而闻所未闻，象征着魔道与机关术完美结合的结晶而迷住了。,他的动摇，以及被魔道所深深吸引的痴迷目光，全数不落的被监视者所察觉。当后羿内心计划着将这股力量据为己有时，针对他的谋杀计划也提上了日程。,最后一座日之塔就矗立在眼前。后羿百发百中的大弓射穿巡逻卫兵的喉咙，潜入高塔。在那里，精密的魔道机关运行着，生产着源源不断的能量。清除了所有的守卫者后，他举起了大弓。,大箭射穿了机关，日之塔的运转中止了。令监视者始料未及的却是，所有能量并未如之前那九座高塔一般消散，而是全数涌向后羿……他的箭，那只特制的箭，变成了导能装置，让他得以吸取魔道所制造出来的全部力量。,“原来，这就是太阳的光辉啊！我，最后的太阳。”,力量……无穷的力量……巨大的弓箭在手中就如玩具一般，这才是自己希望成为的人类的模样：超人的实力。现在，双目能看得更加遥远，耳力也更加灵敏。他很快察觉到自遥远的地方，有什么正在接近。,王者比所有人预想的还要小心谨慎。他与许多强大的新人类周旋过，甚至在监视者的报告到达之前，他就决心要将这位新生的英雄扼杀。,怀抱着不甘与愤怒，拥抱太阳之辉的后羿，终究与太阳一同沉睡。,……这是一段记载于古老史书的故事，大部分人早已忘却。曾经矗立的日之塔，以及那位悲剧的英雄。,可有人还记得。不仅记得，他甚至亲手打开了掩埋在白雪下的废墟。,重生的太阳，是否会射出更璀璨的光辉？,拭目以待吧。,“苏醒了，猎杀时刻！”,历史上的TA,历史上真有一个后羿，系大禹时的一个部落首领。而神话传说中，也有一个后羿，《山海经》和《淮南子》中均有提到，《淮南子》讲得尤其详细，说当时十日并出，害苦民众，后羿射掉九日，为民除害。后来又有传说，说后羿的妻子叫嫦娥，后羿请来了长生不死之药，但被嫦娥偷吃，结果升天到了月亮上，跟后羿长久地分别。',\n",
       "   'image': 'http://game.gtimg.cn/images/yxzj/img201606/heroimg/169/169-mobileskin-1.jpg',\n",
       "   'title': '后羿-王者荣耀官网网站',\n",
       "   'url': 'http://pvp.qq.com/web201605/herodetail/169.shtml'}],\n",
       " ['http://pvp.qq.com/web201605/herodetail/170.shtml',\n",
       "  {'content': '刘备-王者荣耀官网网站,仁德义枪,刘备,生存能力,攻击伤害,技能效果,上手难度,英雄故事,历史上的ta,王者荣耀首页,>,英雄介绍,>,刘备,170,技能介绍,强化霰弹,冷却值：0,消耗：0,被动：火铳发射霰弹，每颗弹丸命中敌方英雄会给刘备叠加双抗，持续6秒，可叠加12层。霰弹只有中央2颗弹丸可暴击可触发装备效果，目标会受到50%总攻击力+40%额外弹丸数的总伤害（建筑不受额外弹丸影响）,刘备的被动技能是他保持站桩输出的强力保证,双重射击,冷却值：8/7.6/7.2/6.8/6.4/6,消耗：60,刘备短时间提高移动速度40%，持续1.5秒，并在下次射击时击发两次，每颗弹丸造成120（+40%物理加成）点物理伤害,这个技能可以提升刘备的追人和撤退能力，并且能增强输出,身先士卒,冷却值：10/9.4/8.8/8.2/7.6/7,消耗：80,刘备向前冲锋，若撞击到敌人将造成小范围180/200/220/240/260/280（+70%物理加成）点物理伤害及击退效果，同时自身停止移动。若撞击到敌方英雄将减少该技能2秒冷却时间,这个技能是刘备的控制技能，在观察好局势后灵活选择用来逃跑或者进攻，撞击英雄能减少技能CD时间,以德服人,冷却值：60/55/50,消耗：130,刘备清除身上的控制效果，并获得可吸收1000/1500/2000点伤害的护盾，护盾存在期间刘备免疫控制，并会将普攻和技能造成伤害的50%转化为护盾值（对小兵野怪为20%），护盾最高值不可超过初始值的150%。开启技能还会获得50/100/150点攻击力加成，持续6秒,刘备大招提供的护盾结合他的被动，使得刘备有足够的身板能在团战混沌中心疯狂输出，开启大招能免疫控制，使得刘备在团战中可以更加随心所欲地输出,冷却值：,消耗：,铭文搭配建议,Tips：刘备是近战战士，距离敌人越近攻击伤害越高，高额的穿透和物攻可以帮刘备飞速清理野区，移速可以让刘备配合红BUFF黏住敌方英雄，在初期爆发超高的情况下，攻速效果明显，近战时多A一下可以造成更多伤害。,技能加点建议,主升,火焰三尖枪,副升,混天绫.束,召唤师技能,闪现/斩杀,英雄关系,最佳搭档,压制英雄,被压制英雄,最佳搭档,太乙真人：太乙真人1技能的大范围晕眩和2技能的定点晕眩都可以增加刘备的抓人能力，大招可以提高刘备的容错率，避免出现刘备刚进场就被集火秒掉的问题，太乙真人在前期就可以造成高额法术伤害，配合刘备双人游走可以大大提升成功率。,张良（类似的强控英雄）：刘备不缺输出，但是比较怕对手拉开距离，远距离攻击时刘备的伤害会很低，非常需要输出环境，类似张良的3技能控制配合张良的伤害，可以提高GANK几率。在打团的时，张良能可以有效的控制对方突进英雄，争取时间，刘备可以寻找时机进入敌方后排分割战场。,压制英雄,宫本武藏：宫本武藏唯一的强控就是3技能落地击飞和开3技能后的1技能减速，双反对拼时，刘备可先逼出宫本3技能，随后开3免控并获得高额互动，随手站桩输出就可以轻松将其击杀。,鲁班七号：刘备的大招免控可以破掉鲁班唯一的保命硬控（1技能），同时2技能的突然晕眩和1技能的追人爆发，都可以让鲁班还未反应过来就失去团战能力或者被秒掉，相比较其他adc，刘备在面对鲁班时可以发挥出最大的压制能力,被压制英雄,孙尚香的高射程优势能很好的风筝刘备,刘备在切入后排时可使用项羽将其推开作为保护,出装建议,推荐出装一,推荐出装二,Tips：前中期以输出装为主，后期补上一定的血量装备以保证持续输出能力,Tips：打野出装思路，半肉刘备，主要利用控制效果进行持续输出,英雄攻略,更多,英雄故事,“很多年前，当我第一百八十次装作偶然的背着草鞋，经过小亮亮草庐时，总是擦肩而过永不正眼看我的他，主动开口了：今天是你命定的邂逅之日。”,“他又严肃的强调：我可不是算命先生。随即翩然而去，真是太有个性了。”,“我走向督邮府邸。这是段耻辱的故事。天书，太古智慧的总称，记载着机关术和魔道的秘密。我的先祖曾统治一方，失去国家后将天书交给忠实的臣子守护。可恨我年少无知，在青梅煮酒的筵席上错信过去的兄弟曹操，吐露天书的秘密。不久后，觊觎天书的魏军就踏破了我的故国。”,“当时的内应正是督邮这家伙。从决定跟他算这笔帐起，我就一边卖草鞋，一边监视他的动向。”,“可今天，很不对劲。府邸浓烟滚滚。火灾？”,“看热闹的人群挤来挤去，拐杖老爷爷鞋破了，我善良的奉上新鞋，刚想开口打听……老爷爷十分感动的将手里的大包裹交给我，瞬间消失了。”,“丰厚的报酬？不！竟然是哇哇大哭的婴儿。”,“阴影笼罩下来，手持蛇矛的家伙死瞪着我，就像我——不，就像我手中的小孩是什么生死大敌。”,“‘给我。’眼中弥漫着不正常的颜色。那是种可称为仇恨的东西。”,“我警惕的抱住小孩：‘你想对我儿子干什么！’”,“他发出苍凉的狂笑。‘不，这是我仇人之孙。’”,“‘不，这是我儿子，姓刘名禅字阿斗，莫非你想查户口？’没想到我出口成湿的天赋这么高。”,“他圆瞪双眼正要开口，一把大刀泰山压顶般砸下，在我们中间隔出安全距离。”,“‘魔种！哪里逃！’绿衣的大汉拔刀再砍，却被蛇矛牢牢压制。”,“我急中生智，大喊：‘官兵来了！’随即脚底抹油。”,“蛇矛男楞了一下，立时追来，绿衣大汉紧随其后。”,“奔逃中，婴儿开始哇哇大哭，瞬间手上湿凉。尿尿了！该死！手忙脚乱解开襁褓，有什么滑了出来。”,“那是……一个铁匣。”,“蛇矛男脸色大变。”,“我想起了什么，掏出祖传的钥匙。”,“完全吻合。铁匣打开了。光芒自其中四散开来。里面是……天书吗？”,“我们三人不约而同伸出手。甫一触摸到铁匣，记忆碎片纷纷涌入脑海。从很久之前，从超越时间的过往中，我的兄弟们曾经与我同生共死，祸福相依，却壮志未酬身先死，看着他们一个个在眼前倒下，我无能为力。是前生的故事？我讨厌，讨厌这样的别离。”,“再抬首时，六目相对，泪流满襟。”,“命定的邂逅吗……”,“我挤出笑脸，声音哽咽：‘大家相逢即是有缘，不如来结义吧！”,“同生共死，同甘共苦！”,“祸福相依，天地可鉴！”,“‘任时代流转，世事变迁，我等生死之歃，始终不渝。’”,“出来混，最重要的是讲义气！”,历史上的TA,刘备，字玄德，三国时蜀汉的开国皇帝。事迹见于《三国志·蜀书》。刘备虽是汉朝宗室，但家道早已中落。因平定黄巾起义建功，与关羽、张飞结为兄弟。后来几经起伏，在依附荆州刘表之际，赶上曹操南下，他与孙权联合，在赤壁破曹，奠定了天下三分的局面。夺取益州之后，建立蜀汉政权。《三国志》作者陈寿说刘备弘毅宽厚，善于识人，有刘邦的风范和英雄气量。',\n",
       "   'image': 'http://game.gtimg.cn/images/yxzj/img201606/heroimg/170/170-mobileskin-1.jpg',\n",
       "   'title': '刘备-王者荣耀官网网站',\n",
       "   'url': 'http://pvp.qq.com/web201605/herodetail/170.shtml'}],\n",
       " ['http://pvp.qq.com/web201605/herodetail/171.shtml',\n",
       "  {'content': '张飞-王者荣耀官网网站,禁血狂兽,张飞,生存能力,攻击伤害,技能效果,上手难度,英雄故事,历史上的ta,王者荣耀首页,>,英雄介绍,>,张飞,171,技能介绍,黑暗潜能,冷却值：0,消耗：0,被动：变身前普攻增加微量狂意.变狂后的张飞真身每次施放技能时，都会使周围的地面震动，造成范围减速50%，持续2秒，并且大幅度增加普攻伤害.,张飞的被动技能可以说是神技，变身的张飞就是一个强力坦克输出,画地为牢,冷却值：6,消耗：0,张飞挥扫蛇矛，将四周的英雄击退一段位移造成450/550/650/750/850/950（+100%物理加成）点物理伤害，击中英雄产生3点狂意，额外每命中一个非英雄单位增加1点狂意；入狂的张飞疯狂的砸击面前的敌人，造成450（+100%物理加成）点物理伤害.,技能的伤害在变身前不是很高，更多的是我们需要他的击退效果，击退对面切入的刺客，保护自己的后排，或者打野、打小兵来快速积攒张飞的能量,守护机关,冷却值：10,消耗：0,张飞向指定区域跳跃，运行机关印记，使该区域的友军获得可抵免500/675/850/1025/1200/1375（+47%物理加成）点伤害的护盾，使用即增加3点狂意，如给其他英雄套上护盾额外增加1点狂意；入狂的张飞，向指定区域跳跃，践踏该区域敌军造成380/430/480/530/580/630（+94%物理加成）点物理伤害.,这个技能在张飞在变身前是辅助技能，变身前没有伤害，可以在打团的时候给队友开着来减伤，也可以让张飞逃跑，当然变身后，又是一个很给力的输出技能，变大，2技能切入战场，是一个张飞很有效的组合！,狂兽血性,冷却值：40,消耗：100,张飞狂意达顶峰，展现魔种真身获得巨额护盾，朝前怒吼形成狂风通路，怒吼期间免疫控制，推开通路两边敌人并眩晕通路末端敌人造成500/750/1000（+65%物理加成）点物理伤害，张飞在通路上会获得移动加速.,在张飞进行变身之后，这个技能不仅能够增加自己一个护盾，而且还能够对自己正前方的道路释放一定的技能，对道路两边的敌人造成伤害的同时还会造成一定的眩晕效果.,冷却值：,消耗：,铭文搭配建议,Tips：张飞是坦克，蓝色调和提升最大生命、回血；绿色虚空提供的冷却缩减可以更好多释放技能；红色宿命为变身后输出作保障，最大生命、物理防御还能增加张飞的肉度。,技能加点建议,主升,火焰三尖枪,副升,混天绫.束,召唤师技能,闪现/斩杀,英雄关系,最佳搭档,压制英雄,被压制英雄,最佳搭档,黄忠：黄忠较脆，需要队友对其施加保护，而张飞就是保护黄忠免受伤害的不二人选，当黄忠开大的时候最害怕的就是对手的突进以及集火，而由于张飞的存在，能够为其提供护盾并击飞对手，开大后更能将对手击晕退散，帮助黄忠打出最高输出并保证黄忠免受伤害。,后羿：后羿也是依赖队友保护的英雄之一，同时也是最具嘲讽特色的英雄，所有刺客都想要第一时间击杀后羿，因为后羿的输出极为恐怖。张飞为后羿提供的护盾至少可以抵挡对面刺客的一个技能，同时一技能能够将对手与后羿保持一定距离，而大招更能够帮助后羿提供更好的输出环境，最大化后羿的输出。,压制英雄,王昭君：拥有张飞的阵容不惧怕王昭君，因为张飞的所有技能都是为了打断王昭君大招而生。当王昭君放大的时候，张飞只需要跳进去击飞就行，如果没有击飞，还有大招的眩晕打断。,墨子：墨子也是极其惧怕张飞打断的英雄之一，墨子开大，张飞只需要跳过去击飞，远距离情况下，也可以大招打断保护被控制的队友。,被压制英雄,张飞单人作战能力不强，遇到花木兰这种爆发刺客还是撤退吧,庄周的大招能缓解张飞技能的控制,出装建议,推荐出装一,推荐出装二,Tips：这是全肉装坦克的出装方法，团战技能有一定输出能力，也有非常强的承伤能力,Tips：多以军团荣耀、冰脉护手等装备作为一个团队型的坦克，能对队友起到强大的保护作用,英雄攻略,更多,英雄故事,奇特的蛇刃刻刀下灵巧移动着。精巧的部件在机关师的手中逐渐拼合出罗盘的形状。,机关师呆在这暗无天日的地下室中，五年了。,五年前的夜晚历历在目。亲切的邻人，往来的朋友，闻知自己家族携带魔种血统之后，立时化身厉鬼。愚昧的人群手持石块和农具，将全家围困在村子中央。,这个时代，这个人类主宰的时代，流淌着魔种血液的家族，是没有容身之地的。,身后，辛勤劳作的工坊火光冲天。眼前，至亲至爱之人一一倒下。,浑身的血液开始燃烧。锁链晃动，手足变形，袍服下肌肉紧绷，礼仪教化打造的克制，正一点点崩坏……血红的双眼，要将疯狂叫嚣的野兽般的人群吞没。,忽然，人群中分开一条道路。那是蜀地的督邮长官，白日里，还在称赞他打造的机关巧夺天工，此刻是要来处决自己吗？机关师恍惚的想。,但督邮安抚了躁动的人群，将奄奄一息的机关师带回自己的府邸。,时光如流水，五年很快过去。,机关师藏身于恩人府邸的地下，以制作机关来换取栖身之地。他自我囚禁，夜以继日的工作。似乎只有不断组装，调试机关，才能暂且按捺住心中那股足以毁天灭地的仇恨。,随着清脆一声，罗盘在机关师手中透射出光辉，指针开始飞速转动，预示着某个物件的下落。机关师惊讶望着指针停止的方向，双肩耸动，无法抑制的发出了嚎哭般的大笑。,突然来临的督邮，机关的献礼，家族的覆灭，自我的囚禁……还有化为灰烬的工坊，失踪的天书之卷。所有碎片拼合在一起。,一切都是巧妙的安排。将机关师打入地狱，再骗取天书的秘密，救命恩人正是全部阴谋的主使……还有什么怪物，比贪婪的人心更可怕！,昏黄的灯光下，越发苍老的督邮长官，独自擦拭着铁匣。养着那只怪物好些年，仍套不出打开天书的方法。上古的奥秘望而不得，令人懊恼！,夜风吹过，什么滚到了脚下。督邮低头去看。,是头颅……护卫者的头颅。,“呵，果然……枷锁也锁不住，养都养不熟的野兽。”似乎预料到下场的督邮，发出惨淡的叹息。,“最凶残的野兽，不是你我吗？”机关师的身形不断膨胀，投射出庞大的暗影。,蛇矛起，血光落。,“心有猛虎！”,历史上的TA,张飞，字翼德，三国时蜀汉的名将。他跟关羽一道，是刘备起家的班底成员。以勇力闻名，冲锋陷阵，总在头里。据《三国志》记载，他仅仅凭几十骑，就敢拒敌于长坂坡。跟关羽一样，有万人敌的美名。在《三国演义》中，他是一个敢爱敢恨、嫉恶如仇的角色，善待士大夫，但不爱惜士卒。',\n",
       "   'image': 'http://game.gtimg.cn/images/yxzj/img201606/heroimg/171/171-mobileskin-1.jpg',\n",
       "   'title': '张飞-王者荣耀官网网站',\n",
       "   'url': 'http://pvp.qq.com/web201605/herodetail/171.shtml'}],\n",
       " ['http://pvp.qq.com/web201605/herodetail/173.shtml',\n",
       "  {'content': '李元芳-王者荣耀官网网站,王都密探,李元芳,生存能力,攻击伤害,技能效果,上手难度,英雄故事,历史上的ta,王者荣耀首页,>,英雄介绍,>,李元芳,173,技能介绍,密探谛听,冷却值：0,消耗：0,被动：元芳可爱的大耳朵可以帮助元芳周期性谛听周围的动向.获得并捕捉敌方英雄的踪迹，获得敌方视野1秒，该效果对同一单位6秒内只能生效一次。,李元芳因为被动的存在，使得他能快速清理兵线和野怪，射程的优势也能保证他一定的安全性,谍影重重,冷却值：10/9.6/9.2/8.8/8.4/8,消耗：60,暗印标记敌方英雄或者建筑，4秒后爆炸造成160/180/200/220/240/260(+77%物理加成）点范围内物理伤害.暗印期间元芳对目标的每次普攻都会增加额外160/180/200/220/240/260（+77%物理加成）点物理伤害，最高叠满4层直接引爆暗印.并且施法后4秒内提升50%攻速及75点攻击射程。,暗印一旦挂上，延时爆炸的威胁使得敌人会非常紧张.团战时，暗印的爆炸范围伤害很容易伤到附近的敌人，造成不错的AOE伤害,刃遁,冷却值：12/11.2/10.4/9.6/8.8/8,消耗：80,元芳放出飞轮，然后施展鬼魅身法终点现身接住飞轮，地遁阶段元芳将无法被选中，飞轮会对敌人造成减速和80/90/100/110/120/130（+67%物理加成）点物理伤害，经过的地面留下燃痕，持续对敌人造成伤害和减速，每0.25秒造成30/36/42/48/54/60（+25%物理加成）点物理伤害.,元芳进攻时，当刃盾的飞轮冲撞到敌人时，会对敌人造成减速，这时候一旦挂上暗印，敌人很难逃跑.遇到GANK时，飞轮作为位移逃走，飞轮留下的燃痕可以让人无法从最近的路来追赶元芳,无间刃风,冷却值：36/30/24,消耗：130,元芳平扔出飞轮到指定位置旋转卷起利刃风暴，利刃撞击目标中造成215/275/335（+75%物理加成）点物理伤害，持续数秒，对范围内的敌人造成持续减速和刃风，每0.5秒造成75/93/111（+30%物理加成）点物理伤害，内圈会受到双倍的刃伤.刃伤也可叠加暗印层数。,这个技能除了是一个持续的大范围伤害技能外，更是一个战略性的封路技能，你完全可以把它当作你输出的堡垒，肆意的在刃风的区域走位输出，而敌人进入这个区域会深陷泥潭，灵活的利用这个技能是玩好李元芳的秘诀,冷却值：,消耗：,铭文搭配建议,Tips：隐匿和红月提升物理攻击，鹰眼的物理穿透能够让李元芳技能伤害更高。隐匿的10%的移速可以帮李元芳在初期更好的gank，是追杀与逃生的利器。,技能加点建议,主升,火焰三尖枪,副升,混天绫.束,召唤师技能,闪现/斩杀,英雄关系,最佳搭档,压制英雄,被压制英雄,最佳搭档,白起：作为目前版本唯一有嘲讽技能的英雄，白起的控制和坦克效果极强，李元芳的一技能飞镖拥有AOE爆炸效果，如果敌方英雄聚在一起，很容易打出较高的爆炸伤害，元芳的大招也有比较强的AOE伤害，白起如果2技能配合大招同时嘲讽控制敌方多名英雄，李元芳1技能接大招可以轻松打出爆炸伤害。,墨子：李元芳到了后期，他的输出和射程相对其他射手会差一些，拥有高额伤害和远程poke控制能力的墨子可以为李元芳补足短板，墨子的大招同时控制多人也可以配合李元芳完成爆炸输出。,压制英雄,兰陵王：兰陵王的核心玩法是隐身后先手秒杀敌方核心输出点，有李元芳的被动在可以轻松探测到敌方兰陵王的位置和动态，强大的反隐效果可以让兰陵王失去gank己方核心输出位的机会，躲避好兰陵王的2技能后站撸也可以轻松击杀兰陵王。,阿轲：阿轲前期比较依赖野区资源需要发育，4级前很难有gank抓人能力，而李元芳可可以快速清线支援，李元芳被动的监听效果也可以限制阿轲的大招隐身效果，在被阿轲gank时不光可以观察到敌方动向，还可以利用大招减速和2技能位移与阿轲拉开距离，1技能后的攻速提升可以让李元芳在短时间内打出高额伤害。,被压制英雄,兰陵王的隐身和秒杀能力很容易接近李元芳将其秒杀,花木兰的超高爆发输出能力能快速击杀走位不慎的元芳,出装建议,推荐出装一,推荐出装二,Tips：全输出装备，团战能打出爆炸伤害，需要较高的操作技巧,Tips：输出装为主，配合魔女斗篷，后期团战中有更强的容错率,英雄攻略,更多,英雄故事,“在下，姓李名元芳，勤勤恳恳，诚实守法的长安城市民。可在看不见的角落里，却被可怕的男人胁迫从事包打听的行当。”,“若我的回答不能让他满意，到手的报酬……就有好戏看了。”,“如你所见，我元芳乃魔种后羿，这对大耳朵就是抹不掉的证明。世间对魔种人人喊打，唯有长安城收留了失去父母的我和兄弟姐妹们。它接纳来自大陆四面八方的旅人和物产，对魔种混血儿也见惯不惊。长安让我能安全的养活自己：混过街头，扫过饭堂，送过快递，掏过水沟。活在长安城，感受它的生命力，身为其中一分子，总能让人拥有无尽的希望。”,“有对大耳朵的好处是，各式各样的谈资会主动飘来：像大陆第一舞姬貂蝉和她的心上人啦，最近又坑了老爹一把的刘禅少爷啦，剑仙和剑圣未来的世纪大战啊……啊，世上怎么会存在这么多羞羞哒的秘密！”,“但……总有些秘密，是你不能窥探的。知道的同时，也可能葬送一生。”,“春夜里明月皎皎。当我倒挂在感业寺的银杏树上，脑补明天的菜谱时，那位老人——太古魔导踏入了寺庙。”,“长辈口中的传说故事，活生生呈现眼前：老人咆哮着，称呼对面的高傲女人为不肖弟子和魔种同党。他赌咒发誓，纵使毁灭长安，也决不让长安的奇迹落入魔种之手。”,“我浑身颤抖。老人，拥有强大力量的老人，他要夺走我唯一的容身之地，他要夺走长安。”,“愤怒，愤怒让我忘记强弱。老人压倒性的力量面前，女人和她的助手处于明显劣势。而老人的后背则完全暴露在我眼前。我毫无思考的死命甩出了护身飞刀。”,“飞刀甚至无法触及老人，但足以引得他回头来。仅仅一眼，我感受到了喉咙被狰狞目光所掐住的窒息感。可他没能杀掉我。瞬间的停滞足以决定战局。女人的咒语完成了，辉煌光芒将老人拖入瞬间的白昼。或许，那不止是女人的力量，或许，被激怒的，还有长安这座城市。”,“尘埃落定。女人先一步离开，可手持令牌的助手先生却在银杏树下冷酷仰望我的藏身之处。我，看到了不该看的事，会被灭口吗？”,“忽然，我想起这家伙真的很眼熟。我曾在某个房梁下，偷看到他默默雕刻的身影。”,“我鼓起勇气大叫着威胁：‘我记得你，还有你的令牌！如果我挂掉，我的弟妹会把这件八卦传遍长安城：令牌背后刻着的名字是……”,“被看破情愫的男人反倒微笑起来，让人不寒而栗：‘你叫什么？’”,“‘元……元芳……’”,“‘知道秘密太多，会付出代价哟。元芳你怎么看？’”,“我付出了代价！他不会让握有他秘密的我有好日子过。现在，我得和那个男人一起，为了守护永远的长安城而战斗。”,“不过，我心甘情愿。”,“秘密的密，探案的探！”,历史上的TA',\n",
       "   'image': 'http://game.gtimg.cn/images/yxzj/img201606/heroimg/173/173-mobileskin-1.jpg',\n",
       "   'title': '李元芳-王者荣耀官网网站',\n",
       "   'url': 'http://pvp.qq.com/web201605/herodetail/173.shtml'}],\n",
       " ['http://pvp.qq.com/web201605/herodetail/174.shtml',\n",
       "  {'content': '虞姬-王者荣耀官网网站,森之风灵,虞姬,生存能力,攻击伤害,技能效果,上手难度,英雄故事,历史上的ta,王者荣耀首页,>,英雄介绍,>,虞姬,174,技能介绍,树神佑护,冷却值：0,消耗：0,被动：脱战后，树神之力加持虞姬下一次普攻为树神束缚造成200(+200%物理加成)点物理伤害并且攻击距离提升，树神束缚对目标造成衰减1.5秒的90%减速,这一技能对于射手来说是一个超强的软性控制，无论是走位失误在野区碰到对方刺客的袭击，或是线上游走gank，都是非常好的撤退和留人技能，在敌人被束缚的时间内，足够虞姬一套技能打出爆炸性的伤害了.,楚歌起,冷却值：5,消耗：50,虞姬蓄力后，发射一支携树神加持的强力弩矢，弩矢对飞行路线上第一个敌人造成365/475/585/695/805/915（+180%物理加成）点物理伤害，后续命中一个敌人衰减10%伤害，最低衰减到60%伤害,无论在线上还是团战中，虞姬都可以用此技能来对对手进行远程消耗，这个技能穿过敌方单位后造成物理伤害，所以团战前消耗到对方更多的敌人会是团战胜利的良好保证.值得注意的是，这个技能蓄力短暂时间后才会施放，所以身为虞姬的操作者需要精准的预判敌人的走位！,大风来,冷却值：15/14/13/12/11/10,消耗：80,增加虞姬30%/36%/42%/48%/54%/60%的移动速度，期间能闪避所有的物理攻击，并在技能开启时，清空自身减速效果,团战中，虞姬一定要保留此技能，等待敌方物理刺客英雄近身切入时施放技能，走位进行疯狂输出.当然，在保证安全的情况下，技能提供的移速加成，也能让你更好的追击敌人，拿下人头！需要注意该技能无法解除控制效果和魔法伤害,阵前舞,冷却值：20/17/14,消耗：100,虞姬冲向目标使敌人短暂晕眩并附带树神束缚的减速效果，然后在后跳过程中对敌人快速射出2支弩失，每支造成220/280/340（+120%物理加成）点物理伤害。后跳过程中免疫控制。,虞姬的这个技能可以将它当作一个位移技能来使用，在虞姬2技能使用后，还能备有一手位移技能，并且造成高额的输出，无疑体现了虞姬超强的生存能力.与此同时，高额的物理伤害通常也作为一个击杀镜头的漂亮收尾,冷却值：,消耗：,铭文搭配建议,Tips：虞姬的伤害来源都来自于技能和被动，所以想在前期就能造成很高的伤害，物理攻击和物理穿透都是非常必要的；攻速和移速也是一个ADC非常关注的属性，所以这套铭文非常适合虞姬这类靠技能的ad英雄。,技能加点建议,主升,火焰三尖枪,副升,混天绫.束,召唤师技能,闪现/斩杀,英雄关系,最佳搭档,压制英雄,被压制英雄,最佳搭档,东皇太一：虞姬的特性，非常害怕刺客型法师切入，所以她需要一个能让她免于法师切入的英雄，而东皇太一就是这样一个非常合适的英雄。由于东皇太一大招的的特性，意味着只要有法师切入，一定会被控制住，而虞姬的高爆发伤害，几乎肯定能击杀来切入的脆皮法师，更能让虞姬在团战中更加肆无忌惮的输出。,妲己：二者都是高爆发英雄，几乎没有任何脆皮刺客能在两者的一套存活，而且两者都有指向性的控制技能，如果两个人同时行动，在后期几乎是见一个秒一个，就算是坦克，在两人技能的轮番轰炸之下也极容易被击杀，可以说一旦碰到这两个组合，就千万不要让游戏拖到后期。,压制英雄,马可波罗：马可波罗的一技能不能穿过小兵或者敌方英雄，而虞姬可以，所以无论是对线消耗，还是清兵线能力，都是虞姬更胜一筹。而且由于虞姬的二技能免受物理伤害，大招的指向性更是能让马可的灵活无处可施。高爆发的虞姬也意味着一套下来能让马可波罗被瞬间击杀。,韩信：韩信是个高机动性英雄，但是面对高爆发加技能指向性加免疫物理伤害的虞姬，被天然克制。虞姬三技能能很好的压制韩信的位移，因为即使韩信位移走了，一旦被锁定，也很有可能会被击杀。,被压制英雄,法师刺客露娜很容易切死虞姬,貂蝉的超高法术伤害和突进能力是虞姬无法抵挡的,出装建议,推荐出装一,推荐出装二,Tips：全输出装备，团战能打出爆炸伤害，需要较高的操作技巧,Tips：输出装为主，配合魔女斗篷，后期团战中有更强的容错率,英雄攻略,更多,英雄故事,大河之畔，依然秉持着太古和自然的信仰。古老的寺院中，树一样的女郎倾听着风的声音成长。她与藤萝和鸟儿为伍，射出的箭附着自然之灵的祝福。她仰慕自己的老师——传奇的太古魔导，坚信全部信仰和力量都是用来守护大河之民们免受魔种的侵蚀。,当太古魔导离开寺院继续寻求对抗魔王的同盟前，吩咐虞姬展开巡游之旅。旅途中，虞姬邂逅了那勇猛无匹的战士。,只有他站出来反抗阴阳家们的残暴，只有他立誓集结大河之域的力量对抗暴秦。虞姬与他并肩作战，忠实执行驱除魔种的使命。相比之下，刘邦那种狡诈贪婪，运用可疑力量的家伙，正像老师预言中威胁大陆的魔王。,阴阳家统治最终崩溃。然而楚汉之地只需要一位王。鸿门宴的谈判破裂后，项羽和刘邦的大军，对峙于名叫垓下的地方。大战前夕，风捎来了师兄张良的邀约。,河畔的丘陵，久违的师兄吐露了残酷的真相：项羽的命运中，只看到无穷无尽的轮回，无穷无尽的黑暗——曾经和张良接触的短暂瞬间，“奇迹”传达了这样的预言。所爱的人，才是立誓所要对抗的人。曾经坚信不移的正义和爱情，轰然崩塌。,相遇，相知，以为的真实其实都是被命运操纵的虚幻。,“你能办到……给予尚未觉醒的魔王致命一击。” 张良如此劝说。“这不正是你长久以来的心愿吗？”,不。,办不到。,无法背叛。,无法背叛内心。,虞姬猛然惶恐的发现，从什么时候开始，那个人比老师的嘱托，比一起长大的师兄更重要了呢？,师兄的面孔变得模糊，幻术的伪装急速褪却。那并非真正的张良，而是不认识男人的脸……恍惚的虞姬意识为神秘力量牵引，这是精心编制的陷阱。虞姬，可怜的虞姬，她不知道，信仰，誓愿乃至引以为豪的自然之力统统无足轻重。成为击破魔王的弱点——就是她自身存在的最大意义。全部命运已在他人的博弈中注定。,项羽陷入了重重围困，一夜的奋战，无法阻止他寻找虞姬……他的伙伴，他的友人，他的所爱。可女郎的身影却从敌人的阵营中漫步而出……被背叛了吗？不，那不是真正的虞姬……感受不到恋慕之人的心跳，面容美丽如同傀儡。虞姬……你可已了解我的心意……握紧的大剑渐渐松开，看着弩箭穿透了自己的身躯。,黑暗中，名叫韩信的男人露出微笑。这正是他等待已久的……一击必杀的时机。,风起云涌。楚汉之地的风暴，能在历史上永久留下姓名的风暴，刮起来了。,谁是螳螂，谁是黄雀？,“风会带走你曾经存在的证明。”,历史上的TA,虞姬，系项羽帐下的美人，什么名目，是妃子还是舞姬，不清楚。《史记》上只记载了虞姬在项羽被围于垓下，四面楚歌之际，为项羽歌舞，唱汉兵已略地，四面皆楚歌。项羽接着放歌：力拔山兮气盖世，时不利兮骓不逝，骓不逝西奈如何，虞兮虞兮奈若何！这就是后世传唱的霸王别姬的故事。感慨悲凉。',\n",
       "   'image': 'http://game.gtimg.cn/images/yxzj/img201606/heroimg/174/174-mobileskin-1.jpg',\n",
       "   'title': '虞姬-王者荣耀官网网站',\n",
       "   'url': 'http://pvp.qq.com/web201605/herodetail/174.shtml'}],\n",
       " ['http://pvp.qq.com/web201605/herodetail/175.shtml',\n",
       "  {'content': '钟馗-王者荣耀官网网站,虚灵城判,钟馗,生存能力,攻击伤害,技能效果,上手难度,英雄故事,历史上的ta,王者荣耀首页,>,英雄介绍,>,钟馗,175,技能介绍,制裁仪式,冷却值：2,消耗：0,被动：受到单次伤害超过当前生命值10%会引发爆炸（2秒内置CD），对500范围内敌人造成40（+40%法术加成）（+68)（最大生命值2%）法术伤害，钟馗死亡后3秒引爆区域，对500范围内敌人造成240（+240%法术加成）（+410）（最大生命值12%）法术伤害.,这个被动技能让钟馗能够无畏的担任起坦克和人肉炸弹的职责，团战可以冲进最密集的交战区域,虚空清道者,冷却值：4,消耗：60,钟馗以虚空之力清除范围内敌人，对其造成200/240/280/320/360/400（+70%法术加成）点法术伤害与减速，在钟馗身边的敌人会受到额外的1.5倍伤害和减速效果.,软性控制技能，减速范围内的敌人，技能CD较短，可以多次施放,湮灭之锁,冷却值：17/16/15/14/13/12,消耗：60,钟馗投出钩锁将敌人拉至面前，并造成700/840/980/1120/1260/1400（+160%法术加成）点法术伤害并为目标添加标记，轮回吞噬对标记单位会造成持续眩晕；被动：钟馗每次击败英雄或助攻会增加自身最大生命值125点，最高20层.,该技能能在很远的位置将对方敌人拉到自己身边，将其秒杀，注意技能有一定前摇，需要预判对手的走位，也可以后手勾，这样能大大提高命中率哦,轮回吞噬,冷却值：40/35/30,消耗：130,短暂延迟后钟馗张开虚空身躯对目标区域敌人进行多次吞噬效果，全中总共可造成2400/3000/3600（+360%法术加成）点法术伤害并产生护盾.,这个技能控制效果十足，命中敌人越多，该效果的伤害收益越大，但有一定施法前摇，需要一定的预判技巧,冷却值：,消耗：,铭文搭配建议,Tips：这套铭文达到了20%的减CD以及较高的法术强度和法术穿透。保证了钟馗的输出能力，配合肉装和输出冷却符文，能够将技能的控制频率提到最高，这一点也保证了钟馗玩法的最大化收益。,技能加点建议,主升,火焰三尖枪,副升,混天绫.束,召唤师技能,闪现/斩杀,英雄关系,最佳搭档,压制英雄,被压制英雄,最佳搭档,打野战士（刘备、木兰）：钟馗依赖二技能的钩子，如果命中敌人，则可以瞬间配合刘备、木兰等爆发高的英雄秒掉。同时基本上是无伤抓人，这一点是任何的抓人套路都无法比拟的。,中单法师（昭君、妲己）：昭君的二技能命中几率较低，需要配合队友，而妲己的输出又过于风险大。所以配合钟馗的技能打出控制技能的连招，一套控到死。同时，对手很少会有反制手段，这一点是能够给团战带来极大收益的。,压制英雄,周瑜：以周瑜为首的缺乏位移的中单英雄基础移速慢，机动性差。钟馗只要钩子命中就可以配合防御塔或是队友轻松秒掉，毫无反制手段。,黄忠：以黄忠为代表的缺乏位移的射手，例如成吉思汗，虞姬，狄仁杰等英雄，机动性差。面对钟馗的钩子无法做出相对应的位移，则会非常难以反制。同时这个思路符合各个段位的水平，都能达到不俗的效果。,被压制英雄,刺客的爆发输出很容易击杀落单的钟馗,花木兰的超高爆发输出能力能快速击杀走位不慎的钟馗,出装建议,推荐出装一,推荐出装二,Tips：这套装备使得不知火舞既有很强的输出能力也能在团战中有较大的容错率，能进行持续的输出,Tips：这套装备使得钟馗作为一个法式坦克，能无畏的冲入战场对对手进行干扰,英雄攻略,更多,英雄故事,关于长安城，学者之间流传着这样的传说：子夜时分，无人敲击的暮鼓回响，叩开那扇神秘之门，那里隐藏着过去的辉光。,这个传说记载在天书中。天书，承载着智慧和历史。所有记载中，最令人着迷的是关世上曾经存在的十二种奇迹：是的，奇迹。就像毁于后羿之手的日之塔，以及大规模杀伤性武器东风祭坛，它们力量的强大，足以改变整个地区的面貌。,是否夫子知晓了这些奇迹的秘密，才委托墨子大师重建长安。据说，这座伟大的城市，被机关城墙和元气炮守卫的雄城，奠基于一块从上古便存在的基石之上。它是驱动长安城所有机关的力量源泉，堪称长安的心脏。,那扇“门”就安放在这基石之上，蛛网密布，风尘仆仆而又毫不起眼。人们自“门”前来来往往，丝毫没有察觉“门”之后，一个造物从很久很久以前开始，便注视着长安城的一举一动。,它沉默聆听着。有人在安放着魔道的封印，有人在偷渡危险的机关，有人在计划诡秘的阴谋……所有都逃不过它的耳目。它永远冷冷地，冷冷地注视着人类来来去去，观察着长安城主宰的更替和日起月落。它不为人间的琐事而动摇，不插手凡人的争论和阴谋。它永远记得自己存在的意义，自己的使命，是守护那块基石，以及建造在这座基石上的城市。也许它不仅是长安的第一个居民，也是长安真正的主人。只要处于长安的城界之内，就没有人可以抵抗它的力量。因为它的力量与长安的心脏紧紧相连。它在，长安就在。,它出现在人类眼前的唯一时刻，是午夜子时。长安从建立之日起，一直实施着严格的宵禁制度。夜晚降临后，人们只能呆在坊内，贯穿长安城的朱雀大街空无一人。等到子时，鼓声响起，门会打开。它开始巡视它的城市，清扫任何被它判断为魑魅魍魉的生命体：那些试图破坏长安的家伙们。它庞大的身躯，贯通到远古的混沌，足以吞噬任何反抗者，并将他们扔入永久的黑暗中。,没错，这才是长安之鬼的真面目。远远目睹它身影的人类以讹传讹，视它为“鬼”。殊不知，在它的眼中，试图挑战它，挑战长安城的家伙，才是跳梁小鬼。,纵使如此，仍有许多人摸索着，试图找出打倒它的方法。他们深深了解它的可怕，但即使这种恐惧也战胜不了人性中的欲望。令他们如痴如醉疯狂渴望的，是长安管理人所身处的那扇神秘之门。这“门”通往太多，太多令人垂涎的奥秘：机关，魔道，永生，时光，以及……根源的智慧。,有多少人为了寻求这份智慧前赴后继葬身于虚空中？它早已不再记数。垃圾，就该呆在垃圾桶里。,“传说中的长安城管，登场！”,历史上的TA,唐代传奇中的人物。《唐逸史》上说，钟馗原是终南山人，在唐明皇时，因相貌丑陋而科举考试不中，羞愧之下触殿身亡，皇帝赐官衣安葬。他感恩发誓要除鬼。还有传说说他身死之后，唐明皇梦见了一个相貌奇丑之人在捉鬼，于是命画师吴道子画像，挂在公众镇鬼。所以，民间镇鬼去鬼，常挂钟馗像。京剧有钟馗嫁妹的剧目。',\n",
       "   'image': 'http://game.gtimg.cn/images/yxzj/img201606/heroimg/175/175-mobileskin-1.jpg',\n",
       "   'title': '钟馗-王者荣耀官网网站',\n",
       "   'url': 'http://pvp.qq.com/web201605/herodetail/175.shtml'}],\n",
       " ['http://pvp.qq.com/web201605/herodetail/177.shtml',\n",
       "  {'content': '成吉思汗-王者荣耀官网网站,苍狼末裔,成吉思汗,生存能力,攻击伤害,技能效果,上手难度,英雄故事,历史上的ta,王者荣耀首页,>,英雄介绍,>,成吉思汗,177,技能介绍,追猎,冷却值：4,消耗：0,被动：成吉思汗穿越草丛时会短暂提升移动速度，并强化短时内下一次普攻射出两箭(该效果有4秒冷却)，每支箭矢造成0（+65%物理加成）点物理伤害,这个技能使得成吉思汗在野区作战能力与机动性十足，利用草丛移速优势能更好的追击敌人或快速撤退,鹰眼,冷却值：16/14/12/10/8/6,消耗：80,成吉思汗释放猎鹰侦查，照亮周围区域并获取其中敌人的视野，持续5秒.可准备2只猎鹰.被动：箭矢第3次伤害同一目标时会额外造成80/160/240/320/400/480（+40%物理加成）点物理伤害,在对局中，1技能可以用来照亮附近的视野，对于防GANK有非常好的效果，在攻击敌人时，尽量打出三发箭矢在同一名敌人身上，以造成更高的伤害,百兽陷阱,冷却值：10/9/8/7/6/5,消耗：60,投掷最多存在2分钟的陷阱，陷阱被敌人触发后生成减速30%的区域，暴露其中敌人视野，短暂延迟后对区域内造成360/432/504/576/648/720（+120%物理加成）点物理伤害。最多同时放置2个陷阱，未被触发的陷阱落地2秒后隐形,成吉思汗可以放置陷阱在关键的通道上，限制敌人走位，敌人触发陷阱后会减速并暴露视野.,可汗狂猎,冷却值：5/4.5/4,消耗：30,成吉思汗骑行中对敌人射出箭矢造成160/240/320（+100%物理加成）点物理伤害，触发普攻法球效果并可以暴击。可储备5次使用次数，并随时间获取使用次数。,成吉思汗可以累积多支箭矢，箭矢CD非常短可以进行持续输出，配合普通攻击施放效果更佳,冷却值：,消耗：,铭文搭配建议,Tips：成吉思汗最大的优势在草丛作战的全面性，无论是移速，视野提供都尤为出色，狩猎的移速和攻速可以提升机动性，穿透效果可以确保前中期的伤害足够，红色暴击是博伤害的玩法，前中期一旦出现暴击可以达到非常高的收益。,技能加点建议,主升,火焰三尖枪,副升,混天绫.束,召唤师技能,闪现/斩杀,英雄关系,最佳搭档,压制英雄,被压制英雄,最佳搭档,牛魔：牛魔被动的双抗加成对相对脆皮的成吉思汗来说提升十分明显，成吉思汗的出装中基本很少出到防御类装备，双抗的加成可以很好的弥补这一点；两个控制技能也能很好的保护到成吉思汗，即使对面突进比较多，也能救成吉思汗与水火之中。,张飞：在团战中，张飞大招可推开并眩晕对方英雄突进切入英雄，对成吉思汗产生很好的保护效果，后续的减速配合成吉思汗的草丛加移速，可以为成吉思汗提供良好的输出环境，让成吉思汗轻松打出成吨的伤害。,压制英雄,兰陵王：成吉思汗对兰陵王的压制主要体现在一技能的视野对兰陵王大招隐身的针对，使用1技能查看视野可以捕捉到兰陵王的位置，对于自己和己方输出英雄的安全都可以保障。成吉思汗本身对野区有强大压制能力令，利用1技能和2技能的配合，频繁入侵兰陵王野区也可以帮助队友快速累积优势。,阿轲：兰陵王一技能和二技能都能让开启隐身的阿轲无所遁形，以隐身切人为主的阿轲无法通过隐身走位靠近我方输出英雄。团战中，企图用大招进场的阿轲会瞬间暴露就成为集火目标。,被压制英雄,兰陵王的隐身和秒杀能力很容易接近成吉思汗将其秒杀,花木兰的超高爆发输出能力能快速击杀走位不慎的成吉思汗,出装建议,推荐出装一,推荐出装二,Tips：全输出装备，团战能打出爆炸伤害，需要较高的操作技巧,Tips：输出装为主，配合魔女斗篷，后期团战中有更强的容错率,英雄攻略,更多,英雄故事,千年之前，太古的迁徙者经过凛冬之海，遭遇了来自深渊的苍狼。惨烈的战斗后，一些人得以成功的继续前进，另一些人则因为伤病被迫留下来，他们臣服于苍狼，成为它的子民。苍狼的后羿，成为北夷人的先祖。,因为这样的传说，这样的血统，北夷人被视为蛮荒之民和血脉不纯正者。他们只能龟缩在极寒之地，依靠放牧和掠夺艰难求生，甚至在荒年分裂为好几个部族，为了争夺粮食自相残杀或是向其他国家乞求施舍。唯独一致的是苦苦渴盼神明的解救，渴盼着先祖重新降临大地。,冬夜，部落的帐篷中诞生了一个婴儿。花剌子模的商人带来大巫的预言：占卜这个孩童的命运，只到深沉的黑暗。他是带来祸乱的灾厄之子吗？族长终于命人将婴儿遗弃到冰结的湖上。可狼群长啸着聚集起来，它们带走了婴儿。,花剌子模，西域诸国之一。他们恐惧强盛的大唐，却鄙夷野蛮又弱小的北夷部族，用粮食挑唆他们争斗，为自己卑鄙的夺取利益。他们的国王尤其疯狂热衷于魔道，花费了数十年以太古的奥秘制造出强力的魔种，放任它们进入草原掠食落单的北夷人成长。他幻想着复兴魔种的军队，去与邻近的楼兰，乃至大唐相抗衡。,但放出的魔种再没有归来。它们在草原追猎人类之时，陷入了成千上百苍狼的包围。面对力量，身躯十倍于己的魔种，狼群却毫无畏惧。它们灵活的躲避伤害，前仆后继的朝着魔种的弱点攻击——听从那骑在庞大头狼上的青年的指挥，展开了巧妙的猎杀行动。,传说中的先祖自深渊归来了吗？名叫铁木真的苍狼之子摒除了魔种的威胁，如同闪电般赢得了北夷青年们的拥戴和崇敬。在他的率领下，很快群狼和铁骑开始南下。曾经不可一世的花剌子模陷入了灭顶的恐惧。灾厄，深渊的灾厄……信仰魔道的国王颤抖着，绝望自尽。铁木真望着欢呼解放的城市，再次证实了自己的力量。,花剌子模被吞并，使许多部落臣服于铁木真，奉他为王——成吉思汗。金帐汗国建立的盛大典礼上，甚至收到来自西方的异乡人的敬献。他拜见了汗王，试图说服他联合起来征服东方的唐国。为什么不呢？他们有着共同的渊源，而且利益更为一致。,成吉思汗的目光却越过异乡人，投向凛冬之海的夜空。他是苍狼之子，他曾在草原之灵的指引下，自深渊中跋涉，他比世上大多数人都了解深渊和黑暗的秘密。异乡人不知道的是，他并非为凡人的欲望而生，命中注定将要击碎的，是曾凝望这个世界的星辰。,“当你凝视深渊的时候 深渊也在凝视你。”,历史上的TA,成吉思汗，本名孛儿只斤·铁木真，尊号成吉思汗，事迹见于《元史》《草原帝国》，以及各种蒙古史。铁木真是蒙古人杰出的领袖，是他开创了蒙人的基业，使其后世子孙建立了一个横跨欧亚的大帝国。铁木真微时，父亲被人害死，所在的部落已经衰落。他凭着勇气和智慧，一点点积累力量，一步步崛起，最终统一了草原蒙古人的各个部落，建立了一个庞大的草原帝国。他在世的时候，已经征服了中亚和金朝，他的孙子忽必烈征服了中原，建立了元朝。',\n",
       "   'image': 'http://game.gtimg.cn/images/yxzj/img201606/heroimg/177/177-mobileskin-1.jpg',\n",
       "   'title': '成吉思汗-王者荣耀官网网站',\n",
       "   'url': 'http://pvp.qq.com/web201605/herodetail/177.shtml'}],\n",
       " ['http://pvp.qq.com/web201605/herodetail/178.shtml',\n",
       "  {'content': '杨戬-王者荣耀官网网站,根源之目,杨戬,生存能力,攻击伤害,技能效果,上手难度,英雄故事,历史上的ta,王者荣耀首页,>,英雄介绍,>,杨戬,178,技能介绍,神智侵蚀,冷却值：0,消耗：0,被动：附近敌方英雄数量会减低杨戬所受控制时间10%，至多30%,杨戬身边的敌方英雄越多，所受到的控制时间越低，这使得杨戬在对战时更加的灵动,逆转乾坤,冷却值：8/7.6/7.2/6.8/6.4/6,消耗：60,杨戬召唤哮天犬朝指定方向发起冲锋，对触碰的敌人造成150/180/210/240/270/300（+70%物理加成）点物理伤害。再次释放该技能，杨戬将冲向被哮天犬标记的敌人发起一次攻击，造成225（+105%物理加成）点物理伤害并附加目标已损生命值16%的物理伤害，如果杨戬直接击杀目标，将立即刷新该技能冷却时间。,此技能为非指向性技能，需要预判对手的走位，杨戬可以根据战场情况在第一段技能命中后立即瞬移到敌人身后进行攻击，也可以等敌方位移技能交出后再使用第二段技能瞬移到敌人身后进行攻击，这样更能提升他的击杀率；在将目标击杀后，还可以刷新技能冷却时间；,虚妄破灭,冷却值：12/11.6/11.2/10.8/10.4/10,消耗：70,杨戬横扫面前的区域，对敌人造成250/300/350/400/450/500（+100%物理加成）点物理伤害，并造成减速效果，如果目标生命值百分比高于杨戬，将会受到晕眩效果。命中敌人后，强化自身普通攻击附带60/96/132/168/204/240（+30%物理加成）点真实伤害，持续5秒,AOE伤害技能，能减速范围内的敌人，对生命值百分比高于杨戬的敌人造成眩晕效果，所以在杨戬血量很低时这个技能可以对范围内的敌人造成群体眩晕效果,根源之目,冷却值：30/25/20,消耗：100,杨戬利用天眼释放激光，攻击一条路径上的敌人，造成250/315/380（+85%物理加成）点物理伤害。激光命中敌人时，杨戬会获得治疗，治疗量相当于伤害值的50%。杨戬可以在短时间内连续释放3次，第三次将会发出3道激光，同时被多道激光命中时只会造成30%的伤害,这个技能需要杨戬预判敌人的走位，可造成可观的AOE伤害，并且杨戬造成的伤害越高，能对自己有更强的治疗效果，第三段技能在敌人聚集时施放会有很高的收益,冷却值：,消耗：,铭文搭配建议,Tips：这套铭文的属性伤害很高。物理穿透保证了他的伤害。10%的移速加成则使他在游走gank和团战支援时更加迅速。10%的攻速加成则是二技能普攻会带有真实伤害。,技能加点建议,主升,火焰三尖枪,副升,混天绫.束,召唤师技能,闪现/斩杀,英雄关系,最佳搭档,压制英雄,被压制英雄,最佳搭档,高渐离：团战处理上，这两个英雄都可以打先手和打后手，而且都具有较高的AOE伤害，并且都可以进行战场收割。所以在团战胜率上有很好的的提高。在技能配合上，在gank时，杨戬的二技能可以对敌方英雄造成减速或者眩晕，这样使得高渐离大招的有效伤害更加可观，最后杨戬的一技能将敌方英雄带走。,李白：团战处理上，首先靠李白大招伤害打出一波输出，然后杨戬利用一技能的斩杀效果，配合队友可以成功将其击杀。技能配合上，杨戬和李白游走gank能力是很强，李白的两段一技能和二技能的减速，配合杨戬的二技能，可以打出很好的技能combo，从而在留人的效果上非常明显，并且使得李白大招更容易解锁。,压制英雄,鲁班：对线上，杨戬作为上单英雄时，回复能力和控制效果强，抗压抗打。在面对鲁班时，不仅很难被鲁班击杀，而且还有反杀鲁班的情况。团战时，杨戬的一技能若是标中鲁班，没有位移的鲁班就很难逃脱，容易被被一套带走，很大程度上抑制了鲁班在团战中的发挥。,关羽：在面对关羽时，利用二技能的减速或者眩晕可以很好的将关羽的加速效果打断，而且在面对残血奔跑中的关羽，一技能一旦标中，就可以瞬间位移到他身边将其击杀。,被压制英雄,孙尚香可以通过位移轻松躲过杨戬的技能,貂蝉能在躲避技能同时很好的风筝杨戬,出装建议,推荐出装一,推荐出装二,Tips：杨戬后期有足够的输出和承受伤害的能力，破军配合1技能被动，收割能力超强,Tips：前中期以输出装为主，后期补上一定的血量装备以保证持续输出能力,英雄攻略,更多,英雄故事,少年杨戬有个秘密，谁也不知道的秘密。额头内埋藏着“眼”。从外表看不出来，但无时不能深刻感知到其中蕴含的力量。没有人告诉他这是什么，但肯定有别于正常的人类。这使他小心翼翼远离人群。人们在背后羡慕少年好运，议论他的冷漠和高傲，花痴他的优雅和力量，可他却在温暖的夕阳下，艳羡注视着无忧无虑的人类小孩，看那脾气暴烈的一根筋家伙与人打架喧哗。这种时候与自己为伴的，唯有捡来的流浪小狗。,他和许多出身高贵的少年一样，从小被送到起源之地学习魔道。作为不世出的天才最终脱颖而出，成为被女娲选中的继承人。,“你是我的继承人。这个世界，总有一天，会交由你来守护。”威严的导师女娲手指无比精妙的机关，对少年说：“你，会是守护这人间的意志化身。”眼前的机关正是被称为“方舟”的神物核心。因它的着陆，脚下的土地才拥有了起源之地的名号。,“要比我更努力的守护这个人间！……不要，让悲剧再次发生。”,严厉的话语长久回响在少年心中。“眼”里的力量随之涌动。,辉煌的起源之地以外，魔种反抗时有发生。少年逐渐成长为青年，奉命巡视人间狩猎魔种。他的智谋，他的魔道，所向披靡。狩猎让内心变得冷硬，可额头上看不见的眼时刻提醒他：我是谁？,知道答案在封神战争爆发前，女娲授予他绝密的使命。“你的忠诚令人印象深刻。所以证明自己，接受最后试练。”给予的任务，竟然是在战争最后关头终结太古魔导。人间正自女娲手中失控，纣王之后，她不愿意看到下一个独立的君王强大，无论他支持魔种还是人类。为此剪除他的助力是必要举措。,“运用你的‘眼’，以及你所目睹的根源知识，代替我守卫人间。”女娲强调。她早已失去耐心，认定大陆正在愚蠢的魔种和人类的争斗中脱离正轨，逐渐崩坏。可这是她的人间！她所竭尽全力重现的文明！,力量日渐衰退的女娲，没有把握胜过偏执而强横的太古魔导。如今她所唯一能信任的，唯有超智慧生命体与人类后羿的杨戬。杨戬捂住额头。原来秘密从来不是秘密，秘密甚至是秘密甚至是计划的一部分。,他别无选择，唯有加入姜子牙的大军。完全蜕变的“眼”作为超智慧生命体的象征不再被隐藏，那份力量蠢蠢欲动，令他愈发强大。,但是仍然出现了意外。意外就是与那暴烈的家伙——哪吒的重逢。一根筋的执着一如既往让人头痛，战场上不要命的劲头感染了整个阵营。经历脱胎换骨的蜕变后，哪吒强大到让青年冷静思考，要顺利执行任务，是否需要提前清除掉他。,牧野荒原上的战前巡视，两人遭遇了纣王军队的埋伏。精疲力竭胜利的时刻，青年抓住了绝妙的机会，几乎在他欲出手的同时，哪吒替自己挡住了致命的一击。伤痕累累的当事人却若无其事的望着远处的防线，兴致勃勃道：“明天开战，这里都交给我来守护！他们不会踏过一步。”,青年忽然想起，这家伙在海边的故乡，已淹没于滔天巨浪中。听说为了执行当权者的命令，彻底清除海中魔种，人们孤注一掷的以淹没全城的代价来设下埋伏。当权者的所作所为，真的是在“守护”这个人间吗？她深入骨髓的，究竟是所谓“守护”，抑或不过是独拥旧日理想的执念？,这个世界，也许并不像当权者以为的那样孱弱。它美丽，非凡，充满生机。纵使被战火摧毁得面目全非，也会自次年的春日复苏。这片大陆，是全新的世界，全新的土地。它有着自己的人间，自己的原生人类，自己的意志和生命，而非某颗旧日星球的替代品。,“嘿，有兴趣跟我搞点大事吗？”哪吒转过头问。,青年不由自主的点了点头。,明天，会是怎样的一天呢？,青年与同伴继续巡视防线。可是沉寂已久的血，似乎逐渐开始燃烧起来。,“执行人间的意志！”,历史上的TA,杨戬，神话人物。系《封神演义》根据民间二郎神的传说，塑造的一个神话人物。在《封神演义》中，他是正道这边的神仙。系玉鼎真人的徒弟，会七十二变，使用三尖两刃刀，擅长八九玄功，有金刚不坏之身。是姜子牙门下一员得力的大将。《西游记》里的二郎神，说的也是杨戬。',\n",
       "   'image': 'http://game.gtimg.cn/images/yxzj/img201606/heroimg/178/178-mobileskin-1.jpg',\n",
       "   'title': '杨戬-王者荣耀官网网站',\n",
       "   'url': 'http://pvp.qq.com/web201605/herodetail/178.shtml'}],\n",
       " ['http://pvp.qq.com/web201605/herodetail/183.shtml',\n",
       "  {'content': '雅典娜-王者荣耀官网网站,圣域余晖,雅典娜,生存能力,攻击伤害,技能效果,上手难度,英雄故事,历史上的ta,王者荣耀首页,>,英雄介绍,>,雅典娜,183,技能介绍,真神觉醒,冷却值：0,消耗：0,被动：雅典娜死亡后在当前位置觉醒真身，以真身形态继续移动，对双方都可视；并在真身位置复活，向着雅典娜移动的友军英雄将会获得加速效果；作为造物主的古神，雅典娜对野怪/小兵造成额外25%的伤害。,雅典娜在死亡后可以充当一个移动的视野侦查，为队友提供视野，在复活时一定要选择好复活位置，以免被敌方再次击杀.,神圣进军,冷却值：6,消耗：60,雅典娜举盾向前，造成290/350/410/470/530/590（+63%物理加成）点法术伤害与击退，并生成一个持续1秒的护盾可抵免375/465/555/645/735/825（+82%物理加成）点伤害，护盾持续时间之内雅典娜免疫控制。,这个技能可以使雅典娜进行一个较短距离的突进，对路径上的敌人造成击退效果，能同时生成护盾抵挡伤害，如果护盾被打破，那么雅典娜会受到眩晕效果，所以需要灵活使用这个特性.,贯穿之枪,冷却值：6/5.8/5.6/5.4/5.2/5,消耗：60,雅典娜向指定方向跳跃，并使得下一次普通攻击强化为一个非常强大的枪刺，造成290/350/410/470/530/590（+145%物理加成）点物理伤害；对英雄连续的第三次枪刺将贯穿目标，造成目标已损失生命25%的物理伤害，1、3技能的护盾命中会减少2技能4秒的冷却时间,这个技能是雅典娜重要的突进技能，主动使用技能位移后使用普攻可以再次突进造成枪刺伤害，逃命时也可以使用技能进行位移逃跑哦！,敬畏圣盾,冷却值：15.0/12.0/9.0,消耗：90,雅典娜举起圣盾，产生一个巨大的护盾持续1.5秒可抵免1100/1650/2200（+150%物理加成）点伤害，护盾持续过程中免疫控制，1.5秒后圣盾碎裂对范围内敌人造成450/650/850（+150%物理加成）点法术伤害与减速效果。,这个技能产生的护盾能吸收大量的伤害，并且效果结束后造成AOE伤害；但需要注意的是，这个技能最好是配合突进技能进场后在团战混战中心释放能吸收大量伤害和大范围的减速效果.,冷却值：,消耗：,铭文搭配建议,Tips：红色选择异变，绿色选择鹰眼，增加物理攻击力和物理穿透，可以最大程度增加雅典娜前期伤害，提高发育效率。蓝色选择狩猎，增加10%攻速和10%移速，提高攻速可以帮助雅典娜的连招打的更加流畅。,技能加点建议,主升,火焰三尖枪,副升,混天绫.束,召唤师技能,闪现/斩杀,英雄关系,最佳搭档,压制英雄,被压制英雄,最佳搭档,达摩：雅典娜如果要打出完整的连招，需要冗长的操作，期间控制较少，并且大招是个固定不动的技能，因此如果能配合一个有强力长时间控制的近战英雄，将会有非常好的gank效率。达摩的控制很足，控制时间很长，符合雅典娜的需求，达摩的大招虽然会改变敌人的位置，但对雅典娜的超高移动性来说不是问题。,橘右京：雅典娜的机动性很强，两者配合时可让雅典娜先追上敌人，用一技能反推，此时进入橘右京距离攻击范围内，接上控制期间雅典娜开出大招，打出完整连招，从而击杀敌人。两人的爆发力很强，控制时间虽然不长，但是衔接起来很流畅，很容易打出很好的配合效果。,压制英雄,达摩：雅典娜的免控属性让达摩非常难击飞她，从而无法解锁大招第二段伤害。雅典娜的一技能和三技能都是法术伤害，也使得达摩被动的物理防御无法减免这部分伤害，受到一定程度的克制。,兰陵王：雅典娜的一技能和三技能都可以提供护盾和免控，运用得当可以抵挡兰陵王二技能的二段伤害，以及眩晕效果。在角色定位上，兰陵王属于刺客，身板较弱，而雅典娜是半肉战士，并且可以让兰陵王二技能大部分效果无效化。在机动性上，雅典娜的移速比兰陵王还快，位移技能也更多，从总体上对兰陵王进行克制。,被压制英雄,孙膑的大招沉默效果和控制很可能使得雅典娜进场后放不出技能，从而毫无作为,关羽可以快速推开团战入场后的雅典娜,出装建议,推荐出装一,推荐出装二,Tips：这套装备使得后期雅典娜具有很强的承伤能力，并且输出可观，能黏住敌方后排输出,Tips：这套装备在后期雅典娜需要切入敌方后排，对敌方后排进行持续输出，需要一定的操作技巧,英雄攻略,更多,英雄故事,听说过幽灵吗？,幽灵徘徊在古老的密林中，那里还残留着古老旧神信仰的遗迹。它依旧巡视着过去的领地，制裁任何踏入禁域的人。,少女们在笑谈中系好铠甲，手持剑刃相互比划。唯有自圣骑士团的严苛训练中脱颖而出，才能与亚瑟大人一道并肩作战，守卫勇士之地。,她们专注于训练，没有注意到她们之中武艺最出色者收起了剑刃。她离开训练场，意志反而比参与过去所有的比赛都更坚定。,她下定决心，要去挑战那强大的对手——禁域的幽灵。,是的，她曾亲眼目睹幽灵。她出身于荣耀的骑士家族，守卫勇士之地已经如同信仰般铭刻入了血脉。一个月前，她在武道大会的预选中赢得头名，荣获与骑士团夜间巡守的机会。就在那夜，她遇见了幽灵。,穿透森林的月光照亮崎岖的小路，不知不觉，她远离同伴。子夜的迷雾中，影子般的战士凝望着她，那是双冰冷，苍白的眼睛。,瞬时间，身为武者的本能令她抽剑进攻。她对自己的天赋很有信心，而对方同样精通战斗。枪尖撞击着铁剑，几乎令她招架不住。天性中渴望胜利的欲望被激发出来了！她忘掉了巡逻，忘掉了危险，她只想竭尽自己的力量，技巧，去赢过对方！,她做到了。月光照亮这场决斗，直到另外一方缓缓倒下。那一瞬间，她看到了奇异的景象：缓缓着陆的方舟，坚定的决裂，跨越整个大陆的迁徙以及离去的苍狼……还有什么？还有新的荣光降临，那是无比璀璨，从未见过的勇士之地！,从那夜起，她反复做着同一个梦。梦中的光辉如此真实鲜活。与此同时，从未有过的战斗热情被激发了。想要夺取胜利，想要唤回光辉美好的时代。而当晨曦的曙光降临，她真的发现自己手握利刃，仿佛时刻准备着战斗。,为了摒除噩梦，女战士尝试彻夜不眠的修炼，但总有一个声音在呼唤。古老的语言，听不懂的呢喃，却与她的心跳如此合拍。战斗，战斗，战斗！为了璀璨而荣光的勇士之地！就像身体里寄宿了另一个自我，告诉她这才是她真正的信仰。,是幽灵的记忆吗？骄傲，不甘，呼唤……她的内心荡漾起冲动，想要了解关于这片土地的全部。,幽暗密林的尽头，幽灵静静等待着。只是这一次，“她”的铠甲更加明亮，更加夺目，就像——反复梦见的那片光辉。,她们沉默的交锋。对手却焕然一新般的无比强大，完全将她压制。她用尽了技巧抵抗，且战且退，整整一夜，直到无力跪坐在地面，长枪的枪尖抵近心脏时，才注意到日出的第一丝阳光，正洒在自己的身上，周围是沉默的废墟——传说中的，古老旧神信仰的所在。,“我，雅典娜，绝对的信仰。”,那沉默的对手宣告。长枪携带着太阳的光辉，令人炫目。,忽然女战士明白过来，那不是什么幽灵，那是过去的神祇。而自己，是被选中的继承者。,从未感受过的宏大力量融入了肢体。“幽灵”，不，应该说是雅典娜的记忆和力量与女战士的身躯完全融为一体。方舟，迁徙，苍狼，璀璨的勇士之地，还有——为了捍卫过去的璀璨的战斗！那重获新生的女战士，或者说：重获新生的雅典娜缓缓站起身，她的铠甲无比夺目，那是沐浴过太古光辉的矿石所打造。她的长枪无比锋利，那是由胜利和荣光所铸就的力量。,现在，她是新生的雅典娜了。,她的时代，即将卷土重来！,“委身于时光，制裁以死亡！”,历史上的TA,出自荷马史诗中的奥林匹克神山上的诸神。雅典娜系智慧女神，据说是从大神宙斯的大脑中生出来的，一出生就全副武装，充满智慧。古希腊最著名的城邦雅典，以她的名字命名。著名的特洛伊战争，也跟她有关。爱神帮助特洛伊王子劫走了希腊美女海伦，而雅典娜帮助希腊城邦联盟最终攻破了特洛伊城。',\n",
       "   'image': 'http://game.gtimg.cn/images/yxzj/img201606/heroimg/183/183-mobileskin-1.jpg',\n",
       "   'title': '雅典娜-王者荣耀官网网站',\n",
       "   'url': 'http://pvp.qq.com/web201605/herodetail/183.shtml'}],\n",
       " ['http://pvp.qq.com/web201605/herodetail/184.shtml',\n",
       "  {'content': '蔡文姬-王者荣耀官网网站,天籁弦音,蔡文姬,生存能力,攻击伤害,技能效果,上手难度,英雄故事,历史上的ta,王者荣耀首页,>,英雄介绍,>,蔡文姬,184,技能介绍,长歌行,冷却值：0,消耗：0,被动：蔡文姬受到伤害后短暂提升自身移速并回复自身生命250（+50%法术加成）点，持续2秒，这个效果每10秒只会触发一次,蔡文姬在逃跑受到伤害的同时，对敌方的任何攻击都会触发被动效果，减速敌人，能更好地进行撤退，小兵和野怪的伤害也能触发这个技能效果，可以利用此效果进行支援gank留人,思无邪,冷却值：15/14.4/13.8/13.2/12.6/12,消耗：100,蔡文姬演奏乐曲，自身移动速度提升20%，为自身和周围的友方英雄每0.5秒恢复60/66/72/78/84/90（+20%法术加成）点生命值，持续3秒,在技能范围内的友军能持续回复生命值，并提升移动速度和攻击速度，所以技能施放时尽量靠近多个友军，使得收益最大化,胡笳乐,冷却值：9,消耗：70,蔡文姬向指定方向弹奏一束音波，音波会在敌方单位之间弹射，造成250/290/330/370/410/450（+36%法术加成）点法术伤害和短暂眩晕，最多弹射6次，同一目标最多受到2次弹射效果，若受到多次弹射伤害后续伤害衰减50%。,这个技能在敌方英雄聚集的时候能发挥巨大的效果，能起到很大的控制作用，在面对追击反手释放时，命中率更高,忘忧曲,冷却值：60,消耗：120,蔡文姬释放琴音（持续5秒），增加范围内友方英雄200/250/300点物理和法术防御，并每0.5秒为血量最低的友方英雄恢复150/200/250（+35%法术加成）生命值,团战时，尽量使技能范围包含更多的友军，能降低他们受到的伤害，敌人在大招范围内超过2秒能清空他们的护甲和魔抗，所以对于敌方的坦克英雄来说，这个技能会使他们相当头疼,冷却值：,消耗：,铭文搭配建议,Tips：蔡文姬是一个辅助英雄，红色法术强度可以提升主动技能和被动技能的恢复能力，长生可以提升坦克强度，在初期中期很难被击杀，在前期可以多次触发被动创造丝血逃生的机会，均衡可以提升双抗让蔡文姬放心为队友恢复血量。,技能加点建议,主升,火焰三尖枪,副升,混天绫.束,召唤师技能,闪现/斩杀,英雄关系,最佳搭档,压制英雄,被压制英雄,最佳搭档,高渐离：高渐离作为版本最强的AOE爆发输出流法师之一，开启大招免伤配合蔡文姬的大招加血加双抗能在团战中起到一个2打5的作用，蔡文姬二技能的稳定控制也能配合高渐离打出更好的输出环境。,狄仁杰：狄仁杰站桩近距离输出是相当强势的，二技能的解控使狄仁杰在团战中不会出现被控制直接秒掉的情况，蔡文姬的回血和二技能的眩晕以及大招的加双抗，能使狄仁杰在面对敌方刺客的针对时有更好的输出环境。,压制英雄,貂蝉：貂蝉是持续输出英雄，蔡文姬二技能追踪的连续两下控制很容易让貂蝉放空一个技能或者一个技能放不出来而自乱阵脚，1技能配合大招的恢复能力也能保护队友轻松逃生或反杀。,阿轲：阿轲需要一套技能秒人才能发挥最大的效果，团战时有一个蔡文姬保护后排加血加双抗，敌方的阿轲就很难一套直接秒掉后排，相反蔡文姬的眩晕还能让阿轲有来无回，配合后排的输出甚至能直接秒掉反杀阿轲。,被压制英雄,兰陵王的隐身和秒杀能力很容易接近蔡文姬将其秒杀,花木兰的超高爆发输出能力能快速击杀走位不慎的蔡文姬,出装建议,推荐出装一,推荐出装二,Tips：以肉装和法术肉装为主，增强自保能力，技能配合装备能对团队形成很好的保护能力,Tips：输出法师型出装，需要有较好的走位与操作技巧，伤害输出很高,英雄攻略,更多,英雄故事,“黑暗的魔王会降临大陆，唯有美少女的琴音挥洒希望与胜利。”,“人家这样坚信。”,“人家的名字，叫蔡文姬。去世的爹爹，希望文姬做个文雅又可爱的女郎呢。爹爹大名蔡邕，是大陆顶顶有学问的人。爹爹，到底长得什么样呢？文姬怎么想也想不起来。只有抱着胡笳琴睡觉的时候，好像能梦到爹爹的影子。那么温暖，眼神又是那么忧伤。”,“把这些告诉文姬的人是阿典。阿典很沉默很沉默，可提到爹爹，就停不了嘴：爹爹走过好多好多地方；爹爹的学问，连稷下的老夫子也称赞不已；爹爹的书籍，装满了七八个房间；爹爹发掘了许多珍贵的太古时代的遗物——可惜，留给文姬的唯有这架古怪的胡笳琴。以及，以及，爹爹收养了的阿典。”,“阿典，爹爹到底是怎么去世的呢？每次问这个问题，阿典就会哽咽着露出痛苦的表情，本来就笨嘴笨舌的，更加连话也说不利索了。”,“虽然爹爹已经不在了，但文姬还有义父。义父，可是比爹爹还要伟大的人哟！没错，义父正乃孟德大人是也！啊，孟德大人，那么伟岸，充满了气魄。大人的心愿，也是如此宏大！文姬，文姬最崇拜的人，非孟德大人莫属！”,“文姬终于鼓起勇气，问义父大人。义父大人说，爹爹得到了太古时代的宝物，所以被心怀叵测的好朋友害死。是什么人，会去害爹爹？——是个很有学问的人，他的学问仅次于爹爹，名叫诸葛亮。他醉心于太古魔道的研究，为了争夺魔王的武器而杀害了爹爹。”,“诸葛亮，文姬记住了这个名字。文姬再一次在梦里见到爹爹时，大声问，是他害死了您吗？爹爹，你为什么叹息呢？真的是他吗？”,“于是，文姬做出了重要的决定！文姬不要做个文雅又可爱的女郎，文姬和文姬的胡笳琴，也要为孟德大人，为了讨伐爹爹的仇人，飞舞在战场上！”,“来吧，邪恶的诸葛亮！可怕，爱说谎的大人！可是，诸葛亮尚未现身，那个，那个一言不合就开始飚车的变态是谁呀？自称为诸葛亮的弟子，可那种，用机关熊猫当坐骑的恶劣品味……那种，一脸自恋的讨厌模样……那种，那种……啊啊啊啊，讨厌啦，颜值不够又自说自话的追求者，最！讨！厌！啦！”,“飞舞战场的美少女，大活跃！”,历史上的TA,蔡文姬，系东汉著名学者蔡邕之女，名琰，字文姬。少有才名，通音律。初嫁卫家，东汉末大乱，被匈奴左贤王掠走，在匈奴生活十二年，生了两个儿子。曹操跟蔡邕是朋友，得势后遣人索回蔡文姬，文姬归汉，但却把两个儿子搁在了匈奴，饱受生离死别之苦。蔡文姬有名篇《悲愤诗》，脍炙人口。',\n",
       "   'image': 'http://game.gtimg.cn/images/yxzj/img201606/heroimg/184/184-mobileskin-1.jpg',\n",
       "   'title': '蔡文姬-王者荣耀官网网站',\n",
       "   'url': 'http://pvp.qq.com/web201605/herodetail/184.shtml'}],\n",
       " ['http://pvp.qq.com/web201605/herodetail/186.shtml',\n",
       "  {'content': '太乙真人-王者荣耀官网网站,炼金大师,太乙真人,生存能力,攻击伤害,技能效果,上手难度,英雄故事,历史上的ta,王者荣耀首页,>,英雄介绍,>,太乙真人,186,技能介绍,黄金闪闪,冷却值：0,消耗：0,被动：周围每次有敌方非英雄单位死亡时（包括小兵和野怪），太乙真人和周围的友方英雄都会额外获得35%金币,太乙真人的被动技能使得它成为辅助位置英雄的最佳人选，与队友一起在线上或野区都能为队伍带来更高的经济收益,意外事故,冷却值：5,消耗：65,太乙真人使用炉子炼制药剂，炼制时会增加6%移动速度和120点物理及法术防御加成，持续5秒；炼制结束时药剂会发生爆炸，对周围敌人造成200/270/340/410/480/550（+60%法术加成）~600/810/1020/1230/1440/1650（+180%法术加成）点法术伤害并将其晕眩0.5秒~1.5秒；太乙真人可随时结束炼制并触发爆炸，但炼制时间越长，伤害越高，并且晕眩时间越长；炼制自动结束时，若爆炸命中敌方英雄将减少意外事故的全部冷却时间,这个技能是太乙真人的主要伤害技能，在释放与停止施放时需要根据不同的情况选好时机灵活使用，才能达到很好的效果；在最大时间爆炸时，可以造成最大限度的眩晕效果,第三只手,冷却值：10/9.2/8.4/7.6/6.8/6,消耗：65,太乙真人的炉子伸出一只触手，把自己拉向触达的第一个单位，如果目标是敌方单位，还会额外受到450/500/550/600/650/700（+80%法术加成）点法术伤害和短暂眩晕.,太乙真人可以选择方向对友军或敌军施放，对友军施放是可以迅速靠近友军进行保护，对敌人施放时可造成伤害和控制效果,大变活人,冷却值：70/60/50,消耗：150,召唤替身傀儡，保护自己和周围一个血量最低的友方英雄（可在被控制时使用），持续3秒，持续时间内自己或者被保护的英雄死亡，会在2秒后复活获得2000/2750/3500（+200%法术加成）点生命.复活时对周围的敌人造成600/750/900（+80%法术加成）点法术伤害和减速。,这个技能可以保护队友，让队友死而复生，对于爆发型刺客有很好的克制效果，在队友血量较低时开启，会让对方的刺客非常头痛,冷却值：,消耗：,铭文搭配建议,Tips：梦魇增加了太乙真人前期的输出能力，绿色献祭在增加了太乙真人的法术攻击外，还提供了冷却缩减；蓝色调和增加了太乙真人在前期的续航能力，同时增加gank能力。,技能加点建议,主升,火焰三尖枪,副升,混天绫.束,召唤师技能,闪现/斩杀,英雄关系,最佳搭档,压制英雄,被压制英雄,最佳搭档,马可波罗：在前期太乙真人的高额输出和控制为马可波罗提供了更多gank的机会，同时大招的复活可以避免在团战中因为马克被切而全盘崩溃的可能性，被动的额外收益可以让马克在前期打到更多金币，缩短了马克的成长周期。一二技能的硬控补充了马克本身没有控制能力的缺点。,刘备：一技能的大范围晕眩和二技能的定点晕眩都可以增加刘备的抓人能力，同时大招可以提高刘备的容错率，避免出现刘备刚进场就被集火秒掉的几率，相比较其他英雄，太乙真人可以在前期就打出高额法术伤害，在前期帮助刘备反野或者守野时增加了成功的几率。,压制英雄,黄忠：太乙真人可以利用一技能的高移动速度和二技能的位移快速接近无法移动的黄忠打出完美控制效果，同时大招的复活能力也增加了协助队友抓掉黄忠的机会。,兰陵王：面对只有一次切入机会的兰陵王，太乙真人的控制牵制能力（开一技能走在后排身边，二技能主动勾兰陵王）都可以降低被兰陵王切入的概率，同时大招所给予的复活也明显克制了兰陵王切入机会只有一次的设定，相比较同类辅助如刘邦孙膑，太乙真人可以更好的压制兰陵王，避免被切入。,被压制英雄,太乙真人的技能很难命中灵活的孙尚香,太乙真人很难抓住灵活的露娜,出装建议,推荐出装一,推荐出装二,Tips：以肉装和法术肉装为主，增强自保能力，技能配合装备能对团队形成很好的保护能力,Tips：全肉装太乙真人，可以承受巨量伤害,英雄攻略,更多,英雄故事,“吾太乙，天下第一的傻瓜师父，曾经犯下三桩错误。现在，要以生命去填补。”,“吾也曾出入起源之地，也曾被君主奉为上宾，乃皇家认证的特级炼金术师是也。然而当吾参与奇迹的建造，难以遏止根源奥秘的诱惑……最终，最终……清醒过来时，已经带着启动奇迹的钥匙逃离起源之地。这是吾犯下的第一桩错误。,“陈塘关最高长官的小儿子因心疾奄奄一息。吾用奇迹的钥匙替换了他病弱的心脏。既支撑孩子长大，也让吾得以逃过追捕，一举两得。”,“徒儿哪吒平安长大。关城中没人是他的对手，无论吾炼成多么强大的武器，他也能运用自如，但他不是完整的人，吾很清楚。除了愤怒，徒儿再没有更多的情绪。这是承受过分力量的后遗症，也是吾犯下的第二桩错误。”,“徒儿被召唤到起源之地，吾无法放下担忧随行同往。可吾禁不住再次接近知识根源的诱惑，重新尝试起终极的炼金术。啊，吾平生最大的错误，正莫过于此。”,“炼金术使吾暴露踪迹，被投入大牢。哪吒徒儿来了，不仅救了我，还有同牢那只无耻又刻薄的炉子。它用谄媚的口气恭维着徒儿，花言巧语欺骗他，强行冒充吾的炼金炉……”,“为这场逃亡付出代价的，是陈塘关。阴险的当权者，强迫长官大人剿灭海中的魔种。暴风雨中的关城，化作陷阱囚困了海中的魔种。倒灌的海水淹没了一切。徒儿的暴怒令他失控，濒死的魔种叫嚣着。吾拼命想要炼成屏障，但救下的，只有无声无息的身体。追究因果根源，一切都来自吾犯下的三桩大错。”,“‘怂在弟子背后的家伙！没用的矮子……’狼狈的炉子破口大骂。”,“说得对，吾，……一直被徒儿保护的人……没用的师父……如果还能有挽回错误的办法……只能是……”,“‘喂喂！这不可能！除了当权者，没有凡人成功！……还有祭品，等价交换的祭品！’”,“吾能办到的。一定……”,“徒儿身体之中，有奇迹的钥匙；吾身体之中，有人的心脏。钥匙，无生命之物。心脏，生命之源。”,“等价交换。”,“‘加上我！’炉子跳了起来。‘我可不是普通的炉子！好歹也偷窥过那根源的奥秘，啧啧，若非那看门的钟馗……’”,“魔道的火焰闪烁着，吾走入阵法……炼成的咒语灼烧着吾的身体。”,“吾乃太乙，胆小的太乙，懦弱的太乙，傻瓜的太乙。”,“徒儿，师父赋予你的枷锁，师父所犯下的错误，理所应当由师父来纠正！这才是作为师父所要身体力行的正确人生观！”,眼前陷入黑暗。模模糊糊中，唯有聒噪的声音在搅扰叫嚷。胸腔里，已经感受不到心脏的跳动，反倒有团火在燃烧。,“‘活过来了！’炉子不顾头上烟雾缭绕，猛地蹦起三丈高。‘哟，你也活着，不过被烧成了黑炭而已。’”,“炉子炼成的巴掌狠狠打在脸上，把吾敲醒。吾睁开眼，与哪吒徒儿四目相对。”,“奇迹，真正的奇迹……看不见的泪水，流淌在吾黑漆漆的脸上。”,皇家认证，特级炼金术师是也！炉子也有资格证书！,历史上的TA,太乙真人，神话人物。小说《封神演义》里，昆仑十二金仙之一，是哪吒的师傅。不仅传授哪吒本事，而且在哪吒割肉还父，去血还母之后，为哪吒重造金身，传授哪吒乾坤圈等法宝。',\n",
       "   'image': 'http://game.gtimg.cn/images/yxzj/img201606/heroimg/186/186-mobileskin-1.jpg',\n",
       "   'title': '太乙真人-王者荣耀官网网站',\n",
       "   'url': 'http://pvp.qq.com/web201605/herodetail/186.shtml'}],\n",
       " ['http://pvp.qq.com/web201605/herodetail/180.shtml',\n",
       "  {'content': '哪吒-王者荣耀官网网站,桀骜炎枪,哪吒,生存能力,攻击伤害,技能效果,上手难度,英雄故事,历史上的ta,王者荣耀首页,>,英雄介绍,>,哪吒,180,技能介绍,炙炼火种,冷却值：0,消耗：0,被动：当哪吒用三尖枪和乾坤圈，混天绫进行攻击时会在敌人身上残留炙炼火种，持续3秒，炙炼火种每秒造成35（+26%物理加成）点真实伤害并且减少25%的生命回复效果,这个技能使得哪咤能对对手持续造成伤害，在面对坦克的时候，能限制他的回血效果,火焰三尖枪,冷却值：5,消耗：55,哪吒挥动三尖枪攻击四周的敌人，造成300/360/420/480/540/600(+85%物理加成)点物理伤害。每击中一个敌方英雄都会触发1次风火轮，当哪吒触发风火轮时会增加6%移动速度，持续5秒，最多可叠加5层,范围伤害技能，击中更多单位提升哪咤的移动速度,混天绫·束,冷却值：12/11.6/11.2/10.8/10.4/10,消耗：65,哪吒用混天绫短暂束缚敌人，迅速俯冲向目标施加炙炼火种，并翻越至目标另一侧获得一层风火轮效果.施法后自动触发【火莲之印】减免所受15/16/17/18/19/20%伤害。【火莲之印】持续3秒，该技能4秒内可再次释放,这是哪咤的位移技能，利用它可以很好的黏住敌人，但要注意这个技能只对敌方英雄有效,乾坤·天降,冷却值：80/75/70,消耗：140,对敌英雄施加乾坤圈提供视野并打断其回城.可选择高速冲到敌方英雄造成500/625/750（+100%物理加成）点物理伤害并击退，落地后触发一次【火莲之印】，并额外触发【火莲之华】获得韧性且每秒对罩内敌人反复施加炙炼火种，冲敌过程中可以再次释放技能放弃冲敌。,这个技能有很强的战术意义，可以开启视野看到对手动向，可以单人带线牵扯敌方并快速支援,冷却值：,消耗：,铭文搭配建议,Tips：宿命提供的攻速、生命、物防完美契合哪吒肉核冲锋的定位，虚空一方面提供了哪吒肉的属性，另一方面让其在战场中释放更多技能来帮助团队，隐匿能够让哪吒更灵活。,技能加点建议,主升,火焰三尖枪,副升,混天绫.束,召唤师技能,闪现/斩杀,英雄关系,最佳搭档,压制英雄,被压制英雄,最佳搭档,刘邦：辅助刘邦和上单哪吒拥有最强的开团能力，开团前，哪吒锁定对方脆皮先手放大招，刘邦后手大招，哪吒本身的免伤加上刘邦的提高抗性效果在团战中轻松的七进七出。,太乙真人：太乙真人的一二技能的眩晕可以保护开大后被集火的哪吒，同时大招也可以为哪吒提供更好的续航能力。,压制英雄,后羿：后羿作为无位移的射手，极度依赖队友保护，而哪吒大招可以做到团战时无视后羿队友直接冲锋，大招的韧性加成以及二技能的减伤能够为哪吒提供续航能力，打出更多真实伤害，一技能提供的移动速度也能让后羿无所遁形。,程咬金：程咬金一般作为骚扰后排的存在，哪吒的被动有效的反制敌方程咬金对己方ADC，AP的骚扰，火种降低程咬金大招的回血量，真实伤害也能对程咬金造成较大的威胁，逼退或者配合输出击杀程咬金。,被压制英雄,张良的大招效果可以无视哪吒的大招韧性效果,貂蝉能在躲避技能同时很好的风筝哪咤,出装建议,推荐出装一,推荐出装二,Tips：后期哪咤出装以抗性装备为主,Tips：全肉装哪咤，能抗能打，可以承受巨量伤害,英雄攻略,更多,英雄故事,“我，哪吒，是人，又非人。”,“炼金术炼成的身体，没有触觉，没有痛感，永远都无法长大。可胸腔里跳动着，乃真真正正，生而为人的心脏。”,“东海边曾矗立着名叫陈塘关的城市，父亲乃此地长官。从小，我就清楚自己的强大，力量，速度与武技的领悟都凌驾常人。连兄长们也望尘莫及。”,“可我没有朋友。无法抑制暴走的冲动，让同龄人都对我敬而远之。”,“当权者下令父亲送我入起源之地作为人质。随行的只有太二。那里辉煌又无聊，忍不住搞点大事来。越自命不凡的家伙越叫人乐于招惹，最喜欢他们恨得牙痒痒又无可奈何的样子。这时候，他们面对魔种啊，平民啊的趾高气昂半点不剩了！我疯起来连我自己都害怕，何况这群懦夫。”,“格格不入的不止我一人。我与那傲慢的杨戬之间本唯有拳头的交往，可有天从纨绔们的手中救了只丑得要命的流浪狗，还毫不领情冲我狂吠时，杨戬一把将它拎了回去。呃，这画风有什么地方不对呀。”,“那天起……似乎多了种心照不宣的默契。好像……朋友通常如此？”,“报复心切的纨绔们举报太二为逃犯，害他蹲进大牢。正好我厌烦了这令人窒息的牢笼，一不做二不休来了场酣畅淋漓的逃狱。有人追了上来。忘恩负义的流浪狗不停狂吠，在我几乎要出手凑它前的0.1秒，杨戬让开了道路。”,“陈塘关已和平不再。当权者要父亲剿灭海中的大型魔种。显然，这是对我出逃的惩罚。”,“魔种发了狂。父亲说。它们会越来越危险。”,“安享和平多年渔民，商人和妇孺怎么可能是魔种的对手？”,“还有陷阱。最后他喃喃道。”,“愤怒爆发了！愤怒支配了我！我疯狂的想要破坏引水的沟渠，还有作为陷阱的城墙。就在那晚，暴风雨比预计的更加提前到来。我眼看着渔船被狂怒的魔种吞噬时，身后的故乡也变成了汪洋。陈塘关以淹没自身为代价，囚困了比自己强大百倍的狩猎对象。胸腔中燃烧的愤怒席卷了海潮，吞噬掉了魔种，也吞噬了我自己。”,“从炼成阵里，我重新获得了生命。”,“可有什么跟之前不一样了。”,“心脏。我摸着胸口。持续跳动的，强有力的心脏。”,“最后关头，天下第一的傻瓜师父，太二，献祭了自己来拯救我。”,“我突然间品尝到愤怒之外的其他情绪，过往生命中从未存在的感受：亲切，犹豫，愧疚，思念，哀悼，友情……以及……嫌弃……唉，这过时的发型，充分说明了太二品味有多么捉急。”,“我还是桀骜的我，但背负了更多的什么……”,“太二奇迹般的生存。他的道歉模糊而混乱：钥匙……奇迹……难懂的词汇……我不想知道所有的由来。我不过想保护陈塘关，我不过想保护我所生活的故乡。”,“谁造成这一切？魔种的罪孽，抑或当权者的冷酷？”,“谁在乎。”,“没有牵挂，只会让我更强大。我要选择自己的路，去守护我想守护的，改变我想改变的了！”,“我可是突破常理的存在！”,历史上的TA,神话人物。《太平广记》中说他是“毗沙门天王子那咤太子”。哪吒的神话很早就在民间流传，直到明代的《三教源流搜神大全》中，就已有了哪吒闹海，重塑莲花身等经典故事。后来创作的《封神演义》、《西游记》等小说话本则继承了这些描述，进行了更加生动的文学塑造，使哪吒形象更加鲜明，直至家喻户晓。',\n",
       "   'image': 'http://game.gtimg.cn/images/yxzj/img201606/heroimg/180/180-mobileskin-1.jpg',\n",
       "   'title': '哪吒-王者荣耀官网网站',\n",
       "   'url': 'http://pvp.qq.com/web201605/herodetail/180.shtml'}],\n",
       " ['http://pvp.qq.com/web201605/herodetail/190.shtml',\n",
       "  {'content': '诸葛亮-王者荣耀官网网站,绝代智谋,诸葛亮,生存能力,攻击伤害,技能效果,上手难度,英雄故事,历史上的ta,王者荣耀首页,>,英雄介绍,>,诸葛亮,190,技能介绍,策谋之刻,冷却值：0,消耗：0,被动：诸葛亮技能命中敌人时，会为自己施加谋略刻印，当刻印达到5层时，会召唤5颗法球围绕自身，短暂时间后依次飞出攻击附近的敌人（优先英雄）造成270(+52%法术加成)点法术伤害。法球在1秒内连续命中同一目标时，伤害会衰减到20%。（法球不会攻击非战斗状态的野怪）,诸葛亮可充分利用技能的释放叠加被动，5层时对敌人造成一波爆发性伤害，同时被动技能对刷野的的效率也大大提高.,东风破袭,冷却值：8/7.4/6.8/6.2/5.6/5,消耗：60,诸葛亮朝面前发射三颗法球，对一条路径上的敌人造成500/560/620/680/740/800（+75%法术加成）点法术伤害。如果敌人被多颗法球同时命中，额外的法球只会造成30%的伤害.每颗法球只能触发1次谋略刻印。,把握东风破袭的释放距离，打出更高的伤害并增加更多的谋略刻印.,时空穿梭,冷却值：2,消耗：50,诸葛亮快速朝指定方向闪烁，并在起始位置和终点位置同时产生一次法力场，对附近的敌人造成350/420/490/560/630/700（+52%法术加成）点法术伤害（被多个法力场命中时只造成50%伤害）.如果敌人在5秒内多次受到法力场的影响，会造成90%的减速效果（短时间内衰减），持续3秒，每个法力场命中敌人时，只产生1次谋略刻印。该技能可储备至多3次，并随时间获取使用次数(受冷却缩减影响)。,该技能属于诸葛亮的核心技能，也是诸葛亮唯一的位移技能.对于释放的把控时机可在被抓时使用，也可利用该技能在团战时骗对方突进位移.,元气弹,冷却值：35/30/25,消耗：120,诸葛亮短暂蓄力后（期间可以移动和释放时空穿梭）对指定目标发出一击强力元气弹，对其造成450/600/750（+50%法术加成）点法术伤害目标每损失1%生命提升该技能2%伤害，产生1层谋略刻印。元气弹可以被其它的英雄阻挡。如果元气弹直接击败敌方英雄，立即触发被动策谋之刻，并返还该技能80%的冷却时间。飞行过程中触碰非英雄单位，将会造成法术伤害并击飞。,诸葛亮的大招可以被敌人队友挡住伤害，尽量在对手一个人的时候施放.选择利用大招收割人头的时机可使技能冷却时间刷新更快.,冷却值：,消耗：,铭文搭配建议,Tips：诸葛亮作为强力法师，红色梦魇提升法术攻击、法术穿透，保证打出强力伤害。绿色怜悯提升技能冷却，保证可以多放技能、多打出被动，对敌人造成高额伤害。蓝色轮回提升法术吸血能力，在对战中保证生存能力以及续航能力。,技能加点建议,主升,火焰三尖枪,副升,混天绫.束,召唤师技能,闪现/斩杀,英雄关系,最佳搭档,压制英雄,被压制英雄,最佳搭档,夏侯惇：作为法师的诸葛必须要有一个能够在前方抗伤害的肉盾，而夏侯作为战士，一技能减速命中敌人能够触发二段技能造成短控，可以为诸葛提供良好的输出环境。而二技能的盾也增加了夏侯惇抗伤能力。在对战或逃跑时，都可以通过三技能长距离的突进且造成眩晕的控制来保护诸葛或进行对敌。,赵云：赵云搭配诸葛是一对机动性强，能打能跑能输出的组合。赵云作为一个能抗能打的战士，机动性强。对敌时通过三技能的控制效果和减速效果，不仅能够打出输出，也能为诸葛吸引火力，让诸葛打出全额伤害。即使发现打不过对方，赵云和诸葛亮也可以利用技能的位移快速逃离。,压制英雄,扁鹊：扁鹊和诸葛同样作为法师，但在对战时候却没有诸葛亮强势。扁鹊没有位移技能，且需要叠加层数才能打出伤害。而诸葛可以通过二技能近身再通过一技能的配合快速打出伤害且叠加被动输出伤害，最后再通过三技能元气弹完美收场。在这个过程中，还可以躲避扁鹊的技能，使扁鹊无法打出最高伤害。,鲁班七号：诸葛亮可以克制一些没有位移技能的英雄。诸葛亮可以使用二技能对鲁班七号技能进行躲避。鲁班七号移速较慢，且没有位移技能，诸葛亮可以利用二技能对鲁班七号进行追击，让其没有逃跑的可能。,被压制英雄,诸葛亮容易被兰陵王抓住后秒掉,花木兰的超高爆发输出能力能快速击杀走位不慎的诸葛亮,出装建议,推荐出装一,推荐出装二,Tips：整体出装血量较高，配合噬神之书生存能力极强,Tips：配合诸葛亮大招的斩杀效果，圣杯的特性将会充分发挥.并且冷却缩减可以减少技能2时空穿梭的储存时间，提升诸葛亮的机动性.,英雄攻略,更多,英雄故事,稷下学院有史以来最伟大的天才，世间公认夫子的继承者。无论魔道机关，智谋兵法，样样都是第一。连后来的铁血都督周瑜，也不得不咬牙接受每次考试屈居次席的事实。背负千年老二的黑历史，对高傲如他而言，名为诸葛亮的青年简直如同噩梦的存在。至于天才本人，则完全无视羡慕嫉妒恨的眼光，投身于传说中天书残篇的研究。,王者大陆的发源，起端，毁灭，轮回……与曾经存在过的，被称为知识根源的东西有着千丝万缕的联系。曾经亲身接触过它的，唯有过去的超智慧体。他们创造了文明，缔造了 “奇迹”。然而自超智慧体退出历史舞台，触及知识根源变得遥不可及……所能证明它确实存在的……唯有天书。,天书，太古智慧的总和，记载着魔道和机关术的全部秘密。天书随方舟降落于王者大陆，又随着超智慧体的分裂，迁徙，以及战火的洗礼而四散零落。有些落入人间的君主之手，有些被追求根源的学者所搜罗，有些甚至被埋藏于默默无闻的废墟之中。天书的力量令人神往，却少有人知晓如何解读。,年轻而意气风发的诸葛亮曾亲身前往稷下地下的朝歌遗迹拓印，并为阻止野心者布下封印的阵法；亲手触摸过长安城最大的秘密——传说中的方舟，甚至到过沙漠中湮灭的古国……最终，他选择定居蜀地的草庐，潜心解析这些堪称无价之宝的收集。自然，曾有不轨之徒觊觎这知识的宝藏，不过，据说最后一个试图盗走天书的人，接近草庐后就再没有显露过踪迹。反倒令神秘的“影之龙枪”，成为说书人口中绝赞的素材，收获众多少女们的倾慕。,拜访的客人中，唯有身为王室后羿的刘备能享受一杯清茶的优遇。起初，诸葛亮并没有答应刘备辅佐自己的请求，他的天才所要探寻的是世界根源的智慧，政治的胜负相比太过渺小。,超智慧体留下了可怕的遗产，扭曲知识本来面目所诞生的阴暗无处不在，动摇着历史的进程。诸葛亮那无比聪颖的头脑思索着，试图抓住冥冥中的关键，去寻找那个或许所有人尚未知晓的，足以颠覆人间界的真相，以及可能的对策。,来自遥远扶桑的讯息发出警告：可怕的魔物被驱逐，而留下的伤痕或许今后数十年都无法消除。这难免让人想起多年以前秦王宫阴暗的秘密。,另一件事也震动了他的心灵。有名的考古学者蔡邕，他所尊敬的长辈和友人，他们曾多次交流有关西域的发现，却传来噩耗：全家遭遇谋害。人们咒骂蔡邕收养的野兽恩将仇报，只有诸葛亮注意到好友珍贵的研究心血无声无息消失。,蔡邕最后的书信里透露了什么……黑衣人，拼命于荒漠中搜寻着“奇迹”……啊，还有边陲的废墟，以及交由玄德抚养的孩子……,诸葛亮的的手指拂过地图，最后停在名叫赤壁的地名上。那里埋藏着太古的造物，大规模杀伤性武器：东风祭坛。,风暴，席卷大陆的风暴即将降临。也许，自己再也不应该置身事外。,那么，就将天下作为棋局，来博弈这场东风吧。,“天下如棋，一步三算！”,历史上的TA,诸葛亮，字孔明，三国时蜀国的丞相，主要其事迹见于《三国志·蜀书》。诸葛亮在东汉末大乱之时，隐居于南阳。后刘备三顾茅庐，请其出山，一出山，即点出天下三分的大势。辅佐刘备，奠定了两川的基业，刘备死后，帮助后主以攻为守，先后六出祁山，最后出师未捷身先死。他写的《出师表》里“鞠躬尽瘁死而后已”的名言，就是他一身的写照。诸葛亮于治国，用兵多有心得，人们还传说他有许多发明，木牛流马就是一种；还有连弩，相传也是他的发明。《三国演义》问世之后，诸葛亮的神奇，已经近乎于妖。',\n",
       "   'image': 'http://game.gtimg.cn/images/yxzj/img201606/heroimg/190/190-mobileskin-1.jpg',\n",
       "   'title': '诸葛亮-王者荣耀官网网站',\n",
       "   'url': 'http://pvp.qq.com/web201605/herodetail/190.shtml'}],\n",
       " ['http://pvp.qq.com/web201605/herodetail/192.shtml',\n",
       "  {'content': '黄忠-王者荣耀官网网站,燃魂重炮,黄忠,生存能力,攻击伤害,技能效果,上手难度,英雄故事,历史上的ta,王者荣耀首页,>,英雄介绍,>,黄忠,192,技能介绍,炮手燃魂,冷却值：0,消耗：0,被动：黄忠普攻命中目标将不断激怒自己，获得1.5%暴击率和1%攻击力加成的效果（重装炮塔状态下效果翻倍），持续1.5秒，最多叠加5层。,黄忠在进行持续普攻输出时，被动增加自己暴击和攻击力加成，在被动存在时能造成更多输出。,追击潜能,冷却值：10,消耗：50,黄忠短时间大量提升自身移速，持续2秒，如果是在架起状态，可瞬间取消架起状态.被动：增加黄忠40/52/64/76/88/100点物理攻击。,黄忠可以利用1技能加速逃跑或追击敌人，同时增加自身攻击力，在大招架起状态下可快速取消。,警戒地雷,冷却值：8/7.6/7.2/6.8/6.4/6,消耗：80,黄忠向指定地点放置警戒地雷，同时获得视野效果，敌方英雄在地雷范围内可触发造成200/240/280/320/360/400（+60%物理加成）点物理伤害，对英雄额外造成50%减速效果与15/18/21/24/27/30%的破甲效果，持续2秒，同时自身获得护盾，可吸收200/240/280/320/360/400（+50%物理加成）点伤害。地雷最多存在2个。,黄忠在进行对拼时可以利用技能形成吸收伤害的护盾，利于生存和减速敌人；可以在草里放置地雷以查看视野。,重装炮台,冷却值：8/6/4,消耗：80,黄忠进入架起状态，持续15秒，期间普攻射程得到提升（5秒后扩大到最远距离），对敌人造成范围60/88/116（+80%物理加成）点物理伤害（伤害随时间增加，每秒增长20%，最高100%），目标距离越近伤害越低，最低衰减至70%。物理和法术护甲额外增加60/120/180点，自身不能移动，再次施法后架起状态取消。,这是玩好黄忠的关键技能，根据场上局势黄忠需要选取一个很好的架炮位置进行输出，随着架炮时间增加，攻击距离和伤害增加。,冷却值：,消耗：,铭文搭配建议,Tips：黄忠作为站桩输出，对移速没有需求，前期有1技能加速和2技能减速敌方需求也不大，因此主攻击和穿透，中后期无双的暴击效果配合无尽可以呈现出毁灭程度的攻击力。,技能加点建议,主升,火焰三尖枪,副升,混天绫.束,召唤师技能,闪现/斩杀,英雄关系,最佳搭档,压制英雄,被压制英雄,最佳搭档,黄忠作为后期站桩输出的射手，不能移动和高输出注定是敌方主要切入和针对的对象，白起的二技能和大招组合控制技能，可以很好的对黄忠进行保护，就算是被集火也可以给黄忠争取停止撤退的时间，白起二技能拉人聚在一起开大招后，配合黄忠开大后的aoe普攻可以打出爆炸输出 。,黄忠后期开启大招后就不能移动，很容易被切，项羽可以利用一技能把敌方英雄推远，保护黄忠输出，也可以把敌方英雄推到一起，方便黄忠输出，而且项羽本身非常肉的特性可以帮助队伍吸收非常多的伤害，为黄忠提供更长输出的时间。,压制英雄,韩信：韩信如果前期不能带起节奏尽快推掉水晶，后期的核心玩法就是带线偷塔，而黄忠是一个可以利用大招守家翻盘的英雄，能轻松把游戏节奏拖入后期，从而降低韩信的威胁让他失去作用，后期黄忠装备成型后也可以轻松击败韩信。,诸葛亮：诸葛亮后期需要出半肉装切入敌方英雄身边才能打出高额的有效伤害，黄忠的超远射程令诸葛亮还没走到面前会被打的成残血，黄忠的双抗加成效果可以避免被诸葛亮秒杀，黄忠作为远程炮台会让诸葛亮很难有接近的机会。,被压制英雄,黄忠容易被兰陵王抓住后秒掉,花木兰的超高爆发输出能力能快速击杀走位不慎的黄忠,出装建议,推荐出装一,推荐出装二,Tips：全输出装备，团战能打出爆炸伤害，需要较高的操作技巧,Tips：输出装为主，配合魔女斗篷，后期团战中有更强的容错率,英雄攻略,更多,英雄故事,老兵一度认为自己到了该退休的年龄了。夕阳照射在断垣残壁上，年迈的躯体伤痕累累。拼命半辈子，好像什么都留不住：金钱，家人，城池，战友……,人，不服老不行。不然呢？连用惯的机关炮也已锈迹斑斑。,面对魔种好像也曾无所畏惧过，面对千军万马好像也曾自信满满过。可是……魔道？或者那什么玩意儿？？许多同伴接受了，为了更强大的力量。毕竟，他们的领导者也是如此。,妖术！,唯有他嗤之以鼻，拒绝认可。,“顽固不化的老爷子。”“自暴自弃啊。”“毕竟嘛，半截身体都入土了，舍不得折腾也是必然的嘛。”……,讽刺、讥笑……嘈杂的噪音围绕着他。这个世界让人看不懂了……,力量吗？,哼，怪物的力量，终究还是怪物。,而人，就是人。一撇一捺，大写的人。,他生来就是人，死去，也要以人的身份。,他决然的离开了。那时候，他只想给自己一个最终的结局，身为老兵应当拥有的最完满的结局。,于是他接受这不可能完成的任务。,（据说）没落王室的后羿，提着大刀的猎魔人，还有……魔种混血的机关师……奇妙的感觉。跟魔种战斗了大半辈子，没想到会在最后的结局里并肩而战。机关师替自己擦拭掉了手提炮上的锈迹，然后在手持古怪扇子青年的指导下，开始忙碌的改装。,他张开口，却再也合不拢：老伙计那铜制的炮管比黄金更闪亮，旋转的轴承牵动全部机身变形。,老兵不死，会重生成更鼎盛的模样。,热血流动的速度，似乎加快了。,奇怪拼凑的队伍出发了，去完成悲壮的近乎不可能的任务：拯救蜀地。哦，对了，所要面对的强大敌人，正是因妖术而近乎不可战胜的，老兵离开的军团。,可当太古的奇迹被点亮，整个赤壁燃烧起来的时候，倒下去的是成堆成堆的，失去意志的怪物们，而老兵和他的炮台如同不可逾越的高峰，始终矗立。比战场上所有士兵都老迈的身躯从未如此年轻，和充满力量,人也许会衰败，但永远打不垮。,老兵，尤其如此。,“是时候来发炸裂的开场了！”,历史上的TA,黄忠，字汉升，东汉末年的猛将之一。早年追随刘表，刘表死后，成为长沙太守韩玄的部将。赤壁战后，刘备占领荆州，黄忠归于刘备。在刘备征服益州的过程中，黄忠冲锋陷阵，立了大功，随后进军汉中，黄忠战曹将夏侯渊，又立头功，成为蜀汉的重要将领。在《三国演义》中，黄忠得以跻身五虎上将之列。并说这个人是老将，不采用激将法，就难以建功。',\n",
       "   'image': 'http://game.gtimg.cn/images/yxzj/img201606/heroimg/192/192-mobileskin-1.jpg',\n",
       "   'title': '黄忠-王者荣耀官网网站',\n",
       "   'url': 'http://pvp.qq.com/web201605/herodetail/192.shtml'}],\n",
       " ['http://pvp.qq.com/web201605/herodetail/191.shtml',\n",
       "  {'content': '大乔-王者荣耀官网网站,沧海之曜,大乔,生存能力,攻击伤害,技能效果,上手难度,英雄故事,历史上的ta,王者荣耀首页,>,英雄介绍,>,大乔,191,技能介绍,川流不息,冷却值：0,消耗：0,被动：大乔提升自身与600范围内最近友军英雄40-60移动速度（每3级提升5点）,移速提升对大乔自己来说有很强的支援能力，对于协助队友追人和逃跑也非常实用,鲤跃之潮,冷却值：7,消耗：70,大乔召唤鲤鱼向指定方向跳跃，对于路径上的敌人造成550/700/850/1000（+56%法术加成）点法术伤害与击退效果，鲤鱼经过的区域会在一段时间4秒内持续增加区域内友军的移动速度,这个技能可以让大乔很好的保护友方英雄进行撤退,宿命之海,冷却值：8,消耗：50,大乔召唤法阵，法阵消失时会将法阵内友军英雄（包括大乔）传送回出生点并获得加速效果持续3/4/5/6秒，同时回复其全部生命,这个技能使得大乔可以让残血队友快速回家，并且可以与大招联动使用，可能会有有出其不意的效果哦,决断之桥,冷却值：11/10/9/8,消耗：80,大乔在指定位置召唤海潮连续喷涌，每次喷涌造成180/210/240/270（+20%法术加成）点法术伤害，海潮会在原地持续4秒，对进入区域的敌人造成沉默效果,这个技能施放位置选好了会使得对方非常头疼，对区域敌人造成持续的沉默效果,漩涡之门,冷却值：70/55/40,消耗：120,大乔召唤法阵，对范围内敌军造成660/830/1000（+72%法术加成）点法术伤害，并使得所有友军英雄都可以在8秒传送至法阵一次，法阵持续8秒，增加范围内友军攻击速度,这个技能是大乔有很高战术意义的技能，可以快速集结队友对敌方进行意想不到的狙击行动,铭文搭配建议,Tips：大乔是辅助，四个技能两个控制伤害两个传送技能，大乔除了2技能外均有较高的法术伤害及可观的法术加成。大乔的四个技能cd都比较长，使用怜悯可以对冷却进行一定的缩减加成，梦魇和轮回是相对收益比较高的法术铭文。,技能加点建议,主升,火焰三尖枪,副升,混天绫.束,召唤师技能,闪现/斩杀,英雄关系,最佳搭档,压制英雄,被压制英雄,最佳搭档,狄仁杰：狄仁杰主要靠风筝普攻伤害，没有位移是短板，大乔的移动速度提升可以帮狄仁杰更好的风筝敌方英雄，大乔的控制技能也可以帮助狄仁杰完成追击和逃生，可以为狄仁杰提供更好的输出环境。狄仁杰的金牌控制释放很容易命中，配合大乔的沉默技能与击飞技能，可以更容易衔接控制。,花木兰：大乔的沉默、移速提升可以给花木兰更多接近敌方核心输出的机会，1技能控制也可以用来配合花木兰把敌方关键技能打断或者留人，花木兰进行一套技能伤害后配合大乔2技能大招，回家后再返战场可以最大发挥自己短CD多技能优势。,压制英雄,露娜：露娜的技能衔接是非常关键的，在露娜即将释放技能的时候利用沉默可以有效的打断露娜的技能衔接，大部分露娜都会丢失节奏，从而被集火被秒。,墨子：墨子释放关键大招时，大乔可以用1技能和3技能进行打断，配合队友集火击杀。墨子是消耗型英雄，大乔的2技能大招配合可以帮助队友随时补满状态，大乔提供的移速加成可以让大家更方便躲避墨子的消耗技能。,被压制英雄,阿轲的快速收割能力很容易在法阵消失之前就击杀掉友军,韩信的高机动和爆发让大乔的技能很难起到关键作用,出装建议,推荐出装一,推荐出装二,Tips：在兼备输出能力的同时保证自己一定的肉度来更久的坚持在战场上,Tips：后期主要作用是控制和前排抗伤害，输出主要靠百分比伤害的痛苦面具,英雄攻略,更多,英雄故事,古老的魔道家族：江东乔氏，谨守着复杂而令人窒息的传统，以维持源自太古的，血脉中代代相传的魔道。然而最担心的事终究还是发生了：千百年来诞生的第一对双生女婴，似乎应验了家谱中关于乔氏一族终会败亡的预言。,家族的长辈恐惧着，作出无情的决定：培养姐姐作为家族继承人，妹妹则从家谱中抹去，送往稷下寄养。,大乔在家族严格的教养下，成长为气质高贵的少女，除了她从不愿靠近大海的怪癖，一切都完美无暇。可令族人不满的是，她始终没有展现出身为继承人应有的力量。难道从前的决定是错误的？唯有乔氏族长——她的祖父抱持顽固的信心。“海的新娘”，老人这样留下了令人迷惑的临终遗言。,彼时沿海的土地处于动荡中，江东的统治者听闻了大乔的美名，想要拥有她。乔氏族人不再有耐性，决定屈服，献上这美丽又无用的贡品。失去了庇护她的祖父，唯一的姐妹也远在稷下，大乔答应为家族的利益牺牲，要求则是出嫁前让自己去海边向祖父的灵魂祈祷。族人们同意了。,她提着灯笼登上临海的礁石。海的波涛述说着她才能听懂的话语：它在斥责她，诅咒她的血脉，要追溯到很久很久之前，远在封神战争之前的恩怨……魔道家族的起源……少女冷静的承受着远古幽魂的怨怒，岿然不动，专心守护微小的灯火，那是她主宰命运的唯一希望。,夜雾和阴云都无法遮蔽微弱又顽固的光亮。族人们安心了，认定少女不可能逃走。夜深了，连续三天的仪式令人疲惫，黎明来临时一切就会结束。他们送走海的新娘，交换家族的荣光。,忽然海潮高涨起来，看守们惊醒了。不，那不是潮水！是船队！从海上偷袭吴郡，乘风破浪而来的大船！水手和他们的领导者本该迷失于黑暗的茫茫大海，可那盏明亮的灯指引了他们，漩涡和潮水为他们引路，孤注一掷成功了！惊慌的人们还不知道，江东正迎来新的统治者，长久的战乱会因这场突袭终结。,孙策，从大船上第一个跳下的青年，迎着暮霭和喷薄光芒的朝阳，大步走向在暗夜为他们点亮明灯的少女。几乎形影不离的同伴紧随其后。青年朝少女伸出了手……那飞扬而自信的身影，成为生命中最璀璨的记忆。,……,……,……,时光如梭，所有美好都已灰飞烟灭。当东风祭坛点亮时，女郎走出隐居的处所，遥望那道光芒划破长空。自所爱之人离去，灯笼初次闪烁起微光。,江东魔道名门最后的继承者，骨子里却铭刻着出人意料的高傲和叛逆，未有一刻想过要顺从沉重的命运。如今，她似乎已再度抓住契机，去逆转不可能的过往。,“守望着天空，大海，和你的回忆。”,历史上的TA,即小乔的姐姐，江东庐江桥玄的女儿。传说都是国色天香，大乔嫁给了孙策，小乔嫁给了周瑜。她们的名字，在《三国志》里有零星的记载。',\n",
       "   'image': 'http://game.gtimg.cn/images/yxzj/img201606/heroimg/191/191-mobileskin-1.jpg',\n",
       "   'title': '大乔-王者荣耀官网网站',\n",
       "   'url': 'http://pvp.qq.com/web201605/herodetail/191.shtml'}],\n",
       " ['http://pvp.qq.com/web201605/herodetail/187.shtml',\n",
       "  {'content': '东皇太一-王者荣耀官网网站,噬灭日蚀,东皇太一,生存能力,攻击伤害,技能效果,上手难度,英雄故事,历史上的ta,王者荣耀首页,>,英雄介绍,>,东皇太一,187,技能介绍,暗冕之噬,冷却值：0,消耗：0,被动：东皇太一使用祭典创造出来的黑暗能量体极不稳定，敌人被黑暗能量体触碰到都会造成100（+敌方3%最大生命值）（50%法术加成）点法术伤害；每当黑暗能量体对敌方英雄造成伤害时，东皇太一将会回复100（自身最大生命3%）（+40%法术加成）点生命值，对敌人非英雄目标造成伤害时，东皇太一将会回复自身1%最大生命值,尽可能地去靠近敌方英雄，利用黑暗能量体吸取敌方生命,日蚀祭典,冷却值：5,消耗：60,东皇太一释放力量，对周围造成300/360/420/480/540/600（+40%法术加成）点法术伤害并创造出黑暗能量体在身边环绕，同时最多存在3个；释放能量时，若对范围内敌人造成伤害，则会减少50%日蚀祭典的冷却时间；黑暗能量体的数量会影响曜龙烛兆的威力,尽可能地保持时刻有三层黑暗能量体，来对敌方造成高额输出和吸血,曜龙烛兆,冷却值：6,消耗：75,消耗黑暗能量体，召唤曜龙对一个范围进行冲击，释放后东皇获得短暂加速。冲击造成500/600/700/800/900/1000（+60%法术加成）点法术伤害。黑暗能量体的数量决定了冲击的次数和冲击的威力，第一次造成1秒50%的减速，第二次造成1秒90%的减速，第三次冲击造成范围击晕1秒。,三颗黑暗能量体时释放效果最强，并且由于技能释放延迟大，建议配合队友的控制使用,堕神契约,冷却值：50/45/40,消耗：100,东皇太一压制敌方英雄，同时在彼此间创造一个契约链接，持续2.5秒；当契约的双方的一方受到伤害时，另一方会受到同等的伤害；在强大的堕神契约下双方无法进行任何操作，也无法净化；堕神契约强大的能量溢出，东皇太一将直接获得三个黑暗能量体,东皇太一的三技能是强力控制，但输出不足，需要队友在他控制住敌人时尽快击杀敌方，并且开启大招时自己和敌方都会受到同样的伤害，要注意自己的血量,冷却值：,消耗：,铭文搭配建议,Tips：东皇太一的玩法是游走和大招以血还血，这套铭文可以在初期为东皇太一增加移速、生命值、恢复能力，可以提升初期游走和gank能力，中后期至少可以大到一个核心。,技能加点建议,主升,火焰三尖枪,副升,混天绫.束,召唤师技能,闪现/斩杀,英雄关系,最佳搭档,压制英雄,被压制英雄,最佳搭档,马可波罗：东皇太一的大招能够很好的保护己方核心输出，敌方输出突进过来时，东皇太一开大可以轻松压制，马可波罗的1技能爆炸输出伤害也很高，可以配合东皇太一轻松秒杀敌方刺客，由于刺客切入身板比较脆，血量会比东皇太一低很多，在减员敌方一名成员后依旧可以发挥自己的作用在团战中吸收伤害做前排。,阿轲：东皇太一长时间的稳定控制，可以让阿轲轻松完成背击，造成大量伤害击败一名成员并刷新技能产生收割的效果。,压制英雄,露娜：4级后的团战，己方队友都在时，露娜切入直接大招集火秒杀即可，有东皇太一时的团战，露娜很少有先手开团和poke的机会，也可以寻找时机强开露娜，即使自己牺牲，能换掉露娜也是大赚的。,太乙真人：东皇太一大招太乙真人的时候，太乙真人是不能释放大招的，初期游走对抗东皇太一的伤害和恢复能力不输太乙真人，面对AP太乙真人入侵野区也能很好的针对和克制，包括技能细节，太乙真人开1技能蓄力期间，东皇太一大招太乙真人后爆炸伤害都会施加给太乙真人，可以很好的克制太乙真人。,被压制英雄,蔡文姬拥有短时间的强力回复能力，让东皇太一的大招伤敌500自损1000,敌方集火东皇大住的敌人时牛魔能很容易找准机会反打控制住多个英雄,出装建议,推荐出装一,推荐出装二,Tips：法坦装备，在保证自己生存能力的同时拥有不菲的输出,Tips：输出能力略显缺乏，但能够成为一个合格的前排，拥有恐怖的血量和双抗,英雄攻略,更多,英雄故事,平庸是恶。,他如此坚信。虽则他自己也不过是芸芸众生中的一员，可那副平凡的身躯中，却跳动着一颗执着而冷酷的心。,他在起源之地曾经遥遥目睹女娲的现身，仅仅惊鸿一瞥，那种威严和力量令人无限向往。而这种敬畏，因最后的奇迹“转生之术”被打破。许许多多富于才学之人被召集到起源之地，时隔多年后为当权者开始创造唯一非实体的奇迹。为了这伟大的工程，曾经仅属于超智慧体的奥秘被展示出来：双螺旋。,这奥秘改变了学者们的命运，其中唯有这籍籍无名之辈，看破了当权者的真面目：,原来，超智慧体也会衰弱，也会老去；原来，超智慧体也会畏惧死亡，渴求永生。,原来，存在了那样漫长时光的超智慧体，也并非亘古不灭。,刹那间，超智慧体、凡人、魔种之间的界限被彻底打破！异想天开的念头在心里生根，发芽：原来自己也可以成为神。,怀抱这种执念，在封神战争结束之后许多年，大河流域畔的密林中，当太阳的光芒被日蚀吞噬时，他自愿接受了双螺旋的试验，用自己身体去验证“转生之术”——或许是世间绝无仅有的成神之路。,他如愿以偿，成为世间第一个接近于超智慧体的造物，通过奇迹，掌握了力量、进化以及无穷轮回的可能性。,他欣喜若狂，对“转生之术”坚信不移，不允许任何质疑。甚至当自己的创造者对奇迹的真伪产生怀疑时，他也毫不犹豫联合同类们将其放逐。,但不久，奇怪的事发生了，奇迹失去光辉。难道真如那被放逐的创造者所言，“转生之术”只是伪奇迹，而自己不过是作为“伪神”存在？,这是他无法容忍的。他无法容忍自己重归于平庸。终于经过探索，思考和尝试，发现唯一令奇迹维持运作的办法，是以仪式汲取力量：吞噬太阳的光辉，吞噬河川、浮云、森林乃至自然的生命。,依靠重获光辉的奇迹，这些自称为“阴阳家”的造物们，统治了大河流域，并赢得了愚昧无知的人们的信仰和崇拜，一如当年他们的领导者所膜拜的起源之地的超智慧体。,他的真名如何，已无迹可考。,但现在，即使是小孩听到他的名字也会止住哭泣：噬灭日蚀——东皇太一,“日蚀亲临，如我之神迹！”,历史上的TA,“东皇太一”并非真实存在的历史人物。这个名字见于战国末期伟大诗人屈原的不朽之作《九歌·东皇太一》，乃是根据楚地流传的祭乐所改编的祭神之歌。楚人于东方立祠祭祀天神，故称东皇。太一则有多种说法，一指星名，又有称是形容神力无边广大。九歌全篇并没有描写东皇太一的外貌，只是描述祭神仪式的热烈和隆重，乃是对天帝虔诚的颂歌。',\n",
       "   'image': 'http://game.gtimg.cn/images/yxzj/img201606/heroimg/187/187-mobileskin-1.jpg',\n",
       "   'title': '东皇太一-王者荣耀官网网站',\n",
       "   'url': 'http://pvp.qq.com/web201605/herodetail/187.shtml'}],\n",
       " ['http://pvp.qq.com/web201605/herodetail/182.shtml',\n",
       "  {'content': '干将莫邪-王者荣耀官网网站,淬命双剑,干将莫邪,生存能力,攻击伤害,技能效果,上手难度,英雄故事,历史上的ta,王者荣耀首页,>,英雄介绍,>,干将莫邪,182,技能介绍,比翼同心,冷却值：0,消耗：0,被动：释放飞剑技能时，莫邪都会配合干将飞出自己的雌剑，雌剑和雄剑呈对称状在一点交汇，造成同等伤害。干将莫邪普通攻击使用飞剑挥砍对方造成300（+25%法术加成）点法术伤害,相比其他英雄，干将虽然弹道比较独特，但凭借被动会拥有更大的覆盖范围，并且在交汇点将能够造成更多伤害,护主邪冢,冷却值：12/11/10/9/8/7,消耗：80,干将连续两次将剑冢用力向前推刺出并自身后移，剑冢造成300/350/400/450/500/550（+50%法术加成）点法术伤害并击飞击退敌人。剑冢击伤的敌人3秒内降低150/180/210/240/270/300点法术防御。被动：每次击败英雄或助攻，剑冢都为干将增加自身15点永久法术强度，最高20层。,干将的自保技能，由于还可调整自身位置，足够拉开与敌人的作战距离,雌雄双剑·近,冷却值：9,消耗：45,凌空成剑，释放雄剑，雄剑沿着曲型弹道飞行对敌方造成400/500/600/700/800/900（+40法术加成）点法术伤害。,虽然干将需要维持作战距离，但当近战突进至身前时，该技能进行一定程度上的反击,雌雄双剑·远,冷却值：9,消耗：45,凌空成剑，释放雄剑，雄剑沿着曲型弹道飞行对敌方造成400/500/600/700/800/900（+40法术加成）点法术伤害。,释放距离一直都是干将的优势所在，该技能为干将的主要进攻消耗方式,剑来,冷却值：40/35/30,消耗：120,干将立刻刷新飞剑技能，并唤出更多的剑来强化下一次飞剑技能。被动：莫邪时刻观察着战场，将增加15%视野距离，每一股飞剑命中敌人减少剑来一秒CD。,使用2、3技能后立即刷新技能冷却，可连续对一定距离上的敌人攻击2次，打出爆发性伤害,铭文搭配建议,Tips：干将莫邪拥有超远距离输出的能力，选择铭文以增加输出能力为主。这套铭文能提供66点法术攻击，24点法术穿透，10％法术吸血，10％冷却缩减。66点法术攻击和24点法术穿透为干将莫邪前期提供了一定的伤害基础。,技能加点建议,主升,火焰三尖枪,副升,混天绫.束,召唤师技能,闪现/斩杀,英雄关系,最佳搭档,压制英雄,被压制英雄,最佳搭档,干将莫邪的自保能力较差，需要队友能提供一定帮助,钟无艳：钟无艳有着不俗的控制能力，所以他和干将莫邪搭配时就能很大程度上保证干将莫邪的技能命中率，同时钟无艳也能很好的保护干将莫邪。,压制英雄,黄忠大招需要在固定位置释放，干将莫邪也需要对方不做移动，好打出毁灭性伤害,高渐离正好与干将莫邪相反，虽然拥有高额伤害，但需要进场输出，却是被干将莫邪克制,被压制英雄,干将莫邪没有技能可以抵抗兰陵王的秒杀能力,当被花木兰近身后，是大部分法师的噩梦，当然也包括干将莫邪,出装建议,推荐出装一,推荐出装二,Tips：爆发周期较短，回复能力较高，可以频繁使用技能消耗，由于爆发周期较短，多次爆发后，可以逼迫对方露出破绽,Tips：每一次命中都会造成高额伤害，每次释放技能都是对于对方的威慑，只需一次命中就会迫使对方回撤或直接造成死亡,英雄攻略,更多,英雄故事,大河之畔生活着贫寒的工匠夫妇。两人青梅竹马，相依为命。丈夫干将别无所长，只是一味痴迷于铸剑。废弃掉的剑在门外堆成了剑冢。村人都嘲笑这个不通世事的家伙，唯有妻子无怨无悔支持着他。,干将内心同样愧疚于妻子不能过上更好的生活。他只懂得铸剑，便希望能借此扬名，那样终究会有令妻子自豪和荣耀的一天。于是他带着作品去拜访各地的铸剑师，并挑战他们。他削断无数名匠之作，很快让自己的名字传遍楚汉之地。自然，被砸掉招牌的铸剑师们也对他恨之入骨。世间公认有位绝代的大师。人们都说他的铸剑不仅削铁如泥，而且栖息着魂灵。大师许多弟子都败于干将之手，他们联合起来向师傅痛诉。于是大师向干将送上邀请拜访的帖子。胜过大师，自己就是名副其实的当世铸剑第一人。可他如约登门时，大师甚至没有露面，只命弟子持剑在门口迎接，轻轻一挥就将干将之剑斩成几半。匠人们出了一口恶气！他们放声嘲笑干将，把过往的耻辱加倍回报给他。,干将落荒而逃，失败在心中灼烧。他回到家中重复起枯燥的铸造生涯。熔炉四时不熄，每把剑都比前一把更加锋利，可它们始终是没有生命的铁片。死的剑和活的剑，犹如天上地下般的差距。他逐渐执念于铸剑，完全忘掉了初衷，连妻子的身体日渐衰弱都没有注意到。铸剑疯子的事传到阴阳家们耳中。自称为东皇太一的男人召见铸剑师，领他登上祭祀之地，那里矗立着一把剑。干将立刻认出这是大师的作品。“这把剑守护着太古的奇迹。它的名字叫巨阙，里面栖息着魂灵：它是剑——更是盾牌。接近它的人都会被剑锋撕裂。”东皇太一的计划困难而有效：锻造更锋利的剑，斩断它。“帮我得到奇迹，你就可达成心愿，成为世间无可逾越的铸剑师。在此之前，让我先告诉你让剑活过来的秘法吧。”干将浑身颤栗着，不敢相信耳中所闻。东皇太一交给他从太古保存下来的精铁。炉火燃烧了三天三夜，精铁无论如何都不能融化。干将眼里布满血丝，内心天人交战，需要一个生命才能让剑活过来。他太专注，没有注意到妻子悄无声息接近，眼神温柔而忧伤。她收到匿名来信，信上写着实现丈夫心愿的方法。自己的身体早已病入膏肓，命中注定要拿去成全爱人。干将从火炉的阴影中抬起头，正好迎上妻子最后的笑容——下一刻她便猛然跳入炉火中。,撕心裂肺的呼唤和陡然明亮的铁水席卷内心，另一手下意识握紧了铁锤。痛苦转瞬即逝，成功的狂热反倒熔炼了太古的精铁。天明时分，迄今最杰出的作品诞生了，里面栖息着魂灵。男人怀抱宝剑，呢喃着妻子的名字：莫邪。嘴角微微上翘：最爱的妻子和剑，如今是一体了。正如东皇太一计划的那样，莫邪剑斩断了巨阙，奇迹“转生之术”的力量被解放出来。这是太古建造的最后奇迹。付出那么多，终于可以凌驾世间所有铸剑者之上了！干将毫不犹豫扑向光辉中。炉火般的灼热力量包裹着他，魔道千锤百炼着血肉之躯，令其坚硬而锋利。他实现至高的愿望，将自己也锻造为剑。,故事并未到此结束。干将付出全部所有，现在他需要证明自己。于是他重访大师住所，去回报过往的羞辱。可全部执念面对冷冰冰的墓石却戛然而止：大师早已逝去多年。支撑人生的信念顿时崩塌，统统化作疯狂和绝望。怀抱中的莫邪剑变幻为妻子的身影，轻声安慰他。只有她，永远只有她善解人意，与自己不离不弃。,一分为二的生命，独一无二的魂灵。,历史上的TA,干将乃是传说中著名的铸剑师。《吴越春秋》、《搜神记》、《越绝书》等各有记载其铸剑的故事。关于他的出身地也有吴、楚等不同说法。但可知他与另一位铸剑大师欧冶子齐名，技艺高明天下少有。两人曾共同为君主铸剑，分别是龙渊、泰阿和工布。也有说法两人曾是同门师兄弟。干将的妻子名叫莫邪。《吴越春秋》里讲到干将令妻子以身铸剑。但在其他故事里，干将则被楚王所害，莫邪与他所生之子持剑为父复仇。',\n",
       "   'image': 'http://game.gtimg.cn/images/yxzj/img201606/heroimg/182/182-mobileskin-1.jpg',\n",
       "   'title': '干将莫邪-王者荣耀官网网站',\n",
       "   'url': 'http://pvp.qq.com/web201605/herodetail/182.shtml'}],\n",
       " ['http://pvp.qq.com/web201605/herodetail/189.shtml',\n",
       "  {'content': '鬼谷子-王者荣耀官网网站,万物有灵,鬼谷子,生存能力,攻击伤害,技能效果,上手难度,英雄故事,历史上的ta,王者荣耀首页,>,英雄介绍,>,鬼谷子,189,技能介绍,纵横兵法,冷却值：0,消耗：0,被动：鬼谷子脱离敌方视野3秒后，玄微子会再次归巢到法杖中，使得鬼谷子的下一次普攻强化至300（+45%法术加成）点法术伤害（可触发装备技能效果），造成区域减速效果。若发出强化普攻瞬间鬼谷子处于敌方视野外，该技能冷却时间延长至10秒,这个技能能帮助鬼谷子去游走时能很好的减速留下敌人，需要配合队友输出将敌人击杀,先知·神隐,冷却值：10,消耗：70,鬼谷子命令玄微子包裹自身，使自己与周围环境融为一体并提升移动速度，伪装效果会在鬼谷子用本技能以外伤害敌人时移除。加速期间，鬼谷子对触碰的每个敌人可造成450/540/630/720/810/900（+60%法术加成）点法术伤害(最多1次)，并降低该敌人的护甲和魔抗，持续4秒,这个技能降低敌人护甲和魔抗，能很好的提升我方输出英雄打前排的能力,万物有灵,冷却值：10/9.8/9.6/9.4/9.2/9,消耗：80,鬼谷子持续引导大量玄微子在自身周围聚集，对周围区域敌人持续造成100/120/140/160/180/200（+15%法术加成）点法术伤害。玄微子在2秒后集结完毕，再次对区域内敌人造成400（+60%法术加成）点法术伤害，同时将敌人拉扯到鬼谷子身旁并晕眩1秒，若该伤害命中敌方英雄，鬼谷子和该区域内队友将获得500/600/700/800/900/1000（+100%法术加成）点护盾,这个技能是鬼谷子作为辅助的核心控制技能，需要把握技能施放时机，和合理的走位，才能使得它能控制更多的敌人。同时，给附近的队友加护盾，让队友抵消一些伤害,先知·雾隐,冷却值：35/30/25,消耗：120,鬼谷子命令玄微子包裹自身和1500距离内的队友，使自己和队友提高移速并在1秒延迟后进入伪装状态，同时探查到距离鬼谷子最近的一名敌方英雄视野。这些效果在开启技能后最多持续4秒，伪装者若使用普攻、技能或敌方造成负面效果会立即解除伪装状态,这个技能是鬼谷子的核心功能，开启大招，附近友军群体隐身，能够在战术上得到很好的施展，可以群体隐身抱团进攻突袭，亦可用于保护友军进行撤退,冷却值：,消耗：,铭文搭配建议,Tips：鬼谷子的技能有不俗的伤害，法术攻击和法术穿透可以保障初期gank时的伤害能力，狩猎可以增加鬼谷子支援效率和伤害，献祭减少技能冷却，让鬼谷子隐身频率更高。,技能加点建议,主升,火焰三尖枪,副升,混天绫.束,召唤师技能,闪现/斩杀,英雄关系,最佳搭档,压制英雄,被压制英雄,最佳搭档,高渐离：推荐的原因是高渐离和鬼谷子的技能搭配爆发配合满分，鬼谷子游走或者团战时，使用1技能可以添加减抗性效果，3技能可以获得加速和群体隐身效果，2技能可以把敌人拉在一起并眩晕。和高渐离配合时用3技能隐身迅速贴近被1技能减少抗性的敌人，利用2技能硬控晕住的敌人，可以让高渐离有良好的输出环境。,李白：鬼谷子和李白可以产生很好的联动效果，李白2技能减伤后大招可以伤害爆炸，鬼谷子的1技能可以减少敌方抗性，配合李白的2技能大招会让伤害最大化，大招隐身技能也可以让李白的行踪难以被掌控。,压制英雄,王昭君：鬼谷子1技能加移速特别快，很容易躲掉王昭君最核心的2技能，鬼谷子也可以利用2技能控制破解王昭君的大招，所以鬼谷子相对克制王昭君，只要避免不被王昭君2技能大招秒掉可以轻松和王昭君对线，鬼谷子的持续输出能力也比较强，可以轻松应对王昭君。,兰陵王：兰陵王的核心玩法是隐身靠近敌方核心输出位，寻找时机切死敌方后排，而鬼谷子大招开启时会触发反隐效果，可以轻松发现兰陵王的身位，配合队友利用2技能控制1技能的减少抗性轻松秒掉兰陵王。,被压制英雄,机动性高的英雄不太容易被鬼谷子抓住,李元芳能侦测到鬼谷子的大概位置,出装建议,推荐出装一,推荐出装二,Tips：法术装配合一定肉装，使得其输出和承伤效果更平均,Tips：半肉半输出装备,英雄攻略,更多,英雄故事,很久以来，大陆就流传着关于“日之塔”的传说。那是黄金时代建造的奇迹，却毁于意外。因为这不幸的事故，极北之地才成为冰封苦寒的荒野。,有位学者对这个故事产生了好奇。,他的性情天真纯良，对大陆和世界充满探求的渴望。于是在没有任何同伴的情况下，踏上前往北方的路——本意仅仅是想拜访史书里记载的旧墟。不幸中途迷失方向，误入陌生的峡谷。,“眼前是规模庞大的战斗遗痕，仍能分辨出四散的古老机关核心与萦绕的魔道之力。在仔细的以脚步丈量峡谷后，发现了高耸的雕像：超智慧体。先民们建造它，歌颂超智慧体的胜利。可经历漫长时光后，植物和泥土反过来又试图将这峡谷掩埋。就在这里，我分辨出新的声音：它似乎与魔道相通，却并非魔道；它微弱得难以感知，却纯净而深不见底。”,怀着疑问，他离开这峡谷。又过了许多年，他的渊博被人们所熟知。那时候人类的君主掌握了越来越大的权力，而超智慧体的力量陷入衰退。于是，超智慧体的当权者开始谋划建造最后的奇迹：“转生之术”。许多饱学之士被召集到了起源之地，这学者也在其中。,因为奇迹的建造，王者大陆智慧的根源时隔多年后向人类打开了大门。学者兴奋极了，他终于有机会去了解青年时曾感知到的那股力量。他认为，这一定就是传说中的知识根源。,可他越是研究，越是疑惑：这世间万事万物的来历，百种千回的因果，真的一如超智慧体所言吗？为何自己从魔道中汲取的，和过去自峡谷中聆听到的，并不完全相同？,恐怕是学问还不够精深，对知识的理解还不够透彻吧……他一心要寻求到答案，专心投入奇迹的建造。之后，千载难逢的机会降临：封神战争的爆发，当权者的隐退，战乱流离令所有人卷入灾难。他逃离了起源之地，追随他的，还有同样致力于建造奇迹的其他人。,他们在僻静而避世的大河流域，在森林和流水的环绕下，继续研究……不知道过去多少年，被所有人遗忘的地方，他们似乎真的实现了不可能之事：完成“转生之术”。这是所知的靠近知识根源的唯一办法了。,于是，奇迹的建造者，以这位学者鬼谷子为首——一个接一个接受了转生之术的洗礼，并拥有了神明般强大的力量，一道不可思议而危险的大门被打开了。,鬼谷子感受到不安。他从奇迹里看到了一个可怕的世界。这使得他对自己的造物产生了怀疑。但他刚刚提出疑问，就几乎遭遇不测：奇迹完成后，作为领导者的他已经没用了。他的弟子们现在想要独霸奇迹，完全不能容忍任何对奇迹的质疑。为了保住性命，他不得不逃离。,很长时间里，他风餐露宿于大河畔的森林，拼命朝渺无人烟的沼泽深入。他好像又回到了青年时代，独自的旅行中。在没有注意到的时候，连行路的手杖也萦绕着萤光。他称它们为“玄微子”。玄微子们与这人类的博学者亲近，它们引领着他跋涉。直到有一天，当他从藤蔓的保护下苏醒时，又听到了声音：自然的轻语，它似乎与魔道相通，却并非魔道；它微弱得难以感知，却纯净而深不见底。它是这个世界的法则之一。不是知识根源，不是超智慧体，就是脚下这片土地，这片森林的法则和力量。,几乎穷尽一生的探索后，他似乎终于寻求到了梦寐以求的真谛。,“万物皆有灵”,历史上的TA,鬼谷子，姓王名诩，又名王禅，号玄微子，为春秋战国时期人。因隐居清溪鬼谷，故自称鬼谷先生。他精通百家学问，通天彻地，智慧卓绝，为兵法家尊为圣人，亦是纵横家开山祖师。《史记》中有《苏秦列传》和《张仪列传》记载其事迹，二人均师从鬼谷门下。鬼谷子的代表作为《鬼谷子》，又名《捭阖策》，一说由鬼谷先生后学者整理其言论而成。该书融合了鬼谷子毕生学术研究精华，总结了纵横家游说经验，为后世了解纵横家与道家思想提供了极有价值的参考，被称为“智慧禁果，旷世奇书”。',\n",
       "   'image': 'http://game.gtimg.cn/images/yxzj/img201606/heroimg/189/189-mobileskin-1.jpg',\n",
       "   'title': '鬼谷子-王者荣耀官网网站',\n",
       "   'url': 'http://pvp.qq.com/web201605/herodetail/189.shtml'}],\n",
       " ['http://pvp.qq.com/web201605/herodetail/193.shtml',\n",
       "  {'content': '铠-王者荣耀官网网站,破灭刃锋,铠,生存能力,攻击伤害,技能效果,上手难度,英雄故事,历史上的ta,王者荣耀首页,>,英雄介绍,>,铠,193,技能介绍,修罗之魂,冷却值：0,消耗：0,被动：铠拥有精湛的战斗技巧，当铠的普通攻击和极刃风暴只命中一个目标将会额外造成50%伤害,在铠利用2技能攻击敌方英雄时候尽可能多的利用普攻来造成额外伤害。,回旋之刃,冷却值：10,消耗：60,铠向指定方向投掷刀刃，对命中的敌人造成150/180/210/240/270/300（+60%物理加成）点物理伤害并减少其30%移动速度，持续1秒；刀刃命中敌人后会在敌人间弹射，最多弹射4次；命中至少一个目标将会额外减少20%移动速度，持续1秒；当刀刃命中敌人时，铠将回复150/180/210/240/270/300（+60%物理加成）点生命值并且减少30%回旋之刃的冷却时间，同时增加20%移动速度，持续3秒,这个技能需要预判对手走位释放，加速效果使得他在追人时能保证他粘住敌人,极刃风暴,冷却值：6,消耗：50,铠向指定方向发动两次挥砍，每次80/96/112/128/144/160（+30%物理加成）点物理伤害；并且第二次挥砍会将敌人击飞0.5秒；同时使得下一次普通攻击更变为冲砍，冲砍会冲锋至目标身旁并发动普通攻击，冲砍会额外造成80（+30%物理加成）点物理伤害。被动：脱离战斗后铠每秒回复1%最大生命值及最大法力值，并且会增加10/12/14/16/18/20点移动速度,这是铠的突进和主要控制技能，命中将敌人轻微击退，被动带来的移速提升能够让他更好的游走支援,不灭魔躯,冷却值：60/55/50,消耗：120,铠召唤魔铠，魔铠在1秒后降临，对附近造成300/400/500点法术伤害并强化自身100/150/200攻击力、50点移动速度、60/120/180点伤害格挡；同时会对自身附近的敌人造成60点法术伤害，持续8秒；,铠的大招在短暂延迟后才能造成伤害，需要注意走位和大招造成伤害的时机配合。同时，开启大招铠的各项属性在一段时间内都将得到极大的增强,冷却值：,消耗：,铭文搭配建议,Tips：铠的一技能回复能力与物理加成有关，传承增加物理攻击力。鹰眼所提供的物理穿透提升后期伤害。隐匿不仅可以提高铠的物理攻击力，还可以增加铠的移速更好的追击敌人。,技能加点建议,主升,火焰三尖枪,副升,混天绫.束,召唤师技能,闪现/斩杀,英雄关系,最佳搭档,压制英雄,被压制英雄,最佳搭档,铠配合宫本小团战战斗力爆表,铠配合花木兰小团战战斗力爆表,压制英雄,没位移的射手英雄要离铠远一点哦,没位移的射手英雄要离铠远一点哦,被压制英雄,铠容易被长手法师风筝,铠容易被长手法师风筝,出装建议,推荐出装一,推荐出装二,Tips：前中期以输出装为主，后期补上一定的血量装备以保证持续输出能力,Tips：打野出装思路，半肉铠，主要利用控制效果配合队友输出,英雄攻略,更多,英雄故事,古老的魔道家族，流动着神秘力量的血脉传承，都是因为“罪”而获得的。当年轻人追溯着疯狂血缘的来历了解到这个事实后，变得面目全非。,他抛开家乡离去……只留下可怕的传说。当一个家族获得不属于自身的力量，终究是要偿还的。而他背负起了罪恶，去终结罪恶。,好些年里，令人颤栗的魔刃如同幽灵漂泊于勇士之地，引发同样身为魔道家族后人们的恐慌。可所有毫无意义的战斗都不能填补灵魂的空虚，只会令绝望与日俱增。他终究消失了，在前往东方的路途上。他想去追溯魔道根源，也许可以令自己摆脱无尽宿命的折磨。,他就这样步入滚滚黄沙深处——大片统称为“西域”的土地。而那里，正经历着改变所有人命运的剧变。,大漠中的绿洲，稀有珍贵的泉水，深达地下的石井……围绕它们所建立起来的诸国，在漫长的时光为了水源彼此攻讦，相互纷争不断，直到大唐铁骑的来临才有所改变。前所未有强盛的帝国建立起都护府，打开关市，从丝绸之路运来茶和布匹，调解了冲突和争夺。大漠中因此平静数十年之久。,可那前往东方的剑士路过时，看到的是毁灭的迹象。王庭沦陷了；都护府沦陷了；当地平民哭号着，唐国的士兵倒于路边奄奄一息，他们都认为对方才是背叛者。,冷漠的剑士没兴趣了解谁对谁错，但魔道的泛滥令他厌恶，让他想起昼夜折磨他的噩梦。于是所有人逃离沦陷的城市时，他逆行步入灾厄深处。成群结队的魔物自剑下哀嚎着倒下，可危险的气息越来越浓烈：他想，有个家伙，非常擅长魔道的家伙，在窥视着。他要找出他，他有着这样的自信和骄傲。,随之四周变化为熟悉的景象：他的过去，他的宿命，他的噩梦，他的每一次战斗，那幕后邪恶的家伙无法正面与剑士对抗，就要使用幻术令他自绝于痛苦和绝望。这是魔道之刃与魔道之法的对决。他挥出了剑！剑光带着力量和意志斩破邪恶的迷雾，有什么东西发出惨叫和怒吼。,幻术消散了。废墟中，剑士立刻明白为何那家伙死命阻止他：小小的少年，恐惧哭泣的魔种混血少年全身笼罩在刻印的法阵中，会被用来作为祭品唤醒某种强大的东西。,“哥哥。”少年撕心裂肺的哭喊着。“哥哥。”记忆中刻意想要忘掉的声音，同样呢喃“哥哥。”“哥哥。”剑士的记忆飘渺到很久以前，为强盗挟持的女孩伸手向他求援。“哥哥。”“哥哥。”,冰封的心瞬间瓦解。饱吸生命的恐怖魔物没有抓住它渴求的最后祭品，少年被抛往远处。反倒是踏进法阵的剑士自己遭迷雾拖入黑暗。然后，某种有生命的物体挣扎着，牢牢包裹他，欲将他吞噬。,“哥哥。”“哥哥。”“哥哥。”,啜泣的声音越来越远，却清晰入心。身体被撕裂，意志越发清醒。濒临死亡的剑士嘴角泛起冷笑，这邪恶的生物似乎不清楚，自己才是他们中间更可怕，更恐怖的那个。,他再次挥剑。,穿过大漠的风吹动着高扬的旗帜，凤鸟的图案鲜明如火。它傲然的矗立着，纵使经过七日七夜不断的战斗，宣示着长城一角始终难攻不破。,第八天，围困这堡垒的魔种骚动起来，那与他们作对的绯红身影，从它们的来路发起了攻击。最终的战斗从夜晚持续到黎明，数量悬殊的双方始终无法取得决定性胜利：直到一个人，一个活生生的人，旁若无物，摇摇晃晃走进伤痕累累的战场。,绯红的巡守者自战场中间捡到了异乡剑士。有生命的魔铠在她眼前快速退却，露出苍白的面庞和伤痕累累的身躯，手里紧紧抓着一把剑。周围是堆砌如山的魔种尸体。,“从哪里来？”也不知道他能否听懂。,“忘记了。”拙劣的通用语回应。,“名字呢？”,“忘……”,“铠。”女性将领利落的打断他。“就叫你铠吧。快起来，别装死。”,异乡人露出无奈的苦笑。,绯红的身影头也不回。“你很强，我们需要你这样的人。留下来吧。也许会后悔。反正你什么都忘了，后悔也无所谓吧。”,突然被取名为铠的剑士望着手里的剑。剑上的斑斑点点，让他想起绝境中的沙地，生长的花。,铠吗？似乎不错。忘掉锐利的、只会伤人的剑，从此以守护的铠之名存在。,他撑起身体，慢慢跟了上去。,前方，是延绵到天尽头的长城。,以绝望挥剑，着逝者为铠,历史上的TA',\n",
       "   'image': 'http://game.gtimg.cn/images/yxzj/img201606/heroimg/193/193-mobileskin-1.jpg',\n",
       "   'title': '铠-王者荣耀官网网站',\n",
       "   'url': 'http://pvp.qq.com/web201605/herodetail/193.shtml'}],\n",
       " ['http://pvp.qq.com/web201605/herodetail/196.shtml',\n",
       "  {'content': '百里守约-王者荣耀官网网站,静谧之眼,百里守约,生存能力,攻击伤害,技能效果,上手难度,英雄故事,历史上的ta,王者荣耀首页,>,英雄介绍,>,百里守约,196,技能介绍,瞄准,冷却值：0,消耗：0,被动：百里守约的普通攻击拥有更高的伤害，造成180%物理加成点物理伤害但攻击间隔更长且无法暴击（每1%暴击率转化为3点物理攻击力）；非战斗状态下，百里守约能够隐匿在地形边缘，获得伪装和16%移速加成效果（随等级提升最高30%）,百里守约只需要追求更高的物理攻击和物理穿透; 而伪装则能帮助百里守约寻找安全的狙击位置或者追杀中轻松逃脱,静谧之眼,冷却值：1.5,消耗：30,百里守约在脚下布置一个视野装置，获取周围600范围的全部视野（随等级提升最高1000）；百里守约普攻和技能对探测视野内的野怪造成额外伤害效果；视野装置最多存在3个，持续300秒，被敌方英雄占领后失效；被动：原地不动时百里守约每秒获得一层伏击效果，增加自身7/8/9/10/11/12%物理穿透，最多叠加5层；移动后效果消失,通过静谧之眼掌控视野，把控全局，技能的被动会让百里守约狙击敌人时造成更高的伤害,狂风之息,冷却值：1.5,消耗：60,百里守约开始瞄准，并尝试进行一次狙击，造成1050/1200/1350/1500/1650/1800（+250%额外物理加成）点物理伤害和减速效果；瞄准需要花费2秒时间，但在瞄准未完成时子弹有可能产生偏移；技能子弹每16秒获得一颗，最多储存3颗（受冷却缩减影响）,狂风之息拥有超远的射程和视野范围，是百里守约的核心技能，百里守约主要通过该技能狙击对方制造伤害，可以开启团战或收割残血敌人,逃脱,冷却值：25/20/15,消耗：100,百里守约向后跳跃并进行射击，对命中的敌人造成500/700/900（+168%物理加成）点物理伤害与减速；落地后增加移动速度持续2秒，或执行一次技能攻击或普通攻击,逃脱会让百里守约摆脱近身突袭的敌人,冷却值：,消耗：,铭文搭配建议,Tips：物理攻击和物理穿透提升前期输出能力，移动速度保证游走逃脱能力,技能加点建议,主升,火焰三尖枪,副升,混天绫.束,召唤师技能,闪现/斩杀,英雄关系,最佳搭档,压制英雄,被压制英雄,最佳搭档,拥有霸体的廉颇随时能够扰乱对手突进节奏，为百里守约创造安全的输出环境,百里守约可以与牛魔的控制技能打出致命的先手连招,压制英雄,没有多段位移的战士不会对百里守约造成太大的威胁,没有多段位移的战士不会对百里守约造成太大的威胁,被压制英雄,大招的强突进会逼迫百里守约狙击位置,中后期妲己的强控和爆发足够秒杀百里守约,出装建议,推荐出装一,推荐出装二,Tips：前中期利用技能范围优势，可以选择纯输出装备，最后一件选择贤者庇护增加容错率,Tips：全输出装备，对于2技能的位置选择要求更高，敌方回复能力比较突出时，可以选择制裁之刃,英雄攻略,更多,英雄故事,“会照顾好母亲和弟弟的。”,父亲奄奄一息倒在长城之下时，少年浑身颤抖着接过那杆枪。,“会一直、一直守护弟弟的。”母亲临终前竭尽全力将两个儿子的手交握在一起，少年坚定做出男子汉的承诺。,无父无母的两个孩子，就这样顽强生活在长城之畔的镇子上。少年带着弟弟，以作零工为生。关市开启是人们最快活的日子，四面八方的商人和货物汇集着。少年穿梭其中，眼明手快，笑脸迎人，商人们也乐意关照他，慷慨给出更多赏金。闲暇时候，哥哥会将弟弟寄托到好心邻家，只身外出狩猎。他熟悉远近所有水草丰茂之地，无论野羚抑或大雁，最终都变成猎物满载而归。,唯一让人烦恼的，大概是如何教导弟弟这件事了。少年会很认真听邻居阿妈传授教育三个孙子的心得，会努力钻研厨艺好让挑食的弟弟不耽误长身体，会亲手为弟弟雕刻木人和玩偶，甚至挑战起缝制衣物这样比射中一百米外猎物还要高难度的技能。,可脸蛋圆圆的，失去父母却被哥哥照顾得很好的弟弟，渐渐成长为心灵敏感又胆小的孩子，怕惊雷，怕嘲笑，怕跟陌生人说话，甚至不敢告诉哥哥，孩子们之间也会排斥和挑衅魔种混血。少年初次外出狩猎归来的那天，年幼的弟弟可怜兮兮坐在家的门槛上，两眼肿如桃子般。,“玄策，我回来了。今晚有大餐罗。”,男孩并没有如预想扑到怀里，反倒猛地朝外跑去。,“玄策！”,路上的人纷纷回头，惊讶望着迈起小短腿跑得飞快的男孩和跟在后面高声呼唤的少年穿过半个镇子。,男孩子一头扑到长满蒿草的土堆上。那是父母安睡的地方。,“连哥哥也丢下我了！”他拼尽全部愤怒控诉着，反倒显得那样可怜。,“不会的！”少年轻轻蹲在弟弟面前，摸着他的头：“哥哥没有丢下你，永远不会丢下你。我们约定。”,“拉钩，约定。”,为向弟弟赔礼道歉，饱餐后的夜幕下，哥哥雕刻起小木片，灵巧的手下很快出现雏形。,“这是大雁。大雁秋去春回，是再远也会回家的动物。”,“这是爱哭的玄策。”肿眼睛的小孩形象活灵活现。,“这是哥哥。”玄策也拿出自己的作品，隐约有双手双脚的木人。,精致的小人和粗糙的小人放在一起，好像手牵着手。,“拉钩，约定。兄弟，永远不分离！”,命运终究令人猝不及防。次年春天，四面八方的商旅们聚集于关市的日子，来历不明的马贼队伍，非人的马贼队伍突袭了人群，集市瞬时陷入火海。最初的混乱过去，但凡有点气力的乡亲纷纷汇聚起来，他们要协助守卫军关上那扇大门，他们要守住家乡。,少年犹豫着。他应该加入，可弟弟该怎么办。,“你，去吧。”玄策站在比自己还高的水缸里，明明尾巴害怕得摇来摇去，包着泪水的眼巴巴看着哥哥。“玄策会乖乖的，玄策在家等你。谁叫都不出来。”,“嗯，就这么约定。”少年想了想，又嘱咐：“别怕。”,“不怕，一点都不怕。”,如雨的飞箭下，他和同伴们死命撑着城门的支柱。他们关上大门，将贼人的队伍一分为二，守卫军追捕着城内的贼子，乡民们的任务就是守住这扇大门。守住城门，就守住了弟弟。而他唯一的愿望正是守护住弟弟。,可当四周安静下来，残垣断壁的家中却找不到弟弟的身影。邻居七嘴八舌述说着，拼凑出前因后果……走投无路的贼人们劫持无力反抗的老弱们，作为逃离的砝码。本来躲在水缸中的玄策，冲了上去……,院落的一角，碎裂的小木人静静躺着。玄策那时候该多么恐惧呀，但自己没有遵守住约定。,不久，长城守卫军中多出一个安静的身影，他的射击技术精妙无比，深谙戈壁上的生存与厨技之道。令上司头疼的却是他对任务太过积极。他总朝更远的地方搜寻，越来越远。他坚信弟弟在某个地方等待着他，他也会在家乡迎接着弟弟的归来。,为了提醒自己，他改名守约。,守约，言出必果。,“今天的长城也很和平。”,历史上的TA',\n",
       "   'image': 'http://game.gtimg.cn/images/yxzj/img201606/heroimg/196/196-mobileskin-1.jpg',\n",
       "   'title': '百里守约-王者荣耀官网网站',\n",
       "   'url': 'http://pvp.qq.com/web201605/herodetail/196.shtml'}],\n",
       " ['http://pvp.qq.com/web201605/herodetail/195.shtml',\n",
       "  {'content': '百里玄策-王者荣耀官网网站,嚣狂之镰,百里玄策,生存能力,攻击伤害,技能效果,上手难度,英雄故事,历史上的ta,王者荣耀首页,>,英雄介绍,>,百里玄策,195,技能介绍,狂热序章,冷却值：0,消耗：0,被动：钩链近端造成80%物理加成点物理伤害，远端额外造成50%伤害。玄策普通攻击将会触发神乎钩镰的效果且有25%的概率造成暴击  ，当钩镰远端命中敌人时降低移速，并且自身会获得短暂移速提升，该效果受神乎钩镰等级影响,使用技能之后普攻三次后再使用技能是玄策的基本操作，击杀或助攻后，获得的超高攻速和移动速度使得玄策十分擅长收割战场,神乎钩镰,冷却值：5/4.8/4.6/4.4/4.2/4,消耗：50,玄策进行快速位移戏弄对手，钩镰链中时，玄策进行快速位移会将链中的目标向自己移动方向拉动一小段距离。当钩镰远端命中敌人  时，敌人将会减少10%移动速度，自身增加10%移动速度；,在未链中的情况下使用，可以快速的位移寻找切入位置或者躲避技能，在链中的情况下使用，可以强制让敌人向着玄策位移一段距离,梦魇钩锁,冷却值：10/9.6/9.2/8.8/8.4/8.0,消耗：70,玄策舞动镰钩，蓄力后将镰钩向指定方向甩出，钩镰会对路径上的敌人造成400/480/560/640/720/800(+200%额外物理加成)点物理伤害并捆绑在回收过程中命中的第一个目标，同时对捆绑目标施加狩猎效果；如果捆绑住目标后再次释放该技能，玄策会将目标甩向身后并失去狩猎效果;蓄力越久，镰钩飞行距离越远，蓄力最多持续4秒；蓄力时，自身将增加40%移动速度；取消蓄力会减少梦魇钩锁60%的冷却时间；玄策和狩猎目标作战时将增加10%伤害并减少20%该目标对自己的伤害；狩猎目标死亡，将立刻刷新梦魇钩锁的冷却时间,开始蓄力时，玄策的移动速度会增加，并且会对敌方走位进行压迫，命中后配合玄策不同技能组合可以打出多种的效果,瞬镰闪,冷却值：2.5/2.3/2.0,消耗：80,玄策沿钩镰锁链瞬镰闪到对方身后，对路径的的敌人造成350（+200%额外物理加成）点物理伤害；移动过程中，玄策挥舞短镰，将会  减少50%所受到的伤害；瞬镰闪只有在钩镰捆绑住目标时才能释放；被动:玄策助攻或击杀死英雄都会激发心中的狂血使得移速增加100%（随时间效果减退），攻速增加150%，持续5秒,冷却较短的瞬镰闪使得玄策无比灵活，利用瞬镰闪快速移动至合适位置，将目标投掷到危险地带或者直接突袭敌人都是不错的选择,冷却值：,消耗：,铭文搭配建议,Tips：玄策应该优先选择穿透铭文搭配暗影战斧，针对后排进行突进输出,技能加点建议,主升,火焰三尖枪,副升,混天绫.束,召唤师技能,闪现/斩杀,英雄关系,最佳搭档,压制英雄,被压制英雄,最佳搭档,庄周可以让百里玄策团战时更加安全,高渐离可以在团战中压低对方血线，以便百里玄策进场收割,压制英雄,没有位移技能的射手被勾中几乎可以宣布死亡,安琪拉技能需要预判，而百里玄策灵活的狩猎技巧导致很难命中,被压制英雄,强力控制对于百里玄策来说是十分致命的威胁，几乎不敢先手入场,灵活的英雄可以轻松避免钩镰命中，而没有命中钩镰的玄策无法开启收割节奏,出装建议,推荐出装一,推荐出装二,Tips：前期打野堆叠攻速方便清野，快速升级保证gank效率，高攻击力能让收割变得更加容易,Tips：能快速合成输出风暴大剑装备，吸血装保证玄策线上的续航能力。,英雄攻略,更多,英雄故事,玄策不会忘记那个日子：来历不明的马贼冲破边关的城镇，然而齐心协力的守卫军和民众守住城门。率先进入城镇的马,贼走投无路，挟持了无力反抗的老弱们作为逃离的砝码。,那时候自己多么害怕啊。可哭喊声刺痛小小男子汉的心灵，他推倒藏身的水缸，冲了出去。,之后的记忆已不太清晰……那些不是普通的马贼……他们最后都死于首领之手……哥哥没有赶到，谁也没有赶到。他被首领选中，作为祭品去唤醒某种强大的东西。所有人四散逃窜，在绝望和恐惧中，少年眼睁睁看着无名剑士代替自己卷入邪恶迷雾。,直到周围一切归于寂静，圆月安静照耀着亘古不变的戈壁，那个男人带走了他。,好些年来，他和自己单方面称之为师父的这个人，生存于几近干涸的月眼海旁。经年累月的残忍训练使他成长为出色,的暗夜行走者，可称得上伙伴的仅有手中的飞镰。,师父蛰伏着，自过去部下手中取得情报，时不时消失又归来。他不信任任何人，永远独自行动。如此风格影响下，这个游荡在戈壁的小疯子也惯于以一己之身“惹是生非”。,自灾厄之后幸存的人们零星聚居，竭力在残酷环境和魔种的威胁下谋取生存。自然，有人的地方，总不会缺少各种欺压和争斗。,这个小疯子就是法外之地不公的克星。他起初仅仅挑战强于己身的魔种，很快便学会了穿梭于戈壁绿洲之间，去嘲弄、对抗依仗力量玩弄他人命运的混蛋：劫掠的马贼、横行霸道的游民首领、丝绸之路的生财者以及试图占地为王的跳梁小丑们。这种疯狂的乐趣使他得以宣泄痛苦，去报复旧日悲剧的制造者。,……直到遇上那强大的对手。,她的武技足够强大，雕刻瓣鳞花的大剑刀锋绽放，令魔种溃散；她的意志足够强大，玄策竟然产生面对严格家长般的心理压力；这就是长城守卫军吗？她如何能做到毫不在意背负的污名，单刀直入剥开玄策的天真。,知道吗？你的师父也是“幽灵”，徘徊于长城的“幽灵”。,知道吗？昔日悲剧的背后另有主谋。,知道吗？有个人一直在寻找你。,多少次他在圆月的照耀下，遥望长城的方向。月光点亮漫长的，通往故乡的道路。最痛恨的哥哥，最挂念的哥哥，是否也在月光之路的另一头，遥望戈壁上的自己和没有实现的约定呢？,引领这名叫花木兰的敌人，面对师父的刹那，玄策就知道他们并非初次相会。显然，经历暗夜中的无数较量后，木兰选择了主动出击。她试图说服固执的昔日王族，彻底揪出幕后者。,“玄策，你想回去吗？”师父问。“那就跟她回去吧。不过，先让我试试看你是否会哭着鼻子逃回来。”,风沙骤起的戈壁，令人惶恐。,飞扬跋扈的钩锁激起沙石，携带着少年的怒火。他不知道如何正确表达自己的感情，也不知道如何按捺住会再度被抛弃的、会再度要失去的痛苦。,内心的嘶吼化作自由伸缩的飞镰，攻击再攻击，却完全无法命中——师父自隐匿中现身时，短刃牢牢架在少年的脖子上。,“不肖弟子。”,“你……终于承认是我师父了吗？”少年突然大喊。,“不，我不需要弟子，也不需要同类。”,遮面的男子发出喟叹，松开手臂。,疯狂自少年血红的双目中褪却，锁链松弛着坠地。他眼睁睁目送着那苛刻养大自己的身影，消失在风沙中，仿佛一去不返。,“我是不吉利的人吗……所有人最后都会离开我。”少年喃喃自语。,“他没有抛弃你。他只是选择独自去面对恐惧。”木兰轻声说。她很清楚，风沙深处隐藏着难以想象的恐惧。,“你们不是敌人吗！你怎么敢断定师父在想什么！”,“大概因为，我们都有着自己要守护的故乡吧。”,“全场醒目担当！”,历史上的TA',\n",
       "   'image': 'http://game.gtimg.cn/images/yxzj/img201606/heroimg/195/195-mobileskin-1.jpg',\n",
       "   'title': '百里玄策-王者荣耀官网网站',\n",
       "   'url': 'http://pvp.qq.com/web201605/herodetail/195.shtml'}],\n",
       " ['http://pvp.qq.com/web201605/herodetail/194.shtml',\n",
       "  {'content': '苏烈-王者荣耀官网网站,不屈铁壁,苏烈,生存能力,攻击伤害,技能效果,上手难度,英雄故事,历史上的ta,王者荣耀首页,>,英雄介绍,>,苏烈,194,技能介绍,不屈铁壁,冷却值：90,消耗：0,被动：苏烈在濒临死亡时会立即回复60%最大生命值，同时会陷入虚弱状态，持续4.5秒；虚弱状态下将禁止一切操作并免疫控制效果，自身会减少25%物理和法术防御；虚弱状态结束时，苏烈将发出怒吼，对附近敌人造成150（+100%物理加成）法术伤害并减少其50%移动速度，持续2秒；虚弱状态结束时，苏烈还将增加50%攻击速度和30%移动速度，持续2秒；刚陷入虚弱状态时，苏烈周围会出现3盏烽火台，队友可通过触碰烽火灯台来点亮烽火，每点亮一盏将会为苏烈和该名队友回复10%最大生命值;3盏烽火台都被点亮时，会立即结束虚弱状态；苏烈每90秒才能触发一次虚弱状态；苏烈的意志力能增加60点物理防御和法术防御，但不屈铁壁处于冷却时会暂时失效,复活过程中，需要队友协助点燃烽火，让苏烈可以快速站起投入战斗。,烽烟踏破,冷却值： 9/8.4/7.8/7.2/6.6/6,消耗：60,苏烈的下三次普通攻击变更为强化攻击，每次攻击造成100/130/160/190/220/250（+120%物理加成）点物理伤害，第三击将会对敌人造成0.75秒击飞。,主要输出技能，第三击可以击飞敌人，配合被动的加速效果时，可以在短时间内打出高额伤害。,所向披靡,冷却值：10/9.6/9.2/8.8/8.4/8,消耗：80,苏烈短暂蓄力后，朝指定方向冲撞，对敌人造成100/130/160/190/220/250（+40%物理加成）点物理伤害并将其击退。如果敌人在击退至地形边缘，将会受到额外50%伤害并晕眩1秒。如果苏烈冲撞敌方建筑，将对建筑造成250（+100%物理加成）点物理伤害。,释放时需要一定的预判，尽量将对手冲撞到地形边缘造成晕眩效果。推进的时候，可以释放此技能直接攻击防御塔。,豪烈万军,冷却值：45/40/35,消耗：120,苏烈举起柱子开始蓄力，释放时会用力将柱子砸向地面，对范围内敌人造成300/375/450（+150%物理加成）点~1000(+150%物理加成)点物理伤害并将其击飞1秒；蓄力时间越长，攻击范围越大，伤害越高；被击飞的敌人在落地时还会以该名敌人为中心再产生一次震荡攻击，对附近的其他敌人额外造成50%物理伤害；蓄力期间可以移动，取消时会减少80%冷却时间；被动：苏烈释放技能攻击或者强化攻击时将引发地震，持续3秒，对附近的敌人目标造成38（+25%物理加成）点法术伤害,蓄力阶段要避免被对手打断，时刻观察目前的攻击范围和敌人的分布情况，确保在最佳的时机进行释放，对敌人造成毁灭一击。,冷却值：,消耗：,铭文搭配建议,Tips：因为苏烈整体的防御能力较强，所以符文推荐以攻击和移速为主，达到攻守平衡。,技能加点建议,主升,火焰三尖枪,副升,混天绫.束,召唤师技能,闪现/斩杀,英雄关系,最佳搭档,压制英雄,被压制英雄,最佳搭档,大招隐身加速帮助苏烈进场。配合2技能，让苏烈的大招发挥最大效果。,配合庄周大招的免控效果，苏烈可以更好的选择释放大招的位置和时机。,压制英雄,苏烈被动自带超高的护甲和魔抗，阿珂想近身与苏烈肉搏是基本没有胜算的。,苏烈拥有超强的控制技能，当孙悟空对脆皮英雄发起突袭时，苏烈可以轻松克制并保护队友。,被压制英雄,苏烈进场释放大招的时候，达摩可以迅速打断他，并将他击飞到战场以外。,苏烈的控制技能都有一定的释放前摇，孙尚香可以快速频繁的位移躲开苏烈的攻击。,出装建议,推荐出装一,推荐出装二,Tips：坦克出门装，红莲斗篷配合大招被动可以持续对附近敌人造成伤害，超强防御能力，配合各种被动效果可以持续在人群中输出。,Tips：战士出门装，中前期可以打出较高的伤害，对敌方后排威胁较大。后期通过装备大幅度提升自身的生存能力，增强持续输出。,英雄攻略,更多,英雄故事,青年时代的苏烈于科举中拔得头筹之时，似乎便注定了人生的坦途：出身世家望族，才华横溢又深得老师赏识，前途无量。然而同窗们大跌眼镜的是，他选择了投笔从戎。,自幼生活于长安，见惯东市和西市的繁华，无数次想象来自远方的珍奇异物，如何经过漫长的丝绸之路被送到长安。碧眼的异乡商人，讲述着惊心动魄引人入胜的旅途故事。摇曳的驼铃，汗血的宝马，绿洲之上的古老城池……还有长城，守护一路繁荣的长城，遥遥看到它的屹立，就能让长途跋涉的旅人们心安。对此心驰神往的青年，放弃仕途，作为长城守卫军一员在边塞度过十年时光。,离开故乡长安的十年里，曾经握笔的手生满老茧。与意气风发的诗人饮过送别的美酒，也从沙漠中挖来瓣鳞花精心栽培。他愈发坚定相信，长城才是自己生命的羁绊与归宿。,彼时商旅往来长城频繁，但小范围的纷争时常发生。苏烈向戍边的他国将领提议放下干戈。对方耳闻他的宽厚，信任这份诚意而欣然接受，双双去掉警备。自此边民们可以在固定的日子举行关市互通有无，那些年的长城内外畜牧遍野，繁盛尤似关内。,直到令他终身悔恨的不幸发生。,盖着朱红印章的密令，用高高在上不容置疑的口吻，质问关市开放乃通敌行为，命他将功赎罪。,苏烈不解而愤慨，一连好几封奏章抗议，皆石沉大海。反倒催促行动的密令道道紧逼。贪图功劳的监军急不可待，私领随从偷袭参加关市的戈壁之民，好为平步青云邀功。苏烈策马赶去为时已晚，昔日繁华的市集徒留废墟与硝烟。深深的痛苦与愧疚灼烧着心灵——尤其听闻旧日缔约的对方将领也下落不明。,毫无疑问，袭击破裂了长久的信任，长城两侧的氛围骤然紧张。而上峰大堆的军功赏赐，明晃晃嘲笑着他的古板，使他如芒在背。,辜负信任。,辜负和平的期望。,是自己的过错。,抱着难以遏制的悔恨，终于，大漠马贼冲击大唐边城的战斗中，奉命援助的苏烈挡在摇摇欲坠的城门前，钢刀早已卷刃，面对蜂拥的敌人，他大吼着挥起粗围的撑木迎击而上。,要赎罪才行，哪怕是用生命。,身躯轰然倒下。,不知过去多久，苏烈从昏迷中醒来。一群流民拼凑出为数不多的食物，努力挽留他的生命。,“是守卫军的人吗？”浑身灰扑扑的小孩好奇心满满：“长大了，我也想加入。站在长城之上……”他摆出舞剑的姿势。,“不，……你们认错了……”苏烈从喉咙中艰难的挤出几个字。内心的声音在呐喊……为什么自己仍然活着，没有守护住从少年时便珍视的、向往的东西，不得不厚颜苟活着。自己……不配拥有这名号！,从这天起，昔日世家子弟，曾经长城守卫军的猛将，彻底抛弃所有。他混迹于流民之中，俨然成为领头人，教他们读书识字，狩猎耕种乃至武技兵法。当动荡和冲突发生，那魁梧的身影便带着衣衫褴褛的伙伴，出其不意的出现，援救危难中的人们。偶尔在月色下，他会想起和友人诀别的那杯酒，想起或许此生再也回不去的长安。,这是他的赎罪。,苏烈这个人，恐怕早就作为牺牲者的一员，被世人遗忘吧。,可命运总是出其不意，时时勾连起苏烈与长城之间的羁绊。那绯红身影的出现，断然结束了他的自我放逐。,“你，不是长城守卫军吗？”,“我没有资格。”,“那不更应该像个守卫军的样子，堂堂正正担起该担的责任吗？”她说。“至少设法弄弄清楚，当年发出袭击密令的主使者，真正的面目！”,宽大的手掌猛然握紧。遥远暮霭中，起伏的长城傲然耸立，犹如十多年前所望的第一眼那样。,长城在，故乡就在,历史上的TA',\n",
       "   'image': 'http://game.gtimg.cn/images/yxzj/img201606/heroimg/194/194-mobileskin-1.jpg',\n",
       "   'title': '苏烈-王者荣耀官网网站',\n",
       "   'url': 'http://pvp.qq.com/web201605/herodetail/194.shtml'}],\n",
       " ['pvp.qq.com/v/detail.shtml?G_Biz=18&tid=177158',\n",
       "  {'content': '解说视频-王者荣耀官网网站-腾讯游戏,王者荣耀,官网首页,HOME,游戏资料,DATA,攻略中心,RAIDERS,赛事中心,MATCH,商城/合作,STORE,社区互动,COMMUNITY,玩家支持,PLAYER,版本介绍,游戏介绍,英雄资料,爆料站,故事站,游戏壁纸,攻略中心,英雄攻略,视频中心,KPL职业联赛,KCC王者冠军杯,KOC王者城市赛,QGC夏季联赛,TGA大奖赛,WGC精英赛,王者高校联赛,周边商城,王者信用卡,王者文化站,官方助手,手Q部落,微信圈子,官方微博,微信公众号,手Q订阅号,成长守护平台,健康系统,客服专区,礼包兑换,自助服务,王者荣耀首页,>,视频详情,0,点赞,0,分享到：,热门视频,今日,本周,本月,投稿：,0,粉丝：,0,个性签名：水能赛舟 亦能战艇,立即订阅,取消订阅,TA的热门投稿,猜你喜欢,查看详情',\n",
       "   'image': 'http://game.gtimg.cn/images/yxzj/web201605/page/player_smicon.png',\n",
       "   'title': '解说视频-王者荣耀官网网站-腾讯游戏',\n",
       "   'url': 'http://pvp.qq.com/v/detail.shtml?G_Biz=18&tid=177158'}],\n",
       " ['pvp.qq.com/v/detail.shtml?G_Biz=18&tid=162124',\n",
       "  {'content': '解说视频-王者荣耀官网网站-腾讯游戏,王者荣耀,官网首页,HOME,游戏资料,DATA,攻略中心,RAIDERS,赛事中心,MATCH,商城/合作,STORE,社区互动,COMMUNITY,玩家支持,PLAYER,版本介绍,游戏介绍,英雄资料,爆料站,故事站,游戏壁纸,攻略中心,英雄攻略,视频中心,KPL职业联赛,KCC王者冠军杯,KOC王者城市赛,QGC夏季联赛,TGA大奖赛,WGC精英赛,王者高校联赛,周边商城,王者信用卡,王者文化站,官方助手,手Q部落,微信圈子,官方微博,微信公众号,手Q订阅号,成长守护平台,健康系统,客服专区,礼包兑换,自助服务,王者荣耀首页,>,视频详情,0,点赞,0,分享到：,热门视频,今日,本周,本月,投稿：,0,粉丝：,0,个性签名：水能赛舟 亦能战艇,立即订阅,取消订阅,TA的热门投稿,猜你喜欢,查看详情',\n",
       "   'image': 'http://game.gtimg.cn/images/yxzj/web201605/page/player_smicon.png',\n",
       "   'title': '解说视频-王者荣耀官网网站-腾讯游戏',\n",
       "   'url': 'http://pvp.qq.com/v/detail.shtml?G_Biz=18&tid=162124'}],\n",
       " ['pvp.qq.com/v/detail.shtml?G_Biz=18&tid=156587',\n",
       "  {'content': '解说视频-王者荣耀官网网站-腾讯游戏,王者荣耀,官网首页,HOME,游戏资料,DATA,攻略中心,RAIDERS,赛事中心,MATCH,商城/合作,STORE,社区互动,COMMUNITY,玩家支持,PLAYER,版本介绍,游戏介绍,英雄资料,爆料站,故事站,游戏壁纸,攻略中心,英雄攻略,视频中心,KPL职业联赛,KCC王者冠军杯,KOC王者城市赛,QGC夏季联赛,TGA大奖赛,WGC精英赛,王者高校联赛,周边商城,王者信用卡,王者文化站,官方助手,手Q部落,微信圈子,官方微博,微信公众号,手Q订阅号,成长守护平台,健康系统,客服专区,礼包兑换,自助服务,王者荣耀首页,>,视频详情,0,点赞,0,分享到：,热门视频,今日,本周,本月,投稿：,0,粉丝：,0,个性签名：水能赛舟 亦能战艇,立即订阅,取消订阅,TA的热门投稿,猜你喜欢,查看详情',\n",
       "   'image': 'http://game.gtimg.cn/images/yxzj/web201605/page/player_smicon.png',\n",
       "   'title': '解说视频-王者荣耀官网网站-腾讯游戏',\n",
       "   'url': 'http://pvp.qq.com/v/detail.shtml?G_Biz=18&tid=156587'}],\n",
       " ['pvp.qq.com/v/detail.shtml?G_Biz=18&tid=153241',\n",
       "  {'content': '解说视频-王者荣耀官网网站-腾讯游戏,王者荣耀,官网首页,HOME,游戏资料,DATA,攻略中心,RAIDERS,赛事中心,MATCH,商城/合作,STORE,社区互动,COMMUNITY,玩家支持,PLAYER,版本介绍,游戏介绍,英雄资料,爆料站,故事站,游戏壁纸,攻略中心,英雄攻略,视频中心,KPL职业联赛,KCC王者冠军杯,KOC王者城市赛,QGC夏季联赛,TGA大奖赛,WGC精英赛,王者高校联赛,周边商城,王者信用卡,王者文化站,官方助手,手Q部落,微信圈子,官方微博,微信公众号,手Q订阅号,成长守护平台,健康系统,客服专区,礼包兑换,自助服务,王者荣耀首页,>,视频详情,0,点赞,0,分享到：,热门视频,今日,本周,本月,投稿：,0,粉丝：,0,个性签名：水能赛舟 亦能战艇,立即订阅,取消订阅,TA的热门投稿,猜你喜欢,查看详情',\n",
       "   'image': 'http://game.gtimg.cn/images/yxzj/web201605/page/player_smicon.png',\n",
       "   'title': '解说视频-王者荣耀官网网站-腾讯游戏',\n",
       "   'url': 'http://pvp.qq.com/v/detail.shtml?G_Biz=18&tid=153241'}],\n",
       " ['pvp.qq.com/v/detail.shtml?G_Biz=18&tid=146962',\n",
       "  {'content': '解说视频-王者荣耀官网网站-腾讯游戏,王者荣耀,官网首页,HOME,游戏资料,DATA,攻略中心,RAIDERS,赛事中心,MATCH,商城/合作,STORE,社区互动,COMMUNITY,玩家支持,PLAYER,版本介绍,游戏介绍,英雄资料,爆料站,故事站,游戏壁纸,攻略中心,英雄攻略,视频中心,KPL职业联赛,KCC王者冠军杯,KOC王者城市赛,QGC夏季联赛,TGA大奖赛,WGC精英赛,王者高校联赛,周边商城,王者信用卡,王者文化站,官方助手,手Q部落,微信圈子,官方微博,微信公众号,手Q订阅号,成长守护平台,健康系统,客服专区,礼包兑换,自助服务,王者荣耀首页,>,视频详情,0,点赞,0,分享到：,热门视频,今日,本周,本月,投稿：,0,粉丝：,0,个性签名：水能赛舟 亦能战艇,立即订阅,取消订阅,TA的热门投稿,猜你喜欢,查看详情',\n",
       "   'image': 'http://game.gtimg.cn/images/yxzj/web201605/page/player_smicon.png',\n",
       "   'title': '解说视频-王者荣耀官网网站-腾讯游戏',\n",
       "   'url': 'http://pvp.qq.com/v/detail.shtml?G_Biz=18&tid=146962'}],\n",
       " ['pvp.qq.com/v/detail.shtml?G_Biz=18&tid=201743',\n",
       "  {'content': '解说视频-王者荣耀官网网站-腾讯游戏,王者荣耀,官网首页,HOME,游戏资料,DATA,攻略中心,RAIDERS,赛事中心,MATCH,商城/合作,STORE,社区互动,COMMUNITY,玩家支持,PLAYER,版本介绍,游戏介绍,英雄资料,爆料站,故事站,游戏壁纸,攻略中心,英雄攻略,视频中心,KPL职业联赛,KCC王者冠军杯,KOC王者城市赛,QGC夏季联赛,TGA大奖赛,WGC精英赛,王者高校联赛,周边商城,王者信用卡,王者文化站,官方助手,手Q部落,微信圈子,官方微博,微信公众号,手Q订阅号,成长守护平台,健康系统,客服专区,礼包兑换,自助服务,王者荣耀首页,>,视频详情,0,点赞,0,分享到：,热门视频,今日,本周,本月,投稿：,0,粉丝：,0,个性签名：水能赛舟 亦能战艇,立即订阅,取消订阅,TA的热门投稿,猜你喜欢,查看详情',\n",
       "   'image': 'http://game.gtimg.cn/images/yxzj/web201605/page/player_smicon.png',\n",
       "   'title': '解说视频-王者荣耀官网网站-腾讯游戏',\n",
       "   'url': 'http://pvp.qq.com/v/detail.shtml?G_Biz=18&tid=201743'}],\n",
       " ['pvp.qq.com/v/detail.shtml?G_Biz=18&tid=146988',\n",
       "  {'content': '解说视频-王者荣耀官网网站-腾讯游戏,王者荣耀,官网首页,HOME,游戏资料,DATA,攻略中心,RAIDERS,赛事中心,MATCH,商城/合作,STORE,社区互动,COMMUNITY,玩家支持,PLAYER,版本介绍,游戏介绍,英雄资料,爆料站,故事站,游戏壁纸,攻略中心,英雄攻略,视频中心,KPL职业联赛,KCC王者冠军杯,KOC王者城市赛,QGC夏季联赛,TGA大奖赛,WGC精英赛,王者高校联赛,周边商城,王者信用卡,王者文化站,官方助手,手Q部落,微信圈子,官方微博,微信公众号,手Q订阅号,成长守护平台,健康系统,客服专区,礼包兑换,自助服务,王者荣耀首页,>,视频详情,0,点赞,0,分享到：,热门视频,今日,本周,本月,投稿：,0,粉丝：,0,个性签名：水能赛舟 亦能战艇,立即订阅,取消订阅,TA的热门投稿,猜你喜欢,查看详情',\n",
       "   'image': 'http://game.gtimg.cn/images/yxzj/web201605/page/player_smicon.png',\n",
       "   'title': '解说视频-王者荣耀官网网站-腾讯游戏',\n",
       "   'url': 'http://pvp.qq.com/v/detail.shtml?G_Biz=18&tid=146988'}],\n",
       " ['pvp.qq.com/v/detail.shtml?G_Biz=18&tid=146989',\n",
       "  {'content': '解说视频-王者荣耀官网网站-腾讯游戏,王者荣耀,官网首页,HOME,游戏资料,DATA,攻略中心,RAIDERS,赛事中心,MATCH,商城/合作,STORE,社区互动,COMMUNITY,玩家支持,PLAYER,版本介绍,游戏介绍,英雄资料,爆料站,故事站,游戏壁纸,攻略中心,英雄攻略,视频中心,KPL职业联赛,KCC王者冠军杯,KOC王者城市赛,QGC夏季联赛,TGA大奖赛,WGC精英赛,王者高校联赛,周边商城,王者信用卡,王者文化站,官方助手,手Q部落,微信圈子,官方微博,微信公众号,手Q订阅号,成长守护平台,健康系统,客服专区,礼包兑换,自助服务,王者荣耀首页,>,视频详情,0,点赞,0,分享到：,热门视频,今日,本周,本月,投稿：,0,粉丝：,0,个性签名：水能赛舟 亦能战艇,立即订阅,取消订阅,TA的热门投稿,猜你喜欢,查看详情',\n",
       "   'image': 'http://game.gtimg.cn/images/yxzj/web201605/page/player_smicon.png',\n",
       "   'title': '解说视频-王者荣耀官网网站-腾讯游戏',\n",
       "   'url': 'http://pvp.qq.com/v/detail.shtml?G_Biz=18&tid=146989'}],\n",
       " ['pvp.qq.com/v/detail.shtml?G_Biz=18&tid=108143',\n",
       "  {'content': '解说视频-王者荣耀官网网站-腾讯游戏,王者荣耀,官网首页,HOME,游戏资料,DATA,攻略中心,RAIDERS,赛事中心,MATCH,商城/合作,STORE,社区互动,COMMUNITY,玩家支持,PLAYER,版本介绍,游戏介绍,英雄资料,爆料站,故事站,游戏壁纸,攻略中心,英雄攻略,视频中心,KPL职业联赛,KCC王者冠军杯,KOC王者城市赛,QGC夏季联赛,TGA大奖赛,WGC精英赛,王者高校联赛,周边商城,王者信用卡,王者文化站,官方助手,手Q部落,微信圈子,官方微博,微信公众号,手Q订阅号,成长守护平台,健康系统,客服专区,礼包兑换,自助服务,王者荣耀首页,>,视频详情,0,点赞,0,分享到：,热门视频,今日,本周,本月,投稿：,0,粉丝：,0,个性签名：水能赛舟 亦能战艇,立即订阅,取消订阅,TA的热门投稿,猜你喜欢,查看详情',\n",
       "   'image': 'http://game.gtimg.cn/images/yxzj/web201605/page/player_smicon.png',\n",
       "   'title': '解说视频-王者荣耀官网网站-腾讯游戏',\n",
       "   'url': 'http://pvp.qq.com/v/detail.shtml?G_Biz=18&tid=108143'}],\n",
       " ['pvp.qq.com/v/detail.shtml?G_Biz=18&tid=147096',\n",
       "  {'content': '解说视频-王者荣耀官网网站-腾讯游戏,王者荣耀,官网首页,HOME,游戏资料,DATA,攻略中心,RAIDERS,赛事中心,MATCH,商城/合作,STORE,社区互动,COMMUNITY,玩家支持,PLAYER,版本介绍,游戏介绍,英雄资料,爆料站,故事站,游戏壁纸,攻略中心,英雄攻略,视频中心,KPL职业联赛,KCC王者冠军杯,KOC王者城市赛,QGC夏季联赛,TGA大奖赛,WGC精英赛,王者高校联赛,周边商城,王者信用卡,王者文化站,官方助手,手Q部落,微信圈子,官方微博,微信公众号,手Q订阅号,成长守护平台,健康系统,客服专区,礼包兑换,自助服务,王者荣耀首页,>,视频详情,0,点赞,0,分享到：,热门视频,今日,本周,本月,投稿：,0,粉丝：,0,个性签名：水能赛舟 亦能战艇,立即订阅,取消订阅,TA的热门投稿,猜你喜欢,查看详情',\n",
       "   'image': 'http://game.gtimg.cn/images/yxzj/web201605/page/player_smicon.png',\n",
       "   'title': '解说视频-王者荣耀官网网站-腾讯游戏',\n",
       "   'url': 'http://pvp.qq.com/v/detail.shtml?G_Biz=18&tid=147096'}],\n",
       " ['pvp.qq.com/v/detail.shtml?G_Biz=18&tid=147490',\n",
       "  {'content': '解说视频-王者荣耀官网网站-腾讯游戏,王者荣耀,官网首页,HOME,游戏资料,DATA,攻略中心,RAIDERS,赛事中心,MATCH,商城/合作,STORE,社区互动,COMMUNITY,玩家支持,PLAYER,版本介绍,游戏介绍,英雄资料,爆料站,故事站,游戏壁纸,攻略中心,英雄攻略,视频中心,KPL职业联赛,KCC王者冠军杯,KOC王者城市赛,QGC夏季联赛,TGA大奖赛,WGC精英赛,王者高校联赛,周边商城,王者信用卡,王者文化站,官方助手,手Q部落,微信圈子,官方微博,微信公众号,手Q订阅号,成长守护平台,健康系统,客服专区,礼包兑换,自助服务,王者荣耀首页,>,视频详情,0,点赞,0,分享到：,热门视频,今日,本周,本月,投稿：,0,粉丝：,0,个性签名：水能赛舟 亦能战艇,立即订阅,取消订阅,TA的热门投稿,猜你喜欢,查看详情',\n",
       "   'image': 'http://game.gtimg.cn/images/yxzj/web201605/page/player_smicon.png',\n",
       "   'title': '解说视频-王者荣耀官网网站-腾讯游戏',\n",
       "   'url': 'http://pvp.qq.com/v/detail.shtml?G_Biz=18&tid=147490'}],\n",
       " ['pvp.qq.com/v/detail.shtml?G_Biz=18&tid=147491',\n",
       "  {'content': '解说视频-王者荣耀官网网站-腾讯游戏,王者荣耀,官网首页,HOME,游戏资料,DATA,攻略中心,RAIDERS,赛事中心,MATCH,商城/合作,STORE,社区互动,COMMUNITY,玩家支持,PLAYER,版本介绍,游戏介绍,英雄资料,爆料站,故事站,游戏壁纸,攻略中心,英雄攻略,视频中心,KPL职业联赛,KCC王者冠军杯,KOC王者城市赛,QGC夏季联赛,TGA大奖赛,WGC精英赛,王者高校联赛,周边商城,王者信用卡,王者文化站,官方助手,手Q部落,微信圈子,官方微博,微信公众号,手Q订阅号,成长守护平台,健康系统,客服专区,礼包兑换,自助服务,王者荣耀首页,>,视频详情,0,点赞,0,分享到：,热门视频,今日,本周,本月,投稿：,0,粉丝：,0,个性签名：水能赛舟 亦能战艇,立即订阅,取消订阅,TA的热门投稿,猜你喜欢,查看详情',\n",
       "   'image': 'http://game.gtimg.cn/images/yxzj/web201605/page/player_smicon.png',\n",
       "   'title': '解说视频-王者荣耀官网网站-腾讯游戏',\n",
       "   'url': 'http://pvp.qq.com/v/detail.shtml?G_Biz=18&tid=147491'}],\n",
       " ['pvp.qq.com/v/detail.shtml?G_Biz=18&tid=49254',\n",
       "  {'content': '解说视频-王者荣耀官网网站-腾讯游戏,王者荣耀,官网首页,HOME,游戏资料,DATA,攻略中心,RAIDERS,赛事中心,MATCH,商城/合作,STORE,社区互动,COMMUNITY,玩家支持,PLAYER,版本介绍,游戏介绍,英雄资料,爆料站,故事站,游戏壁纸,攻略中心,英雄攻略,视频中心,KPL职业联赛,KCC王者冠军杯,KOC王者城市赛,QGC夏季联赛,TGA大奖赛,WGC精英赛,王者高校联赛,周边商城,王者信用卡,王者文化站,官方助手,手Q部落,微信圈子,官方微博,微信公众号,手Q订阅号,成长守护平台,健康系统,客服专区,礼包兑换,自助服务,王者荣耀首页,>,视频详情,0,点赞,0,分享到：,热门视频,今日,本周,本月,投稿：,0,粉丝：,0,个性签名：水能赛舟 亦能战艇,立即订阅,取消订阅,TA的热门投稿,猜你喜欢,查看详情',\n",
       "   'image': 'http://game.gtimg.cn/images/yxzj/web201605/page/player_smicon.png',\n",
       "   'title': '解说视频-王者荣耀官网网站-腾讯游戏',\n",
       "   'url': 'http://pvp.qq.com/v/detail.shtml?G_Biz=18&tid=49254'}],\n",
       " ['pvp.qq.com/v/detail.shtml?G_Biz=18&tid=50900',\n",
       "  {'content': '解说视频-王者荣耀官网网站-腾讯游戏,王者荣耀,官网首页,HOME,游戏资料,DATA,攻略中心,RAIDERS,赛事中心,MATCH,商城/合作,STORE,社区互动,COMMUNITY,玩家支持,PLAYER,版本介绍,游戏介绍,英雄资料,爆料站,故事站,游戏壁纸,攻略中心,英雄攻略,视频中心,KPL职业联赛,KCC王者冠军杯,KOC王者城市赛,QGC夏季联赛,TGA大奖赛,WGC精英赛,王者高校联赛,周边商城,王者信用卡,王者文化站,官方助手,手Q部落,微信圈子,官方微博,微信公众号,手Q订阅号,成长守护平台,健康系统,客服专区,礼包兑换,自助服务,王者荣耀首页,>,视频详情,0,点赞,0,分享到：,热门视频,今日,本周,本月,投稿：,0,粉丝：,0,个性签名：水能赛舟 亦能战艇,立即订阅,取消订阅,TA的热门投稿,猜你喜欢,查看详情',\n",
       "   'image': 'http://game.gtimg.cn/images/yxzj/web201605/page/player_smicon.png',\n",
       "   'title': '解说视频-王者荣耀官网网站-腾讯游戏',\n",
       "   'url': 'http://pvp.qq.com/v/detail.shtml?G_Biz=18&tid=50900'}],\n",
       " ['pvp.qq.com/v/detail.shtml?G_Biz=18&tid=77364',\n",
       "  {'content': '解说视频-王者荣耀官网网站-腾讯游戏,王者荣耀,官网首页,HOME,游戏资料,DATA,攻略中心,RAIDERS,赛事中心,MATCH,商城/合作,STORE,社区互动,COMMUNITY,玩家支持,PLAYER,版本介绍,游戏介绍,英雄资料,爆料站,故事站,游戏壁纸,攻略中心,英雄攻略,视频中心,KPL职业联赛,KCC王者冠军杯,KOC王者城市赛,QGC夏季联赛,TGA大奖赛,WGC精英赛,王者高校联赛,周边商城,王者信用卡,王者文化站,官方助手,手Q部落,微信圈子,官方微博,微信公众号,手Q订阅号,成长守护平台,健康系统,客服专区,礼包兑换,自助服务,王者荣耀首页,>,视频详情,0,点赞,0,分享到：,热门视频,今日,本周,本月,投稿：,0,粉丝：,0,个性签名：水能赛舟 亦能战艇,立即订阅,取消订阅,TA的热门投稿,猜你喜欢,查看详情',\n",
       "   'image': 'http://game.gtimg.cn/images/yxzj/web201605/page/player_smicon.png',\n",
       "   'title': '解说视频-王者荣耀官网网站-腾讯游戏',\n",
       "   'url': 'http://pvp.qq.com/v/detail.shtml?G_Biz=18&tid=77364'}],\n",
       " ['pvp.qq.com/v/detail.shtml?G_Biz=18&tid=63399',\n",
       "  {'content': '解说视频-王者荣耀官网网站-腾讯游戏,王者荣耀,官网首页,HOME,游戏资料,DATA,攻略中心,RAIDERS,赛事中心,MATCH,商城/合作,STORE,社区互动,COMMUNITY,玩家支持,PLAYER,版本介绍,游戏介绍,英雄资料,爆料站,故事站,游戏壁纸,攻略中心,英雄攻略,视频中心,KPL职业联赛,KCC王者冠军杯,KOC王者城市赛,QGC夏季联赛,TGA大奖赛,WGC精英赛,王者高校联赛,周边商城,王者信用卡,王者文化站,官方助手,手Q部落,微信圈子,官方微博,微信公众号,手Q订阅号,成长守护平台,健康系统,客服专区,礼包兑换,自助服务,王者荣耀首页,>,视频详情,0,点赞,0,分享到：,热门视频,今日,本周,本月,投稿：,0,粉丝：,0,个性签名：水能赛舟 亦能战艇,立即订阅,取消订阅,TA的热门投稿,猜你喜欢,查看详情',\n",
       "   'image': 'http://game.gtimg.cn/images/yxzj/web201605/page/player_smicon.png',\n",
       "   'title': '解说视频-王者荣耀官网网站-腾讯游戏',\n",
       "   'url': 'http://pvp.qq.com/v/detail.shtml?G_Biz=18&tid=63399'}],\n",
       " ['pvp.qq.com/v/detail.shtml?G_Biz=18&tid=41885',\n",
       "  {'content': '解说视频-王者荣耀官网网站-腾讯游戏,王者荣耀,官网首页,HOME,游戏资料,DATA,攻略中心,RAIDERS,赛事中心,MATCH,商城/合作,STORE,社区互动,COMMUNITY,玩家支持,PLAYER,版本介绍,游戏介绍,英雄资料,爆料站,故事站,游戏壁纸,攻略中心,英雄攻略,视频中心,KPL职业联赛,KCC王者冠军杯,KOC王者城市赛,QGC夏季联赛,TGA大奖赛,WGC精英赛,王者高校联赛,周边商城,王者信用卡,王者文化站,官方助手,手Q部落,微信圈子,官方微博,微信公众号,手Q订阅号,成长守护平台,健康系统,客服专区,礼包兑换,自助服务,王者荣耀首页,>,视频详情,0,点赞,0,分享到：,热门视频,今日,本周,本月,投稿：,0,粉丝：,0,个性签名：水能赛舟 亦能战艇,立即订阅,取消订阅,TA的热门投稿,猜你喜欢,查看详情',\n",
       "   'image': 'http://game.gtimg.cn/images/yxzj/web201605/page/player_smicon.png',\n",
       "   'title': '解说视频-王者荣耀官网网站-腾讯游戏',\n",
       "   'url': 'http://pvp.qq.com/v/detail.shtml?G_Biz=18&tid=41885'}],\n",
       " ['pvp.qq.com/v/detail.shtml?G_Biz=18&tid=49163',\n",
       "  {'content': '解说视频-王者荣耀官网网站-腾讯游戏,王者荣耀,官网首页,HOME,游戏资料,DATA,攻略中心,RAIDERS,赛事中心,MATCH,商城/合作,STORE,社区互动,COMMUNITY,玩家支持,PLAYER,版本介绍,游戏介绍,英雄资料,爆料站,故事站,游戏壁纸,攻略中心,英雄攻略,视频中心,KPL职业联赛,KCC王者冠军杯,KOC王者城市赛,QGC夏季联赛,TGA大奖赛,WGC精英赛,王者高校联赛,周边商城,王者信用卡,王者文化站,官方助手,手Q部落,微信圈子,官方微博,微信公众号,手Q订阅号,成长守护平台,健康系统,客服专区,礼包兑换,自助服务,王者荣耀首页,>,视频详情,0,点赞,0,分享到：,热门视频,今日,本周,本月,投稿：,0,粉丝：,0,个性签名：水能赛舟 亦能战艇,立即订阅,取消订阅,TA的热门投稿,猜你喜欢,查看详情',\n",
       "   'image': 'http://game.gtimg.cn/images/yxzj/web201605/page/player_smicon.png',\n",
       "   'title': '解说视频-王者荣耀官网网站-腾讯游戏',\n",
       "   'url': 'http://pvp.qq.com/v/detail.shtml?G_Biz=18&tid=49163'}],\n",
       " ['pvp.qq.com/v/detail.shtml?G_Biz=18&tid=49162',\n",
       "  {'content': '解说视频-王者荣耀官网网站-腾讯游戏,王者荣耀,官网首页,HOME,游戏资料,DATA,攻略中心,RAIDERS,赛事中心,MATCH,商城/合作,STORE,社区互动,COMMUNITY,玩家支持,PLAYER,版本介绍,游戏介绍,英雄资料,爆料站,故事站,游戏壁纸,攻略中心,英雄攻略,视频中心,KPL职业联赛,KCC王者冠军杯,KOC王者城市赛,QGC夏季联赛,TGA大奖赛,WGC精英赛,王者高校联赛,周边商城,王者信用卡,王者文化站,官方助手,手Q部落,微信圈子,官方微博,微信公众号,手Q订阅号,成长守护平台,健康系统,客服专区,礼包兑换,自助服务,王者荣耀首页,>,视频详情,0,点赞,0,分享到：,热门视频,今日,本周,本月,投稿：,0,粉丝：,0,个性签名：水能赛舟 亦能战艇,立即订阅,取消订阅,TA的热门投稿,猜你喜欢,查看详情',\n",
       "   'image': 'http://game.gtimg.cn/images/yxzj/web201605/page/player_smicon.png',\n",
       "   'title': '解说视频-王者荣耀官网网站-腾讯游戏',\n",
       "   'url': 'http://pvp.qq.com/v/detail.shtml?G_Biz=18&tid=49162'}],\n",
       " ['pvp.qq.com/v/detail.shtml?G_Biz=18&tid=49160',\n",
       "  {'content': '解说视频-王者荣耀官网网站-腾讯游戏,王者荣耀,官网首页,HOME,游戏资料,DATA,攻略中心,RAIDERS,赛事中心,MATCH,商城/合作,STORE,社区互动,COMMUNITY,玩家支持,PLAYER,版本介绍,游戏介绍,英雄资料,爆料站,故事站,游戏壁纸,攻略中心,英雄攻略,视频中心,KPL职业联赛,KCC王者冠军杯,KOC王者城市赛,QGC夏季联赛,TGA大奖赛,WGC精英赛,王者高校联赛,周边商城,王者信用卡,王者文化站,官方助手,手Q部落,微信圈子,官方微博,微信公众号,手Q订阅号,成长守护平台,健康系统,客服专区,礼包兑换,自助服务,王者荣耀首页,>,视频详情,0,点赞,0,分享到：,热门视频,今日,本周,本月,投稿：,0,粉丝：,0,个性签名：水能赛舟 亦能战艇,立即订阅,取消订阅,TA的热门投稿,猜你喜欢,查看详情',\n",
       "   'image': 'http://game.gtimg.cn/images/yxzj/web201605/page/player_smicon.png',\n",
       "   'title': '解说视频-王者荣耀官网网站-腾讯游戏',\n",
       "   'url': 'http://pvp.qq.com/v/detail.shtml?G_Biz=18&tid=49160'}],\n",
       " ['pvp.qq.com/v/detail.shtml?G_Biz=18&tid=146983',\n",
       "  {'content': '解说视频-王者荣耀官网网站-腾讯游戏,王者荣耀,官网首页,HOME,游戏资料,DATA,攻略中心,RAIDERS,赛事中心,MATCH,商城/合作,STORE,社区互动,COMMUNITY,玩家支持,PLAYER,版本介绍,游戏介绍,英雄资料,爆料站,故事站,游戏壁纸,攻略中心,英雄攻略,视频中心,KPL职业联赛,KCC王者冠军杯,KOC王者城市赛,QGC夏季联赛,TGA大奖赛,WGC精英赛,王者高校联赛,周边商城,王者信用卡,王者文化站,官方助手,手Q部落,微信圈子,官方微博,微信公众号,手Q订阅号,成长守护平台,健康系统,客服专区,礼包兑换,自助服务,王者荣耀首页,>,视频详情,0,点赞,0,分享到：,热门视频,今日,本周,本月,投稿：,0,粉丝：,0,个性签名：水能赛舟 亦能战艇,立即订阅,取消订阅,TA的热门投稿,猜你喜欢,查看详情',\n",
       "   'image': 'http://game.gtimg.cn/images/yxzj/web201605/page/player_smicon.png',\n",
       "   'title': '解说视频-王者荣耀官网网站-腾讯游戏',\n",
       "   'url': 'http://pvp.qq.com/v/detail.shtml?G_Biz=18&tid=146983'}],\n",
       " ['pvp.qq.com/v/detail.shtml?G_Biz=18&tid=205730',\n",
       "  {'content': '解说视频-王者荣耀官网网站-腾讯游戏,王者荣耀,官网首页,HOME,游戏资料,DATA,攻略中心,RAIDERS,赛事中心,MATCH,商城/合作,STORE,社区互动,COMMUNITY,玩家支持,PLAYER,版本介绍,游戏介绍,英雄资料,爆料站,故事站,游戏壁纸,攻略中心,英雄攻略,视频中心,KPL职业联赛,KCC王者冠军杯,KOC王者城市赛,QGC夏季联赛,TGA大奖赛,WGC精英赛,王者高校联赛,周边商城,王者信用卡,王者文化站,官方助手,手Q部落,微信圈子,官方微博,微信公众号,手Q订阅号,成长守护平台,健康系统,客服专区,礼包兑换,自助服务,王者荣耀首页,>,视频详情,0,点赞,0,分享到：,热门视频,今日,本周,本月,投稿：,0,粉丝：,0,个性签名：水能赛舟 亦能战艇,立即订阅,取消订阅,TA的热门投稿,猜你喜欢,查看详情',\n",
       "   'image': 'http://game.gtimg.cn/images/yxzj/web201605/page/player_smicon.png',\n",
       "   'title': '解说视频-王者荣耀官网网站-腾讯游戏',\n",
       "   'url': 'http://pvp.qq.com/v/detail.shtml?G_Biz=18&tid=205730'}],\n",
       " ['pvp.qq.com/v/detail.shtml?G_Biz=18&tid=49157',\n",
       "  {'content': '解说视频-王者荣耀官网网站-腾讯游戏,王者荣耀,官网首页,HOME,游戏资料,DATA,攻略中心,RAIDERS,赛事中心,MATCH,商城/合作,STORE,社区互动,COMMUNITY,玩家支持,PLAYER,版本介绍,游戏介绍,英雄资料,爆料站,故事站,游戏壁纸,攻略中心,英雄攻略,视频中心,KPL职业联赛,KCC王者冠军杯,KOC王者城市赛,QGC夏季联赛,TGA大奖赛,WGC精英赛,王者高校联赛,周边商城,王者信用卡,王者文化站,官方助手,手Q部落,微信圈子,官方微博,微信公众号,手Q订阅号,成长守护平台,健康系统,客服专区,礼包兑换,自助服务,王者荣耀首页,>,视频详情,0,点赞,0,分享到：,热门视频,今日,本周,本月,投稿：,0,粉丝：,0,个性签名：水能赛舟 亦能战艇,立即订阅,取消订阅,TA的热门投稿,猜你喜欢,查看详情',\n",
       "   'image': 'http://game.gtimg.cn/images/yxzj/web201605/page/player_smicon.png',\n",
       "   'title': '解说视频-王者荣耀官网网站-腾讯游戏',\n",
       "   'url': 'http://pvp.qq.com/v/detail.shtml?G_Biz=18&tid=49157'}],\n",
       " ['pvp.qq.com/v/detail.shtml?G_Biz=18&tid=146972',\n",
       "  {'content': '解说视频-王者荣耀官网网站-腾讯游戏,王者荣耀,官网首页,HOME,游戏资料,DATA,攻略中心,RAIDERS,赛事中心,MATCH,商城/合作,STORE,社区互动,COMMUNITY,玩家支持,PLAYER,版本介绍,游戏介绍,英雄资料,爆料站,故事站,游戏壁纸,攻略中心,英雄攻略,视频中心,KPL职业联赛,KCC王者冠军杯,KOC王者城市赛,QGC夏季联赛,TGA大奖赛,WGC精英赛,王者高校联赛,周边商城,王者信用卡,王者文化站,官方助手,手Q部落,微信圈子,官方微博,微信公众号,手Q订阅号,成长守护平台,健康系统,客服专区,礼包兑换,自助服务,王者荣耀首页,>,视频详情,0,点赞,0,分享到：,热门视频,今日,本周,本月,投稿：,0,粉丝：,0,个性签名：水能赛舟 亦能战艇,立即订阅,取消订阅,TA的热门投稿,猜你喜欢,查看详情',\n",
       "   'image': 'http://game.gtimg.cn/images/yxzj/web201605/page/player_smicon.png',\n",
       "   'title': '解说视频-王者荣耀官网网站-腾讯游戏',\n",
       "   'url': 'http://pvp.qq.com/v/detail.shtml?G_Biz=18&tid=146972'}],\n",
       " ['pvp.qq.com/v/detail.shtml?G_Biz=18&tid=36995',\n",
       "  {'content': '解说视频-王者荣耀官网网站-腾讯游戏,王者荣耀,官网首页,HOME,游戏资料,DATA,攻略中心,RAIDERS,赛事中心,MATCH,商城/合作,STORE,社区互动,COMMUNITY,玩家支持,PLAYER,版本介绍,游戏介绍,英雄资料,爆料站,故事站,游戏壁纸,攻略中心,英雄攻略,视频中心,KPL职业联赛,KCC王者冠军杯,KOC王者城市赛,QGC夏季联赛,TGA大奖赛,WGC精英赛,王者高校联赛,周边商城,王者信用卡,王者文化站,官方助手,手Q部落,微信圈子,官方微博,微信公众号,手Q订阅号,成长守护平台,健康系统,客服专区,礼包兑换,自助服务,王者荣耀首页,>,视频详情,0,点赞,0,分享到：,热门视频,今日,本周,本月,投稿：,0,粉丝：,0,个性签名：水能赛舟 亦能战艇,立即订阅,取消订阅,TA的热门投稿,猜你喜欢,查看详情',\n",
       "   'image': 'http://game.gtimg.cn/images/yxzj/web201605/page/player_smicon.png',\n",
       "   'title': '解说视频-王者荣耀官网网站-腾讯游戏',\n",
       "   'url': 'http://pvp.qq.com/v/detail.shtml?G_Biz=18&tid=36995'}],\n",
       " ['pvp.qq.com/v/detail.shtml?G_Biz=18&tid=52797',\n",
       "  {'content': '解说视频-王者荣耀官网网站-腾讯游戏,王者荣耀,官网首页,HOME,游戏资料,DATA,攻略中心,RAIDERS,赛事中心,MATCH,商城/合作,STORE,社区互动,COMMUNITY,玩家支持,PLAYER,版本介绍,游戏介绍,英雄资料,爆料站,故事站,游戏壁纸,攻略中心,英雄攻略,视频中心,KPL职业联赛,KCC王者冠军杯,KOC王者城市赛,QGC夏季联赛,TGA大奖赛,WGC精英赛,王者高校联赛,周边商城,王者信用卡,王者文化站,官方助手,手Q部落,微信圈子,官方微博,微信公众号,手Q订阅号,成长守护平台,健康系统,客服专区,礼包兑换,自助服务,王者荣耀首页,>,视频详情,0,点赞,0,分享到：,热门视频,今日,本周,本月,投稿：,0,粉丝：,0,个性签名：水能赛舟 亦能战艇,立即订阅,取消订阅,TA的热门投稿,猜你喜欢,查看详情',\n",
       "   'image': 'http://game.gtimg.cn/images/yxzj/web201605/page/player_smicon.png',\n",
       "   'title': '解说视频-王者荣耀官网网站-腾讯游戏',\n",
       "   'url': 'http://pvp.qq.com/v/detail.shtml?G_Biz=18&tid=52797'}],\n",
       " ['pvp.qq.com/v/detail.shtml?G_Biz=18&tid=49155',\n",
       "  {'content': '解说视频-王者荣耀官网网站-腾讯游戏,王者荣耀,官网首页,HOME,游戏资料,DATA,攻略中心,RAIDERS,赛事中心,MATCH,商城/合作,STORE,社区互动,COMMUNITY,玩家支持,PLAYER,版本介绍,游戏介绍,英雄资料,爆料站,故事站,游戏壁纸,攻略中心,英雄攻略,视频中心,KPL职业联赛,KCC王者冠军杯,KOC王者城市赛,QGC夏季联赛,TGA大奖赛,WGC精英赛,王者高校联赛,周边商城,王者信用卡,王者文化站,官方助手,手Q部落,微信圈子,官方微博,微信公众号,手Q订阅号,成长守护平台,健康系统,客服专区,礼包兑换,自助服务,王者荣耀首页,>,视频详情,0,点赞,0,分享到：,热门视频,今日,本周,本月,投稿：,0,粉丝：,0,个性签名：水能赛舟 亦能战艇,立即订阅,取消订阅,TA的热门投稿,猜你喜欢,查看详情',\n",
       "   'image': 'http://game.gtimg.cn/images/yxzj/web201605/page/player_smicon.png',\n",
       "   'title': '解说视频-王者荣耀官网网站-腾讯游戏',\n",
       "   'url': 'http://pvp.qq.com/v/detail.shtml?G_Biz=18&tid=49155'}],\n",
       " ['pvp.qq.com/v/detail.shtml?G_Biz=18&tid=49151',\n",
       "  {'content': '解说视频-王者荣耀官网网站-腾讯游戏,王者荣耀,官网首页,HOME,游戏资料,DATA,攻略中心,RAIDERS,赛事中心,MATCH,商城/合作,STORE,社区互动,COMMUNITY,玩家支持,PLAYER,版本介绍,游戏介绍,英雄资料,爆料站,故事站,游戏壁纸,攻略中心,英雄攻略,视频中心,KPL职业联赛,KCC王者冠军杯,KOC王者城市赛,QGC夏季联赛,TGA大奖赛,WGC精英赛,王者高校联赛,周边商城,王者信用卡,王者文化站,官方助手,手Q部落,微信圈子,官方微博,微信公众号,手Q订阅号,成长守护平台,健康系统,客服专区,礼包兑换,自助服务,王者荣耀首页,>,视频详情,0,点赞,0,分享到：,热门视频,今日,本周,本月,投稿：,0,粉丝：,0,个性签名：水能赛舟 亦能战艇,立即订阅,取消订阅,TA的热门投稿,猜你喜欢,查看详情',\n",
       "   'image': 'http://game.gtimg.cn/images/yxzj/web201605/page/player_smicon.png',\n",
       "   'title': '解说视频-王者荣耀官网网站-腾讯游戏',\n",
       "   'url': 'http://pvp.qq.com/v/detail.shtml?G_Biz=18&tid=49151'}],\n",
       " ['pvp.qq.com/v/detail.shtml?G_Biz=18&tid=49150',\n",
       "  {'content': '解说视频-王者荣耀官网网站-腾讯游戏,王者荣耀,官网首页,HOME,游戏资料,DATA,攻略中心,RAIDERS,赛事中心,MATCH,商城/合作,STORE,社区互动,COMMUNITY,玩家支持,PLAYER,版本介绍,游戏介绍,英雄资料,爆料站,故事站,游戏壁纸,攻略中心,英雄攻略,视频中心,KPL职业联赛,KCC王者冠军杯,KOC王者城市赛,QGC夏季联赛,TGA大奖赛,WGC精英赛,王者高校联赛,周边商城,王者信用卡,王者文化站,官方助手,手Q部落,微信圈子,官方微博,微信公众号,手Q订阅号,成长守护平台,健康系统,客服专区,礼包兑换,自助服务,王者荣耀首页,>,视频详情,0,点赞,0,分享到：,热门视频,今日,本周,本月,投稿：,0,粉丝：,0,个性签名：水能赛舟 亦能战艇,立即订阅,取消订阅,TA的热门投稿,猜你喜欢,查看详情',\n",
       "   'image': 'http://game.gtimg.cn/images/yxzj/web201605/page/player_smicon.png',\n",
       "   'title': '解说视频-王者荣耀官网网站-腾讯游戏',\n",
       "   'url': 'http://pvp.qq.com/v/detail.shtml?G_Biz=18&tid=49150'}],\n",
       " ['pvp.qq.com/v/detail.shtml?G_Biz=18&tid=113426',\n",
       "  {'content': '解说视频-王者荣耀官网网站-腾讯游戏,王者荣耀,官网首页,HOME,游戏资料,DATA,攻略中心,RAIDERS,赛事中心,MATCH,商城/合作,STORE,社区互动,COMMUNITY,玩家支持,PLAYER,版本介绍,游戏介绍,英雄资料,爆料站,故事站,游戏壁纸,攻略中心,英雄攻略,视频中心,KPL职业联赛,KCC王者冠军杯,KOC王者城市赛,QGC夏季联赛,TGA大奖赛,WGC精英赛,王者高校联赛,周边商城,王者信用卡,王者文化站,官方助手,手Q部落,微信圈子,官方微博,微信公众号,手Q订阅号,成长守护平台,健康系统,客服专区,礼包兑换,自助服务,王者荣耀首页,>,视频详情,0,点赞,0,分享到：,热门视频,今日,本周,本月,投稿：,0,粉丝：,0,个性签名：水能赛舟 亦能战艇,立即订阅,取消订阅,TA的热门投稿,猜你喜欢,查看详情',\n",
       "   'image': 'http://game.gtimg.cn/images/yxzj/web201605/page/player_smicon.png',\n",
       "   'title': '解说视频-王者荣耀官网网站-腾讯游戏',\n",
       "   'url': 'http://pvp.qq.com/v/detail.shtml?G_Biz=18&tid=113426'}],\n",
       " ['pvp.qq.com/v/detail.shtml?G_Biz=18&tid=43976',\n",
       "  {'content': '解说视频-王者荣耀官网网站-腾讯游戏,王者荣耀,官网首页,HOME,游戏资料,DATA,攻略中心,RAIDERS,赛事中心,MATCH,商城/合作,STORE,社区互动,COMMUNITY,玩家支持,PLAYER,版本介绍,游戏介绍,英雄资料,爆料站,故事站,游戏壁纸,攻略中心,英雄攻略,视频中心,KPL职业联赛,KCC王者冠军杯,KOC王者城市赛,QGC夏季联赛,TGA大奖赛,WGC精英赛,王者高校联赛,周边商城,王者信用卡,王者文化站,官方助手,手Q部落,微信圈子,官方微博,微信公众号,手Q订阅号,成长守护平台,健康系统,客服专区,礼包兑换,自助服务,王者荣耀首页,>,视频详情,0,点赞,0,分享到：,热门视频,今日,本周,本月,投稿：,0,粉丝：,0,个性签名：水能赛舟 亦能战艇,立即订阅,取消订阅,TA的热门投稿,猜你喜欢,查看详情',\n",
       "   'image': 'http://game.gtimg.cn/images/yxzj/web201605/page/player_smicon.png',\n",
       "   'title': '解说视频-王者荣耀官网网站-腾讯游戏',\n",
       "   'url': 'http://pvp.qq.com/v/detail.shtml?G_Biz=18&tid=43976'}],\n",
       " ['pvp.qq.com/v/detail.shtml?G_Biz=18&tid=206556',\n",
       "  {'content': '解说视频-王者荣耀官网网站-腾讯游戏,王者荣耀,官网首页,HOME,游戏资料,DATA,攻略中心,RAIDERS,赛事中心,MATCH,商城/合作,STORE,社区互动,COMMUNITY,玩家支持,PLAYER,版本介绍,游戏介绍,英雄资料,爆料站,故事站,游戏壁纸,攻略中心,英雄攻略,视频中心,KPL职业联赛,KCC王者冠军杯,KOC王者城市赛,QGC夏季联赛,TGA大奖赛,WGC精英赛,王者高校联赛,周边商城,王者信用卡,王者文化站,官方助手,手Q部落,微信圈子,官方微博,微信公众号,手Q订阅号,成长守护平台,健康系统,客服专区,礼包兑换,自助服务,王者荣耀首页,>,视频详情,0,点赞,0,分享到：,热门视频,今日,本周,本月,投稿：,0,粉丝：,0,个性签名：水能赛舟 亦能战艇,立即订阅,取消订阅,TA的热门投稿,猜你喜欢,查看详情',\n",
       "   'image': 'http://game.gtimg.cn/images/yxzj/web201605/page/player_smicon.png',\n",
       "   'title': '解说视频-王者荣耀官网网站-腾讯游戏',\n",
       "   'url': 'http://pvp.qq.com/v/detail.shtml?G_Biz=18&tid=206556'}],\n",
       " ['pvp.qq.com/v/detail.shtml?G_Biz=18&tid=49146',\n",
       "  {'content': '解说视频-王者荣耀官网网站-腾讯游戏,王者荣耀,官网首页,HOME,游戏资料,DATA,攻略中心,RAIDERS,赛事中心,MATCH,商城/合作,STORE,社区互动,COMMUNITY,玩家支持,PLAYER,版本介绍,游戏介绍,英雄资料,爆料站,故事站,游戏壁纸,攻略中心,英雄攻略,视频中心,KPL职业联赛,KCC王者冠军杯,KOC王者城市赛,QGC夏季联赛,TGA大奖赛,WGC精英赛,王者高校联赛,周边商城,王者信用卡,王者文化站,官方助手,手Q部落,微信圈子,官方微博,微信公众号,手Q订阅号,成长守护平台,健康系统,客服专区,礼包兑换,自助服务,王者荣耀首页,>,视频详情,0,点赞,0,分享到：,热门视频,今日,本周,本月,投稿：,0,粉丝：,0,个性签名：水能赛舟 亦能战艇,立即订阅,取消订阅,TA的热门投稿,猜你喜欢,查看详情',\n",
       "   'image': 'http://game.gtimg.cn/images/yxzj/web201605/page/player_smicon.png',\n",
       "   'title': '解说视频-王者荣耀官网网站-腾讯游戏',\n",
       "   'url': 'http://pvp.qq.com/v/detail.shtml?G_Biz=18&tid=49146'}],\n",
       " ['pvp.qq.com/v/detail.shtml?G_Biz=18&tid=146987',\n",
       "  {'content': '解说视频-王者荣耀官网网站-腾讯游戏,王者荣耀,官网首页,HOME,游戏资料,DATA,攻略中心,RAIDERS,赛事中心,MATCH,商城/合作,STORE,社区互动,COMMUNITY,玩家支持,PLAYER,版本介绍,游戏介绍,英雄资料,爆料站,故事站,游戏壁纸,攻略中心,英雄攻略,视频中心,KPL职业联赛,KCC王者冠军杯,KOC王者城市赛,QGC夏季联赛,TGA大奖赛,WGC精英赛,王者高校联赛,周边商城,王者信用卡,王者文化站,官方助手,手Q部落,微信圈子,官方微博,微信公众号,手Q订阅号,成长守护平台,健康系统,客服专区,礼包兑换,自助服务,王者荣耀首页,>,视频详情,0,点赞,0,分享到：,热门视频,今日,本周,本月,投稿：,0,粉丝：,0,个性签名：水能赛舟 亦能战艇,立即订阅,取消订阅,TA的热门投稿,猜你喜欢,查看详情',\n",
       "   'image': 'http://game.gtimg.cn/images/yxzj/web201605/page/player_smicon.png',\n",
       "   'title': '解说视频-王者荣耀官网网站-腾讯游戏',\n",
       "   'url': 'http://pvp.qq.com/v/detail.shtml?G_Biz=18&tid=146987'}],\n",
       " ['pvp.qq.com/v/detail.shtml?G_Biz=18&tid=49143',\n",
       "  {'content': '解说视频-王者荣耀官网网站-腾讯游戏,王者荣耀,官网首页,HOME,游戏资料,DATA,攻略中心,RAIDERS,赛事中心,MATCH,商城/合作,STORE,社区互动,COMMUNITY,玩家支持,PLAYER,版本介绍,游戏介绍,英雄资料,爆料站,故事站,游戏壁纸,攻略中心,英雄攻略,视频中心,KPL职业联赛,KCC王者冠军杯,KOC王者城市赛,QGC夏季联赛,TGA大奖赛,WGC精英赛,王者高校联赛,周边商城,王者信用卡,王者文化站,官方助手,手Q部落,微信圈子,官方微博,微信公众号,手Q订阅号,成长守护平台,健康系统,客服专区,礼包兑换,自助服务,王者荣耀首页,>,视频详情,0,点赞,0,分享到：,热门视频,今日,本周,本月,投稿：,0,粉丝：,0,个性签名：水能赛舟 亦能战艇,立即订阅,取消订阅,TA的热门投稿,猜你喜欢,查看详情',\n",
       "   'image': 'http://game.gtimg.cn/images/yxzj/web201605/page/player_smicon.png',\n",
       "   'title': '解说视频-王者荣耀官网网站-腾讯游戏',\n",
       "   'url': 'http://pvp.qq.com/v/detail.shtml?G_Biz=18&tid=49143'}],\n",
       " ['pvp.qq.com/v/detail.shtml?G_Biz=18&tid=49142',\n",
       "  {'content': '解说视频-王者荣耀官网网站-腾讯游戏,王者荣耀,官网首页,HOME,游戏资料,DATA,攻略中心,RAIDERS,赛事中心,MATCH,商城/合作,STORE,社区互动,COMMUNITY,玩家支持,PLAYER,版本介绍,游戏介绍,英雄资料,爆料站,故事站,游戏壁纸,攻略中心,英雄攻略,视频中心,KPL职业联赛,KCC王者冠军杯,KOC王者城市赛,QGC夏季联赛,TGA大奖赛,WGC精英赛,王者高校联赛,周边商城,王者信用卡,王者文化站,官方助手,手Q部落,微信圈子,官方微博,微信公众号,手Q订阅号,成长守护平台,健康系统,客服专区,礼包兑换,自助服务,王者荣耀首页,>,视频详情,0,点赞,0,分享到：,热门视频,今日,本周,本月,投稿：,0,粉丝：,0,个性签名：水能赛舟 亦能战艇,立即订阅,取消订阅,TA的热门投稿,猜你喜欢,查看详情',\n",
       "   'image': 'http://game.gtimg.cn/images/yxzj/web201605/page/player_smicon.png',\n",
       "   'title': '解说视频-王者荣耀官网网站-腾讯游戏',\n",
       "   'url': 'http://pvp.qq.com/v/detail.shtml?G_Biz=18&tid=49142'}],\n",
       " ['pvp.qq.com/v/detail.shtml?G_Biz=18&tid=49141',\n",
       "  {'content': '解说视频-王者荣耀官网网站-腾讯游戏,王者荣耀,官网首页,HOME,游戏资料,DATA,攻略中心,RAIDERS,赛事中心,MATCH,商城/合作,STORE,社区互动,COMMUNITY,玩家支持,PLAYER,版本介绍,游戏介绍,英雄资料,爆料站,故事站,游戏壁纸,攻略中心,英雄攻略,视频中心,KPL职业联赛,KCC王者冠军杯,KOC王者城市赛,QGC夏季联赛,TGA大奖赛,WGC精英赛,王者高校联赛,周边商城,王者信用卡,王者文化站,官方助手,手Q部落,微信圈子,官方微博,微信公众号,手Q订阅号,成长守护平台,健康系统,客服专区,礼包兑换,自助服务,王者荣耀首页,>,视频详情,0,点赞,0,分享到：,热门视频,今日,本周,本月,投稿：,0,粉丝：,0,个性签名：水能赛舟 亦能战艇,立即订阅,取消订阅,TA的热门投稿,猜你喜欢,查看详情',\n",
       "   'image': 'http://game.gtimg.cn/images/yxzj/web201605/page/player_smicon.png',\n",
       "   'title': '解说视频-王者荣耀官网网站-腾讯游戏',\n",
       "   'url': 'http://pvp.qq.com/v/detail.shtml?G_Biz=18&tid=49141'}],\n",
       " ['pvp.qq.com/v/detail.shtml?G_Biz=18&tid=206549',\n",
       "  {'content': '解说视频-王者荣耀官网网站-腾讯游戏,王者荣耀,官网首页,HOME,游戏资料,DATA,攻略中心,RAIDERS,赛事中心,MATCH,商城/合作,STORE,社区互动,COMMUNITY,玩家支持,PLAYER,版本介绍,游戏介绍,英雄资料,爆料站,故事站,游戏壁纸,攻略中心,英雄攻略,视频中心,KPL职业联赛,KCC王者冠军杯,KOC王者城市赛,QGC夏季联赛,TGA大奖赛,WGC精英赛,王者高校联赛,周边商城,王者信用卡,王者文化站,官方助手,手Q部落,微信圈子,官方微博,微信公众号,手Q订阅号,成长守护平台,健康系统,客服专区,礼包兑换,自助服务,王者荣耀首页,>,视频详情,0,点赞,0,分享到：,热门视频,今日,本周,本月,投稿：,0,粉丝：,0,个性签名：水能赛舟 亦能战艇,立即订阅,取消订阅,TA的热门投稿,猜你喜欢,查看详情',\n",
       "   'image': 'http://game.gtimg.cn/images/yxzj/web201605/page/player_smicon.png',\n",
       "   'title': '解说视频-王者荣耀官网网站-腾讯游戏',\n",
       "   'url': 'http://pvp.qq.com/v/detail.shtml?G_Biz=18&tid=206549'}],\n",
       " ['pvp.qq.com/v/detail.shtml?G_Biz=18&tid=206554',\n",
       "  {'content': '解说视频-王者荣耀官网网站-腾讯游戏,王者荣耀,官网首页,HOME,游戏资料,DATA,攻略中心,RAIDERS,赛事中心,MATCH,商城/合作,STORE,社区互动,COMMUNITY,玩家支持,PLAYER,版本介绍,游戏介绍,英雄资料,爆料站,故事站,游戏壁纸,攻略中心,英雄攻略,视频中心,KPL职业联赛,KCC王者冠军杯,KOC王者城市赛,QGC夏季联赛,TGA大奖赛,WGC精英赛,王者高校联赛,周边商城,王者信用卡,王者文化站,官方助手,手Q部落,微信圈子,官方微博,微信公众号,手Q订阅号,成长守护平台,健康系统,客服专区,礼包兑换,自助服务,王者荣耀首页,>,视频详情,0,点赞,0,分享到：,热门视频,今日,本周,本月,投稿：,0,粉丝：,0,个性签名：水能赛舟 亦能战艇,立即订阅,取消订阅,TA的热门投稿,猜你喜欢,查看详情',\n",
       "   'image': 'http://game.gtimg.cn/images/yxzj/web201605/page/player_smicon.png',\n",
       "   'title': '解说视频-王者荣耀官网网站-腾讯游戏',\n",
       "   'url': 'http://pvp.qq.com/v/detail.shtml?G_Biz=18&tid=206554'}],\n",
       " ['pvp.qq.com/v/detail.shtml?G_Biz=18&tid=48477',\n",
       "  {'content': '解说视频-王者荣耀官网网站-腾讯游戏,王者荣耀,官网首页,HOME,游戏资料,DATA,攻略中心,RAIDERS,赛事中心,MATCH,商城/合作,STORE,社区互动,COMMUNITY,玩家支持,PLAYER,版本介绍,游戏介绍,英雄资料,爆料站,故事站,游戏壁纸,攻略中心,英雄攻略,视频中心,KPL职业联赛,KCC王者冠军杯,KOC王者城市赛,QGC夏季联赛,TGA大奖赛,WGC精英赛,王者高校联赛,周边商城,王者信用卡,王者文化站,官方助手,手Q部落,微信圈子,官方微博,微信公众号,手Q订阅号,成长守护平台,健康系统,客服专区,礼包兑换,自助服务,王者荣耀首页,>,视频详情,0,点赞,0,分享到：,热门视频,今日,本周,本月,投稿：,0,粉丝：,0,个性签名：水能赛舟 亦能战艇,立即订阅,取消订阅,TA的热门投稿,猜你喜欢,查看详情',\n",
       "   'image': 'http://game.gtimg.cn/images/yxzj/web201605/page/player_smicon.png',\n",
       "   'title': '解说视频-王者荣耀官网网站-腾讯游戏',\n",
       "   'url': 'http://pvp.qq.com/v/detail.shtml?G_Biz=18&tid=48477'}],\n",
       " ['pvp.qq.com/v/detail.shtml?G_Biz=18&tid=146990',\n",
       "  {'content': '解说视频-王者荣耀官网网站-腾讯游戏,王者荣耀,官网首页,HOME,游戏资料,DATA,攻略中心,RAIDERS,赛事中心,MATCH,商城/合作,STORE,社区互动,COMMUNITY,玩家支持,PLAYER,版本介绍,游戏介绍,英雄资料,爆料站,故事站,游戏壁纸,攻略中心,英雄攻略,视频中心,KPL职业联赛,KCC王者冠军杯,KOC王者城市赛,QGC夏季联赛,TGA大奖赛,WGC精英赛,王者高校联赛,周边商城,王者信用卡,王者文化站,官方助手,手Q部落,微信圈子,官方微博,微信公众号,手Q订阅号,成长守护平台,健康系统,客服专区,礼包兑换,自助服务,王者荣耀首页,>,视频详情,0,点赞,0,分享到：,热门视频,今日,本周,本月,投稿：,0,粉丝：,0,个性签名：水能赛舟 亦能战艇,立即订阅,取消订阅,TA的热门投稿,猜你喜欢,查看详情',\n",
       "   'image': 'http://game.gtimg.cn/images/yxzj/web201605/page/player_smicon.png',\n",
       "   'title': '解说视频-王者荣耀官网网站-腾讯游戏',\n",
       "   'url': 'http://pvp.qq.com/v/detail.shtml?G_Biz=18&tid=146990'}],\n",
       " ['pvp.qq.com/v/detail.shtml?G_Biz=18&tid=49138',\n",
       "  {'content': '解说视频-王者荣耀官网网站-腾讯游戏,王者荣耀,官网首页,HOME,游戏资料,DATA,攻略中心,RAIDERS,赛事中心,MATCH,商城/合作,STORE,社区互动,COMMUNITY,玩家支持,PLAYER,版本介绍,游戏介绍,英雄资料,爆料站,故事站,游戏壁纸,攻略中心,英雄攻略,视频中心,KPL职业联赛,KCC王者冠军杯,KOC王者城市赛,QGC夏季联赛,TGA大奖赛,WGC精英赛,王者高校联赛,周边商城,王者信用卡,王者文化站,官方助手,手Q部落,微信圈子,官方微博,微信公众号,手Q订阅号,成长守护平台,健康系统,客服专区,礼包兑换,自助服务,王者荣耀首页,>,视频详情,0,点赞,0,分享到：,热门视频,今日,本周,本月,投稿：,0,粉丝：,0,个性签名：水能赛舟 亦能战艇,立即订阅,取消订阅,TA的热门投稿,猜你喜欢,查看详情',\n",
       "   'image': 'http://game.gtimg.cn/images/yxzj/web201605/page/player_smicon.png',\n",
       "   'title': '解说视频-王者荣耀官网网站-腾讯游戏',\n",
       "   'url': 'http://pvp.qq.com/v/detail.shtml?G_Biz=18&tid=49138'}],\n",
       " ['pvp.qq.com/v/detail.shtml?G_Biz=18&tid=49137',\n",
       "  {'content': '解说视频-王者荣耀官网网站-腾讯游戏,王者荣耀,官网首页,HOME,游戏资料,DATA,攻略中心,RAIDERS,赛事中心,MATCH,商城/合作,STORE,社区互动,COMMUNITY,玩家支持,PLAYER,版本介绍,游戏介绍,英雄资料,爆料站,故事站,游戏壁纸,攻略中心,英雄攻略,视频中心,KPL职业联赛,KCC王者冠军杯,KOC王者城市赛,QGC夏季联赛,TGA大奖赛,WGC精英赛,王者高校联赛,周边商城,王者信用卡,王者文化站,官方助手,手Q部落,微信圈子,官方微博,微信公众号,手Q订阅号,成长守护平台,健康系统,客服专区,礼包兑换,自助服务,王者荣耀首页,>,视频详情,0,点赞,0,分享到：,热门视频,今日,本周,本月,投稿：,0,粉丝：,0,个性签名：水能赛舟 亦能战艇,立即订阅,取消订阅,TA的热门投稿,猜你喜欢,查看详情',\n",
       "   'image': 'http://game.gtimg.cn/images/yxzj/web201605/page/player_smicon.png',\n",
       "   'title': '解说视频-王者荣耀官网网站-腾讯游戏',\n",
       "   'url': 'http://pvp.qq.com/v/detail.shtml?G_Biz=18&tid=49137'}],\n",
       " ['pvp.qq.com/v/detail.shtml?G_Biz=18&tid=49136',\n",
       "  {'content': '解说视频-王者荣耀官网网站-腾讯游戏,王者荣耀,官网首页,HOME,游戏资料,DATA,攻略中心,RAIDERS,赛事中心,MATCH,商城/合作,STORE,社区互动,COMMUNITY,玩家支持,PLAYER,版本介绍,游戏介绍,英雄资料,爆料站,故事站,游戏壁纸,攻略中心,英雄攻略,视频中心,KPL职业联赛,KCC王者冠军杯,KOC王者城市赛,QGC夏季联赛,TGA大奖赛,WGC精英赛,王者高校联赛,周边商城,王者信用卡,王者文化站,官方助手,手Q部落,微信圈子,官方微博,微信公众号,手Q订阅号,成长守护平台,健康系统,客服专区,礼包兑换,自助服务,王者荣耀首页,>,视频详情,0,点赞,0,分享到：,热门视频,今日,本周,本月,投稿：,0,粉丝：,0,个性签名：水能赛舟 亦能战艇,立即订阅,取消订阅,TA的热门投稿,猜你喜欢,查看详情',\n",
       "   'image': 'http://game.gtimg.cn/images/yxzj/web201605/page/player_smicon.png',\n",
       "   'title': '解说视频-王者荣耀官网网站-腾讯游戏',\n",
       "   'url': 'http://pvp.qq.com/v/detail.shtml?G_Biz=18&tid=49136'}],\n",
       " ['pvp.qq.com/v/detail.shtml?G_Biz=18&tid=146978',\n",
       "  {'content': '解说视频-王者荣耀官网网站-腾讯游戏,王者荣耀,官网首页,HOME,游戏资料,DATA,攻略中心,RAIDERS,赛事中心,MATCH,商城/合作,STORE,社区互动,COMMUNITY,玩家支持,PLAYER,版本介绍,游戏介绍,英雄资料,爆料站,故事站,游戏壁纸,攻略中心,英雄攻略,视频中心,KPL职业联赛,KCC王者冠军杯,KOC王者城市赛,QGC夏季联赛,TGA大奖赛,WGC精英赛,王者高校联赛,周边商城,王者信用卡,王者文化站,官方助手,手Q部落,微信圈子,官方微博,微信公众号,手Q订阅号,成长守护平台,健康系统,客服专区,礼包兑换,自助服务,王者荣耀首页,>,视频详情,0,点赞,0,分享到：,热门视频,今日,本周,本月,投稿：,0,粉丝：,0,个性签名：水能赛舟 亦能战艇,立即订阅,取消订阅,TA的热门投稿,猜你喜欢,查看详情',\n",
       "   'image': 'http://game.gtimg.cn/images/yxzj/web201605/page/player_smicon.png',\n",
       "   'title': '解说视频-王者荣耀官网网站-腾讯游戏',\n",
       "   'url': 'http://pvp.qq.com/v/detail.shtml?G_Biz=18&tid=146978'}],\n",
       " ['pvp.qq.com/v/detail.shtml?G_Biz=18&tid=52119',\n",
       "  {'content': '解说视频-王者荣耀官网网站-腾讯游戏,王者荣耀,官网首页,HOME,游戏资料,DATA,攻略中心,RAIDERS,赛事中心,MATCH,商城/合作,STORE,社区互动,COMMUNITY,玩家支持,PLAYER,版本介绍,游戏介绍,英雄资料,爆料站,故事站,游戏壁纸,攻略中心,英雄攻略,视频中心,KPL职业联赛,KCC王者冠军杯,KOC王者城市赛,QGC夏季联赛,TGA大奖赛,WGC精英赛,王者高校联赛,周边商城,王者信用卡,王者文化站,官方助手,手Q部落,微信圈子,官方微博,微信公众号,手Q订阅号,成长守护平台,健康系统,客服专区,礼包兑换,自助服务,王者荣耀首页,>,视频详情,0,点赞,0,分享到：,热门视频,今日,本周,本月,投稿：,0,粉丝：,0,个性签名：水能赛舟 亦能战艇,立即订阅,取消订阅,TA的热门投稿,猜你喜欢,查看详情',\n",
       "   'image': 'http://game.gtimg.cn/images/yxzj/web201605/page/player_smicon.png',\n",
       "   'title': '解说视频-王者荣耀官网网站-腾讯游戏',\n",
       "   'url': 'http://pvp.qq.com/v/detail.shtml?G_Biz=18&tid=52119'}],\n",
       " ['pvp.qq.com/v/detail.shtml?G_Biz=18&tid=206545',\n",
       "  {'content': '解说视频-王者荣耀官网网站-腾讯游戏,王者荣耀,官网首页,HOME,游戏资料,DATA,攻略中心,RAIDERS,赛事中心,MATCH,商城/合作,STORE,社区互动,COMMUNITY,玩家支持,PLAYER,版本介绍,游戏介绍,英雄资料,爆料站,故事站,游戏壁纸,攻略中心,英雄攻略,视频中心,KPL职业联赛,KCC王者冠军杯,KOC王者城市赛,QGC夏季联赛,TGA大奖赛,WGC精英赛,王者高校联赛,周边商城,王者信用卡,王者文化站,官方助手,手Q部落,微信圈子,官方微博,微信公众号,手Q订阅号,成长守护平台,健康系统,客服专区,礼包兑换,自助服务,王者荣耀首页,>,视频详情,0,点赞,0,分享到：,热门视频,今日,本周,本月,投稿：,0,粉丝：,0,个性签名：水能赛舟 亦能战艇,立即订阅,取消订阅,TA的热门投稿,猜你喜欢,查看详情',\n",
       "   'image': 'http://game.gtimg.cn/images/yxzj/web201605/page/player_smicon.png',\n",
       "   'title': '解说视频-王者荣耀官网网站-腾讯游戏',\n",
       "   'url': 'http://pvp.qq.com/v/detail.shtml?G_Biz=18&tid=206545'}],\n",
       " ['pvp.qq.com/v/detail.shtml?G_Biz=18&tid=49133',\n",
       "  {'content': '解说视频-王者荣耀官网网站-腾讯游戏,王者荣耀,官网首页,HOME,游戏资料,DATA,攻略中心,RAIDERS,赛事中心,MATCH,商城/合作,STORE,社区互动,COMMUNITY,玩家支持,PLAYER,版本介绍,游戏介绍,英雄资料,爆料站,故事站,游戏壁纸,攻略中心,英雄攻略,视频中心,KPL职业联赛,KCC王者冠军杯,KOC王者城市赛,QGC夏季联赛,TGA大奖赛,WGC精英赛,王者高校联赛,周边商城,王者信用卡,王者文化站,官方助手,手Q部落,微信圈子,官方微博,微信公众号,手Q订阅号,成长守护平台,健康系统,客服专区,礼包兑换,自助服务,王者荣耀首页,>,视频详情,0,点赞,0,分享到：,热门视频,今日,本周,本月,投稿：,0,粉丝：,0,个性签名：水能赛舟 亦能战艇,立即订阅,取消订阅,TA的热门投稿,猜你喜欢,查看详情',\n",
       "   'image': 'http://game.gtimg.cn/images/yxzj/web201605/page/player_smicon.png',\n",
       "   'title': '解说视频-王者荣耀官网网站-腾讯游戏',\n",
       "   'url': 'http://pvp.qq.com/v/detail.shtml?G_Biz=18&tid=49133'}],\n",
       " ['pvp.qq.com/v/detail.shtml?G_Biz=18&tid=49132',\n",
       "  {'content': '解说视频-王者荣耀官网网站-腾讯游戏,王者荣耀,官网首页,HOME,游戏资料,DATA,攻略中心,RAIDERS,赛事中心,MATCH,商城/合作,STORE,社区互动,COMMUNITY,玩家支持,PLAYER,版本介绍,游戏介绍,英雄资料,爆料站,故事站,游戏壁纸,攻略中心,英雄攻略,视频中心,KPL职业联赛,KCC王者冠军杯,KOC王者城市赛,QGC夏季联赛,TGA大奖赛,WGC精英赛,王者高校联赛,周边商城,王者信用卡,王者文化站,官方助手,手Q部落,微信圈子,官方微博,微信公众号,手Q订阅号,成长守护平台,健康系统,客服专区,礼包兑换,自助服务,王者荣耀首页,>,视频详情,0,点赞,0,分享到：,热门视频,今日,本周,本月,投稿：,0,粉丝：,0,个性签名：水能赛舟 亦能战艇,立即订阅,取消订阅,TA的热门投稿,猜你喜欢,查看详情',\n",
       "   'image': 'http://game.gtimg.cn/images/yxzj/web201605/page/player_smicon.png',\n",
       "   'title': '解说视频-王者荣耀官网网站-腾讯游戏',\n",
       "   'url': 'http://pvp.qq.com/v/detail.shtml?G_Biz=18&tid=49132'}],\n",
       " ['pvp.qq.com/v/detail.shtml?G_Biz=18&tid=49131',\n",
       "  {'content': '解说视频-王者荣耀官网网站-腾讯游戏,王者荣耀,官网首页,HOME,游戏资料,DATA,攻略中心,RAIDERS,赛事中心,MATCH,商城/合作,STORE,社区互动,COMMUNITY,玩家支持,PLAYER,版本介绍,游戏介绍,英雄资料,爆料站,故事站,游戏壁纸,攻略中心,英雄攻略,视频中心,KPL职业联赛,KCC王者冠军杯,KOC王者城市赛,QGC夏季联赛,TGA大奖赛,WGC精英赛,王者高校联赛,周边商城,王者信用卡,王者文化站,官方助手,手Q部落,微信圈子,官方微博,微信公众号,手Q订阅号,成长守护平台,健康系统,客服专区,礼包兑换,自助服务,王者荣耀首页,>,视频详情,0,点赞,0,分享到：,热门视频,今日,本周,本月,投稿：,0,粉丝：,0,个性签名：水能赛舟 亦能战艇,立即订阅,取消订阅,TA的热门投稿,猜你喜欢,查看详情',\n",
       "   'image': 'http://game.gtimg.cn/images/yxzj/web201605/page/player_smicon.png',\n",
       "   'title': '解说视频-王者荣耀官网网站-腾讯游戏',\n",
       "   'url': 'http://pvp.qq.com/v/detail.shtml?G_Biz=18&tid=49131'}],\n",
       " ['pvp.qq.com/v/detail.shtml?G_Biz=18&tid=49130',\n",
       "  {'content': '解说视频-王者荣耀官网网站-腾讯游戏,王者荣耀,官网首页,HOME,游戏资料,DATA,攻略中心,RAIDERS,赛事中心,MATCH,商城/合作,STORE,社区互动,COMMUNITY,玩家支持,PLAYER,版本介绍,游戏介绍,英雄资料,爆料站,故事站,游戏壁纸,攻略中心,英雄攻略,视频中心,KPL职业联赛,KCC王者冠军杯,KOC王者城市赛,QGC夏季联赛,TGA大奖赛,WGC精英赛,王者高校联赛,周边商城,王者信用卡,王者文化站,官方助手,手Q部落,微信圈子,官方微博,微信公众号,手Q订阅号,成长守护平台,健康系统,客服专区,礼包兑换,自助服务,王者荣耀首页,>,视频详情,0,点赞,0,分享到：,热门视频,今日,本周,本月,投稿：,0,粉丝：,0,个性签名：水能赛舟 亦能战艇,立即订阅,取消订阅,TA的热门投稿,猜你喜欢,查看详情',\n",
       "   'image': 'http://game.gtimg.cn/images/yxzj/web201605/page/player_smicon.png',\n",
       "   'title': '解说视频-王者荣耀官网网站-腾讯游戏',\n",
       "   'url': 'http://pvp.qq.com/v/detail.shtml?G_Biz=18&tid=49130'}],\n",
       " ['pvp.qq.com/v/detail.shtml?G_Biz=18&tid=49863',\n",
       "  {'content': '解说视频-王者荣耀官网网站-腾讯游戏,王者荣耀,官网首页,HOME,游戏资料,DATA,攻略中心,RAIDERS,赛事中心,MATCH,商城/合作,STORE,社区互动,COMMUNITY,玩家支持,PLAYER,版本介绍,游戏介绍,英雄资料,爆料站,故事站,游戏壁纸,攻略中心,英雄攻略,视频中心,KPL职业联赛,KCC王者冠军杯,KOC王者城市赛,QGC夏季联赛,TGA大奖赛,WGC精英赛,王者高校联赛,周边商城,王者信用卡,王者文化站,官方助手,手Q部落,微信圈子,官方微博,微信公众号,手Q订阅号,成长守护平台,健康系统,客服专区,礼包兑换,自助服务,王者荣耀首页,>,视频详情,0,点赞,0,分享到：,热门视频,今日,本周,本月,投稿：,0,粉丝：,0,个性签名：水能赛舟 亦能战艇,立即订阅,取消订阅,TA的热门投稿,猜你喜欢,查看详情',\n",
       "   'image': 'http://game.gtimg.cn/images/yxzj/web201605/page/player_smicon.png',\n",
       "   'title': '解说视频-王者荣耀官网网站-腾讯游戏',\n",
       "   'url': 'http://pvp.qq.com/v/detail.shtml?G_Biz=18&tid=49863'}],\n",
       " ['pvp.qq.com/v/detail.shtml?G_Biz=18&tid=174406',\n",
       "  {'content': '解说视频-王者荣耀官网网站-腾讯游戏,王者荣耀,官网首页,HOME,游戏资料,DATA,攻略中心,RAIDERS,赛事中心,MATCH,商城/合作,STORE,社区互动,COMMUNITY,玩家支持,PLAYER,版本介绍,游戏介绍,英雄资料,爆料站,故事站,游戏壁纸,攻略中心,英雄攻略,视频中心,KPL职业联赛,KCC王者冠军杯,KOC王者城市赛,QGC夏季联赛,TGA大奖赛,WGC精英赛,王者高校联赛,周边商城,王者信用卡,王者文化站,官方助手,手Q部落,微信圈子,官方微博,微信公众号,手Q订阅号,成长守护平台,健康系统,客服专区,礼包兑换,自助服务,王者荣耀首页,>,视频详情,0,点赞,0,分享到：,热门视频,今日,本周,本月,投稿：,0,粉丝：,0,个性签名：水能赛舟 亦能战艇,立即订阅,取消订阅,TA的热门投稿,猜你喜欢,查看详情',\n",
       "   'image': 'http://game.gtimg.cn/images/yxzj/web201605/page/player_smicon.png',\n",
       "   'title': '解说视频-王者荣耀官网网站-腾讯游戏',\n",
       "   'url': 'http://pvp.qq.com/v/detail.shtml?G_Biz=18&tid=174406'}],\n",
       " ['pvp.qq.com/v/detail.shtml?G_Biz=18&tid=206551',\n",
       "  {'content': '解说视频-王者荣耀官网网站-腾讯游戏,王者荣耀,官网首页,HOME,游戏资料,DATA,攻略中心,RAIDERS,赛事中心,MATCH,商城/合作,STORE,社区互动,COMMUNITY,玩家支持,PLAYER,版本介绍,游戏介绍,英雄资料,爆料站,故事站,游戏壁纸,攻略中心,英雄攻略,视频中心,KPL职业联赛,KCC王者冠军杯,KOC王者城市赛,QGC夏季联赛,TGA大奖赛,WGC精英赛,王者高校联赛,周边商城,王者信用卡,王者文化站,官方助手,手Q部落,微信圈子,官方微博,微信公众号,手Q订阅号,成长守护平台,健康系统,客服专区,礼包兑换,自助服务,王者荣耀首页,>,视频详情,0,点赞,0,分享到：,热门视频,今日,本周,本月,投稿：,0,粉丝：,0,个性签名：水能赛舟 亦能战艇,立即订阅,取消订阅,TA的热门投稿,猜你喜欢,查看详情',\n",
       "   'image': 'http://game.gtimg.cn/images/yxzj/web201605/page/player_smicon.png',\n",
       "   'title': '解说视频-王者荣耀官网网站-腾讯游戏',\n",
       "   'url': 'http://pvp.qq.com/v/detail.shtml?G_Biz=18&tid=206551'}],\n",
       " ['pvp.qq.com/v/detail.shtml?G_Biz=18&tid=146963',\n",
       "  {'content': '解说视频-王者荣耀官网网站-腾讯游戏,王者荣耀,官网首页,HOME,游戏资料,DATA,攻略中心,RAIDERS,赛事中心,MATCH,商城/合作,STORE,社区互动,COMMUNITY,玩家支持,PLAYER,版本介绍,游戏介绍,英雄资料,爆料站,故事站,游戏壁纸,攻略中心,英雄攻略,视频中心,KPL职业联赛,KCC王者冠军杯,KOC王者城市赛,QGC夏季联赛,TGA大奖赛,WGC精英赛,王者高校联赛,周边商城,王者信用卡,王者文化站,官方助手,手Q部落,微信圈子,官方微博,微信公众号,手Q订阅号,成长守护平台,健康系统,客服专区,礼包兑换,自助服务,王者荣耀首页,>,视频详情,0,点赞,0,分享到：,热门视频,今日,本周,本月,投稿：,0,粉丝：,0,个性签名：水能赛舟 亦能战艇,立即订阅,取消订阅,TA的热门投稿,猜你喜欢,查看详情',\n",
       "   'image': 'http://game.gtimg.cn/images/yxzj/web201605/page/player_smicon.png',\n",
       "   'title': '解说视频-王者荣耀官网网站-腾讯游戏',\n",
       "   'url': 'http://pvp.qq.com/v/detail.shtml?G_Biz=18&tid=146963'}],\n",
       " ['pvp.qq.com/v/detail.shtml?G_Biz=18&tid=206555',\n",
       "  {'content': '解说视频-王者荣耀官网网站-腾讯游戏,王者荣耀,官网首页,HOME,游戏资料,DATA,攻略中心,RAIDERS,赛事中心,MATCH,商城/合作,STORE,社区互动,COMMUNITY,玩家支持,PLAYER,版本介绍,游戏介绍,英雄资料,爆料站,故事站,游戏壁纸,攻略中心,英雄攻略,视频中心,KPL职业联赛,KCC王者冠军杯,KOC王者城市赛,QGC夏季联赛,TGA大奖赛,WGC精英赛,王者高校联赛,周边商城,王者信用卡,王者文化站,官方助手,手Q部落,微信圈子,官方微博,微信公众号,手Q订阅号,成长守护平台,健康系统,客服专区,礼包兑换,自助服务,王者荣耀首页,>,视频详情,0,点赞,0,分享到：,热门视频,今日,本周,本月,投稿：,0,粉丝：,0,个性签名：水能赛舟 亦能战艇,立即订阅,取消订阅,TA的热门投稿,猜你喜欢,查看详情',\n",
       "   'image': 'http://game.gtimg.cn/images/yxzj/web201605/page/player_smicon.png',\n",
       "   'title': '解说视频-王者荣耀官网网站-腾讯游戏',\n",
       "   'url': 'http://pvp.qq.com/v/detail.shtml?G_Biz=18&tid=206555'}],\n",
       " ['pvp.qq.com/v/detail.shtml?G_Biz=18&tid=206553',\n",
       "  {'content': '解说视频-王者荣耀官网网站-腾讯游戏,王者荣耀,官网首页,HOME,游戏资料,DATA,攻略中心,RAIDERS,赛事中心,MATCH,商城/合作,STORE,社区互动,COMMUNITY,玩家支持,PLAYER,版本介绍,游戏介绍,英雄资料,爆料站,故事站,游戏壁纸,攻略中心,英雄攻略,视频中心,KPL职业联赛,KCC王者冠军杯,KOC王者城市赛,QGC夏季联赛,TGA大奖赛,WGC精英赛,王者高校联赛,周边商城,王者信用卡,王者文化站,官方助手,手Q部落,微信圈子,官方微博,微信公众号,手Q订阅号,成长守护平台,健康系统,客服专区,礼包兑换,自助服务,王者荣耀首页,>,视频详情,0,点赞,0,分享到：,热门视频,今日,本周,本月,投稿：,0,粉丝：,0,个性签名：水能赛舟 亦能战艇,立即订阅,取消订阅,TA的热门投稿,猜你喜欢,查看详情',\n",
       "   'image': 'http://game.gtimg.cn/images/yxzj/web201605/page/player_smicon.png',\n",
       "   'title': '解说视频-王者荣耀官网网站-腾讯游戏',\n",
       "   'url': 'http://pvp.qq.com/v/detail.shtml?G_Biz=18&tid=206553'}],\n",
       " ['pvp.qq.com/v/detail.shtml?G_Biz=18&tid=49119',\n",
       "  {'content': '解说视频-王者荣耀官网网站-腾讯游戏,王者荣耀,官网首页,HOME,游戏资料,DATA,攻略中心,RAIDERS,赛事中心,MATCH,商城/合作,STORE,社区互动,COMMUNITY,玩家支持,PLAYER,版本介绍,游戏介绍,英雄资料,爆料站,故事站,游戏壁纸,攻略中心,英雄攻略,视频中心,KPL职业联赛,KCC王者冠军杯,KOC王者城市赛,QGC夏季联赛,TGA大奖赛,WGC精英赛,王者高校联赛,周边商城,王者信用卡,王者文化站,官方助手,手Q部落,微信圈子,官方微博,微信公众号,手Q订阅号,成长守护平台,健康系统,客服专区,礼包兑换,自助服务,王者荣耀首页,>,视频详情,0,点赞,0,分享到：,热门视频,今日,本周,本月,投稿：,0,粉丝：,0,个性签名：水能赛舟 亦能战艇,立即订阅,取消订阅,TA的热门投稿,猜你喜欢,查看详情',\n",
       "   'image': 'http://game.gtimg.cn/images/yxzj/web201605/page/player_smicon.png',\n",
       "   'title': '解说视频-王者荣耀官网网站-腾讯游戏',\n",
       "   'url': 'http://pvp.qq.com/v/detail.shtml?G_Biz=18&tid=49119'}],\n",
       " ['pvp.qq.com/v/detail.shtml?G_Biz=18&tid=49117',\n",
       "  {'content': '解说视频-王者荣耀官网网站-腾讯游戏,王者荣耀,官网首页,HOME,游戏资料,DATA,攻略中心,RAIDERS,赛事中心,MATCH,商城/合作,STORE,社区互动,COMMUNITY,玩家支持,PLAYER,版本介绍,游戏介绍,英雄资料,爆料站,故事站,游戏壁纸,攻略中心,英雄攻略,视频中心,KPL职业联赛,KCC王者冠军杯,KOC王者城市赛,QGC夏季联赛,TGA大奖赛,WGC精英赛,王者高校联赛,周边商城,王者信用卡,王者文化站,官方助手,手Q部落,微信圈子,官方微博,微信公众号,手Q订阅号,成长守护平台,健康系统,客服专区,礼包兑换,自助服务,王者荣耀首页,>,视频详情,0,点赞,0,分享到：,热门视频,今日,本周,本月,投稿：,0,粉丝：,0,个性签名：水能赛舟 亦能战艇,立即订阅,取消订阅,TA的热门投稿,猜你喜欢,查看详情',\n",
       "   'image': 'http://game.gtimg.cn/images/yxzj/web201605/page/player_smicon.png',\n",
       "   'title': '解说视频-王者荣耀官网网站-腾讯游戏',\n",
       "   'url': 'http://pvp.qq.com/v/detail.shtml?G_Biz=18&tid=49117'}],\n",
       " ['pvp.qq.com/v/detail.shtml?G_Biz=18&tid=146986',\n",
       "  {'content': '解说视频-王者荣耀官网网站-腾讯游戏,王者荣耀,官网首页,HOME,游戏资料,DATA,攻略中心,RAIDERS,赛事中心,MATCH,商城/合作,STORE,社区互动,COMMUNITY,玩家支持,PLAYER,版本介绍,游戏介绍,英雄资料,爆料站,故事站,游戏壁纸,攻略中心,英雄攻略,视频中心,KPL职业联赛,KCC王者冠军杯,KOC王者城市赛,QGC夏季联赛,TGA大奖赛,WGC精英赛,王者高校联赛,周边商城,王者信用卡,王者文化站,官方助手,手Q部落,微信圈子,官方微博,微信公众号,手Q订阅号,成长守护平台,健康系统,客服专区,礼包兑换,自助服务,王者荣耀首页,>,视频详情,0,点赞,0,分享到：,热门视频,今日,本周,本月,投稿：,0,粉丝：,0,个性签名：水能赛舟 亦能战艇,立即订阅,取消订阅,TA的热门投稿,猜你喜欢,查看详情',\n",
       "   'image': 'http://game.gtimg.cn/images/yxzj/web201605/page/player_smicon.png',\n",
       "   'title': '解说视频-王者荣耀官网网站-腾讯游戏',\n",
       "   'url': 'http://pvp.qq.com/v/detail.shtml?G_Biz=18&tid=146986'}],\n",
       " ['pvp.qq.com/v/detail.shtml?G_Biz=18&tid=49115',\n",
       "  {'content': '解说视频-王者荣耀官网网站-腾讯游戏,王者荣耀,官网首页,HOME,游戏资料,DATA,攻略中心,RAIDERS,赛事中心,MATCH,商城/合作,STORE,社区互动,COMMUNITY,玩家支持,PLAYER,版本介绍,游戏介绍,英雄资料,爆料站,故事站,游戏壁纸,攻略中心,英雄攻略,视频中心,KPL职业联赛,KCC王者冠军杯,KOC王者城市赛,QGC夏季联赛,TGA大奖赛,WGC精英赛,王者高校联赛,周边商城,王者信用卡,王者文化站,官方助手,手Q部落,微信圈子,官方微博,微信公众号,手Q订阅号,成长守护平台,健康系统,客服专区,礼包兑换,自助服务,王者荣耀首页,>,视频详情,0,点赞,0,分享到：,热门视频,今日,本周,本月,投稿：,0,粉丝：,0,个性签名：水能赛舟 亦能战艇,立即订阅,取消订阅,TA的热门投稿,猜你喜欢,查看详情',\n",
       "   'image': 'http://game.gtimg.cn/images/yxzj/web201605/page/player_smicon.png',\n",
       "   'title': '解说视频-王者荣耀官网网站-腾讯游戏',\n",
       "   'url': 'http://pvp.qq.com/v/detail.shtml?G_Biz=18&tid=49115'}],\n",
       " ['pvp.qq.com/v/detail.shtml?G_Biz=18&tid=49114',\n",
       "  {'content': '解说视频-王者荣耀官网网站-腾讯游戏,王者荣耀,官网首页,HOME,游戏资料,DATA,攻略中心,RAIDERS,赛事中心,MATCH,商城/合作,STORE,社区互动,COMMUNITY,玩家支持,PLAYER,版本介绍,游戏介绍,英雄资料,爆料站,故事站,游戏壁纸,攻略中心,英雄攻略,视频中心,KPL职业联赛,KCC王者冠军杯,KOC王者城市赛,QGC夏季联赛,TGA大奖赛,WGC精英赛,王者高校联赛,周边商城,王者信用卡,王者文化站,官方助手,手Q部落,微信圈子,官方微博,微信公众号,手Q订阅号,成长守护平台,健康系统,客服专区,礼包兑换,自助服务,王者荣耀首页,>,视频详情,0,点赞,0,分享到：,热门视频,今日,本周,本月,投稿：,0,粉丝：,0,个性签名：水能赛舟 亦能战艇,立即订阅,取消订阅,TA的热门投稿,猜你喜欢,查看详情',\n",
       "   'image': 'http://game.gtimg.cn/images/yxzj/web201605/page/player_smicon.png',\n",
       "   'title': '解说视频-王者荣耀官网网站-腾讯游戏',\n",
       "   'url': 'http://pvp.qq.com/v/detail.shtml?G_Biz=18&tid=49114'}],\n",
       " ['pvp.qq.com/v/detail.shtml?G_Biz=18&tid=49112',\n",
       "  {'content': '解说视频-王者荣耀官网网站-腾讯游戏,王者荣耀,官网首页,HOME,游戏资料,DATA,攻略中心,RAIDERS,赛事中心,MATCH,商城/合作,STORE,社区互动,COMMUNITY,玩家支持,PLAYER,版本介绍,游戏介绍,英雄资料,爆料站,故事站,游戏壁纸,攻略中心,英雄攻略,视频中心,KPL职业联赛,KCC王者冠军杯,KOC王者城市赛,QGC夏季联赛,TGA大奖赛,WGC精英赛,王者高校联赛,周边商城,王者信用卡,王者文化站,官方助手,手Q部落,微信圈子,官方微博,微信公众号,手Q订阅号,成长守护平台,健康系统,客服专区,礼包兑换,自助服务,王者荣耀首页,>,视频详情,0,点赞,0,分享到：,热门视频,今日,本周,本月,投稿：,0,粉丝：,0,个性签名：水能赛舟 亦能战艇,立即订阅,取消订阅,TA的热门投稿,猜你喜欢,查看详情',\n",
       "   'image': 'http://game.gtimg.cn/images/yxzj/web201605/page/player_smicon.png',\n",
       "   'title': '解说视频-王者荣耀官网网站-腾讯游戏',\n",
       "   'url': 'http://pvp.qq.com/v/detail.shtml?G_Biz=18&tid=49112'}],\n",
       " ['pvp.qq.com/v/detail.shtml?G_Biz=18&tid=206550',\n",
       "  {'content': '解说视频-王者荣耀官网网站-腾讯游戏,王者荣耀,官网首页,HOME,游戏资料,DATA,攻略中心,RAIDERS,赛事中心,MATCH,商城/合作,STORE,社区互动,COMMUNITY,玩家支持,PLAYER,版本介绍,游戏介绍,英雄资料,爆料站,故事站,游戏壁纸,攻略中心,英雄攻略,视频中心,KPL职业联赛,KCC王者冠军杯,KOC王者城市赛,QGC夏季联赛,TGA大奖赛,WGC精英赛,王者高校联赛,周边商城,王者信用卡,王者文化站,官方助手,手Q部落,微信圈子,官方微博,微信公众号,手Q订阅号,成长守护平台,健康系统,客服专区,礼包兑换,自助服务,王者荣耀首页,>,视频详情,0,点赞,0,分享到：,热门视频,今日,本周,本月,投稿：,0,粉丝：,0,个性签名：水能赛舟 亦能战艇,立即订阅,取消订阅,TA的热门投稿,猜你喜欢,查看详情',\n",
       "   'image': 'http://game.gtimg.cn/images/yxzj/web201605/page/player_smicon.png',\n",
       "   'title': '解说视频-王者荣耀官网网站-腾讯游戏',\n",
       "   'url': 'http://pvp.qq.com/v/detail.shtml?G_Biz=18&tid=206550'}],\n",
       " ['pvp.qq.com/v/detail.shtml?G_Biz=18&tid=48994',\n",
       "  {'content': '解说视频-王者荣耀官网网站-腾讯游戏,王者荣耀,官网首页,HOME,游戏资料,DATA,攻略中心,RAIDERS,赛事中心,MATCH,商城/合作,STORE,社区互动,COMMUNITY,玩家支持,PLAYER,版本介绍,游戏介绍,英雄资料,爆料站,故事站,游戏壁纸,攻略中心,英雄攻略,视频中心,KPL职业联赛,KCC王者冠军杯,KOC王者城市赛,QGC夏季联赛,TGA大奖赛,WGC精英赛,王者高校联赛,周边商城,王者信用卡,王者文化站,官方助手,手Q部落,微信圈子,官方微博,微信公众号,手Q订阅号,成长守护平台,健康系统,客服专区,礼包兑换,自助服务,王者荣耀首页,>,视频详情,0,点赞,0,分享到：,热门视频,今日,本周,本月,投稿：,0,粉丝：,0,个性签名：水能赛舟 亦能战艇,立即订阅,取消订阅,TA的热门投稿,猜你喜欢,查看详情',\n",
       "   'image': 'http://game.gtimg.cn/images/yxzj/web201605/page/player_smicon.png',\n",
       "   'title': '解说视频-王者荣耀官网网站-腾讯游戏',\n",
       "   'url': 'http://pvp.qq.com/v/detail.shtml?G_Biz=18&tid=48994'}],\n",
       " ['pvp.qq.com/v/detail.shtml?G_Biz=18&tid=36998',\n",
       "  {'content': '解说视频-王者荣耀官网网站-腾讯游戏,王者荣耀,官网首页,HOME,游戏资料,DATA,攻略中心,RAIDERS,赛事中心,MATCH,商城/合作,STORE,社区互动,COMMUNITY,玩家支持,PLAYER,版本介绍,游戏介绍,英雄资料,爆料站,故事站,游戏壁纸,攻略中心,英雄攻略,视频中心,KPL职业联赛,KCC王者冠军杯,KOC王者城市赛,QGC夏季联赛,TGA大奖赛,WGC精英赛,王者高校联赛,周边商城,王者信用卡,王者文化站,官方助手,手Q部落,微信圈子,官方微博,微信公众号,手Q订阅号,成长守护平台,健康系统,客服专区,礼包兑换,自助服务,王者荣耀首页,>,视频详情,0,点赞,0,分享到：,热门视频,今日,本周,本月,投稿：,0,粉丝：,0,个性签名：水能赛舟 亦能战艇,立即订阅,取消订阅,TA的热门投稿,猜你喜欢,查看详情',\n",
       "   'image': 'http://game.gtimg.cn/images/yxzj/web201605/page/player_smicon.png',\n",
       "   'title': '解说视频-王者荣耀官网网站-腾讯游戏',\n",
       "   'url': 'http://pvp.qq.com/v/detail.shtml?G_Biz=18&tid=36998'}],\n",
       " ['pvp.qq.com/v/detail.shtml?G_Biz=18&tid=206552',\n",
       "  {'content': '解说视频-王者荣耀官网网站-腾讯游戏,王者荣耀,官网首页,HOME,游戏资料,DATA,攻略中心,RAIDERS,赛事中心,MATCH,商城/合作,STORE,社区互动,COMMUNITY,玩家支持,PLAYER,版本介绍,游戏介绍,英雄资料,爆料站,故事站,游戏壁纸,攻略中心,英雄攻略,视频中心,KPL职业联赛,KCC王者冠军杯,KOC王者城市赛,QGC夏季联赛,TGA大奖赛,WGC精英赛,王者高校联赛,周边商城,王者信用卡,王者文化站,官方助手,手Q部落,微信圈子,官方微博,微信公众号,手Q订阅号,成长守护平台,健康系统,客服专区,礼包兑换,自助服务,王者荣耀首页,>,视频详情,0,点赞,0,分享到：,热门视频,今日,本周,本月,投稿：,0,粉丝：,0,个性签名：水能赛舟 亦能战艇,立即订阅,取消订阅,TA的热门投稿,猜你喜欢,查看详情',\n",
       "   'image': 'http://game.gtimg.cn/images/yxzj/web201605/page/player_smicon.png',\n",
       "   'title': '解说视频-王者荣耀官网网站-腾讯游戏',\n",
       "   'url': 'http://pvp.qq.com/v/detail.shtml?G_Biz=18&tid=206552'}],\n",
       " ['pvp.qq.com/v/detail.shtml?G_Biz=18&tid=48992',\n",
       "  {'content': '解说视频-王者荣耀官网网站-腾讯游戏,王者荣耀,官网首页,HOME,游戏资料,DATA,攻略中心,RAIDERS,赛事中心,MATCH,商城/合作,STORE,社区互动,COMMUNITY,玩家支持,PLAYER,版本介绍,游戏介绍,英雄资料,爆料站,故事站,游戏壁纸,攻略中心,英雄攻略,视频中心,KPL职业联赛,KCC王者冠军杯,KOC王者城市赛,QGC夏季联赛,TGA大奖赛,WGC精英赛,王者高校联赛,周边商城,王者信用卡,王者文化站,官方助手,手Q部落,微信圈子,官方微博,微信公众号,手Q订阅号,成长守护平台,健康系统,客服专区,礼包兑换,自助服务,王者荣耀首页,>,视频详情,0,点赞,0,分享到：,热门视频,今日,本周,本月,投稿：,0,粉丝：,0,个性签名：水能赛舟 亦能战艇,立即订阅,取消订阅,TA的热门投稿,猜你喜欢,查看详情',\n",
       "   'image': 'http://game.gtimg.cn/images/yxzj/web201605/page/player_smicon.png',\n",
       "   'title': '解说视频-王者荣耀官网网站-腾讯游戏',\n",
       "   'url': 'http://pvp.qq.com/v/detail.shtml?G_Biz=18&tid=48992'}],\n",
       " ['pvp.qq.com/v/detail.shtml?G_Biz=18&tid=199010',\n",
       "  {'content': '解说视频-王者荣耀官网网站-腾讯游戏,王者荣耀,官网首页,HOME,游戏资料,DATA,攻略中心,RAIDERS,赛事中心,MATCH,商城/合作,STORE,社区互动,COMMUNITY,玩家支持,PLAYER,版本介绍,游戏介绍,英雄资料,爆料站,故事站,游戏壁纸,攻略中心,英雄攻略,视频中心,KPL职业联赛,KCC王者冠军杯,KOC王者城市赛,QGC夏季联赛,TGA大奖赛,WGC精英赛,王者高校联赛,周边商城,王者信用卡,王者文化站,官方助手,手Q部落,微信圈子,官方微博,微信公众号,手Q订阅号,成长守护平台,健康系统,客服专区,礼包兑换,自助服务,王者荣耀首页,>,视频详情,0,点赞,0,分享到：,热门视频,今日,本周,本月,投稿：,0,粉丝：,0,个性签名：水能赛舟 亦能战艇,立即订阅,取消订阅,TA的热门投稿,猜你喜欢,查看详情',\n",
       "   'image': 'http://game.gtimg.cn/images/yxzj/web201605/page/player_smicon.png',\n",
       "   'title': '解说视频-王者荣耀官网网站-腾讯游戏',\n",
       "   'url': 'http://pvp.qq.com/v/detail.shtml?G_Biz=18&tid=199010'}],\n",
       " ['pvp.qq.com/v/detail.shtml?G_Biz=18&tid=48991',\n",
       "  {'content': '解说视频-王者荣耀官网网站-腾讯游戏,王者荣耀,官网首页,HOME,游戏资料,DATA,攻略中心,RAIDERS,赛事中心,MATCH,商城/合作,STORE,社区互动,COMMUNITY,玩家支持,PLAYER,版本介绍,游戏介绍,英雄资料,爆料站,故事站,游戏壁纸,攻略中心,英雄攻略,视频中心,KPL职业联赛,KCC王者冠军杯,KOC王者城市赛,QGC夏季联赛,TGA大奖赛,WGC精英赛,王者高校联赛,周边商城,王者信用卡,王者文化站,官方助手,手Q部落,微信圈子,官方微博,微信公众号,手Q订阅号,成长守护平台,健康系统,客服专区,礼包兑换,自助服务,王者荣耀首页,>,视频详情,0,点赞,0,分享到：,热门视频,今日,本周,本月,投稿：,0,粉丝：,0,个性签名：水能赛舟 亦能战艇,立即订阅,取消订阅,TA的热门投稿,猜你喜欢,查看详情',\n",
       "   'image': 'http://game.gtimg.cn/images/yxzj/web201605/page/player_smicon.png',\n",
       "   'title': '解说视频-王者荣耀官网网站-腾讯游戏',\n",
       "   'url': 'http://pvp.qq.com/v/detail.shtml?G_Biz=18&tid=48991'}],\n",
       " ['pvp.qq.com/raiders',\n",
       "  {'content': '王者荣耀攻略中心-王者荣耀官方网站-腾讯游戏,王者荣耀,官网首页,HOME,游戏资料,DATA,攻略中心,RAIDERS,赛事中心,MATCH,商城/合作,STORE,社区互动,COMMUNITY,玩家支持,PLAYER,版本介绍,游戏介绍,英雄资料,爆料站,故事站,游戏壁纸,攻略中心,英雄攻略,视频中心,KPL职业联赛,KCC王者冠军杯,KOC王者城市赛,QGC夏季联赛,TGA大奖赛,WGC精英赛,王者高校联赛,周边商城,王者信用卡,王者文化站,官方助手,手Q部落,微信圈子,官方微博,微信公众号,手Q订阅号,成长守护平台,健康系统,客服专区,礼包兑换,自助服务,王者荣耀首页,>,攻略中心,视频,图文,日,周,月,英雄攻略,更多,热门,坦克,战士,刺客,法师,射手,辅助,精品栏目,更多,最新,王者职业教学,荣耀兵器谱,王者百科,数据封神榜,鱼嘴滑舌,ASK鱼头,英雄周报,跟我上王者,科敌制胜,科科周报,小姿势讲堂,主宰猎人,破冰英雄,展示更多,“最新”,栏目视频 ↓,收起 ↑,赛事精品,更多,最新,零度带你飞,荣耀进行时,谁是国服第一,赛事周刊,我来Carry,主宰猎人,荣耀大拷问,KPL本命英雄,展示更多,“最新”,栏目视频 ↓,收起 ↑,图文攻略,更多,最新,英雄,新手,官方,同人,技能攻略,更多,召唤师技能,局内道具,英雄',\n",
       "   'image': 'http://',\n",
       "   'title': '王者荣耀攻略中心-王者荣耀官方网站-腾讯游戏',\n",
       "   'url': 'http://pvp.qq.com/raiders'}],\n",
       " ['pvp.qq.com/web201605/herolist.shtml',\n",
       "  {'content': '',\n",
       "   'image': '',\n",
       "   'title': '',\n",
       "   'url': 'http://pvp.qq.com/web201605/herolist.shtml'}],\n",
       " ['pvp.qq.com',\n",
       "  {'content': '王者荣耀官方网站-腾讯游戏,王者荣耀,官网首页,HOME,游戏资料,DATA,攻略中心,RAIDERS,赛事中心,MATCH,商城/合作,STORE,社区互动,COMMUNITY,玩家支持,PLAYER,版本介绍,游戏介绍,英雄资料,爆料站,故事站,游戏壁纸,攻略中心,英雄攻略,视频中心,KPL职业联赛,KCC王者冠军杯,KOC王者城市赛,QGC夏季联赛,TGA大奖赛,WGC精英赛,王者高校联赛,周边商城,王者信用卡,王者文化站,官方助手,手Q部落,微信圈子,官方微博,微信公众号,手Q订阅号,成长守护平台,健康系统,客服专区,礼包兑换,自助服务,查看详情,正在努力加载中...,全部,新闻,公告,活动,赛事,...,公告,12月14日全服不停机更新公告,12/14,公告,12月14日体验服停机更新公告,12/14,公告,12月14日体验服停机更新公告,12/14,公告,体验服【资格申请活动】即将开启,12/14,公告,王者荣耀体验服实名认证要求公告,12/14,新闻中心,典藏级手办凤求凰开启预约,12/14,赛事,高校赛同人小说《青春当时》第五章,12/14,新闻,高校赛同人小说-荣耀高校 第七章,12/14,赛事,王者城市赛总决赛亚军Hero战队巡礼：追梦之战才刚刚开始！,12/14,公告,12月14日全服不停机更新公告,12/14,新闻,典藏级手办凤求凰开启预约,12/14,新闻,高校赛同人小说-荣耀高校 第七章,12/14,新闻,【王者电竞周刊】第10期：XQ首次闯入总决赛，再战QGhappy争夺王者之冠,12/13,新闻,《王者荣耀》典藏级手办凤求凰12月下旬正式发售,12/12,新闻,【峡谷问答室】第7期：总冠军竞猜指南，GINI、瓶子、李九为你答疑,12/12,新闻,王者城市赛总决赛回顾：70多个日日夜夜的鏖战，SV战队问鼎冠军,12/12,新闻,你的好友Angelababy向你送了一口毒奶，请查收！,12/11,新闻,正在直播！第四届王者城市赛总决赛鏖战京城,12/10,新闻,《王者荣耀》与《圣斗士星矢（腾讯）》将开启深度IP联动,12/07,新闻,《王者历史课》第一季收官， 传统文化需要多元载体和多元表达,12/06,公告,12月14日全服不停机更新公告,12/14,公告,12月14日体验服停机更新公告,12/14,公告,12月14日体验服停机更新公告,12/14,公告,体验服【资格申请活动】即将开启,12/14,公告,王者荣耀体验服实名认证要求公告,12/14,公告,12月14日全服不停机更新公告,12/14,公告,12月13日“盛世长安“部分已知问题说明公告,12/13,公告,App Store下载缓慢及更新按钮未刷新问题公告说明,12/13,公告,关于安卓区下载安装包异常的问题公告说明（已恢复）,12/13,公告,12月13日【正式服】“盛世长安”版本更新公告,12/12,活动,12月5日版本活动公告,12/04,活动,近期活动说明公告（霸王丸、KPL竞猜、英雄学院）,11/28,活动,11月28日版本活动公告,11/27,活动,11月21日版本活动公告,11/20,活动,感恩节回馈计划,11/17,活动,【王者知道】参与答题得好礼啦！,11/17,活动,糖果屋全面开启！限定皮肤等你来拿！,11/16,活动,11月14日版本活动公告,11/13,活动,11月7日版本活动公告,11/06,活动,10月31日版本活动公告,10/30,赛事,高校赛同人小说《青春当时》第五章,12/14,赛事,高校赛同人小说-荣耀高校 第七章,12/14,赛事,王者城市赛总决赛亚军Hero战队巡礼：追梦之战才刚刚开始！,12/14,赛事,王者城市赛总决赛冠军巡礼：沉稳内敛、步步为营，第四届王者城市赛SV战队问鼎冠军,12/13,赛事,高校赛同人小说《王者重制》 第六章（下）,12/13,赛事,高校赛同人小说《王者重制》 第六章,12/13,赛事,2017年《王者荣耀》首届校园解说大赛开启,12/13,赛事,王者荣耀高校联赛重庆西南大学站：麻辣重庆冲击味蕾，赛场之上竞争激烈,12/13,赛事,王者荣耀高校联赛上海交通大学站：创意无限，美轮美奂的上海交通大学站,12/13,赛事,《王者荣耀》战椅登场，开启电竞赛事新体验,12/13,攻略中心,更多,英雄攻略,赛事精品,精品栏目,选择英雄,热门,坦克,战士,刺客,法师,射手,辅助,最新,零度带你飞,荣耀进行时,王者职业教学,谁是国服第一,赛事周刊,我来Carry,主宰猎人,荣耀大拷问,KPL本命英雄,最新,九门兵书,英雄周报,鱼嘴滑舌,王者百科,一鹿上王者,天下王者,英雄技谋,荣耀兵器谱,英雄/皮肤,更多,最新英雄,最新皮肤,周免英雄,新英雄：明世隐,上线时间：2017-12-13,女娲,梦奇,苏烈,百里玄策,新皮肤：明世隐-占星术士,上线时间：2017-12-13,宫本武藏·霸王丸,女娲·尼罗河女神,甄姬·游园惊梦,饕餮·太乙真人,白起,扁鹊,牛魔,兰陵王,铠,成吉思汗,干将莫邪,限免时间：,xxxx-xx-xx,至,xxxx-xx-xx,赛事中心,KPL赛程,更多,时间,战队,战队,点击关闭,点击缩小,进入专题,×,查看详情',\n",
       "   'image': 'http://ossweb-img.qq.com/upload/webplat/info/yxzj/20171206/68232540623580.jpg',\n",
       "   'title': '王者荣耀官方网站-腾讯游戏',\n",
       "   'url': 'http://pvp.qq.com'}],\n",
       " ['pvp.qq.com/v/detail.shtml?G_Biz=18&tid=48990',\n",
       "  {'content': '解说视频-王者荣耀官网网站-腾讯游戏,王者荣耀,官网首页,HOME,游戏资料,DATA,攻略中心,RAIDERS,赛事中心,MATCH,商城/合作,STORE,社区互动,COMMUNITY,玩家支持,PLAYER,版本介绍,游戏介绍,英雄资料,爆料站,故事站,游戏壁纸,攻略中心,英雄攻略,视频中心,KPL职业联赛,KCC王者冠军杯,KOC王者城市赛,QGC夏季联赛,TGA大奖赛,WGC精英赛,王者高校联赛,周边商城,王者信用卡,王者文化站,官方助手,手Q部落,微信圈子,官方微博,微信公众号,手Q订阅号,成长守护平台,健康系统,客服专区,礼包兑换,自助服务,王者荣耀首页,>,视频详情,0,点赞,0,分享到：,热门视频,今日,本周,本月,投稿：,0,粉丝：,0,个性签名：水能赛舟 亦能战艇,立即订阅,取消订阅,TA的热门投稿,猜你喜欢,查看详情',\n",
       "   'image': 'http://game.gtimg.cn/images/yxzj/web201605/page/player_smicon.png',\n",
       "   'title': '解说视频-王者荣耀官网网站-腾讯游戏',\n",
       "   'url': 'http://pvp.qq.com/v/detail.shtml?G_Biz=18&tid=48990'}]]"
      ]
     },
     "execution_count": 220,
     "metadata": {},
     "output_type": "execute_result"
    }
   ],
   "source": [
    "all_pages"
   ]
  },
  {
   "cell_type": "code",
   "execution_count": null,
   "metadata": {
    "collapsed": true,
    "run_control": {
     "frozen": false,
     "read_only": false
    }
   },
   "outputs": [],
   "source": []
  },
  {
   "cell_type": "code",
   "execution_count": 223,
   "metadata": {
    "run_control": {
     "frozen": false,
     "read_only": false
    }
   },
   "outputs": [],
   "source": [
    "import pymysql\n",
    "import pymysql.cursors   \n",
    "connection = pymysql.connect(host='localhost',\n",
    "                             user='seuser',\n",
    "                             password='se!@#$',\n",
    "                             db='dalsearch',\n",
    "                             charset='utf8',\n",
    "                             cursorclass=pymysql.cursors.DictCursor)\n",
    "\n",
    "cursor = connection.cursor()\n",
    "\n"
   ]
  },
  {
   "cell_type": "code",
   "execution_count": 184,
   "metadata": {
    "run_control": {
     "frozen": false,
     "read_only": false
    }
   },
   "outputs": [
    {
     "data": {
      "text/plain": [
       "'姜子牙-王者荣耀官网网站,太古魔导,姜子牙,生存能力,攻击伤害,技能效果,上手难度,英雄故事,历史上的ta,王者荣耀首页,>,英雄介绍,>,姜子牙,148,技能介绍,心魔,冷却值：0,消耗：0,被动：每10秒为友军增加25点经验，经验随英雄等级提升,功能型被动技能，可以使友方英雄等级领先于敌方，前期在3级到4级的时间点尤为重要,忏悔,冷却值：8,消耗：70,姜子牙聚集能量对目标区域的敌人进行冲击，命中的敌人在接下来的五秒内每0.5秒受到60/72/84/96/108/120（+7%法术加成）点法术伤害，并且移动速度和双抗会逐渐减少。最多降低90%移动速度，100/120/140/160/180/200点物理防御和100/120/140/160/180/200点法术防御,AOE范围技能，有较高的AP伤害加成和可叠加的减速效果，在人群中使用效果极佳,湮灭,冷却值：10/9.4/8.8/8.2/7.6/7,消耗：80,姜子牙在指定地点引爆能量，击退爆炸点周围的敌人并造成310/350/390/430/470/510（+47%法术加成）点法术伤害，并造成减速,范围内造成法术伤害并能击退敌人，是姜子牙重要的保命技能,断罪,冷却值：10.0/8.0/6.0,消耗：100,姜子牙召唤能量聚集持续3秒，蓄力过程中进行任意操作都会中断蓄力并放出冲击波造成450/600/750（+35%法术加成）点法术伤害，蓄力越久伤害越高，可对建筑造成10%伤害,姜子牙最主要的输出和消耗技能，施法范围非常大，距离和伤害根据蓄力的时间而定，但施法时间较长，需要有非常好的预判能力,冷却值：,消耗：,铭文搭配建议,Tips：红色梦魇提供的法术攻击和法术穿透能有效提高前期的输出，绿色献祭提高输出频率增加输出伤害，蓝色轮回能在后期高伤害的情况下获得一定的续航能力。,技能加点建议,主升,火焰三尖枪,副升,混天绫.束,召唤师技能,闪现/斩杀,英雄关系,最佳搭档,压制英雄,被压制英雄,最佳搭档,牛魔：姜子牙身板非常非常脆，需要一个有足够坦度的辅助提供支援，牛魔的AOE控制和能力是一个很好的选择，开启团战时候牛魔在前方吸收伤害打出有效控制，可以提高姜子牙的大招命中率，保护时也可以给姜子牙很好的逃生机会。,钟馗/墨子：这两个英雄的大招作用相似，钟馗墨子的大招在释放可以长时间控制住敌方英雄，姜子牙可以有足够的时间蓄力大招对敌方造成毁灭性打击。,压制英雄,黄忠/王昭君：大招很像所以放在一起说。黄忠王和王昭君的大招都有同一个特点，那就是站桩，不能移动，而姜子牙的大招则拥有超远距离且超高伤害的特点，且敌方的大招站桩特点给了姜子牙足够的蓄力时间，一旦命中王昭君、黄忠基本会直接失去战斗力甚至被击杀。,露娜：露娜的无限连有个条件那就是必须命中标记单位，也就是说大招一定是往人脸上放的，姜子牙的二技能可以推开露娜甚至使其断大而使其陷入困境，大招不只是造成伤害的作用，因为长时间的蓄力常常使大招很难命中，这时的大招作为逼走位的技能使用，对战场区域释放大招，不仅是露娜，敌方全体都要规避。,被压制英雄,身为脆皮法师，姜子牙害怕韩信等位移多伤害高的刺客英雄,兰陵王在团战中能够一套技能直接带走姜子牙,出装建议,推荐出装一,推荐出装二,Tips：暴力的法师全输出装备，能够形成非常高的伤害输出，但需依赖较好的走位与操作,Tips：一套比较肉的法师出装，生存能力超强，并且有一定输出能力，适合逆风局出的装备,英雄攻略,更多,英雄故事,“夫子夫子，这么晚不睡，偷偷摸摸在干嘛？”,“去去！老夫可是光明正大在替某个家伙点蜡！”,“什么嘛，原来是个挂掉的倒霉家伙。嗯！说不定生前还很不幸。”,“别说挂掉，早在什么地方烂透了也有可能，虽说活着时也是烂人一个。不幸……那家伙倒确实曾让很多人不幸以及……发霉。”,“哦哦，八卦之魂开始燃烧了！夫子夫子，那家伙都有些什么丰功伟绩？”,“也不算什么啦。不过就是带领大家干掉纣王，顺手在大陆搞出几个强国，再躲起来调教了几个美貌又可爱的小徒弟罢了，像动动嘴皮子就成了天才军师的张良啦，每天霸气侧漏拖着大裙子要砍要杀的武则天啦……”,“简直是比夫子您还要变态的教育狂也！啊，莫非……您这位朋友……就是传说中的太古魔导姜子牙！”,“什么朋友……老家伙可是正义凛然的跟夫子我决裂了一场。唉，一点都不给面子。”,“你们为什么决裂呢？”,“人哪，总是有自己认为很重要，一定要坚持的事。为了这样的坚持，可以放弃自己的生命，可以残忍对待朋友，爱人，亲人。对那个老家伙来说，守护人间界就是他的坚持。制造妲己，灭杀纣王，驱除魔种，警惕西方世界……当然啦，他从来不替自己着想，所做的一切都是要把整个人间界平安的重责背到肩膀上。,可夫子我抱有疑惑。什么样才算人间界呢？是只有人类没有异族的世界吗？还是杀四十九人以活五十一人，只有强者没有弱者的世界？虽然老家伙毕生致力于驱除魔种，却对人类之间的战争杀戮袖手旁观……这样真的是和平的人间界吗？,我们谁也无法说服谁，只好干上一架，再绝交，再分手。”,“最后谁赢了？”,“傻！这种事怎么可能有赢家。那老家伙用尽了手段，坑蒙拐骗威逼利诱徒弟们彼此争斗杀戮魔种，最后作茧自缚被武则天背叛，被封禁在不知哪个角落……”,“那就是您赢了嘛！活到最后的就是赢家！”,“傻！老家伙可是永远走在潮流前头的男人，对别人狠对自己更狠！据老夫对他的了解，他多半一手安排好自己的新生，借此机会完成人生的重启参与新的战争。我们之间的孽缘，看来还会继续纠缠下去……”,“夫子，那就撸起袖子预备大干一场啊！干嘛还偷偷摸摸祭奠！”,“都说了是光明正大！年轻人不懂，老夫祭奠的哪里是人，老夫是在缅怀逝去的友谊和青春啊。”,当稷下的青烟在空中飘散之时，遥远的云和山的彼端，似乎永远也打不倒的老人从沉睡中苏醒。,“非我族类，其心必异！”,历史上的TA,姜子牙，商末周初的人物。《史记·齐太公世家》称其为东海人，先祖封于吕，本姓姜，所以，后世有称他为姜尚的，也有称吕尚的。传说他已经80余岁了，在渭水垂钓，遇到了周文王姬昌，姬昌把姜尚视为圣人，言听计从，后来姜尚辅佐文王的儿子姬发，灭商建立了西周。而姜尚也得封于齐，为齐国始祖。小说《封神演义》，把姜尚说成了一个神话人物，是正道阐教的核心成员。'"
      ]
     },
     "execution_count": 184,
     "metadata": {},
     "output_type": "execute_result"
    }
   ],
   "source": [
    "all_pages[0][1]['content']"
   ]
  },
  {
   "cell_type": "code",
   "execution_count": 224,
   "metadata": {
    "run_control": {
     "frozen": false,
     "read_only": false
    }
   },
   "outputs": [],
   "source": [
    "with connection.cursor() as cursor:\n",
    "    for item in all_pages:\n",
    "        query_sql= 'INSERT INTO document_page (url,title,image,description,pagecontent) VALUES (\"{}\", \"{}\",\"{}\",\"{}\",\"{}\");'.format(\n",
    "            item[1]['url'],item[1]['title'],item[1]['image'].strip('/'),item[1]['content'][:140],item[1]['content'])\n",
    "        connection.commit()\n",
    "        sta=cursor.execute(query_sql)\n",
    "connection.close()        "
   ]
  },
  {
   "cell_type": "markdown",
   "metadata": {
    "run_control": {
     "frozen": false,
     "read_only": false
    }
   },
   "source": [
    "### 保存文件"
   ]
  },
  {
   "cell_type": "code",
   "execution_count": 71,
   "metadata": {
    "collapsed": true,
    "run_control": {
     "frozen": false,
     "read_only": false
    }
   },
   "outputs": [],
   "source": [
    "import json\n",
    "\n"
   ]
  },
  {
   "cell_type": "code",
   "execution_count": null,
   "metadata": {
    "collapsed": true
   },
   "outputs": [],
   "source": []
  },
  {
   "cell_type": "markdown",
   "metadata": {},
   "source": [
    "## 并行爬虫"
   ]
  },
  {
   "cell_type": "markdown",
   "metadata": {},
   "source": [
    "https://github.com/angelapper/500lines/tree/master/crawler"
   ]
  }
 ],
 "metadata": {
  "kernelspec": {
   "display_name": "Python 3",
   "language": "python",
   "name": "python3"
  },
  "language_info": {
   "codemirror_mode": {
    "name": "ipython",
    "version": 3
   },
   "file_extension": ".py",
   "mimetype": "text/x-python",
   "name": "python",
   "nbconvert_exporter": "python",
   "pygments_lexer": "ipython3",
   "version": "3.7.4"
  }
 },
 "nbformat": 4,
 "nbformat_minor": 2
}
