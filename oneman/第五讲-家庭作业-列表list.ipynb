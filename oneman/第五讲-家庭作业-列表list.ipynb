{
 "cells": [
  {
   "cell_type": "markdown",
   "metadata": {},
   "source": [
    "## 列表list家庭作业"
   ]
  },
  {
   "cell_type": "code",
   "execution_count": null,
   "metadata": {},
   "outputs": [],
   "source": [
    "# 数据准备要求：\n",
    "# 1.拟定一组用户数据可以是你的同事、你的同学\n",
    "# 2.总数据数量不低于5个\n",
    "# 3.全部数据放在一个列表中（需要列表嵌套）\n",
    "# 4.每个人数据需要包含姓名、性别、年龄、籍贯\n",
    "\n",
    "# 输出要求：\n",
    "# 1.请将男同胞放在一个新列表中（统计数量）\n",
    "# 2.请将女同胞放在一个新列表中（统计数量）\n",
    "# 3.请将年龄大于30岁的人放在一个列表中（统计数量）\n",
    "# 4.找出最大和最小年龄分别是多少\n",
    "# 5.将所有人的籍贯放在一个新列表中\n",
    "\n",
    "#重点是数据读取 和 append 添加"
   ]
  },
  {
   "cell_type": "code",
   "execution_count": 6,
   "metadata": {},
   "outputs": [
    {
     "name": "stdout",
     "output_type": "stream",
     "text": [
      "['张宇', '男', 24, '河北']\n",
      "['王丽娜', '女', 33, '陕西']\n",
      "['李萍', '女', 28, '山东']\n",
      "['徐晴', '女', 25, '四川']\n",
      "['马潇潇', '男', 34, '四川']\n",
      "['张晓', '男', 27, '陕西']\n"
     ]
    }
   ],
   "source": [
    "#原始数据，需要被处理的数据\n",
    "friends=[\n",
    "    ['张宇', '男', 24, '河北'],\n",
    "    ['王丽娜','女',33, '陕西'],\n",
    "    ['李萍', '女',28, '山东'],\n",
    "    ['徐晴', '女',25, '四川'],\n",
    "    ['马潇潇', '男', 34, '四川'],\n",
    "    ['张晓', '男', 27, '陕西']\n",
    "]\n",
    "\n",
    "l_male=[]\n",
    "l_female=[]\n",
    "l_age30=[]\n",
    "l_place=[]\n",
    "l_all_age=[]\n",
    "\n",
    "for friend in friends:\n",
    "    print(friend)\n",
    "    if friend[1]=='男':\n",
    "        l_male.append(friend)\n",
    "        if friend[3] not in l_place:\n",
    "            l_place.append(friend[3])\n",
    "        if friend[2]>30:\n",
    "            l_age30.append(friend)           \n",
    "    else:\n",
    "        l_female.append(friend)\n",
    "        if friend[3] not in l_place:\n",
    "            l_place.append(friend[3])\n",
    "        if friend[2]>30:\n",
    "            l_age30.append(friend)"
   ]
  },
  {
   "cell_type": "code",
   "execution_count": 7,
   "metadata": {},
   "outputs": [],
   "source": [
    " #计算最大最小年龄\n",
    "for friend in friends:\n",
    "    l_all_age.append(friend[2])\n",
    "age_max=max(l_all_age)\n",
    "age_min=min(l_all_age)\n",
    "    "
   ]
  },
  {
   "cell_type": "code",
   "execution_count": 8,
   "metadata": {},
   "outputs": [
    {
     "name": "stdout",
     "output_type": "stream",
     "text": [
      "男生名单：[['张宇', '男', 24, '河北'], ['马潇潇', '男', 34, '四川'], ['张晓', '男', 27, '陕西']],男生数量：3\n",
      "女生名单：[['王丽娜', '女', 33, '陕西'], ['李萍', '女', 28, '山东'], ['徐晴', '女', 25, '四川']],女生数量：3\n",
      "年龄大于30岁名单：[['王丽娜', '女', 33, '陕西'], ['马潇潇', '男', 34, '四川']],数量：2,\n",
      "最大年龄：34,最小年龄24,\n",
      "籍贯列表：['河北', '陕西', '山东', '四川']\n"
     ]
    }
   ],
   "source": [
    "\n",
    "print(f'男生名单：{l_male},男生数量：{len(l_male)}\\n女生名单：{l_female},女生数量：{len(l_female)}\\n年龄大于30岁名单：{l_age30},数量：{len(l_age30)},\\n最大年龄：{age_max},最小年龄{age_min},\\n籍贯列表：{l_place}')\n",
    "\n"
   ]
  },
  {
   "cell_type": "code",
   "execution_count": null,
   "metadata": {},
   "outputs": [],
   "source": []
  }
 ],
 "metadata": {
  "kernelspec": {
   "display_name": "Python 3",
   "language": "python",
   "name": "python3"
  },
  "language_info": {
   "codemirror_mode": {
    "name": "ipython",
    "version": 3
   },
   "file_extension": ".py",
   "mimetype": "text/x-python",
   "name": "python",
   "nbconvert_exporter": "python",
   "pygments_lexer": "ipython3",
   "version": "3.7.6"
  }
 },
 "nbformat": 4,
 "nbformat_minor": 4
}
