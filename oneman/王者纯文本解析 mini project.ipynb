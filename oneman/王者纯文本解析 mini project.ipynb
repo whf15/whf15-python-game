{
 "cells": [
  {
   "cell_type": "markdown",
   "metadata": {},
   "source": [
    "## 小项目1， 王者信息提取\n",
    "\n",
    "### 目的：提取以下文本中，英雄名称，头像图片链接，英雄信息链接\n",
    "### 素材：截取的王者荣耀英雄列表HTML文本\n",
    "### 结果输出样例：\n",
    "```\n",
    "http://game.gtimg.cn/images/yxzj/img201606/heroimg/194/194.jpg\n",
    "苏烈\n",
    "herodetail/195.shtml\n",
    "\n",
    "http://game.gtimg.cn/images/yxzj/img201606/heroimg/195/195.jpg\n",
    "百里玄策\n",
    "herodetail/196.shtml\n",
    "\n",
    "http://game.gtimg.cn/images/yxzj/img201606/heroimg/196/196.jpg\n",
    "百里守约\n",
    "herodetail/193.shtml\n",
    "```"
   ]
  },
  {
   "cell_type": "markdown",
   "metadata": {
    "run_control": {
     "frozen": false,
     "read_only": false
    }
   },
   "source": [
    "<ul class=\"herolist clearfix\"><li><a href=\"herodetail/194.shtml\" target=\"_blank\"><img src=\"http://game.gtimg.cn/images/yxzj/img201606/heroimg/194/194.jpg\" width=\"91px\" alt=\"苏烈\">苏烈</a></li><li><a href=\"herodetail/195.shtml\" target=\"_blank\"><img src=\"http://game.gtimg.cn/images/yxzj/img201606/heroimg/195/195.jpg\" width=\"91px\" alt=\"百里玄策\">百里玄策</a></li><li><a href=\"herodetail/196.shtml\" target=\"_blank\"><img src=\"http://game.gtimg.cn/images/yxzj/img201606/heroimg/196/196.jpg\" width=\"91px\" alt=\"百里守约\">百里守约</a></li><li><a href=\"herodetail/193.shtml\" target=\"_blank\"><img src=\"http://game.gtimg.cn/images/yxzj/img201606/heroimg/193/193.jpg\" width=\"91px\" alt=\"铠\">铠</a></li></ul>"
   ]
  },
  {
   "cell_type": "code",
   "execution_count": 1,
   "metadata": {
    "collapsed": true
   },
   "outputs": [],
   "source": [
    "page_hero = '''<ul class=\"herolist clearfix\"><li><a href=\"herodetail/194.shtml\" target=\"_blank\"><img src=\"http://game.gtimg.cn/images/yxzj/img201606/heroimg/194/194.jpg\" width=\"91px\" alt=\"苏烈\">苏烈</a></li><li><a href=\"herodetail/195.shtml\" target=\"_blank\"><img src=\"http://game.gtimg.cn/images/yxzj/img201606/heroimg/195/195.jpg\" width=\"91px\" alt=\"百里玄策\">百里玄策</a></li><li><a href=\"herodetail/196.shtml\" target=\"_blank\"><img src=\"http://game.gtimg.cn/images/yxzj/img201606/heroimg/196/196.jpg\" width=\"91px\" alt=\"百里守约\">百里守约</a></li><li><a href=\"herodetail/193.shtml\" target=\"_blank\"><img src=\"http://game.gtimg.cn/images/yxzj/img201606/heroimg/193/193.jpg\" width=\"91px\" alt=\"铠\">铠</a></li></ul>\n",
    "'''"
   ]
  },
  {
   "cell_type": "code",
   "execution_count": null,
   "metadata": {
    "collapsed": true
   },
   "outputs": [],
   "source": [
    "## Your Code"
   ]
  }
 ],
 "metadata": {
  "kernelspec": {
   "display_name": "Python 3",
   "language": "python",
   "name": "python3"
  },
  "language_info": {
   "codemirror_mode": {
    "name": "ipython",
    "version": 3
   },
   "file_extension": ".py",
   "mimetype": "text/x-python",
   "name": "python",
   "nbconvert_exporter": "python",
   "pygments_lexer": "ipython3",
   "version": "3.6.3"
  }
 },
 "nbformat": 4,
 "nbformat_minor": 2
}
