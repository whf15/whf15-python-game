{
 "cells": [
  {
   "cell_type": "markdown",
   "metadata": {},
   "source": [
    "# “一比高下”"
   ]
  },
  {
   "cell_type": "code",
   "execution_count": null,
   "metadata": {},
   "outputs": [],
   "source": [
    "# 任务描述：\n",
    "\n",
    "# 使用逻辑运算描述你购买一件家用电器的过程。\n",
    "\n",
    "# 任务推导：\n",
    "\n",
    "# 从价格、口碑、销量三个方面入手。注意比较的顺序代表了你对该产品的选择优先级，顺序根据自己喜好。\n",
    "\n",
    "# 任务要求：\n",
    "# 1.拟定2个品牌，每个品牌的价格、口碑、销量需要进行量化\n",
    "# 2.量化后应用逻辑运算进行比较，选择最优。\n",
    "# 3.需要使用单一条件比较可配合多条件比较"
   ]
  },
  {
   "cell_type": "code",
   "execution_count": 6,
   "metadata": {},
   "outputs": [],
   "source": [
    "brand_1 = '小米'\n",
    "product_1 = '电视'\n",
    "price_1 = 3500\n",
    "positive_feedback_1 = 4000\n",
    "unit_sold_1 = 700\n",
    "\n",
    "brand_2 = '长虹'\n",
    "product_2 = '电视'\n",
    "price_2 = 4200\n",
    "positive_feedback_2 = 3800\n",
    "unit_sold_2 = 600\n"
   ]
  },
  {
   "cell_type": "markdown",
   "metadata": {},
   "source": [
    "### 第一种比较方法 条件独立比较"
   ]
  },
  {
   "cell_type": "code",
   "execution_count": 7,
   "metadata": {},
   "outputs": [
    {
     "data": {
      "text/plain": [
       "True"
      ]
     },
     "execution_count": 7,
     "metadata": {},
     "output_type": "execute_result"
    }
   ],
   "source": [
    "#第一 优先选择价格 - 低价优先\n",
    "(price_1 < price_2)"
   ]
  },
  {
   "cell_type": "code",
   "execution_count": 8,
   "metadata": {},
   "outputs": [
    {
     "data": {
      "text/plain": [
       "True"
      ]
     },
     "execution_count": 8,
     "metadata": {},
     "output_type": "execute_result"
    }
   ],
   "source": [
    "#第二 优先看好评 - 好评多优先\n",
    "(positive_feedback_1 > positive_feedback_2)"
   ]
  },
  {
   "cell_type": "code",
   "execution_count": 9,
   "metadata": {},
   "outputs": [
    {
     "data": {
      "text/plain": [
       "True"
      ]
     },
     "execution_count": 9,
     "metadata": {},
     "output_type": "execute_result"
    }
   ],
   "source": [
    "#第三 优先看销量 - 销量多优先\n",
    "(unit_sold_1 > unit_sold_2)\n"
   ]
  },
  {
   "cell_type": "markdown",
   "metadata": {},
   "source": [
    "### 第二种比较方法 多条件比较"
   ]
  },
  {
   "cell_type": "code",
   "execution_count": 10,
   "metadata": {},
   "outputs": [
    {
     "data": {
      "text/plain": [
       "True"
      ]
     },
     "execution_count": 10,
     "metadata": {},
     "output_type": "execute_result"
    }
   ],
   "source": [
    "(price_1 < price_2) and (positive_feedback_1 > positive_feedback_2) and (unit_sold_1 > unit_sold_2)"
   ]
  },
  {
   "cell_type": "markdown",
   "metadata": {},
   "source": [
    "### 第三种比较方法  or 和 and 联合使用"
   ]
  },
  {
   "cell_type": "code",
   "execution_count": 15,
   "metadata": {},
   "outputs": [
    {
     "data": {
      "text/plain": [
       "True"
      ]
     },
     "execution_count": 15,
     "metadata": {},
     "output_type": "execute_result"
    }
   ],
   "source": [
    "#and 和 or 联合比较 注意and 比较优先级高于or 换句话说 先进行and 再进行or\n",
    "#    价格最低和好评最多  或者 价格最低和销量最大 二者皆可 \n",
    "(price_1 < price_2) and (positive_feedback_1 > positive_feedback_2) or (price_1 < price_2) and (unit_sold_1 > unit_sold_2)"
   ]
  }
 ],
 "metadata": {
  "kernelspec": {
   "display_name": "Python 3",
   "language": "python",
   "name": "python3"
  },
  "language_info": {
   "codemirror_mode": {
    "name": "ipython",
    "version": 3
   },
   "file_extension": ".py",
   "mimetype": "text/x-python",
   "name": "python",
   "nbconvert_exporter": "python",
   "pygments_lexer": "ipython3",
   "version": "3.7.6"
  }
 },
 "nbformat": 4,
 "nbformat_minor": 4
}
