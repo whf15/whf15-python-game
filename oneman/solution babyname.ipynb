{
 "cells": [
  {
   "cell_type": "markdown",
   "metadata": {
    "run_control": {
     "frozen": false,
     "read_only": false
    }
   },
   "source": [
    "In the babynames.py file, implement the extract_names(filename) function which takes the filename of a baby1990.html file and returns the data from the file as a single list -- the year string at the start of the list followed by the name-rank strings in alphabetical order. ['2006', 'Aaliyah 91', 'Abagail 895', 'Aaron 57', ...]. \n",
    "\n",
    "提取名字，并且按照首字母顺序排列\n",
    "\n",
    "\n",
    "Rather than treat the boy and girl names separately, we'll just lump them all together. In some years, a name appears more than once in the html, but we'll just use one number per name. \n",
    "\n",
    "男名，女名，统一处理。 重复的名字如何处理？\n",
    "\n",
    "\n",
    "Build the program as a series of small milestones, getting each step to run/print something before trying the next step. This is the pattern used by experienced programmers -- build a series of incremental milestones, each with some output to check, rather than building the whole program in one huge step.\n",
    "\n",
    "Printing the data you have at the end of one milestone helps you think about how to re-structure that data for the next milestone. Python is well suited to this style of incremental development. For example, first get it to the point where it extracts and prints the year and calls sys.exit(0). Here are some suggested milestones:\n",
    "\n",
    "Extract all the text from the file and print it\n",
    "Find and extract the year and print it\n",
    "Extract the names and rank numbers and print them\n",
    "Get the names data into a dict and print it\n",
    "Build the [year, 'name rank', ... ] list and print it\n",
    "Fix main() to use the ExtractNames list\n",
    "Earlier we have had functions just print to standard out. It's more re-usable to have the function *return* the extracted data, so then the caller has the choice to print it or do something else with it. (You can still print directly from inside your functions for your little experiments during development.)\n",
    "\n",
    "Have main() call extract_names() for each command line arg and print a text summary. To make the list into a reasonable looking summary text, here's a clever use of join: text = '\\n'.join(mylist) + '\\n'\n",
    "\n",
    "The summary text should look like this for each file:"
   ]
  },
  {
   "cell_type": "code",
   "execution_count": null,
   "metadata": {
    "collapsed": true
   },
   "outputs": [],
   "source": []
  },
  {
   "cell_type": "code",
   "execution_count": 5,
   "metadata": {
    "collapsed": true
   },
   "outputs": [],
   "source": [
    "import re"
   ]
  },
  {
   "cell_type": "code",
   "execution_count": 10,
   "metadata": {
    "collapsed": false,
    "run_control": {
     "frozen": false,
     "read_only": false
    }
   },
   "outputs": [
    {
     "name": "stderr",
     "output_type": "stream",
     "text": [
      "/Users/joshuaz/env-py36/lib/python3.6/site-packages/ipykernel/__main__.py:9: DeprecationWarning: 'U' mode is deprecated\n"
     ]
    }
   ],
   "source": [
    "\n",
    "summary=True\n",
    "for filename in [\"baby1990.html\",\"baby1992.html\"]:\n",
    "    names = extract_names(filename)\n",
    "    text = '\\n'.join(names)\n",
    "    if summary:\n",
    "        outf = open(filename + '.summary', 'w')\n",
    "        outf.write(text + '\\n')\n",
    "        outf.close()\n",
    "    else:\n",
    "        print(text)"
   ]
  },
  {
   "cell_type": "code",
   "execution_count": 9,
   "metadata": {
    "collapsed": true,
    "run_control": {
     "frozen": false,
     "read_only": false
    }
   },
   "outputs": [],
   "source": [
    "def extract_names(filename):\n",
    "    \"\"\"\n",
    "    Given a file name for baby.html, returns a list starting with the year string\n",
    "    followed by the name-rank strings in alphabetical order.\n",
    "    ['2006', 'Aaliyah 91', Aaron 57', 'Abagail 895', ' ...]\n",
    "    \"\"\"\n",
    "    names = []\n",
    "  \n",
    "    f = open(filename, 'rU')\n",
    "    text = f.read()\n",
    "    # Could process the file line-by-line, but regex on the whole text\n",
    "    # at once is even easier.\n",
    "  \n",
    "    # Get the year.\n",
    "    year_match = re.search(r'Popularity\\sin\\s(\\d\\d\\d\\d)', text)\n",
    "    if not year_match:\n",
    "        # We didn't find a year, so we'll exit with an error message.\n",
    "        sys.stderr.write('Couldn\\'t find the year!\\n')\n",
    "        sys.exit(1)\n",
    "    year = year_match.group(1)\n",
    "    names.append(year)\n",
    "  \n",
    "    # Extract all the data tuples with a findall()\n",
    "    # each tuple is: (rank, boy-name, girl-name)\n",
    "    tuples = re.findall(r'<td>(\\d+)</td><td>(\\w+)</td>\\<td>(\\w+)</td>', text)\n",
    "    #print tuples\n",
    "  \n",
    "    # Store data into a dict using each name as a key and that\n",
    "    # name's rank number as the value.\n",
    "    # (if the name is already in there, don't add it, since\n",
    "    # this new rank will be bigger than the previous rank).\n",
    "    names_to_rank =  {}\n",
    "    for rank_tuple in tuples:\n",
    "        (rank, boyname, girlname) = rank_tuple  # unpack the tuple into 3 vars\n",
    "        if boyname not in names_to_rank:\n",
    "            names_to_rank[boyname] = rank\n",
    "        if girlname not in names_to_rank:\n",
    "            names_to_rank[girlname] = rank\n",
    "\n",
    "    # You can also write:\n",
    "    # for rank, boyname, girlname in tuples:\n",
    "    #   ...\n",
    "    # To unpack the tuples inside a for-loop.\n",
    "  \n",
    "    # Get the names, sorted in the right order\n",
    "    sorted_names = sorted(names_to_rank.keys())\n",
    "  \n",
    "    # Build up result list, one element per line\n",
    "    for name in sorted_names:\n",
    "        names.append(name + \" \" + names_to_rank[name])\n",
    "    return names"
   ]
  },
  {
   "cell_type": "code",
   "execution_count": null,
   "metadata": {
    "collapsed": true,
    "run_control": {
     "frozen": false,
     "read_only": false
    }
   },
   "outputs": [],
   "source": []
  }
 ],
 "metadata": {
  "kernelspec": {
   "display_name": "Python 3",
   "language": "python",
   "name": "python3"
  },
  "language_info": {
   "codemirror_mode": {
    "name": "ipython",
    "version": 3
   },
   "file_extension": ".py",
   "mimetype": "text/x-python",
   "name": "python",
   "nbconvert_exporter": "python",
   "pygments_lexer": "ipython3",
   "version": "3.6.0"
  }
 },
 "nbformat": 4,
 "nbformat_minor": 2
}
