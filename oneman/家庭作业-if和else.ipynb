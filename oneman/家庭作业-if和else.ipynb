{
 "cells": [
  {
   "cell_type": "markdown",
   "metadata": {},
   "source": [
    "# 判断 if 和 else"
   ]
  },
  {
   "cell_type": "markdown",
   "metadata": {},
   "source": [
    "### 淘宝商家们的套路满满"
   ]
  },
  {
   "cell_type": "markdown",
   "metadata": {},
   "source": [
    "优惠条件：\n",
    "前提条件：如果关注本店铺，可以领取10元无门槛优惠券。\n",
    "1.总购物金额大于等于500元，可使用满减优惠券100元，包邮\n",
    "2.总购物金额大于等于300元，可使用满减优惠券50元，包邮\n",
    "3.总购物金额大于等于100元，可使用满减优惠券20元，包邮\n",
    "4.总购物金额小于100元，没有满减券，并且增加10元运费"
   ]
  },
  {
   "cell_type": "code",
   "execution_count": null,
   "metadata": {},
   "outputs": [],
   "source": [
    "#关注状态\n",
    "is_followed = True\n",
    "#关注折扣\n",
    "follower_discount = 10\n",
    "#满减折扣\n",
    "discount_500 = 100\n",
    "discount_300 = 50\n",
    "discount_100 = 20\n",
    "#邮费\n",
    "shipment_cost = 10\n",
    "\n",
    "#我的购物总金额\n",
    "shopping_total = 80"
   ]
  },
  {
   "cell_type": "code",
   "execution_count": null,
   "metadata": {},
   "outputs": [],
   "source": [
    "if shopping_total >= 500:\n",
    "    if is_followed == True:\n",
    "        final_pay = shopping_total - discount_500 - follower_discount \n",
    "        print(final_pay)\n",
    "    else:\n",
    "        final_pay = shopping_total - discount_500\n",
    "        print(final_pay)\n",
    "        \n",
    "elif shopping_total >= 300:\n",
    "    if is_followed == True:\n",
    "        final_pay = shopping_total - discount_300 - follower_discount \n",
    "        print(final_pay)\n",
    "    else:\n",
    "        final_pay = shopping_total - discount_300\n",
    "        print(final_pay)\n",
    "        \n",
    "elif shopping_total >= 100:\n",
    "    if is_followed == True:\n",
    "        final_pay = shopping_total - discount_100 - follower_discount \n",
    "        print(final_pay)\n",
    "    else:\n",
    "        final_pay = shopping_total - discount_100\n",
    "        print(final_pay)\n",
    "\n",
    "else:\n",
    "    if is_followed == True:\n",
    "        final_pay = shopping_total + shipment_cost - follower_discount\n",
    "        print(final_pay)\n",
    "    else:\n",
    "        final_pay = shopping_total + shipment_cost\n",
    "        print(final_pay)\n",
    "        \n",
    "        \n",
    "    "
   ]
  },
  {
   "cell_type": "code",
   "execution_count": null,
   "metadata": {},
   "outputs": [],
   "source": []
  }
 ],
 "metadata": {
  "kernelspec": {
   "display_name": "Python 3",
   "language": "python",
   "name": "python3"
  },
  "language_info": {
   "codemirror_mode": {
    "name": "ipython",
    "version": 3
   },
   "file_extension": ".py",
   "mimetype": "text/x-python",
   "name": "python",
   "nbconvert_exporter": "python",
   "pygments_lexer": "ipython3",
   "version": "3.7.6"
  }
 },
 "nbformat": 4,
 "nbformat_minor": 4
}
